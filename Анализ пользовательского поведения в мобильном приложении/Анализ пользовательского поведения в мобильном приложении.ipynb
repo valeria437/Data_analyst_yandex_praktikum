{
 "cells": [
  {
   "cell_type": "markdown",
   "metadata": {},
   "source": [
    "# Шаг 1. Откроем файл с данными и изучите общую информацию"
   ]
  },
  {
   "cell_type": "code",
   "execution_count": 1,
   "metadata": {},
   "outputs": [],
   "source": [
    "import pandas as pd\n",
    "import numpy as np\n",
    "import matplotlib.pyplot as plt\n",
    "import seaborn as sns\n",
    "from IPython.display import display\n",
    "import math as mth\n",
    "from scipy import stats as st"
   ]
  },
  {
   "cell_type": "code",
   "execution_count": 2,
   "metadata": {},
   "outputs": [
    {
     "data": {
      "text/html": [
       "<div>\n",
       "<style scoped>\n",
       "    .dataframe tbody tr th:only-of-type {\n",
       "        vertical-align: middle;\n",
       "    }\n",
       "\n",
       "    .dataframe tbody tr th {\n",
       "        vertical-align: top;\n",
       "    }\n",
       "\n",
       "    .dataframe thead th {\n",
       "        text-align: right;\n",
       "    }\n",
       "</style>\n",
       "<table border=\"1\" class=\"dataframe\">\n",
       "  <thead>\n",
       "    <tr style=\"text-align: right;\">\n",
       "      <th></th>\n",
       "      <th>EventName</th>\n",
       "      <th>DeviceIDHash</th>\n",
       "      <th>EventTimestamp</th>\n",
       "      <th>ExpId</th>\n",
       "    </tr>\n",
       "  </thead>\n",
       "  <tbody>\n",
       "    <tr>\n",
       "      <th>0</th>\n",
       "      <td>MainScreenAppear</td>\n",
       "      <td>4575588528974610257</td>\n",
       "      <td>1564029816</td>\n",
       "      <td>246</td>\n",
       "    </tr>\n",
       "    <tr>\n",
       "      <th>1</th>\n",
       "      <td>MainScreenAppear</td>\n",
       "      <td>7416695313311560658</td>\n",
       "      <td>1564053102</td>\n",
       "      <td>246</td>\n",
       "    </tr>\n",
       "    <tr>\n",
       "      <th>2</th>\n",
       "      <td>PaymentScreenSuccessful</td>\n",
       "      <td>3518123091307005509</td>\n",
       "      <td>1564054127</td>\n",
       "      <td>248</td>\n",
       "    </tr>\n",
       "    <tr>\n",
       "      <th>3</th>\n",
       "      <td>CartScreenAppear</td>\n",
       "      <td>3518123091307005509</td>\n",
       "      <td>1564054127</td>\n",
       "      <td>248</td>\n",
       "    </tr>\n",
       "    <tr>\n",
       "      <th>4</th>\n",
       "      <td>PaymentScreenSuccessful</td>\n",
       "      <td>6217807653094995999</td>\n",
       "      <td>1564055322</td>\n",
       "      <td>248</td>\n",
       "    </tr>\n",
       "  </tbody>\n",
       "</table>\n",
       "</div>"
      ],
      "text/plain": [
       "                 EventName         DeviceIDHash  EventTimestamp  ExpId\n",
       "0         MainScreenAppear  4575588528974610257      1564029816    246\n",
       "1         MainScreenAppear  7416695313311560658      1564053102    246\n",
       "2  PaymentScreenSuccessful  3518123091307005509      1564054127    248\n",
       "3         CartScreenAppear  3518123091307005509      1564054127    248\n",
       "4  PaymentScreenSuccessful  6217807653094995999      1564055322    248"
      ]
     },
     "execution_count": 2,
     "metadata": {},
     "output_type": "execute_result"
    }
   ],
   "source": [
    "data = pd.read_csv('/datasets/logs_exp.csv', sep='\\t')\n",
    "data.head()"
   ]
  },
  {
   "cell_type": "code",
   "execution_count": null,
   "metadata": {},
   "outputs": [],
   "source": []
  },
  {
   "cell_type": "markdown",
   "metadata": {},
   "source": [
    "# Шаг 2. Подготовка данных"
   ]
  },
  {
   "cell_type": "markdown",
   "metadata": {},
   "source": [
    "Заменим названия столбцов"
   ]
  },
  {
   "cell_type": "code",
   "execution_count": 3,
   "metadata": {},
   "outputs": [],
   "source": [
    "data.columns = ['event_name', 'device_id', 'event_date', 'experiment_id']"
   ]
  },
  {
   "cell_type": "markdown",
   "metadata": {},
   "source": [
    "Проверим пропуски и типы данных"
   ]
  },
  {
   "cell_type": "code",
   "execution_count": 4,
   "metadata": {},
   "outputs": [
    {
     "name": "stdout",
     "output_type": "stream",
     "text": [
      "<class 'pandas.core.frame.DataFrame'>\n",
      "RangeIndex: 244126 entries, 0 to 244125\n",
      "Data columns (total 4 columns):\n",
      " #   Column         Non-Null Count   Dtype \n",
      "---  ------         --------------   ----- \n",
      " 0   event_name     244126 non-null  object\n",
      " 1   device_id      244126 non-null  int64 \n",
      " 2   event_date     244126 non-null  int64 \n",
      " 3   experiment_id  244126 non-null  int64 \n",
      "dtypes: int64(3), object(1)\n",
      "memory usage: 7.5+ MB\n"
     ]
    }
   ],
   "source": [
    "data.info()"
   ]
  },
  {
   "cell_type": "code",
   "execution_count": 5,
   "metadata": {},
   "outputs": [],
   "source": [
    "#Откорректируем типы данных\n",
    "\n",
    "data['event_date'] = pd.to_datetime(data['event_date'], unit='s')\n",
    "data['device_id'] = data['device_id'].astype(str)\n",
    "data['experiment_id'] = data['experiment_id'].astype(str)"
   ]
  },
  {
   "cell_type": "code",
   "execution_count": 6,
   "metadata": {},
   "outputs": [
    {
     "data": {
      "text/plain": [
       "413"
      ]
     },
     "execution_count": 6,
     "metadata": {},
     "output_type": "execute_result"
    }
   ],
   "source": [
    "# Проверим наличие дубликатов\n",
    "data.duplicated().sum()"
   ]
  },
  {
   "cell_type": "code",
   "execution_count": 7,
   "metadata": {},
   "outputs": [],
   "source": [
    "# Удалим дубликаты\n",
    "data = data.drop_duplicates()"
   ]
  },
  {
   "cell_type": "code",
   "execution_count": 8,
   "metadata": {},
   "outputs": [
    {
     "name": "stdout",
     "output_type": "stream",
     "text": [
      "<class 'pandas.core.frame.DataFrame'>\n",
      "Int64Index: 243713 entries, 0 to 244125\n",
      "Data columns (total 4 columns):\n",
      " #   Column         Non-Null Count   Dtype         \n",
      "---  ------         --------------   -----         \n",
      " 0   event_name     243713 non-null  object        \n",
      " 1   device_id      243713 non-null  object        \n",
      " 2   event_date     243713 non-null  datetime64[ns]\n",
      " 3   experiment_id  243713 non-null  object        \n",
      "dtypes: datetime64[ns](1), object(3)\n",
      "memory usage: 9.3+ MB\n"
     ]
    }
   ],
   "source": [
    "data.info()"
   ]
  },
  {
   "cell_type": "markdown",
   "metadata": {},
   "source": [
    "Добавим столбец даты и времени"
   ]
  },
  {
   "cell_type": "code",
   "execution_count": 9,
   "metadata": {},
   "outputs": [],
   "source": [
    "data['date'] = data['event_date'].dt.date"
   ]
  },
  {
   "cell_type": "code",
   "execution_count": 10,
   "metadata": {
    "scrolled": true
   },
   "outputs": [
    {
     "data": {
      "text/html": [
       "<div>\n",
       "<style scoped>\n",
       "    .dataframe tbody tr th:only-of-type {\n",
       "        vertical-align: middle;\n",
       "    }\n",
       "\n",
       "    .dataframe tbody tr th {\n",
       "        vertical-align: top;\n",
       "    }\n",
       "\n",
       "    .dataframe thead th {\n",
       "        text-align: right;\n",
       "    }\n",
       "</style>\n",
       "<table border=\"1\" class=\"dataframe\">\n",
       "  <thead>\n",
       "    <tr style=\"text-align: right;\">\n",
       "      <th></th>\n",
       "      <th>event_name</th>\n",
       "      <th>device_id</th>\n",
       "      <th>event_date</th>\n",
       "      <th>experiment_id</th>\n",
       "      <th>date</th>\n",
       "    </tr>\n",
       "  </thead>\n",
       "  <tbody>\n",
       "    <tr>\n",
       "      <th>0</th>\n",
       "      <td>MainScreenAppear</td>\n",
       "      <td>4575588528974610257</td>\n",
       "      <td>2019-07-25 04:43:36</td>\n",
       "      <td>246</td>\n",
       "      <td>2019-07-25</td>\n",
       "    </tr>\n",
       "    <tr>\n",
       "      <th>1</th>\n",
       "      <td>MainScreenAppear</td>\n",
       "      <td>7416695313311560658</td>\n",
       "      <td>2019-07-25 11:11:42</td>\n",
       "      <td>246</td>\n",
       "      <td>2019-07-25</td>\n",
       "    </tr>\n",
       "    <tr>\n",
       "      <th>2</th>\n",
       "      <td>PaymentScreenSuccessful</td>\n",
       "      <td>3518123091307005509</td>\n",
       "      <td>2019-07-25 11:28:47</td>\n",
       "      <td>248</td>\n",
       "      <td>2019-07-25</td>\n",
       "    </tr>\n",
       "    <tr>\n",
       "      <th>3</th>\n",
       "      <td>CartScreenAppear</td>\n",
       "      <td>3518123091307005509</td>\n",
       "      <td>2019-07-25 11:28:47</td>\n",
       "      <td>248</td>\n",
       "      <td>2019-07-25</td>\n",
       "    </tr>\n",
       "    <tr>\n",
       "      <th>4</th>\n",
       "      <td>PaymentScreenSuccessful</td>\n",
       "      <td>6217807653094995999</td>\n",
       "      <td>2019-07-25 11:48:42</td>\n",
       "      <td>248</td>\n",
       "      <td>2019-07-25</td>\n",
       "    </tr>\n",
       "  </tbody>\n",
       "</table>\n",
       "</div>"
      ],
      "text/plain": [
       "                event_name            device_id          event_date  \\\n",
       "0         MainScreenAppear  4575588528974610257 2019-07-25 04:43:36   \n",
       "1         MainScreenAppear  7416695313311560658 2019-07-25 11:11:42   \n",
       "2  PaymentScreenSuccessful  3518123091307005509 2019-07-25 11:28:47   \n",
       "3         CartScreenAppear  3518123091307005509 2019-07-25 11:28:47   \n",
       "4  PaymentScreenSuccessful  6217807653094995999 2019-07-25 11:48:42   \n",
       "\n",
       "  experiment_id        date  \n",
       "0           246  2019-07-25  \n",
       "1           246  2019-07-25  \n",
       "2           248  2019-07-25  \n",
       "3           248  2019-07-25  \n",
       "4           248  2019-07-25  "
      ]
     },
     "execution_count": 10,
     "metadata": {},
     "output_type": "execute_result"
    }
   ],
   "source": [
    "data.head()"
   ]
  },
  {
   "cell_type": "markdown",
   "metadata": {},
   "source": [
    "Проверим не пересекаются ли пользователи в группах для чистоты тестирования."
   ]
  },
  {
   "cell_type": "code",
   "execution_count": 11,
   "metadata": {},
   "outputs": [
    {
     "data": {
      "text/html": [
       "<div>\n",
       "<style scoped>\n",
       "    .dataframe tbody tr th:only-of-type {\n",
       "        vertical-align: middle;\n",
       "    }\n",
       "\n",
       "    .dataframe tbody tr th {\n",
       "        vertical-align: top;\n",
       "    }\n",
       "\n",
       "    .dataframe thead th {\n",
       "        text-align: right;\n",
       "    }\n",
       "</style>\n",
       "<table border=\"1\" class=\"dataframe\">\n",
       "  <thead>\n",
       "    <tr style=\"text-align: right;\">\n",
       "      <th></th>\n",
       "      <th>device_id</th>\n",
       "      <th>experiment_id</th>\n",
       "    </tr>\n",
       "  </thead>\n",
       "  <tbody>\n",
       "  </tbody>\n",
       "</table>\n",
       "</div>"
      ],
      "text/plain": [
       "Empty DataFrame\n",
       "Columns: [device_id, experiment_id]\n",
       "Index: []"
      ]
     },
     "execution_count": 11,
     "metadata": {},
     "output_type": "execute_result"
    }
   ],
   "source": [
    "data.groupby('device_id')['experiment_id'].nunique().reset_index().query('experiment_id > 1')"
   ]
  },
  {
   "cell_type": "markdown",
   "metadata": {},
   "source": [
    "Пользователи не пересекаются в группах"
   ]
  },
  {
   "cell_type": "markdown",
   "metadata": {},
   "source": [
    "# Шаг 3. Изучаем и проверяем данные"
   ]
  },
  {
   "cell_type": "code",
   "execution_count": 12,
   "metadata": {},
   "outputs": [
    {
     "data": {
      "text/plain": [
       "5"
      ]
     },
     "execution_count": 12,
     "metadata": {},
     "output_type": "execute_result"
    }
   ],
   "source": [
    "len(data['event_name'].value_counts())"
   ]
  },
  {
   "cell_type": "markdown",
   "metadata": {},
   "source": [
    "В логе всего пять вариантов событий"
   ]
  },
  {
   "cell_type": "code",
   "execution_count": 13,
   "metadata": {},
   "outputs": [
    {
     "data": {
      "text/plain": [
       "7551"
      ]
     },
     "execution_count": 13,
     "metadata": {},
     "output_type": "execute_result"
    }
   ],
   "source": [
    "len(data['device_id'].value_counts())"
   ]
  },
  {
   "cell_type": "markdown",
   "metadata": {},
   "source": [
    "В логе зарегистрировано 7551 девайс"
   ]
  },
  {
   "cell_type": "code",
   "execution_count": 14,
   "metadata": {},
   "outputs": [
    {
     "data": {
      "text/plain": [
       "32.3"
      ]
     },
     "execution_count": 14,
     "metadata": {},
     "output_type": "execute_result"
    }
   ],
   "source": [
    "events = data.pivot_table(index='device_id',values='event_name',aggfunc='count')\n",
    "avg_events = round(events['event_name'].mean(), 1)\n",
    "avg_events"
   ]
  },
  {
   "cell_type": "markdown",
   "metadata": {},
   "source": [
    "В среднем 32 события приходится на пользователя"
   ]
  },
  {
   "cell_type": "code",
   "execution_count": 15,
   "metadata": {},
   "outputs": [
    {
     "data": {
      "text/plain": [
       "datetime.date(2019, 7, 25)"
      ]
     },
     "execution_count": 15,
     "metadata": {},
     "output_type": "execute_result"
    }
   ],
   "source": [
    "data['date'].min()"
   ]
  },
  {
   "cell_type": "code",
   "execution_count": 16,
   "metadata": {},
   "outputs": [
    {
     "data": {
      "text/plain": [
       "datetime.date(2019, 8, 7)"
      ]
     },
     "execution_count": 16,
     "metadata": {},
     "output_type": "execute_result"
    }
   ],
   "source": [
    "data['date'].max()"
   ]
  },
  {
   "cell_type": "markdown",
   "metadata": {},
   "source": [
    "Максимальная дата - 07.08.2019, минимальная дата - 25.07.2019"
   ]
  },
  {
   "cell_type": "code",
   "execution_count": null,
   "metadata": {},
   "outputs": [],
   "source": []
  },
  {
   "cell_type": "code",
   "execution_count": 17,
   "metadata": {},
   "outputs": [
    {
     "data": {
      "image/png": "[encoded data removed]",
      "text/plain": [
       "<Figure size 432x288 with 1 Axes>"
      ]
     },
     "metadata": {
      "needs_background": "light"
     },
     "output_type": "display_data"
    }
   ],
   "source": [
    "group246 = data.query('experiment_id == \"246\"')\n",
    "group246['date'].hist(bins = 14).set_title('Гистограмма по дате группы 246')\n",
    "plt.xlabel(\"Дата\")\n",
    "plt.ylabel(\"Кол-во\")\n",
    "plt.xticks(rotation=50) \n",
    "plt.show()\n",
    "from pandas.plotting import register_matplotlib_converters\n",
    "register_matplotlib_converters()"
   ]
  },
  {
   "cell_type": "code",
   "execution_count": 18,
   "metadata": {},
   "outputs": [
    {
     "data": {
      "image/png": "[encoded data removed]",
      "text/plain": [
       "<Figure size 432x288 with 1 Axes>"
      ]
     },
     "metadata": {
      "needs_background": "light"
     },
     "output_type": "display_data"
    }
   ],
   "source": [
    "group247 = data.query('experiment_id == \"247\"')\n",
    "group247['date'].hist(bins = 14).set_title('Гистограмма по дате группы 247')\n",
    "plt.xlabel(\"Дата\")\n",
    "plt.ylabel(\"Кол-во\")\n",
    "plt.xticks(rotation=50) \n",
    "plt.show()\n",
    "from pandas.plotting import register_matplotlib_converters\n",
    "register_matplotlib_converters()"
   ]
  },
  {
   "cell_type": "code",
   "execution_count": 19,
   "metadata": {},
   "outputs": [
    {
     "data": {
      "image/png": "[encoded data removed]",
      "text/plain": [
       "<Figure size 432x288 with 1 Axes>"
      ]
     },
     "metadata": {
      "needs_background": "light"
     },
     "output_type": "display_data"
    }
   ],
   "source": [
    "group248 = data.query('experiment_id == \"248\"')\n",
    "group248['date'].hist(bins = 14).set_title('Гистограмма по дате группы 248')\n",
    "plt.xlabel(\"Дата\")\n",
    "plt.ylabel(\"Кол-во\")\n",
    "plt.xticks(rotation=50) \n",
    "plt.show()\n",
    "from pandas.plotting import register_matplotlib_converters\n",
    "register_matplotlib_converters()"
   ]
  },
  {
   "cell_type": "markdown",
   "metadata": {},
   "source": [
    "По гистограмме видно, что до 01.08.201 совершается очень мало событий. Скорее всего как раз с этой даты все данные доехали, и можно оценивать результаты экспериментов."
   ]
  },
  {
   "cell_type": "code",
   "execution_count": 20,
   "metadata": {},
   "outputs": [
    {
     "data": {
      "image/png": "[encoded data removed]",
      "text/plain": [
       "<Figure size 432x288 with 1 Axes>"
      ]
     },
     "metadata": {
      "needs_background": "light"
     },
     "output_type": "display_data"
    }
   ],
   "source": [
    "data['date'] = pd.to_datetime(data['date'])\n",
    "data_new_data = data.query('date > \"2019-07-31\"')\n",
    "data_new_data['date'].hist(bins = 7).set_title('Гистограмма по дате')\n",
    "plt.xlabel(\"Дата\")\n",
    "plt.xticks(rotation=50) \n",
    "plt.show()"
   ]
  },
  {
   "cell_type": "markdown",
   "metadata": {},
   "source": [
    "Посмотрим, сколько событий было потеряно после фильтрации данных."
   ]
  },
  {
   "cell_type": "code",
   "execution_count": 21,
   "metadata": {
    "scrolled": true
   },
   "outputs": [
    {
     "data": {
      "text/plain": [
       "2826"
      ]
     },
     "execution_count": 21,
     "metadata": {},
     "output_type": "execute_result"
    }
   ],
   "source": [
    "data_old_data = data.query('date <= \"2019-07-31\"')\n",
    "len(data_old_data['event_name'])"
   ]
  },
  {
   "cell_type": "markdown",
   "metadata": {},
   "source": [
    "Теперь посмотрим, сколько пользователей потеряно при фильтрации данных."
   ]
  },
  {
   "cell_type": "code",
   "execution_count": 22,
   "metadata": {},
   "outputs": [
    {
     "name": "stdout",
     "output_type": "stream",
     "text": [
      "Было потеряно 5 пользователей\n"
     ]
    }
   ],
   "source": [
    "devices_lost = 0\n",
    "for row in data_new_data:\n",
    "    if row not in data_old_data['device_id'].unique():\n",
    "        devices_lost +=1 \n",
    "print('Было потеряно', devices_lost, 'пользователей')"
   ]
  },
  {
   "cell_type": "markdown",
   "metadata": {},
   "source": [
    "Проверим, что есть пользователи из всех трёх экспериментальных групп"
   ]
  },
  {
   "cell_type": "code",
   "execution_count": 23,
   "metadata": {},
   "outputs": [
    {
     "data": {
      "text/html": [
       "<div>\n",
       "<style scoped>\n",
       "    .dataframe tbody tr th:only-of-type {\n",
       "        vertical-align: middle;\n",
       "    }\n",
       "\n",
       "    .dataframe tbody tr th {\n",
       "        vertical-align: top;\n",
       "    }\n",
       "\n",
       "    .dataframe thead th {\n",
       "        text-align: right;\n",
       "    }\n",
       "</style>\n",
       "<table border=\"1\" class=\"dataframe\">\n",
       "  <thead>\n",
       "    <tr style=\"text-align: right;\">\n",
       "      <th></th>\n",
       "      <th>device_id</th>\n",
       "    </tr>\n",
       "    <tr>\n",
       "      <th>experiment_id</th>\n",
       "      <th></th>\n",
       "    </tr>\n",
       "  </thead>\n",
       "  <tbody>\n",
       "    <tr>\n",
       "      <th>246</th>\n",
       "      <td>2484</td>\n",
       "    </tr>\n",
       "    <tr>\n",
       "      <th>247</th>\n",
       "      <td>2513</td>\n",
       "    </tr>\n",
       "    <tr>\n",
       "      <th>248</th>\n",
       "      <td>2537</td>\n",
       "    </tr>\n",
       "  </tbody>\n",
       "</table>\n",
       "</div>"
      ],
      "text/plain": [
       "               device_id\n",
       "experiment_id           \n",
       "246                 2484\n",
       "247                 2513\n",
       "248                 2537"
      ]
     },
     "execution_count": 23,
     "metadata": {},
     "output_type": "execute_result"
    }
   ],
   "source": [
    "data_new_data.groupby('experiment_id').agg({'device_id': 'nunique'})"
   ]
  },
  {
   "cell_type": "markdown",
   "metadata": {},
   "source": [
    "Распределение по группам +/- на одном и том же уровне"
   ]
  },
  {
   "cell_type": "markdown",
   "metadata": {},
   "source": [
    "# Шаг 4. Изучим воронку событий"
   ]
  },
  {
   "cell_type": "markdown",
   "metadata": {},
   "source": [
    "Посмотрим, какие события есть в логах, как часто они встречаются. Отсортируем события по частоте"
   ]
  },
  {
   "cell_type": "code",
   "execution_count": 24,
   "metadata": {},
   "outputs": [
    {
     "data": {
      "text/plain": [
       "MainScreenAppear           117328\n",
       "OffersScreenAppear          46333\n",
       "CartScreenAppear            42303\n",
       "PaymentScreenSuccessful     33918\n",
       "Tutorial                     1005\n",
       "Name: event_name, dtype: int64"
      ]
     },
     "execution_count": 24,
     "metadata": {},
     "output_type": "execute_result"
    }
   ],
   "source": [
    "data_new_data['event_name'].value_counts()"
   ]
  },
  {
   "cell_type": "markdown",
   "metadata": {},
   "source": [
    "Посчитаем, сколько пользователей совершали каждое из этих событий. Отсортируем события по числу пользователей. Посчитаем долю пользователей, которые хоть раз совершали событие."
   ]
  },
  {
   "cell_type": "code",
   "execution_count": 25,
   "metadata": {},
   "outputs": [
    {
     "data": {
      "text/html": [
       "<div>\n",
       "<style scoped>\n",
       "    .dataframe tbody tr th:only-of-type {\n",
       "        vertical-align: middle;\n",
       "    }\n",
       "\n",
       "    .dataframe tbody tr th {\n",
       "        vertical-align: top;\n",
       "    }\n",
       "\n",
       "    .dataframe thead th {\n",
       "        text-align: right;\n",
       "    }\n",
       "</style>\n",
       "<table border=\"1\" class=\"dataframe\">\n",
       "  <thead>\n",
       "    <tr style=\"text-align: right;\">\n",
       "      <th></th>\n",
       "      <th>device_id</th>\n",
       "    </tr>\n",
       "    <tr>\n",
       "      <th>event_name</th>\n",
       "      <th></th>\n",
       "    </tr>\n",
       "  </thead>\n",
       "  <tbody>\n",
       "    <tr>\n",
       "      <th>MainScreenAppear</th>\n",
       "      <td>7419</td>\n",
       "    </tr>\n",
       "    <tr>\n",
       "      <th>OffersScreenAppear</th>\n",
       "      <td>4593</td>\n",
       "    </tr>\n",
       "    <tr>\n",
       "      <th>CartScreenAppear</th>\n",
       "      <td>3734</td>\n",
       "    </tr>\n",
       "    <tr>\n",
       "      <th>PaymentScreenSuccessful</th>\n",
       "      <td>3539</td>\n",
       "    </tr>\n",
       "  </tbody>\n",
       "</table>\n",
       "</div>"
      ],
      "text/plain": [
       "                         device_id\n",
       "event_name                        \n",
       "MainScreenAppear              7419\n",
       "OffersScreenAppear            4593\n",
       "CartScreenAppear              3734\n",
       "PaymentScreenSuccessful       3539"
      ]
     },
     "metadata": {},
     "output_type": "display_data"
    }
   ],
   "source": [
    "data_events = data_new_data.pivot_table(index='event_name',values='device_id',aggfunc='nunique').sort_values(by = 'device_id', ascending = False)\n",
    "data_events.drop(['Tutorial'], inplace=True)\n",
    "display(data_events)"
   ]
  },
  {
   "cell_type": "code",
   "execution_count": 26,
   "metadata": {},
   "outputs": [
    {
     "data": {
      "text/html": [
       "<div>\n",
       "<style scoped>\n",
       "    .dataframe tbody tr th:only-of-type {\n",
       "        vertical-align: middle;\n",
       "    }\n",
       "\n",
       "    .dataframe tbody tr th {\n",
       "        vertical-align: top;\n",
       "    }\n",
       "\n",
       "    .dataframe thead th {\n",
       "        text-align: right;\n",
       "    }\n",
       "</style>\n",
       "<table border=\"1\" class=\"dataframe\">\n",
       "  <thead>\n",
       "    <tr style=\"text-align: right;\">\n",
       "      <th></th>\n",
       "      <th>event_name</th>\n",
       "      <th>total_users</th>\n",
       "      <th>percent</th>\n",
       "    </tr>\n",
       "  </thead>\n",
       "  <tbody>\n",
       "    <tr>\n",
       "      <th>1</th>\n",
       "      <td>MainScreenAppear</td>\n",
       "      <td>7419</td>\n",
       "      <td>98.251887</td>\n",
       "    </tr>\n",
       "    <tr>\n",
       "      <th>2</th>\n",
       "      <td>OffersScreenAppear</td>\n",
       "      <td>4593</td>\n",
       "      <td>60.826381</td>\n",
       "    </tr>\n",
       "    <tr>\n",
       "      <th>0</th>\n",
       "      <td>CartScreenAppear</td>\n",
       "      <td>3734</td>\n",
       "      <td>49.450404</td>\n",
       "    </tr>\n",
       "    <tr>\n",
       "      <th>3</th>\n",
       "      <td>PaymentScreenSuccessful</td>\n",
       "      <td>3539</td>\n",
       "      <td>46.867965</td>\n",
       "    </tr>\n",
       "    <tr>\n",
       "      <th>4</th>\n",
       "      <td>Tutorial</td>\n",
       "      <td>840</td>\n",
       "      <td>11.124354</td>\n",
       "    </tr>\n",
       "  </tbody>\n",
       "</table>\n",
       "</div>"
      ],
      "text/plain": [
       "                event_name  total_users    percent\n",
       "1         MainScreenAppear         7419  98.251887\n",
       "2       OffersScreenAppear         4593  60.826381\n",
       "0         CartScreenAppear         3734  49.450404\n",
       "3  PaymentScreenSuccessful         3539  46.867965\n",
       "4                 Tutorial          840  11.124354"
      ]
     },
     "execution_count": 26,
     "metadata": {},
     "output_type": "execute_result"
    }
   ],
   "source": [
    "funnel = (data_new_data.\n",
    "          groupby('event_name').\n",
    "          agg({'device_id': 'nunique'}).\n",
    "          reset_index().\n",
    "          rename(columns={'device_id' : 'total_users'}).\n",
    "          sort_values(by='total_users', ascending=False))\n",
    "funnel['percent'] = funnel['total_users'] / data['device_id'].nunique() * 100\n",
    "funnel"
   ]
  },
  {
   "cell_type": "markdown",
   "metadata": {},
   "source": [
    "Предположим, в каком порядке происходят события. Все ли они выстраиваются в последовательную цепочку? Их не нужно учитывать при расчёте воронки.\n",
    "Предположительно, воронка продаж следующая:\n",
    "\n",
    "1. Пользователь видит главный экран сайт\n",
    "2. Пользователь переходит на нужный ему товар\n",
    "3. Пользователь добавляет товар в корзину и переходит далее в нее\n",
    "4. Пользователь оплачивает товар \n",
    "\n",
    "Дополнительное событие - это обучение. Возможно, учат оплачивать заказ или пользоваться сайтом, но доля этого события маленькая, поэтому при расчете воронки его можно не учитывать."
   ]
  },
  {
   "cell_type": "markdown",
   "metadata": {},
   "source": [
    "Посчитаем по воронке событий, какая доля пользователей проходит на следующий шаг воронки (от числа пользователей на предыдущем). То есть для последовательности событий A → B → C посчитайте отношение числа пользователей с событием B к количеству пользователей с событием A, а также отношение числа пользователей с событием C к количеству пользователей с событием B."
   ]
  },
  {
   "cell_type": "code",
   "execution_count": 27,
   "metadata": {},
   "outputs": [
    {
     "name": "stdout",
     "output_type": "stream",
     "text": [
      "Посетителей всего: (100.0%)\n",
      "Просмотрели Каталог в % от предыдущего шага: (62.0%)\n",
      "Просмотрели Карточку товара в % от предыдущего шага: (81.3%)\n",
      "Оплатили в % от предыдущего шага: (94.6%)\n"
     ]
    }
   ],
   "source": [
    "users = data.pivot_table(\n",
    "    index='device_id', \n",
    "    columns='event_name', \n",
    "    values='event_date',\n",
    "    aggfunc='min')\n",
    "\n",
    "print('Посетителей всего:', \n",
    "      '({:.1%})'.format(users['MainScreenAppear'].count() / users['MainScreenAppear'].count() ))\n",
    "print('Просмотрели Каталог в % от предыдущего шага:', \n",
    "      '({:.1%})'.format(users['OffersScreenAppear'].count() / users['MainScreenAppear'].count() ))\n",
    "print('Просмотрели Карточку товара в % от предыдущего шага:', \n",
    "      '({:.1%})'.format(users['CartScreenAppear'].count() / users['OffersScreenAppear'].count()))\n",
    "print('Оплатили в % от предыдущего шага:',\n",
    "      '({:.1%})'.format(users['PaymentScreenSuccessful'].count() / users['CartScreenAppear'].count()))\n"
   ]
  },
  {
   "cell_type": "markdown",
   "metadata": {},
   "source": [
    "Было подсчитано, какой процент пользователей проходит на каждый из этапов воронки, от предыдущего шага. На экран с предложением проходит 62% пользователей, посмотревших главный экран. На экран с корзиной переходит 81% пользователей. На экран с успешной оплатой переходит 95% пользователей."
   ]
  },
  {
   "cell_type": "markdown",
   "metadata": {},
   "source": [
    "К оплате переходит 95% пользователей от предыдущего шага, а вот к экрану с предложением проходит только 62% пользователей. Возможно главный экран сайта не самый удобный для пользователей, или имеются другие проблемы. Наименее популярным событием в воронке продаж,как и следовало ожидать, событие перехода к оплате. Но если смотреть на конверсию, то большой процент пользователей теряется при переходе от главного экрана к экрану с предложением."
   ]
  },
  {
   "cell_type": "code",
   "execution_count": 28,
   "metadata": {},
   "outputs": [
    {
     "data": {
      "text/plain": [
       "48.0"
      ]
     },
     "execution_count": 28,
     "metadata": {},
     "output_type": "execute_result"
    }
   ],
   "source": [
    " round(data_events['device_id'].iloc[3]/data_events['device_id'].iloc[0], 2)*100"
   ]
  },
  {
   "cell_type": "markdown",
   "metadata": {},
   "source": [
    "48% пользователей доходит до оплаты товара"
   ]
  },
  {
   "cell_type": "markdown",
   "metadata": {},
   "source": [
    "# Шаг 5. Изучите результаты эксперимента"
   ]
  },
  {
   "cell_type": "code",
   "execution_count": 29,
   "metadata": {},
   "outputs": [
    {
     "data": {
      "text/html": [
       "<div>\n",
       "<style scoped>\n",
       "    .dataframe tbody tr th:only-of-type {\n",
       "        vertical-align: middle;\n",
       "    }\n",
       "\n",
       "    .dataframe tbody tr th {\n",
       "        vertical-align: top;\n",
       "    }\n",
       "\n",
       "    .dataframe thead th {\n",
       "        text-align: right;\n",
       "    }\n",
       "</style>\n",
       "<table border=\"1\" class=\"dataframe\">\n",
       "  <thead>\n",
       "    <tr style=\"text-align: right;\">\n",
       "      <th></th>\n",
       "      <th>device_id</th>\n",
       "    </tr>\n",
       "    <tr>\n",
       "      <th>experiment_id</th>\n",
       "      <th></th>\n",
       "    </tr>\n",
       "  </thead>\n",
       "  <tbody>\n",
       "    <tr>\n",
       "      <th>246</th>\n",
       "      <td>2484</td>\n",
       "    </tr>\n",
       "    <tr>\n",
       "      <th>247</th>\n",
       "      <td>2513</td>\n",
       "    </tr>\n",
       "    <tr>\n",
       "      <th>248</th>\n",
       "      <td>2537</td>\n",
       "    </tr>\n",
       "  </tbody>\n",
       "</table>\n",
       "</div>"
      ],
      "text/plain": [
       "               device_id\n",
       "experiment_id           \n",
       "246                 2484\n",
       "247                 2513\n",
       "248                 2537"
      ]
     },
     "metadata": {},
     "output_type": "display_data"
    }
   ],
   "source": [
    "data_new_data_groups = data_new_data.pivot_table(index='experiment_id',values='device_id',aggfunc='nunique')\n",
    "display(data_new_data_groups)"
   ]
  },
  {
   "cell_type": "markdown",
   "metadata": {},
   "source": [
    "В эксперементальной группе 246 - 2484 пользовтеля, в 247 - 2513, в 248 - 2537"
   ]
  },
  {
   "cell_type": "markdown",
   "metadata": {},
   "source": [
    "Проверим, находят ли статистические критерии разницу между выборками 246 и 247"
   ]
  },
  {
   "cell_type": "markdown",
   "metadata": {},
   "source": [
    "Сделам таблицу с числом уникальных пользователей по событиям и контрольным группам"
   ]
  },
  {
   "cell_type": "code",
   "execution_count": 30,
   "metadata": {},
   "outputs": [
    {
     "data": {
      "text/html": [
       "<div>\n",
       "<style scoped>\n",
       "    .dataframe tbody tr th:only-of-type {\n",
       "        vertical-align: middle;\n",
       "    }\n",
       "\n",
       "    .dataframe tbody tr th {\n",
       "        vertical-align: top;\n",
       "    }\n",
       "\n",
       "    .dataframe thead th {\n",
       "        text-align: right;\n",
       "    }\n",
       "</style>\n",
       "<table border=\"1\" class=\"dataframe\">\n",
       "  <thead>\n",
       "    <tr style=\"text-align: right;\">\n",
       "      <th>event_name</th>\n",
       "      <th>CartScreenAppear</th>\n",
       "      <th>MainScreenAppear</th>\n",
       "      <th>OffersScreenAppear</th>\n",
       "      <th>PaymentScreenSuccessful</th>\n",
       "      <th>Total</th>\n",
       "    </tr>\n",
       "    <tr>\n",
       "      <th>experiment_id</th>\n",
       "      <th></th>\n",
       "      <th></th>\n",
       "      <th></th>\n",
       "      <th></th>\n",
       "      <th></th>\n",
       "    </tr>\n",
       "  </thead>\n",
       "  <tbody>\n",
       "    <tr>\n",
       "      <th>246</th>\n",
       "      <td>1266</td>\n",
       "      <td>2450</td>\n",
       "      <td>1542</td>\n",
       "      <td>1200</td>\n",
       "      <td>2484</td>\n",
       "    </tr>\n",
       "    <tr>\n",
       "      <th>247</th>\n",
       "      <td>1238</td>\n",
       "      <td>2476</td>\n",
       "      <td>1520</td>\n",
       "      <td>1158</td>\n",
       "      <td>2513</td>\n",
       "    </tr>\n",
       "    <tr>\n",
       "      <th>248</th>\n",
       "      <td>1230</td>\n",
       "      <td>2493</td>\n",
       "      <td>1531</td>\n",
       "      <td>1181</td>\n",
       "      <td>2537</td>\n",
       "    </tr>\n",
       "  </tbody>\n",
       "</table>\n",
       "</div>"
      ],
      "text/plain": [
       "event_name     CartScreenAppear  MainScreenAppear  OffersScreenAppear  \\\n",
       "experiment_id                                                           \n",
       "246                        1266              2450                1542   \n",
       "247                        1238              2476                1520   \n",
       "248                        1230              2493                1531   \n",
       "\n",
       "event_name     PaymentScreenSuccessful  Total  \n",
       "experiment_id                                  \n",
       "246                               1200   2484  \n",
       "247                               1158   2513  \n",
       "248                               1181   2537  "
      ]
     },
     "metadata": {},
     "output_type": "display_data"
    }
   ],
   "source": [
    "data_voronka = data_new_data.pivot_table(index='experiment_id',columns = 'event_name', values='device_id',aggfunc='nunique')\n",
    "del data_voronka['Tutorial']\n",
    "data_voronka['Total'] = [data_new_data_groups['device_id'][0], data_new_data_groups['device_id'][1], data_new_data_groups['device_id'][2]]\n",
    "display(data_voronka)"
   ]
  },
  {
   "cell_type": "markdown",
   "metadata": {},
   "source": [
    "Напишем функцию для проверки гипотез"
   ]
  },
  {
   "cell_type": "code",
   "execution_count": 31,
   "metadata": {},
   "outputs": [],
   "source": [
    "def return_hypothesis_test (success, users, alpha):\n",
    "   \n",
    "    p1 = success[0] / users[0]\n",
    "    p2 = success[1] / users[1]\n",
    " \n",
    "    p_combined = (success[0] + success[1]) / (users[0] + users[1])\n",
    "    difference = p1 - p2\n",
    " \n",
    "    z_value = difference / mth.sqrt(p_combined *(1-p_combined) * (1/users[0] + 1/users[1]))\n",
    "    \n",
    "    distr = st.norm(0, 1) \n",
    "    \n",
    "    p_value = (1 - distr.cdf(abs(z_value))) * 2\n",
    "    \n",
    "    print('p-значение: ', p_value)\n",
    "    \n",
    "    if (p_value < alpha):\n",
    "        print(\"Отвергаем нулевую гипотезу: между долями есть значимая разница\")\n",
    "        print('')\n",
    "    else:\n",
    "        print(\"Не получилось отвергнуть нулевую гипотезу, нет оснований считать доли разными\")\n",
    "        print('')"
   ]
  },
  {
   "cell_type": "markdown",
   "metadata": {},
   "source": [
    "Напишем функцию, которая на входе получает порядковый номер группы в таблице и параметр альфа, и возвращает результаты проверки гипотез"
   ]
  },
  {
   "cell_type": "code",
   "execution_count": 32,
   "metadata": {},
   "outputs": [],
   "source": [
    "def test_A (group1, group2, alpha):\n",
    "    alpha_test = alpha\n",
    "    count_users = ([data_voronka['Total'][group1], data_voronka['Total'][group2]])\n",
    "    count_MainScreenAppear = ([data_voronka['MainScreenAppear'][group1], data_voronka['MainScreenAppear'][group2]])\n",
    "    count_OffersScreenAppear = ([data_voronka['OffersScreenAppear'][group1], data_voronka['OffersScreenAppear'][group2]])\n",
    "    count_CartScreenAppear = ([data_voronka['CartScreenAppear'][group1], data_voronka['CartScreenAppear'][group2]])\n",
    "    count_PaymentScreenSuccessful = ([data_voronka['PaymentScreenSuccessful'][group1], data_voronka['PaymentScreenSuccessful'][group2]])\n",
    "    \n",
    "    print('Результаты теста по долям count_users и count_MainScreenAppear для групп')\n",
    "    return_hypothesis_test(count_MainScreenAppear, count_users, alpha_test)\n",
    "    \n",
    "    print('Результаты теста по долям count_OffersScreenAppear и count_users для групп')\n",
    "    return_hypothesis_test(count_OffersScreenAppear, count_users, alpha_test)\n",
    "    \n",
    "    print('Результаты теста по долям count_users и count_CartScreenAppear для групп')\n",
    "    return_hypothesis_test(count_CartScreenAppear, count_users, alpha_test)\n",
    "    \n",
    "    print('Результаты теста по долям count_PaymentScreenSuccessful и count_users для групп')\n",
    "    return_hypothesis_test(count_PaymentScreenSuccessful, count_users, alpha_test)"
   ]
  },
  {
   "cell_type": "markdown",
   "metadata": {},
   "source": [
    "Введем основную и альтернативные гипотезы для всех попарных сравнений:\n",
    "\n",
    "1. Нулевая гиптеза: доли в двух выборках равны\n",
    "2. Альтернративная гипотеза: доли в двух выборках не равны"
   ]
  },
  {
   "cell_type": "markdown",
   "metadata": {},
   "source": [
    " Сделаем проверку контрольных групп А/A"
   ]
  },
  {
   "cell_type": "code",
   "execution_count": 33,
   "metadata": {},
   "outputs": [
    {
     "name": "stdout",
     "output_type": "stream",
     "text": [
      "Результаты теста по долям count_users и count_MainScreenAppear для групп\n",
      "p-значение:  0.7570597232046099\n",
      "Не получилось отвергнуть нулевую гипотезу, нет оснований считать доли разными\n",
      "\n",
      "Результаты теста по долям count_OffersScreenAppear и count_users для групп\n",
      "p-значение:  0.2480954578522181\n",
      "Не получилось отвергнуть нулевую гипотезу, нет оснований считать доли разными\n",
      "\n",
      "Результаты теста по долям count_users и count_CartScreenAppear для групп\n",
      "p-значение:  0.22883372237997213\n",
      "Не получилось отвергнуть нулевую гипотезу, нет оснований считать доли разными\n",
      "\n",
      "Результаты теста по долям count_PaymentScreenSuccessful и count_users для групп\n",
      "p-значение:  0.11456679313141849\n",
      "Не получилось отвергнуть нулевую гипотезу, нет оснований считать доли разными\n",
      "\n"
     ]
    }
   ],
   "source": [
    "test_A (0, 1, 0.05)"
   ]
  },
  {
   "cell_type": "markdown",
   "metadata": {},
   "source": [
    "Между группами 246 и 247 ни по одному событию нет статистически значимого отличия при заданном уровне значимости в 0.05,самым популярным событием является показ главного экрана сайта. С этого и начинается воронка продаж.\n",
    "Приступим к A/B-тестированию."
   ]
  },
  {
   "cell_type": "markdown",
   "metadata": {},
   "source": [
    "Соединим две контрольные группы в группу 249"
   ]
  },
  {
   "cell_type": "code",
   "execution_count": 34,
   "metadata": {},
   "outputs": [
    {
     "data": {
      "text/html": [
       "<div>\n",
       "<style scoped>\n",
       "    .dataframe tbody tr th:only-of-type {\n",
       "        vertical-align: middle;\n",
       "    }\n",
       "\n",
       "    .dataframe tbody tr th {\n",
       "        vertical-align: top;\n",
       "    }\n",
       "\n",
       "    .dataframe thead th {\n",
       "        text-align: right;\n",
       "    }\n",
       "</style>\n",
       "<table border=\"1\" class=\"dataframe\">\n",
       "  <thead>\n",
       "    <tr style=\"text-align: right;\">\n",
       "      <th>event_name</th>\n",
       "      <th>CartScreenAppear</th>\n",
       "      <th>MainScreenAppear</th>\n",
       "      <th>OffersScreenAppear</th>\n",
       "      <th>PaymentScreenSuccessful</th>\n",
       "      <th>Total</th>\n",
       "    </tr>\n",
       "    <tr>\n",
       "      <th>experiment_id</th>\n",
       "      <th></th>\n",
       "      <th></th>\n",
       "      <th></th>\n",
       "      <th></th>\n",
       "      <th></th>\n",
       "    </tr>\n",
       "  </thead>\n",
       "  <tbody>\n",
       "    <tr>\n",
       "      <th>246</th>\n",
       "      <td>1266</td>\n",
       "      <td>2450</td>\n",
       "      <td>1542</td>\n",
       "      <td>1200</td>\n",
       "      <td>2484</td>\n",
       "    </tr>\n",
       "    <tr>\n",
       "      <th>247</th>\n",
       "      <td>1238</td>\n",
       "      <td>2476</td>\n",
       "      <td>1520</td>\n",
       "      <td>1158</td>\n",
       "      <td>2513</td>\n",
       "    </tr>\n",
       "    <tr>\n",
       "      <th>248</th>\n",
       "      <td>1230</td>\n",
       "      <td>2493</td>\n",
       "      <td>1531</td>\n",
       "      <td>1181</td>\n",
       "      <td>2537</td>\n",
       "    </tr>\n",
       "    <tr>\n",
       "      <th>249</th>\n",
       "      <td>2504</td>\n",
       "      <td>4926</td>\n",
       "      <td>3062</td>\n",
       "      <td>2358</td>\n",
       "      <td>4997</td>\n",
       "    </tr>\n",
       "  </tbody>\n",
       "</table>\n",
       "</div>"
      ],
      "text/plain": [
       "event_name     CartScreenAppear  MainScreenAppear  OffersScreenAppear  \\\n",
       "experiment_id                                                           \n",
       "246                        1266              2450                1542   \n",
       "247                        1238              2476                1520   \n",
       "248                        1230              2493                1531   \n",
       "249                        2504              4926                3062   \n",
       "\n",
       "event_name     PaymentScreenSuccessful  Total  \n",
       "experiment_id                                  \n",
       "246                               1200   2484  \n",
       "247                               1158   2513  \n",
       "248                               1181   2537  \n",
       "249                               2358   4997  "
      ]
     },
     "metadata": {},
     "output_type": "display_data"
    }
   ],
   "source": [
    "data_voronka.loc['249'] = [data_voronka['CartScreenAppear'][0]+data_voronka['CartScreenAppear'][1] , data_voronka['MainScreenAppear'][0]+data_voronka['MainScreenAppear'][1], data_voronka['OffersScreenAppear'][0]+data_voronka['OffersScreenAppear'][1], data_voronka['PaymentScreenSuccessful'][0]+data_voronka['PaymentScreenSuccessful'][1], data_voronka['Total'][0]+data_voronka['Total'][1]]\n",
    "display(data_voronka)"
   ]
  },
  {
   "cell_type": "markdown",
   "metadata": {},
   "source": [
    "Сделаем проверку групп А1/B (246 и 248)"
   ]
  },
  {
   "cell_type": "code",
   "execution_count": 35,
   "metadata": {},
   "outputs": [
    {
     "name": "stdout",
     "output_type": "stream",
     "text": [
      "Результаты теста по долям count_users и count_MainScreenAppear для групп\n",
      "p-значение:  0.2949721933554552\n",
      "Не получилось отвергнуть нулевую гипотезу, нет оснований считать доли разными\n",
      "\n",
      "Результаты теста по долям count_OffersScreenAppear и count_users для групп\n",
      "p-значение:  0.20836205402738917\n",
      "Не получилось отвергнуть нулевую гипотезу, нет оснований считать доли разными\n",
      "\n",
      "Результаты теста по долям count_users и count_CartScreenAppear для групп\n",
      "p-значение:  0.07842923237520116\n",
      "Не получилось отвергнуть нулевую гипотезу, нет оснований считать доли разными\n",
      "\n",
      "Результаты теста по долям count_PaymentScreenSuccessful и count_users для групп\n",
      "p-значение:  0.2122553275697796\n",
      "Не получилось отвергнуть нулевую гипотезу, нет оснований считать доли разными\n",
      "\n"
     ]
    }
   ],
   "source": [
    "test_A (0, 2, 0.05)"
   ]
  },
  {
   "cell_type": "markdown",
   "metadata": {},
   "source": [
    "При заданном уровне значимости в 0.05 у нас нет оснований считать группы 246 и 248 разными."
   ]
  },
  {
   "cell_type": "markdown",
   "metadata": {},
   "source": [
    "Сделаем проверку групп А2/B (247 и 248)"
   ]
  },
  {
   "cell_type": "code",
   "execution_count": 36,
   "metadata": {},
   "outputs": [
    {
     "name": "stdout",
     "output_type": "stream",
     "text": [
      "Результаты теста по долям count_users и count_MainScreenAppear для групп\n",
      "p-значение:  0.4587053616621515\n",
      "Не получилось отвергнуть нулевую гипотезу, нет оснований считать доли разными\n",
      "\n",
      "Результаты теста по долям count_OffersScreenAppear и count_users для групп\n",
      "p-значение:  0.9197817830592261\n",
      "Не получилось отвергнуть нулевую гипотезу, нет оснований считать доли разными\n",
      "\n",
      "Результаты теста по долям count_users и count_CartScreenAppear для групп\n",
      "p-значение:  0.5786197879539783\n",
      "Не получилось отвергнуть нулевую гипотезу, нет оснований считать доли разными\n",
      "\n",
      "Результаты теста по долям count_PaymentScreenSuccessful и count_users для групп\n",
      "p-значение:  0.7373415053803964\n",
      "Не получилось отвергнуть нулевую гипотезу, нет оснований считать доли разными\n",
      "\n"
     ]
    }
   ],
   "source": [
    "test_A (1, 2, 0.05)"
   ]
  },
  {
   "cell_type": "markdown",
   "metadata": {},
   "source": [
    "При заданном уровне значимости различия между группами 247 и 248 не обнаружились."
   ]
  },
  {
   "cell_type": "code",
   "execution_count": 37,
   "metadata": {},
   "outputs": [
    {
     "name": "stdout",
     "output_type": "stream",
     "text": [
      "Результаты теста по долям count_users и count_MainScreenAppear для групп\n",
      "p-значение:  0.29424526837179577\n",
      "Не получилось отвергнуть нулевую гипотезу, нет оснований считать доли разными\n",
      "\n",
      "Результаты теста по долям count_OffersScreenAppear и count_users для групп\n",
      "p-значение:  0.43425549655188256\n",
      "Не получилось отвергнуть нулевую гипотезу, нет оснований считать доли разными\n",
      "\n",
      "Результаты теста по долям count_users и count_CartScreenAppear для групп\n",
      "p-значение:  0.18175875284404386\n",
      "Не получилось отвергнуть нулевую гипотезу, нет оснований считать доли разными\n",
      "\n",
      "Результаты теста по долям count_PaymentScreenSuccessful и count_users для групп\n",
      "p-значение:  0.6004294282308704\n",
      "Не получилось отвергнуть нулевую гипотезу, нет оснований считать доли разными\n",
      "\n"
     ]
    }
   ],
   "source": [
    "test_A (3, 2, 0.05)"
   ]
  },
  {
   "cell_type": "markdown",
   "metadata": {},
   "source": [
    "Из проведенных проверок статистически значимой разницы можем сделать вывод, что изменение шрифтов никак не повлияло на поведение пользователей контрольных групп."
   ]
  },
  {
   "cell_type": "markdown",
   "metadata": {},
   "source": [
    "Сделаем проверку гипотез между группами при уровне значимости 0.1"
   ]
  },
  {
   "cell_type": "code",
   "execution_count": 38,
   "metadata": {},
   "outputs": [
    {
     "name": "stdout",
     "output_type": "stream",
     "text": [
      "Результаты теста по долям count_users и count_MainScreenAppear для групп\n",
      "p-значение:  0.7570597232046099\n",
      "Не получилось отвергнуть нулевую гипотезу, нет оснований считать доли разными\n",
      "\n",
      "Результаты теста по долям count_OffersScreenAppear и count_users для групп\n",
      "p-значение:  0.2480954578522181\n",
      "Не получилось отвергнуть нулевую гипотезу, нет оснований считать доли разными\n",
      "\n",
      "Результаты теста по долям count_users и count_CartScreenAppear для групп\n",
      "p-значение:  0.22883372237997213\n",
      "Не получилось отвергнуть нулевую гипотезу, нет оснований считать доли разными\n",
      "\n",
      "Результаты теста по долям count_PaymentScreenSuccessful и count_users для групп\n",
      "p-значение:  0.11456679313141849\n",
      "Не получилось отвергнуть нулевую гипотезу, нет оснований считать доли разными\n",
      "\n"
     ]
    }
   ],
   "source": [
    "test_A (0, 1, 0.1)"
   ]
  },
  {
   "cell_type": "code",
   "execution_count": 39,
   "metadata": {},
   "outputs": [
    {
     "name": "stdout",
     "output_type": "stream",
     "text": [
      "Результаты теста по долям count_users и count_MainScreenAppear для групп\n",
      "p-значение:  0.2949721933554552\n",
      "Не получилось отвергнуть нулевую гипотезу, нет оснований считать доли разными\n",
      "\n",
      "Результаты теста по долям count_OffersScreenAppear и count_users для групп\n",
      "p-значение:  0.20836205402738917\n",
      "Не получилось отвергнуть нулевую гипотезу, нет оснований считать доли разными\n",
      "\n",
      "Результаты теста по долям count_users и count_CartScreenAppear для групп\n",
      "p-значение:  0.07842923237520116\n",
      "Отвергаем нулевую гипотезу: между долями есть значимая разница\n",
      "\n",
      "Результаты теста по долям count_PaymentScreenSuccessful и count_users для групп\n",
      "p-значение:  0.2122553275697796\n",
      "Не получилось отвергнуть нулевую гипотезу, нет оснований считать доли разными\n",
      "\n"
     ]
    }
   ],
   "source": [
    "test_A (0, 2, 0.1)"
   ]
  },
  {
   "cell_type": "code",
   "execution_count": 40,
   "metadata": {},
   "outputs": [
    {
     "name": "stdout",
     "output_type": "stream",
     "text": [
      "Результаты теста по долям count_users и count_MainScreenAppear для групп\n",
      "p-значение:  0.4587053616621515\n",
      "Не получилось отвергнуть нулевую гипотезу, нет оснований считать доли разными\n",
      "\n",
      "Результаты теста по долям count_OffersScreenAppear и count_users для групп\n",
      "p-значение:  0.9197817830592261\n",
      "Не получилось отвергнуть нулевую гипотезу, нет оснований считать доли разными\n",
      "\n",
      "Результаты теста по долям count_users и count_CartScreenAppear для групп\n",
      "p-значение:  0.5786197879539783\n",
      "Не получилось отвергнуть нулевую гипотезу, нет оснований считать доли разными\n",
      "\n",
      "Результаты теста по долям count_PaymentScreenSuccessful и count_users для групп\n",
      "p-значение:  0.7373415053803964\n",
      "Не получилось отвергнуть нулевую гипотезу, нет оснований считать доли разными\n",
      "\n"
     ]
    }
   ],
   "source": [
    "test_A (1, 2, 0.1)"
   ]
  },
  {
   "cell_type": "code",
   "execution_count": 41,
   "metadata": {},
   "outputs": [
    {
     "name": "stdout",
     "output_type": "stream",
     "text": [
      "Результаты теста по долям count_users и count_MainScreenAppear для групп\n",
      "p-значение:  0.29424526837179577\n",
      "Не получилось отвергнуть нулевую гипотезу, нет оснований считать доли разными\n",
      "\n",
      "Результаты теста по долям count_OffersScreenAppear и count_users для групп\n",
      "p-значение:  0.43425549655188256\n",
      "Не получилось отвергнуть нулевую гипотезу, нет оснований считать доли разными\n",
      "\n",
      "Результаты теста по долям count_users и count_CartScreenAppear для групп\n",
      "p-значение:  0.18175875284404386\n",
      "Не получилось отвергнуть нулевую гипотезу, нет оснований считать доли разными\n",
      "\n",
      "Результаты теста по долям count_PaymentScreenSuccessful и count_users для групп\n",
      "p-значение:  0.6004294282308704\n",
      "Не получилось отвергнуть нулевую гипотезу, нет оснований считать доли разными\n",
      "\n"
     ]
    }
   ],
   "source": [
    "test_A (2, 3, 0.1)"
   ]
  },
  {
   "cell_type": "markdown",
   "metadata": {},
   "source": [
    "Между первой контрольной группой 246 и группой с измененными шрифтами 248 значимых различий нет. А вот между группами 246 и 248 есть значимая разница в доле пользоватей, перешедших к странице корзины. Значимой разницы в переходах объединенной контрольной группы с 248-ой группой нет."
   ]
  },
  {
   "cell_type": "markdown",
   "metadata": {},
   "source": [
    "Посчитаем уровень альфа с поправкой Шикада"
   ]
  },
  {
   "cell_type": "code",
   "execution_count": 49,
   "metadata": {},
   "outputs": [
    {
     "data": {
      "text/plain": [
       "0.0032006977101884937"
      ]
     },
     "execution_count": 49,
     "metadata": {},
     "output_type": "execute_result"
    }
   ],
   "source": [
    "alpha_shidaka = 1 - (1 - 0.05)**(1/16)\n",
    "alpha_shidaka"
   ]
  },
  {
   "cell_type": "code",
   "execution_count": 59,
   "metadata": {},
   "outputs": [
    {
     "name": "stdout",
     "output_type": "stream",
     "text": [
      "Результаты теста по долям count_users и count_MainScreenAppear для групп\n",
      "p-значение:  0.2949721933554552\n",
      "Не получилось отвергнуть нулевую гипотезу, нет оснований считать доли разными\n",
      "\n",
      "Результаты теста по долям count_OffersScreenAppear и count_users для групп\n",
      "p-значение:  0.20836205402738917\n",
      "Не получилось отвергнуть нулевую гипотезу, нет оснований считать доли разными\n",
      "\n",
      "Результаты теста по долям count_users и count_CartScreenAppear для групп\n",
      "p-значение:  0.07842923237520116\n",
      "Не получилось отвергнуть нулевую гипотезу, нет оснований считать доли разными\n",
      "\n",
      "Результаты теста по долям count_PaymentScreenSuccessful и count_users для групп\n",
      "p-значение:  0.2122553275697796\n",
      "Не получилось отвергнуть нулевую гипотезу, нет оснований считать доли разными\n",
      "\n"
     ]
    }
   ],
   "source": [
    "test_A (0, 2,alpha_shidaka)"
   ]
  },
  {
   "cell_type": "code",
   "execution_count": 56,
   "metadata": {},
   "outputs": [
    {
     "name": "stdout",
     "output_type": "stream",
     "text": [
      "Результаты теста по долям count_users и count_MainScreenAppear для групп\n",
      "p-значение:  0.4587053616621515\n",
      "Не получилось отвергнуть нулевую гипотезу, нет оснований считать доли разными\n",
      "\n",
      "Результаты теста по долям count_OffersScreenAppear и count_users для групп\n",
      "p-значение:  0.9197817830592261\n",
      "Не получилось отвергнуть нулевую гипотезу, нет оснований считать доли разными\n",
      "\n",
      "Результаты теста по долям count_users и count_CartScreenAppear для групп\n",
      "p-значение:  0.5786197879539783\n",
      "Не получилось отвергнуть нулевую гипотезу, нет оснований считать доли разными\n",
      "\n",
      "Результаты теста по долям count_PaymentScreenSuccessful и count_users для групп\n",
      "p-значение:  0.7373415053803964\n",
      "Не получилось отвергнуть нулевую гипотезу, нет оснований считать доли разными\n",
      "\n"
     ]
    }
   ],
   "source": [
    "test_A (1, 2, alpha_shidaka)"
   ]
  },
  {
   "cell_type": "code",
   "execution_count": 57,
   "metadata": {},
   "outputs": [
    {
     "name": "stdout",
     "output_type": "stream",
     "text": [
      "Результаты теста по долям count_users и count_MainScreenAppear для групп\n",
      "p-значение:  0.29424526837179577\n",
      "Не получилось отвергнуть нулевую гипотезу, нет оснований считать доли разными\n",
      "\n",
      "Результаты теста по долям count_OffersScreenAppear и count_users для групп\n",
      "p-значение:  0.43425549655188256\n",
      "Не получилось отвергнуть нулевую гипотезу, нет оснований считать доли разными\n",
      "\n",
      "Результаты теста по долям count_users и count_CartScreenAppear для групп\n",
      "p-значение:  0.18175875284404386\n",
      "Не получилось отвергнуть нулевую гипотезу, нет оснований считать доли разными\n",
      "\n",
      "Результаты теста по долям count_PaymentScreenSuccessful и count_users для групп\n",
      "p-значение:  0.6004294282308704\n",
      "Не получилось отвергнуть нулевую гипотезу, нет оснований считать доли разными\n",
      "\n"
     ]
    }
   ],
   "source": [
    "test_A (3, 2, alpha_shidaka)"
   ]
  },
  {
   "cell_type": "code",
   "execution_count": 60,
   "metadata": {},
   "outputs": [
    {
     "name": "stdout",
     "output_type": "stream",
     "text": [
      "Результаты теста по долям count_users и count_MainScreenAppear для групп\n",
      "p-значение:  0.7570597232046099\n",
      "Не получилось отвергнуть нулевую гипотезу, нет оснований считать доли разными\n",
      "\n",
      "Результаты теста по долям count_OffersScreenAppear и count_users для групп\n",
      "p-значение:  0.2480954578522181\n",
      "Не получилось отвергнуть нулевую гипотезу, нет оснований считать доли разными\n",
      "\n",
      "Результаты теста по долям count_users и count_CartScreenAppear для групп\n",
      "p-значение:  0.22883372237997213\n",
      "Не получилось отвергнуть нулевую гипотезу, нет оснований считать доли разными\n",
      "\n",
      "Результаты теста по долям count_PaymentScreenSuccessful и count_users для групп\n",
      "p-значение:  0.11456679313141849\n",
      "Не получилось отвергнуть нулевую гипотезу, нет оснований считать доли разными\n",
      "\n"
     ]
    }
   ],
   "source": [
    "test_A (0, 1, alpha_shidaka)"
   ]
  },
  {
   "cell_type": "markdown",
   "metadata": {},
   "source": [
    "Наблюдаемые данные не подтверждают наличие разницы между группами."
   ]
  },
  {
   "cell_type": "markdown",
   "metadata": {},
   "source": [
    "# Выводы"
   ]
  },
  {
   "cell_type": "markdown",
   "metadata": {},
   "source": [
    "В результате исследования были проанализированы поведение покупателей на основании логов пользователей, а так же, результаты А/А/В-теста. После предобработки данных было рассмотрено поведение 7419-ти пользователей мобильного приложения.\n",
    "Далее, был проанализирован результат А/А/В-эксперимента(изменение шрифта во всем приложении), для этого были ипользованы логи событий за неделю\n",
    "Согласно предложенному процессу, нам нужно было сопоставить доли пользователей по каждому событию между:\n",
    "\n",
    "контрольными группами 246 и 247;\n",
    "каждой из контрольной группы по отдельности и экспериментальной (246-248 и 247-248);\n",
    "объединенной контрольной группой и экспериментальной (246+247 и 248).\n",
    "Множесто А/В-тестов, проведённых по каждому из событий, не обнаружили статистически значимой разницы между группами. Т.е. изменение шрифтов во всём приложении на поведение пользователей не повлияло."
   ]
  }
 ],
 "metadata": {
  "ExecuteTimeLog": [
   {
    "duration": 1279,
    "start_time": "2024-03-19T20:06:12.237Z"
   },
   {
    "duration": 158,
    "start_time": "2024-03-19T20:08:10.326Z"
   },
   {
    "duration": 697,
    "start_time": "2024-03-19T20:09:25.457Z"
   },
   {
    "duration": 35,
    "start_time": "2024-03-19T20:09:43.159Z"
   },
   {
    "duration": 47,
    "start_time": "2024-03-20T07:22:44.106Z"
   },
   {
    "duration": 6,
    "start_time": "2024-03-20T07:23:13.080Z"
   },
   {
    "duration": 7,
    "start_time": "2024-03-20T07:23:14.611Z"
   },
   {
    "duration": 1339,
    "start_time": "2024-03-20T07:23:31.303Z"
   },
   {
    "duration": 697,
    "start_time": "2024-03-20T07:23:33.569Z"
   },
   {
    "duration": 21,
    "start_time": "2024-03-20T07:23:35.355Z"
   },
   {
    "duration": 3,
    "start_time": "2024-03-20T07:23:38.315Z"
   },
   {
    "duration": 20,
    "start_time": "2024-03-20T07:25:22.864Z"
   },
   {
    "duration": 109,
    "start_time": "2024-03-20T07:31:08.730Z"
   },
   {
    "duration": 12,
    "start_time": "2024-03-20T07:31:38.486Z"
   },
   {
    "duration": 313,
    "start_time": "2024-03-20T07:32:06.964Z"
   },
   {
    "duration": 97,
    "start_time": "2024-03-20T07:34:19.381Z"
   },
   {
    "duration": 118,
    "start_time": "2024-03-20T07:34:39.490Z"
   },
   {
    "duration": 69,
    "start_time": "2024-03-20T07:36:28.495Z"
   },
   {
    "duration": 9,
    "start_time": "2024-03-20T07:37:20.898Z"
   },
   {
    "duration": 12,
    "start_time": "2024-03-20T07:40:54.496Z"
   },
   {
    "duration": 8,
    "start_time": "2024-03-20T07:42:06.239Z"
   },
   {
    "duration": 8,
    "start_time": "2024-03-20T07:42:11.507Z"
   },
   {
    "duration": 8,
    "start_time": "2024-03-20T07:42:43.549Z"
   },
   {
    "duration": 8,
    "start_time": "2024-03-20T07:42:49.492Z"
   },
   {
    "duration": 9,
    "start_time": "2024-03-20T07:42:52.671Z"
   },
   {
    "duration": 168,
    "start_time": "2024-03-20T07:43:35.263Z"
   },
   {
    "duration": 58,
    "start_time": "2024-03-20T07:43:48.756Z"
   },
   {
    "duration": 49,
    "start_time": "2024-03-21T06:22:46.158Z"
   },
   {
    "duration": 5,
    "start_time": "2024-03-21T06:22:46.995Z"
   },
   {
    "duration": 1261,
    "start_time": "2024-03-21T06:22:53.175Z"
   },
   {
    "duration": 503,
    "start_time": "2024-03-21T06:22:55.191Z"
   },
   {
    "duration": 3,
    "start_time": "2024-03-21T06:22:56.075Z"
   },
   {
    "duration": 20,
    "start_time": "2024-03-21T06:22:56.478Z"
   },
   {
    "duration": 297,
    "start_time": "2024-03-21T06:22:56.671Z"
   },
   {
    "duration": 101,
    "start_time": "2024-03-21T06:22:56.970Z"
   },
   {
    "duration": 117,
    "start_time": "2024-03-21T06:22:57.507Z"
   },
   {
    "duration": 37,
    "start_time": "2024-03-21T06:22:57.782Z"
   },
   {
    "duration": 60,
    "start_time": "2024-03-21T06:23:01.595Z"
   },
   {
    "duration": 10,
    "start_time": "2024-03-21T06:23:21.966Z"
   },
   {
    "duration": 9,
    "start_time": "2024-03-21T06:29:38.379Z"
   },
   {
    "duration": 8,
    "start_time": "2024-03-21T06:30:18.189Z"
   },
   {
    "duration": 12,
    "start_time": "2024-03-21T06:33:06.361Z"
   },
   {
    "duration": 9,
    "start_time": "2024-03-21T06:33:10.349Z"
   },
   {
    "duration": 1064,
    "start_time": "2024-03-21T07:22:35.177Z"
   },
   {
    "duration": 195,
    "start_time": "2024-03-21T07:22:37.948Z"
   },
   {
    "duration": 3,
    "start_time": "2024-03-21T07:22:38.892Z"
   },
   {
    "duration": 25,
    "start_time": "2024-03-21T07:22:39.355Z"
   },
   {
    "duration": 296,
    "start_time": "2024-03-21T07:22:39.564Z"
   },
   {
    "duration": 105,
    "start_time": "2024-03-21T07:22:39.862Z"
   },
   {
    "duration": 122,
    "start_time": "2024-03-21T07:22:40.723Z"
   },
   {
    "duration": 38,
    "start_time": "2024-03-21T07:22:41.759Z"
   },
   {
    "duration": 11,
    "start_time": "2024-03-21T07:22:47.301Z"
   },
   {
    "duration": 9,
    "start_time": "2024-03-21T07:22:51.940Z"
   },
   {
    "duration": 98,
    "start_time": "2024-03-21T07:25:20.457Z"
   },
   {
    "duration": 21,
    "start_time": "2024-03-21T07:25:32.957Z"
   },
   {
    "duration": 16,
    "start_time": "2024-03-21T07:25:58.337Z"
   },
   {
    "duration": 11,
    "start_time": "2024-03-21T07:29:00.077Z"
   },
   {
    "duration": 9,
    "start_time": "2024-03-21T07:29:01.116Z"
   },
   {
    "duration": 18,
    "start_time": "2024-03-21T07:30:58.449Z"
   },
   {
    "duration": 17,
    "start_time": "2024-03-21T07:31:10.904Z"
   },
   {
    "duration": 78,
    "start_time": "2024-03-21T07:32:08.123Z"
   },
   {
    "duration": 68,
    "start_time": "2024-03-21T07:34:17.747Z"
   },
   {
    "duration": 9,
    "start_time": "2024-03-21T07:34:20.010Z"
   },
   {
    "duration": 8,
    "start_time": "2024-03-21T07:46:28.255Z"
   },
   {
    "duration": 24,
    "start_time": "2024-03-21T07:46:36.798Z"
   },
   {
    "duration": 98,
    "start_time": "2024-03-21T07:46:46.061Z"
   },
   {
    "duration": 65,
    "start_time": "2024-03-21T07:47:06.393Z"
   },
   {
    "duration": 31,
    "start_time": "2024-03-21T07:47:23.366Z"
   },
   {
    "duration": 80,
    "start_time": "2024-03-21T07:47:34.839Z"
   },
   {
    "duration": 24,
    "start_time": "2024-03-21T07:47:43.900Z"
   },
   {
    "duration": 41,
    "start_time": "2024-03-21T07:50:39.085Z"
   },
   {
    "duration": 102,
    "start_time": "2024-03-21T07:56:12.931Z"
   },
   {
    "duration": 54,
    "start_time": "2024-03-21T07:56:23.084Z"
   },
   {
    "duration": 8,
    "start_time": "2024-03-21T08:01:58.428Z"
   },
   {
    "duration": 31,
    "start_time": "2024-03-21T08:02:21.711Z"
   },
   {
    "duration": 17,
    "start_time": "2024-03-21T08:02:34.165Z"
   },
   {
    "duration": 16,
    "start_time": "2024-03-21T08:02:44.377Z"
   },
   {
    "duration": 9,
    "start_time": "2024-03-21T08:15:59.310Z"
   },
   {
    "duration": 475,
    "start_time": "2024-03-21T08:16:11.982Z"
   },
   {
    "duration": 238,
    "start_time": "2024-03-21T08:16:40.016Z"
   },
   {
    "duration": 3,
    "start_time": "2024-03-21T08:23:33.875Z"
   },
   {
    "duration": 296,
    "start_time": "2024-03-21T08:23:45.630Z"
   },
   {
    "duration": 67,
    "start_time": "2024-03-21T08:29:23.046Z"
   },
   {
    "duration": 157,
    "start_time": "2024-03-21T08:29:31.508Z"
   },
   {
    "duration": 71,
    "start_time": "2024-03-21T08:30:04.645Z"
   },
   {
    "duration": 4,
    "start_time": "2024-03-21T08:30:40.774Z"
   },
   {
    "duration": 36,
    "start_time": "2024-03-21T08:30:53.706Z"
   },
   {
    "duration": 35,
    "start_time": "2024-03-21T08:32:42.961Z"
   },
   {
    "duration": 1290,
    "start_time": "2024-03-21T08:32:43.205Z"
   },
   {
    "duration": 210,
    "start_time": "2024-03-21T08:39:05.768Z"
   },
   {
    "duration": 207,
    "start_time": "2024-03-21T08:39:25.466Z"
   },
   {
    "duration": 209,
    "start_time": "2024-03-21T08:39:46.322Z"
   },
   {
    "duration": 209,
    "start_time": "2024-03-21T08:40:22.782Z"
   },
   {
    "duration": 233,
    "start_time": "2024-03-21T08:43:20.709Z"
   },
   {
    "duration": 7,
    "start_time": "2024-03-21T08:46:40.409Z"
   },
   {
    "duration": 26,
    "start_time": "2024-03-21T08:48:13.315Z"
   },
   {
    "duration": 24,
    "start_time": "2024-03-21T09:08:26.207Z"
   },
   {
    "duration": 82,
    "start_time": "2024-03-21T09:19:05.086Z"
   },
   {
    "duration": 30,
    "start_time": "2024-03-21T09:20:01.750Z"
   },
   {
    "duration": 80,
    "start_time": "2024-03-21T09:30:51.160Z"
   },
   {
    "duration": 13,
    "start_time": "2024-03-21T09:36:08.043Z"
   },
   {
    "duration": 13,
    "start_time": "2024-03-21T09:36:37.779Z"
   },
   {
    "duration": 11,
    "start_time": "2024-03-21T09:37:06.542Z"
   },
   {
    "duration": 193,
    "start_time": "2024-03-21T09:37:20.031Z"
   },
   {
    "duration": 153,
    "start_time": "2024-03-21T09:37:43.493Z"
   },
   {
    "duration": 11,
    "start_time": "2024-03-21T09:39:24.572Z"
   },
   {
    "duration": 11,
    "start_time": "2024-03-21T09:39:47.239Z"
   },
   {
    "duration": 81,
    "start_time": "2024-03-21T09:39:56.416Z"
   },
   {
    "duration": 4,
    "start_time": "2024-03-21T09:43:36.039Z"
   },
   {
    "duration": 90,
    "start_time": "2024-03-21T10:34:00.702Z"
   },
   {
    "duration": 1180,
    "start_time": "2024-03-21T12:09:18.700Z"
   },
   {
    "duration": 169,
    "start_time": "2024-03-21T12:09:19.882Z"
   },
   {
    "duration": 2,
    "start_time": "2024-03-21T12:09:20.053Z"
   },
   {
    "duration": 32,
    "start_time": "2024-03-21T12:09:20.057Z"
   },
   {
    "duration": 291,
    "start_time": "2024-03-21T12:09:20.090Z"
   },
   {
    "duration": 98,
    "start_time": "2024-03-21T12:09:20.383Z"
   },
   {
    "duration": 124,
    "start_time": "2024-03-21T12:09:20.483Z"
   },
   {
    "duration": 45,
    "start_time": "2024-03-21T12:09:20.614Z"
   },
   {
    "duration": 66,
    "start_time": "2024-03-21T12:09:20.998Z"
   },
   {
    "duration": 9,
    "start_time": "2024-03-21T12:09:21.205Z"
   },
   {
    "duration": 26,
    "start_time": "2024-03-21T12:09:21.591Z"
   },
   {
    "duration": 41,
    "start_time": "2024-03-21T12:09:21.983Z"
   },
   {
    "duration": 90,
    "start_time": "2024-03-21T12:09:22.370Z"
   },
   {
    "duration": 16,
    "start_time": "2024-03-21T12:09:22.773Z"
   },
   {
    "duration": 16,
    "start_time": "2024-03-21T12:09:22.948Z"
   },
   {
    "duration": 332,
    "start_time": "2024-03-21T12:09:23.516Z"
   },
   {
    "duration": 196,
    "start_time": "2024-03-21T12:09:23.850Z"
   },
   {
    "duration": 212,
    "start_time": "2024-03-21T12:09:24.048Z"
   },
   {
    "duration": 218,
    "start_time": "2024-03-21T12:09:24.902Z"
   },
   {
    "duration": 8,
    "start_time": "2024-03-21T12:09:25.320Z"
   },
   {
    "duration": 24,
    "start_time": "2024-03-21T12:09:26.101Z"
   },
   {
    "duration": 24,
    "start_time": "2024-03-21T12:09:27.166Z"
   },
   {
    "duration": 93,
    "start_time": "2024-03-21T12:09:27.619Z"
   },
   {
    "duration": 116,
    "start_time": "2024-03-21T12:09:27.840Z"
   },
   {
    "duration": 82,
    "start_time": "2024-03-21T12:09:29.146Z"
   },
   {
    "duration": 4,
    "start_time": "2024-03-21T12:09:30.955Z"
   },
   {
    "duration": 85,
    "start_time": "2024-03-21T12:09:32.022Z"
   },
   {
    "duration": 6,
    "start_time": "2024-03-21T12:09:34.066Z"
   },
   {
    "duration": 95,
    "start_time": "2024-03-21T12:10:46.877Z"
   },
   {
    "duration": 46,
    "start_time": "2024-03-21T12:13:24.200Z"
   },
   {
    "duration": 147,
    "start_time": "2024-03-21T12:13:34.396Z"
   },
   {
    "duration": 6,
    "start_time": "2024-03-21T12:14:40.710Z"
   },
   {
    "duration": 38,
    "start_time": "2024-03-21T12:14:42.768Z"
   },
   {
    "duration": 6,
    "start_time": "2024-03-21T12:15:11.408Z"
   },
   {
    "duration": 160,
    "start_time": "2024-03-21T12:15:15.401Z"
   },
   {
    "duration": 1444,
    "start_time": "2024-03-22T20:10:04.193Z"
   },
   {
    "duration": 884,
    "start_time": "2024-03-22T20:10:05.639Z"
   },
   {
    "duration": 3,
    "start_time": "2024-03-22T20:10:06.525Z"
   },
   {
    "duration": 28,
    "start_time": "2024-03-22T20:10:06.530Z"
   },
   {
    "duration": 335,
    "start_time": "2024-03-22T20:10:06.560Z"
   },
   {
    "duration": 120,
    "start_time": "2024-03-22T20:10:06.898Z"
   },
   {
    "duration": 162,
    "start_time": "2024-03-22T20:10:07.019Z"
   },
   {
    "duration": 43,
    "start_time": "2024-03-22T20:10:07.183Z"
   },
   {
    "duration": 92,
    "start_time": "2024-03-22T20:10:07.228Z"
   },
   {
    "duration": 10,
    "start_time": "2024-03-22T20:10:07.322Z"
   },
   {
    "duration": 41,
    "start_time": "2024-03-22T20:10:07.334Z"
   },
   {
    "duration": 47,
    "start_time": "2024-03-22T20:10:07.377Z"
   },
   {
    "duration": 124,
    "start_time": "2024-03-22T20:10:07.426Z"
   },
   {
    "duration": 26,
    "start_time": "2024-03-22T20:10:07.552Z"
   },
   {
    "duration": 24,
    "start_time": "2024-03-22T20:10:07.581Z"
   },
   {
    "duration": 427,
    "start_time": "2024-03-22T20:10:07.606Z"
   },
   {
    "duration": 263,
    "start_time": "2024-03-22T20:10:08.036Z"
   },
   {
    "duration": 255,
    "start_time": "2024-03-22T20:10:08.301Z"
   },
   {
    "duration": 286,
    "start_time": "2024-03-22T20:10:08.558Z"
   },
   {
    "duration": 7,
    "start_time": "2024-03-22T20:10:08.846Z"
   },
   {
    "duration": 38,
    "start_time": "2024-03-22T20:10:08.855Z"
   },
   {
    "duration": 36,
    "start_time": "2024-03-22T20:10:08.895Z"
   },
   {
    "duration": 114,
    "start_time": "2024-03-22T20:10:08.932Z"
   },
   {
    "duration": 142,
    "start_time": "2024-03-22T20:10:09.048Z"
   },
   {
    "duration": 105,
    "start_time": "2024-03-22T20:10:09.191Z"
   },
   {
    "duration": 5,
    "start_time": "2024-03-22T20:10:09.297Z"
   },
   {
    "duration": 116,
    "start_time": "2024-03-22T20:10:09.303Z"
   },
   {
    "duration": 6,
    "start_time": "2024-03-22T20:10:09.422Z"
   },
   {
    "duration": 210,
    "start_time": "2024-03-22T20:10:09.430Z"
   },
   {
    "duration": 6,
    "start_time": "2024-03-22T20:11:12.355Z"
   },
   {
    "duration": 118,
    "start_time": "2024-03-22T20:14:01.561Z"
   },
   {
    "duration": 6,
    "start_time": "2024-03-22T20:14:47.700Z"
   },
   {
    "duration": 178,
    "start_time": "2024-03-22T20:14:54.867Z"
   },
   {
    "duration": 171,
    "start_time": "2024-03-22T20:16:42.282Z"
   },
   {
    "duration": 5,
    "start_time": "2024-03-22T20:20:33.993Z"
   },
   {
    "duration": 180,
    "start_time": "2024-03-22T20:20:38.548Z"
   },
   {
    "duration": 5,
    "start_time": "2024-03-22T20:21:04.752Z"
   },
   {
    "duration": 108,
    "start_time": "2024-03-22T20:21:40.831Z"
   },
   {
    "duration": 156,
    "start_time": "2024-03-22T20:22:31.771Z"
   },
   {
    "duration": 6,
    "start_time": "2024-03-22T20:22:45.442Z"
   },
   {
    "duration": 6,
    "start_time": "2024-03-22T20:23:39.962Z"
   },
   {
    "duration": 10,
    "start_time": "2024-03-22T20:24:10.956Z"
   },
   {
    "duration": 9,
    "start_time": "2024-03-22T20:25:16.339Z"
   },
   {
    "duration": 133,
    "start_time": "2024-03-22T20:28:30.938Z"
   },
   {
    "duration": 6,
    "start_time": "2024-03-22T20:28:31.904Z"
   },
   {
    "duration": 8,
    "start_time": "2024-03-22T20:28:32.792Z"
   },
   {
    "duration": 23,
    "start_time": "2024-03-22T20:28:33.522Z"
   },
   {
    "duration": 5,
    "start_time": "2024-03-22T20:30:42.824Z"
   },
   {
    "duration": 5,
    "start_time": "2024-03-22T20:30:43.933Z"
   },
   {
    "duration": 14,
    "start_time": "2024-03-22T20:30:45.064Z"
   },
   {
    "duration": 11,
    "start_time": "2024-03-22T20:38:09.159Z"
   },
   {
    "duration": 12,
    "start_time": "2024-03-22T20:45:32.581Z"
   },
   {
    "duration": 10,
    "start_time": "2024-03-22T20:48:15.225Z"
   },
   {
    "duration": 10,
    "start_time": "2024-03-22T20:50:39.430Z"
   },
   {
    "duration": 10,
    "start_time": "2024-03-22T20:53:56.905Z"
   },
   {
    "duration": 111,
    "start_time": "2024-03-22T20:58:52.470Z"
   },
   {
    "duration": 102,
    "start_time": "2024-03-22T20:59:04.183Z"
   },
   {
    "duration": 9,
    "start_time": "2024-03-22T21:00:07.685Z"
   },
   {
    "duration": 10,
    "start_time": "2024-03-22T21:00:16.241Z"
   },
   {
    "duration": 10,
    "start_time": "2024-03-22T21:00:38.403Z"
   },
   {
    "duration": 10,
    "start_time": "2024-03-22T21:01:09.505Z"
   },
   {
    "duration": 1451,
    "start_time": "2024-03-22T21:29:00.896Z"
   },
   {
    "duration": 894,
    "start_time": "2024-03-22T21:29:02.349Z"
   },
   {
    "duration": 3,
    "start_time": "2024-03-22T21:29:03.244Z"
   },
   {
    "duration": 26,
    "start_time": "2024-03-22T21:29:03.249Z"
   },
   {
    "duration": 441,
    "start_time": "2024-03-22T21:29:03.276Z"
   },
   {
    "duration": 116,
    "start_time": "2024-03-22T21:29:03.718Z"
   },
   {
    "duration": 151,
    "start_time": "2024-03-22T21:29:03.836Z"
   },
   {
    "duration": 41,
    "start_time": "2024-03-22T21:29:03.989Z"
   },
   {
    "duration": 95,
    "start_time": "2024-03-22T21:29:04.031Z"
   },
   {
    "duration": 13,
    "start_time": "2024-03-22T21:29:04.129Z"
   },
   {
    "duration": 50,
    "start_time": "2024-03-22T21:29:04.143Z"
   },
   {
    "duration": 51,
    "start_time": "2024-03-22T21:29:04.195Z"
   },
   {
    "duration": 115,
    "start_time": "2024-03-22T21:29:04.248Z"
   },
   {
    "duration": 30,
    "start_time": "2024-03-22T21:29:04.364Z"
   },
   {
    "duration": 25,
    "start_time": "2024-03-22T21:29:04.395Z"
   },
   {
    "duration": 444,
    "start_time": "2024-03-22T21:29:04.421Z"
   },
   {
    "duration": 252,
    "start_time": "2024-03-22T21:29:04.869Z"
   },
   {
    "duration": 269,
    "start_time": "2024-03-22T21:29:05.123Z"
   },
   {
    "duration": 286,
    "start_time": "2024-03-22T21:29:05.394Z"
   },
   {
    "duration": 8,
    "start_time": "2024-03-22T21:29:05.681Z"
   },
   {
    "duration": 67,
    "start_time": "2024-03-22T21:29:05.692Z"
   },
   {
    "duration": 49,
    "start_time": "2024-03-22T21:29:05.760Z"
   },
   {
    "duration": 107,
    "start_time": "2024-03-22T21:29:05.810Z"
   },
   {
    "duration": 144,
    "start_time": "2024-03-22T21:29:05.918Z"
   },
   {
    "duration": 130,
    "start_time": "2024-03-22T21:29:06.064Z"
   },
   {
    "duration": 6,
    "start_time": "2024-03-22T21:29:06.196Z"
   },
   {
    "duration": 114,
    "start_time": "2024-03-22T21:29:06.203Z"
   },
   {
    "duration": 152,
    "start_time": "2024-03-22T21:29:06.320Z"
   },
   {
    "duration": 5,
    "start_time": "2024-03-22T21:29:06.473Z"
   },
   {
    "duration": 15,
    "start_time": "2024-03-22T21:29:06.480Z"
   },
   {
    "duration": 21,
    "start_time": "2024-03-22T21:29:06.497Z"
   },
   {
    "duration": 11,
    "start_time": "2024-03-22T21:29:06.520Z"
   },
   {
    "duration": 16,
    "start_time": "2024-03-22T21:29:06.532Z"
   },
   {
    "duration": 35,
    "start_time": "2024-03-22T21:29:06.550Z"
   },
   {
    "duration": 9,
    "start_time": "2024-03-22T21:29:06.586Z"
   },
   {
    "duration": 8,
    "start_time": "2024-03-22T21:29:06.597Z"
   },
   {
    "duration": 10,
    "start_time": "2024-03-22T21:29:06.606Z"
   },
   {
    "duration": 8,
    "start_time": "2024-03-22T21:29:06.618Z"
   },
   {
    "duration": 41,
    "start_time": "2024-03-22T21:29:06.628Z"
   },
   {
    "duration": 45,
    "start_time": "2024-03-24T08:06:00.570Z"
   },
   {
    "duration": 1336,
    "start_time": "2024-03-24T08:06:09.371Z"
   },
   {
    "duration": 809,
    "start_time": "2024-03-24T08:06:10.709Z"
   },
   {
    "duration": 3,
    "start_time": "2024-03-24T08:06:11.519Z"
   },
   {
    "duration": 24,
    "start_time": "2024-03-24T08:06:13.306Z"
   },
   {
    "duration": 290,
    "start_time": "2024-03-24T08:06:14.880Z"
   },
   {
    "duration": 92,
    "start_time": "2024-03-24T08:06:15.575Z"
   },
   {
    "duration": 121,
    "start_time": "2024-03-24T08:06:16.951Z"
   },
   {
    "duration": 39,
    "start_time": "2024-03-24T08:06:17.699Z"
   },
   {
    "duration": 68,
    "start_time": "2024-03-24T08:06:19.188Z"
   },
   {
    "duration": 9,
    "start_time": "2024-03-24T08:06:19.734Z"
   },
   {
    "duration": 64,
    "start_time": "2024-03-24T08:06:22.986Z"
   },
   {
    "duration": 12,
    "start_time": "2024-03-24T08:06:43.885Z"
   },
   {
    "duration": 80,
    "start_time": "2024-03-24T08:07:07.979Z"
   },
   {
    "duration": 46,
    "start_time": "2024-03-24T08:24:18.181Z"
   },
   {
    "duration": 1221,
    "start_time": "2024-03-24T08:24:59.952Z"
   },
   {
    "duration": 189,
    "start_time": "2024-03-24T08:25:01.176Z"
   },
   {
    "duration": 4,
    "start_time": "2024-03-24T08:25:01.367Z"
   },
   {
    "duration": 21,
    "start_time": "2024-03-24T08:25:02.503Z"
   },
   {
    "duration": 299,
    "start_time": "2024-03-24T08:25:02.693Z"
   },
   {
    "duration": 107,
    "start_time": "2024-03-24T08:25:02.994Z"
   },
   {
    "duration": 125,
    "start_time": "2024-03-24T08:25:03.304Z"
   },
   {
    "duration": 39,
    "start_time": "2024-03-24T08:25:03.533Z"
   },
   {
    "duration": 70,
    "start_time": "2024-03-24T08:25:04.086Z"
   },
   {
    "duration": 9,
    "start_time": "2024-03-24T08:25:04.308Z"
   },
   {
    "duration": 80,
    "start_time": "2024-03-24T08:25:04.716Z"
   },
   {
    "duration": 25,
    "start_time": "2024-03-24T08:25:05.540Z"
   },
   {
    "duration": 38,
    "start_time": "2024-03-24T08:25:06.041Z"
   },
   {
    "duration": 92,
    "start_time": "2024-03-24T08:25:06.478Z"
   },
   {
    "duration": 17,
    "start_time": "2024-03-24T08:25:07.641Z"
   },
   {
    "duration": 18,
    "start_time": "2024-03-24T08:25:07.900Z"
   },
   {
    "duration": 351,
    "start_time": "2024-03-24T08:25:09.448Z"
   },
   {
    "duration": 229,
    "start_time": "2024-03-24T08:25:09.801Z"
   },
   {
    "duration": 229,
    "start_time": "2024-03-24T08:25:10.031Z"
   },
   {
    "duration": 236,
    "start_time": "2024-03-24T08:25:11.182Z"
   },
   {
    "duration": 7,
    "start_time": "2024-03-24T08:25:13.902Z"
   },
   {
    "duration": 6,
    "start_time": "2024-03-24T08:25:16.651Z"
   },
   {
    "duration": 26,
    "start_time": "2024-03-24T08:26:03.825Z"
   },
   {
    "duration": 98,
    "start_time": "2024-03-24T08:27:41.297Z"
   },
   {
    "duration": 67,
    "start_time": "2024-03-24T08:27:54.112Z"
   },
   {
    "duration": 6,
    "start_time": "2024-03-24T09:17:53.251Z"
   },
   {
    "duration": 14,
    "start_time": "2024-03-24T09:17:59.107Z"
   },
   {
    "duration": 5,
    "start_time": "2024-03-24T09:21:01.053Z"
   },
   {
    "duration": 11,
    "start_time": "2024-03-24T09:21:05.623Z"
   },
   {
    "duration": 49,
    "start_time": "2024-03-24T09:21:16.449Z"
   },
   {
    "duration": 5,
    "start_time": "2024-03-24T09:21:16.788Z"
   },
   {
    "duration": 6,
    "start_time": "2024-03-24T09:21:17.362Z"
   },
   {
    "duration": 6,
    "start_time": "2024-03-24T09:21:17.741Z"
   },
   {
    "duration": 1136,
    "start_time": "2024-03-24T09:21:23.701Z"
   },
   {
    "duration": 180,
    "start_time": "2024-03-24T09:21:24.839Z"
   },
   {
    "duration": 3,
    "start_time": "2024-03-24T09:21:25.021Z"
   },
   {
    "duration": 21,
    "start_time": "2024-03-24T09:21:25.748Z"
   },
   {
    "duration": 290,
    "start_time": "2024-03-24T09:21:25.925Z"
   },
   {
    "duration": 99,
    "start_time": "2024-03-24T09:21:26.217Z"
   },
   {
    "duration": 125,
    "start_time": "2024-03-24T09:21:26.485Z"
   },
   {
    "duration": 37,
    "start_time": "2024-03-24T09:21:26.679Z"
   },
   {
    "duration": 69,
    "start_time": "2024-03-24T09:21:27.043Z"
   },
   {
    "duration": 9,
    "start_time": "2024-03-24T09:21:27.232Z"
   },
   {
    "duration": 78,
    "start_time": "2024-03-24T09:21:27.638Z"
   },
   {
    "duration": 28,
    "start_time": "2024-03-24T09:21:28.455Z"
   },
   {
    "duration": 40,
    "start_time": "2024-03-24T09:21:28.870Z"
   },
   {
    "duration": 81,
    "start_time": "2024-03-24T09:21:29.307Z"
   },
   {
    "duration": 20,
    "start_time": "2024-03-24T09:21:29.996Z"
   },
   {
    "duration": 18,
    "start_time": "2024-03-24T09:21:30.206Z"
   },
   {
    "duration": 366,
    "start_time": "2024-03-24T09:21:30.869Z"
   },
   {
    "duration": 220,
    "start_time": "2024-03-24T09:21:31.236Z"
   },
   {
    "duration": 224,
    "start_time": "2024-03-24T09:21:31.458Z"
   },
   {
    "duration": 255,
    "start_time": "2024-03-24T09:21:31.787Z"
   },
   {
    "duration": 8,
    "start_time": "2024-03-24T09:21:33.518Z"
   },
   {
    "duration": 5,
    "start_time": "2024-03-24T09:21:34.805Z"
   },
   {
    "duration": 63,
    "start_time": "2024-03-24T09:21:35.219Z"
   },
   {
    "duration": 24,
    "start_time": "2024-03-24T09:21:36.303Z"
   },
   {
    "duration": 86,
    "start_time": "2024-03-24T09:21:36.740Z"
   },
   {
    "duration": 112,
    "start_time": "2024-03-24T09:21:36.964Z"
   },
   {
    "duration": 87,
    "start_time": "2024-03-24T09:21:37.832Z"
   },
   {
    "duration": 4,
    "start_time": "2024-03-24T09:21:42.461Z"
   },
   {
    "duration": 89,
    "start_time": "2024-03-24T09:21:43.908Z"
   },
   {
    "duration": 121,
    "start_time": "2024-03-24T09:21:44.806Z"
   },
   {
    "duration": 4,
    "start_time": "2024-03-24T09:21:45.210Z"
   },
   {
    "duration": 5,
    "start_time": "2024-03-24T09:21:45.598Z"
   },
   {
    "duration": 10,
    "start_time": "2024-03-24T09:21:46.176Z"
   },
   {
    "duration": 9,
    "start_time": "2024-03-24T09:21:46.788Z"
   },
   {
    "duration": 9,
    "start_time": "2024-03-24T09:21:47.210Z"
   },
   {
    "duration": 8,
    "start_time": "2024-03-24T09:21:48.532Z"
   },
   {
    "duration": 9,
    "start_time": "2024-03-24T09:21:48.917Z"
   },
   {
    "duration": 11,
    "start_time": "2024-03-24T09:21:49.513Z"
   },
   {
    "duration": 9,
    "start_time": "2024-03-24T09:21:49.719Z"
   },
   {
    "duration": 8,
    "start_time": "2024-03-24T09:21:49.927Z"
   },
   {
    "duration": 9,
    "start_time": "2024-03-24T09:21:50.135Z"
   },
   {
    "duration": 60,
    "start_time": "2024-03-24T09:22:33.837Z"
   },
   {
    "duration": 1347,
    "start_time": "2024-03-24T10:42:21.486Z"
   },
   {
    "duration": 290,
    "start_time": "2024-03-24T10:42:22.835Z"
   },
   {
    "duration": 3,
    "start_time": "2024-03-24T10:42:23.126Z"
   },
   {
    "duration": 26,
    "start_time": "2024-03-24T10:42:23.131Z"
   },
   {
    "duration": 291,
    "start_time": "2024-03-24T10:42:23.159Z"
   },
   {
    "duration": 108,
    "start_time": "2024-03-24T10:42:23.451Z"
   },
   {
    "duration": 135,
    "start_time": "2024-03-24T10:42:23.561Z"
   },
   {
    "duration": 41,
    "start_time": "2024-03-24T10:42:23.698Z"
   },
   {
    "duration": 78,
    "start_time": "2024-03-24T10:42:23.740Z"
   },
   {
    "duration": 9,
    "start_time": "2024-03-24T10:42:23.819Z"
   },
   {
    "duration": 88,
    "start_time": "2024-03-24T10:42:23.830Z"
   },
   {
    "duration": 22,
    "start_time": "2024-03-24T10:42:23.920Z"
   },
   {
    "duration": 53,
    "start_time": "2024-03-24T10:42:23.944Z"
   },
   {
    "duration": 92,
    "start_time": "2024-03-24T10:42:24.000Z"
   },
   {
    "duration": 24,
    "start_time": "2024-03-24T10:42:24.094Z"
   },
   {
    "duration": 28,
    "start_time": "2024-03-24T10:42:24.120Z"
   },
   {
    "duration": 343,
    "start_time": "2024-03-24T10:42:24.150Z"
   },
   {
    "duration": 211,
    "start_time": "2024-03-24T10:42:24.495Z"
   },
   {
    "duration": 226,
    "start_time": "2024-03-24T10:42:24.708Z"
   },
   {
    "duration": 261,
    "start_time": "2024-03-24T10:42:24.936Z"
   },
   {
    "duration": 7,
    "start_time": "2024-03-24T10:42:25.198Z"
   },
   {
    "duration": 16,
    "start_time": "2024-03-24T10:42:25.206Z"
   },
   {
    "duration": 65,
    "start_time": "2024-03-24T10:42:25.223Z"
   },
   {
    "duration": 36,
    "start_time": "2024-03-24T10:42:25.290Z"
   },
   {
    "duration": 100,
    "start_time": "2024-03-24T10:42:25.328Z"
   },
   {
    "duration": 130,
    "start_time": "2024-03-24T10:42:25.429Z"
   },
   {
    "duration": 101,
    "start_time": "2024-03-24T10:42:25.561Z"
   },
   {
    "duration": 4,
    "start_time": "2024-03-24T10:42:25.663Z"
   },
   {
    "duration": 106,
    "start_time": "2024-03-24T10:42:25.669Z"
   },
   {
    "duration": 150,
    "start_time": "2024-03-24T10:42:25.776Z"
   },
   {
    "duration": 4,
    "start_time": "2024-03-24T10:42:25.928Z"
   },
   {
    "duration": 12,
    "start_time": "2024-03-24T10:42:25.934Z"
   },
   {
    "duration": 18,
    "start_time": "2024-03-24T10:42:25.947Z"
   },
   {
    "duration": 10,
    "start_time": "2024-03-24T10:42:25.967Z"
   },
   {
    "duration": 12,
    "start_time": "2024-03-24T10:42:25.978Z"
   },
   {
    "duration": 9,
    "start_time": "2024-03-24T10:42:25.991Z"
   },
   {
    "duration": 9,
    "start_time": "2024-03-24T10:42:26.017Z"
   },
   {
    "duration": 8,
    "start_time": "2024-03-24T10:42:26.028Z"
   },
   {
    "duration": 11,
    "start_time": "2024-03-24T10:42:26.038Z"
   },
   {
    "duration": 35,
    "start_time": "2024-03-24T10:42:26.051Z"
   },
   {
    "duration": 35,
    "start_time": "2024-03-24T10:42:26.090Z"
   },
   {
    "duration": 113,
    "start_time": "2024-03-24T10:42:26.127Z"
   },
   {
    "duration": 1131,
    "start_time": "2024-03-24T11:26:29.494Z"
   },
   {
    "duration": 190,
    "start_time": "2024-03-24T11:26:30.627Z"
   },
   {
    "duration": 3,
    "start_time": "2024-03-24T11:26:30.819Z"
   },
   {
    "duration": 88,
    "start_time": "2024-03-24T11:26:30.823Z"
   },
   {
    "duration": 349,
    "start_time": "2024-03-24T11:26:30.913Z"
   },
   {
    "duration": 106,
    "start_time": "2024-03-24T11:26:31.264Z"
   },
   {
    "duration": 129,
    "start_time": "2024-03-24T11:26:31.372Z"
   },
   {
    "duration": 41,
    "start_time": "2024-03-24T11:26:31.503Z"
   },
   {
    "duration": 84,
    "start_time": "2024-03-24T11:26:31.546Z"
   },
   {
    "duration": 10,
    "start_time": "2024-03-24T11:26:31.633Z"
   },
   {
    "duration": 109,
    "start_time": "2024-03-24T11:26:31.644Z"
   },
   {
    "duration": 24,
    "start_time": "2024-03-24T11:26:31.755Z"
   },
   {
    "duration": 82,
    "start_time": "2024-03-24T11:26:31.781Z"
   },
   {
    "duration": 137,
    "start_time": "2024-03-24T11:26:31.865Z"
   },
   {
    "duration": 22,
    "start_time": "2024-03-24T11:26:32.004Z"
   },
   {
    "duration": 33,
    "start_time": "2024-03-24T11:26:32.028Z"
   },
   {
    "duration": 361,
    "start_time": "2024-03-24T11:26:32.063Z"
   },
   {
    "duration": 214,
    "start_time": "2024-03-24T11:26:32.425Z"
   },
   {
    "duration": 216,
    "start_time": "2024-03-24T11:26:32.640Z"
   },
   {
    "duration": 258,
    "start_time": "2024-03-24T11:26:32.857Z"
   },
   {
    "duration": 7,
    "start_time": "2024-03-24T11:26:33.118Z"
   },
   {
    "duration": 7,
    "start_time": "2024-03-24T11:26:33.126Z"
   },
   {
    "duration": 89,
    "start_time": "2024-03-24T11:26:33.135Z"
   },
   {
    "duration": 39,
    "start_time": "2024-03-24T11:26:33.226Z"
   },
   {
    "duration": 105,
    "start_time": "2024-03-24T11:26:33.267Z"
   },
   {
    "duration": 126,
    "start_time": "2024-03-24T11:26:33.373Z"
   },
   {
    "duration": 88,
    "start_time": "2024-03-24T11:26:33.500Z"
   },
   {
    "duration": 4,
    "start_time": "2024-03-24T11:26:33.591Z"
   },
   {
    "duration": 95,
    "start_time": "2024-03-24T11:26:33.596Z"
   },
   {
    "duration": 116,
    "start_time": "2024-03-24T11:26:33.693Z"
   },
   {
    "duration": 5,
    "start_time": "2024-03-24T11:26:33.818Z"
   },
   {
    "duration": 8,
    "start_time": "2024-03-24T11:26:33.824Z"
   },
   {
    "duration": 20,
    "start_time": "2024-03-24T11:26:33.834Z"
   },
   {
    "duration": 10,
    "start_time": "2024-03-24T11:26:33.855Z"
   },
   {
    "duration": 11,
    "start_time": "2024-03-24T11:26:33.866Z"
   },
   {
    "duration": 9,
    "start_time": "2024-03-24T11:26:33.879Z"
   },
   {
    "duration": 29,
    "start_time": "2024-03-24T11:26:33.890Z"
   },
   {
    "duration": 12,
    "start_time": "2024-03-24T11:26:33.921Z"
   },
   {
    "duration": 10,
    "start_time": "2024-03-24T11:26:33.934Z"
   },
   {
    "duration": 8,
    "start_time": "2024-03-24T11:26:33.946Z"
   },
   {
    "duration": 9,
    "start_time": "2024-03-24T11:26:33.955Z"
   },
   {
    "duration": 122,
    "start_time": "2024-03-24T11:26:33.965Z"
   },
   {
    "duration": 137,
    "start_time": "2024-03-24T11:27:31.114Z"
   },
   {
    "duration": 5,
    "start_time": "2024-03-24T11:29:58.453Z"
   },
   {
    "duration": 5,
    "start_time": "2024-03-24T11:31:31.617Z"
   },
   {
    "duration": 4,
    "start_time": "2024-03-24T11:31:39.299Z"
   },
   {
    "duration": 10,
    "start_time": "2024-03-24T11:31:46.775Z"
   },
   {
    "duration": 5,
    "start_time": "2024-03-24T11:33:11.295Z"
   },
   {
    "duration": 4,
    "start_time": "2024-03-24T11:33:22.330Z"
   },
   {
    "duration": 9,
    "start_time": "2024-03-24T11:35:35.732Z"
   },
   {
    "duration": 9,
    "start_time": "2024-03-24T11:35:54.597Z"
   },
   {
    "duration": 10,
    "start_time": "2024-03-24T11:35:54.918Z"
   },
   {
    "duration": 9,
    "start_time": "2024-03-24T11:35:55.208Z"
   },
   {
    "duration": 10,
    "start_time": "2024-03-24T11:38:11.925Z"
   },
   {
    "duration": 9,
    "start_time": "2024-03-24T11:38:23.602Z"
   },
   {
    "duration": 9,
    "start_time": "2024-03-24T11:38:55.745Z"
   },
   {
    "duration": 8,
    "start_time": "2024-03-24T11:38:57.102Z"
   },
   {
    "duration": 9,
    "start_time": "2024-03-24T11:39:15.756Z"
   },
   {
    "duration": 8,
    "start_time": "2024-03-24T11:39:34.037Z"
   },
   {
    "duration": 10,
    "start_time": "2024-03-24T11:42:44.419Z"
   }
  ],
  "kernelspec": {
   "display_name": "Python 3 (ipykernel)",
   "language": "python",
   "name": "python3"
  },
  "language_info": {
   "codemirror_mode": {
    "name": "ipython",
    "version": 3
   },
   "file_extension": ".py",
   "mimetype": "text/x-python",
   "name": "python",
   "nbconvert_exporter": "python",
   "pygments_lexer": "ipython3",
   "version": "3.11.7"
  },
  "toc": {
   "base_numbering": 1,
   "nav_menu": {},
   "number_sections": true,
   "sideBar": true,
   "skip_h1_title": true,
   "title_cell": "Table of Contents",
   "title_sidebar": "Contents",
   "toc_cell": false,
   "toc_position": {},
   "toc_section_display": true,
   "toc_window_display": false
  }
 },
 "nbformat": 4,
 "nbformat_minor": 4
}
