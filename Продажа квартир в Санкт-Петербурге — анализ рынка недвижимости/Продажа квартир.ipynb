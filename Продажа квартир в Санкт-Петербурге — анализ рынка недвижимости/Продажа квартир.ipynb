{
 "cells": [
  {
   "cell_type": "markdown",
   "metadata": {},
   "source": [
    "# Исследование объявлений о продаже квартир\n",
    "\n",
    "В вашем распоряжении данные сервиса Яндекс.Недвижимость — архив объявлений о продаже квартир в Санкт-Петербурге и соседних населённых пунктов за несколько лет. Нужно научиться определять рыночную стоимость объектов недвижимости. Ваша задача — установить параметры. Это позволит построить автоматизированную систему: она отследит аномалии и мошенническую деятельность. \n",
    "\n",
    "По каждой квартире на продажу доступны два вида данных. Первые вписаны пользователем, вторые — получены автоматически на основе картографических данных. Например, расстояние до центра, аэропорта, ближайшего парка и водоёма. "
   ]
  },
  {
   "cell_type": "markdown",
   "metadata": {},
   "source": [
    "### Откройте файл с данными и изучите общую информацию. "
   ]
  },
  {
   "cell_type": "code",
   "execution_count": 1,
   "metadata": {},
   "outputs": [
    {
     "name": "stdout",
     "output_type": "stream",
     "text": [
      "<class 'pandas.core.frame.DataFrame'>\n",
      "RangeIndex: 23699 entries, 0 to 23698\n",
      "Data columns (total 22 columns):\n",
      " #   Column                Non-Null Count  Dtype  \n",
      "---  ------                --------------  -----  \n",
      " 0   total_images          23699 non-null  int64  \n",
      " 1   last_price            23699 non-null  float64\n",
      " 2   total_area            23699 non-null  float64\n",
      " 3   first_day_exposition  23699 non-null  object \n",
      " 4   rooms                 23699 non-null  int64  \n",
      " 5   ceiling_height        14504 non-null  float64\n",
      " 6   floors_total          23613 non-null  float64\n",
      " 7   living_area           21796 non-null  float64\n",
      " 8   floor                 23699 non-null  int64  \n",
      " 9   is_apartment          2775 non-null   object \n",
      " 10  studio                23699 non-null  bool   \n",
      " 11  open_plan             23699 non-null  bool   \n",
      " 12  kitchen_area          21421 non-null  float64\n",
      " 13  balcony               12180 non-null  float64\n",
      " 14  locality_name         23650 non-null  object \n",
      " 15  airports_nearest      18157 non-null  float64\n",
      " 16  cityCenters_nearest   18180 non-null  float64\n",
      " 17  parks_around3000      18181 non-null  float64\n",
      " 18  parks_nearest         8079 non-null   float64\n",
      " 19  ponds_around3000      18181 non-null  float64\n",
      " 20  ponds_nearest         9110 non-null   float64\n",
      " 21  days_exposition       20518 non-null  float64\n",
      "dtypes: bool(2), float64(14), int64(3), object(3)\n",
      "memory usage: 3.7+ MB\n"
     ]
    }
   ],
   "source": [
    "import pandas as pd\n",
    "import matplotlib.pyplot as plt\n",
    "data = pd.read_csv('/datasets/real_estate_data.csv', sep = '\\t')\n",
    "data.info()"
   ]
  },
  {
   "cell_type": "code",
   "execution_count": 2,
   "metadata": {
    "scrolled": true
   },
   "outputs": [
    {
     "data": {
      "text/html": [
       "<div>\n",
       "<style scoped>\n",
       "    .dataframe tbody tr th:only-of-type {\n",
       "        vertical-align: middle;\n",
       "    }\n",
       "\n",
       "    .dataframe tbody tr th {\n",
       "        vertical-align: top;\n",
       "    }\n",
       "\n",
       "    .dataframe thead th {\n",
       "        text-align: right;\n",
       "    }\n",
       "</style>\n",
       "<table border=\"1\" class=\"dataframe\">\n",
       "  <thead>\n",
       "    <tr style=\"text-align: right;\">\n",
       "      <th></th>\n",
       "      <th>total_images</th>\n",
       "      <th>last_price</th>\n",
       "      <th>total_area</th>\n",
       "      <th>first_day_exposition</th>\n",
       "      <th>rooms</th>\n",
       "      <th>ceiling_height</th>\n",
       "      <th>floors_total</th>\n",
       "      <th>living_area</th>\n",
       "      <th>floor</th>\n",
       "      <th>is_apartment</th>\n",
       "      <th>...</th>\n",
       "      <th>kitchen_area</th>\n",
       "      <th>balcony</th>\n",
       "      <th>locality_name</th>\n",
       "      <th>airports_nearest</th>\n",
       "      <th>cityCenters_nearest</th>\n",
       "      <th>parks_around3000</th>\n",
       "      <th>parks_nearest</th>\n",
       "      <th>ponds_around3000</th>\n",
       "      <th>ponds_nearest</th>\n",
       "      <th>days_exposition</th>\n",
       "    </tr>\n",
       "  </thead>\n",
       "  <tbody>\n",
       "    <tr>\n",
       "      <th>0</th>\n",
       "      <td>20</td>\n",
       "      <td>13000000.0</td>\n",
       "      <td>108.00</td>\n",
       "      <td>2019-03-07T00:00:00</td>\n",
       "      <td>3</td>\n",
       "      <td>2.70</td>\n",
       "      <td>16.0</td>\n",
       "      <td>51.00</td>\n",
       "      <td>8</td>\n",
       "      <td>NaN</td>\n",
       "      <td>...</td>\n",
       "      <td>25.00</td>\n",
       "      <td>NaN</td>\n",
       "      <td>Санкт-Петербург</td>\n",
       "      <td>18863.0</td>\n",
       "      <td>16028.0</td>\n",
       "      <td>1.0</td>\n",
       "      <td>482.0</td>\n",
       "      <td>2.0</td>\n",
       "      <td>755.0</td>\n",
       "      <td>NaN</td>\n",
       "    </tr>\n",
       "    <tr>\n",
       "      <th>1</th>\n",
       "      <td>7</td>\n",
       "      <td>3350000.0</td>\n",
       "      <td>40.40</td>\n",
       "      <td>2018-12-04T00:00:00</td>\n",
       "      <td>1</td>\n",
       "      <td>NaN</td>\n",
       "      <td>11.0</td>\n",
       "      <td>18.60</td>\n",
       "      <td>1</td>\n",
       "      <td>NaN</td>\n",
       "      <td>...</td>\n",
       "      <td>11.00</td>\n",
       "      <td>2.0</td>\n",
       "      <td>посёлок Шушары</td>\n",
       "      <td>12817.0</td>\n",
       "      <td>18603.0</td>\n",
       "      <td>0.0</td>\n",
       "      <td>NaN</td>\n",
       "      <td>0.0</td>\n",
       "      <td>NaN</td>\n",
       "      <td>81.0</td>\n",
       "    </tr>\n",
       "    <tr>\n",
       "      <th>2</th>\n",
       "      <td>10</td>\n",
       "      <td>5196000.0</td>\n",
       "      <td>56.00</td>\n",
       "      <td>2015-08-20T00:00:00</td>\n",
       "      <td>2</td>\n",
       "      <td>NaN</td>\n",
       "      <td>5.0</td>\n",
       "      <td>34.30</td>\n",
       "      <td>4</td>\n",
       "      <td>NaN</td>\n",
       "      <td>...</td>\n",
       "      <td>8.30</td>\n",
       "      <td>0.0</td>\n",
       "      <td>Санкт-Петербург</td>\n",
       "      <td>21741.0</td>\n",
       "      <td>13933.0</td>\n",
       "      <td>1.0</td>\n",
       "      <td>90.0</td>\n",
       "      <td>2.0</td>\n",
       "      <td>574.0</td>\n",
       "      <td>558.0</td>\n",
       "    </tr>\n",
       "    <tr>\n",
       "      <th>3</th>\n",
       "      <td>0</td>\n",
       "      <td>64900000.0</td>\n",
       "      <td>159.00</td>\n",
       "      <td>2015-07-24T00:00:00</td>\n",
       "      <td>3</td>\n",
       "      <td>NaN</td>\n",
       "      <td>14.0</td>\n",
       "      <td>NaN</td>\n",
       "      <td>9</td>\n",
       "      <td>NaN</td>\n",
       "      <td>...</td>\n",
       "      <td>NaN</td>\n",
       "      <td>0.0</td>\n",
       "      <td>Санкт-Петербург</td>\n",
       "      <td>28098.0</td>\n",
       "      <td>6800.0</td>\n",
       "      <td>2.0</td>\n",
       "      <td>84.0</td>\n",
       "      <td>3.0</td>\n",
       "      <td>234.0</td>\n",
       "      <td>424.0</td>\n",
       "    </tr>\n",
       "    <tr>\n",
       "      <th>4</th>\n",
       "      <td>2</td>\n",
       "      <td>10000000.0</td>\n",
       "      <td>100.00</td>\n",
       "      <td>2018-06-19T00:00:00</td>\n",
       "      <td>2</td>\n",
       "      <td>3.03</td>\n",
       "      <td>14.0</td>\n",
       "      <td>32.00</td>\n",
       "      <td>13</td>\n",
       "      <td>NaN</td>\n",
       "      <td>...</td>\n",
       "      <td>41.00</td>\n",
       "      <td>NaN</td>\n",
       "      <td>Санкт-Петербург</td>\n",
       "      <td>31856.0</td>\n",
       "      <td>8098.0</td>\n",
       "      <td>2.0</td>\n",
       "      <td>112.0</td>\n",
       "      <td>1.0</td>\n",
       "      <td>48.0</td>\n",
       "      <td>121.0</td>\n",
       "    </tr>\n",
       "    <tr>\n",
       "      <th>5</th>\n",
       "      <td>10</td>\n",
       "      <td>2890000.0</td>\n",
       "      <td>30.40</td>\n",
       "      <td>2018-09-10T00:00:00</td>\n",
       "      <td>1</td>\n",
       "      <td>NaN</td>\n",
       "      <td>12.0</td>\n",
       "      <td>14.40</td>\n",
       "      <td>5</td>\n",
       "      <td>NaN</td>\n",
       "      <td>...</td>\n",
       "      <td>9.10</td>\n",
       "      <td>NaN</td>\n",
       "      <td>городской посёлок Янино-1</td>\n",
       "      <td>NaN</td>\n",
       "      <td>NaN</td>\n",
       "      <td>NaN</td>\n",
       "      <td>NaN</td>\n",
       "      <td>NaN</td>\n",
       "      <td>NaN</td>\n",
       "      <td>55.0</td>\n",
       "    </tr>\n",
       "    <tr>\n",
       "      <th>6</th>\n",
       "      <td>6</td>\n",
       "      <td>3700000.0</td>\n",
       "      <td>37.30</td>\n",
       "      <td>2017-11-02T00:00:00</td>\n",
       "      <td>1</td>\n",
       "      <td>NaN</td>\n",
       "      <td>26.0</td>\n",
       "      <td>10.60</td>\n",
       "      <td>6</td>\n",
       "      <td>NaN</td>\n",
       "      <td>...</td>\n",
       "      <td>14.40</td>\n",
       "      <td>1.0</td>\n",
       "      <td>посёлок Парголово</td>\n",
       "      <td>52996.0</td>\n",
       "      <td>19143.0</td>\n",
       "      <td>0.0</td>\n",
       "      <td>NaN</td>\n",
       "      <td>0.0</td>\n",
       "      <td>NaN</td>\n",
       "      <td>155.0</td>\n",
       "    </tr>\n",
       "    <tr>\n",
       "      <th>7</th>\n",
       "      <td>5</td>\n",
       "      <td>7915000.0</td>\n",
       "      <td>71.60</td>\n",
       "      <td>2019-04-18T00:00:00</td>\n",
       "      <td>2</td>\n",
       "      <td>NaN</td>\n",
       "      <td>24.0</td>\n",
       "      <td>NaN</td>\n",
       "      <td>22</td>\n",
       "      <td>NaN</td>\n",
       "      <td>...</td>\n",
       "      <td>18.90</td>\n",
       "      <td>2.0</td>\n",
       "      <td>Санкт-Петербург</td>\n",
       "      <td>23982.0</td>\n",
       "      <td>11634.0</td>\n",
       "      <td>0.0</td>\n",
       "      <td>NaN</td>\n",
       "      <td>0.0</td>\n",
       "      <td>NaN</td>\n",
       "      <td>NaN</td>\n",
       "    </tr>\n",
       "    <tr>\n",
       "      <th>8</th>\n",
       "      <td>20</td>\n",
       "      <td>2900000.0</td>\n",
       "      <td>33.16</td>\n",
       "      <td>2018-05-23T00:00:00</td>\n",
       "      <td>1</td>\n",
       "      <td>NaN</td>\n",
       "      <td>27.0</td>\n",
       "      <td>15.43</td>\n",
       "      <td>26</td>\n",
       "      <td>NaN</td>\n",
       "      <td>...</td>\n",
       "      <td>8.81</td>\n",
       "      <td>NaN</td>\n",
       "      <td>посёлок Мурино</td>\n",
       "      <td>NaN</td>\n",
       "      <td>NaN</td>\n",
       "      <td>NaN</td>\n",
       "      <td>NaN</td>\n",
       "      <td>NaN</td>\n",
       "      <td>NaN</td>\n",
       "      <td>189.0</td>\n",
       "    </tr>\n",
       "    <tr>\n",
       "      <th>9</th>\n",
       "      <td>18</td>\n",
       "      <td>5400000.0</td>\n",
       "      <td>61.00</td>\n",
       "      <td>2017-02-26T00:00:00</td>\n",
       "      <td>3</td>\n",
       "      <td>2.50</td>\n",
       "      <td>9.0</td>\n",
       "      <td>43.60</td>\n",
       "      <td>7</td>\n",
       "      <td>NaN</td>\n",
       "      <td>...</td>\n",
       "      <td>6.50</td>\n",
       "      <td>2.0</td>\n",
       "      <td>Санкт-Петербург</td>\n",
       "      <td>50898.0</td>\n",
       "      <td>15008.0</td>\n",
       "      <td>0.0</td>\n",
       "      <td>NaN</td>\n",
       "      <td>0.0</td>\n",
       "      <td>NaN</td>\n",
       "      <td>289.0</td>\n",
       "    </tr>\n",
       "    <tr>\n",
       "      <th>10</th>\n",
       "      <td>5</td>\n",
       "      <td>5050000.0</td>\n",
       "      <td>39.60</td>\n",
       "      <td>2017-11-16T00:00:00</td>\n",
       "      <td>1</td>\n",
       "      <td>2.67</td>\n",
       "      <td>12.0</td>\n",
       "      <td>20.30</td>\n",
       "      <td>3</td>\n",
       "      <td>NaN</td>\n",
       "      <td>...</td>\n",
       "      <td>8.50</td>\n",
       "      <td>NaN</td>\n",
       "      <td>Санкт-Петербург</td>\n",
       "      <td>38357.0</td>\n",
       "      <td>13878.0</td>\n",
       "      <td>1.0</td>\n",
       "      <td>310.0</td>\n",
       "      <td>2.0</td>\n",
       "      <td>553.0</td>\n",
       "      <td>137.0</td>\n",
       "    </tr>\n",
       "    <tr>\n",
       "      <th>11</th>\n",
       "      <td>9</td>\n",
       "      <td>3300000.0</td>\n",
       "      <td>44.00</td>\n",
       "      <td>2018-08-27T00:00:00</td>\n",
       "      <td>2</td>\n",
       "      <td>NaN</td>\n",
       "      <td>5.0</td>\n",
       "      <td>31.00</td>\n",
       "      <td>4</td>\n",
       "      <td>False</td>\n",
       "      <td>...</td>\n",
       "      <td>6.00</td>\n",
       "      <td>1.0</td>\n",
       "      <td>Ломоносов</td>\n",
       "      <td>48252.0</td>\n",
       "      <td>51677.0</td>\n",
       "      <td>0.0</td>\n",
       "      <td>NaN</td>\n",
       "      <td>0.0</td>\n",
       "      <td>NaN</td>\n",
       "      <td>7.0</td>\n",
       "    </tr>\n",
       "    <tr>\n",
       "      <th>12</th>\n",
       "      <td>10</td>\n",
       "      <td>3890000.0</td>\n",
       "      <td>54.00</td>\n",
       "      <td>2016-06-30T00:00:00</td>\n",
       "      <td>2</td>\n",
       "      <td>NaN</td>\n",
       "      <td>5.0</td>\n",
       "      <td>30.00</td>\n",
       "      <td>5</td>\n",
       "      <td>NaN</td>\n",
       "      <td>...</td>\n",
       "      <td>9.00</td>\n",
       "      <td>0.0</td>\n",
       "      <td>Сертолово</td>\n",
       "      <td>NaN</td>\n",
       "      <td>NaN</td>\n",
       "      <td>NaN</td>\n",
       "      <td>NaN</td>\n",
       "      <td>NaN</td>\n",
       "      <td>NaN</td>\n",
       "      <td>90.0</td>\n",
       "    </tr>\n",
       "    <tr>\n",
       "      <th>13</th>\n",
       "      <td>20</td>\n",
       "      <td>3550000.0</td>\n",
       "      <td>42.80</td>\n",
       "      <td>2017-07-01T00:00:00</td>\n",
       "      <td>2</td>\n",
       "      <td>2.56</td>\n",
       "      <td>5.0</td>\n",
       "      <td>27.00</td>\n",
       "      <td>5</td>\n",
       "      <td>NaN</td>\n",
       "      <td>...</td>\n",
       "      <td>5.20</td>\n",
       "      <td>1.0</td>\n",
       "      <td>Петергоф</td>\n",
       "      <td>37868.0</td>\n",
       "      <td>33058.0</td>\n",
       "      <td>1.0</td>\n",
       "      <td>294.0</td>\n",
       "      <td>3.0</td>\n",
       "      <td>298.0</td>\n",
       "      <td>366.0</td>\n",
       "    </tr>\n",
       "    <tr>\n",
       "      <th>14</th>\n",
       "      <td>1</td>\n",
       "      <td>4400000.0</td>\n",
       "      <td>36.00</td>\n",
       "      <td>2016-06-23T00:00:00</td>\n",
       "      <td>1</td>\n",
       "      <td>NaN</td>\n",
       "      <td>6.0</td>\n",
       "      <td>17.00</td>\n",
       "      <td>1</td>\n",
       "      <td>NaN</td>\n",
       "      <td>...</td>\n",
       "      <td>8.00</td>\n",
       "      <td>0.0</td>\n",
       "      <td>Пушкин</td>\n",
       "      <td>20782.0</td>\n",
       "      <td>30759.0</td>\n",
       "      <td>0.0</td>\n",
       "      <td>NaN</td>\n",
       "      <td>1.0</td>\n",
       "      <td>96.0</td>\n",
       "      <td>203.0</td>\n",
       "    </tr>\n",
       "    <tr>\n",
       "      <th>15</th>\n",
       "      <td>16</td>\n",
       "      <td>4650000.0</td>\n",
       "      <td>39.00</td>\n",
       "      <td>2017-11-18T00:00:00</td>\n",
       "      <td>1</td>\n",
       "      <td>NaN</td>\n",
       "      <td>14.0</td>\n",
       "      <td>20.50</td>\n",
       "      <td>5</td>\n",
       "      <td>NaN</td>\n",
       "      <td>...</td>\n",
       "      <td>7.60</td>\n",
       "      <td>1.0</td>\n",
       "      <td>Санкт-Петербург</td>\n",
       "      <td>12900.0</td>\n",
       "      <td>14259.0</td>\n",
       "      <td>1.0</td>\n",
       "      <td>590.0</td>\n",
       "      <td>1.0</td>\n",
       "      <td>296.0</td>\n",
       "      <td>19.0</td>\n",
       "    </tr>\n",
       "    <tr>\n",
       "      <th>16</th>\n",
       "      <td>11</td>\n",
       "      <td>6700000.0</td>\n",
       "      <td>82.00</td>\n",
       "      <td>2017-11-23T00:00:00</td>\n",
       "      <td>3</td>\n",
       "      <td>3.05</td>\n",
       "      <td>5.0</td>\n",
       "      <td>55.60</td>\n",
       "      <td>1</td>\n",
       "      <td>NaN</td>\n",
       "      <td>...</td>\n",
       "      <td>9.00</td>\n",
       "      <td>NaN</td>\n",
       "      <td>Санкт-Петербург</td>\n",
       "      <td>22108.0</td>\n",
       "      <td>10698.0</td>\n",
       "      <td>3.0</td>\n",
       "      <td>420.0</td>\n",
       "      <td>0.0</td>\n",
       "      <td>NaN</td>\n",
       "      <td>397.0</td>\n",
       "    </tr>\n",
       "    <tr>\n",
       "      <th>17</th>\n",
       "      <td>6</td>\n",
       "      <td>4180000.0</td>\n",
       "      <td>36.00</td>\n",
       "      <td>2016-09-09T00:00:00</td>\n",
       "      <td>1</td>\n",
       "      <td>NaN</td>\n",
       "      <td>17.0</td>\n",
       "      <td>16.50</td>\n",
       "      <td>7</td>\n",
       "      <td>NaN</td>\n",
       "      <td>...</td>\n",
       "      <td>11.00</td>\n",
       "      <td>1.0</td>\n",
       "      <td>Санкт-Петербург</td>\n",
       "      <td>33564.0</td>\n",
       "      <td>14616.0</td>\n",
       "      <td>0.0</td>\n",
       "      <td>NaN</td>\n",
       "      <td>1.0</td>\n",
       "      <td>859.0</td>\n",
       "      <td>571.0</td>\n",
       "    </tr>\n",
       "    <tr>\n",
       "      <th>18</th>\n",
       "      <td>8</td>\n",
       "      <td>3250000.0</td>\n",
       "      <td>31.00</td>\n",
       "      <td>2017-01-27T00:00:00</td>\n",
       "      <td>1</td>\n",
       "      <td>2.50</td>\n",
       "      <td>5.0</td>\n",
       "      <td>19.40</td>\n",
       "      <td>2</td>\n",
       "      <td>NaN</td>\n",
       "      <td>...</td>\n",
       "      <td>5.60</td>\n",
       "      <td>1.0</td>\n",
       "      <td>Санкт-Петербург</td>\n",
       "      <td>44060.0</td>\n",
       "      <td>10842.0</td>\n",
       "      <td>1.0</td>\n",
       "      <td>759.0</td>\n",
       "      <td>0.0</td>\n",
       "      <td>NaN</td>\n",
       "      <td>168.0</td>\n",
       "    </tr>\n",
       "    <tr>\n",
       "      <th>19</th>\n",
       "      <td>16</td>\n",
       "      <td>14200000.0</td>\n",
       "      <td>121.00</td>\n",
       "      <td>2019-01-09T00:00:00</td>\n",
       "      <td>3</td>\n",
       "      <td>2.75</td>\n",
       "      <td>16.0</td>\n",
       "      <td>76.00</td>\n",
       "      <td>8</td>\n",
       "      <td>NaN</td>\n",
       "      <td>...</td>\n",
       "      <td>12.00</td>\n",
       "      <td>NaN</td>\n",
       "      <td>Санкт-Петербург</td>\n",
       "      <td>38900.0</td>\n",
       "      <td>12843.0</td>\n",
       "      <td>0.0</td>\n",
       "      <td>NaN</td>\n",
       "      <td>0.0</td>\n",
       "      <td>NaN</td>\n",
       "      <td>97.0</td>\n",
       "    </tr>\n",
       "  </tbody>\n",
       "</table>\n",
       "<p>20 rows × 22 columns</p>\n",
       "</div>"
      ],
      "text/plain": [
       "    total_images  last_price  total_area first_day_exposition  rooms  \\\n",
       "0             20  13000000.0      108.00  2019-03-07T00:00:00      3   \n",
       "1              7   3350000.0       40.40  2018-12-04T00:00:00      1   \n",
       "2             10   5196000.0       56.00  2015-08-20T00:00:00      2   \n",
       "3              0  64900000.0      159.00  2015-07-24T00:00:00      3   \n",
       "4              2  10000000.0      100.00  2018-06-19T00:00:00      2   \n",
       "5             10   2890000.0       30.40  2018-09-10T00:00:00      1   \n",
       "6              6   3700000.0       37.30  2017-11-02T00:00:00      1   \n",
       "7              5   7915000.0       71.60  2019-04-18T00:00:00      2   \n",
       "8             20   2900000.0       33.16  2018-05-23T00:00:00      1   \n",
       "9             18   5400000.0       61.00  2017-02-26T00:00:00      3   \n",
       "10             5   5050000.0       39.60  2017-11-16T00:00:00      1   \n",
       "11             9   3300000.0       44.00  2018-08-27T00:00:00      2   \n",
       "12            10   3890000.0       54.00  2016-06-30T00:00:00      2   \n",
       "13            20   3550000.0       42.80  2017-07-01T00:00:00      2   \n",
       "14             1   4400000.0       36.00  2016-06-23T00:00:00      1   \n",
       "15            16   4650000.0       39.00  2017-11-18T00:00:00      1   \n",
       "16            11   6700000.0       82.00  2017-11-23T00:00:00      3   \n",
       "17             6   4180000.0       36.00  2016-09-09T00:00:00      1   \n",
       "18             8   3250000.0       31.00  2017-01-27T00:00:00      1   \n",
       "19            16  14200000.0      121.00  2019-01-09T00:00:00      3   \n",
       "\n",
       "    ceiling_height  floors_total  living_area  floor is_apartment  ...  \\\n",
       "0             2.70          16.0        51.00      8          NaN  ...   \n",
       "1              NaN          11.0        18.60      1          NaN  ...   \n",
       "2              NaN           5.0        34.30      4          NaN  ...   \n",
       "3              NaN          14.0          NaN      9          NaN  ...   \n",
       "4             3.03          14.0        32.00     13          NaN  ...   \n",
       "5              NaN          12.0        14.40      5          NaN  ...   \n",
       "6              NaN          26.0        10.60      6          NaN  ...   \n",
       "7              NaN          24.0          NaN     22          NaN  ...   \n",
       "8              NaN          27.0        15.43     26          NaN  ...   \n",
       "9             2.50           9.0        43.60      7          NaN  ...   \n",
       "10            2.67          12.0        20.30      3          NaN  ...   \n",
       "11             NaN           5.0        31.00      4        False  ...   \n",
       "12             NaN           5.0        30.00      5          NaN  ...   \n",
       "13            2.56           5.0        27.00      5          NaN  ...   \n",
       "14             NaN           6.0        17.00      1          NaN  ...   \n",
       "15             NaN          14.0        20.50      5          NaN  ...   \n",
       "16            3.05           5.0        55.60      1          NaN  ...   \n",
       "17             NaN          17.0        16.50      7          NaN  ...   \n",
       "18            2.50           5.0        19.40      2          NaN  ...   \n",
       "19            2.75          16.0        76.00      8          NaN  ...   \n",
       "\n",
       "    kitchen_area  balcony              locality_name  airports_nearest  \\\n",
       "0          25.00      NaN            Санкт-Петербург           18863.0   \n",
       "1          11.00      2.0             посёлок Шушары           12817.0   \n",
       "2           8.30      0.0            Санкт-Петербург           21741.0   \n",
       "3            NaN      0.0            Санкт-Петербург           28098.0   \n",
       "4          41.00      NaN            Санкт-Петербург           31856.0   \n",
       "5           9.10      NaN  городской посёлок Янино-1               NaN   \n",
       "6          14.40      1.0          посёлок Парголово           52996.0   \n",
       "7          18.90      2.0            Санкт-Петербург           23982.0   \n",
       "8           8.81      NaN             посёлок Мурино               NaN   \n",
       "9           6.50      2.0            Санкт-Петербург           50898.0   \n",
       "10          8.50      NaN            Санкт-Петербург           38357.0   \n",
       "11          6.00      1.0                  Ломоносов           48252.0   \n",
       "12          9.00      0.0                  Сертолово               NaN   \n",
       "13          5.20      1.0                   Петергоф           37868.0   \n",
       "14          8.00      0.0                     Пушкин           20782.0   \n",
       "15          7.60      1.0            Санкт-Петербург           12900.0   \n",
       "16          9.00      NaN            Санкт-Петербург           22108.0   \n",
       "17         11.00      1.0            Санкт-Петербург           33564.0   \n",
       "18          5.60      1.0            Санкт-Петербург           44060.0   \n",
       "19         12.00      NaN            Санкт-Петербург           38900.0   \n",
       "\n",
       "   cityCenters_nearest  parks_around3000  parks_nearest  ponds_around3000  \\\n",
       "0              16028.0               1.0          482.0               2.0   \n",
       "1              18603.0               0.0            NaN               0.0   \n",
       "2              13933.0               1.0           90.0               2.0   \n",
       "3               6800.0               2.0           84.0               3.0   \n",
       "4               8098.0               2.0          112.0               1.0   \n",
       "5                  NaN               NaN            NaN               NaN   \n",
       "6              19143.0               0.0            NaN               0.0   \n",
       "7              11634.0               0.0            NaN               0.0   \n",
       "8                  NaN               NaN            NaN               NaN   \n",
       "9              15008.0               0.0            NaN               0.0   \n",
       "10             13878.0               1.0          310.0               2.0   \n",
       "11             51677.0               0.0            NaN               0.0   \n",
       "12                 NaN               NaN            NaN               NaN   \n",
       "13             33058.0               1.0          294.0               3.0   \n",
       "14             30759.0               0.0            NaN               1.0   \n",
       "15             14259.0               1.0          590.0               1.0   \n",
       "16             10698.0               3.0          420.0               0.0   \n",
       "17             14616.0               0.0            NaN               1.0   \n",
       "18             10842.0               1.0          759.0               0.0   \n",
       "19             12843.0               0.0            NaN               0.0   \n",
       "\n",
       "    ponds_nearest  days_exposition  \n",
       "0           755.0              NaN  \n",
       "1             NaN             81.0  \n",
       "2           574.0            558.0  \n",
       "3           234.0            424.0  \n",
       "4            48.0            121.0  \n",
       "5             NaN             55.0  \n",
       "6             NaN            155.0  \n",
       "7             NaN              NaN  \n",
       "8             NaN            189.0  \n",
       "9             NaN            289.0  \n",
       "10          553.0            137.0  \n",
       "11            NaN              7.0  \n",
       "12            NaN             90.0  \n",
       "13          298.0            366.0  \n",
       "14           96.0            203.0  \n",
       "15          296.0             19.0  \n",
       "16            NaN            397.0  \n",
       "17          859.0            571.0  \n",
       "18            NaN            168.0  \n",
       "19            NaN             97.0  \n",
       "\n",
       "[20 rows x 22 columns]"
      ]
     },
     "execution_count": 2,
     "metadata": {},
     "output_type": "execute_result"
    }
   ],
   "source": [
    "data.head(20)"
   ]
  },
  {
   "cell_type": "code",
   "execution_count": 3,
   "metadata": {},
   "outputs": [
    {
     "data": {
      "text/plain": [
       "array([[<AxesSubplot:title={'center':'total_images'}>,\n",
       "        <AxesSubplot:title={'center':'last_price'}>,\n",
       "        <AxesSubplot:title={'center':'total_area'}>,\n",
       "        <AxesSubplot:title={'center':'rooms'}>],\n",
       "       [<AxesSubplot:title={'center':'ceiling_height'}>,\n",
       "        <AxesSubplot:title={'center':'floors_total'}>,\n",
       "        <AxesSubplot:title={'center':'living_area'}>,\n",
       "        <AxesSubplot:title={'center':'floor'}>],\n",
       "       [<AxesSubplot:title={'center':'kitchen_area'}>,\n",
       "        <AxesSubplot:title={'center':'balcony'}>,\n",
       "        <AxesSubplot:title={'center':'airports_nearest'}>,\n",
       "        <AxesSubplot:title={'center':'cityCenters_nearest'}>],\n",
       "       [<AxesSubplot:title={'center':'parks_around3000'}>,\n",
       "        <AxesSubplot:title={'center':'parks_nearest'}>,\n",
       "        <AxesSubplot:title={'center':'ponds_around3000'}>,\n",
       "        <AxesSubplot:title={'center':'ponds_nearest'}>],\n",
       "       [<AxesSubplot:title={'center':'days_exposition'}>, <AxesSubplot:>,\n",
       "        <AxesSubplot:>, <AxesSubplot:>]], dtype=object)"
      ]
     },
     "execution_count": 3,
     "metadata": {},
     "output_type": "execute_result"
    },
    {
     "data": {
      "image/png": "[encoded data removed]",
      "text/plain": [
       "<Figure size 1080x1440 with 20 Axes>"
      ]
     },
     "metadata": {
      "needs_background": "light"
     },
     "output_type": "display_data"
    }
   ],
   "source": [
    "data.hist(figsize=(15, 20))"
   ]
  },
  {
   "cell_type": "markdown",
   "metadata": {},
   "source": [
    "Открыли файл, изучили его методом info(). В таблице 23699 строк и большое количество пропусков в разных столбцах, встречаются анамальные значения и неявные дубликаты."
   ]
  },
  {
   "cell_type": "markdown",
   "metadata": {},
   "source": [
    "### Предобработка данных"
   ]
  },
  {
   "cell_type": "code",
   "execution_count": 4,
   "metadata": {},
   "outputs": [
    {
     "data": {
      "text/plain": [
       "total_images                0\n",
       "last_price                  0\n",
       "total_area                  0\n",
       "first_day_exposition        0\n",
       "rooms                       0\n",
       "ceiling_height           9195\n",
       "floors_total               86\n",
       "living_area              1903\n",
       "floor                       0\n",
       "is_apartment            20924\n",
       "studio                      0\n",
       "open_plan                   0\n",
       "kitchen_area             2278\n",
       "balcony                 11519\n",
       "locality_name              49\n",
       "airports_nearest         5542\n",
       "cityCenters_nearest      5519\n",
       "parks_around3000         5518\n",
       "parks_nearest           15620\n",
       "ponds_around3000         5518\n",
       "ponds_nearest           14589\n",
       "days_exposition          3181\n",
       "dtype: int64"
      ]
     },
     "execution_count": 4,
     "metadata": {},
     "output_type": "execute_result"
    }
   ],
   "source": [
    "data.isna().sum()"
   ]
  },
  {
   "cell_type": "code",
   "execution_count": 5,
   "metadata": {},
   "outputs": [],
   "source": [
    "# check\n",
    "# пропущенные значения бары\n",
    "\n",
    "def pass_value_barh(df):\n",
    "    try:\n",
    "        (\n",
    "            (df.isna().mean()*100)\n",
    "            .to_frame()\n",
    "            .rename(columns = {0:'space'})\n",
    "            .query('space > 0')\n",
    "            .sort_values(by = 'space', ascending = True)\n",
    "            .plot(kind = 'barh', figsize = (19,6), rot = -5, legend = False, fontsize = 16)\n",
    "            .set_title('Пример' + \"\\n\", fontsize = 22, color = 'SteelBlue')    \n",
    "        );    \n",
    "    except:\n",
    "        print('пропусков не осталось :) или произошла ошибка в первой части функции ')"
   ]
  },
  {
   "cell_type": "code",
   "execution_count": 6,
   "metadata": {},
   "outputs": [
    {
     "data": {
      "image/png": "[encoded data removed]",
      "text/plain": [
       "<Figure size 1368x432 with 1 Axes>"
      ]
     },
     "metadata": {
      "needs_background": "light"
     },
     "output_type": "display_data"
    }
   ],
   "source": [
    "pass_value_barh(data)"
   ]
  },
  {
   "cell_type": "code",
   "execution_count": 7,
   "metadata": {},
   "outputs": [
    {
     "data": {
      "text/html": [
       "<div>\n",
       "<style scoped>\n",
       "    .dataframe tbody tr th:only-of-type {\n",
       "        vertical-align: middle;\n",
       "    }\n",
       "\n",
       "    .dataframe tbody tr th {\n",
       "        vertical-align: top;\n",
       "    }\n",
       "\n",
       "    .dataframe thead th {\n",
       "        text-align: right;\n",
       "    }\n",
       "</style>\n",
       "<table border=\"1\" class=\"dataframe\">\n",
       "  <thead>\n",
       "    <tr style=\"text-align: right;\">\n",
       "      <th></th>\n",
       "      <th>total_images</th>\n",
       "      <th>last_price</th>\n",
       "      <th>total_area</th>\n",
       "      <th>first_day_exposition</th>\n",
       "      <th>rooms</th>\n",
       "      <th>ceiling_height</th>\n",
       "      <th>floors_total</th>\n",
       "      <th>living_area</th>\n",
       "      <th>floor</th>\n",
       "      <th>is_apartment</th>\n",
       "      <th>...</th>\n",
       "      <th>kitchen_area</th>\n",
       "      <th>balcony</th>\n",
       "      <th>locality_name</th>\n",
       "      <th>airports_nearest</th>\n",
       "      <th>cityCenters_nearest</th>\n",
       "      <th>parks_around3000</th>\n",
       "      <th>parks_nearest</th>\n",
       "      <th>ponds_around3000</th>\n",
       "      <th>ponds_nearest</th>\n",
       "      <th>days_exposition</th>\n",
       "    </tr>\n",
       "  </thead>\n",
       "  <tbody>\n",
       "    <tr>\n",
       "      <th>0</th>\n",
       "      <td>20</td>\n",
       "      <td>13000000.0</td>\n",
       "      <td>108.0</td>\n",
       "      <td>2019-03-07T00:00:00</td>\n",
       "      <td>3</td>\n",
       "      <td>2.70</td>\n",
       "      <td>16.0</td>\n",
       "      <td>51.0</td>\n",
       "      <td>8</td>\n",
       "      <td>False</td>\n",
       "      <td>...</td>\n",
       "      <td>25.0</td>\n",
       "      <td>0.0</td>\n",
       "      <td>Санкт-Петербург</td>\n",
       "      <td>18863.0</td>\n",
       "      <td>16028.0</td>\n",
       "      <td>1.0</td>\n",
       "      <td>482.0</td>\n",
       "      <td>2.0</td>\n",
       "      <td>755.0</td>\n",
       "      <td>NaN</td>\n",
       "    </tr>\n",
       "    <tr>\n",
       "      <th>1</th>\n",
       "      <td>7</td>\n",
       "      <td>3350000.0</td>\n",
       "      <td>40.4</td>\n",
       "      <td>2018-12-04T00:00:00</td>\n",
       "      <td>1</td>\n",
       "      <td>NaN</td>\n",
       "      <td>11.0</td>\n",
       "      <td>18.6</td>\n",
       "      <td>1</td>\n",
       "      <td>False</td>\n",
       "      <td>...</td>\n",
       "      <td>11.0</td>\n",
       "      <td>2.0</td>\n",
       "      <td>посёлок Шушары</td>\n",
       "      <td>12817.0</td>\n",
       "      <td>18603.0</td>\n",
       "      <td>0.0</td>\n",
       "      <td>NaN</td>\n",
       "      <td>0.0</td>\n",
       "      <td>NaN</td>\n",
       "      <td>81.0</td>\n",
       "    </tr>\n",
       "    <tr>\n",
       "      <th>2</th>\n",
       "      <td>10</td>\n",
       "      <td>5196000.0</td>\n",
       "      <td>56.0</td>\n",
       "      <td>2015-08-20T00:00:00</td>\n",
       "      <td>2</td>\n",
       "      <td>NaN</td>\n",
       "      <td>5.0</td>\n",
       "      <td>34.3</td>\n",
       "      <td>4</td>\n",
       "      <td>False</td>\n",
       "      <td>...</td>\n",
       "      <td>8.3</td>\n",
       "      <td>0.0</td>\n",
       "      <td>Санкт-Петербург</td>\n",
       "      <td>21741.0</td>\n",
       "      <td>13933.0</td>\n",
       "      <td>1.0</td>\n",
       "      <td>90.0</td>\n",
       "      <td>2.0</td>\n",
       "      <td>574.0</td>\n",
       "      <td>558.0</td>\n",
       "    </tr>\n",
       "    <tr>\n",
       "      <th>3</th>\n",
       "      <td>0</td>\n",
       "      <td>64900000.0</td>\n",
       "      <td>159.0</td>\n",
       "      <td>2015-07-24T00:00:00</td>\n",
       "      <td>3</td>\n",
       "      <td>NaN</td>\n",
       "      <td>14.0</td>\n",
       "      <td>NaN</td>\n",
       "      <td>9</td>\n",
       "      <td>False</td>\n",
       "      <td>...</td>\n",
       "      <td>NaN</td>\n",
       "      <td>0.0</td>\n",
       "      <td>Санкт-Петербург</td>\n",
       "      <td>28098.0</td>\n",
       "      <td>6800.0</td>\n",
       "      <td>2.0</td>\n",
       "      <td>84.0</td>\n",
       "      <td>3.0</td>\n",
       "      <td>234.0</td>\n",
       "      <td>424.0</td>\n",
       "    </tr>\n",
       "    <tr>\n",
       "      <th>4</th>\n",
       "      <td>2</td>\n",
       "      <td>10000000.0</td>\n",
       "      <td>100.0</td>\n",
       "      <td>2018-06-19T00:00:00</td>\n",
       "      <td>2</td>\n",
       "      <td>3.03</td>\n",
       "      <td>14.0</td>\n",
       "      <td>32.0</td>\n",
       "      <td>13</td>\n",
       "      <td>False</td>\n",
       "      <td>...</td>\n",
       "      <td>41.0</td>\n",
       "      <td>0.0</td>\n",
       "      <td>Санкт-Петербург</td>\n",
       "      <td>31856.0</td>\n",
       "      <td>8098.0</td>\n",
       "      <td>2.0</td>\n",
       "      <td>112.0</td>\n",
       "      <td>1.0</td>\n",
       "      <td>48.0</td>\n",
       "      <td>121.0</td>\n",
       "    </tr>\n",
       "  </tbody>\n",
       "</table>\n",
       "<p>5 rows × 22 columns</p>\n",
       "</div>"
      ],
      "text/plain": [
       "   total_images  last_price  total_area first_day_exposition  rooms  \\\n",
       "0            20  13000000.0       108.0  2019-03-07T00:00:00      3   \n",
       "1             7   3350000.0        40.4  2018-12-04T00:00:00      1   \n",
       "2            10   5196000.0        56.0  2015-08-20T00:00:00      2   \n",
       "3             0  64900000.0       159.0  2015-07-24T00:00:00      3   \n",
       "4             2  10000000.0       100.0  2018-06-19T00:00:00      2   \n",
       "\n",
       "   ceiling_height  floors_total  living_area  floor  is_apartment  ...  \\\n",
       "0            2.70          16.0         51.0      8         False  ...   \n",
       "1             NaN          11.0         18.6      1         False  ...   \n",
       "2             NaN           5.0         34.3      4         False  ...   \n",
       "3             NaN          14.0          NaN      9         False  ...   \n",
       "4            3.03          14.0         32.0     13         False  ...   \n",
       "\n",
       "   kitchen_area  balcony    locality_name  airports_nearest  \\\n",
       "0          25.0      0.0  Санкт-Петербург           18863.0   \n",
       "1          11.0      2.0   посёлок Шушары           12817.0   \n",
       "2           8.3      0.0  Санкт-Петербург           21741.0   \n",
       "3           NaN      0.0  Санкт-Петербург           28098.0   \n",
       "4          41.0      0.0  Санкт-Петербург           31856.0   \n",
       "\n",
       "  cityCenters_nearest  parks_around3000  parks_nearest  ponds_around3000  \\\n",
       "0             16028.0               1.0          482.0               2.0   \n",
       "1             18603.0               0.0            NaN               0.0   \n",
       "2             13933.0               1.0           90.0               2.0   \n",
       "3              6800.0               2.0           84.0               3.0   \n",
       "4              8098.0               2.0          112.0               1.0   \n",
       "\n",
       "   ponds_nearest  days_exposition  \n",
       "0          755.0              NaN  \n",
       "1            NaN             81.0  \n",
       "2          574.0            558.0  \n",
       "3          234.0            424.0  \n",
       "4           48.0            121.0  \n",
       "\n",
       "[5 rows x 22 columns]"
      ]
     },
     "execution_count": 7,
     "metadata": {},
     "output_type": "execute_result"
    }
   ],
   "source": [
    "data['balcony'] = data['balcony'].fillna(0)\n",
    "data['parks_around3000'] = data['parks_around3000'].fillna(0)\n",
    "data['ponds_around3000'] = data['ponds_around3000'].fillna(0)\n",
    "data['is_apartment'] = data['is_apartment'].fillna(False)\n",
    "data.head()"
   ]
  },
  {
   "cell_type": "code",
   "execution_count": 8,
   "metadata": {},
   "outputs": [],
   "source": [
    "data['balcony'] = data['balcony'].astype('int')\n",
    "data['parks_around3000'] = data['parks_around3000'].astype('int')\n",
    "data['ponds_around3000'] = data['ponds_around3000'].astype('int')\n",
    "data['last_price'] = data['last_price'].astype('int')\n",
    "\n",
    "data['days_exposition'].fillna(10000, inplace=True)\n",
    "data['days_exposition'] = data['days_exposition'].astype('int')"
   ]
  },
  {
   "cell_type": "code",
   "execution_count": 9,
   "metadata": {},
   "outputs": [],
   "source": [
    "data['first_day_exposition'] = pd.to_datetime(data['first_day_exposition'],format='%Y-%m-%d %H:%M')"
   ]
  },
  {
   "cell_type": "markdown",
   "metadata": {},
   "source": [
    "Заменили пропущенные значения на нули, поменяли тип вывода данных на целые числа, где возможно, а также поменяли формат времени и даты в столбце first_day_exposition."
   ]
  },
  {
   "cell_type": "code",
   "execution_count": 10,
   "metadata": {
    "scrolled": true
   },
   "outputs": [
    {
     "data": {
      "text/plain": [
       "array([  2.7 ,    nan,   3.03,   2.5 ,   2.67,   2.56,   3.05,   2.75,\n",
       "         2.6 ,   2.9 ,   2.8 ,   2.55,   3.  ,   2.65,   3.2 ,   2.61,\n",
       "         3.25,   3.45,   2.77,   2.85,   2.64,   2.57,   4.15,   3.5 ,\n",
       "         3.3 ,   2.71,   4.  ,   2.47,   2.73,   2.84,   3.1 ,   2.34,\n",
       "         3.4 ,   3.06,   2.72,   2.54,   2.51,   2.78,   2.76,  25.  ,\n",
       "         2.58,   3.7 ,   2.52,   5.2 ,   2.87,   2.66,   2.59,   2.  ,\n",
       "         2.45,   3.6 ,   2.92,   3.11,   3.13,   3.8 ,   3.15,   3.55,\n",
       "         3.16,   3.62,   3.12,   2.53,   2.74,   2.96,   2.46,   5.3 ,\n",
       "         5.  ,   2.79,   2.95,   4.06,   2.94,   3.82,   3.54,   3.53,\n",
       "         2.83,   4.7 ,   2.4 ,   3.38,   3.01,   5.6 ,   3.65,   3.9 ,\n",
       "         3.18,   3.35,   2.3 ,   3.57,   2.48,   2.62,   2.82,   3.98,\n",
       "         2.63,   3.83,   3.52,   3.95,   3.75,   2.88,   3.67,   3.87,\n",
       "         3.66,   3.85,   3.86,   4.19,   3.24,   4.8 ,   4.5 ,   4.2 ,\n",
       "         3.36,  32.  ,   3.08,   3.68,   3.07,   3.37,   3.09,   8.  ,\n",
       "         3.26,   3.34,   2.81,   3.44,   2.97,   3.14,   4.37,   2.68,\n",
       "         3.22,   3.27,  27.  ,   4.1 ,   2.93,   3.46,  24.  ,   3.47,\n",
       "         3.33,   3.63,   3.32,  26.  ,   1.2 ,   8.3 ,   2.98,   2.86,\n",
       "         3.17,   4.4 ,   3.28,   3.04,   4.45,   5.5 ,   3.84,   3.23,\n",
       "         3.02,   3.21,   3.43,   3.78,   4.3 ,   3.39,   2.69,   3.31,\n",
       "         4.65,   3.56,   2.2 ,   3.51,   3.93,   3.42,   2.99,   3.49,\n",
       "        14.  ,   4.14,   2.91,   3.88,   1.75,   4.25,   3.29,  20.  ,\n",
       "         2.25,   3.76,   3.69,   6.  ,  22.6 ,   2.89,   3.58,   5.8 ,\n",
       "        27.5 ,   2.49,   4.9 ,   3.48,  10.3 ,   1.  , 100.  ,   3.59])"
      ]
     },
     "execution_count": 10,
     "metadata": {},
     "output_type": "execute_result"
    }
   ],
   "source": [
    "data['ceiling_height'].unique()"
   ]
  },
  {
   "cell_type": "markdown",
   "metadata": {},
   "source": [
    "Чаще всего аномальные значения связанны с вводом вручную(\"человеческий фактор\"). Вставим медиальное значение на место пропусков и уберем из данных значения выше 4 метров."
   ]
  },
  {
   "cell_type": "code",
   "execution_count": 11,
   "metadata": {},
   "outputs": [
    {
     "data": {
      "text/plain": [
       "array([2.7 , 2.65, 3.03, 2.5 , 2.67, 2.56, 3.05, 2.75, 2.6 , 2.9 , 2.8 ,\n",
       "       2.55, 3.  , 3.2 , 2.61, 3.25, 3.45, 2.77, 2.85, 2.64, 2.57, 3.5 ,\n",
       "       3.3 , 2.71, 2.47, 2.73, 2.84, 3.1 , 2.34, 3.4 , 3.06, 2.72, 2.54,\n",
       "       2.51, 2.78, 2.76, 2.58, 3.7 , 2.52, 2.87, 2.66, 2.59, 2.  , 2.45,\n",
       "       3.6 , 2.92, 3.11, 3.13, 3.8 , 3.15, 3.55, 3.16, 3.62, 3.12, 2.53,\n",
       "       2.74, 2.96, 2.46, 2.79, 2.95, 2.94, 3.82, 3.54, 3.53, 2.83, 2.4 ,\n",
       "       3.38, 3.01, 3.65, 3.9 , 3.18, 3.35, 2.3 , 3.57, 2.48, 2.62, 2.82,\n",
       "       3.98, 2.63, 3.83, 3.52, 3.95, 3.75, 2.88, 3.67, 3.87, 3.66, 3.85,\n",
       "       3.86, 3.24, 3.36, 3.08, 3.68, 3.07, 3.37, 3.09, 3.26, 3.34, 2.81,\n",
       "       3.44, 2.97, 3.14, 2.68, 3.22, 3.27, 2.93, 3.46, 3.47, 3.33, 3.63,\n",
       "       3.32, 1.2 , 2.98, 2.86, 3.17, 3.28, 3.04, 3.84, 3.23, 3.02, 3.21,\n",
       "       3.43, 3.78, 3.39, 2.69, 3.31, 3.56, 2.2 , 3.51, 3.93, 3.42, 2.99,\n",
       "       3.49, 2.91, 3.88, 1.75, 3.29, 2.25, 3.76, 3.69, 2.89, 3.58, 2.49,\n",
       "       3.48, 1.  , 3.59])"
      ]
     },
     "execution_count": 11,
     "metadata": {},
     "output_type": "execute_result"
    }
   ],
   "source": [
    "data['ceiling_height'] = (\n",
    "    data['ceiling_height']\n",
    "        .replace(32, 3.2)\n",
    "        .replace(27.5, 2.75)\n",
    "        .replace(26, 27.6)\n",
    "        .replace(27, 2.7)\n",
    "        .replace(24, 2.4)\n",
    ")\n",
    "data['ceiling_height'].fillna(data['ceiling_height'].median(), inplace=True)\n",
    "data = data[data['ceiling_height'] < 4]\n",
    "data['ceiling_height'].unique()"
   ]
  },
  {
   "cell_type": "code",
   "execution_count": 12,
   "metadata": {},
   "outputs": [
    {
     "data": {
      "text/plain": [
       "array(['Санкт-Петербург', 'посёлок Шушары', 'городской посёлок Янино-1',\n",
       "       'посёлок Парголово', 'посёлок Мурино', 'Ломоносов', 'Сертолово',\n",
       "       'Петергоф', 'Пушкин', 'деревня Кудрово', 'Коммунар', 'Колпино',\n",
       "       'поселок городского типа Красный Бор', 'Гатчина', 'поселок Мурино',\n",
       "       'деревня Фёдоровское', 'Выборг', 'Кронштадт', 'Кировск',\n",
       "       'деревня Новое Девяткино', 'посёлок Металлострой',\n",
       "       'посёлок городского типа Лебяжье',\n",
       "       'посёлок городского типа Сиверский', 'поселок Молодцово',\n",
       "       'поселок городского типа Кузьмоловский',\n",
       "       'садовое товарищество Новая Ропша', 'Павловск',\n",
       "       'деревня Пикколово', 'Всеволожск', 'Волхов', 'Кингисепп',\n",
       "       'Приозерск', 'Сестрорецк', 'деревня Куттузи', 'посёлок Аннино',\n",
       "       'поселок городского типа Ефимовский', 'посёлок Плодовое',\n",
       "       'деревня Заклинье', 'поселок Торковичи', 'поселок Первомайское',\n",
       "       'Красное Село', 'посёлок Понтонный', 'Сясьстрой', 'деревня Старая',\n",
       "       'деревня Лесколово', 'посёлок Новый Свет', 'Сланцы',\n",
       "       'село Путилово', 'Ивангород', 'Мурино', 'Шлиссельбург',\n",
       "       'Никольское', 'Зеленогорск', 'Сосновый Бор', 'поселок Новый Свет',\n",
       "       'деревня Оржицы', 'деревня Кальтино', 'Кудрово',\n",
       "       'поселок Романовка', 'посёлок Бугры', 'поселок Бугры',\n",
       "       'поселок городского типа Рощино', 'Кириши', 'Луга', 'Волосово',\n",
       "       'Отрадное', 'село Павлово', 'поселок Оредеж', 'село Копорье',\n",
       "       'посёлок городского типа Красный Бор', 'посёлок Молодёжное',\n",
       "       'Тихвин', 'посёлок Победа', 'деревня Нурма',\n",
       "       'поселок городского типа Синявино', 'Тосно',\n",
       "       'посёлок городского типа Кузьмоловский', 'посёлок Стрельна',\n",
       "       'Бокситогорск', 'посёлок Александровская', 'деревня Лопухинка',\n",
       "       'Пикалёво', 'поселок Терволово',\n",
       "       'поселок городского типа Советский', 'Подпорожье',\n",
       "       'посёлок Петровское', 'посёлок городского типа Токсово',\n",
       "       'поселок Сельцо', 'посёлок городского типа Вырица',\n",
       "       'деревня Кипень', 'деревня Келози', 'деревня Вартемяги',\n",
       "       'посёлок Тельмана', 'поселок Севастьяново',\n",
       "       'городской поселок Большая Ижора', nan,\n",
       "       'городской посёлок Павлово', 'деревня Агалатово',\n",
       "       'посёлок Новогорелово', 'городской посёлок Лесогорский',\n",
       "       'деревня Лаголово', 'поселок Цвелодубово',\n",
       "       'поселок городского типа Рахья', 'поселок городского типа Вырица',\n",
       "       'деревня Белогорка', 'поселок Заводской',\n",
       "       'городской посёлок Новоселье', 'деревня Большие Колпаны',\n",
       "       'деревня Горбунки', 'деревня Батово', 'деревня Заневка',\n",
       "       'деревня Иссад', 'Приморск', 'городской посёлок Фёдоровское',\n",
       "       'деревня Мистолово', 'Новая Ладога', 'поселок Зимитицы',\n",
       "       'поселок Барышево', 'деревня Разметелево',\n",
       "       'поселок городского типа имени Свердлова', 'деревня Пеники',\n",
       "       'поселок Рябово', 'деревня Пудомяги', 'поселок станции Корнево',\n",
       "       'деревня Низино', 'деревня Бегуницы', 'посёлок Поляны',\n",
       "       'городской посёлок Мга', 'поселок Елизаветино',\n",
       "       'посёлок городского типа Кузнечное', 'деревня Колтуши',\n",
       "       'поселок Запорожское', 'посёлок городского типа Рощино',\n",
       "       'деревня Гостилицы', 'деревня Малое Карлино',\n",
       "       'посёлок Мичуринское', 'посёлок городского типа имени Морозова',\n",
       "       'посёлок Песочный', 'посёлок Сосново', 'деревня Аро',\n",
       "       'поселок Ильичёво', 'посёлок городского типа Тайцы',\n",
       "       'деревня Малое Верево', 'деревня Извара', 'поселок станции Вещево',\n",
       "       'село Паша', 'деревня Калитино',\n",
       "       'посёлок городского типа Ульяновка', 'деревня Чудской Бор',\n",
       "       'поселок городского типа Дубровка', 'деревня Мины',\n",
       "       'поселок Войсковицы', 'посёлок городского типа имени Свердлова',\n",
       "       'деревня Коркино', 'посёлок Ропша',\n",
       "       'поселок городского типа Приладожский', 'посёлок Щеглово',\n",
       "       'посёлок Гаврилово', 'Лодейное Поле', 'деревня Рабитицы',\n",
       "       'поселок городского типа Никольский', 'деревня Кузьмолово',\n",
       "       'деревня Малые Колпаны', 'поселок Тельмана',\n",
       "       'посёлок Петро-Славянка', 'городской посёлок Назия',\n",
       "       'посёлок Репино', 'посёлок Ильичёво', 'поселок Углово',\n",
       "       'поселок Старая Малукса', 'садовое товарищество Рахья',\n",
       "       'поселок Аннино', 'поселок Победа', 'деревня Меньково',\n",
       "       'деревня Старые Бегуницы', 'посёлок Сапёрный', 'поселок Семрино',\n",
       "       'поселок Гаврилово', 'поселок Глажево', 'поселок Кобринское',\n",
       "       'деревня Гарболово', 'деревня Юкки',\n",
       "       'поселок станции Приветнинское', 'деревня Мануйлово',\n",
       "       'деревня Пчева', 'поселок Поляны', 'поселок Цвылёво',\n",
       "       'поселок Мельниково', 'посёлок Пудость', 'посёлок Усть-Луга',\n",
       "       'Светогорск', 'Любань', 'поселок Селезнёво',\n",
       "       'поселок городского типа Рябово', 'Каменногорск', 'деревня Кривко',\n",
       "       'поселок Глебычево', 'деревня Парицы', 'поселок Жилпосёлок',\n",
       "       'посёлок городского типа Мга', 'городской поселок Янино-1',\n",
       "       'посёлок Войскорово', 'село Никольское', 'посёлок Терволово',\n",
       "       'поселок Стеклянный', 'посёлок городского типа Важины',\n",
       "       'посёлок Мыза-Ивановка', 'село Русско-Высоцкое',\n",
       "       'поселок городского типа Лебяжье',\n",
       "       'поселок городского типа Форносово', 'село Старая Ладога',\n",
       "       'поселок Житково', 'городской посёлок Виллози', 'деревня Лампово',\n",
       "       'деревня Шпаньково', 'деревня Лаврики', 'посёлок Сумино',\n",
       "       'посёлок Возрождение', 'деревня Старосиверская',\n",
       "       'посёлок Кикерино', 'поселок Возрождение',\n",
       "       'деревня Старое Хинколово', 'посёлок Пригородный',\n",
       "       'посёлок Торфяное', 'городской посёлок Будогощь',\n",
       "       'поселок Суходолье', 'поселок Красная Долина', 'деревня Хапо-Ое',\n",
       "       'поселок городского типа Дружная Горка', 'поселок Лисий Нос',\n",
       "       'деревня Яльгелево', 'посёлок Стеклянный', 'село Рождествено',\n",
       "       'деревня Старополье', 'посёлок Левашово', 'деревня Сяськелево',\n",
       "       'деревня Камышовка',\n",
       "       'садоводческое некоммерческое товарищество Лесная Поляна',\n",
       "       'деревня Хязельки', 'поселок Жилгородок',\n",
       "       'посёлок городского типа Павлово', 'деревня Ялгино',\n",
       "       'поселок Новый Учхоз', 'городской посёлок Рощино',\n",
       "       'поселок Гончарово', 'поселок Почап', 'посёлок Сапёрное',\n",
       "       'посёлок Платформа 69-й километр', 'поселок Каложицы',\n",
       "       'деревня Фалилеево', 'деревня Пельгора',\n",
       "       'поселок городского типа Лесогорский', 'деревня Торошковичи',\n",
       "       'посёлок Белоостров', 'посёлок Алексеевка', 'поселок Серебрянский',\n",
       "       'поселок Лукаши', 'поселок Петровское', 'деревня Щеглово',\n",
       "       'поселок Мичуринское', 'деревня Тарасово', 'поселок Кингисеппский',\n",
       "       'посёлок при железнодорожной станции Вещево', 'поселок Ушаки',\n",
       "       'деревня Котлы', 'деревня Сижно', 'деревня Торосово',\n",
       "       'посёлок Форт Красная Горка', 'поселок городского типа Токсово',\n",
       "       'деревня Новолисино', 'посёлок станции Громово', 'деревня Глинка',\n",
       "       'посёлок Мельниково', 'поселок городского типа Назия',\n",
       "       'деревня Старая Пустошь', 'поселок Коммунары', 'поселок Починок',\n",
       "       'посёлок городского типа Вознесенье', 'деревня Разбегаево',\n",
       "       'посёлок городского типа Рябово', 'поселок Гладкое',\n",
       "       'посёлок при железнодорожной станции Приветнинское',\n",
       "       'поселок Тёсово-4', 'посёлок Жилгородок', 'деревня Бор',\n",
       "       'посёлок Коробицыно', 'деревня Большая Вруда', 'деревня Курковицы',\n",
       "       'посёлок Лисий Нос', 'городской посёлок Советский',\n",
       "       'посёлок Кобралово', 'деревня Суоранда', 'поселок Кобралово',\n",
       "       'поселок городского типа Кондратьево',\n",
       "       'коттеджный поселок Счастье', 'поселок Любань', 'деревня Реброво',\n",
       "       'деревня Зимитицы', 'деревня Тойворово', 'поселок Семиозерье',\n",
       "       'поселок Лесное', 'поселок Совхозный', 'поселок Усть-Луга',\n",
       "       'посёлок Ленинское', 'посёлок Суйда',\n",
       "       'посёлок городского типа Форносово', 'деревня Нижние Осельки',\n",
       "       'посёлок станции Свирь', 'поселок Перово', 'Высоцк',\n",
       "       'поселок Гарболово', 'село Шум', 'поселок Котельский',\n",
       "       'поселок станции Лужайка', 'деревня Большая Пустомержа',\n",
       "       'поселок Красносельское', 'деревня Вахнова Кара', 'деревня Пижма',\n",
       "       'коттеджный поселок Кивеннапа Север', 'поселок Коробицыно',\n",
       "       'поселок Ромашки', 'посёлок Перово', 'деревня Каськово',\n",
       "       'деревня Куровицы', 'посёлок Плоское', 'поселок Сумино',\n",
       "       'поселок городского типа Большая Ижора', 'поселок Кирпичное',\n",
       "       'деревня Ям-Тесово', 'деревня Раздолье', 'деревня Терпилицы',\n",
       "       'посёлок Шугозеро', 'деревня Ваганово', 'поселок Пушное',\n",
       "       'садовое товарищество Садко', 'посёлок Усть-Ижора',\n",
       "       'деревня Выскатка', 'городской посёлок Свирьстрой',\n",
       "       'поселок Громово', 'деревня Кисельня', 'посёлок Старая Малукса',\n",
       "       'деревня Трубников Бор', 'поселок Калитино',\n",
       "       'посёлок Высокоключевой', 'садовое товарищество Приладожский',\n",
       "       'посёлок Пансионат Зелёный Бор', 'деревня Ненимяки',\n",
       "       'поселок Пансионат Зелёный Бор', 'деревня Снегирёвка',\n",
       "       'деревня Рапполово', 'деревня Пустынка', 'поселок Рабитицы',\n",
       "       'деревня Большой Сабск', 'деревня Русско', 'деревня Лупполово',\n",
       "       'деревня Большое Рейзино', 'деревня Малая Романовка',\n",
       "       'поселок Дружноселье', 'поселок Пчевжа', 'поселок Володарское',\n",
       "       'деревня Нижняя', 'коттеджный посёлок Лесное', 'деревня Тихковицы',\n",
       "       'деревня Борисова Грива', 'посёлок Дзержинского'], dtype=object)"
      ]
     },
     "execution_count": 12,
     "metadata": {},
     "output_type": "execute_result"
    }
   ],
   "source": [
    "data['locality_name'].unique()"
   ]
  },
  {
   "cell_type": "code",
   "execution_count": 13,
   "metadata": {},
   "outputs": [],
   "source": [
    "data['locality_name'] = (\n",
    "    data['locality_name']\n",
    "        .str.replace('ё','е')\n",
    "        .replace('коттеджный поселок','поселок')\n",
    "        .str.replace('поселок городского типа','поселок')\n",
    "        .replace('деревня Кудрово','Кудрово')\n",
    "        .replace('поселок Мга','городской поселок Мга')\n",
    ")"
   ]
  },
  {
   "cell_type": "markdown",
   "metadata": {},
   "source": [
    "Дубликаты поменяли в наименованиях локации квартиры. Тоже появились в связи с вводом похожих названий оператором."
   ]
  },
  {
   "cell_type": "code",
   "execution_count": 16,
   "metadata": {},
   "outputs": [
    {
     "data": {
      "text/plain": [
       "total_images                0\n",
       "last_price                  0\n",
       "total_area                  0\n",
       "first_day_exposition        0\n",
       "rooms                       0\n",
       "ceiling_height              0\n",
       "floors_total                0\n",
       "living_area              1857\n",
       "floor                       0\n",
       "is_apartment                0\n",
       "studio                      0\n",
       "open_plan                   0\n",
       "kitchen_area             2209\n",
       "balcony                     0\n",
       "locality_name               0\n",
       "airports_nearest         5509\n",
       "cityCenters_nearest      5489\n",
       "parks_around3000            0\n",
       "parks_nearest           15495\n",
       "ponds_around3000            0\n",
       "ponds_nearest           14490\n",
       "days_exposition             0\n",
       "dtype: int64"
      ]
     },
     "execution_count": 16,
     "metadata": {},
     "output_type": "execute_result"
    }
   ],
   "source": [
    "data.dropna(subset=['locality_name'], inplace=True)\n",
    "data.dropna(subset=['floors_total'], inplace=True)\n",
    "data.isna().sum()"
   ]
  },
  {
   "cell_type": "markdown",
   "metadata": {},
   "source": [
    "Убрали малочисленные строчки с пропусками из расчетов."
   ]
  },
  {
   "cell_type": "code",
   "execution_count": 17,
   "metadata": {
    "scrolled": true
   },
   "outputs": [
    {
     "name": "stdout",
     "output_type": "stream",
     "text": [
      "<class 'pandas.core.frame.DataFrame'>\n",
      "Int64Index: 651 entries, 41 to 23680\n",
      "Data columns (total 22 columns):\n",
      " #   Column                Non-Null Count  Dtype         \n",
      "---  ------                --------------  -----         \n",
      " 0   total_images          651 non-null    int64         \n",
      " 1   last_price            651 non-null    int64         \n",
      " 2   total_area            651 non-null    float64       \n",
      " 3   first_day_exposition  651 non-null    datetime64[ns]\n",
      " 4   rooms                 651 non-null    int64         \n",
      " 5   ceiling_height        651 non-null    float64       \n",
      " 6   floors_total          651 non-null    float64       \n",
      " 7   living_area           651 non-null    float64       \n",
      " 8   floor                 651 non-null    int64         \n",
      " 9   is_apartment          651 non-null    bool          \n",
      " 10  studio                651 non-null    bool          \n",
      " 11  open_plan             651 non-null    bool          \n",
      " 12  kitchen_area          651 non-null    float64       \n",
      " 13  balcony               651 non-null    int64         \n",
      " 14  locality_name         651 non-null    object        \n",
      " 15  airports_nearest      461 non-null    float64       \n",
      " 16  cityCenters_nearest   461 non-null    float64       \n",
      " 17  parks_around3000      651 non-null    int64         \n",
      " 18  parks_nearest         226 non-null    float64       \n",
      " 19  ponds_around3000      651 non-null    int64         \n",
      " 20  ponds_nearest         252 non-null    float64       \n",
      " 21  days_exposition       651 non-null    int64         \n",
      "dtypes: bool(3), datetime64[ns](1), float64(9), int64(8), object(1)\n",
      "memory usage: 103.6+ KB\n",
      "<class 'pandas.core.frame.DataFrame'>\n",
      "Int64Index: 22813 entries, 0 to 23698\n",
      "Data columns (total 22 columns):\n",
      " #   Column                Non-Null Count  Dtype         \n",
      "---  ------                --------------  -----         \n",
      " 0   total_images          22813 non-null  int64         \n",
      " 1   last_price            22813 non-null  int64         \n",
      " 2   total_area            22813 non-null  float64       \n",
      " 3   first_day_exposition  22813 non-null  datetime64[ns]\n",
      " 4   rooms                 22813 non-null  int64         \n",
      " 5   ceiling_height        22813 non-null  float64       \n",
      " 6   floors_total          22813 non-null  float64       \n",
      " 7   living_area           22813 non-null  float64       \n",
      " 8   floor                 22813 non-null  int64         \n",
      " 9   is_apartment          22813 non-null  bool          \n",
      " 10  studio                22813 non-null  bool          \n",
      " 11  open_plan             22813 non-null  bool          \n",
      " 12  kitchen_area          22813 non-null  float64       \n",
      " 13  balcony               22813 non-null  int64         \n",
      " 14  locality_name         22813 non-null  object        \n",
      " 15  airports_nearest      17494 non-null  float64       \n",
      " 16  cityCenters_nearest   17514 non-null  float64       \n",
      " 17  parks_around3000      22813 non-null  int64         \n",
      " 18  parks_nearest         7743 non-null   float64       \n",
      " 19  ponds_around3000      22813 non-null  int64         \n",
      " 20  ponds_nearest         8722 non-null   float64       \n",
      " 21  days_exposition       22813 non-null  int64         \n",
      "dtypes: bool(3), datetime64[ns](1), float64(9), int64(8), object(1)\n",
      "memory usage: 3.5+ MB\n"
     ]
    }
   ],
   "source": [
    "living_r = data['living_area'].mean() / data['total_area'].mean()\n",
    "kitchen_r = data['kitchen_area'].mean() / data['total_area'].mean()\n",
    "data['living_area'].fillna(living_r * data['total_area'], inplace=True)\n",
    "data['kitchen_area'].fillna(kitchen_r * data['total_area'], inplace=True)\n",
    "data['living_area'] = round(data['living_area'],1)\n",
    "data['kitchen_area'] = round(data['kitchen_area'],1)\n",
    "check = data.query('total_area*0.9 <= (living_area + kitchen_area)')\n",
    "check.info()\n",
    "\n",
    "data = data.drop(data.query('total_area*0.9 <= (living_area + kitchen_area)').index)\n",
    "data.info()"
   ]
  },
  {
   "cell_type": "markdown",
   "metadata": {},
   "source": [
    "Аномальных знчений получилось 649 строк из более чем 23тыс.значений, их мы удалили из расчетов, так как они изначально противоречат данным."
   ]
  },
  {
   "cell_type": "code",
   "execution_count": 18,
   "metadata": {},
   "outputs": [
    {
     "data": {
      "text/html": [
       "<div>\n",
       "<style scoped>\n",
       "    .dataframe tbody tr th:only-of-type {\n",
       "        vertical-align: middle;\n",
       "    }\n",
       "\n",
       "    .dataframe tbody tr th {\n",
       "        vertical-align: top;\n",
       "    }\n",
       "\n",
       "    .dataframe thead th {\n",
       "        text-align: right;\n",
       "    }\n",
       "</style>\n",
       "<table border=\"1\" class=\"dataframe\">\n",
       "  <thead>\n",
       "    <tr style=\"text-align: right;\">\n",
       "      <th></th>\n",
       "      <th>total_images</th>\n",
       "      <th>last_price</th>\n",
       "      <th>total_area</th>\n",
       "      <th>first_day_exposition</th>\n",
       "      <th>rooms</th>\n",
       "      <th>ceiling_height</th>\n",
       "      <th>floors_total</th>\n",
       "      <th>living_area</th>\n",
       "      <th>floor</th>\n",
       "      <th>is_apartment</th>\n",
       "      <th>...</th>\n",
       "      <th>kitchen_area</th>\n",
       "      <th>balcony</th>\n",
       "      <th>locality_name</th>\n",
       "      <th>airports_nearest</th>\n",
       "      <th>cityCenters_nearest</th>\n",
       "      <th>parks_around3000</th>\n",
       "      <th>parks_nearest</th>\n",
       "      <th>ponds_around3000</th>\n",
       "      <th>ponds_nearest</th>\n",
       "      <th>days_exposition</th>\n",
       "    </tr>\n",
       "  </thead>\n",
       "  <tbody>\n",
       "    <tr>\n",
       "      <th>15459</th>\n",
       "      <td>8</td>\n",
       "      <td>2000000</td>\n",
       "      <td>59.0</td>\n",
       "      <td>2018-11-18</td>\n",
       "      <td>3</td>\n",
       "      <td>2.65</td>\n",
       "      <td>2.0</td>\n",
       "      <td>42.3</td>\n",
       "      <td>2</td>\n",
       "      <td>False</td>\n",
       "      <td>...</td>\n",
       "      <td>6.5</td>\n",
       "      <td>1</td>\n",
       "      <td>село Шум</td>\n",
       "      <td>NaN</td>\n",
       "      <td>NaN</td>\n",
       "      <td>0</td>\n",
       "      <td>NaN</td>\n",
       "      <td>0</td>\n",
       "      <td>NaN</td>\n",
       "      <td>9</td>\n",
       "    </tr>\n",
       "    <tr>\n",
       "      <th>19176</th>\n",
       "      <td>8</td>\n",
       "      <td>1100000</td>\n",
       "      <td>30.0</td>\n",
       "      <td>2017-04-17</td>\n",
       "      <td>1</td>\n",
       "      <td>2.65</td>\n",
       "      <td>2.0</td>\n",
       "      <td>15.8</td>\n",
       "      <td>1</td>\n",
       "      <td>False</td>\n",
       "      <td>...</td>\n",
       "      <td>6.0</td>\n",
       "      <td>0</td>\n",
       "      <td>село Старая Ладога</td>\n",
       "      <td>NaN</td>\n",
       "      <td>NaN</td>\n",
       "      <td>0</td>\n",
       "      <td>NaN</td>\n",
       "      <td>0</td>\n",
       "      <td>NaN</td>\n",
       "      <td>10000</td>\n",
       "    </tr>\n",
       "    <tr>\n",
       "      <th>4672</th>\n",
       "      <td>0</td>\n",
       "      <td>1800000</td>\n",
       "      <td>55.0</td>\n",
       "      <td>2018-02-18</td>\n",
       "      <td>2</td>\n",
       "      <td>2.65</td>\n",
       "      <td>3.0</td>\n",
       "      <td>31.4</td>\n",
       "      <td>1</td>\n",
       "      <td>False</td>\n",
       "      <td>...</td>\n",
       "      <td>9.6</td>\n",
       "      <td>0</td>\n",
       "      <td>село Старая Ладога</td>\n",
       "      <td>NaN</td>\n",
       "      <td>NaN</td>\n",
       "      <td>0</td>\n",
       "      <td>NaN</td>\n",
       "      <td>0</td>\n",
       "      <td>NaN</td>\n",
       "      <td>45</td>\n",
       "    </tr>\n",
       "    <tr>\n",
       "      <th>4483</th>\n",
       "      <td>12</td>\n",
       "      <td>2300000</td>\n",
       "      <td>46.5</td>\n",
       "      <td>2017-10-20</td>\n",
       "      <td>1</td>\n",
       "      <td>2.55</td>\n",
       "      <td>10.0</td>\n",
       "      <td>20.1</td>\n",
       "      <td>8</td>\n",
       "      <td>False</td>\n",
       "      <td>...</td>\n",
       "      <td>14.3</td>\n",
       "      <td>0</td>\n",
       "      <td>село Русско-Высоцкое</td>\n",
       "      <td>NaN</td>\n",
       "      <td>NaN</td>\n",
       "      <td>0</td>\n",
       "      <td>NaN</td>\n",
       "      <td>0</td>\n",
       "      <td>NaN</td>\n",
       "      <td>414</td>\n",
       "    </tr>\n",
       "    <tr>\n",
       "      <th>18739</th>\n",
       "      <td>9</td>\n",
       "      <td>2250000</td>\n",
       "      <td>42.0</td>\n",
       "      <td>2017-12-03</td>\n",
       "      <td>2</td>\n",
       "      <td>2.65</td>\n",
       "      <td>5.0</td>\n",
       "      <td>24.0</td>\n",
       "      <td>4</td>\n",
       "      <td>False</td>\n",
       "      <td>...</td>\n",
       "      <td>7.4</td>\n",
       "      <td>0</td>\n",
       "      <td>село Русско-Высоцкое</td>\n",
       "      <td>NaN</td>\n",
       "      <td>NaN</td>\n",
       "      <td>0</td>\n",
       "      <td>NaN</td>\n",
       "      <td>0</td>\n",
       "      <td>NaN</td>\n",
       "      <td>45</td>\n",
       "    </tr>\n",
       "    <tr>\n",
       "      <th>...</th>\n",
       "      <td>...</td>\n",
       "      <td>...</td>\n",
       "      <td>...</td>\n",
       "      <td>...</td>\n",
       "      <td>...</td>\n",
       "      <td>...</td>\n",
       "      <td>...</td>\n",
       "      <td>...</td>\n",
       "      <td>...</td>\n",
       "      <td>...</td>\n",
       "      <td>...</td>\n",
       "      <td>...</td>\n",
       "      <td>...</td>\n",
       "      <td>...</td>\n",
       "      <td>...</td>\n",
       "      <td>...</td>\n",
       "      <td>...</td>\n",
       "      <td>...</td>\n",
       "      <td>...</td>\n",
       "      <td>...</td>\n",
       "      <td>...</td>\n",
       "    </tr>\n",
       "    <tr>\n",
       "      <th>1761</th>\n",
       "      <td>11</td>\n",
       "      <td>999000</td>\n",
       "      <td>62.0</td>\n",
       "      <td>2018-02-15</td>\n",
       "      <td>4</td>\n",
       "      <td>2.65</td>\n",
       "      <td>5.0</td>\n",
       "      <td>46.0</td>\n",
       "      <td>2</td>\n",
       "      <td>False</td>\n",
       "      <td>...</td>\n",
       "      <td>7.0</td>\n",
       "      <td>0</td>\n",
       "      <td>Бокситогорск</td>\n",
       "      <td>NaN</td>\n",
       "      <td>NaN</td>\n",
       "      <td>0</td>\n",
       "      <td>NaN</td>\n",
       "      <td>0</td>\n",
       "      <td>NaN</td>\n",
       "      <td>226</td>\n",
       "    </tr>\n",
       "    <tr>\n",
       "      <th>8779</th>\n",
       "      <td>9</td>\n",
       "      <td>620000</td>\n",
       "      <td>36.0</td>\n",
       "      <td>2018-01-15</td>\n",
       "      <td>1</td>\n",
       "      <td>2.65</td>\n",
       "      <td>5.0</td>\n",
       "      <td>19.0</td>\n",
       "      <td>5</td>\n",
       "      <td>False</td>\n",
       "      <td>...</td>\n",
       "      <td>8.0</td>\n",
       "      <td>0</td>\n",
       "      <td>Бокситогорск</td>\n",
       "      <td>NaN</td>\n",
       "      <td>NaN</td>\n",
       "      <td>0</td>\n",
       "      <td>NaN</td>\n",
       "      <td>0</td>\n",
       "      <td>NaN</td>\n",
       "      <td>45</td>\n",
       "    </tr>\n",
       "    <tr>\n",
       "      <th>17075</th>\n",
       "      <td>7</td>\n",
       "      <td>660000</td>\n",
       "      <td>43.0</td>\n",
       "      <td>2018-10-23</td>\n",
       "      <td>2</td>\n",
       "      <td>2.65</td>\n",
       "      <td>3.0</td>\n",
       "      <td>29.0</td>\n",
       "      <td>3</td>\n",
       "      <td>False</td>\n",
       "      <td>...</td>\n",
       "      <td>6.0</td>\n",
       "      <td>0</td>\n",
       "      <td>Бокситогорск</td>\n",
       "      <td>NaN</td>\n",
       "      <td>NaN</td>\n",
       "      <td>0</td>\n",
       "      <td>NaN</td>\n",
       "      <td>0</td>\n",
       "      <td>NaN</td>\n",
       "      <td>20</td>\n",
       "    </tr>\n",
       "    <tr>\n",
       "      <th>3731</th>\n",
       "      <td>10</td>\n",
       "      <td>1310000</td>\n",
       "      <td>65.6</td>\n",
       "      <td>2019-02-22</td>\n",
       "      <td>3</td>\n",
       "      <td>2.65</td>\n",
       "      <td>5.0</td>\n",
       "      <td>42.0</td>\n",
       "      <td>4</td>\n",
       "      <td>False</td>\n",
       "      <td>...</td>\n",
       "      <td>7.5</td>\n",
       "      <td>0</td>\n",
       "      <td>Бокситогорск</td>\n",
       "      <td>NaN</td>\n",
       "      <td>NaN</td>\n",
       "      <td>0</td>\n",
       "      <td>NaN</td>\n",
       "      <td>0</td>\n",
       "      <td>NaN</td>\n",
       "      <td>10000</td>\n",
       "    </tr>\n",
       "    <tr>\n",
       "      <th>22267</th>\n",
       "      <td>0</td>\n",
       "      <td>720000</td>\n",
       "      <td>44.0</td>\n",
       "      <td>2018-09-09</td>\n",
       "      <td>2</td>\n",
       "      <td>2.65</td>\n",
       "      <td>3.0</td>\n",
       "      <td>25.1</td>\n",
       "      <td>2</td>\n",
       "      <td>False</td>\n",
       "      <td>...</td>\n",
       "      <td>7.7</td>\n",
       "      <td>1</td>\n",
       "      <td>Бокситогорск</td>\n",
       "      <td>NaN</td>\n",
       "      <td>NaN</td>\n",
       "      <td>0</td>\n",
       "      <td>NaN</td>\n",
       "      <td>0</td>\n",
       "      <td>NaN</td>\n",
       "      <td>7</td>\n",
       "    </tr>\n",
       "  </tbody>\n",
       "</table>\n",
       "<p>22813 rows × 22 columns</p>\n",
       "</div>"
      ],
      "text/plain": [
       "       total_images  last_price  total_area first_day_exposition  rooms  \\\n",
       "15459             8     2000000        59.0           2018-11-18      3   \n",
       "19176             8     1100000        30.0           2017-04-17      1   \n",
       "4672              0     1800000        55.0           2018-02-18      2   \n",
       "4483             12     2300000        46.5           2017-10-20      1   \n",
       "18739             9     2250000        42.0           2017-12-03      2   \n",
       "...             ...         ...         ...                  ...    ...   \n",
       "1761             11      999000        62.0           2018-02-15      4   \n",
       "8779              9      620000        36.0           2018-01-15      1   \n",
       "17075             7      660000        43.0           2018-10-23      2   \n",
       "3731             10     1310000        65.6           2019-02-22      3   \n",
       "22267             0      720000        44.0           2018-09-09      2   \n",
       "\n",
       "       ceiling_height  floors_total  living_area  floor  is_apartment  ...  \\\n",
       "15459            2.65           2.0         42.3      2         False  ...   \n",
       "19176            2.65           2.0         15.8      1         False  ...   \n",
       "4672             2.65           3.0         31.4      1         False  ...   \n",
       "4483             2.55          10.0         20.1      8         False  ...   \n",
       "18739            2.65           5.0         24.0      4         False  ...   \n",
       "...               ...           ...          ...    ...           ...  ...   \n",
       "1761             2.65           5.0         46.0      2         False  ...   \n",
       "8779             2.65           5.0         19.0      5         False  ...   \n",
       "17075            2.65           3.0         29.0      3         False  ...   \n",
       "3731             2.65           5.0         42.0      4         False  ...   \n",
       "22267            2.65           3.0         25.1      2         False  ...   \n",
       "\n",
       "       kitchen_area  balcony         locality_name  airports_nearest  \\\n",
       "15459           6.5        1              село Шум               NaN   \n",
       "19176           6.0        0    село Старая Ладога               NaN   \n",
       "4672            9.6        0    село Старая Ладога               NaN   \n",
       "4483           14.3        0  село Русско-Высоцкое               NaN   \n",
       "18739           7.4        0  село Русско-Высоцкое               NaN   \n",
       "...             ...      ...                   ...               ...   \n",
       "1761            7.0        0          Бокситогорск               NaN   \n",
       "8779            8.0        0          Бокситогорск               NaN   \n",
       "17075           6.0        0          Бокситогорск               NaN   \n",
       "3731            7.5        0          Бокситогорск               NaN   \n",
       "22267           7.7        1          Бокситогорск               NaN   \n",
       "\n",
       "      cityCenters_nearest  parks_around3000  parks_nearest  ponds_around3000  \\\n",
       "15459                 NaN                 0            NaN                 0   \n",
       "19176                 NaN                 0            NaN                 0   \n",
       "4672                  NaN                 0            NaN                 0   \n",
       "4483                  NaN                 0            NaN                 0   \n",
       "18739                 NaN                 0            NaN                 0   \n",
       "...                   ...               ...            ...               ...   \n",
       "1761                  NaN                 0            NaN                 0   \n",
       "8779                  NaN                 0            NaN                 0   \n",
       "17075                 NaN                 0            NaN                 0   \n",
       "3731                  NaN                 0            NaN                 0   \n",
       "22267                 NaN                 0            NaN                 0   \n",
       "\n",
       "       ponds_nearest  days_exposition  \n",
       "15459            NaN                9  \n",
       "19176            NaN            10000  \n",
       "4672             NaN               45  \n",
       "4483             NaN              414  \n",
       "18739            NaN               45  \n",
       "...              ...              ...  \n",
       "1761             NaN              226  \n",
       "8779             NaN               45  \n",
       "17075            NaN               20  \n",
       "3731             NaN            10000  \n",
       "22267            NaN                7  \n",
       "\n",
       "[22813 rows x 22 columns]"
      ]
     },
     "execution_count": 18,
     "metadata": {},
     "output_type": "execute_result"
    }
   ],
   "source": [
    "gaps_airports_nearest = data.sort_values('locality_name', ascending=False)\n",
    "gaps_airports_nearest"
   ]
  },
  {
   "cell_type": "code",
   "execution_count": 19,
   "metadata": {
    "scrolled": true
   },
   "outputs": [
    {
     "data": {
      "text/html": [
       "<div>\n",
       "<style scoped>\n",
       "    .dataframe tbody tr th:only-of-type {\n",
       "        vertical-align: middle;\n",
       "    }\n",
       "\n",
       "    .dataframe tbody tr th {\n",
       "        vertical-align: top;\n",
       "    }\n",
       "\n",
       "    .dataframe thead th {\n",
       "        text-align: right;\n",
       "    }\n",
       "</style>\n",
       "<table border=\"1\" class=\"dataframe\">\n",
       "  <thead>\n",
       "    <tr style=\"text-align: right;\">\n",
       "      <th></th>\n",
       "      <th>airports_nearest</th>\n",
       "      <th>cityCenters_nearest</th>\n",
       "      <th>parks_nearest</th>\n",
       "      <th>ponds_nearest</th>\n",
       "    </tr>\n",
       "    <tr>\n",
       "      <th>locality_name</th>\n",
       "      <th></th>\n",
       "      <th></th>\n",
       "      <th></th>\n",
       "      <th></th>\n",
       "    </tr>\n",
       "  </thead>\n",
       "  <tbody>\n",
       "    <tr>\n",
       "      <th>Зеленогорск</th>\n",
       "      <td>73300.250000</td>\n",
       "      <td>54617.583333</td>\n",
       "      <td>210.625000</td>\n",
       "      <td>485.888889</td>\n",
       "    </tr>\n",
       "    <tr>\n",
       "      <th>Колпино</th>\n",
       "      <td>26381.741742</td>\n",
       "      <td>32119.066066</td>\n",
       "      <td>496.636364</td>\n",
       "      <td>530.227513</td>\n",
       "    </tr>\n",
       "    <tr>\n",
       "      <th>Красное Село</th>\n",
       "      <td>26635.029240</td>\n",
       "      <td>30059.748538</td>\n",
       "      <td>473.386364</td>\n",
       "      <td>445.500000</td>\n",
       "    </tr>\n",
       "    <tr>\n",
       "      <th>Кронштадт</th>\n",
       "      <td>67432.978261</td>\n",
       "      <td>49159.456522</td>\n",
       "      <td>325.750000</td>\n",
       "      <td>351.226190</td>\n",
       "    </tr>\n",
       "    <tr>\n",
       "      <th>Ломоносов</th>\n",
       "      <td>48314.138462</td>\n",
       "      <td>50730.546154</td>\n",
       "      <td>389.062500</td>\n",
       "      <td>546.768293</td>\n",
       "    </tr>\n",
       "    <tr>\n",
       "      <th>Павловск</th>\n",
       "      <td>21053.342105</td>\n",
       "      <td>33206.921053</td>\n",
       "      <td>379.538462</td>\n",
       "      <td>493.382353</td>\n",
       "    </tr>\n",
       "    <tr>\n",
       "      <th>Петергоф</th>\n",
       "      <td>40196.904040</td>\n",
       "      <td>35440.994949</td>\n",
       "      <td>411.815603</td>\n",
       "      <td>515.460870</td>\n",
       "    </tr>\n",
       "    <tr>\n",
       "      <th>Пушкин</th>\n",
       "      <td>16475.169444</td>\n",
       "      <td>28776.359331</td>\n",
       "      <td>403.655502</td>\n",
       "      <td>475.000000</td>\n",
       "    </tr>\n",
       "    <tr>\n",
       "      <th>Санкт-Петербург</th>\n",
       "      <td>28102.407132</td>\n",
       "      <td>11660.647215</td>\n",
       "      <td>499.664611</td>\n",
       "      <td>521.375262</td>\n",
       "    </tr>\n",
       "    <tr>\n",
       "      <th>Сестрорецк</th>\n",
       "      <td>56679.162921</td>\n",
       "      <td>34622.505618</td>\n",
       "      <td>409.583333</td>\n",
       "      <td>396.842105</td>\n",
       "    </tr>\n",
       "    <tr>\n",
       "      <th>поселок Александровская</th>\n",
       "      <td>12896.500000</td>\n",
       "      <td>27468.000000</td>\n",
       "      <td>NaN</td>\n",
       "      <td>711.500000</td>\n",
       "    </tr>\n",
       "    <tr>\n",
       "      <th>поселок Белоостров</th>\n",
       "      <td>57769.000000</td>\n",
       "      <td>38868.000000</td>\n",
       "      <td>NaN</td>\n",
       "      <td>320.000000</td>\n",
       "    </tr>\n",
       "    <tr>\n",
       "      <th>поселок Левашово</th>\n",
       "      <td>52693.000000</td>\n",
       "      <td>25727.000000</td>\n",
       "      <td>NaN</td>\n",
       "      <td>NaN</td>\n",
       "    </tr>\n",
       "    <tr>\n",
       "      <th>поселок Лисий Нос</th>\n",
       "      <td>55302.333333</td>\n",
       "      <td>27613.333333</td>\n",
       "      <td>NaN</td>\n",
       "      <td>NaN</td>\n",
       "    </tr>\n",
       "    <tr>\n",
       "      <th>поселок Металлострой</th>\n",
       "      <td>25726.484848</td>\n",
       "      <td>27561.348485</td>\n",
       "      <td>NaN</td>\n",
       "      <td>NaN</td>\n",
       "    </tr>\n",
       "    <tr>\n",
       "      <th>поселок Молодежное</th>\n",
       "      <td>84430.200000</td>\n",
       "      <td>65529.200000</td>\n",
       "      <td>NaN</td>\n",
       "      <td>NaN</td>\n",
       "    </tr>\n",
       "    <tr>\n",
       "      <th>поселок Парголово</th>\n",
       "      <td>53999.703704</td>\n",
       "      <td>19933.484568</td>\n",
       "      <td>501.100000</td>\n",
       "      <td>593.740741</td>\n",
       "    </tr>\n",
       "    <tr>\n",
       "      <th>поселок Песочный</th>\n",
       "      <td>54565.500000</td>\n",
       "      <td>26475.250000</td>\n",
       "      <td>NaN</td>\n",
       "      <td>NaN</td>\n",
       "    </tr>\n",
       "    <tr>\n",
       "      <th>поселок Петро-Славянка</th>\n",
       "      <td>20605.000000</td>\n",
       "      <td>27165.000000</td>\n",
       "      <td>NaN</td>\n",
       "      <td>663.000000</td>\n",
       "    </tr>\n",
       "    <tr>\n",
       "      <th>поселок Понтонный</th>\n",
       "      <td>30581.400000</td>\n",
       "      <td>32293.450000</td>\n",
       "      <td>NaN</td>\n",
       "      <td>589.857143</td>\n",
       "    </tr>\n",
       "    <tr>\n",
       "      <th>поселок Репино</th>\n",
       "      <td>62293.250000</td>\n",
       "      <td>43392.250000</td>\n",
       "      <td>NaN</td>\n",
       "      <td>NaN</td>\n",
       "    </tr>\n",
       "    <tr>\n",
       "      <th>поселок Саперный</th>\n",
       "      <td>34142.666667</td>\n",
       "      <td>35854.666667</td>\n",
       "      <td>NaN</td>\n",
       "      <td>426.833333</td>\n",
       "    </tr>\n",
       "    <tr>\n",
       "      <th>поселок Стрельна</th>\n",
       "      <td>28129.452381</td>\n",
       "      <td>23359.309524</td>\n",
       "      <td>580.157895</td>\n",
       "      <td>732.000000</td>\n",
       "    </tr>\n",
       "    <tr>\n",
       "      <th>поселок Усть-Ижора</th>\n",
       "      <td>26510.500000</td>\n",
       "      <td>28222.500000</td>\n",
       "      <td>NaN</td>\n",
       "      <td>NaN</td>\n",
       "    </tr>\n",
       "    <tr>\n",
       "      <th>поселок Шушары</th>\n",
       "      <td>16090.037209</td>\n",
       "      <td>24305.362791</td>\n",
       "      <td>NaN</td>\n",
       "      <td>575.718121</td>\n",
       "    </tr>\n",
       "  </tbody>\n",
       "</table>\n",
       "</div>"
      ],
      "text/plain": [
       "                         airports_nearest  cityCenters_nearest  parks_nearest  \\\n",
       "locality_name                                                                   \n",
       "Зеленогорск                  73300.250000         54617.583333     210.625000   \n",
       "Колпино                      26381.741742         32119.066066     496.636364   \n",
       "Красное Село                 26635.029240         30059.748538     473.386364   \n",
       "Кронштадт                    67432.978261         49159.456522     325.750000   \n",
       "Ломоносов                    48314.138462         50730.546154     389.062500   \n",
       "Павловск                     21053.342105         33206.921053     379.538462   \n",
       "Петергоф                     40196.904040         35440.994949     411.815603   \n",
       "Пушкин                       16475.169444         28776.359331     403.655502   \n",
       "Санкт-Петербург              28102.407132         11660.647215     499.664611   \n",
       "Сестрорецк                   56679.162921         34622.505618     409.583333   \n",
       "поселок Александровская      12896.500000         27468.000000            NaN   \n",
       "поселок Белоостров           57769.000000         38868.000000            NaN   \n",
       "поселок Левашово             52693.000000         25727.000000            NaN   \n",
       "поселок Лисий Нос            55302.333333         27613.333333            NaN   \n",
       "поселок Металлострой         25726.484848         27561.348485            NaN   \n",
       "поселок Молодежное           84430.200000         65529.200000            NaN   \n",
       "поселок Парголово            53999.703704         19933.484568     501.100000   \n",
       "поселок Песочный             54565.500000         26475.250000            NaN   \n",
       "поселок Петро-Славянка       20605.000000         27165.000000            NaN   \n",
       "поселок Понтонный            30581.400000         32293.450000            NaN   \n",
       "поселок Репино               62293.250000         43392.250000            NaN   \n",
       "поселок Саперный             34142.666667         35854.666667            NaN   \n",
       "поселок Стрельна             28129.452381         23359.309524     580.157895   \n",
       "поселок Усть-Ижора           26510.500000         28222.500000            NaN   \n",
       "поселок Шушары               16090.037209         24305.362791            NaN   \n",
       "\n",
       "                         ponds_nearest  \n",
       "locality_name                           \n",
       "Зеленогорск                 485.888889  \n",
       "Колпино                     530.227513  \n",
       "Красное Село                445.500000  \n",
       "Кронштадт                   351.226190  \n",
       "Ломоносов                   546.768293  \n",
       "Павловск                    493.382353  \n",
       "Петергоф                    515.460870  \n",
       "Пушкин                      475.000000  \n",
       "Санкт-Петербург             521.375262  \n",
       "Сестрорецк                  396.842105  \n",
       "поселок Александровская     711.500000  \n",
       "поселок Белоостров          320.000000  \n",
       "поселок Левашово                   NaN  \n",
       "поселок Лисий Нос                  NaN  \n",
       "поселок Металлострой               NaN  \n",
       "поселок Молодежное                 NaN  \n",
       "поселок Парголово           593.740741  \n",
       "поселок Песочный                   NaN  \n",
       "поселок Петро-Славянка      663.000000  \n",
       "поселок Понтонный           589.857143  \n",
       "поселок Репино                     NaN  \n",
       "поселок Саперный            426.833333  \n",
       "поселок Стрельна            732.000000  \n",
       "поселок Усть-Ижора                 NaN  \n",
       "поселок Шушары              575.718121  "
      ]
     },
     "execution_count": 19,
     "metadata": {},
     "output_type": "execute_result"
    }
   ],
   "source": [
    "locality_name_analysis = data[['locality_name', 'airports_nearest','parks_nearest','ponds_nearest','cityCenters_nearest']]\n",
    "locality_name_analysis.sort_values('locality_name')\n",
    "locality_name_analysis.pivot_table(index='locality_name',values=['locality_name','airports_nearest','parks_nearest','ponds_nearest','cityCenters_nearest'])\n"
   ]
  },
  {
   "cell_type": "markdown",
   "metadata": {},
   "source": [
    "Большая часть пропущенных значений относится к поселкам, которые не составляют основную массу продаваемых квартир. На выполнения анализа по проектной части не влияет, можно оставить не меняя кроме cityCenters_nearest. "
   ]
  },
  {
   "cell_type": "code",
   "execution_count": 20,
   "metadata": {},
   "outputs": [
    {
     "data": {
      "text/plain": [
       "locality_name\n",
       "Бокситогорск              0\n",
       "поселок Кузнечное         0\n",
       "поселок Красный Бор       0\n",
       "поселок Красносельское    0\n",
       "поселок Красная Долина    0\n",
       "поселок Котельский        0\n",
       "поселок Коробицыно        0\n",
       "поселок Кондратьево       0\n",
       "поселок Коммунары         0\n",
       "поселок Кобринское        0\n",
       "поселок Кобралово         0\n",
       "поселок Кирпичное         0\n",
       "поселок Кингисеппский     0\n",
       "поселок Кикерино          0\n",
       "поселок Каложицы          0\n",
       "поселок Калитино          0\n",
       "поселок Кузьмоловский     0\n",
       "поселок Ильичево          0\n",
       "поселок Лебяжье           0\n",
       "поселок Лесное            0\n",
       "поселок Павлово           0\n",
       "поселок Оредеж            0\n",
       "поселок Новый Учхоз       0\n",
       "поселок Новый Свет        0\n",
       "поселок Новогорелово      0\n",
       "поселок Никольский        0\n",
       "поселок Назия             0\n",
       "поселок Мыза-Ивановка     0\n",
       "поселок Мурино            0\n",
       "поселок Молодцово         0\n",
       "Name: cityCenters_nearest, dtype: int64"
      ]
     },
     "execution_count": 20,
     "metadata": {},
     "output_type": "execute_result"
    }
   ],
   "source": [
    "analysis_cityCenters = locality_name_analysis.groupby('locality_name')['cityCenters_nearest'].count()\n",
    "analysis_cityCenters.sort_values().head(30)"
   ]
  },
  {
   "cell_type": "code",
   "execution_count": 21,
   "metadata": {},
   "outputs": [
    {
     "name": "stdout",
     "output_type": "stream",
     "text": [
      "<class 'pandas.core.frame.DataFrame'>\n",
      "Int64Index: 22813 entries, 0 to 23698\n",
      "Data columns (total 22 columns):\n",
      " #   Column                Non-Null Count  Dtype         \n",
      "---  ------                --------------  -----         \n",
      " 0   total_images          22813 non-null  int64         \n",
      " 1   last_price            22813 non-null  int64         \n",
      " 2   total_area            22813 non-null  float64       \n",
      " 3   first_day_exposition  22813 non-null  datetime64[ns]\n",
      " 4   rooms                 22813 non-null  int64         \n",
      " 5   ceiling_height        22813 non-null  float64       \n",
      " 6   floors_total          22813 non-null  float64       \n",
      " 7   living_area           22813 non-null  float64       \n",
      " 8   floor                 22813 non-null  int64         \n",
      " 9   is_apartment          22813 non-null  bool          \n",
      " 10  studio                22813 non-null  bool          \n",
      " 11  open_plan             22813 non-null  bool          \n",
      " 12  kitchen_area          22813 non-null  float64       \n",
      " 13  balcony               22813 non-null  int64         \n",
      " 14  locality_name         22813 non-null  object        \n",
      " 15  airports_nearest      17494 non-null  float64       \n",
      " 16  cityCenters_nearest   17514 non-null  float64       \n",
      " 17  parks_around3000      22813 non-null  int64         \n",
      " 18  parks_nearest         7743 non-null   float64       \n",
      " 19  ponds_around3000      22813 non-null  int64         \n",
      " 20  ponds_nearest         8722 non-null   float64       \n",
      " 21  days_exposition       22813 non-null  int64         \n",
      "dtypes: bool(3), datetime64[ns](1), float64(9), int64(8), object(1)\n",
      "memory usage: 3.5+ MB\n"
     ]
    }
   ],
   "source": [
    "# check\n",
    "data.info()"
   ]
  },
  {
   "cell_type": "code",
   "execution_count": 22,
   "metadata": {},
   "outputs": [
    {
     "data": {
      "text/plain": [
       "total_images                0\n",
       "last_price                  0\n",
       "total_area                  0\n",
       "first_day_exposition        0\n",
       "rooms                       0\n",
       "ceiling_height              0\n",
       "floors_total                0\n",
       "living_area                 0\n",
       "floor                       0\n",
       "is_apartment                0\n",
       "studio                      0\n",
       "open_plan                   0\n",
       "kitchen_area                0\n",
       "balcony                     0\n",
       "locality_name               0\n",
       "airports_nearest         5319\n",
       "cityCenters_nearest      5299\n",
       "parks_around3000            0\n",
       "parks_nearest           15070\n",
       "ponds_around3000            0\n",
       "ponds_nearest           14091\n",
       "days_exposition             0\n",
       "dtype: int64"
      ]
     },
     "execution_count": 22,
     "metadata": {},
     "output_type": "execute_result"
    }
   ],
   "source": [
    "data.isnull().sum()"
   ]
  },
  {
   "cell_type": "markdown",
   "metadata": {},
   "source": [
    "Был проведен анализ таблицы, на основе которого выявлено большое количество пропусков. Оставлены были пропуски, которые не влият на расчеты таблицы. Проанализировав в каких типах локации больше всего встречается пропусков, выяснили, что это поселки, деревни, села, которые не так явно влияют на статистические данные как города.По возможности пропуски заменили медиальными значениями.Можно преступать к дальнейшей подготовке данных."
   ]
  },
  {
   "cell_type": "markdown",
   "metadata": {},
   "source": [
    "### Посчитайте и добавьте в таблицу новые столбцы"
   ]
  },
  {
   "cell_type": "code",
   "execution_count": 23,
   "metadata": {},
   "outputs": [],
   "source": [
    "data['price_per_squaremeter'] = data['last_price'] / data['total_area']\n",
    "data['price_per_squaremeter'] = data['price_per_squaremeter'].astype('int')\n",
    "data['weekday'] = data['first_day_exposition'].dt.weekday\n",
    "data['month'] = data['first_day_exposition'].dt.month\n",
    "data['year'] = data['first_day_exposition'].dt.year"
   ]
  },
  {
   "cell_type": "code",
   "execution_count": 24,
   "metadata": {},
   "outputs": [],
   "source": [
    "def floor_group(row):\n",
    "    if row['floor'] == 1:\n",
    "        return 'первый'\n",
    "    elif row['floor'] == row['floors_total']:\n",
    "        return 'последний'\n",
    "    else:\n",
    "        return 'другой'\n",
    "data['floor_type'] = data.apply(floor_group, axis=1)"
   ]
  },
  {
   "cell_type": "code",
   "execution_count": 25,
   "metadata": {},
   "outputs": [
    {
     "data": {
      "text/html": [
       "<div>\n",
       "<style scoped>\n",
       "    .dataframe tbody tr th:only-of-type {\n",
       "        vertical-align: middle;\n",
       "    }\n",
       "\n",
       "    .dataframe tbody tr th {\n",
       "        vertical-align: top;\n",
       "    }\n",
       "\n",
       "    .dataframe thead th {\n",
       "        text-align: right;\n",
       "    }\n",
       "</style>\n",
       "<table border=\"1\" class=\"dataframe\">\n",
       "  <thead>\n",
       "    <tr style=\"text-align: right;\">\n",
       "      <th></th>\n",
       "      <th>total_images</th>\n",
       "      <th>last_price</th>\n",
       "      <th>total_area</th>\n",
       "      <th>first_day_exposition</th>\n",
       "      <th>rooms</th>\n",
       "      <th>ceiling_height</th>\n",
       "      <th>floors_total</th>\n",
       "      <th>living_area</th>\n",
       "      <th>floor</th>\n",
       "      <th>is_apartment</th>\n",
       "      <th>...</th>\n",
       "      <th>parks_nearest</th>\n",
       "      <th>ponds_around3000</th>\n",
       "      <th>ponds_nearest</th>\n",
       "      <th>days_exposition</th>\n",
       "      <th>price_per_squaremeter</th>\n",
       "      <th>weekday</th>\n",
       "      <th>month</th>\n",
       "      <th>year</th>\n",
       "      <th>floor_type</th>\n",
       "      <th>cityCenters_nearest_in_km</th>\n",
       "    </tr>\n",
       "  </thead>\n",
       "  <tbody>\n",
       "    <tr>\n",
       "      <th>0</th>\n",
       "      <td>20</td>\n",
       "      <td>13000000</td>\n",
       "      <td>108.0</td>\n",
       "      <td>2019-03-07</td>\n",
       "      <td>3</td>\n",
       "      <td>2.70</td>\n",
       "      <td>16.0</td>\n",
       "      <td>51.0</td>\n",
       "      <td>8</td>\n",
       "      <td>False</td>\n",
       "      <td>...</td>\n",
       "      <td>482.0</td>\n",
       "      <td>2</td>\n",
       "      <td>755.0</td>\n",
       "      <td>10000</td>\n",
       "      <td>120370</td>\n",
       "      <td>3</td>\n",
       "      <td>3</td>\n",
       "      <td>2019</td>\n",
       "      <td>другой</td>\n",
       "      <td>16.0</td>\n",
       "    </tr>\n",
       "    <tr>\n",
       "      <th>1</th>\n",
       "      <td>7</td>\n",
       "      <td>3350000</td>\n",
       "      <td>40.4</td>\n",
       "      <td>2018-12-04</td>\n",
       "      <td>1</td>\n",
       "      <td>2.65</td>\n",
       "      <td>11.0</td>\n",
       "      <td>18.6</td>\n",
       "      <td>1</td>\n",
       "      <td>False</td>\n",
       "      <td>...</td>\n",
       "      <td>NaN</td>\n",
       "      <td>0</td>\n",
       "      <td>NaN</td>\n",
       "      <td>81</td>\n",
       "      <td>82920</td>\n",
       "      <td>1</td>\n",
       "      <td>12</td>\n",
       "      <td>2018</td>\n",
       "      <td>первый</td>\n",
       "      <td>19.0</td>\n",
       "    </tr>\n",
       "    <tr>\n",
       "      <th>2</th>\n",
       "      <td>10</td>\n",
       "      <td>5196000</td>\n",
       "      <td>56.0</td>\n",
       "      <td>2015-08-20</td>\n",
       "      <td>2</td>\n",
       "      <td>2.65</td>\n",
       "      <td>5.0</td>\n",
       "      <td>34.3</td>\n",
       "      <td>4</td>\n",
       "      <td>False</td>\n",
       "      <td>...</td>\n",
       "      <td>90.0</td>\n",
       "      <td>2</td>\n",
       "      <td>574.0</td>\n",
       "      <td>558</td>\n",
       "      <td>92785</td>\n",
       "      <td>3</td>\n",
       "      <td>8</td>\n",
       "      <td>2015</td>\n",
       "      <td>другой</td>\n",
       "      <td>14.0</td>\n",
       "    </tr>\n",
       "    <tr>\n",
       "      <th>3</th>\n",
       "      <td>0</td>\n",
       "      <td>64900000</td>\n",
       "      <td>159.0</td>\n",
       "      <td>2015-07-24</td>\n",
       "      <td>3</td>\n",
       "      <td>2.65</td>\n",
       "      <td>14.0</td>\n",
       "      <td>90.8</td>\n",
       "      <td>9</td>\n",
       "      <td>False</td>\n",
       "      <td>...</td>\n",
       "      <td>84.0</td>\n",
       "      <td>3</td>\n",
       "      <td>234.0</td>\n",
       "      <td>424</td>\n",
       "      <td>408176</td>\n",
       "      <td>4</td>\n",
       "      <td>7</td>\n",
       "      <td>2015</td>\n",
       "      <td>другой</td>\n",
       "      <td>7.0</td>\n",
       "    </tr>\n",
       "    <tr>\n",
       "      <th>4</th>\n",
       "      <td>2</td>\n",
       "      <td>10000000</td>\n",
       "      <td>100.0</td>\n",
       "      <td>2018-06-19</td>\n",
       "      <td>2</td>\n",
       "      <td>3.03</td>\n",
       "      <td>14.0</td>\n",
       "      <td>32.0</td>\n",
       "      <td>13</td>\n",
       "      <td>False</td>\n",
       "      <td>...</td>\n",
       "      <td>112.0</td>\n",
       "      <td>1</td>\n",
       "      <td>48.0</td>\n",
       "      <td>121</td>\n",
       "      <td>100000</td>\n",
       "      <td>1</td>\n",
       "      <td>6</td>\n",
       "      <td>2018</td>\n",
       "      <td>другой</td>\n",
       "      <td>8.0</td>\n",
       "    </tr>\n",
       "  </tbody>\n",
       "</table>\n",
       "<p>5 rows × 28 columns</p>\n",
       "</div>"
      ],
      "text/plain": [
       "   total_images  last_price  total_area first_day_exposition  rooms  \\\n",
       "0            20    13000000       108.0           2019-03-07      3   \n",
       "1             7     3350000        40.4           2018-12-04      1   \n",
       "2            10     5196000        56.0           2015-08-20      2   \n",
       "3             0    64900000       159.0           2015-07-24      3   \n",
       "4             2    10000000       100.0           2018-06-19      2   \n",
       "\n",
       "   ceiling_height  floors_total  living_area  floor  is_apartment  ...  \\\n",
       "0            2.70          16.0         51.0      8         False  ...   \n",
       "1            2.65          11.0         18.6      1         False  ...   \n",
       "2            2.65           5.0         34.3      4         False  ...   \n",
       "3            2.65          14.0         90.8      9         False  ...   \n",
       "4            3.03          14.0         32.0     13         False  ...   \n",
       "\n",
       "   parks_nearest  ponds_around3000  ponds_nearest  days_exposition  \\\n",
       "0          482.0                 2          755.0            10000   \n",
       "1            NaN                 0            NaN               81   \n",
       "2           90.0                 2          574.0              558   \n",
       "3           84.0                 3          234.0              424   \n",
       "4          112.0                 1           48.0              121   \n",
       "\n",
       "  price_per_squaremeter  weekday  month  year  floor_type  \\\n",
       "0                120370        3      3  2019      другой   \n",
       "1                 82920        1     12  2018      первый   \n",
       "2                 92785        3      8  2015      другой   \n",
       "3                408176        4      7  2015      другой   \n",
       "4                100000        1      6  2018      другой   \n",
       "\n",
       "   cityCenters_nearest_in_km  \n",
       "0                       16.0  \n",
       "1                       19.0  \n",
       "2                       14.0  \n",
       "3                        7.0  \n",
       "4                        8.0  \n",
       "\n",
       "[5 rows x 28 columns]"
      ]
     },
     "execution_count": 25,
     "metadata": {},
     "output_type": "execute_result"
    }
   ],
   "source": [
    "data['cityCenters_nearest_in_km'] = data['cityCenters_nearest']/1000\n",
    "data['cityCenters_nearest_in_km'] = data['cityCenters_nearest_in_km'].round()\n",
    "\n",
    "data.head()"
   ]
  },
  {
   "cell_type": "markdown",
   "metadata": {},
   "source": [
    "Добавили требующиеся новые параметры в существующую таблицу."
   ]
  },
  {
   "cell_type": "markdown",
   "metadata": {},
   "source": [
    "### Проведите исследовательский анализ данных"
   ]
  },
  {
   "cell_type": "code",
   "execution_count": 26,
   "metadata": {},
   "outputs": [
    {
     "data": {
      "text/plain": [
       "<AxesSubplot:>"
      ]
     },
     "execution_count": 26,
     "metadata": {},
     "output_type": "execute_result"
    },
    {
     "data": {
      "image/png": "[encoded data removed]",
      "text/plain": [
       "<Figure size 432x288 with 1 Axes>"
      ]
     },
     "metadata": {
      "needs_background": "light"
     },
     "output_type": "display_data"
    }
   ],
   "source": [
    "data['total_area'].hist(bins=200, range=(10,400))"
   ]
  },
  {
   "cell_type": "code",
   "execution_count": 27,
   "metadata": {},
   "outputs": [
    {
     "data": {
      "text/plain": [
       "<AxesSubplot:>"
      ]
     },
     "execution_count": 27,
     "metadata": {},
     "output_type": "execute_result"
    },
    {
     "data": {
      "image/png": "[encoded data removed]",
      "text/plain": [
       "<Figure size 432x288 with 1 Axes>"
      ]
     },
     "metadata": {
      "needs_background": "light"
     },
     "output_type": "display_data"
    }
   ],
   "source": [
    "data['living_area'].hist(bins=100,range=(0,250))"
   ]
  },
  {
   "cell_type": "code",
   "execution_count": 28,
   "metadata": {},
   "outputs": [
    {
     "data": {
      "text/plain": [
       "<AxesSubplot:>"
      ]
     },
     "execution_count": 28,
     "metadata": {},
     "output_type": "execute_result"
    },
    {
     "data": {
      "image/png": "[encoded data removed]",
      "text/plain": [
       "<Figure size 432x288 with 1 Axes>"
      ]
     },
     "metadata": {
      "needs_background": "light"
     },
     "output_type": "display_data"
    }
   ],
   "source": [
    "data['kitchen_area'].hist(bins=100,range=(0,80))"
   ]
  },
  {
   "cell_type": "code",
   "execution_count": 29,
   "metadata": {},
   "outputs": [
    {
     "data": {
      "text/plain": [
       "<AxesSubplot:ylabel='Frequency'>"
      ]
     },
     "execution_count": 29,
     "metadata": {},
     "output_type": "execute_result"
    },
    {
     "data": {
      "image/png": "[encoded data removed]",
      "text/plain": [
       "<Figure size 360x216 with 1 Axes>"
      ]
     },
     "metadata": {
      "needs_background": "light"
     },
     "output_type": "display_data"
    }
   ],
   "source": [
    "data.plot(y = 'last_price', kind = 'hist', bins = 100, grid=True, range = (0,15000000), figsize = (5,3))"
   ]
  },
  {
   "cell_type": "code",
   "execution_count": 30,
   "metadata": {},
   "outputs": [
    {
     "data": {
      "text/plain": [
       "Text(0.5, 1.0, 'Кол-во комнат')"
      ]
     },
     "execution_count": 30,
     "metadata": {},
     "output_type": "execute_result"
    },
    {
     "data": {
      "image/png": "[encoded data removed]",
      "text/plain": [
       "<Figure size 432x288 with 1 Axes>"
      ]
     },
     "metadata": {
      "needs_background": "light"
     },
     "output_type": "display_data"
    }
   ],
   "source": [
    "data.plot(y = 'rooms', kind = 'hist', bins = 30, range = (0,10))\n",
    "plt.title('Кол-во комнат')"
   ]
  },
  {
   "cell_type": "code",
   "execution_count": 31,
   "metadata": {},
   "outputs": [
    {
     "data": {
      "text/plain": [
       "Text(0.5, 1.0, 'Высота потолков')"
      ]
     },
     "execution_count": 31,
     "metadata": {},
     "output_type": "execute_result"
    },
    {
     "data": {
      "image/png": "[encoded data removed]",
      "text/plain": [
       "<Figure size 432x288 with 1 Axes>"
      ]
     },
     "metadata": {
      "needs_background": "light"
     },
     "output_type": "display_data"
    }
   ],
   "source": [
    "plt.hist(data.query('(ceiling_height > 2) & (ceiling_height < 4)')['ceiling_height'], bins=20)\n",
    "plt.title('Высота потолков')"
   ]
  },
  {
   "cell_type": "code",
   "execution_count": 32,
   "metadata": {},
   "outputs": [
    {
     "data": {
      "text/plain": [
       "<AxesSubplot:>"
      ]
     },
     "execution_count": 32,
     "metadata": {},
     "output_type": "execute_result"
    },
    {
     "data": {
      "image/png": "[encoded data removed]",
      "text/plain": [
       "<Figure size 432x288 with 1 Axes>"
      ]
     },
     "metadata": {
      "needs_background": "light"
     },
     "output_type": "display_data"
    }
   ],
   "source": [
    "data['floor_type'].hist(bins=30)"
   ]
  },
  {
   "cell_type": "code",
   "execution_count": 33,
   "metadata": {
    "scrolled": true
   },
   "outputs": [
    {
     "data": {
      "text/plain": [
       "<AxesSubplot:>"
      ]
     },
     "execution_count": 33,
     "metadata": {},
     "output_type": "execute_result"
    },
    {
     "data": {
      "image/png": "[encoded data removed]",
      "text/plain": [
       "<Figure size 432x288 with 1 Axes>"
      ]
     },
     "metadata": {
      "needs_background": "light"
     },
     "output_type": "display_data"
    }
   ],
   "source": [
    "data['floors_total'].hist(bins=30, range=(0,30))"
   ]
  },
  {
   "cell_type": "code",
   "execution_count": 35,
   "metadata": {},
   "outputs": [
    {
     "data": {
      "text/plain": [
       "<AxesSubplot:>"
      ]
     },
     "execution_count": 35,
     "metadata": {},
     "output_type": "execute_result"
    },
    {
     "data": {
      "image/png": "[encoded data removed]",
      "text/plain": [
       "<Figure size 432x288 with 1 Axes>"
      ]
     },
     "metadata": {
      "needs_background": "light"
     },
     "output_type": "display_data"
    }
   ],
   "source": [
    "data['cityCenters_nearest'].hist(bins=30)"
   ]
  },
  {
   "cell_type": "code",
   "execution_count": 36,
   "metadata": {},
   "outputs": [
    {
     "data": {
      "text/plain": [
       "<AxesSubplot:>"
      ]
     },
     "execution_count": 36,
     "metadata": {},
     "output_type": "execute_result"
    },
    {
     "data": {
      "image/png": "[encoded data removed]",
      "text/plain": [
       "<Figure size 432x288 with 1 Axes>"
      ]
     },
     "metadata": {
      "needs_background": "light"
     },
     "output_type": "display_data"
    }
   ],
   "source": [
    "data['parks_nearest'].hist(bins=30)"
   ]
  },
  {
   "cell_type": "markdown",
   "metadata": {},
   "source": [
    "Выводы:\n",
    "Площадь: основная масса квартир до 100кв.м. Большинство приходится на квартиры от 40 до 70кв.м.\n",
    "Жилая площадь: основная масса до 50кв.м. Большинство приходится на квартиры с жилой площадь от 10 до 30кв.м.\n",
    "Площадь кухни: большая часть квартир с площадь кухни от 5 до 15кв.м, редко встречаются после 15кв.м.\n",
    "Цена объекта: основная стоимость квартир приходится до 6млн, затем количество квартир с высшей стоимостью идет на спад.\n",
    "Количество комнат:основная масса 1,2,3 комных, гораздо реже 4-х комнатных.\n",
    "Высота потолков: основное значение около 2,65м.\n",
    "Тип этажа квартиры: квартиры в большей степени находятся не на последних и не первых этажах.\n",
    "Общее количество этажей: дома в основном в 5 и 9 этажей.\n",
    "Расстояние до центра:до 20км\n",
    "Расстояние до парка:до 1000м."
   ]
  },
  {
   "cell_type": "code",
   "execution_count": 38,
   "metadata": {},
   "outputs": [],
   "source": [
    "data['floors_total'] = data['floors_total'].astype('int')"
   ]
  },
  {
   "cell_type": "code",
   "execution_count": 41,
   "metadata": {
    "scrolled": true
   },
   "outputs": [
    {
     "data": {
      "text/html": [
       "<style  type=\"text/css\" >\n",
       "</style><table id=\"T_5ddbf_\" ><thead>    <tr>        <th class=\"blank level0\" ></th>        <th class=\"col_heading level0 col0\" >rooms</th>        <th class=\"col_heading level0 col1\" >total_area</th>        <th class=\"col_heading level0 col2\" >ceiling_height</th>        <th class=\"col_heading level0 col3\" >days_exposition</th>        <th class=\"col_heading level0 col4\" >last_price</th>        <th class=\"col_heading level0 col5\" >living_area</th>        <th class=\"col_heading level0 col6\" >kitchen_area</th>        <th class=\"col_heading level0 col7\" >floor</th>        <th class=\"col_heading level0 col8\" >floors_total</th>    </tr></thead><tbody>\n",
       "                <tr>\n",
       "                        <th id=\"T_5ddbf_level0_row0\" class=\"row_heading level0 row0\" >count</th>\n",
       "                        <td id=\"T_5ddbf_row0_col0\" class=\"data row0 col0\" >19,268.00</td>\n",
       "                        <td id=\"T_5ddbf_row0_col1\" class=\"data row0 col1\" >19,268.00</td>\n",
       "                        <td id=\"T_5ddbf_row0_col2\" class=\"data row0 col2\" >19,268.00</td>\n",
       "                        <td id=\"T_5ddbf_row0_col3\" class=\"data row0 col3\" >19,268.00</td>\n",
       "                        <td id=\"T_5ddbf_row0_col4\" class=\"data row0 col4\" >19,268.00</td>\n",
       "                        <td id=\"T_5ddbf_row0_col5\" class=\"data row0 col5\" >19,268.00</td>\n",
       "                        <td id=\"T_5ddbf_row0_col6\" class=\"data row0 col6\" >19,268.00</td>\n",
       "                        <td id=\"T_5ddbf_row0_col7\" class=\"data row0 col7\" >19,268.00</td>\n",
       "                        <td id=\"T_5ddbf_row0_col8\" class=\"data row0 col8\" >19,268.00</td>\n",
       "            </tr>\n",
       "            <tr>\n",
       "                        <th id=\"T_5ddbf_level0_row1\" class=\"row_heading level0 row1\" >min</th>\n",
       "                        <td id=\"T_5ddbf_row1_col0\" class=\"data row1 col0\" >1.00</td>\n",
       "                        <td id=\"T_5ddbf_row1_col1\" class=\"data row1 col1\" >13.00</td>\n",
       "                        <td id=\"T_5ddbf_row1_col2\" class=\"data row1 col2\" >2.25</td>\n",
       "                        <td id=\"T_5ddbf_row1_col3\" class=\"data row1 col3\" >1.00</td>\n",
       "                        <td id=\"T_5ddbf_row1_col4\" class=\"data row1 col4\" >520,000.00</td>\n",
       "                        <td id=\"T_5ddbf_row1_col5\" class=\"data row1 col5\" >5.40</td>\n",
       "                        <td id=\"T_5ddbf_row1_col6\" class=\"data row1 col6\" >2.00</td>\n",
       "                        <td id=\"T_5ddbf_row1_col7\" class=\"data row1 col7\" >1.00</td>\n",
       "                        <td id=\"T_5ddbf_row1_col8\" class=\"data row1 col8\" >1.00</td>\n",
       "            </tr>\n",
       "            <tr>\n",
       "                        <th id=\"T_5ddbf_level0_row2\" class=\"row_heading level0 row2\" >max</th>\n",
       "                        <td id=\"T_5ddbf_row2_col0\" class=\"data row2 col0\" >7.00</td>\n",
       "                        <td id=\"T_5ddbf_row2_col1\" class=\"data row2 col1\" >297.50</td>\n",
       "                        <td id=\"T_5ddbf_row2_col2\" class=\"data row2 col2\" >3.98</td>\n",
       "                        <td id=\"T_5ddbf_row2_col3\" class=\"data row2 col3\" >999.00</td>\n",
       "                        <td id=\"T_5ddbf_row2_col4\" class=\"data row2 col4\" >330,000,000.00</td>\n",
       "                        <td id=\"T_5ddbf_row2_col5\" class=\"data row2 col5\" >211.00</td>\n",
       "                        <td id=\"T_5ddbf_row2_col6\" class=\"data row2 col6\" >107.00</td>\n",
       "                        <td id=\"T_5ddbf_row2_col7\" class=\"data row2 col7\" >32.00</td>\n",
       "                        <td id=\"T_5ddbf_row2_col8\" class=\"data row2 col8\" >34.00</td>\n",
       "            </tr>\n",
       "    </tbody></table>"
      ],
      "text/plain": [
       "<pandas.io.formats.style.Styler at 0x7f29c14d43d0>"
      ]
     },
     "execution_count": 41,
     "metadata": {},
     "output_type": "execute_result"
    }
   ],
   "source": [
    "data = data.query('(rooms<8)&(rooms>0)&(total_area<300)&(ceiling_height>2)&(days_exposition<1000)&(last_price>500000)&(living_area>5)&(living_area<300)&(floors_total<35)')\n",
    "(\n",
    "    data[['rooms', 'total_area', 'ceiling_height', 'days_exposition', 'last_price', 'living_area',  'kitchen_area',\n",
    "          'floor', 'floors_total']]\n",
    "    .apply (['count', 'min', 'max'])   \n",
    "    .style.format(\"{:,.2f}\")\n",
    ")"
   ]
  },
  {
   "cell_type": "code",
   "execution_count": 49,
   "metadata": {},
   "outputs": [
    {
     "data": {
      "text/plain": [
       "Text(0.5, 1.0, 'Скорость продажи квартир')"
      ]
     },
     "execution_count": 49,
     "metadata": {},
     "output_type": "execute_result"
    },
    {
     "data": {
      "image/png": "[encoded data removed]",
      "text/plain": [
       "<Figure size 432x288 with 1 Axes>"
      ]
     },
     "metadata": {
      "needs_background": "light"
     },
     "output_type": "display_data"
    }
   ],
   "source": [
    "plt.hist(data.query('days_exposition != 10000')['days_exposition'], bins=100, range=(0,1500))\n",
    "plt.title('Скорость продажи квартир')"
   ]
  },
  {
   "cell_type": "code",
   "execution_count": 51,
   "metadata": {},
   "outputs": [
    {
     "data": {
      "text/plain": [
       "count    19268.000000\n",
       "mean       167.185022\n",
       "std        186.997341\n",
       "min          1.000000\n",
       "25%         44.000000\n",
       "50%         93.000000\n",
       "75%        221.000000\n",
       "max        999.000000\n",
       "Name: days_exposition, dtype: float64"
      ]
     },
     "execution_count": 51,
     "metadata": {},
     "output_type": "execute_result"
    }
   ],
   "source": [
    "data['days_exposition'].describe()"
   ]
  },
  {
   "cell_type": "code",
   "execution_count": 52,
   "metadata": {},
   "outputs": [
    {
     "data": {
      "text/plain": [
       "<AxesSubplot:>"
      ]
     },
     "execution_count": 52,
     "metadata": {},
     "output_type": "execute_result"
    },
    {
     "data": {
      "image/png": "[encoded data removed]",
      "text/plain": [
       "<Figure size 432x288 with 1 Axes>"
      ]
     },
     "metadata": {
      "needs_background": "light"
     },
     "output_type": "display_data"
    }
   ],
   "source": [
    "data['days_exposition'].hist(bins=100, range=(0,100))"
   ]
  },
  {
   "cell_type": "code",
   "execution_count": 53,
   "metadata": {},
   "outputs": [],
   "source": [
    "good_data = data.query('days_exposition != 0 and days_exposition != 7 and days_exposition != 30 and days_exposition != 45 and days_exposition !=60 and days_exposition != 90 and days_exposition != 10000')"
   ]
  },
  {
   "cell_type": "code",
   "execution_count": 54,
   "metadata": {},
   "outputs": [
    {
     "data": {
      "text/plain": [
       "count    17302.000000\n",
       "mean       180.758005\n",
       "std        192.580377\n",
       "min          1.000000\n",
       "25%         44.000000\n",
       "50%        112.000000\n",
       "75%        246.000000\n",
       "max        999.000000\n",
       "Name: days_exposition, dtype: float64"
      ]
     },
     "execution_count": 54,
     "metadata": {},
     "output_type": "execute_result"
    },
    {
     "data": {
      "image/png": "[encoded data removed]",
      "text/plain": [
       "<Figure size 432x288 with 1 Axes>"
      ]
     },
     "metadata": {
      "needs_background": "light"
     },
     "output_type": "display_data"
    }
   ],
   "source": [
    "import matplotlib.pyplot as plt\n",
    "plt.boxplot(good_data['days_exposition'])\n",
    "plt.ylim(1,1000)\n",
    "good_data['days_exposition'].describe()"
   ]
  },
  {
   "cell_type": "markdown",
   "metadata": {},
   "source": [
    "Изучили как быстро продаются квартиры, большая часть продается до 200 дней, если убрать выбросы, то среднее - 195, а медиана - 113."
   ]
  },
  {
   "cell_type": "code",
   "execution_count": 55,
   "metadata": {},
   "outputs": [
    {
     "name": "stdout",
     "output_type": "stream",
     "text": [
      "0.6663938948225172\n"
     ]
    },
    {
     "data": {
      "image/png": "[encoded data removed]",
      "text/plain": [
       "<Figure size 360x360 with 1 Axes>"
      ]
     },
     "metadata": {
      "needs_background": "light"
     },
     "output_type": "display_data"
    }
   ],
   "source": [
    "(\n",
    "    data.pivot_table(index='total_area', values='last_price')\n",
    "    .plot(grid=True, style='o', figsize=(5, 5))\n",
    ")\n",
    "print(data['total_area'].corr(data['last_price']))"
   ]
  },
  {
   "cell_type": "code",
   "execution_count": 56,
   "metadata": {},
   "outputs": [
    {
     "name": "stdout",
     "output_type": "stream",
     "text": [
      "0.58299599324349\n"
     ]
    },
    {
     "data": {
      "image/png": "[encoded data removed]",
      "text/plain": [
       "<Figure size 360x360 with 1 Axes>"
      ]
     },
     "metadata": {
      "needs_background": "light"
     },
     "output_type": "display_data"
    }
   ],
   "source": [
    "(\n",
    "    data.query('living_area > 0').pivot_table(index='living_area', values='last_price')\n",
    "    .plot(grid=True, style='o-', figsize=(5, 5))\n",
    ")\n",
    "print(data['living_area'].corr(data['last_price']))"
   ]
  },
  {
   "cell_type": "code",
   "execution_count": 57,
   "metadata": {},
   "outputs": [
    {
     "name": "stdout",
     "output_type": "stream",
     "text": [
      "0.5255509766670329\n"
     ]
    },
    {
     "data": {
      "image/png": "[encoded data removed]",
      "text/plain": [
       "<Figure size 360x360 with 1 Axes>"
      ]
     },
     "metadata": {
      "needs_background": "light"
     },
     "output_type": "display_data"
    }
   ],
   "source": [
    "(\n",
    "    data.query('kitchen_area > 0').pivot_table(index='kitchen_area', values='last_price')\n",
    "    .plot(grid=True, style='o-', figsize=(5, 5))\n",
    ")\n",
    "print(data['kitchen_area'].corr(data['last_price']))"
   ]
  },
  {
   "cell_type": "code",
   "execution_count": null,
   "metadata": {},
   "outputs": [],
   "source": []
  },
  {
   "cell_type": "code",
   "execution_count": 58,
   "metadata": {},
   "outputs": [
    {
     "data": {
      "text/plain": [
       "<AxesSubplot:xlabel='rooms'>"
      ]
     },
     "execution_count": 58,
     "metadata": {},
     "output_type": "execute_result"
    },
    {
     "data": {
      "image/png": "[encoded data removed]",
      "text/plain": [
       "<Figure size 360x360 with 1 Axes>"
      ]
     },
     "metadata": {
      "needs_background": "light"
     },
     "output_type": "display_data"
    }
   ],
   "source": [
    "(\n",
    "    data.query('rooms > 0').pivot_table(index='rooms', values='last_price')\n",
    "    .plot(grid=True, style='o-', figsize=(5, 5))\n",
    ")"
   ]
  },
  {
   "cell_type": "code",
   "execution_count": 59,
   "metadata": {},
   "outputs": [
    {
     "data": {
      "text/plain": [
       "<AxesSubplot:xlabel='floor_type'>"
      ]
     },
     "execution_count": 59,
     "metadata": {},
     "output_type": "execute_result"
    },
    {
     "data": {
      "image/png": "[encoded data removed]",
      "text/plain": [
       "<Figure size 360x360 with 1 Axes>"
      ]
     },
     "metadata": {
      "needs_background": "light"
     },
     "output_type": "display_data"
    }
   ],
   "source": [
    "(\n",
    "    data.pivot_table(index='floor_type', values='last_price', aggfunc='median')\n",
    "    .plot(grid=True, style='o-', figsize=(5, 5))\n",
    ")"
   ]
  },
  {
   "cell_type": "markdown",
   "metadata": {},
   "source": [
    "Чем больше площадь квартиры,жилое пространство и больше площадь кухни, тем больше стоимость квртиры.\n",
    "Квартиры на первом этаже резко дешевле по отношению к другим этажам. "
   ]
  },
  {
   "cell_type": "code",
   "execution_count": 60,
   "metadata": {},
   "outputs": [
    {
     "data": {
      "text/plain": [
       "<AxesSubplot:xlabel='month'>"
      ]
     },
     "execution_count": 60,
     "metadata": {},
     "output_type": "execute_result"
    },
    {
     "data": {
      "image/png": "[encoded data removed]",
      "text/plain": [
       "<Figure size 360x360 with 1 Axes>"
      ]
     },
     "metadata": {
      "needs_background": "light"
     },
     "output_type": "display_data"
    },
    {
     "data": {
      "image/png": "[encoded data removed]",
      "text/plain": [
       "<Figure size 720x360 with 1 Axes>"
      ]
     },
     "metadata": {
      "needs_background": "light"
     },
     "output_type": "display_data"
    }
   ],
   "source": [
    "(\n",
    "    data.pivot_table(index='weekday', values='last_price')\n",
    "    .plot(grid=True, style='o-', figsize=(5, 5))\n",
    ")\n",
    "\n",
    "(\n",
    "    data.pivot_table(index='month', values='last_price')\n",
    "    .plot(grid=True, style='o-', xlim=(1,12), figsize=(10, 5))\n",
    ")"
   ]
  },
  {
   "cell_type": "code",
   "execution_count": 61,
   "metadata": {},
   "outputs": [
    {
     "data": {
      "text/plain": [
       "<AxesSubplot:xlabel='year'>"
      ]
     },
     "execution_count": 61,
     "metadata": {},
     "output_type": "execute_result"
    },
    {
     "data": {
      "image/png": "[encoded data removed]",
      "text/plain": [
       "<Figure size 360x360 with 1 Axes>"
      ]
     },
     "metadata": {
      "needs_background": "light"
     },
     "output_type": "display_data"
    },
    {
     "data": {
      "image/png": "[encoded data removed]",
      "text/plain": [
       "<Figure size 360x360 with 1 Axes>"
      ]
     },
     "metadata": {
      "needs_background": "light"
     },
     "output_type": "display_data"
    },
    {
     "data": {
      "image/png": "[encoded data removed]",
      "text/plain": [
       "<Figure size 360x360 with 1 Axes>"
      ]
     },
     "metadata": {
      "needs_background": "light"
     },
     "output_type": "display_data"
    }
   ],
   "source": [
    "(\n",
    "    data.pivot_table(index='year', values='last_price')\n",
    "    .plot(grid=True, style='o-', figsize=(5, 5))\n",
    ")\n",
    "\n",
    "(\n",
    "    data.pivot_table(index='year', values='total_area')\n",
    "    .plot(grid=True, style='o-', figsize=(5, 5))\n",
    ")\n",
    "\n",
    "(\n",
    "    data.pivot_table(index='year', values='total_area',aggfunc = 'count')\n",
    "    .plot(grid=True, style='o-', figsize=(5, 5))\n",
    ")"
   ]
  },
  {
   "cell_type": "markdown",
   "metadata": {},
   "source": [
    "    В субботу квартиры дороже, самые дешевые в воскресенье. Самые дорогие квартиры в сентябре и декабре, самые дешевые в ноябре. Самая низкая стоимость была в 2018 году, самая высокая - в 2014. Количество продаж в 2017 и 2018 гораздо больше, чем в остальные года.  Общая площадь квартир с 2014 года начала уменьшаться и к 2014 году опустилась до 60кв.м. против почти 90кв.м. в 2014 году."
   ]
  },
  {
   "cell_type": "code",
   "execution_count": 62,
   "metadata": {},
   "outputs": [
    {
     "data": {
      "text/html": [
       "<div>\n",
       "<style scoped>\n",
       "    .dataframe tbody tr th:only-of-type {\n",
       "        vertical-align: middle;\n",
       "    }\n",
       "\n",
       "    .dataframe tbody tr th {\n",
       "        vertical-align: top;\n",
       "    }\n",
       "\n",
       "    .dataframe thead th {\n",
       "        text-align: right;\n",
       "    }\n",
       "</style>\n",
       "<table border=\"1\" class=\"dataframe\">\n",
       "  <thead>\n",
       "    <tr style=\"text-align: right;\">\n",
       "      <th></th>\n",
       "      <th>count</th>\n",
       "      <th>mean</th>\n",
       "    </tr>\n",
       "    <tr>\n",
       "      <th>locality_name</th>\n",
       "      <th></th>\n",
       "      <th></th>\n",
       "    </tr>\n",
       "  </thead>\n",
       "  <tbody>\n",
       "    <tr>\n",
       "      <th>Санкт-Петербург</th>\n",
       "      <td>12812</td>\n",
       "      <td>110922</td>\n",
       "    </tr>\n",
       "    <tr>\n",
       "      <th>поселок Мурино</th>\n",
       "      <td>494</td>\n",
       "      <td>84829</td>\n",
       "    </tr>\n",
       "    <tr>\n",
       "      <th>Кудрово</th>\n",
       "      <td>400</td>\n",
       "      <td>93900</td>\n",
       "    </tr>\n",
       "    <tr>\n",
       "      <th>поселок Шушары</th>\n",
       "      <td>395</td>\n",
       "      <td>77452</td>\n",
       "    </tr>\n",
       "    <tr>\n",
       "      <th>Всеволожск</th>\n",
       "      <td>314</td>\n",
       "      <td>68301</td>\n",
       "    </tr>\n",
       "    <tr>\n",
       "      <th>Колпино</th>\n",
       "      <td>301</td>\n",
       "      <td>74744</td>\n",
       "    </tr>\n",
       "    <tr>\n",
       "      <th>поселок Парголово</th>\n",
       "      <td>295</td>\n",
       "      <td>89467</td>\n",
       "    </tr>\n",
       "    <tr>\n",
       "      <th>Пушкин</th>\n",
       "      <td>291</td>\n",
       "      <td>101530</td>\n",
       "    </tr>\n",
       "    <tr>\n",
       "      <th>Гатчина</th>\n",
       "      <td>260</td>\n",
       "      <td>67856</td>\n",
       "    </tr>\n",
       "    <tr>\n",
       "      <th>Выборг</th>\n",
       "      <td>194</td>\n",
       "      <td>57422</td>\n",
       "    </tr>\n",
       "  </tbody>\n",
       "</table>\n",
       "</div>"
      ],
      "text/plain": [
       "                   count    mean\n",
       "locality_name                   \n",
       "Санкт-Петербург    12812  110922\n",
       "поселок Мурино       494   84829\n",
       "Кудрово              400   93900\n",
       "поселок Шушары       395   77452\n",
       "Всеволожск           314   68301\n",
       "Колпино              301   74744\n",
       "поселок Парголово    295   89467\n",
       "Пушкин               291  101530\n",
       "Гатчина              260   67856\n",
       "Выборг               194   57422"
      ]
     },
     "execution_count": 62,
     "metadata": {},
     "output_type": "execute_result"
    }
   ],
   "source": [
    "locality_pivot_table = data.pivot_table(index = 'locality_name', values = 'price_per_squaremeter', aggfunc=['count', 'mean'])\n",
    "locality_pivot_table.columns = ['count', 'mean']\n",
    "locality_pivot_table = locality_pivot_table.sort_values('count', ascending = False).head(10)\n",
    "locality_pivot_table['mean'] = locality_pivot_table['mean'].astype(int)\n",
    "\n",
    "locality_pivot_table"
   ]
  },
  {
   "cell_type": "code",
   "execution_count": 63,
   "metadata": {},
   "outputs": [
    {
     "data": {
      "text/plain": [
       "<AxesSubplot:ylabel='locality_name'>"
      ]
     },
     "execution_count": 63,
     "metadata": {},
     "output_type": "execute_result"
    },
    {
     "data": {
      "image/png": "[encoded data removed]",
      "text/plain": [
       "<Figure size 1080x360 with 1 Axes>"
      ]
     },
     "metadata": {
      "needs_background": "light"
     },
     "output_type": "display_data"
    }
   ],
   "source": [
    "locality_pivot_table['count'].plot(kind = 'barh',grid=True, figsize=(15, 5))"
   ]
  },
  {
   "cell_type": "markdown",
   "metadata": {},
   "source": [
    "Самые дорогие квартиры в Санкт-Петербурге, самые дешевые - в Выборге."
   ]
  },
  {
   "cell_type": "code",
   "execution_count": 64,
   "metadata": {},
   "outputs": [
    {
     "data": {
      "text/plain": [
       "Index(['total_images', 'last_price', 'total_area', 'first_day_exposition',\n",
       "       'rooms', 'ceiling_height', 'floors_total', 'living_area', 'floor',\n",
       "       'is_apartment', 'studio', 'open_plan', 'kitchen_area', 'balcony',\n",
       "       'locality_name', 'airports_nearest', 'cityCenters_nearest',\n",
       "       'parks_around3000', 'parks_nearest', 'ponds_around3000',\n",
       "       'ponds_nearest', 'days_exposition', 'price_per_squaremeter', 'weekday',\n",
       "       'month', 'year', 'floor_type', 'cityCenters_nearest_in_km'],\n",
       "      dtype='object')"
      ]
     },
     "execution_count": 64,
     "metadata": {},
     "output_type": "execute_result"
    }
   ],
   "source": [
    "data.columns"
   ]
  },
  {
   "cell_type": "code",
   "execution_count": 65,
   "metadata": {
    "scrolled": true
   },
   "outputs": [
    {
     "data": {
      "image/png": "[encoded data removed]",
      "text/plain": [
       "<Figure size 720x360 with 1 Axes>"
      ]
     },
     "metadata": {
      "needs_background": "light"
     },
     "output_type": "display_data"
    },
    {
     "data": {
      "text/plain": [
       "<AxesSubplot:xlabel='total_area'>"
      ]
     },
     "execution_count": 65,
     "metadata": {},
     "output_type": "execute_result"
    },
    {
     "data": {
      "image/png": "[encoded data removed]",
      "text/plain": [
       "<Figure size 720x360 with 1 Axes>"
      ]
     },
     "metadata": {
      "needs_background": "light"
     },
     "output_type": "display_data"
    }
   ],
   "source": [
    "data['center_km'] = data['cityCenters_nearest'] / 1000\n",
    "data['center_km'] = data['center_km'].fillna(value=99999).astype(int)\n",
    "(\n",
    "    data.query('locality_name == \"Санкт-Петербург\"')\n",
    "    .pivot_table(index='center_km', values='last_price')\n",
    "    .plot(grid=True, style='o-', xlim=(0,30), figsize=(10, 5))\n",
    ")\n",
    "plt.show()\n",
    "\n",
    "(\n",
    "    data.query('(locality_name == \"Санкт-Петербург\") & (center_km ==27)')\n",
    "    .pivot_table(index='total_area', values='last_price')\n",
    "    .plot(grid=True, style='o-', figsize=(10, 5))\n",
    ")"
   ]
  },
  {
   "cell_type": "code",
   "execution_count": 66,
   "metadata": {
    "scrolled": true
   },
   "outputs": [
    {
     "data": {
      "text/html": [
       "<div>\n",
       "<style scoped>\n",
       "    .dataframe tbody tr th:only-of-type {\n",
       "        vertical-align: middle;\n",
       "    }\n",
       "\n",
       "    .dataframe tbody tr th {\n",
       "        vertical-align: top;\n",
       "    }\n",
       "\n",
       "    .dataframe thead th {\n",
       "        text-align: right;\n",
       "    }\n",
       "</style>\n",
       "<table border=\"1\" class=\"dataframe\">\n",
       "  <thead>\n",
       "    <tr style=\"text-align: right;\">\n",
       "      <th></th>\n",
       "      <th>total_images</th>\n",
       "      <th>last_price</th>\n",
       "      <th>total_area</th>\n",
       "      <th>first_day_exposition</th>\n",
       "      <th>rooms</th>\n",
       "      <th>ceiling_height</th>\n",
       "      <th>floors_total</th>\n",
       "      <th>living_area</th>\n",
       "      <th>floor</th>\n",
       "      <th>is_apartment</th>\n",
       "      <th>...</th>\n",
       "      <th>ponds_around3000</th>\n",
       "      <th>ponds_nearest</th>\n",
       "      <th>days_exposition</th>\n",
       "      <th>price_per_squaremeter</th>\n",
       "      <th>weekday</th>\n",
       "      <th>month</th>\n",
       "      <th>year</th>\n",
       "      <th>floor_type</th>\n",
       "      <th>cityCenters_nearest_in_km</th>\n",
       "      <th>center_km</th>\n",
       "    </tr>\n",
       "  </thead>\n",
       "  <tbody>\n",
       "    <tr>\n",
       "      <th>748</th>\n",
       "      <td>13</td>\n",
       "      <td>14350000</td>\n",
       "      <td>74.0</td>\n",
       "      <td>2017-11-28</td>\n",
       "      <td>2</td>\n",
       "      <td>3.13</td>\n",
       "      <td>5</td>\n",
       "      <td>30.0</td>\n",
       "      <td>3</td>\n",
       "      <td>False</td>\n",
       "      <td>...</td>\n",
       "      <td>0</td>\n",
       "      <td>NaN</td>\n",
       "      <td>128</td>\n",
       "      <td>193918</td>\n",
       "      <td>1</td>\n",
       "      <td>11</td>\n",
       "      <td>2017</td>\n",
       "      <td>другой</td>\n",
       "      <td>27.0</td>\n",
       "      <td>27</td>\n",
       "    </tr>\n",
       "    <tr>\n",
       "      <th>5961</th>\n",
       "      <td>6</td>\n",
       "      <td>2250000</td>\n",
       "      <td>32.0</td>\n",
       "      <td>2018-02-27</td>\n",
       "      <td>1</td>\n",
       "      <td>2.65</td>\n",
       "      <td>2</td>\n",
       "      <td>16.5</td>\n",
       "      <td>2</td>\n",
       "      <td>False</td>\n",
       "      <td>...</td>\n",
       "      <td>0</td>\n",
       "      <td>NaN</td>\n",
       "      <td>178</td>\n",
       "      <td>70312</td>\n",
       "      <td>1</td>\n",
       "      <td>2</td>\n",
       "      <td>2018</td>\n",
       "      <td>последний</td>\n",
       "      <td>27.0</td>\n",
       "      <td>27</td>\n",
       "    </tr>\n",
       "  </tbody>\n",
       "</table>\n",
       "<p>2 rows × 29 columns</p>\n",
       "</div>"
      ],
      "text/plain": [
       "      total_images  last_price  total_area first_day_exposition  rooms  \\\n",
       "748             13    14350000        74.0           2017-11-28      2   \n",
       "5961             6     2250000        32.0           2018-02-27      1   \n",
       "\n",
       "      ceiling_height  floors_total  living_area  floor  is_apartment  ...  \\\n",
       "748             3.13             5         30.0      3         False  ...   \n",
       "5961            2.65             2         16.5      2         False  ...   \n",
       "\n",
       "      ponds_around3000  ponds_nearest  days_exposition  price_per_squaremeter  \\\n",
       "748                  0            NaN              128                 193918   \n",
       "5961                 0            NaN              178                  70312   \n",
       "\n",
       "     weekday  month  year  floor_type  cityCenters_nearest_in_km  center_km  \n",
       "748        1     11  2017      другой                       27.0         27  \n",
       "5961       1      2  2018   последний                       27.0         27  \n",
       "\n",
       "[2 rows x 29 columns]"
      ]
     },
     "execution_count": 66,
     "metadata": {},
     "output_type": "execute_result"
    }
   ],
   "source": [
    "data.query('(locality_name == \"Санкт-Петербург\") & (center_km ==27)')"
   ]
  },
  {
   "cell_type": "code",
   "execution_count": 67,
   "metadata": {},
   "outputs": [
    {
     "name": "stdout",
     "output_type": "stream",
     "text": [
      "       total_images  last_price  total_area first_day_exposition  rooms  \\\n",
      "35                6    15500000       149.0           2017-06-26      5   \n",
      "136              16     6500000        51.8           2018-08-01      2   \n",
      "201               5    10880000       123.1           2015-11-12      6   \n",
      "315               8    13900000       108.0           2018-09-29      4   \n",
      "316              11     5650000        46.3           2017-03-13      2   \n",
      "...             ...         ...         ...                  ...    ...   \n",
      "23244            15     3750000        37.9           2018-11-07      1   \n",
      "23338            17     6350000        73.9           2018-08-14      3   \n",
      "23427            10     7600000       104.0           2017-11-28      5   \n",
      "23430            18     5260000        38.0           2018-11-06      1   \n",
      "23449             4     6300000        52.6           2015-05-28      3   \n",
      "\n",
      "       ceiling_height  floors_total  living_area  floor  is_apartment  ...  \\\n",
      "35               2.65             5        104.0      4         False  ...   \n",
      "136              3.45             6         25.6      2         False  ...   \n",
      "201              3.20             5         89.0      2         False  ...   \n",
      "315              2.65             6         76.9      2         False  ...   \n",
      "316              2.65             6         28.8      2         False  ...   \n",
      "...               ...           ...          ...    ...           ...  ...   \n",
      "23244            2.65             4         17.0      4         False  ...   \n",
      "23338            3.20             6         40.9      5         False  ...   \n",
      "23427            2.87             7         69.0      7         False  ...   \n",
      "23430            3.30             5         16.0      1         False  ...   \n",
      "23449            3.25             5         29.8      2         False  ...   \n",
      "\n",
      "       ponds_around3000  ponds_nearest  days_exposition  \\\n",
      "35                    1          779.0              644   \n",
      "136                   1          812.0              163   \n",
      "201                   0            NaN              992   \n",
      "315                   0            NaN              156   \n",
      "316                   0            NaN               89   \n",
      "...                 ...            ...              ...   \n",
      "23244                 0            NaN                7   \n",
      "23338                 1          110.0              231   \n",
      "23427                 1          569.0               74   \n",
      "23430                 1          466.0               12   \n",
      "23449                 3           69.0              505   \n",
      "\n",
      "       price_per_squaremeter weekday  month  year  floor_type  \\\n",
      "35                    104026       0      6  2017      другой   \n",
      "136                   125482       2      8  2018      другой   \n",
      "201                    88383       3     11  2015      другой   \n",
      "315                   128703       5      9  2018      другой   \n",
      "316                   122030       0      3  2017      другой   \n",
      "...                      ...     ...    ...   ...         ...   \n",
      "23244                  98944       2     11  2018   последний   \n",
      "23338                  85926       1      8  2018      другой   \n",
      "23427                  73076       1     11  2017   последний   \n",
      "23430                 138421       1     11  2018      первый   \n",
      "23449                 119771       3      5  2015      другой   \n",
      "\n",
      "       cityCenters_nearest_in_km  center_km  \n",
      "35                           4.0          3  \n",
      "136                          4.0          3  \n",
      "201                          3.0          3  \n",
      "315                          4.0          3  \n",
      "316                          3.0          3  \n",
      "...                          ...        ...  \n",
      "23244                        4.0          3  \n",
      "23338                        4.0          3  \n",
      "23427                        4.0          3  \n",
      "23430                        3.0          3  \n",
      "23449                        3.0          3  \n",
      "\n",
      "[385 rows x 29 columns]\n",
      "       total_images  last_price  total_area first_day_exposition  rooms  \\\n",
      "106               9    10500000       124.1           2017-05-25      5   \n",
      "276               5    23900000       108.4           2018-11-15      3   \n",
      "318              12     9990000        67.0           2017-07-10      1   \n",
      "320               2    12734000        97.0           2016-01-30      3   \n",
      "323               6     9591727        72.0           2017-06-29      2   \n",
      "...             ...         ...         ...                  ...    ...   \n",
      "23511             6     4780000        42.5           2016-04-26      1   \n",
      "23536             8     6080000        70.0           2018-10-12      3   \n",
      "23588             7     8100000        69.0           2015-10-14      2   \n",
      "23625            12     6700000        42.0           2019-02-13      2   \n",
      "23664             5     9000000       110.0           2015-12-10      4   \n",
      "\n",
      "       ceiling_height  floors_total  living_area  floor  is_apartment  ...  \\\n",
      "106              3.20             4         79.4      3         False  ...   \n",
      "276              3.06             7         61.9      6         False  ...   \n",
      "318              2.84             9         37.0      7         False  ...   \n",
      "320              2.65            10         51.2      7         False  ...   \n",
      "323              2.80            10         34.0      9         False  ...   \n",
      "...               ...           ...          ...    ...           ...  ...   \n",
      "23511            2.70            10         27.6      3         False  ...   \n",
      "23536            2.65             4         44.4      4         False  ...   \n",
      "23588            2.65            10         39.4      8         False  ...   \n",
      "23625            2.70             5         24.0      5         False  ...   \n",
      "23664            3.36             7         64.6      5         False  ...   \n",
      "\n",
      "       ponds_around3000  ponds_nearest  days_exposition  \\\n",
      "106                   0            NaN                6   \n",
      "276                   1          678.0               96   \n",
      "318                   1          713.0               50   \n",
      "320                   1          874.0              195   \n",
      "323                   1          534.0              118   \n",
      "...                 ...            ...              ...   \n",
      "23511                 2          474.0               92   \n",
      "23536                 0            NaN               69   \n",
      "23588                 1          874.0              823   \n",
      "23625                 1          837.0               26   \n",
      "23664                 1          118.0              816   \n",
      "\n",
      "       price_per_squaremeter weekday  month  year  floor_type  \\\n",
      "106                    84609       3      5  2017      другой   \n",
      "276                   220479       3     11  2018      другой   \n",
      "318                   149104       0      7  2017      другой   \n",
      "320                   131278       5      1  2016      другой   \n",
      "323                   133218       3      6  2017      другой   \n",
      "...                      ...     ...    ...   ...         ...   \n",
      "23511                 112470       1      4  2016      другой   \n",
      "23536                  86857       4     10  2018   последний   \n",
      "23588                 117391       2     10  2015      другой   \n",
      "23625                 159523       2      2  2019   последний   \n",
      "23664                  81818       3     12  2015      другой   \n",
      "\n",
      "       cityCenters_nearest_in_km  center_km  \n",
      "106                          6.0          5  \n",
      "276                          5.0          5  \n",
      "318                          5.0          5  \n",
      "320                          5.0          5  \n",
      "323                          5.0          5  \n",
      "...                          ...        ...  \n",
      "23511                        6.0          5  \n",
      "23536                        5.0          5  \n",
      "23588                        5.0          5  \n",
      "23625                        6.0          5  \n",
      "23664                        5.0          5  \n",
      "\n",
      "[573 rows x 29 columns]\n"
     ]
    }
   ],
   "source": [
    "spb_3km = data.query('(locality_name == \"Санкт-Петербург\") & (center_km ==3)')\n",
    "print(spb_3km)\n",
    "spb_5km = data.query('(locality_name == \"Санкт-Петербург\") & (center_km ==5)')\n",
    "print(spb_5km)\n"
   ]
  },
  {
   "cell_type": "code",
   "execution_count": 68,
   "metadata": {},
   "outputs": [
    {
     "data": {
      "image/png": "[encoded data removed]",
      "text/plain": [
       "<Figure size 720x360 with 1 Axes>"
      ]
     },
     "metadata": {
      "needs_background": "light"
     },
     "output_type": "display_data"
    },
    {
     "data": {
      "image/png": "[encoded data removed]",
      "text/plain": [
       "<Figure size 720x360 with 1 Axes>"
      ]
     },
     "metadata": {
      "needs_background": "light"
     },
     "output_type": "display_data"
    }
   ],
   "source": [
    "(\n",
    "    data.query('(locality_name == \"Санкт-Петербург\") & (center_km ==3)')\n",
    "    .pivot_table(index='floor_type', values='last_price', aggfunc = 'count')\n",
    "    .plot(grid=True, kind='barh', figsize=(10, 5))\n",
    ")\n",
    "plt.show()\n",
    "(\n",
    "    data.query('(locality_name == \"Санкт-Петербург\") & (center_km ==5)')\n",
    "    .pivot_table(index='floor_type', values='last_price',aggfunc='count')\n",
    "    .plot(grid=True, kind='barh', figsize=(10, 5))\n",
    ")\n",
    "plt.show()"
   ]
  },
  {
   "cell_type": "markdown",
   "metadata": {},
   "source": [
    "Исходя из гистограмы видно,что чем удаленность дальше от центра, тем стоимость квартир уменьшается.Проанализировав выбросы на 3 и 5 км, пришли к выводу, что такой скачок произошел за счет аномальных увнеличений площади квартир от 200 до 600 кв.м.\n",
    "Выброс на 27 км произошел из_за увеличения стоимости квартиры выше средней в данном районе."
   ]
  },
  {
   "cell_type": "markdown",
   "metadata": {},
   "source": [
    "### Общий вывод"
   ]
  },
  {
   "cell_type": "markdown",
   "metadata": {},
   "source": [
    "Мы провели исследовательский анализ данных, чтобы установить параметры, влияющие на цену объектов. Анализ  позволит построить автоматизированную систему: она отследит аномалии и мошенническую деятельность. Для этого был изучен файл с данными, обработан на аномалии и дубликаты, посчитаны и добавлены новые необходимые данные в таблицу и в дальнейшем проведен исследовательский анализ.\n",
    "\n",
    "После изучения таблицвы были выявлено большое количество пропусков. Оставлены были пропуски, которые не влият на расчеты таблицы. Проанализировав в каких типах локации больше всего встречается пропусков, выяснили, что это поселки, деревни, села, которые не так явно влияют на статистические данные как города.По возможности пропуски заменили медиальными значениями.Также были заменены дубликаты в наименованиях поселков, сел и городов, также заменила ошибки заполнения в высоте потолков, например, 32 на 3.2.\n",
    "\n",
    "Стоимость квартир увеличивается за счет увеличения метража и удаленности от центра. В центре города практически нет разницы, насколько квартира удалена. Центр - это до 8км, судя по графикам. На квартиры в центре те же факторы, что и на остальные квартиры не влиют.\n",
    "\n",
    "На стоимость также влияет этаж( стоимость выше у не первого и не проследнего).\n",
    "Средний срок продажи квартиры 95 дней,сли меньше 45 дней, то это быстро, если дольше 200 дней - это долго.\n",
    "Есть большое число квартир, проданных всего за несколько дней после публикации, также есть квартиры, которые продавались больше года.\n",
    "На стоимость больше влияет площадь квартиры, нежели число комнат. Т.е. могут быть дорогие квартиры с малым числом комнат, но где комнаты просторные.\n",
    "Дороже всего стоимость квадратного метра в Санкт-Петербурге(110922/кв.м.), ниже в Выборге(57422/кв.м.)."
   ]
  }
 ],
 "metadata": {
  "ExecuteTimeLog": [
   {
    "duration": 87,
    "start_time": "2023-11-29T20:02:51.940Z"
   },
   {
    "duration": 698,
    "start_time": "2023-11-29T20:03:06.193Z"
   },
   {
    "duration": 425,
    "start_time": "2023-11-29T20:06:00.989Z"
   },
   {
    "duration": 3,
    "start_time": "2023-11-29T20:09:04.392Z"
   },
   {
    "duration": 15,
    "start_time": "2023-11-29T20:09:14.967Z"
   },
   {
    "duration": 115,
    "start_time": "2023-11-29T20:19:55.384Z"
   },
   {
    "duration": 42,
    "start_time": "2023-11-29T20:20:08.265Z"
   },
   {
    "duration": 44,
    "start_time": "2023-11-29T20:21:49.684Z"
   },
   {
    "duration": 24,
    "start_time": "2023-11-29T20:21:58.662Z"
   },
   {
    "duration": 43,
    "start_time": "2023-11-30T11:12:18.372Z"
   },
   {
    "duration": 588,
    "start_time": "2023-11-30T11:12:25.930Z"
   },
   {
    "duration": 42,
    "start_time": "2023-11-30T11:12:35.412Z"
   },
   {
    "duration": 10,
    "start_time": "2023-11-30T11:12:41.323Z"
   },
   {
    "duration": 33,
    "start_time": "2023-11-30T11:38:02.366Z"
   },
   {
    "duration": 4,
    "start_time": "2023-11-30T11:38:11.229Z"
   },
   {
    "duration": 4,
    "start_time": "2023-11-30T11:38:26.545Z"
   },
   {
    "duration": 4,
    "start_time": "2023-11-30T11:39:11.615Z"
   },
   {
    "duration": 8,
    "start_time": "2023-11-30T11:44:03.417Z"
   },
   {
    "duration": 43,
    "start_time": "2023-11-30T11:44:15.223Z"
   },
   {
    "duration": 776,
    "start_time": "2023-11-30T20:34:19.576Z"
   },
   {
    "duration": 44,
    "start_time": "2023-11-30T20:34:21.729Z"
   },
   {
    "duration": 9,
    "start_time": "2023-11-30T20:34:23.248Z"
   },
   {
    "duration": 48,
    "start_time": "2023-11-30T20:34:23.519Z"
   },
   {
    "duration": 78,
    "start_time": "2023-11-30T20:34:24.504Z"
   },
   {
    "duration": 5,
    "start_time": "2023-11-30T20:38:19.810Z"
   },
   {
    "duration": 6,
    "start_time": "2023-11-30T20:39:45.546Z"
   },
   {
    "duration": 12,
    "start_time": "2023-11-30T20:40:38.605Z"
   },
   {
    "duration": 5,
    "start_time": "2023-11-30T20:41:42.808Z"
   },
   {
    "duration": 6,
    "start_time": "2023-11-30T20:43:12.007Z"
   },
   {
    "duration": 29,
    "start_time": "2023-11-30T20:46:37.427Z"
   },
   {
    "duration": 8,
    "start_time": "2023-11-30T20:48:10.323Z"
   },
   {
    "duration": 6,
    "start_time": "2023-11-30T20:54:25.991Z"
   },
   {
    "duration": 6,
    "start_time": "2023-11-30T20:55:08.760Z"
   },
   {
    "duration": 27,
    "start_time": "2023-11-30T21:09:24.333Z"
   },
   {
    "duration": 7,
    "start_time": "2023-11-30T21:09:41.873Z"
   },
   {
    "duration": 17,
    "start_time": "2023-11-30T21:16:34.962Z"
   },
   {
    "duration": 8,
    "start_time": "2023-11-30T21:21:56.586Z"
   },
   {
    "duration": 6,
    "start_time": "2023-11-30T21:23:06.322Z"
   },
   {
    "duration": 14,
    "start_time": "2023-11-30T21:26:23.783Z"
   },
   {
    "duration": 1298,
    "start_time": "2023-11-30T21:34:40.762Z"
   },
   {
    "duration": 723,
    "start_time": "2023-12-01T06:50:32.707Z"
   },
   {
    "duration": 43,
    "start_time": "2023-12-01T06:50:34.154Z"
   },
   {
    "duration": 11,
    "start_time": "2023-12-01T06:50:38.054Z"
   },
   {
    "duration": 44,
    "start_time": "2023-12-01T06:50:41.026Z"
   },
   {
    "duration": 47,
    "start_time": "2023-12-01T06:51:58.103Z"
   },
   {
    "duration": 28,
    "start_time": "2023-12-01T06:52:09.914Z"
   },
   {
    "duration": 35,
    "start_time": "2023-12-01T06:54:06.653Z"
   },
   {
    "duration": 15,
    "start_time": "2023-12-01T06:55:47.692Z"
   },
   {
    "duration": 26,
    "start_time": "2023-12-01T06:56:31.193Z"
   },
   {
    "duration": 13,
    "start_time": "2023-12-01T07:01:02.066Z"
   },
   {
    "duration": 10,
    "start_time": "2023-12-01T07:02:00.797Z"
   },
   {
    "duration": 57,
    "start_time": "2023-12-01T07:02:09.961Z"
   },
   {
    "duration": 46,
    "start_time": "2023-12-01T07:03:37.555Z"
   },
   {
    "duration": 25,
    "start_time": "2023-12-01T07:04:21.083Z"
   },
   {
    "duration": 8,
    "start_time": "2023-12-01T07:04:28.071Z"
   },
   {
    "duration": 1314,
    "start_time": "2023-12-01T07:04:29.003Z"
   },
   {
    "duration": 57,
    "start_time": "2023-12-01T07:04:30.584Z"
   },
   {
    "duration": 103,
    "start_time": "2023-12-01T07:06:54.949Z"
   },
   {
    "duration": 74,
    "start_time": "2023-12-01T07:07:11.823Z"
   },
   {
    "duration": 78,
    "start_time": "2023-12-01T07:07:21.083Z"
   },
   {
    "duration": 72,
    "start_time": "2023-12-01T07:07:31.647Z"
   },
   {
    "duration": 78,
    "start_time": "2023-12-01T07:07:46.424Z"
   },
   {
    "duration": 16,
    "start_time": "2023-12-01T07:08:05.735Z"
   },
   {
    "duration": 81,
    "start_time": "2023-12-01T07:08:37.761Z"
   },
   {
    "duration": 36,
    "start_time": "2023-12-01T07:08:51.926Z"
   },
   {
    "duration": 73,
    "start_time": "2023-12-01T07:09:00.970Z"
   },
   {
    "duration": 14,
    "start_time": "2023-12-01T07:10:43.718Z"
   },
   {
    "duration": 15,
    "start_time": "2023-12-01T07:11:20.754Z"
   },
   {
    "duration": 23,
    "start_time": "2023-12-01T07:13:30.166Z"
   },
   {
    "duration": 6,
    "start_time": "2023-12-01T07:16:57.063Z"
   },
   {
    "duration": 17,
    "start_time": "2023-12-01T07:17:07.329Z"
   },
   {
    "duration": 16,
    "start_time": "2023-12-01T07:17:42.859Z"
   },
   {
    "duration": 1309,
    "start_time": "2023-12-01T07:19:27.394Z"
   },
   {
    "duration": 4,
    "start_time": "2023-12-01T07:19:38.042Z"
   },
   {
    "duration": 1342,
    "start_time": "2023-12-01T07:20:09.718Z"
   },
   {
    "duration": 1767,
    "start_time": "2023-12-01T07:20:49.766Z"
   },
   {
    "duration": 28,
    "start_time": "2023-12-01T07:21:15.829Z"
   },
   {
    "duration": 29,
    "start_time": "2023-12-01T07:21:31.852Z"
   },
   {
    "duration": 29,
    "start_time": "2023-12-01T07:21:44.023Z"
   },
   {
    "duration": 110,
    "start_time": "2023-12-01T07:22:01.303Z"
   },
   {
    "duration": 38,
    "start_time": "2023-12-01T07:22:02.261Z"
   },
   {
    "duration": 10,
    "start_time": "2023-12-01T07:22:04.425Z"
   },
   {
    "duration": 30,
    "start_time": "2023-12-01T07:22:07.503Z"
   },
   {
    "duration": 30,
    "start_time": "2023-12-01T07:22:08.802Z"
   },
   {
    "duration": 7,
    "start_time": "2023-12-01T07:22:09.320Z"
   },
   {
    "duration": 6,
    "start_time": "2023-12-01T07:22:10.265Z"
   },
   {
    "duration": 26,
    "start_time": "2023-12-01T07:22:16.437Z"
   },
   {
    "duration": 49,
    "start_time": "2023-12-01T07:22:19.077Z"
   },
   {
    "duration": 6,
    "start_time": "2023-12-01T07:22:20.179Z"
   },
   {
    "duration": 29,
    "start_time": "2023-12-01T07:22:22.187Z"
   },
   {
    "duration": 7,
    "start_time": "2023-12-01T07:22:23.404Z"
   },
   {
    "duration": 14,
    "start_time": "2023-12-01T07:22:24.059Z"
   },
   {
    "duration": 589,
    "start_time": "2023-12-01T11:13:55.672Z"
   },
   {
    "duration": 45,
    "start_time": "2023-12-01T11:14:00.993Z"
   },
   {
    "duration": 2371,
    "start_time": "2023-12-01T11:14:07.554Z"
   },
   {
    "duration": 11,
    "start_time": "2023-12-01T11:14:46.560Z"
   },
   {
    "duration": 30,
    "start_time": "2023-12-01T11:14:47.260Z"
   },
   {
    "duration": 31,
    "start_time": "2023-12-01T11:14:48.221Z"
   },
   {
    "duration": 9,
    "start_time": "2023-12-01T11:14:49.373Z"
   },
   {
    "duration": 5,
    "start_time": "2023-12-01T11:14:49.617Z"
   },
   {
    "duration": 36,
    "start_time": "2023-12-01T11:14:50.057Z"
   },
   {
    "duration": 6,
    "start_time": "2023-12-01T11:14:50.289Z"
   },
   {
    "duration": 15,
    "start_time": "2023-12-01T11:14:50.541Z"
   },
   {
    "duration": 19,
    "start_time": "2023-12-01T11:14:50.787Z"
   },
   {
    "duration": 13,
    "start_time": "2023-12-01T11:14:51.286Z"
   },
   {
    "duration": 111,
    "start_time": "2023-12-01T11:15:35.781Z"
   },
   {
    "duration": 40,
    "start_time": "2023-12-01T11:15:38.196Z"
   },
   {
    "duration": 1936,
    "start_time": "2023-12-01T11:17:11.622Z"
   },
   {
    "duration": 5,
    "start_time": "2023-12-01T11:21:26.892Z"
   },
   {
    "duration": 5,
    "start_time": "2023-12-01T11:21:39.467Z"
   },
   {
    "duration": 468,
    "start_time": "2023-12-01T11:25:33.228Z"
   },
   {
    "duration": 45,
    "start_time": "2023-12-01T11:25:38.174Z"
   },
   {
    "duration": 2110,
    "start_time": "2023-12-01T11:25:45.392Z"
   },
   {
    "duration": 7,
    "start_time": "2023-12-01T11:25:57.416Z"
   },
   {
    "duration": 10,
    "start_time": "2023-12-01T11:26:41.522Z"
   },
   {
    "duration": 30,
    "start_time": "2023-12-01T11:26:42.235Z"
   },
   {
    "duration": 32,
    "start_time": "2023-12-01T11:26:44.418Z"
   },
   {
    "duration": 8,
    "start_time": "2023-12-01T11:26:50.597Z"
   },
   {
    "duration": 5,
    "start_time": "2023-12-01T11:26:51.223Z"
   },
   {
    "duration": 7,
    "start_time": "2023-12-01T11:27:30.787Z"
   },
   {
    "duration": 15,
    "start_time": "2023-12-01T11:27:31.005Z"
   },
   {
    "duration": 23,
    "start_time": "2023-12-01T11:27:31.212Z"
   },
   {
    "duration": 14,
    "start_time": "2023-12-01T11:27:31.649Z"
   },
   {
    "duration": 109,
    "start_time": "2023-12-01T11:27:44.914Z"
   },
   {
    "duration": 43,
    "start_time": "2023-12-01T11:27:47.231Z"
   },
   {
    "duration": 1823,
    "start_time": "2023-12-01T11:27:49.734Z"
   },
   {
    "duration": 9,
    "start_time": "2023-12-01T11:28:20.355Z"
   },
   {
    "duration": 29,
    "start_time": "2023-12-01T11:29:11.766Z"
   },
   {
    "duration": 7,
    "start_time": "2023-12-01T11:29:12.472Z"
   },
   {
    "duration": 14,
    "start_time": "2023-12-01T11:29:12.709Z"
   },
   {
    "duration": 18,
    "start_time": "2023-12-01T11:29:12.903Z"
   },
   {
    "duration": 73,
    "start_time": "2023-12-01T11:29:18.741Z"
   },
   {
    "duration": 489,
    "start_time": "2023-12-01T11:29:35.787Z"
   },
   {
    "duration": 42,
    "start_time": "2023-12-01T11:29:36.278Z"
   },
   {
    "duration": 2164,
    "start_time": "2023-12-01T11:29:36.321Z"
   },
   {
    "duration": 9,
    "start_time": "2023-12-01T11:29:38.487Z"
   },
   {
    "duration": 29,
    "start_time": "2023-12-01T11:29:38.498Z"
   },
   {
    "duration": 60,
    "start_time": "2023-12-01T11:29:38.528Z"
   },
   {
    "duration": 8,
    "start_time": "2023-12-01T11:29:38.590Z"
   },
   {
    "duration": 7,
    "start_time": "2023-12-01T11:29:38.599Z"
   },
   {
    "duration": 36,
    "start_time": "2023-12-01T11:29:38.607Z"
   },
   {
    "duration": 28,
    "start_time": "2023-12-01T11:29:38.646Z"
   },
   {
    "duration": 16,
    "start_time": "2023-12-01T11:29:38.675Z"
   },
   {
    "duration": 19,
    "start_time": "2023-12-01T11:29:38.693Z"
   },
   {
    "duration": 13,
    "start_time": "2023-12-01T11:29:38.714Z"
   },
   {
    "duration": 14,
    "start_time": "2023-12-01T11:30:52.221Z"
   },
   {
    "duration": 23,
    "start_time": "2023-12-01T11:31:47.429Z"
   },
   {
    "duration": 6,
    "start_time": "2023-12-01T11:33:22.862Z"
   },
   {
    "duration": 7,
    "start_time": "2023-12-01T11:33:58.618Z"
   },
   {
    "duration": 476,
    "start_time": "2023-12-01T11:34:50.734Z"
   },
   {
    "duration": 42,
    "start_time": "2023-12-01T11:34:51.946Z"
   },
   {
    "duration": 2126,
    "start_time": "2023-12-01T11:34:52.524Z"
   },
   {
    "duration": 11,
    "start_time": "2023-12-01T11:34:54.651Z"
   },
   {
    "duration": 37,
    "start_time": "2023-12-01T11:34:54.663Z"
   },
   {
    "duration": 30,
    "start_time": "2023-12-01T11:34:54.702Z"
   },
   {
    "duration": 8,
    "start_time": "2023-12-01T11:34:54.734Z"
   },
   {
    "duration": 12,
    "start_time": "2023-12-01T11:34:54.743Z"
   },
   {
    "duration": 44,
    "start_time": "2023-12-01T11:34:54.757Z"
   },
   {
    "duration": 7,
    "start_time": "2023-12-01T11:34:54.802Z"
   },
   {
    "duration": 14,
    "start_time": "2023-12-01T11:34:54.913Z"
   },
   {
    "duration": 19,
    "start_time": "2023-12-01T11:34:55.047Z"
   },
   {
    "duration": 6,
    "start_time": "2023-12-01T11:34:55.257Z"
   },
   {
    "duration": 7,
    "start_time": "2023-12-01T11:34:55.495Z"
   },
   {
    "duration": 13,
    "start_time": "2023-12-01T11:34:55.931Z"
   },
   {
    "duration": 13,
    "start_time": "2023-12-01T11:38:23.687Z"
   },
   {
    "duration": 347,
    "start_time": "2023-12-01T11:39:08.594Z"
   },
   {
    "duration": 5,
    "start_time": "2023-12-01T11:44:44.494Z"
   },
   {
    "duration": 26,
    "start_time": "2023-12-01T11:47:10.088Z"
   },
   {
    "duration": 1320,
    "start_time": "2023-12-01T11:49:04.146Z"
   },
   {
    "duration": 1413,
    "start_time": "2023-12-01T11:49:15.973Z"
   },
   {
    "duration": 9,
    "start_time": "2023-12-01T11:49:18.340Z"
   },
   {
    "duration": 6,
    "start_time": "2023-12-01T11:49:52.560Z"
   },
   {
    "duration": 10,
    "start_time": "2023-12-01T11:49:55.254Z"
   },
   {
    "duration": 692,
    "start_time": "2023-12-01T20:19:58.688Z"
   },
   {
    "duration": 40,
    "start_time": "2023-12-01T20:19:59.381Z"
   },
   {
    "duration": 2182,
    "start_time": "2023-12-01T20:19:59.422Z"
   },
   {
    "duration": 10,
    "start_time": "2023-12-01T20:20:01.606Z"
   },
   {
    "duration": 92,
    "start_time": "2023-12-01T20:20:01.617Z"
   },
   {
    "duration": 484,
    "start_time": "2023-12-01T20:20:01.711Z"
   },
   {
    "duration": 31,
    "start_time": "2023-12-01T20:20:02.196Z"
   },
   {
    "duration": 27,
    "start_time": "2023-12-01T20:20:02.229Z"
   },
   {
    "duration": 70,
    "start_time": "2023-12-01T20:20:02.257Z"
   },
   {
    "duration": 7,
    "start_time": "2023-12-01T20:20:02.329Z"
   },
   {
    "duration": 40,
    "start_time": "2023-12-01T20:20:02.337Z"
   },
   {
    "duration": 48,
    "start_time": "2023-12-01T20:20:02.379Z"
   },
   {
    "duration": 29,
    "start_time": "2023-12-01T20:20:02.429Z"
   },
   {
    "duration": 36,
    "start_time": "2023-12-01T20:20:02.460Z"
   },
   {
    "duration": 46,
    "start_time": "2023-12-01T20:20:02.499Z"
   },
   {
    "duration": 5,
    "start_time": "2023-12-01T20:20:02.598Z"
   },
   {
    "duration": 1805,
    "start_time": "2023-12-01T20:20:02.931Z"
   },
   {
    "duration": 8,
    "start_time": "2023-12-01T20:24:18.700Z"
   },
   {
    "duration": 10,
    "start_time": "2023-12-01T20:24:21.722Z"
   },
   {
    "duration": 390,
    "start_time": "2023-12-01T20:32:53.102Z"
   },
   {
    "duration": 339,
    "start_time": "2023-12-01T20:33:06.483Z"
   },
   {
    "duration": 317,
    "start_time": "2023-12-01T20:35:26.776Z"
   },
   {
    "duration": 329,
    "start_time": "2023-12-01T20:36:07.416Z"
   },
   {
    "duration": 10,
    "start_time": "2023-12-01T20:37:38.555Z"
   },
   {
    "duration": 7,
    "start_time": "2023-12-01T20:38:32.820Z"
   },
   {
    "duration": 433,
    "start_time": "2023-12-01T20:38:41.727Z"
   },
   {
    "duration": 2466,
    "start_time": "2023-12-01T20:41:18.692Z"
   },
   {
    "duration": 7,
    "start_time": "2023-12-01T20:47:38.993Z"
   },
   {
    "duration": 147,
    "start_time": "2023-12-01T20:48:18.275Z"
   },
   {
    "duration": 154,
    "start_time": "2023-12-01T20:49:35.969Z"
   },
   {
    "duration": 140,
    "start_time": "2023-12-01T20:54:45.014Z"
   },
   {
    "duration": 152,
    "start_time": "2023-12-01T20:55:09.045Z"
   },
   {
    "duration": 157,
    "start_time": "2023-12-01T20:55:36.221Z"
   },
   {
    "duration": 136,
    "start_time": "2023-12-01T20:55:48.718Z"
   },
   {
    "duration": 132,
    "start_time": "2023-12-01T20:56:43.735Z"
   },
   {
    "duration": 145,
    "start_time": "2023-12-01T20:57:01.330Z"
   },
   {
    "duration": 482,
    "start_time": "2023-12-01T20:59:04.213Z"
   },
   {
    "duration": 42,
    "start_time": "2023-12-01T20:59:04.697Z"
   },
   {
    "duration": 2024,
    "start_time": "2023-12-01T20:59:04.740Z"
   },
   {
    "duration": 10,
    "start_time": "2023-12-01T20:59:06.766Z"
   },
   {
    "duration": 30,
    "start_time": "2023-12-01T20:59:06.778Z"
   },
   {
    "duration": 30,
    "start_time": "2023-12-01T20:59:06.810Z"
   },
   {
    "duration": 7,
    "start_time": "2023-12-01T20:59:06.842Z"
   },
   {
    "duration": 6,
    "start_time": "2023-12-01T20:59:06.850Z"
   },
   {
    "duration": 29,
    "start_time": "2023-12-01T20:59:06.882Z"
   },
   {
    "duration": 6,
    "start_time": "2023-12-01T20:59:06.913Z"
   },
   {
    "duration": 14,
    "start_time": "2023-12-01T20:59:06.920Z"
   },
   {
    "duration": 46,
    "start_time": "2023-12-01T20:59:06.936Z"
   },
   {
    "duration": 7,
    "start_time": "2023-12-01T20:59:06.984Z"
   },
   {
    "duration": 6,
    "start_time": "2023-12-01T20:59:06.993Z"
   },
   {
    "duration": 7,
    "start_time": "2023-12-01T20:59:07.001Z"
   },
   {
    "duration": 401,
    "start_time": "2023-12-01T20:59:07.009Z"
   },
   {
    "duration": 0,
    "start_time": "2023-12-01T20:59:07.412Z"
   },
   {
    "duration": 0,
    "start_time": "2023-12-01T20:59:07.413Z"
   },
   {
    "duration": 0,
    "start_time": "2023-12-01T20:59:07.413Z"
   },
   {
    "duration": 0,
    "start_time": "2023-12-01T20:59:07.414Z"
   },
   {
    "duration": 0,
    "start_time": "2023-12-01T20:59:07.415Z"
   },
   {
    "duration": 98,
    "start_time": "2023-12-01T20:59:48.162Z"
   },
   {
    "duration": 35,
    "start_time": "2023-12-01T20:59:49.074Z"
   },
   {
    "duration": 1775,
    "start_time": "2023-12-01T20:59:49.373Z"
   },
   {
    "duration": 8,
    "start_time": "2023-12-01T20:59:51.150Z"
   },
   {
    "duration": 48,
    "start_time": "2023-12-01T20:59:51.160Z"
   },
   {
    "duration": 29,
    "start_time": "2023-12-01T20:59:51.211Z"
   },
   {
    "duration": 12,
    "start_time": "2023-12-01T20:59:51.242Z"
   },
   {
    "duration": 28,
    "start_time": "2023-12-01T20:59:51.255Z"
   },
   {
    "duration": 27,
    "start_time": "2023-12-01T20:59:51.284Z"
   },
   {
    "duration": 6,
    "start_time": "2023-12-01T20:59:51.500Z"
   },
   {
    "duration": 17,
    "start_time": "2023-12-01T20:59:52.486Z"
   },
   {
    "duration": 16,
    "start_time": "2023-12-01T20:59:53.259Z"
   },
   {
    "duration": 7,
    "start_time": "2023-12-01T20:59:53.909Z"
   },
   {
    "duration": 8,
    "start_time": "2023-12-01T20:59:54.877Z"
   },
   {
    "duration": 8,
    "start_time": "2023-12-01T20:59:55.778Z"
   },
   {
    "duration": 331,
    "start_time": "2023-12-01T20:59:57.556Z"
   },
   {
    "duration": 387,
    "start_time": "2023-12-01T21:00:26.136Z"
   },
   {
    "duration": 319,
    "start_time": "2023-12-01T21:00:37.106Z"
   },
   {
    "duration": 344,
    "start_time": "2023-12-01T21:00:52.350Z"
   },
   {
    "duration": 313,
    "start_time": "2023-12-01T21:01:49.522Z"
   },
   {
    "duration": 1262,
    "start_time": "2023-12-01T21:03:07.876Z"
   },
   {
    "duration": 7,
    "start_time": "2023-12-01T21:03:24.453Z"
   },
   {
    "duration": 10,
    "start_time": "2023-12-01T21:03:27.840Z"
   },
   {
    "duration": 415,
    "start_time": "2023-12-01T21:03:35.765Z"
   },
   {
    "duration": 324,
    "start_time": "2023-12-01T21:03:57.929Z"
   },
   {
    "duration": 322,
    "start_time": "2023-12-01T21:04:29.730Z"
   },
   {
    "duration": 325,
    "start_time": "2023-12-01T21:04:43.183Z"
   },
   {
    "duration": 2478,
    "start_time": "2023-12-01T21:04:53.583Z"
   },
   {
    "duration": 470,
    "start_time": "2023-12-01T21:06:58.804Z"
   },
   {
    "duration": 40,
    "start_time": "2023-12-01T21:06:59.276Z"
   },
   {
    "duration": 2014,
    "start_time": "2023-12-01T21:06:59.370Z"
   },
   {
    "duration": 9,
    "start_time": "2023-12-01T21:07:01.386Z"
   },
   {
    "duration": 80,
    "start_time": "2023-12-01T21:07:01.397Z"
   },
   {
    "duration": 32,
    "start_time": "2023-12-01T21:07:01.479Z"
   },
   {
    "duration": 21,
    "start_time": "2023-12-01T21:07:01.512Z"
   },
   {
    "duration": 22,
    "start_time": "2023-12-01T21:07:01.534Z"
   },
   {
    "duration": 72,
    "start_time": "2023-12-01T21:07:01.557Z"
   },
   {
    "duration": 19,
    "start_time": "2023-12-01T21:07:01.630Z"
   },
   {
    "duration": 15,
    "start_time": "2023-12-01T21:07:01.793Z"
   },
   {
    "duration": 18,
    "start_time": "2023-12-01T21:07:08.078Z"
   },
   {
    "duration": 7,
    "start_time": "2023-12-01T21:07:08.673Z"
   },
   {
    "duration": 9,
    "start_time": "2023-12-01T21:07:08.964Z"
   },
   {
    "duration": 7,
    "start_time": "2023-12-01T21:07:09.203Z"
   },
   {
    "duration": 356,
    "start_time": "2023-12-01T21:07:11.144Z"
   },
   {
    "duration": 144,
    "start_time": "2023-12-01T21:07:14.444Z"
   },
   {
    "duration": 165,
    "start_time": "2023-12-01T21:07:20.117Z"
   },
   {
    "duration": 146,
    "start_time": "2023-12-01T21:07:24.202Z"
   },
   {
    "duration": 52,
    "start_time": "2023-12-01T21:11:27.254Z"
   },
   {
    "duration": 655,
    "start_time": "2023-12-01T21:11:35.346Z"
   },
   {
    "duration": 40,
    "start_time": "2023-12-01T21:11:36.217Z"
   },
   {
    "duration": 1998,
    "start_time": "2023-12-01T21:11:36.478Z"
   },
   {
    "duration": 9,
    "start_time": "2023-12-01T21:11:38.478Z"
   },
   {
    "duration": 31,
    "start_time": "2023-12-01T21:11:38.488Z"
   },
   {
    "duration": 28,
    "start_time": "2023-12-01T21:11:38.521Z"
   },
   {
    "duration": 7,
    "start_time": "2023-12-01T21:11:38.551Z"
   },
   {
    "duration": 6,
    "start_time": "2023-12-01T21:11:38.581Z"
   },
   {
    "duration": 31,
    "start_time": "2023-12-01T21:11:38.589Z"
   },
   {
    "duration": 7,
    "start_time": "2023-12-01T21:11:38.956Z"
   },
   {
    "duration": 14,
    "start_time": "2023-12-01T21:11:39.140Z"
   },
   {
    "duration": 20,
    "start_time": "2023-12-01T21:11:39.305Z"
   },
   {
    "duration": 8,
    "start_time": "2023-12-01T21:11:39.462Z"
   },
   {
    "duration": 10,
    "start_time": "2023-12-01T21:11:39.605Z"
   },
   {
    "duration": 9,
    "start_time": "2023-12-01T21:11:39.791Z"
   },
   {
    "duration": 352,
    "start_time": "2023-12-01T21:11:40.421Z"
   },
   {
    "duration": 151,
    "start_time": "2023-12-01T21:11:45.787Z"
   },
   {
    "duration": 144,
    "start_time": "2023-12-01T21:11:47.925Z"
   },
   {
    "duration": 127,
    "start_time": "2023-12-01T21:11:52.041Z"
   },
   {
    "duration": 197,
    "start_time": "2023-12-01T21:11:53.325Z"
   },
   {
    "duration": 153,
    "start_time": "2023-12-01T21:11:55.146Z"
   },
   {
    "duration": 115,
    "start_time": "2023-12-01T21:12:10.086Z"
   },
   {
    "duration": 134,
    "start_time": "2023-12-01T21:12:17.385Z"
   },
   {
    "duration": 138,
    "start_time": "2023-12-01T21:12:45.076Z"
   },
   {
    "duration": 139,
    "start_time": "2023-12-01T21:12:52.256Z"
   },
   {
    "duration": 111,
    "start_time": "2023-12-01T21:12:58.107Z"
   },
   {
    "duration": 158,
    "start_time": "2023-12-01T21:13:05.511Z"
   },
   {
    "duration": 137,
    "start_time": "2023-12-01T21:13:26.366Z"
   },
   {
    "duration": 136,
    "start_time": "2023-12-01T21:13:32.353Z"
   },
   {
    "duration": 133,
    "start_time": "2023-12-01T21:13:51.023Z"
   },
   {
    "duration": 220,
    "start_time": "2023-12-01T21:14:01.262Z"
   },
   {
    "duration": 52,
    "start_time": "2023-12-02T19:20:32.581Z"
   },
   {
    "duration": 717,
    "start_time": "2023-12-02T19:20:44.442Z"
   },
   {
    "duration": 46,
    "start_time": "2023-12-02T19:20:45.162Z"
   },
   {
    "duration": 2453,
    "start_time": "2023-12-02T19:20:45.209Z"
   },
   {
    "duration": 10,
    "start_time": "2023-12-02T19:20:47.664Z"
   },
   {
    "duration": 32,
    "start_time": "2023-12-02T19:20:47.676Z"
   },
   {
    "duration": 34,
    "start_time": "2023-12-02T19:20:47.709Z"
   },
   {
    "duration": 8,
    "start_time": "2023-12-02T19:20:47.745Z"
   },
   {
    "duration": 8,
    "start_time": "2023-12-02T19:20:47.754Z"
   },
   {
    "duration": 60,
    "start_time": "2023-12-02T19:20:47.764Z"
   },
   {
    "duration": 8,
    "start_time": "2023-12-02T19:20:47.825Z"
   },
   {
    "duration": 26,
    "start_time": "2023-12-02T19:20:47.834Z"
   },
   {
    "duration": 20,
    "start_time": "2023-12-02T19:20:47.862Z"
   },
   {
    "duration": 23,
    "start_time": "2023-12-02T19:20:47.883Z"
   },
   {
    "duration": 9,
    "start_time": "2023-12-02T19:20:47.909Z"
   },
   {
    "duration": 7,
    "start_time": "2023-12-02T19:20:47.920Z"
   },
   {
    "duration": 404,
    "start_time": "2023-12-02T19:20:47.929Z"
   },
   {
    "duration": 186,
    "start_time": "2023-12-02T19:20:48.334Z"
   },
   {
    "duration": 199,
    "start_time": "2023-12-02T19:20:48.522Z"
   },
   {
    "duration": 251,
    "start_time": "2023-12-02T19:20:48.723Z"
   },
   {
    "duration": 173,
    "start_time": "2023-12-02T19:20:48.976Z"
   },
   {
    "duration": 140,
    "start_time": "2023-12-02T19:20:49.151Z"
   },
   {
    "duration": 142,
    "start_time": "2023-12-02T19:20:49.293Z"
   },
   {
    "duration": 169,
    "start_time": "2023-12-02T19:20:49.437Z"
   },
   {
    "duration": 157,
    "start_time": "2023-12-02T19:20:49.608Z"
   },
   {
    "duration": 181,
    "start_time": "2023-12-02T19:20:49.767Z"
   },
   {
    "duration": 178,
    "start_time": "2023-12-02T19:20:49.950Z"
   },
   {
    "duration": 856,
    "start_time": "2023-12-02T19:32:53.821Z"
   },
   {
    "duration": 182,
    "start_time": "2023-12-02T19:35:01.828Z"
   },
   {
    "duration": 82,
    "start_time": "2023-12-02T19:35:15.417Z"
   },
   {
    "duration": 9,
    "start_time": "2023-12-02T19:35:38.057Z"
   },
   {
    "duration": 260,
    "start_time": "2023-12-02T19:42:13.010Z"
   },
   {
    "duration": 233,
    "start_time": "2023-12-02T19:45:11.593Z"
   },
   {
    "duration": 10,
    "start_time": "2023-12-02T19:48:01.893Z"
   },
   {
    "duration": 2119,
    "start_time": "2023-12-02T19:49:58.589Z"
   },
   {
    "duration": 162,
    "start_time": "2023-12-02T19:51:02.103Z"
   },
   {
    "duration": 1152,
    "start_time": "2023-12-02T19:51:42.045Z"
   },
   {
    "duration": 2063,
    "start_time": "2023-12-02T19:52:00.808Z"
   },
   {
    "duration": 158,
    "start_time": "2023-12-02T19:52:31.173Z"
   },
   {
    "duration": 88,
    "start_time": "2023-12-02T19:53:06.017Z"
   },
   {
    "duration": 106,
    "start_time": "2023-12-02T19:54:37.352Z"
   },
   {
    "duration": 11,
    "start_time": "2023-12-02T19:56:46.372Z"
   },
   {
    "duration": 158,
    "start_time": "2023-12-02T19:58:14.421Z"
   },
   {
    "duration": 158,
    "start_time": "2023-12-02T20:02:22.102Z"
   },
   {
    "duration": 120,
    "start_time": "2023-12-02T20:31:27.543Z"
   },
   {
    "duration": 143,
    "start_time": "2023-12-02T20:32:26.184Z"
   },
   {
    "duration": 75,
    "start_time": "2023-12-02T20:34:52.046Z"
   },
   {
    "duration": 152,
    "start_time": "2023-12-02T20:35:14.507Z"
   },
   {
    "duration": 163,
    "start_time": "2023-12-02T20:38:13.447Z"
   },
   {
    "duration": 30,
    "start_time": "2023-12-02T20:39:30.006Z"
   },
   {
    "duration": 172,
    "start_time": "2023-12-02T20:39:38.435Z"
   },
   {
    "duration": 146,
    "start_time": "2023-12-02T20:40:09.361Z"
   },
   {
    "duration": 149,
    "start_time": "2023-12-02T20:40:41.974Z"
   },
   {
    "duration": 147,
    "start_time": "2023-12-02T20:41:03.695Z"
   },
   {
    "duration": 633,
    "start_time": "2023-12-02T20:41:59.660Z"
   },
   {
    "duration": 20,
    "start_time": "2023-12-02T20:44:00.189Z"
   },
   {
    "duration": 20,
    "start_time": "2023-12-02T20:44:30.174Z"
   },
   {
    "duration": 12,
    "start_time": "2023-12-02T20:45:22.236Z"
   },
   {
    "duration": 27,
    "start_time": "2023-12-02T20:45:59.211Z"
   },
   {
    "duration": 25,
    "start_time": "2023-12-02T20:46:57.190Z"
   },
   {
    "duration": 26,
    "start_time": "2023-12-02T20:49:43.827Z"
   },
   {
    "duration": 26,
    "start_time": "2023-12-02T20:50:30.190Z"
   },
   {
    "duration": 533,
    "start_time": "2023-12-02T21:00:15.528Z"
   },
   {
    "duration": 58,
    "start_time": "2023-12-02T21:00:16.064Z"
   },
   {
    "duration": 2393,
    "start_time": "2023-12-02T21:00:16.125Z"
   },
   {
    "duration": 10,
    "start_time": "2023-12-02T21:00:18.520Z"
   },
   {
    "duration": 32,
    "start_time": "2023-12-02T21:00:18.532Z"
   },
   {
    "duration": 48,
    "start_time": "2023-12-02T21:00:18.566Z"
   },
   {
    "duration": 10,
    "start_time": "2023-12-02T21:00:18.616Z"
   },
   {
    "duration": 38,
    "start_time": "2023-12-02T21:00:18.628Z"
   },
   {
    "duration": 68,
    "start_time": "2023-12-02T21:00:18.668Z"
   },
   {
    "duration": 7,
    "start_time": "2023-12-02T21:00:18.740Z"
   },
   {
    "duration": 22,
    "start_time": "2023-12-02T21:00:18.749Z"
   },
   {
    "duration": 30,
    "start_time": "2023-12-02T21:00:18.772Z"
   },
   {
    "duration": 19,
    "start_time": "2023-12-02T21:00:18.803Z"
   },
   {
    "duration": 20,
    "start_time": "2023-12-02T21:00:18.824Z"
   },
   {
    "duration": 16,
    "start_time": "2023-12-02T21:00:18.846Z"
   },
   {
    "duration": 380,
    "start_time": "2023-12-02T21:00:18.863Z"
   },
   {
    "duration": 179,
    "start_time": "2023-12-02T21:00:19.244Z"
   },
   {
    "duration": 191,
    "start_time": "2023-12-02T21:00:19.425Z"
   },
   {
    "duration": 161,
    "start_time": "2023-12-02T21:00:19.618Z"
   },
   {
    "duration": 245,
    "start_time": "2023-12-02T21:00:19.781Z"
   },
   {
    "duration": 151,
    "start_time": "2023-12-02T21:00:20.027Z"
   },
   {
    "duration": 138,
    "start_time": "2023-12-02T21:00:20.180Z"
   },
   {
    "duration": 175,
    "start_time": "2023-12-02T21:00:20.319Z"
   },
   {
    "duration": 167,
    "start_time": "2023-12-02T21:00:20.495Z"
   },
   {
    "duration": 193,
    "start_time": "2023-12-02T21:00:20.663Z"
   },
   {
    "duration": 191,
    "start_time": "2023-12-02T21:00:20.858Z"
   },
   {
    "duration": 908,
    "start_time": "2023-12-02T21:00:21.051Z"
   },
   {
    "duration": 9,
    "start_time": "2023-12-02T21:00:21.962Z"
   },
   {
    "duration": 345,
    "start_time": "2023-12-02T21:00:21.972Z"
   },
   {
    "duration": 12,
    "start_time": "2023-12-02T21:00:22.318Z"
   },
   {
    "duration": 109,
    "start_time": "2023-12-02T21:00:22.332Z"
   },
   {
    "duration": 155,
    "start_time": "2023-12-02T21:00:22.443Z"
   },
   {
    "duration": 198,
    "start_time": "2023-12-02T21:00:22.600Z"
   },
   {
    "duration": 163,
    "start_time": "2023-12-02T21:00:22.799Z"
   },
   {
    "duration": 164,
    "start_time": "2023-12-02T21:00:22.963Z"
   },
   {
    "duration": 159,
    "start_time": "2023-12-02T21:00:23.129Z"
   },
   {
    "duration": 494,
    "start_time": "2023-12-02T21:00:23.290Z"
   },
   {
    "duration": 38,
    "start_time": "2023-12-02T21:00:23.785Z"
   },
   {
    "duration": 258,
    "start_time": "2023-12-02T21:00:23.825Z"
   },
   {
    "duration": 183,
    "start_time": "2023-12-02T21:01:20.721Z"
   },
   {
    "duration": 171,
    "start_time": "2023-12-02T21:41:45.850Z"
   },
   {
    "duration": 485,
    "start_time": "2023-12-02T22:46:04.438Z"
   },
   {
    "duration": 42,
    "start_time": "2023-12-02T22:46:04.925Z"
   },
   {
    "duration": 2063,
    "start_time": "2023-12-02T22:46:04.968Z"
   },
   {
    "duration": 9,
    "start_time": "2023-12-02T22:46:07.033Z"
   },
   {
    "duration": 80,
    "start_time": "2023-12-02T22:46:07.043Z"
   },
   {
    "duration": 29,
    "start_time": "2023-12-02T22:46:07.125Z"
   },
   {
    "duration": 16,
    "start_time": "2023-12-02T22:46:07.156Z"
   },
   {
    "duration": 15,
    "start_time": "2023-12-02T22:46:07.173Z"
   },
   {
    "duration": 34,
    "start_time": "2023-12-02T22:46:07.189Z"
   },
   {
    "duration": 6,
    "start_time": "2023-12-02T22:46:07.225Z"
   },
   {
    "duration": 17,
    "start_time": "2023-12-02T22:46:07.232Z"
   },
   {
    "duration": 18,
    "start_time": "2023-12-02T22:46:07.250Z"
   },
   {
    "duration": 23,
    "start_time": "2023-12-02T22:46:07.270Z"
   },
   {
    "duration": 35,
    "start_time": "2023-12-02T22:46:07.294Z"
   },
   {
    "duration": 31,
    "start_time": "2023-12-02T22:46:07.330Z"
   },
   {
    "duration": 325,
    "start_time": "2023-12-02T22:46:07.363Z"
   },
   {
    "duration": 155,
    "start_time": "2023-12-02T22:46:07.689Z"
   },
   {
    "duration": 156,
    "start_time": "2023-12-02T22:46:07.845Z"
   },
   {
    "duration": 142,
    "start_time": "2023-12-02T22:46:08.003Z"
   },
   {
    "duration": 221,
    "start_time": "2023-12-02T22:46:08.147Z"
   },
   {
    "duration": 123,
    "start_time": "2023-12-02T22:46:08.370Z"
   },
   {
    "duration": 133,
    "start_time": "2023-12-02T22:46:08.495Z"
   },
   {
    "duration": 158,
    "start_time": "2023-12-02T22:46:08.629Z"
   },
   {
    "duration": 138,
    "start_time": "2023-12-02T22:46:08.788Z"
   },
   {
    "duration": 157,
    "start_time": "2023-12-02T22:46:08.927Z"
   },
   {
    "duration": 68,
    "start_time": "2023-12-02T22:46:09.085Z"
   },
   {
    "duration": 0,
    "start_time": "2023-12-02T22:46:09.155Z"
   },
   {
    "duration": 0,
    "start_time": "2023-12-02T22:46:09.156Z"
   },
   {
    "duration": 0,
    "start_time": "2023-12-02T22:46:09.157Z"
   },
   {
    "duration": 0,
    "start_time": "2023-12-02T22:46:09.158Z"
   },
   {
    "duration": 0,
    "start_time": "2023-12-02T22:46:09.159Z"
   },
   {
    "duration": 0,
    "start_time": "2023-12-02T22:46:09.159Z"
   },
   {
    "duration": 0,
    "start_time": "2023-12-02T22:46:09.160Z"
   },
   {
    "duration": 0,
    "start_time": "2023-12-02T22:46:09.161Z"
   },
   {
    "duration": 0,
    "start_time": "2023-12-02T22:46:09.162Z"
   },
   {
    "duration": 0,
    "start_time": "2023-12-02T22:46:09.163Z"
   },
   {
    "duration": 0,
    "start_time": "2023-12-02T22:46:09.164Z"
   },
   {
    "duration": 0,
    "start_time": "2023-12-02T22:46:09.165Z"
   },
   {
    "duration": 0,
    "start_time": "2023-12-02T22:46:09.166Z"
   },
   {
    "duration": 0,
    "start_time": "2023-12-02T22:46:09.167Z"
   },
   {
    "duration": 0,
    "start_time": "2023-12-02T22:46:09.168Z"
   },
   {
    "duration": 0,
    "start_time": "2023-12-02T22:46:09.169Z"
   },
   {
    "duration": 0,
    "start_time": "2023-12-02T22:46:09.169Z"
   },
   {
    "duration": 0,
    "start_time": "2023-12-02T22:46:09.170Z"
   },
   {
    "duration": 0,
    "start_time": "2023-12-02T22:46:09.171Z"
   },
   {
    "duration": 0,
    "start_time": "2023-12-02T22:46:09.172Z"
   },
   {
    "duration": 0,
    "start_time": "2023-12-02T22:46:09.173Z"
   },
   {
    "duration": 0,
    "start_time": "2023-12-02T22:46:09.174Z"
   },
   {
    "duration": 0,
    "start_time": "2023-12-02T22:46:09.174Z"
   },
   {
    "duration": 6,
    "start_time": "2023-12-02T22:48:34.363Z"
   },
   {
    "duration": 14,
    "start_time": "2023-12-02T22:57:40.517Z"
   },
   {
    "duration": 49,
    "start_time": "2023-12-02T22:57:54.900Z"
   },
   {
    "duration": 167,
    "start_time": "2023-12-02T23:01:55.415Z"
   },
   {
    "duration": 26,
    "start_time": "2023-12-02T23:02:21.826Z"
   },
   {
    "duration": 21,
    "start_time": "2023-12-02T23:03:08.829Z"
   },
   {
    "duration": 4,
    "start_time": "2023-12-02T23:03:17.141Z"
   },
   {
    "duration": 149,
    "start_time": "2023-12-02T23:03:24.590Z"
   },
   {
    "duration": 159,
    "start_time": "2023-12-02T23:04:00.719Z"
   },
   {
    "duration": 514,
    "start_time": "2023-12-02T23:06:05.625Z"
   },
   {
    "duration": 41,
    "start_time": "2023-12-02T23:06:06.141Z"
   },
   {
    "duration": 2047,
    "start_time": "2023-12-02T23:06:06.183Z"
   },
   {
    "duration": 9,
    "start_time": "2023-12-02T23:06:08.232Z"
   },
   {
    "duration": 4,
    "start_time": "2023-12-02T23:06:08.243Z"
   },
   {
    "duration": 241,
    "start_time": "2023-12-02T23:06:08.248Z"
   },
   {
    "duration": 33,
    "start_time": "2023-12-02T23:06:08.490Z"
   },
   {
    "duration": 29,
    "start_time": "2023-12-02T23:06:08.524Z"
   },
   {
    "duration": 8,
    "start_time": "2023-12-02T23:06:08.555Z"
   },
   {
    "duration": 16,
    "start_time": "2023-12-02T23:06:08.564Z"
   },
   {
    "duration": 47,
    "start_time": "2023-12-02T23:06:08.581Z"
   },
   {
    "duration": 6,
    "start_time": "2023-12-02T23:06:08.630Z"
   },
   {
    "duration": 14,
    "start_time": "2023-12-02T23:06:08.637Z"
   },
   {
    "duration": 6,
    "start_time": "2023-12-02T23:06:08.654Z"
   },
   {
    "duration": 20,
    "start_time": "2023-12-02T23:06:08.662Z"
   },
   {
    "duration": 32,
    "start_time": "2023-12-02T23:06:08.684Z"
   },
   {
    "duration": 7,
    "start_time": "2023-12-02T23:06:08.718Z"
   },
   {
    "duration": 9,
    "start_time": "2023-12-02T23:06:08.727Z"
   },
   {
    "duration": 684,
    "start_time": "2023-12-02T23:06:08.738Z"
   },
   {
    "duration": 308,
    "start_time": "2023-12-02T23:06:09.423Z"
   },
   {
    "duration": 306,
    "start_time": "2023-12-02T23:06:09.733Z"
   },
   {
    "duration": 246,
    "start_time": "2023-12-02T23:06:10.041Z"
   },
   {
    "duration": 158,
    "start_time": "2023-12-02T23:06:10.289Z"
   },
   {
    "duration": 161,
    "start_time": "2023-12-02T23:06:10.449Z"
   },
   {
    "duration": 128,
    "start_time": "2023-12-02T23:06:10.613Z"
   },
   {
    "duration": 152,
    "start_time": "2023-12-02T23:06:10.742Z"
   },
   {
    "duration": 144,
    "start_time": "2023-12-02T23:06:10.896Z"
   },
   {
    "duration": 172,
    "start_time": "2023-12-02T23:06:11.041Z"
   },
   {
    "duration": 14,
    "start_time": "2023-12-02T23:06:11.214Z"
   },
   {
    "duration": 49,
    "start_time": "2023-12-02T23:06:11.230Z"
   },
   {
    "duration": 250,
    "start_time": "2023-12-02T23:06:11.281Z"
   },
   {
    "duration": 7,
    "start_time": "2023-12-02T23:06:11.532Z"
   },
   {
    "duration": 585,
    "start_time": "2023-12-02T23:06:11.541Z"
   },
   {
    "duration": 728,
    "start_time": "2023-12-02T23:06:12.127Z"
   },
   {
    "duration": 139,
    "start_time": "2023-12-02T23:06:12.857Z"
   },
   {
    "duration": 131,
    "start_time": "2023-12-02T23:06:12.998Z"
   },
   {
    "duration": 15,
    "start_time": "2023-12-02T23:06:13.131Z"
   },
   {
    "duration": 185,
    "start_time": "2023-12-02T23:06:13.147Z"
   },
   {
    "duration": 775,
    "start_time": "2023-12-02T23:06:13.334Z"
   },
   {
    "duration": 7,
    "start_time": "2023-12-02T23:06:14.113Z"
   },
   {
    "duration": 226,
    "start_time": "2023-12-02T23:06:14.123Z"
   },
   {
    "duration": 10,
    "start_time": "2023-12-02T23:06:14.350Z"
   },
   {
    "duration": 95,
    "start_time": "2023-12-02T23:06:14.361Z"
   },
   {
    "duration": 133,
    "start_time": "2023-12-02T23:06:14.457Z"
   },
   {
    "duration": 260,
    "start_time": "2023-12-02T23:06:14.591Z"
   },
   {
    "duration": 140,
    "start_time": "2023-12-02T23:06:14.853Z"
   },
   {
    "duration": 145,
    "start_time": "2023-12-02T23:06:14.995Z"
   },
   {
    "duration": 141,
    "start_time": "2023-12-02T23:06:15.142Z"
   },
   {
    "duration": 443,
    "start_time": "2023-12-02T23:06:15.285Z"
   },
   {
    "duration": 24,
    "start_time": "2023-12-02T23:06:15.729Z"
   },
   {
    "duration": 3,
    "start_time": "2023-12-02T23:06:15.755Z"
   },
   {
    "duration": 185,
    "start_time": "2023-12-02T23:06:15.759Z"
   },
   {
    "duration": 75,
    "start_time": "2023-12-03T06:15:55.562Z"
   },
   {
    "duration": 73,
    "start_time": "2023-12-03T06:16:06.700Z"
   },
   {
    "duration": 46,
    "start_time": "2023-12-03T06:16:17.707Z"
   },
   {
    "duration": 6,
    "start_time": "2023-12-03T06:17:47.196Z"
   },
   {
    "duration": 732,
    "start_time": "2023-12-03T06:18:28.845Z"
   },
   {
    "duration": 46,
    "start_time": "2023-12-03T06:18:30.926Z"
   },
   {
    "duration": 2316,
    "start_time": "2023-12-03T06:18:32.469Z"
   },
   {
    "duration": 14,
    "start_time": "2023-12-03T06:18:38.671Z"
   },
   {
    "duration": 5,
    "start_time": "2023-12-03T06:18:39.704Z"
   },
   {
    "duration": 250,
    "start_time": "2023-12-03T06:18:43.748Z"
   },
   {
    "duration": 86,
    "start_time": "2023-12-03T06:29:46.033Z"
   },
   {
    "duration": 575,
    "start_time": "2023-12-03T06:29:55.489Z"
   },
   {
    "duration": 46,
    "start_time": "2023-12-03T06:29:56.066Z"
   },
   {
    "duration": 2267,
    "start_time": "2023-12-03T06:29:56.114Z"
   },
   {
    "duration": 10,
    "start_time": "2023-12-03T06:29:58.383Z"
   },
   {
    "duration": 4,
    "start_time": "2023-12-03T06:29:58.395Z"
   },
   {
    "duration": 288,
    "start_time": "2023-12-03T06:29:58.401Z"
   },
   {
    "duration": 36,
    "start_time": "2023-12-03T06:29:58.691Z"
   },
   {
    "duration": 31,
    "start_time": "2023-12-03T06:29:58.729Z"
   },
   {
    "duration": 13,
    "start_time": "2023-12-03T06:29:58.761Z"
   },
   {
    "duration": 22,
    "start_time": "2023-12-03T06:29:58.777Z"
   },
   {
    "duration": 56,
    "start_time": "2023-12-03T06:29:58.801Z"
   },
   {
    "duration": 6,
    "start_time": "2023-12-03T06:29:58.859Z"
   },
   {
    "duration": 96,
    "start_time": "2023-12-03T06:29:58.867Z"
   },
   {
    "duration": 0,
    "start_time": "2023-12-03T06:29:58.966Z"
   },
   {
    "duration": 0,
    "start_time": "2023-12-03T06:29:58.967Z"
   },
   {
    "duration": 0,
    "start_time": "2023-12-03T06:29:58.968Z"
   },
   {
    "duration": 0,
    "start_time": "2023-12-03T06:29:58.972Z"
   },
   {
    "duration": 0,
    "start_time": "2023-12-03T06:29:58.973Z"
   },
   {
    "duration": 0,
    "start_time": "2023-12-03T06:29:58.975Z"
   },
   {
    "duration": 0,
    "start_time": "2023-12-03T06:29:58.976Z"
   },
   {
    "duration": 0,
    "start_time": "2023-12-03T06:29:58.978Z"
   },
   {
    "duration": 0,
    "start_time": "2023-12-03T06:29:58.979Z"
   },
   {
    "duration": 0,
    "start_time": "2023-12-03T06:29:58.981Z"
   },
   {
    "duration": 0,
    "start_time": "2023-12-03T06:29:58.982Z"
   },
   {
    "duration": 0,
    "start_time": "2023-12-03T06:29:58.983Z"
   },
   {
    "duration": 0,
    "start_time": "2023-12-03T06:29:58.984Z"
   },
   {
    "duration": 0,
    "start_time": "2023-12-03T06:29:58.986Z"
   },
   {
    "duration": 0,
    "start_time": "2023-12-03T06:29:58.987Z"
   },
   {
    "duration": 0,
    "start_time": "2023-12-03T06:29:58.988Z"
   },
   {
    "duration": 0,
    "start_time": "2023-12-03T06:29:59.022Z"
   },
   {
    "duration": 0,
    "start_time": "2023-12-03T06:29:59.023Z"
   },
   {
    "duration": 0,
    "start_time": "2023-12-03T06:29:59.024Z"
   },
   {
    "duration": 0,
    "start_time": "2023-12-03T06:29:59.026Z"
   },
   {
    "duration": 0,
    "start_time": "2023-12-03T06:29:59.027Z"
   },
   {
    "duration": 0,
    "start_time": "2023-12-03T06:29:59.029Z"
   },
   {
    "duration": 0,
    "start_time": "2023-12-03T06:29:59.030Z"
   },
   {
    "duration": 0,
    "start_time": "2023-12-03T06:29:59.031Z"
   },
   {
    "duration": 0,
    "start_time": "2023-12-03T06:29:59.032Z"
   },
   {
    "duration": 0,
    "start_time": "2023-12-03T06:29:59.034Z"
   },
   {
    "duration": 0,
    "start_time": "2023-12-03T06:29:59.035Z"
   },
   {
    "duration": 0,
    "start_time": "2023-12-03T06:29:59.037Z"
   },
   {
    "duration": 0,
    "start_time": "2023-12-03T06:29:59.038Z"
   },
   {
    "duration": 0,
    "start_time": "2023-12-03T06:29:59.039Z"
   },
   {
    "duration": 0,
    "start_time": "2023-12-03T06:29:59.040Z"
   },
   {
    "duration": 0,
    "start_time": "2023-12-03T06:29:59.042Z"
   },
   {
    "duration": 0,
    "start_time": "2023-12-03T06:29:59.043Z"
   },
   {
    "duration": 0,
    "start_time": "2023-12-03T06:29:59.044Z"
   },
   {
    "duration": 0,
    "start_time": "2023-12-03T06:29:59.045Z"
   },
   {
    "duration": 0,
    "start_time": "2023-12-03T06:29:59.046Z"
   },
   {
    "duration": 0,
    "start_time": "2023-12-03T06:29:59.048Z"
   },
   {
    "duration": 0,
    "start_time": "2023-12-03T06:29:59.049Z"
   },
   {
    "duration": 0,
    "start_time": "2023-12-03T06:29:59.050Z"
   },
   {
    "duration": 17,
    "start_time": "2023-12-03T06:30:38.717Z"
   },
   {
    "duration": 26,
    "start_time": "2023-12-03T06:31:00.729Z"
   },
   {
    "duration": 12,
    "start_time": "2023-12-03T06:31:36.659Z"
   },
   {
    "duration": 20,
    "start_time": "2023-12-03T06:40:21.782Z"
   },
   {
    "duration": 4,
    "start_time": "2023-12-03T06:40:30.905Z"
   },
   {
    "duration": 13,
    "start_time": "2023-12-03T06:40:36.404Z"
   },
   {
    "duration": 21,
    "start_time": "2023-12-03T06:41:07.648Z"
   },
   {
    "duration": 13,
    "start_time": "2023-12-03T06:43:09.228Z"
   },
   {
    "duration": 21,
    "start_time": "2023-12-03T06:43:32.883Z"
   },
   {
    "duration": 13,
    "start_time": "2023-12-03T07:01:38.857Z"
   },
   {
    "duration": 20,
    "start_time": "2023-12-03T07:01:53.828Z"
   },
   {
    "duration": 42,
    "start_time": "2023-12-03T07:02:27.052Z"
   },
   {
    "duration": 13,
    "start_time": "2023-12-03T07:04:19.389Z"
   },
   {
    "duration": 706,
    "start_time": "2023-12-03T09:24:36.994Z"
   },
   {
    "duration": 41,
    "start_time": "2023-12-03T09:24:37.702Z"
   },
   {
    "duration": 2371,
    "start_time": "2023-12-03T09:24:37.744Z"
   },
   {
    "duration": 11,
    "start_time": "2023-12-03T09:24:40.117Z"
   },
   {
    "duration": 10,
    "start_time": "2023-12-03T09:24:40.129Z"
   },
   {
    "duration": 242,
    "start_time": "2023-12-03T09:24:40.140Z"
   },
   {
    "duration": 31,
    "start_time": "2023-12-03T09:24:40.384Z"
   },
   {
    "duration": 53,
    "start_time": "2023-12-03T09:24:40.417Z"
   },
   {
    "duration": 8,
    "start_time": "2023-12-03T09:24:40.471Z"
   },
   {
    "duration": 8,
    "start_time": "2023-12-03T09:24:40.481Z"
   },
   {
    "duration": 45,
    "start_time": "2023-12-03T09:24:40.490Z"
   },
   {
    "duration": 7,
    "start_time": "2023-12-03T09:24:40.536Z"
   },
   {
    "duration": 29,
    "start_time": "2023-12-03T09:24:40.544Z"
   },
   {
    "duration": 19,
    "start_time": "2023-12-03T09:24:40.575Z"
   },
   {
    "duration": 21,
    "start_time": "2023-12-03T09:24:40.595Z"
   },
   {
    "duration": 49,
    "start_time": "2023-12-03T09:24:40.617Z"
   },
   {
    "duration": 7,
    "start_time": "2023-12-03T09:24:40.668Z"
   },
   {
    "duration": 11,
    "start_time": "2023-12-03T09:24:40.677Z"
   },
   {
    "duration": 364,
    "start_time": "2023-12-03T09:24:40.689Z"
   },
   {
    "duration": 167,
    "start_time": "2023-12-03T09:24:41.055Z"
   },
   {
    "duration": 225,
    "start_time": "2023-12-03T09:24:41.223Z"
   },
   {
    "duration": 1319,
    "start_time": "2023-12-03T09:24:41.450Z"
   },
   {
    "duration": 154,
    "start_time": "2023-12-03T09:24:42.770Z"
   },
   {
    "duration": 131,
    "start_time": "2023-12-03T09:24:42.926Z"
   },
   {
    "duration": 135,
    "start_time": "2023-12-03T09:24:43.066Z"
   },
   {
    "duration": 151,
    "start_time": "2023-12-03T09:24:43.203Z"
   },
   {
    "duration": 153,
    "start_time": "2023-12-03T09:24:43.356Z"
   },
   {
    "duration": 169,
    "start_time": "2023-12-03T09:24:43.514Z"
   },
   {
    "duration": 15,
    "start_time": "2023-12-03T09:24:43.685Z"
   },
   {
    "duration": 69,
    "start_time": "2023-12-03T09:24:43.702Z"
   },
   {
    "duration": 193,
    "start_time": "2023-12-03T09:24:43.772Z"
   },
   {
    "duration": 8,
    "start_time": "2023-12-03T09:24:43.966Z"
   },
   {
    "duration": 308,
    "start_time": "2023-12-03T09:24:43.975Z"
   },
   {
    "duration": 405,
    "start_time": "2023-12-03T09:24:44.285Z"
   },
   {
    "duration": 132,
    "start_time": "2023-12-03T09:24:44.692Z"
   },
   {
    "duration": 139,
    "start_time": "2023-12-03T09:24:44.826Z"
   },
   {
    "duration": 16,
    "start_time": "2023-12-03T09:24:44.967Z"
   },
   {
    "duration": 175,
    "start_time": "2023-12-03T09:24:44.984Z"
   },
   {
    "duration": 863,
    "start_time": "2023-12-03T09:24:45.161Z"
   },
   {
    "duration": 8,
    "start_time": "2023-12-03T09:24:46.026Z"
   },
   {
    "duration": 250,
    "start_time": "2023-12-03T09:24:46.036Z"
   },
   {
    "duration": 10,
    "start_time": "2023-12-03T09:24:46.287Z"
   },
   {
    "duration": 112,
    "start_time": "2023-12-03T09:24:46.299Z"
   },
   {
    "duration": 158,
    "start_time": "2023-12-03T09:24:46.413Z"
   },
   {
    "duration": 172,
    "start_time": "2023-12-03T09:24:46.572Z"
   },
   {
    "duration": 153,
    "start_time": "2023-12-03T09:24:46.746Z"
   },
   {
    "duration": 281,
    "start_time": "2023-12-03T09:24:46.901Z"
   },
   {
    "duration": 2476,
    "start_time": "2023-12-03T09:24:47.184Z"
   },
   {
    "duration": 820,
    "start_time": "2023-12-03T09:24:49.662Z"
   },
   {
    "duration": 24,
    "start_time": "2023-12-03T09:24:50.484Z"
   },
   {
    "duration": 22,
    "start_time": "2023-12-03T09:24:50.510Z"
   },
   {
    "duration": 186,
    "start_time": "2023-12-03T09:24:50.534Z"
   },
   {
    "duration": 11,
    "start_time": "2023-12-03T09:30:08.051Z"
   },
   {
    "duration": 44,
    "start_time": "2023-12-03T09:30:14.516Z"
   },
   {
    "duration": 51,
    "start_time": "2023-12-03T09:30:44.843Z"
   },
   {
    "duration": 58,
    "start_time": "2023-12-03T09:34:01.535Z"
   },
   {
    "duration": 86,
    "start_time": "2023-12-03T09:37:23.174Z"
   },
   {
    "duration": 85,
    "start_time": "2023-12-03T09:39:15.501Z"
   },
   {
    "duration": 13,
    "start_time": "2023-12-03T09:39:23.639Z"
   },
   {
    "duration": 12,
    "start_time": "2023-12-03T09:40:57.603Z"
   },
   {
    "duration": 23,
    "start_time": "2023-12-03T09:41:14.019Z"
   },
   {
    "duration": 20,
    "start_time": "2023-12-03T09:41:36.831Z"
   },
   {
    "duration": 27,
    "start_time": "2023-12-03T09:42:38.159Z"
   },
   {
    "duration": 28,
    "start_time": "2023-12-03T09:44:46.877Z"
   },
   {
    "duration": 39,
    "start_time": "2023-12-03T09:45:05.057Z"
   },
   {
    "duration": 13,
    "start_time": "2023-12-03T09:58:24.088Z"
   },
   {
    "duration": 8,
    "start_time": "2023-12-03T09:58:40.295Z"
   },
   {
    "duration": 9,
    "start_time": "2023-12-03T09:59:12.295Z"
   },
   {
    "duration": 7,
    "start_time": "2023-12-03T10:01:01.753Z"
   },
   {
    "duration": 5,
    "start_time": "2023-12-03T10:01:46.562Z"
   },
   {
    "duration": 9,
    "start_time": "2023-12-03T10:01:58.475Z"
   },
   {
    "duration": 49,
    "start_time": "2023-12-03T10:02:32.207Z"
   },
   {
    "duration": 518,
    "start_time": "2023-12-03T10:03:12.282Z"
   },
   {
    "duration": 46,
    "start_time": "2023-12-03T10:03:12.802Z"
   },
   {
    "duration": 2237,
    "start_time": "2023-12-03T10:03:12.850Z"
   },
   {
    "duration": 10,
    "start_time": "2023-12-03T10:03:15.090Z"
   },
   {
    "duration": 18,
    "start_time": "2023-12-03T10:03:15.101Z"
   },
   {
    "duration": 248,
    "start_time": "2023-12-03T10:03:15.120Z"
   },
   {
    "duration": 29,
    "start_time": "2023-12-03T10:03:15.370Z"
   },
   {
    "duration": 41,
    "start_time": "2023-12-03T10:03:15.400Z"
   },
   {
    "duration": 28,
    "start_time": "2023-12-03T10:03:15.443Z"
   },
   {
    "duration": 11,
    "start_time": "2023-12-03T10:03:15.475Z"
   },
   {
    "duration": 40,
    "start_time": "2023-12-03T10:03:15.488Z"
   },
   {
    "duration": 35,
    "start_time": "2023-12-03T10:03:15.530Z"
   },
   {
    "duration": 15,
    "start_time": "2023-12-03T10:03:15.567Z"
   },
   {
    "duration": 8,
    "start_time": "2023-12-03T10:03:15.584Z"
   },
   {
    "duration": 21,
    "start_time": "2023-12-03T10:03:15.593Z"
   },
   {
    "duration": 55,
    "start_time": "2023-12-03T10:03:15.616Z"
   },
   {
    "duration": 5,
    "start_time": "2023-12-03T10:03:15.673Z"
   },
   {
    "duration": 6,
    "start_time": "2023-12-03T10:03:15.680Z"
   },
   {
    "duration": 8,
    "start_time": "2023-12-03T10:03:15.688Z"
   },
   {
    "duration": 427,
    "start_time": "2023-12-03T10:03:15.698Z"
   },
   {
    "duration": 0,
    "start_time": "2023-12-03T10:03:16.127Z"
   },
   {
    "duration": 0,
    "start_time": "2023-12-03T10:03:16.128Z"
   },
   {
    "duration": 0,
    "start_time": "2023-12-03T10:03:16.129Z"
   },
   {
    "duration": 0,
    "start_time": "2023-12-03T10:03:16.130Z"
   },
   {
    "duration": 0,
    "start_time": "2023-12-03T10:03:16.131Z"
   },
   {
    "duration": 0,
    "start_time": "2023-12-03T10:03:16.132Z"
   },
   {
    "duration": 0,
    "start_time": "2023-12-03T10:03:16.133Z"
   },
   {
    "duration": 0,
    "start_time": "2023-12-03T10:03:16.135Z"
   },
   {
    "duration": 0,
    "start_time": "2023-12-03T10:03:16.136Z"
   },
   {
    "duration": 0,
    "start_time": "2023-12-03T10:03:16.137Z"
   },
   {
    "duration": 0,
    "start_time": "2023-12-03T10:03:16.138Z"
   },
   {
    "duration": 0,
    "start_time": "2023-12-03T10:03:16.139Z"
   },
   {
    "duration": 0,
    "start_time": "2023-12-03T10:03:16.139Z"
   },
   {
    "duration": 0,
    "start_time": "2023-12-03T10:03:16.141Z"
   },
   {
    "duration": 0,
    "start_time": "2023-12-03T10:03:16.166Z"
   },
   {
    "duration": 0,
    "start_time": "2023-12-03T10:03:16.167Z"
   },
   {
    "duration": 0,
    "start_time": "2023-12-03T10:03:16.168Z"
   },
   {
    "duration": 0,
    "start_time": "2023-12-03T10:03:16.169Z"
   },
   {
    "duration": 0,
    "start_time": "2023-12-03T10:03:16.170Z"
   },
   {
    "duration": 0,
    "start_time": "2023-12-03T10:03:16.171Z"
   },
   {
    "duration": 0,
    "start_time": "2023-12-03T10:03:16.172Z"
   },
   {
    "duration": 0,
    "start_time": "2023-12-03T10:03:16.173Z"
   },
   {
    "duration": 0,
    "start_time": "2023-12-03T10:03:16.174Z"
   },
   {
    "duration": 0,
    "start_time": "2023-12-03T10:03:16.175Z"
   },
   {
    "duration": 0,
    "start_time": "2023-12-03T10:03:16.176Z"
   },
   {
    "duration": 0,
    "start_time": "2023-12-03T10:03:16.177Z"
   },
   {
    "duration": 0,
    "start_time": "2023-12-03T10:03:16.178Z"
   },
   {
    "duration": 0,
    "start_time": "2023-12-03T10:03:16.179Z"
   },
   {
    "duration": 0,
    "start_time": "2023-12-03T10:03:16.180Z"
   },
   {
    "duration": 0,
    "start_time": "2023-12-03T10:03:16.181Z"
   },
   {
    "duration": 0,
    "start_time": "2023-12-03T10:03:16.182Z"
   },
   {
    "duration": 0,
    "start_time": "2023-12-03T10:03:16.183Z"
   },
   {
    "duration": 0,
    "start_time": "2023-12-03T10:03:16.184Z"
   },
   {
    "duration": 9,
    "start_time": "2023-12-03T10:05:55.714Z"
   },
   {
    "duration": 7,
    "start_time": "2023-12-03T10:06:14.949Z"
   },
   {
    "duration": 4,
    "start_time": "2023-12-03T10:06:52.813Z"
   },
   {
    "duration": 8,
    "start_time": "2023-12-03T10:07:10.727Z"
   },
   {
    "duration": 11,
    "start_time": "2023-12-03T10:08:10.755Z"
   },
   {
    "duration": 10,
    "start_time": "2023-12-03T10:08:18.606Z"
   },
   {
    "duration": 6,
    "start_time": "2023-12-03T10:08:53.289Z"
   },
   {
    "duration": 7,
    "start_time": "2023-12-03T10:09:07.612Z"
   },
   {
    "duration": 9,
    "start_time": "2023-12-03T10:09:18.382Z"
   },
   {
    "duration": 3,
    "start_time": "2023-12-03T10:09:48.449Z"
   },
   {
    "duration": 3,
    "start_time": "2023-12-03T10:09:52.457Z"
   },
   {
    "duration": 8,
    "start_time": "2023-12-03T10:09:54.991Z"
   },
   {
    "duration": 10,
    "start_time": "2023-12-03T10:10:29.863Z"
   },
   {
    "duration": 21,
    "start_time": "2023-12-03T10:11:23.117Z"
   },
   {
    "duration": 19,
    "start_time": "2023-12-03T10:11:34.707Z"
   },
   {
    "duration": 51,
    "start_time": "2023-12-03T10:11:43.414Z"
   },
   {
    "duration": 556,
    "start_time": "2023-12-03T11:39:52.808Z"
   },
   {
    "duration": 44,
    "start_time": "2023-12-03T11:39:53.366Z"
   },
   {
    "duration": 2281,
    "start_time": "2023-12-03T11:39:53.412Z"
   },
   {
    "duration": 10,
    "start_time": "2023-12-03T11:39:55.695Z"
   },
   {
    "duration": 19,
    "start_time": "2023-12-03T11:39:55.706Z"
   },
   {
    "duration": 229,
    "start_time": "2023-12-03T11:39:55.727Z"
   },
   {
    "duration": 34,
    "start_time": "2023-12-03T11:39:55.957Z"
   },
   {
    "duration": 29,
    "start_time": "2023-12-03T11:39:55.992Z"
   },
   {
    "duration": 7,
    "start_time": "2023-12-03T11:39:56.023Z"
   },
   {
    "duration": 10,
    "start_time": "2023-12-03T11:39:56.032Z"
   },
   {
    "duration": 49,
    "start_time": "2023-12-03T11:39:56.043Z"
   },
   {
    "duration": 9,
    "start_time": "2023-12-03T11:39:56.093Z"
   },
   {
    "duration": 15,
    "start_time": "2023-12-03T11:39:56.104Z"
   },
   {
    "duration": 19,
    "start_time": "2023-12-03T11:39:56.120Z"
   },
   {
    "duration": 18,
    "start_time": "2023-12-03T11:39:56.140Z"
   },
   {
    "duration": 33,
    "start_time": "2023-12-03T11:39:56.172Z"
   },
   {
    "duration": 50,
    "start_time": "2023-12-03T11:39:56.206Z"
   },
   {
    "duration": 15,
    "start_time": "2023-12-03T11:39:56.258Z"
   },
   {
    "duration": 13,
    "start_time": "2023-12-03T11:39:56.274Z"
   },
   {
    "duration": 392,
    "start_time": "2023-12-03T11:39:56.288Z"
   },
   {
    "duration": 0,
    "start_time": "2023-12-03T11:39:56.683Z"
   },
   {
    "duration": 0,
    "start_time": "2023-12-03T11:39:56.685Z"
   },
   {
    "duration": 0,
    "start_time": "2023-12-03T11:39:56.687Z"
   },
   {
    "duration": 0,
    "start_time": "2023-12-03T11:39:56.688Z"
   },
   {
    "duration": 0,
    "start_time": "2023-12-03T11:39:56.690Z"
   },
   {
    "duration": 0,
    "start_time": "2023-12-03T11:39:56.691Z"
   },
   {
    "duration": 0,
    "start_time": "2023-12-03T11:39:56.692Z"
   },
   {
    "duration": 0,
    "start_time": "2023-12-03T11:39:56.693Z"
   },
   {
    "duration": 0,
    "start_time": "2023-12-03T11:39:56.694Z"
   },
   {
    "duration": 0,
    "start_time": "2023-12-03T11:39:56.695Z"
   },
   {
    "duration": 0,
    "start_time": "2023-12-03T11:39:56.697Z"
   },
   {
    "duration": 0,
    "start_time": "2023-12-03T11:39:56.698Z"
   },
   {
    "duration": 0,
    "start_time": "2023-12-03T11:39:56.699Z"
   },
   {
    "duration": 0,
    "start_time": "2023-12-03T11:39:56.700Z"
   },
   {
    "duration": 0,
    "start_time": "2023-12-03T11:39:56.702Z"
   },
   {
    "duration": 0,
    "start_time": "2023-12-03T11:39:56.703Z"
   },
   {
    "duration": 0,
    "start_time": "2023-12-03T11:39:56.704Z"
   },
   {
    "duration": 0,
    "start_time": "2023-12-03T11:39:56.705Z"
   },
   {
    "duration": 0,
    "start_time": "2023-12-03T11:39:56.706Z"
   },
   {
    "duration": 0,
    "start_time": "2023-12-03T11:39:56.707Z"
   },
   {
    "duration": 0,
    "start_time": "2023-12-03T11:39:56.709Z"
   },
   {
    "duration": 0,
    "start_time": "2023-12-03T11:39:56.710Z"
   },
   {
    "duration": 0,
    "start_time": "2023-12-03T11:39:56.711Z"
   },
   {
    "duration": 0,
    "start_time": "2023-12-03T11:39:56.712Z"
   },
   {
    "duration": 0,
    "start_time": "2023-12-03T11:39:56.712Z"
   },
   {
    "duration": 0,
    "start_time": "2023-12-03T11:39:56.714Z"
   },
   {
    "duration": 0,
    "start_time": "2023-12-03T11:39:56.716Z"
   },
   {
    "duration": 0,
    "start_time": "2023-12-03T11:39:56.717Z"
   },
   {
    "duration": 0,
    "start_time": "2023-12-03T11:39:56.718Z"
   },
   {
    "duration": 0,
    "start_time": "2023-12-03T11:39:56.773Z"
   },
   {
    "duration": 0,
    "start_time": "2023-12-03T11:39:56.774Z"
   },
   {
    "duration": 0,
    "start_time": "2023-12-03T11:39:56.775Z"
   },
   {
    "duration": 0,
    "start_time": "2023-12-03T11:39:56.776Z"
   },
   {
    "duration": 9,
    "start_time": "2023-12-03T11:41:39.445Z"
   },
   {
    "duration": 52,
    "start_time": "2023-12-03T11:41:52.289Z"
   },
   {
    "duration": 25,
    "start_time": "2023-12-03T11:42:24.487Z"
   },
   {
    "duration": 54,
    "start_time": "2023-12-03T11:44:52.102Z"
   },
   {
    "duration": 17,
    "start_time": "2023-12-03T11:45:24.378Z"
   },
   {
    "duration": 16,
    "start_time": "2023-12-03T11:46:45.520Z"
   },
   {
    "duration": 15,
    "start_time": "2023-12-03T11:47:40.864Z"
   },
   {
    "duration": 13,
    "start_time": "2023-12-03T11:48:26.216Z"
   },
   {
    "duration": 1230,
    "start_time": "2023-12-03T11:51:27.768Z"
   },
   {
    "duration": 15,
    "start_time": "2023-12-03T11:52:13.990Z"
   },
   {
    "duration": 6,
    "start_time": "2023-12-03T11:53:56.356Z"
   },
   {
    "duration": 6,
    "start_time": "2023-12-03T11:54:41.830Z"
   },
   {
    "duration": 10,
    "start_time": "2023-12-03T11:55:01.615Z"
   },
   {
    "duration": 26,
    "start_time": "2023-12-03T11:55:51.626Z"
   },
   {
    "duration": 22,
    "start_time": "2023-12-03T11:56:10.574Z"
   },
   {
    "duration": 341,
    "start_time": "2023-12-03T11:56:18.015Z"
   },
   {
    "duration": 26,
    "start_time": "2023-12-03T11:56:35.078Z"
   },
   {
    "duration": 61,
    "start_time": "2023-12-03T11:59:23.330Z"
   },
   {
    "duration": 65,
    "start_time": "2023-12-03T12:00:04.524Z"
   },
   {
    "duration": 32,
    "start_time": "2023-12-03T12:01:27.182Z"
   },
   {
    "duration": 28,
    "start_time": "2023-12-03T12:02:26.998Z"
   },
   {
    "duration": 31,
    "start_time": "2023-12-03T12:02:49.727Z"
   },
   {
    "duration": 409,
    "start_time": "2023-12-03T12:05:11.743Z"
   },
   {
    "duration": 34,
    "start_time": "2023-12-03T12:06:04.452Z"
   },
   {
    "duration": 396,
    "start_time": "2023-12-03T12:11:32.194Z"
   },
   {
    "duration": 7,
    "start_time": "2023-12-03T12:14:49.738Z"
   },
   {
    "duration": 77,
    "start_time": "2023-12-03T12:19:37.377Z"
   },
   {
    "duration": 8,
    "start_time": "2023-12-03T12:19:45.692Z"
   },
   {
    "duration": 9,
    "start_time": "2023-12-03T12:20:42.825Z"
   },
   {
    "duration": 8,
    "start_time": "2023-12-03T12:20:58.690Z"
   },
   {
    "duration": 9,
    "start_time": "2023-12-03T12:21:35.833Z"
   },
   {
    "duration": 11,
    "start_time": "2023-12-03T12:21:59.364Z"
   },
   {
    "duration": 9,
    "start_time": "2023-12-03T12:22:17.339Z"
   },
   {
    "duration": 9,
    "start_time": "2023-12-03T12:22:47.482Z"
   },
   {
    "duration": 10,
    "start_time": "2023-12-03T12:23:25.670Z"
   },
   {
    "duration": 8,
    "start_time": "2023-12-03T12:25:16.182Z"
   },
   {
    "duration": 8,
    "start_time": "2023-12-03T12:25:52.064Z"
   },
   {
    "duration": 8,
    "start_time": "2023-12-03T12:27:21.148Z"
   },
   {
    "duration": 8,
    "start_time": "2023-12-03T12:27:31.284Z"
   },
   {
    "duration": 11,
    "start_time": "2023-12-03T12:27:38.611Z"
   },
   {
    "duration": 8,
    "start_time": "2023-12-03T12:27:50.630Z"
   },
   {
    "duration": 8,
    "start_time": "2023-12-03T12:31:42.713Z"
   },
   {
    "duration": 8,
    "start_time": "2023-12-03T12:32:06.154Z"
   },
   {
    "duration": 7,
    "start_time": "2023-12-03T12:32:43.419Z"
   },
   {
    "duration": 8,
    "start_time": "2023-12-03T12:32:45.888Z"
   },
   {
    "duration": 257,
    "start_time": "2023-12-03T12:38:00.033Z"
   },
   {
    "duration": 13,
    "start_time": "2023-12-03T12:38:22.779Z"
   },
   {
    "duration": 229,
    "start_time": "2023-12-03T12:38:45.094Z"
   },
   {
    "duration": 22,
    "start_time": "2023-12-03T12:39:22.463Z"
   },
   {
    "duration": 1277,
    "start_time": "2023-12-03T12:40:12.558Z"
   },
   {
    "duration": 452,
    "start_time": "2023-12-03T12:40:17.444Z"
   },
   {
    "duration": 532,
    "start_time": "2023-12-03T12:40:23.471Z"
   },
   {
    "duration": 421,
    "start_time": "2023-12-03T12:40:35.254Z"
   },
   {
    "duration": 3890,
    "start_time": "2023-12-03T12:40:41.258Z"
   },
   {
    "duration": 1446,
    "start_time": "2023-12-03T12:40:53.000Z"
   },
   {
    "duration": 860,
    "start_time": "2023-12-03T12:41:05.248Z"
   },
   {
    "duration": 665,
    "start_time": "2023-12-03T12:41:21.767Z"
   },
   {
    "duration": 489,
    "start_time": "2023-12-03T12:41:27.341Z"
   },
   {
    "duration": 426,
    "start_time": "2023-12-03T12:41:40.329Z"
   },
   {
    "duration": 682,
    "start_time": "2023-12-03T12:41:45.794Z"
   },
   {
    "duration": 1216,
    "start_time": "2023-12-03T12:41:57.849Z"
   },
   {
    "duration": 765,
    "start_time": "2023-12-03T12:42:07.979Z"
   },
   {
    "duration": 227,
    "start_time": "2023-12-03T12:42:19.167Z"
   },
   {
    "duration": 1285,
    "start_time": "2023-12-03T12:43:12.319Z"
   },
   {
    "duration": 444,
    "start_time": "2023-12-03T12:43:20.134Z"
   },
   {
    "duration": 338,
    "start_time": "2023-12-03T12:43:25.313Z"
   },
   {
    "duration": 239,
    "start_time": "2023-12-03T12:43:32.371Z"
   },
   {
    "duration": 158,
    "start_time": "2023-12-03T12:43:48.567Z"
   },
   {
    "duration": 535,
    "start_time": "2023-12-03T12:44:19.930Z"
   },
   {
    "duration": 526,
    "start_time": "2023-12-03T14:49:37.230Z"
   },
   {
    "duration": 56,
    "start_time": "2023-12-03T14:49:37.757Z"
   },
   {
    "duration": 2259,
    "start_time": "2023-12-03T14:49:37.814Z"
   },
   {
    "duration": 18,
    "start_time": "2023-12-03T14:49:40.076Z"
   },
   {
    "duration": 8,
    "start_time": "2023-12-03T14:49:40.096Z"
   },
   {
    "duration": 241,
    "start_time": "2023-12-03T14:49:40.106Z"
   },
   {
    "duration": 43,
    "start_time": "2023-12-03T14:49:40.348Z"
   },
   {
    "duration": 28,
    "start_time": "2023-12-03T14:49:40.393Z"
   },
   {
    "duration": 7,
    "start_time": "2023-12-03T14:49:40.423Z"
   },
   {
    "duration": 7,
    "start_time": "2023-12-03T14:49:40.432Z"
   },
   {
    "duration": 64,
    "start_time": "2023-12-03T14:49:40.440Z"
   },
   {
    "duration": 7,
    "start_time": "2023-12-03T14:49:40.506Z"
   },
   {
    "duration": 14,
    "start_time": "2023-12-03T14:49:40.515Z"
   },
   {
    "duration": 8,
    "start_time": "2023-12-03T14:49:40.530Z"
   },
   {
    "duration": 37,
    "start_time": "2023-12-03T14:49:40.540Z"
   },
   {
    "duration": 38,
    "start_time": "2023-12-03T14:49:40.580Z"
   },
   {
    "duration": 71,
    "start_time": "2023-12-03T14:49:40.620Z"
   },
   {
    "duration": 38,
    "start_time": "2023-12-03T14:49:40.693Z"
   },
   {
    "duration": 7,
    "start_time": "2023-12-03T14:49:40.733Z"
   },
   {
    "duration": 5,
    "start_time": "2023-12-03T14:49:40.742Z"
   },
   {
    "duration": 25,
    "start_time": "2023-12-03T14:49:40.749Z"
   },
   {
    "duration": 12,
    "start_time": "2023-12-03T14:49:40.775Z"
   },
   {
    "duration": 256,
    "start_time": "2023-12-03T14:49:40.790Z"
   },
   {
    "duration": 35,
    "start_time": "2023-12-03T14:49:41.048Z"
   },
   {
    "duration": 309,
    "start_time": "2023-12-03T14:49:41.085Z"
   },
   {
    "duration": 0,
    "start_time": "2023-12-03T14:49:41.396Z"
   },
   {
    "duration": 0,
    "start_time": "2023-12-03T14:49:41.397Z"
   },
   {
    "duration": 0,
    "start_time": "2023-12-03T14:49:41.399Z"
   },
   {
    "duration": 0,
    "start_time": "2023-12-03T14:49:41.400Z"
   },
   {
    "duration": 0,
    "start_time": "2023-12-03T14:49:41.401Z"
   },
   {
    "duration": 1,
    "start_time": "2023-12-03T14:49:41.402Z"
   },
   {
    "duration": 0,
    "start_time": "2023-12-03T14:49:41.404Z"
   },
   {
    "duration": 0,
    "start_time": "2023-12-03T14:49:41.406Z"
   },
   {
    "duration": 0,
    "start_time": "2023-12-03T14:49:41.407Z"
   },
   {
    "duration": 1,
    "start_time": "2023-12-03T14:49:41.408Z"
   },
   {
    "duration": 0,
    "start_time": "2023-12-03T14:49:41.410Z"
   },
   {
    "duration": 0,
    "start_time": "2023-12-03T14:49:41.411Z"
   },
   {
    "duration": 0,
    "start_time": "2023-12-03T14:49:41.413Z"
   },
   {
    "duration": 0,
    "start_time": "2023-12-03T14:49:41.414Z"
   },
   {
    "duration": 0,
    "start_time": "2023-12-03T14:49:41.416Z"
   },
   {
    "duration": 0,
    "start_time": "2023-12-03T14:49:41.417Z"
   },
   {
    "duration": 0,
    "start_time": "2023-12-03T14:49:41.419Z"
   },
   {
    "duration": 0,
    "start_time": "2023-12-03T14:49:41.420Z"
   },
   {
    "duration": 0,
    "start_time": "2023-12-03T14:49:41.421Z"
   },
   {
    "duration": 0,
    "start_time": "2023-12-03T14:49:41.423Z"
   },
   {
    "duration": 0,
    "start_time": "2023-12-03T14:49:41.424Z"
   },
   {
    "duration": 0,
    "start_time": "2023-12-03T14:49:41.478Z"
   },
   {
    "duration": 0,
    "start_time": "2023-12-03T14:49:41.479Z"
   },
   {
    "duration": 0,
    "start_time": "2023-12-03T14:49:41.480Z"
   },
   {
    "duration": 0,
    "start_time": "2023-12-03T14:49:41.482Z"
   },
   {
    "duration": 0,
    "start_time": "2023-12-03T14:49:41.485Z"
   },
   {
    "duration": 0,
    "start_time": "2023-12-03T14:49:41.486Z"
   },
   {
    "duration": 0,
    "start_time": "2023-12-03T14:49:41.488Z"
   },
   {
    "duration": 0,
    "start_time": "2023-12-03T14:49:41.489Z"
   },
   {
    "duration": 0,
    "start_time": "2023-12-03T14:49:41.490Z"
   },
   {
    "duration": 0,
    "start_time": "2023-12-03T14:49:41.491Z"
   },
   {
    "duration": 0,
    "start_time": "2023-12-03T14:49:41.492Z"
   },
   {
    "duration": 341,
    "start_time": "2023-12-03T14:50:22.006Z"
   },
   {
    "duration": 7,
    "start_time": "2023-12-03T14:51:11.206Z"
   },
   {
    "duration": 7,
    "start_time": "2023-12-03T14:51:44.319Z"
   },
   {
    "duration": 250,
    "start_time": "2023-12-03T14:51:46.656Z"
   },
   {
    "duration": 7,
    "start_time": "2023-12-03T14:51:53.803Z"
   },
   {
    "duration": 8,
    "start_time": "2023-12-03T14:52:27.462Z"
   },
   {
    "duration": 7,
    "start_time": "2023-12-03T14:52:39.747Z"
   },
   {
    "duration": 7,
    "start_time": "2023-12-03T14:53:09.296Z"
   },
   {
    "duration": 6,
    "start_time": "2023-12-03T14:53:17.460Z"
   },
   {
    "duration": 495,
    "start_time": "2023-12-03T14:53:36.329Z"
   },
   {
    "duration": 43,
    "start_time": "2023-12-03T14:53:36.825Z"
   },
   {
    "duration": 2288,
    "start_time": "2023-12-03T14:53:36.869Z"
   },
   {
    "duration": 10,
    "start_time": "2023-12-03T14:53:39.159Z"
   },
   {
    "duration": 5,
    "start_time": "2023-12-03T14:53:39.170Z"
   },
   {
    "duration": 239,
    "start_time": "2023-12-03T14:53:39.177Z"
   },
   {
    "duration": 72,
    "start_time": "2023-12-03T14:53:39.417Z"
   },
   {
    "duration": 28,
    "start_time": "2023-12-03T14:53:39.490Z"
   },
   {
    "duration": 59,
    "start_time": "2023-12-03T14:53:39.520Z"
   },
   {
    "duration": 9,
    "start_time": "2023-12-03T14:53:39.584Z"
   },
   {
    "duration": 82,
    "start_time": "2023-12-03T14:53:39.595Z"
   },
   {
    "duration": 14,
    "start_time": "2023-12-03T14:53:39.679Z"
   },
   {
    "duration": 17,
    "start_time": "2023-12-03T14:53:39.694Z"
   },
   {
    "duration": 61,
    "start_time": "2023-12-03T14:53:39.713Z"
   },
   {
    "duration": 25,
    "start_time": "2023-12-03T14:53:39.777Z"
   },
   {
    "duration": 102,
    "start_time": "2023-12-03T14:53:39.803Z"
   },
   {
    "duration": 111,
    "start_time": "2023-12-03T14:53:39.907Z"
   },
   {
    "duration": 96,
    "start_time": "2023-12-03T14:53:40.020Z"
   },
   {
    "duration": 69,
    "start_time": "2023-12-03T14:53:40.118Z"
   },
   {
    "duration": 6,
    "start_time": "2023-12-03T14:53:40.189Z"
   },
   {
    "duration": 6,
    "start_time": "2023-12-03T14:53:40.197Z"
   },
   {
    "duration": 11,
    "start_time": "2023-12-03T14:53:40.205Z"
   },
   {
    "duration": 597,
    "start_time": "2023-12-03T14:53:40.218Z"
   },
   {
    "duration": 77,
    "start_time": "2023-12-03T14:53:40.817Z"
   },
   {
    "duration": 383,
    "start_time": "2023-12-03T14:53:40.895Z"
   },
   {
    "duration": 329,
    "start_time": "2023-12-03T14:53:41.280Z"
   },
   {
    "duration": 263,
    "start_time": "2023-12-03T14:53:41.610Z"
   },
   {
    "duration": 199,
    "start_time": "2023-12-03T14:53:41.879Z"
   },
   {
    "duration": 181,
    "start_time": "2023-12-03T14:53:42.080Z"
   },
   {
    "duration": 152,
    "start_time": "2023-12-03T14:53:42.262Z"
   },
   {
    "duration": 145,
    "start_time": "2023-12-03T14:53:42.415Z"
   },
   {
    "duration": 165,
    "start_time": "2023-12-03T14:53:42.561Z"
   },
   {
    "duration": 167,
    "start_time": "2023-12-03T14:53:42.728Z"
   },
   {
    "duration": 13,
    "start_time": "2023-12-03T14:53:42.897Z"
   },
   {
    "duration": 64,
    "start_time": "2023-12-03T14:53:42.912Z"
   },
   {
    "duration": 150,
    "start_time": "2023-12-03T14:53:42.978Z"
   },
   {
    "duration": 8,
    "start_time": "2023-12-03T14:53:43.130Z"
   },
   {
    "duration": 417,
    "start_time": "2023-12-03T14:53:43.139Z"
   },
   {
    "duration": 311,
    "start_time": "2023-12-03T14:53:43.557Z"
   },
   {
    "duration": 145,
    "start_time": "2023-12-03T14:53:43.869Z"
   },
   {
    "duration": 161,
    "start_time": "2023-12-03T14:53:44.016Z"
   },
   {
    "duration": 18,
    "start_time": "2023-12-03T14:53:44.179Z"
   },
   {
    "duration": 192,
    "start_time": "2023-12-03T14:53:44.198Z"
   },
   {
    "duration": 723,
    "start_time": "2023-12-03T14:53:44.392Z"
   },
   {
    "duration": 8,
    "start_time": "2023-12-03T14:53:45.116Z"
   },
   {
    "duration": 334,
    "start_time": "2023-12-03T14:53:45.125Z"
   },
   {
    "duration": 15,
    "start_time": "2023-12-03T14:53:45.461Z"
   },
   {
    "duration": 79,
    "start_time": "2023-12-03T14:53:45.479Z"
   },
   {
    "duration": 142,
    "start_time": "2023-12-03T14:53:45.572Z"
   },
   {
    "duration": 170,
    "start_time": "2023-12-03T14:53:45.715Z"
   },
   {
    "duration": 151,
    "start_time": "2023-12-03T14:53:45.887Z"
   },
   {
    "duration": 152,
    "start_time": "2023-12-03T14:53:46.039Z"
   },
   {
    "duration": 156,
    "start_time": "2023-12-03T14:53:46.193Z"
   },
   {
    "duration": 446,
    "start_time": "2023-12-03T14:53:46.350Z"
   },
   {
    "duration": 21,
    "start_time": "2023-12-03T14:53:46.798Z"
   },
   {
    "duration": 3,
    "start_time": "2023-12-03T14:53:46.821Z"
   },
   {
    "duration": 213,
    "start_time": "2023-12-03T14:53:46.825Z"
   },
   {
    "duration": 553,
    "start_time": "2023-12-03T14:55:19.165Z"
   },
   {
    "duration": 40,
    "start_time": "2023-12-03T14:55:19.720Z"
   },
   {
    "duration": 2204,
    "start_time": "2023-12-03T14:55:19.761Z"
   },
   {
    "duration": 13,
    "start_time": "2023-12-03T14:55:21.967Z"
   },
   {
    "duration": 6,
    "start_time": "2023-12-03T14:55:21.982Z"
   },
   {
    "duration": 258,
    "start_time": "2023-12-03T14:55:21.989Z"
   },
   {
    "duration": 38,
    "start_time": "2023-12-03T14:55:22.249Z"
   },
   {
    "duration": 29,
    "start_time": "2023-12-03T14:55:22.288Z"
   },
   {
    "duration": 7,
    "start_time": "2023-12-03T14:55:22.318Z"
   },
   {
    "duration": 9,
    "start_time": "2023-12-03T14:55:22.328Z"
   },
   {
    "duration": 52,
    "start_time": "2023-12-03T14:55:22.338Z"
   },
   {
    "duration": 6,
    "start_time": "2023-12-03T14:55:22.391Z"
   },
   {
    "duration": 22,
    "start_time": "2023-12-03T14:55:22.398Z"
   },
   {
    "duration": 7,
    "start_time": "2023-12-03T14:55:22.422Z"
   },
   {
    "duration": 18,
    "start_time": "2023-12-03T14:55:22.430Z"
   },
   {
    "duration": 60,
    "start_time": "2023-12-03T14:55:22.449Z"
   },
   {
    "duration": 64,
    "start_time": "2023-12-03T14:55:22.510Z"
   },
   {
    "duration": 36,
    "start_time": "2023-12-03T14:55:22.576Z"
   },
   {
    "duration": 7,
    "start_time": "2023-12-03T14:55:22.614Z"
   },
   {
    "duration": 11,
    "start_time": "2023-12-03T14:55:22.622Z"
   },
   {
    "duration": 9,
    "start_time": "2023-12-03T14:55:22.634Z"
   },
   {
    "duration": 34,
    "start_time": "2023-12-03T14:55:22.644Z"
   },
   {
    "duration": 247,
    "start_time": "2023-12-03T14:55:22.680Z"
   },
   {
    "duration": 23,
    "start_time": "2023-12-03T14:55:22.928Z"
   },
   {
    "duration": 254,
    "start_time": "2023-12-03T14:55:22.953Z"
   },
   {
    "duration": 364,
    "start_time": "2023-12-03T14:55:23.208Z"
   },
   {
    "duration": 266,
    "start_time": "2023-12-03T14:55:23.574Z"
   },
   {
    "duration": 187,
    "start_time": "2023-12-03T14:55:23.845Z"
   },
   {
    "duration": 195,
    "start_time": "2023-12-03T14:55:24.034Z"
   },
   {
    "duration": 143,
    "start_time": "2023-12-03T14:55:24.230Z"
   },
   {
    "duration": 157,
    "start_time": "2023-12-03T14:55:24.375Z"
   },
   {
    "duration": 165,
    "start_time": "2023-12-03T14:55:24.534Z"
   },
   {
    "duration": 183,
    "start_time": "2023-12-03T14:55:24.701Z"
   },
   {
    "duration": 14,
    "start_time": "2023-12-03T14:55:24.886Z"
   },
   {
    "duration": 51,
    "start_time": "2023-12-03T14:55:24.902Z"
   },
   {
    "duration": 180,
    "start_time": "2023-12-03T14:55:24.954Z"
   },
   {
    "duration": 7,
    "start_time": "2023-12-03T14:55:25.135Z"
   },
   {
    "duration": 389,
    "start_time": "2023-12-03T14:55:25.144Z"
   },
   {
    "duration": 293,
    "start_time": "2023-12-03T14:55:25.534Z"
   },
   {
    "duration": 135,
    "start_time": "2023-12-03T14:55:25.828Z"
   },
   {
    "duration": 148,
    "start_time": "2023-12-03T14:55:25.965Z"
   },
   {
    "duration": 14,
    "start_time": "2023-12-03T14:55:26.114Z"
   },
   {
    "duration": 180,
    "start_time": "2023-12-03T14:55:26.129Z"
   },
   {
    "duration": 697,
    "start_time": "2023-12-03T14:55:26.310Z"
   },
   {
    "duration": 9,
    "start_time": "2023-12-03T14:55:27.009Z"
   },
   {
    "duration": 339,
    "start_time": "2023-12-03T14:55:27.019Z"
   },
   {
    "duration": 17,
    "start_time": "2023-12-03T14:55:27.360Z"
   },
   {
    "duration": 94,
    "start_time": "2023-12-03T14:55:27.379Z"
   },
   {
    "duration": 146,
    "start_time": "2023-12-03T14:55:27.474Z"
   },
   {
    "duration": 164,
    "start_time": "2023-12-03T14:55:27.622Z"
   },
   {
    "duration": 152,
    "start_time": "2023-12-03T14:55:27.788Z"
   },
   {
    "duration": 160,
    "start_time": "2023-12-03T14:55:27.942Z"
   },
   {
    "duration": 154,
    "start_time": "2023-12-03T14:55:28.104Z"
   },
   {
    "duration": 445,
    "start_time": "2023-12-03T14:55:28.259Z"
   },
   {
    "duration": 23,
    "start_time": "2023-12-03T14:55:28.706Z"
   },
   {
    "duration": 4,
    "start_time": "2023-12-03T14:55:28.730Z"
   },
   {
    "duration": 184,
    "start_time": "2023-12-03T14:55:28.736Z"
   },
   {
    "duration": 174,
    "start_time": "2023-12-03T14:57:11.339Z"
   },
   {
    "duration": 520,
    "start_time": "2023-12-03T15:00:36.315Z"
   },
   {
    "duration": 50,
    "start_time": "2023-12-03T15:00:36.837Z"
   },
   {
    "duration": 2244,
    "start_time": "2023-12-03T15:00:36.889Z"
   },
   {
    "duration": 11,
    "start_time": "2023-12-03T15:00:39.136Z"
   },
   {
    "duration": 4,
    "start_time": "2023-12-03T15:00:39.149Z"
   },
   {
    "duration": 237,
    "start_time": "2023-12-03T15:00:39.154Z"
   },
   {
    "duration": 28,
    "start_time": "2023-12-03T15:00:39.393Z"
   },
   {
    "duration": 29,
    "start_time": "2023-12-03T15:00:39.423Z"
   },
   {
    "duration": 27,
    "start_time": "2023-12-03T15:00:39.453Z"
   },
   {
    "duration": 7,
    "start_time": "2023-12-03T15:00:39.483Z"
   },
   {
    "duration": 28,
    "start_time": "2023-12-03T15:00:39.492Z"
   },
   {
    "duration": 5,
    "start_time": "2023-12-03T15:00:39.522Z"
   },
   {
    "duration": 13,
    "start_time": "2023-12-03T15:00:39.529Z"
   },
   {
    "duration": 36,
    "start_time": "2023-12-03T15:00:39.543Z"
   },
   {
    "duration": 23,
    "start_time": "2023-12-03T15:00:39.580Z"
   },
   {
    "duration": 35,
    "start_time": "2023-12-03T15:00:39.605Z"
   },
   {
    "duration": 91,
    "start_time": "2023-12-03T15:00:39.642Z"
   },
   {
    "duration": 39,
    "start_time": "2023-12-03T15:00:39.735Z"
   },
   {
    "duration": 12,
    "start_time": "2023-12-03T15:00:39.777Z"
   },
   {
    "duration": 6,
    "start_time": "2023-12-03T15:00:39.790Z"
   },
   {
    "duration": 6,
    "start_time": "2023-12-03T15:00:39.798Z"
   },
   {
    "duration": 12,
    "start_time": "2023-12-03T15:00:39.805Z"
   },
   {
    "duration": 293,
    "start_time": "2023-12-03T15:00:39.818Z"
   },
   {
    "duration": 23,
    "start_time": "2023-12-03T15:00:40.114Z"
   },
   {
    "duration": 250,
    "start_time": "2023-12-03T15:00:40.139Z"
   },
   {
    "duration": 324,
    "start_time": "2023-12-03T15:00:40.391Z"
   },
   {
    "duration": 283,
    "start_time": "2023-12-03T15:00:40.717Z"
   },
   {
    "duration": 537,
    "start_time": "2023-12-03T15:01:55.668Z"
   },
   {
    "duration": 43,
    "start_time": "2023-12-03T15:01:56.206Z"
   },
   {
    "duration": 2202,
    "start_time": "2023-12-03T15:01:56.251Z"
   },
   {
    "duration": 10,
    "start_time": "2023-12-03T15:01:58.455Z"
   },
   {
    "duration": 7,
    "start_time": "2023-12-03T15:01:58.466Z"
   },
   {
    "duration": 250,
    "start_time": "2023-12-03T15:01:58.475Z"
   },
   {
    "duration": 29,
    "start_time": "2023-12-03T15:01:58.727Z"
   },
   {
    "duration": 43,
    "start_time": "2023-12-03T15:01:58.758Z"
   },
   {
    "duration": 7,
    "start_time": "2023-12-03T15:01:58.802Z"
   },
   {
    "duration": 14,
    "start_time": "2023-12-03T15:01:58.811Z"
   },
   {
    "duration": 38,
    "start_time": "2023-12-03T15:01:58.826Z"
   },
   {
    "duration": 8,
    "start_time": "2023-12-03T15:01:58.873Z"
   },
   {
    "duration": 30,
    "start_time": "2023-12-03T15:01:58.883Z"
   },
   {
    "duration": 13,
    "start_time": "2023-12-03T15:01:58.915Z"
   },
   {
    "duration": 19,
    "start_time": "2023-12-03T15:01:58.929Z"
   },
   {
    "duration": 55,
    "start_time": "2023-12-03T15:01:58.950Z"
   },
   {
    "duration": 50,
    "start_time": "2023-12-03T15:01:59.007Z"
   },
   {
    "duration": 50,
    "start_time": "2023-12-03T15:01:59.058Z"
   },
   {
    "duration": 7,
    "start_time": "2023-12-03T15:01:59.110Z"
   },
   {
    "duration": 5,
    "start_time": "2023-12-03T15:01:59.118Z"
   },
   {
    "duration": 8,
    "start_time": "2023-12-03T15:01:59.125Z"
   },
   {
    "duration": 40,
    "start_time": "2023-12-03T15:01:59.135Z"
   },
   {
    "duration": 255,
    "start_time": "2023-12-03T15:01:59.177Z"
   },
   {
    "duration": 21,
    "start_time": "2023-12-03T15:01:59.434Z"
   },
   {
    "duration": 248,
    "start_time": "2023-12-03T15:01:59.457Z"
   },
   {
    "duration": 322,
    "start_time": "2023-12-03T15:01:59.706Z"
   },
   {
    "duration": 269,
    "start_time": "2023-12-03T15:02:00.030Z"
   },
   {
    "duration": 788,
    "start_time": "2023-12-03T15:03:38.275Z"
   },
   {
    "duration": 54,
    "start_time": "2023-12-03T15:03:39.065Z"
   },
   {
    "duration": 1948,
    "start_time": "2023-12-03T15:03:39.121Z"
   },
   {
    "duration": 10,
    "start_time": "2023-12-03T15:03:41.071Z"
   },
   {
    "duration": 4,
    "start_time": "2023-12-03T15:03:41.082Z"
   },
   {
    "duration": 248,
    "start_time": "2023-12-03T15:03:41.087Z"
   },
   {
    "duration": 56,
    "start_time": "2023-12-03T15:03:41.337Z"
   },
   {
    "duration": 29,
    "start_time": "2023-12-03T15:03:41.395Z"
   },
   {
    "duration": 7,
    "start_time": "2023-12-03T15:03:41.425Z"
   },
   {
    "duration": 9,
    "start_time": "2023-12-03T15:03:41.435Z"
   },
   {
    "duration": 50,
    "start_time": "2023-12-03T15:03:41.445Z"
   },
   {
    "duration": 7,
    "start_time": "2023-12-03T15:03:41.496Z"
   },
   {
    "duration": 14,
    "start_time": "2023-12-03T15:03:41.504Z"
   },
   {
    "duration": 7,
    "start_time": "2023-12-03T15:03:41.519Z"
   },
   {
    "duration": 18,
    "start_time": "2023-12-03T15:03:41.527Z"
   },
   {
    "duration": 34,
    "start_time": "2023-12-03T15:03:41.580Z"
   },
   {
    "duration": 51,
    "start_time": "2023-12-03T15:03:41.615Z"
   },
   {
    "duration": 31,
    "start_time": "2023-12-03T15:03:41.673Z"
   },
   {
    "duration": 8,
    "start_time": "2023-12-03T15:03:41.705Z"
   },
   {
    "duration": 8,
    "start_time": "2023-12-03T15:03:41.714Z"
   },
   {
    "duration": 9,
    "start_time": "2023-12-03T15:03:41.723Z"
   },
   {
    "duration": 39,
    "start_time": "2023-12-03T15:03:41.734Z"
   },
   {
    "duration": 267,
    "start_time": "2023-12-03T15:03:41.775Z"
   },
   {
    "duration": 23,
    "start_time": "2023-12-03T15:03:42.043Z"
   },
   {
    "duration": 252,
    "start_time": "2023-12-03T15:03:42.067Z"
   },
   {
    "duration": 330,
    "start_time": "2023-12-03T15:03:42.320Z"
   },
   {
    "duration": 836,
    "start_time": "2023-12-03T15:06:44.385Z"
   },
   {
    "duration": 41,
    "start_time": "2023-12-03T15:06:46.527Z"
   },
   {
    "duration": 1983,
    "start_time": "2023-12-03T15:06:46.910Z"
   },
   {
    "duration": 9,
    "start_time": "2023-12-03T15:06:48.896Z"
   },
   {
    "duration": 5,
    "start_time": "2023-12-03T15:06:48.906Z"
   },
   {
    "duration": 229,
    "start_time": "2023-12-03T15:06:48.913Z"
   },
   {
    "duration": 43,
    "start_time": "2023-12-03T15:06:49.143Z"
   },
   {
    "duration": 35,
    "start_time": "2023-12-03T15:06:50.457Z"
   },
   {
    "duration": 7,
    "start_time": "2023-12-03T15:06:50.964Z"
   },
   {
    "duration": 9,
    "start_time": "2023-12-03T15:06:51.182Z"
   },
   {
    "duration": 30,
    "start_time": "2023-12-03T15:06:51.519Z"
   },
   {
    "duration": 7,
    "start_time": "2023-12-03T15:06:52.160Z"
   },
   {
    "duration": 14,
    "start_time": "2023-12-03T15:06:52.426Z"
   },
   {
    "duration": 7,
    "start_time": "2023-12-03T15:06:52.904Z"
   },
   {
    "duration": 25,
    "start_time": "2023-12-03T15:06:53.440Z"
   },
   {
    "duration": 36,
    "start_time": "2023-12-03T15:06:55.075Z"
   },
   {
    "duration": 65,
    "start_time": "2023-12-03T15:06:59.123Z"
   },
   {
    "duration": 32,
    "start_time": "2023-12-03T15:06:59.643Z"
   },
   {
    "duration": 9,
    "start_time": "2023-12-03T15:07:00.193Z"
   },
   {
    "duration": 6,
    "start_time": "2023-12-03T15:07:00.351Z"
   },
   {
    "duration": 7,
    "start_time": "2023-12-03T15:07:00.751Z"
   },
   {
    "duration": 12,
    "start_time": "2023-12-03T15:07:05.090Z"
   },
   {
    "duration": 264,
    "start_time": "2023-12-03T15:07:05.828Z"
   },
   {
    "duration": 23,
    "start_time": "2023-12-03T15:07:07.189Z"
   },
   {
    "duration": 236,
    "start_time": "2023-12-03T15:07:14.425Z"
   },
   {
    "duration": 312,
    "start_time": "2023-12-03T15:07:15.233Z"
   },
   {
    "duration": 259,
    "start_time": "2023-12-03T15:07:18.668Z"
   },
   {
    "duration": 827,
    "start_time": "2023-12-03T15:11:57.152Z"
   },
   {
    "duration": 40,
    "start_time": "2023-12-03T15:11:57.982Z"
   },
   {
    "duration": 2005,
    "start_time": "2023-12-03T15:11:58.024Z"
   },
   {
    "duration": 10,
    "start_time": "2023-12-03T15:12:00.031Z"
   },
   {
    "duration": 65,
    "start_time": "2023-12-03T15:12:00.042Z"
   },
   {
    "duration": 255,
    "start_time": "2023-12-03T15:12:00.108Z"
   },
   {
    "duration": 34,
    "start_time": "2023-12-03T15:12:01.786Z"
   },
   {
    "duration": 36,
    "start_time": "2023-12-03T15:12:02.398Z"
   },
   {
    "duration": 8,
    "start_time": "2023-12-03T15:12:02.940Z"
   },
   {
    "duration": 5,
    "start_time": "2023-12-03T15:12:03.209Z"
   },
   {
    "duration": 28,
    "start_time": "2023-12-03T15:12:03.570Z"
   },
   {
    "duration": 6,
    "start_time": "2023-12-03T15:12:04.227Z"
   },
   {
    "duration": 14,
    "start_time": "2023-12-03T15:12:04.496Z"
   },
   {
    "duration": 10,
    "start_time": "2023-12-03T15:12:04.966Z"
   },
   {
    "duration": 28,
    "start_time": "2023-12-03T15:12:05.564Z"
   },
   {
    "duration": 42,
    "start_time": "2023-12-03T15:12:05.946Z"
   },
   {
    "duration": 54,
    "start_time": "2023-12-03T15:12:06.422Z"
   },
   {
    "duration": 36,
    "start_time": "2023-12-03T15:12:07.044Z"
   },
   {
    "duration": 8,
    "start_time": "2023-12-03T15:12:07.690Z"
   },
   {
    "duration": 6,
    "start_time": "2023-12-03T15:12:07.935Z"
   },
   {
    "duration": 7,
    "start_time": "2023-12-03T15:12:08.255Z"
   },
   {
    "duration": 13,
    "start_time": "2023-12-03T15:12:08.799Z"
   },
   {
    "duration": 248,
    "start_time": "2023-12-03T15:12:09.035Z"
   },
   {
    "duration": 23,
    "start_time": "2023-12-03T15:12:09.285Z"
   },
   {
    "duration": 243,
    "start_time": "2023-12-03T15:12:10.248Z"
   },
   {
    "duration": 310,
    "start_time": "2023-12-03T15:12:10.493Z"
   },
   {
    "duration": 249,
    "start_time": "2023-12-03T15:12:10.805Z"
   },
   {
    "duration": 1008,
    "start_time": "2023-12-03T15:12:11.075Z"
   },
   {
    "duration": 0,
    "start_time": "2023-12-03T15:12:12.084Z"
   },
   {
    "duration": 0,
    "start_time": "2023-12-03T15:12:12.085Z"
   },
   {
    "duration": 0,
    "start_time": "2023-12-03T15:12:12.086Z"
   },
   {
    "duration": 158,
    "start_time": "2023-12-03T15:12:12.152Z"
   },
   {
    "duration": 162,
    "start_time": "2023-12-03T15:12:12.461Z"
   },
   {
    "duration": 816,
    "start_time": "2023-12-03T15:25:53.706Z"
   },
   {
    "duration": 40,
    "start_time": "2023-12-03T15:25:59.795Z"
   },
   {
    "duration": 1983,
    "start_time": "2023-12-03T15:26:01.326Z"
   },
   {
    "duration": 12,
    "start_time": "2023-12-03T15:26:10.192Z"
   },
   {
    "duration": 8,
    "start_time": "2023-12-03T15:26:10.388Z"
   },
   {
    "duration": 245,
    "start_time": "2023-12-03T15:26:10.532Z"
   },
   {
    "duration": 28,
    "start_time": "2023-12-03T15:26:10.840Z"
   },
   {
    "duration": 33,
    "start_time": "2023-12-03T15:26:11.385Z"
   },
   {
    "duration": 8,
    "start_time": "2023-12-03T15:26:11.832Z"
   },
   {
    "duration": 7,
    "start_time": "2023-12-03T15:26:12.063Z"
   },
   {
    "duration": 28,
    "start_time": "2023-12-03T15:26:12.338Z"
   },
   {
    "duration": 7,
    "start_time": "2023-12-03T15:26:12.867Z"
   },
   {
    "duration": 15,
    "start_time": "2023-12-03T15:26:13.082Z"
   },
   {
    "duration": 7,
    "start_time": "2023-12-03T15:26:13.424Z"
   },
   {
    "duration": 22,
    "start_time": "2023-12-03T15:26:13.956Z"
   },
   {
    "duration": 34,
    "start_time": "2023-12-03T15:26:14.305Z"
   },
   {
    "duration": 52,
    "start_time": "2023-12-03T15:26:14.832Z"
   },
   {
    "duration": 33,
    "start_time": "2023-12-03T15:26:15.274Z"
   },
   {
    "duration": 8,
    "start_time": "2023-12-03T15:26:15.810Z"
   },
   {
    "duration": 6,
    "start_time": "2023-12-03T15:26:15.977Z"
   },
   {
    "duration": 8,
    "start_time": "2023-12-03T15:26:16.293Z"
   },
   {
    "duration": 12,
    "start_time": "2023-12-03T15:26:16.837Z"
   },
   {
    "duration": 273,
    "start_time": "2023-12-03T15:26:17.026Z"
   },
   {
    "duration": 24,
    "start_time": "2023-12-03T15:26:17.302Z"
   },
   {
    "duration": 249,
    "start_time": "2023-12-03T15:26:18.401Z"
   },
   {
    "duration": 340,
    "start_time": "2023-12-03T15:26:18.652Z"
   },
   {
    "duration": 267,
    "start_time": "2023-12-03T15:26:18.994Z"
   },
   {
    "duration": 182,
    "start_time": "2023-12-03T15:26:19.263Z"
   },
   {
    "duration": 169,
    "start_time": "2023-12-03T15:26:19.602Z"
   },
   {
    "duration": 142,
    "start_time": "2023-12-03T15:26:19.978Z"
   },
   {
    "duration": 145,
    "start_time": "2023-12-03T15:26:20.404Z"
   },
   {
    "duration": 159,
    "start_time": "2023-12-03T15:26:20.813Z"
   },
   {
    "duration": 167,
    "start_time": "2023-12-03T15:26:21.051Z"
   },
   {
    "duration": 13,
    "start_time": "2023-12-03T15:26:22.517Z"
   },
   {
    "duration": 52,
    "start_time": "2023-12-03T15:26:22.667Z"
   },
   {
    "duration": 258,
    "start_time": "2023-12-03T15:26:23.565Z"
   },
   {
    "duration": 8,
    "start_time": "2023-12-03T15:26:23.824Z"
   },
   {
    "duration": 419,
    "start_time": "2023-12-03T15:26:24.092Z"
   },
   {
    "duration": 317,
    "start_time": "2023-12-03T15:26:24.513Z"
   },
   {
    "duration": 147,
    "start_time": "2023-12-03T15:26:24.831Z"
   },
   {
    "duration": 160,
    "start_time": "2023-12-03T15:26:24.980Z"
   },
   {
    "duration": 14,
    "start_time": "2023-12-03T15:26:26.418Z"
   },
   {
    "duration": 175,
    "start_time": "2023-12-03T15:26:27.917Z"
   },
   {
    "duration": 724,
    "start_time": "2023-12-03T15:26:28.094Z"
   },
   {
    "duration": 7,
    "start_time": "2023-12-03T15:26:28.820Z"
   },
   {
    "duration": 349,
    "start_time": "2023-12-03T15:26:28.829Z"
   },
   {
    "duration": 12,
    "start_time": "2023-12-03T15:26:29.181Z"
   },
   {
    "duration": 105,
    "start_time": "2023-12-03T15:26:29.194Z"
   },
   {
    "duration": 140,
    "start_time": "2023-12-03T15:26:33.159Z"
   },
   {
    "duration": 198,
    "start_time": "2023-12-03T15:26:33.302Z"
   },
   {
    "duration": 176,
    "start_time": "2023-12-03T15:26:33.502Z"
   },
   {
    "duration": 162,
    "start_time": "2023-12-03T15:26:33.969Z"
   },
   {
    "duration": 146,
    "start_time": "2023-12-03T15:26:34.208Z"
   },
   {
    "duration": 449,
    "start_time": "2023-12-03T15:26:34.600Z"
   },
   {
    "duration": 23,
    "start_time": "2023-12-03T15:26:35.532Z"
   },
   {
    "duration": 4,
    "start_time": "2023-12-03T15:26:36.707Z"
   },
   {
    "duration": 175,
    "start_time": "2023-12-03T15:26:36.913Z"
   },
   {
    "duration": 47,
    "start_time": "2023-12-03T15:34:41.921Z"
   },
   {
    "duration": 728,
    "start_time": "2023-12-03T15:34:56.197Z"
   },
   {
    "duration": 41,
    "start_time": "2023-12-03T15:34:56.927Z"
   },
   {
    "duration": 1948,
    "start_time": "2023-12-03T15:34:56.969Z"
   },
   {
    "duration": 11,
    "start_time": "2023-12-03T15:34:58.920Z"
   },
   {
    "duration": 5,
    "start_time": "2023-12-03T15:34:58.932Z"
   },
   {
    "duration": 242,
    "start_time": "2023-12-03T15:34:58.939Z"
   },
   {
    "duration": 30,
    "start_time": "2023-12-03T15:34:59.183Z"
   },
   {
    "duration": 30,
    "start_time": "2023-12-03T15:34:59.215Z"
   },
   {
    "duration": 29,
    "start_time": "2023-12-03T15:34:59.247Z"
   },
   {
    "duration": 17,
    "start_time": "2023-12-03T15:34:59.279Z"
   },
   {
    "duration": 28,
    "start_time": "2023-12-03T15:34:59.298Z"
   },
   {
    "duration": 6,
    "start_time": "2023-12-03T15:34:59.328Z"
   },
   {
    "duration": 25,
    "start_time": "2023-12-03T15:34:59.336Z"
   },
   {
    "duration": 8,
    "start_time": "2023-12-03T15:34:59.372Z"
   },
   {
    "duration": 25,
    "start_time": "2023-12-03T15:34:59.382Z"
   },
   {
    "duration": 35,
    "start_time": "2023-12-03T15:34:59.409Z"
   },
   {
    "duration": 74,
    "start_time": "2023-12-03T15:34:59.446Z"
   },
   {
    "duration": 31,
    "start_time": "2023-12-03T15:34:59.521Z"
   },
   {
    "duration": 21,
    "start_time": "2023-12-03T15:34:59.553Z"
   },
   {
    "duration": 7,
    "start_time": "2023-12-03T15:34:59.576Z"
   },
   {
    "duration": 7,
    "start_time": "2023-12-03T15:34:59.584Z"
   },
   {
    "duration": 29,
    "start_time": "2023-12-03T15:34:59.592Z"
   },
   {
    "duration": 248,
    "start_time": "2023-12-03T15:34:59.622Z"
   },
   {
    "duration": 22,
    "start_time": "2023-12-03T15:34:59.872Z"
   },
   {
    "duration": 266,
    "start_time": "2023-12-03T15:34:59.896Z"
   },
   {
    "duration": 309,
    "start_time": "2023-12-03T15:35:00.164Z"
   },
   {
    "duration": 260,
    "start_time": "2023-12-03T15:35:00.474Z"
   },
   {
    "duration": 45,
    "start_time": "2023-12-03T15:46:24.731Z"
   },
   {
    "duration": 6,
    "start_time": "2023-12-03T15:46:33.423Z"
   },
   {
    "duration": 5,
    "start_time": "2023-12-03T15:46:34.880Z"
   },
   {
    "duration": 5,
    "start_time": "2023-12-03T15:46:35.725Z"
   },
   {
    "duration": 806,
    "start_time": "2023-12-03T15:46:56.963Z"
   },
   {
    "duration": 39,
    "start_time": "2023-12-03T15:46:57.807Z"
   },
   {
    "duration": 1819,
    "start_time": "2023-12-03T15:46:58.258Z"
   },
   {
    "duration": 9,
    "start_time": "2023-12-03T15:47:00.079Z"
   },
   {
    "duration": 36,
    "start_time": "2023-12-03T15:47:00.089Z"
   },
   {
    "duration": 249,
    "start_time": "2023-12-03T15:47:00.127Z"
   },
   {
    "duration": 27,
    "start_time": "2023-12-03T15:47:00.378Z"
   },
   {
    "duration": 28,
    "start_time": "2023-12-03T15:47:00.407Z"
   },
   {
    "duration": 8,
    "start_time": "2023-12-03T15:47:00.825Z"
   },
   {
    "duration": 6,
    "start_time": "2023-12-03T15:47:01.038Z"
   },
   {
    "duration": 29,
    "start_time": "2023-12-03T15:47:01.436Z"
   },
   {
    "duration": 7,
    "start_time": "2023-12-03T15:47:01.961Z"
   },
   {
    "duration": 15,
    "start_time": "2023-12-03T15:47:02.126Z"
   },
   {
    "duration": 7,
    "start_time": "2023-12-03T15:47:02.930Z"
   },
   {
    "duration": 18,
    "start_time": "2023-12-03T15:47:03.644Z"
   },
   {
    "duration": 35,
    "start_time": "2023-12-03T15:47:04.095Z"
   },
   {
    "duration": 51,
    "start_time": "2023-12-03T15:47:04.755Z"
   },
   {
    "duration": 31,
    "start_time": "2023-12-03T15:47:05.226Z"
   },
   {
    "duration": 9,
    "start_time": "2023-12-03T15:47:05.731Z"
   },
   {
    "duration": 7,
    "start_time": "2023-12-03T15:47:05.890Z"
   },
   {
    "duration": 8,
    "start_time": "2023-12-03T15:47:06.306Z"
   },
   {
    "duration": 12,
    "start_time": "2023-12-03T15:47:07.180Z"
   },
   {
    "duration": 230,
    "start_time": "2023-12-03T15:47:07.511Z"
   },
   {
    "duration": 22,
    "start_time": "2023-12-03T15:47:07.751Z"
   },
   {
    "duration": 223,
    "start_time": "2023-12-03T15:47:09.174Z"
   },
   {
    "duration": 296,
    "start_time": "2023-12-03T15:47:09.399Z"
   },
   {
    "duration": 247,
    "start_time": "2023-12-03T15:47:09.696Z"
   },
   {
    "duration": 34,
    "start_time": "2023-12-03T15:47:10.686Z"
   },
   {
    "duration": 7,
    "start_time": "2023-12-03T15:47:24.320Z"
   },
   {
    "duration": 120,
    "start_time": "2023-12-03T15:47:33.909Z"
   },
   {
    "duration": 44,
    "start_time": "2023-12-03T15:54:57.641Z"
   },
   {
    "duration": 6,
    "start_time": "2023-12-03T15:54:58.986Z"
   },
   {
    "duration": 811,
    "start_time": "2023-12-03T15:58:35.152Z"
   },
   {
    "duration": 40,
    "start_time": "2023-12-03T15:58:37.398Z"
   },
   {
    "duration": 1853,
    "start_time": "2023-12-03T15:58:37.756Z"
   },
   {
    "duration": 10,
    "start_time": "2023-12-03T15:58:39.611Z"
   },
   {
    "duration": 12,
    "start_time": "2023-12-03T15:58:39.622Z"
   },
   {
    "duration": 219,
    "start_time": "2023-12-03T15:58:39.636Z"
   },
   {
    "duration": 37,
    "start_time": "2023-12-03T15:58:39.857Z"
   },
   {
    "duration": 31,
    "start_time": "2023-12-03T15:58:39.896Z"
   },
   {
    "duration": 8,
    "start_time": "2023-12-03T15:58:40.283Z"
   },
   {
    "duration": 6,
    "start_time": "2023-12-03T15:58:40.553Z"
   },
   {
    "duration": 27,
    "start_time": "2023-12-03T15:58:40.826Z"
   },
   {
    "duration": 6,
    "start_time": "2023-12-03T15:58:41.352Z"
   },
   {
    "duration": 14,
    "start_time": "2023-12-03T15:58:41.543Z"
   },
   {
    "duration": 7,
    "start_time": "2023-12-03T15:58:42.234Z"
   },
   {
    "duration": 19,
    "start_time": "2023-12-03T15:58:42.808Z"
   },
   {
    "duration": 33,
    "start_time": "2023-12-03T15:58:43.225Z"
   },
   {
    "duration": 53,
    "start_time": "2023-12-03T15:58:43.852Z"
   },
   {
    "duration": 30,
    "start_time": "2023-12-03T15:58:44.329Z"
   },
   {
    "duration": 7,
    "start_time": "2023-12-03T15:58:44.866Z"
   },
   {
    "duration": 6,
    "start_time": "2023-12-03T15:58:45.038Z"
   },
   {
    "duration": 8,
    "start_time": "2023-12-03T15:58:45.992Z"
   },
   {
    "duration": 12,
    "start_time": "2023-12-03T15:58:46.834Z"
   },
   {
    "duration": 245,
    "start_time": "2023-12-03T15:58:47.034Z"
   },
   {
    "duration": 22,
    "start_time": "2023-12-03T15:58:47.281Z"
   },
   {
    "duration": 218,
    "start_time": "2023-12-03T15:58:49.644Z"
   },
   {
    "duration": 290,
    "start_time": "2023-12-03T15:58:50.339Z"
   },
   {
    "duration": 244,
    "start_time": "2023-12-03T15:58:53.496Z"
   },
   {
    "duration": 161,
    "start_time": "2023-12-03T15:58:56.473Z"
   },
   {
    "duration": 122,
    "start_time": "2023-12-03T15:59:04.137Z"
   },
   {
    "duration": 136,
    "start_time": "2023-12-03T15:59:13.287Z"
   },
   {
    "duration": 147,
    "start_time": "2023-12-03T15:59:16.520Z"
   },
   {
    "duration": 157,
    "start_time": "2023-12-03T15:59:18.054Z"
   },
   {
    "duration": 26,
    "start_time": "2023-12-03T16:00:49.014Z"
   },
   {
    "duration": 103,
    "start_time": "2023-12-03T16:01:41.573Z"
   },
   {
    "duration": 1558,
    "start_time": "2023-12-03T16:02:04.682Z"
   },
   {
    "duration": 1555,
    "start_time": "2023-12-03T16:05:18.975Z"
   },
   {
    "duration": 795,
    "start_time": "2023-12-03T16:05:32.298Z"
   },
   {
    "duration": 806,
    "start_time": "2023-12-03T16:08:40.383Z"
   },
   {
    "duration": 756,
    "start_time": "2023-12-03T17:11:00.144Z"
   },
   {
    "duration": 42,
    "start_time": "2023-12-03T17:11:04.658Z"
   },
   {
    "duration": 1912,
    "start_time": "2023-12-03T17:11:11.109Z"
   },
   {
    "duration": 1095,
    "start_time": "2023-12-03T20:47:58.494Z"
   },
   {
    "duration": 39,
    "start_time": "2023-12-03T20:48:02.221Z"
   },
   {
    "duration": 1880,
    "start_time": "2023-12-03T20:48:03.267Z"
   },
   {
    "duration": 9,
    "start_time": "2023-12-03T20:48:06.369Z"
   },
   {
    "duration": 6,
    "start_time": "2023-12-03T20:48:07.417Z"
   },
   {
    "duration": 217,
    "start_time": "2023-12-03T20:48:07.886Z"
   },
   {
    "duration": 27,
    "start_time": "2023-12-03T20:48:13.551Z"
   },
   {
    "duration": 36,
    "start_time": "2023-12-03T20:48:14.123Z"
   },
   {
    "duration": 9,
    "start_time": "2023-12-03T20:48:14.622Z"
   },
   {
    "duration": 5,
    "start_time": "2023-12-03T20:48:14.796Z"
   },
   {
    "duration": 28,
    "start_time": "2023-12-03T20:48:15.240Z"
   },
   {
    "duration": 6,
    "start_time": "2023-12-03T20:48:15.684Z"
   },
   {
    "duration": 15,
    "start_time": "2023-12-03T20:48:15.910Z"
   },
   {
    "duration": 7,
    "start_time": "2023-12-03T20:48:16.775Z"
   },
   {
    "duration": 21,
    "start_time": "2023-12-03T20:48:17.418Z"
   },
   {
    "duration": 33,
    "start_time": "2023-12-03T20:48:17.868Z"
   },
   {
    "duration": 51,
    "start_time": "2023-12-03T20:48:24.192Z"
   },
   {
    "duration": 30,
    "start_time": "2023-12-03T20:48:25.075Z"
   },
   {
    "duration": 9,
    "start_time": "2023-12-03T20:48:26.578Z"
   },
   {
    "duration": 6,
    "start_time": "2023-12-03T20:48:28.192Z"
   },
   {
    "duration": 7,
    "start_time": "2023-12-03T20:48:32.012Z"
   },
   {
    "duration": 11,
    "start_time": "2023-12-03T20:48:37.070Z"
   },
   {
    "duration": 224,
    "start_time": "2023-12-03T20:48:37.473Z"
   },
   {
    "duration": 24,
    "start_time": "2023-12-03T20:48:38.116Z"
   },
   {
    "duration": 236,
    "start_time": "2023-12-03T20:48:51.671Z"
   },
   {
    "duration": 320,
    "start_time": "2023-12-03T20:48:59.180Z"
   },
   {
    "duration": 248,
    "start_time": "2023-12-03T20:48:59.989Z"
   },
   {
    "duration": 915,
    "start_time": "2023-12-03T20:50:29.392Z"
   },
   {
    "duration": 47,
    "start_time": "2023-12-03T20:51:17.890Z"
   },
   {
    "duration": 7,
    "start_time": "2023-12-03T20:51:31.478Z"
   },
   {
    "duration": 762,
    "start_time": "2023-12-03T20:51:49.327Z"
   },
   {
    "duration": 41,
    "start_time": "2023-12-03T20:51:50.091Z"
   },
   {
    "duration": 2070,
    "start_time": "2023-12-03T20:51:50.133Z"
   },
   {
    "duration": 14,
    "start_time": "2023-12-03T20:51:52.206Z"
   },
   {
    "duration": 24,
    "start_time": "2023-12-03T20:51:52.221Z"
   },
   {
    "duration": 231,
    "start_time": "2023-12-03T20:51:52.247Z"
   },
   {
    "duration": 29,
    "start_time": "2023-12-03T20:51:52.480Z"
   },
   {
    "duration": 33,
    "start_time": "2023-12-03T20:51:52.511Z"
   },
   {
    "duration": 23,
    "start_time": "2023-12-03T20:51:52.546Z"
   },
   {
    "duration": 9,
    "start_time": "2023-12-03T20:51:52.572Z"
   },
   {
    "duration": 42,
    "start_time": "2023-12-03T20:51:52.583Z"
   },
   {
    "duration": 9,
    "start_time": "2023-12-03T20:51:52.628Z"
   },
   {
    "duration": 39,
    "start_time": "2023-12-03T20:51:52.640Z"
   },
   {
    "duration": 13,
    "start_time": "2023-12-03T20:51:52.681Z"
   },
   {
    "duration": 26,
    "start_time": "2023-12-03T20:51:52.696Z"
   },
   {
    "duration": 62,
    "start_time": "2023-12-03T20:51:52.724Z"
   },
   {
    "duration": 86,
    "start_time": "2023-12-03T20:51:52.788Z"
   },
   {
    "duration": 32,
    "start_time": "2023-12-03T20:51:52.876Z"
   },
   {
    "duration": 8,
    "start_time": "2023-12-03T20:51:52.909Z"
   },
   {
    "duration": 7,
    "start_time": "2023-12-03T20:51:52.919Z"
   },
   {
    "duration": 39,
    "start_time": "2023-12-03T20:51:52.927Z"
   },
   {
    "duration": 14,
    "start_time": "2023-12-03T20:51:52.968Z"
   },
   {
    "duration": 264,
    "start_time": "2023-12-03T20:51:52.983Z"
   },
   {
    "duration": 27,
    "start_time": "2023-12-03T20:51:53.249Z"
   },
   {
    "duration": 264,
    "start_time": "2023-12-03T20:51:53.277Z"
   },
   {
    "duration": 334,
    "start_time": "2023-12-03T20:51:53.543Z"
   },
   {
    "duration": 273,
    "start_time": "2023-12-03T20:51:53.879Z"
   },
   {
    "duration": 790,
    "start_time": "2023-12-03T20:53:02.147Z"
   },
   {
    "duration": 49,
    "start_time": "2023-12-03T20:53:02.945Z"
   },
   {
    "duration": 2004,
    "start_time": "2023-12-03T20:53:02.995Z"
   },
   {
    "duration": 10,
    "start_time": "2023-12-03T20:53:05.001Z"
   },
   {
    "duration": 13,
    "start_time": "2023-12-03T20:53:05.012Z"
   },
   {
    "duration": 285,
    "start_time": "2023-12-03T20:53:05.027Z"
   },
   {
    "duration": 30,
    "start_time": "2023-12-03T20:53:05.314Z"
   },
   {
    "duration": 58,
    "start_time": "2023-12-03T20:53:05.346Z"
   },
   {
    "duration": 8,
    "start_time": "2023-12-03T20:53:05.406Z"
   },
   {
    "duration": 44,
    "start_time": "2023-12-03T20:53:05.416Z"
   },
   {
    "duration": 33,
    "start_time": "2023-12-03T20:53:05.462Z"
   },
   {
    "duration": 7,
    "start_time": "2023-12-03T20:53:05.498Z"
   },
   {
    "duration": 16,
    "start_time": "2023-12-03T20:53:05.508Z"
   },
   {
    "duration": 24,
    "start_time": "2023-12-03T20:53:05.526Z"
   },
   {
    "duration": 31,
    "start_time": "2023-12-03T20:53:05.566Z"
   },
   {
    "duration": 66,
    "start_time": "2023-12-03T20:53:05.600Z"
   },
   {
    "duration": 56,
    "start_time": "2023-12-03T20:53:05.667Z"
   },
   {
    "duration": 51,
    "start_time": "2023-12-03T20:53:05.725Z"
   },
   {
    "duration": 9,
    "start_time": "2023-12-03T20:53:05.778Z"
   },
   {
    "duration": 18,
    "start_time": "2023-12-03T20:53:05.788Z"
   },
   {
    "duration": 15,
    "start_time": "2023-12-03T20:53:05.808Z"
   },
   {
    "duration": 14,
    "start_time": "2023-12-03T20:53:05.825Z"
   },
   {
    "duration": 322,
    "start_time": "2023-12-03T20:53:05.841Z"
   },
   {
    "duration": 25,
    "start_time": "2023-12-03T20:53:06.166Z"
   },
   {
    "duration": 277,
    "start_time": "2023-12-03T20:53:06.192Z"
   },
   {
    "duration": 327,
    "start_time": "2023-12-03T20:53:06.470Z"
   },
   {
    "duration": 266,
    "start_time": "2023-12-03T20:53:06.799Z"
   },
   {
    "duration": 527,
    "start_time": "2023-12-03T20:53:07.069Z"
   },
   {
    "duration": 161,
    "start_time": "2023-12-03T20:53:07.599Z"
   },
   {
    "duration": 164,
    "start_time": "2023-12-03T20:53:07.766Z"
   },
   {
    "duration": 179,
    "start_time": "2023-12-03T20:53:07.932Z"
   },
   {
    "duration": 186,
    "start_time": "2023-12-03T20:53:08.112Z"
   },
   {
    "duration": 20,
    "start_time": "2023-12-03T20:53:08.300Z"
   },
   {
    "duration": 84,
    "start_time": "2023-12-03T20:53:08.322Z"
   },
   {
    "duration": 149,
    "start_time": "2023-12-03T20:53:08.408Z"
   },
   {
    "duration": 8,
    "start_time": "2023-12-03T20:53:08.559Z"
   },
   {
    "duration": 434,
    "start_time": "2023-12-03T20:53:08.570Z"
   },
   {
    "duration": 316,
    "start_time": "2023-12-03T20:53:09.006Z"
   },
   {
    "duration": 147,
    "start_time": "2023-12-03T20:53:09.324Z"
   },
   {
    "duration": 159,
    "start_time": "2023-12-03T20:53:09.473Z"
   },
   {
    "duration": 14,
    "start_time": "2023-12-03T20:53:09.634Z"
   },
   {
    "duration": 194,
    "start_time": "2023-12-03T20:53:09.650Z"
   },
   {
    "duration": 729,
    "start_time": "2023-12-03T20:53:09.846Z"
   },
   {
    "duration": 9,
    "start_time": "2023-12-03T20:53:10.577Z"
   },
   {
    "duration": 356,
    "start_time": "2023-12-03T20:53:10.587Z"
   },
   {
    "duration": 22,
    "start_time": "2023-12-03T20:53:10.945Z"
   },
   {
    "duration": 86,
    "start_time": "2023-12-03T20:53:10.968Z"
   },
   {
    "duration": 163,
    "start_time": "2023-12-03T20:53:11.055Z"
   },
   {
    "duration": 177,
    "start_time": "2023-12-03T20:53:11.220Z"
   },
   {
    "duration": 152,
    "start_time": "2023-12-03T20:53:11.398Z"
   },
   {
    "duration": 153,
    "start_time": "2023-12-03T20:53:11.551Z"
   },
   {
    "duration": 166,
    "start_time": "2023-12-03T20:53:11.705Z"
   },
   {
    "duration": 472,
    "start_time": "2023-12-03T20:53:11.872Z"
   },
   {
    "duration": 46,
    "start_time": "2023-12-03T20:53:12.347Z"
   },
   {
    "duration": 5,
    "start_time": "2023-12-03T20:53:12.396Z"
   },
   {
    "duration": 185,
    "start_time": "2023-12-03T20:53:12.403Z"
   },
   {
    "duration": 8313,
    "start_time": "2023-12-03T20:54:05.199Z"
   },
   {
    "duration": 375,
    "start_time": "2023-12-03T20:56:18.849Z"
   },
   {
    "duration": 766,
    "start_time": "2023-12-03T20:58:50.398Z"
   },
   {
    "duration": 42,
    "start_time": "2023-12-03T20:58:51.165Z"
   },
   {
    "duration": 2003,
    "start_time": "2023-12-03T20:58:51.208Z"
   },
   {
    "duration": 9,
    "start_time": "2023-12-03T20:58:53.214Z"
   },
   {
    "duration": 22,
    "start_time": "2023-12-03T20:58:53.224Z"
   },
   {
    "duration": 239,
    "start_time": "2023-12-03T20:58:53.248Z"
   },
   {
    "duration": 31,
    "start_time": "2023-12-03T20:58:53.489Z"
   },
   {
    "duration": 51,
    "start_time": "2023-12-03T20:58:53.521Z"
   },
   {
    "duration": 7,
    "start_time": "2023-12-03T20:58:53.574Z"
   },
   {
    "duration": 23,
    "start_time": "2023-12-03T20:58:53.584Z"
   },
   {
    "duration": 52,
    "start_time": "2023-12-03T20:58:53.609Z"
   },
   {
    "duration": 6,
    "start_time": "2023-12-03T20:58:53.662Z"
   },
   {
    "duration": 21,
    "start_time": "2023-12-03T20:58:53.670Z"
   },
   {
    "duration": 38,
    "start_time": "2023-12-03T20:58:53.693Z"
   },
   {
    "duration": 45,
    "start_time": "2023-12-03T20:58:53.733Z"
   },
   {
    "duration": 33,
    "start_time": "2023-12-03T20:58:53.780Z"
   },
   {
    "duration": 68,
    "start_time": "2023-12-03T20:58:53.815Z"
   },
   {
    "duration": 30,
    "start_time": "2023-12-03T20:58:53.885Z"
   },
   {
    "duration": 36,
    "start_time": "2023-12-03T20:58:53.917Z"
   },
   {
    "duration": 29,
    "start_time": "2023-12-03T20:58:53.954Z"
   },
   {
    "duration": 23,
    "start_time": "2023-12-03T20:58:53.985Z"
   },
   {
    "duration": 23,
    "start_time": "2023-12-03T20:58:54.010Z"
   },
   {
    "duration": 234,
    "start_time": "2023-12-03T20:58:54.034Z"
   },
   {
    "duration": 23,
    "start_time": "2023-12-03T20:58:54.269Z"
   },
   {
    "duration": 258,
    "start_time": "2023-12-03T20:58:54.294Z"
   },
   {
    "duration": 311,
    "start_time": "2023-12-03T20:58:54.554Z"
   },
   {
    "duration": 245,
    "start_time": "2023-12-03T20:58:54.867Z"
   },
   {
    "duration": 325,
    "start_time": "2023-12-03T20:58:55.116Z"
   },
   {
    "duration": 150,
    "start_time": "2023-12-03T20:58:55.442Z"
   },
   {
    "duration": 156,
    "start_time": "2023-12-03T20:58:55.594Z"
   },
   {
    "duration": 204,
    "start_time": "2023-12-03T20:58:55.751Z"
   },
   {
    "duration": 171,
    "start_time": "2023-12-03T20:58:55.957Z"
   },
   {
    "duration": 13,
    "start_time": "2023-12-03T20:58:56.130Z"
   },
   {
    "duration": 66,
    "start_time": "2023-12-03T20:58:56.144Z"
   },
   {
    "duration": 168,
    "start_time": "2023-12-03T20:58:56.212Z"
   },
   {
    "duration": 8,
    "start_time": "2023-12-03T20:58:56.382Z"
   },
   {
    "duration": 399,
    "start_time": "2023-12-03T20:58:56.391Z"
   },
   {
    "duration": 294,
    "start_time": "2023-12-03T20:58:56.791Z"
   },
   {
    "duration": 137,
    "start_time": "2023-12-03T20:58:57.087Z"
   },
   {
    "duration": 144,
    "start_time": "2023-12-03T20:58:57.225Z"
   },
   {
    "duration": 13,
    "start_time": "2023-12-03T20:58:57.371Z"
   },
   {
    "duration": 181,
    "start_time": "2023-12-03T20:58:57.386Z"
   },
   {
    "duration": 700,
    "start_time": "2023-12-03T20:58:57.569Z"
   },
   {
    "duration": 9,
    "start_time": "2023-12-03T20:58:58.270Z"
   },
   {
    "duration": 364,
    "start_time": "2023-12-03T20:58:58.280Z"
   },
   {
    "duration": 20,
    "start_time": "2023-12-03T20:58:58.645Z"
   },
   {
    "duration": 99,
    "start_time": "2023-12-03T20:58:58.667Z"
   },
   {
    "duration": 142,
    "start_time": "2023-12-03T20:58:58.767Z"
   },
   {
    "duration": 163,
    "start_time": "2023-12-03T20:58:58.911Z"
   },
   {
    "duration": 153,
    "start_time": "2023-12-03T20:58:59.075Z"
   },
   {
    "duration": 147,
    "start_time": "2023-12-03T20:58:59.230Z"
   },
   {
    "duration": 157,
    "start_time": "2023-12-03T20:58:59.378Z"
   },
   {
    "duration": 438,
    "start_time": "2023-12-03T20:58:59.536Z"
   },
   {
    "duration": 23,
    "start_time": "2023-12-03T20:58:59.975Z"
   },
   {
    "duration": 4,
    "start_time": "2023-12-03T20:59:00.000Z"
   },
   {
    "duration": 225,
    "start_time": "2023-12-03T20:59:00.006Z"
   },
   {
    "duration": 185,
    "start_time": "2023-12-03T21:00:30.415Z"
   },
   {
    "duration": 209,
    "start_time": "2023-12-03T21:00:49.264Z"
   },
   {
    "duration": 182,
    "start_time": "2023-12-03T21:01:17.206Z"
   },
   {
    "duration": 229,
    "start_time": "2023-12-03T21:01:58.377Z"
   },
   {
    "duration": 380,
    "start_time": "2023-12-03T21:02:22.414Z"
   },
   {
    "duration": 196,
    "start_time": "2023-12-03T21:03:06.880Z"
   },
   {
    "duration": 228,
    "start_time": "2023-12-03T21:03:31.713Z"
   },
   {
    "duration": 200,
    "start_time": "2023-12-03T21:03:43.583Z"
   },
   {
    "duration": 294,
    "start_time": "2023-12-03T21:03:51.658Z"
   },
   {
    "duration": 331,
    "start_time": "2023-12-03T21:08:57.816Z"
   },
   {
    "duration": 229,
    "start_time": "2023-12-03T21:09:17.515Z"
   },
   {
    "duration": 347,
    "start_time": "2023-12-03T21:12:41.035Z"
   },
   {
    "duration": 242,
    "start_time": "2023-12-03T21:12:50.926Z"
   },
   {
    "duration": 346,
    "start_time": "2023-12-03T21:13:07.639Z"
   },
   {
    "duration": 306,
    "start_time": "2023-12-03T21:18:23.686Z"
   },
   {
    "duration": 205,
    "start_time": "2023-12-03T21:18:42.292Z"
   },
   {
    "duration": 412,
    "start_time": "2023-12-03T21:21:42.672Z"
   },
   {
    "duration": 173,
    "start_time": "2023-12-03T21:21:53.975Z"
   },
   {
    "duration": 472,
    "start_time": "2023-12-03T21:22:14.952Z"
   },
   {
    "duration": 1208,
    "start_time": "2023-12-03T21:29:28.169Z"
   },
   {
    "duration": 224,
    "start_time": "2023-12-03T21:29:57.373Z"
   },
   {
    "duration": 1183,
    "start_time": "2023-12-03T21:34:53.085Z"
   },
   {
    "duration": 6,
    "start_time": "2023-12-03T21:35:17.954Z"
   },
   {
    "duration": 4,
    "start_time": "2023-12-03T21:35:42.859Z"
   },
   {
    "duration": 9,
    "start_time": "2023-12-03T21:52:25.121Z"
   },
   {
    "duration": 8,
    "start_time": "2023-12-03T22:08:59.160Z"
   },
   {
    "duration": 7,
    "start_time": "2023-12-03T22:09:26.383Z"
   },
   {
    "duration": 42,
    "start_time": "2023-12-03T22:09:34.313Z"
   },
   {
    "duration": 77,
    "start_time": "2023-12-03T22:10:06.869Z"
   },
   {
    "duration": 78,
    "start_time": "2023-12-03T22:10:48.342Z"
   },
   {
    "duration": 73,
    "start_time": "2023-12-03T22:11:01.053Z"
   },
   {
    "duration": 1176,
    "start_time": "2023-12-04T07:32:03.782Z"
   },
   {
    "duration": 45,
    "start_time": "2023-12-04T07:32:04.960Z"
   },
   {
    "duration": 2051,
    "start_time": "2023-12-04T07:32:05.006Z"
   },
   {
    "duration": 11,
    "start_time": "2023-12-04T07:32:07.059Z"
   },
   {
    "duration": 4,
    "start_time": "2023-12-04T07:32:07.071Z"
   },
   {
    "duration": 263,
    "start_time": "2023-12-04T07:32:07.077Z"
   },
   {
    "duration": 30,
    "start_time": "2023-12-04T07:32:07.343Z"
   },
   {
    "duration": 14,
    "start_time": "2023-12-04T07:32:07.375Z"
   },
   {
    "duration": 19,
    "start_time": "2023-12-04T07:32:07.391Z"
   },
   {
    "duration": 26,
    "start_time": "2023-12-04T07:32:07.412Z"
   },
   {
    "duration": 80,
    "start_time": "2023-12-04T07:32:07.440Z"
   },
   {
    "duration": 11,
    "start_time": "2023-12-04T07:32:07.522Z"
   },
   {
    "duration": 51,
    "start_time": "2023-12-04T07:32:07.535Z"
   },
   {
    "duration": 71,
    "start_time": "2023-12-04T07:32:07.588Z"
   },
   {
    "duration": 67,
    "start_time": "2023-12-04T07:32:07.661Z"
   },
   {
    "duration": 42,
    "start_time": "2023-12-04T07:32:07.730Z"
   },
   {
    "duration": 104,
    "start_time": "2023-12-04T07:32:07.774Z"
   },
   {
    "duration": 43,
    "start_time": "2023-12-04T07:32:07.880Z"
   },
   {
    "duration": 41,
    "start_time": "2023-12-04T07:32:07.925Z"
   },
   {
    "duration": 44,
    "start_time": "2023-12-04T07:32:07.968Z"
   },
   {
    "duration": 26,
    "start_time": "2023-12-04T07:32:08.014Z"
   },
   {
    "duration": 33,
    "start_time": "2023-12-04T07:32:08.041Z"
   },
   {
    "duration": 297,
    "start_time": "2023-12-04T07:32:08.075Z"
   },
   {
    "duration": 24,
    "start_time": "2023-12-04T07:32:08.374Z"
   },
   {
    "duration": 388,
    "start_time": "2023-12-04T07:32:08.400Z"
   },
   {
    "duration": 344,
    "start_time": "2023-12-04T07:32:08.790Z"
   },
   {
    "duration": 276,
    "start_time": "2023-12-04T07:32:09.135Z"
   },
   {
    "duration": 329,
    "start_time": "2023-12-04T07:32:09.415Z"
   },
   {
    "duration": 200,
    "start_time": "2023-12-04T07:32:09.746Z"
   },
   {
    "duration": 223,
    "start_time": "2023-12-04T07:32:09.948Z"
   },
   {
    "duration": 242,
    "start_time": "2023-12-04T07:32:10.173Z"
   },
   {
    "duration": 341,
    "start_time": "2023-12-04T07:32:10.417Z"
   },
   {
    "duration": 187,
    "start_time": "2023-12-04T07:32:10.761Z"
   },
   {
    "duration": 186,
    "start_time": "2023-12-04T07:32:10.949Z"
   },
   {
    "duration": 14,
    "start_time": "2023-12-04T07:32:11.137Z"
   },
   {
    "duration": 3,
    "start_time": "2023-12-04T07:32:11.153Z"
   },
   {
    "duration": 73,
    "start_time": "2023-12-04T07:32:11.158Z"
   },
   {
    "duration": 172,
    "start_time": "2023-12-04T07:32:11.233Z"
   },
   {
    "duration": 9,
    "start_time": "2023-12-04T07:32:11.407Z"
   },
   {
    "duration": 377,
    "start_time": "2023-12-04T07:32:11.422Z"
   },
   {
    "duration": 331,
    "start_time": "2023-12-04T07:32:11.801Z"
   },
   {
    "duration": 153,
    "start_time": "2023-12-04T07:32:12.134Z"
   },
   {
    "duration": 153,
    "start_time": "2023-12-04T07:32:12.289Z"
   },
   {
    "duration": 15,
    "start_time": "2023-12-04T07:32:12.444Z"
   },
   {
    "duration": 295,
    "start_time": "2023-12-04T07:32:12.461Z"
   },
   {
    "duration": 767,
    "start_time": "2023-12-04T07:32:12.758Z"
   },
   {
    "duration": 10,
    "start_time": "2023-12-04T07:32:13.527Z"
   },
   {
    "duration": 287,
    "start_time": "2023-12-04T07:32:13.540Z"
   },
   {
    "duration": 11,
    "start_time": "2023-12-04T07:32:13.829Z"
   },
   {
    "duration": 115,
    "start_time": "2023-12-04T07:32:13.841Z"
   },
   {
    "duration": 157,
    "start_time": "2023-12-04T07:32:13.957Z"
   },
   {
    "duration": 175,
    "start_time": "2023-12-04T07:32:14.116Z"
   },
   {
    "duration": 178,
    "start_time": "2023-12-04T07:32:14.292Z"
   },
   {
    "duration": 156,
    "start_time": "2023-12-04T07:32:14.472Z"
   },
   {
    "duration": 192,
    "start_time": "2023-12-04T07:32:14.630Z"
   },
   {
    "duration": 492,
    "start_time": "2023-12-04T07:32:14.824Z"
   },
   {
    "duration": 33,
    "start_time": "2023-12-04T07:32:15.318Z"
   },
   {
    "duration": 4,
    "start_time": "2023-12-04T07:32:15.353Z"
   },
   {
    "duration": 356,
    "start_time": "2023-12-04T07:32:15.359Z"
   },
   {
    "duration": 8,
    "start_time": "2023-12-04T07:33:31.300Z"
   },
   {
    "duration": 159,
    "start_time": "2023-12-04T07:38:02.845Z"
   },
   {
    "duration": 183,
    "start_time": "2023-12-04T07:39:04.795Z"
   },
   {
    "duration": 162,
    "start_time": "2023-12-04T07:46:16.141Z"
   },
   {
    "duration": 87,
    "start_time": "2023-12-04T07:52:33.566Z"
   },
   {
    "duration": 29,
    "start_time": "2023-12-04T07:52:49.024Z"
   },
   {
    "duration": 30,
    "start_time": "2023-12-04T07:54:02.820Z"
   },
   {
    "duration": 102,
    "start_time": "2023-12-04T08:01:00.488Z"
   },
   {
    "duration": 198,
    "start_time": "2023-12-04T08:07:29.846Z"
   },
   {
    "duration": 179,
    "start_time": "2023-12-04T08:09:05.343Z"
   },
   {
    "duration": 178,
    "start_time": "2023-12-04T08:09:18.662Z"
   },
   {
    "duration": 173,
    "start_time": "2023-12-04T08:10:08.497Z"
   },
   {
    "duration": 183,
    "start_time": "2023-12-04T08:13:24.465Z"
   },
   {
    "duration": 199,
    "start_time": "2023-12-04T08:13:46.823Z"
   },
   {
    "duration": 182,
    "start_time": "2023-12-04T08:17:02.066Z"
   },
   {
    "duration": 188,
    "start_time": "2023-12-04T08:17:39.611Z"
   },
   {
    "duration": 187,
    "start_time": "2023-12-04T08:17:55.117Z"
   },
   {
    "duration": 184,
    "start_time": "2023-12-04T08:18:16.062Z"
   },
   {
    "duration": 188,
    "start_time": "2023-12-04T08:19:48.793Z"
   },
   {
    "duration": 30,
    "start_time": "2023-12-04T08:25:21.883Z"
   },
   {
    "duration": 31,
    "start_time": "2023-12-04T08:31:37.650Z"
   },
   {
    "duration": 203,
    "start_time": "2023-12-04T08:31:52.305Z"
   },
   {
    "duration": 224,
    "start_time": "2023-12-04T08:32:15.406Z"
   },
   {
    "duration": 378,
    "start_time": "2023-12-04T08:33:21.081Z"
   },
   {
    "duration": 336,
    "start_time": "2023-12-04T08:34:28.475Z"
   },
   {
    "duration": 4,
    "start_time": "2023-12-04T08:41:21.254Z"
   },
   {
    "duration": 177,
    "start_time": "2023-12-04T08:41:28.806Z"
   },
   {
    "duration": 25,
    "start_time": "2023-12-04T08:42:53.882Z"
   },
   {
    "duration": 812,
    "start_time": "2023-12-04T08:43:56.018Z"
   },
   {
    "duration": 42,
    "start_time": "2023-12-04T08:43:56.832Z"
   },
   {
    "duration": 2037,
    "start_time": "2023-12-04T08:43:56.876Z"
   },
   {
    "duration": 10,
    "start_time": "2023-12-04T08:43:58.915Z"
   },
   {
    "duration": 5,
    "start_time": "2023-12-04T08:43:58.926Z"
   },
   {
    "duration": 252,
    "start_time": "2023-12-04T08:43:58.932Z"
   },
   {
    "duration": 40,
    "start_time": "2023-12-04T08:43:59.185Z"
   },
   {
    "duration": 10,
    "start_time": "2023-12-04T08:43:59.227Z"
   },
   {
    "duration": 8,
    "start_time": "2023-12-04T08:43:59.239Z"
   },
   {
    "duration": 8,
    "start_time": "2023-12-04T08:43:59.249Z"
   },
   {
    "duration": 44,
    "start_time": "2023-12-04T08:43:59.258Z"
   },
   {
    "duration": 20,
    "start_time": "2023-12-04T08:43:59.304Z"
   },
   {
    "duration": 15,
    "start_time": "2023-12-04T08:43:59.326Z"
   },
   {
    "duration": 38,
    "start_time": "2023-12-04T08:43:59.342Z"
   },
   {
    "duration": 25,
    "start_time": "2023-12-04T08:43:59.382Z"
   },
   {
    "duration": 38,
    "start_time": "2023-12-04T08:43:59.409Z"
   },
   {
    "duration": 62,
    "start_time": "2023-12-04T08:43:59.449Z"
   },
   {
    "duration": 35,
    "start_time": "2023-12-04T08:43:59.523Z"
   },
   {
    "duration": 9,
    "start_time": "2023-12-04T08:43:59.561Z"
   },
   {
    "duration": 7,
    "start_time": "2023-12-04T08:43:59.572Z"
   },
   {
    "duration": 9,
    "start_time": "2023-12-04T08:43:59.581Z"
   },
   {
    "duration": 45,
    "start_time": "2023-12-04T08:43:59.591Z"
   },
   {
    "duration": 280,
    "start_time": "2023-12-04T08:43:59.638Z"
   },
   {
    "duration": 24,
    "start_time": "2023-12-04T08:43:59.922Z"
   },
   {
    "duration": 383,
    "start_time": "2023-12-04T08:43:59.948Z"
   },
   {
    "duration": 341,
    "start_time": "2023-12-04T08:44:00.333Z"
   },
   {
    "duration": 296,
    "start_time": "2023-12-04T08:44:00.676Z"
   },
   {
    "duration": 311,
    "start_time": "2023-12-04T08:44:00.976Z"
   },
   {
    "duration": 185,
    "start_time": "2023-12-04T08:44:01.288Z"
   },
   {
    "duration": 170,
    "start_time": "2023-12-04T08:44:01.475Z"
   },
   {
    "duration": 234,
    "start_time": "2023-12-04T08:44:01.646Z"
   },
   {
    "duration": 315,
    "start_time": "2023-12-04T08:44:01.882Z"
   },
   {
    "duration": 165,
    "start_time": "2023-12-04T08:44:02.199Z"
   },
   {
    "duration": 178,
    "start_time": "2023-12-04T08:44:02.365Z"
   },
   {
    "duration": 44,
    "start_time": "2023-12-04T08:44:02.545Z"
   },
   {
    "duration": 14,
    "start_time": "2023-12-04T08:44:02.590Z"
   },
   {
    "duration": 213,
    "start_time": "2023-12-04T08:44:02.606Z"
   },
   {
    "duration": 322,
    "start_time": "2023-12-04T08:44:02.820Z"
   },
   {
    "duration": 8,
    "start_time": "2023-12-04T08:44:03.143Z"
   },
   {
    "duration": 344,
    "start_time": "2023-12-04T08:44:03.152Z"
   },
   {
    "duration": 306,
    "start_time": "2023-12-04T08:44:03.497Z"
   },
   {
    "duration": 143,
    "start_time": "2023-12-04T08:44:03.804Z"
   },
   {
    "duration": 146,
    "start_time": "2023-12-04T08:44:03.949Z"
   },
   {
    "duration": 30,
    "start_time": "2023-12-04T08:44:04.096Z"
   },
   {
    "duration": 278,
    "start_time": "2023-12-04T08:44:04.128Z"
   },
   {
    "duration": 712,
    "start_time": "2023-12-04T08:44:04.408Z"
   },
   {
    "duration": 9,
    "start_time": "2023-12-04T08:44:05.122Z"
   },
   {
    "duration": 247,
    "start_time": "2023-12-04T08:44:05.133Z"
   },
   {
    "duration": 12,
    "start_time": "2023-12-04T08:44:05.382Z"
   },
   {
    "duration": 113,
    "start_time": "2023-12-04T08:44:05.396Z"
   },
   {
    "duration": 156,
    "start_time": "2023-12-04T08:44:05.511Z"
   },
   {
    "duration": 169,
    "start_time": "2023-12-04T08:44:05.668Z"
   },
   {
    "duration": 155,
    "start_time": "2023-12-04T08:44:05.839Z"
   },
   {
    "duration": 166,
    "start_time": "2023-12-04T08:44:05.995Z"
   },
   {
    "duration": 165,
    "start_time": "2023-12-04T08:44:06.164Z"
   },
   {
    "duration": 453,
    "start_time": "2023-12-04T08:44:06.331Z"
   },
   {
    "duration": 24,
    "start_time": "2023-12-04T08:44:06.785Z"
   },
   {
    "duration": 13,
    "start_time": "2023-12-04T08:44:06.811Z"
   },
   {
    "duration": 462,
    "start_time": "2023-12-04T08:44:06.826Z"
   },
   {
    "duration": 408,
    "start_time": "2023-12-04T08:44:07.290Z"
   },
   {
    "duration": 788,
    "start_time": "2023-12-04T08:50:47.545Z"
   },
   {
    "duration": 46,
    "start_time": "2023-12-04T08:50:49.022Z"
   },
   {
    "duration": 2143,
    "start_time": "2023-12-04T08:50:50.490Z"
   },
   {
    "duration": 93,
    "start_time": "2023-12-04T08:51:13.133Z"
   },
   {
    "duration": 15,
    "start_time": "2023-12-04T08:51:59.078Z"
   },
   {
    "duration": 11,
    "start_time": "2023-12-04T08:52:25.849Z"
   },
   {
    "duration": 4,
    "start_time": "2023-12-04T08:52:26.039Z"
   },
   {
    "duration": 249,
    "start_time": "2023-12-04T08:52:26.233Z"
   },
   {
    "duration": 29,
    "start_time": "2023-12-04T08:52:26.648Z"
   },
   {
    "duration": 10,
    "start_time": "2023-12-04T08:52:27.054Z"
   },
   {
    "duration": 9,
    "start_time": "2023-12-04T08:52:27.242Z"
   },
   {
    "duration": 7,
    "start_time": "2023-12-04T08:52:27.619Z"
   },
   {
    "duration": 32,
    "start_time": "2023-12-04T08:52:28.909Z"
   },
   {
    "duration": 7,
    "start_time": "2023-12-04T08:52:29.355Z"
   },
   {
    "duration": 18,
    "start_time": "2023-12-04T08:52:30.703Z"
   },
   {
    "duration": 8,
    "start_time": "2023-12-04T08:52:32.524Z"
   },
   {
    "duration": 21,
    "start_time": "2023-12-04T08:52:33.001Z"
   },
   {
    "duration": 36,
    "start_time": "2023-12-04T08:52:39.825Z"
   },
   {
    "duration": 14,
    "start_time": "2023-12-04T08:52:52.267Z"
   },
   {
    "duration": 27,
    "start_time": "2023-12-04T08:53:04.958Z"
   },
   {
    "duration": 117,
    "start_time": "2023-12-04T08:56:38.367Z"
   },
   {
    "duration": 79,
    "start_time": "2023-12-04T08:56:54.266Z"
   },
   {
    "duration": 126,
    "start_time": "2023-12-04T08:57:37.804Z"
   },
   {
    "duration": 289,
    "start_time": "2023-12-04T08:58:33.711Z"
   },
   {
    "duration": 60,
    "start_time": "2023-12-04T09:00:46.153Z"
   },
   {
    "duration": 36,
    "start_time": "2023-12-04T09:00:46.657Z"
   },
   {
    "duration": 9,
    "start_time": "2023-12-04T09:00:47.081Z"
   },
   {
    "duration": 7,
    "start_time": "2023-12-04T09:00:47.293Z"
   },
   {
    "duration": 8,
    "start_time": "2023-12-04T09:00:47.816Z"
   },
   {
    "duration": 13,
    "start_time": "2023-12-04T09:00:48.545Z"
   },
   {
    "duration": 260,
    "start_time": "2023-12-04T09:00:48.753Z"
   },
   {
    "duration": 27,
    "start_time": "2023-12-04T09:00:49.014Z"
   },
   {
    "duration": 468,
    "start_time": "2023-12-04T09:00:50.057Z"
   },
   {
    "duration": 306,
    "start_time": "2023-12-04T09:00:50.527Z"
   },
   {
    "duration": 282,
    "start_time": "2023-12-04T09:00:50.834Z"
   },
   {
    "duration": 325,
    "start_time": "2023-12-04T09:00:51.188Z"
   },
   {
    "duration": 189,
    "start_time": "2023-12-04T09:00:51.569Z"
   },
   {
    "duration": 185,
    "start_time": "2023-12-04T09:00:51.954Z"
   },
   {
    "duration": 341,
    "start_time": "2023-12-04T09:00:52.464Z"
   },
   {
    "duration": 240,
    "start_time": "2023-12-04T09:00:55.615Z"
   },
   {
    "duration": 184,
    "start_time": "2023-12-04T09:00:55.866Z"
   },
   {
    "duration": 195,
    "start_time": "2023-12-04T09:00:56.052Z"
   },
   {
    "duration": 15,
    "start_time": "2023-12-04T09:00:56.681Z"
   },
   {
    "duration": 5,
    "start_time": "2023-12-04T09:00:57.062Z"
   },
   {
    "duration": 57,
    "start_time": "2023-12-04T09:00:59.497Z"
   },
   {
    "duration": 200,
    "start_time": "2023-12-04T09:01:00.745Z"
   },
   {
    "duration": 8,
    "start_time": "2023-12-04T09:01:02.032Z"
   },
   {
    "duration": 315,
    "start_time": "2023-12-04T09:01:02.533Z"
   },
   {
    "duration": 174,
    "start_time": "2023-12-04T09:01:15.469Z"
   },
   {
    "duration": 165,
    "start_time": "2023-12-04T09:01:16.023Z"
   },
   {
    "duration": 594,
    "start_time": "2023-12-04T09:01:16.460Z"
   },
   {
    "duration": 25,
    "start_time": "2023-12-04T09:01:17.327Z"
   },
   {
    "duration": 290,
    "start_time": "2023-12-04T09:01:17.777Z"
   },
   {
    "duration": 5,
    "start_time": "2023-12-04T09:01:18.803Z"
   },
   {
    "duration": 345,
    "start_time": "2023-12-04T09:01:19.013Z"
   },
   {
    "duration": 419,
    "start_time": "2023-12-04T09:01:19.360Z"
   },
   {
    "duration": 165,
    "start_time": "2023-12-04T09:03:35.250Z"
   },
   {
    "duration": 806,
    "start_time": "2023-12-04T09:03:35.417Z"
   },
   {
    "duration": 9,
    "start_time": "2023-12-04T09:03:36.225Z"
   },
   {
    "duration": 263,
    "start_time": "2023-12-04T09:03:36.236Z"
   },
   {
    "duration": 20,
    "start_time": "2023-12-04T09:03:36.502Z"
   },
   {
    "duration": 104,
    "start_time": "2023-12-04T09:03:36.525Z"
   },
   {
    "duration": 144,
    "start_time": "2023-12-04T09:03:38.026Z"
   },
   {
    "duration": 175,
    "start_time": "2023-12-04T09:03:38.196Z"
   },
   {
    "duration": 331,
    "start_time": "2023-12-04T09:03:38.373Z"
   },
   {
    "duration": 795,
    "start_time": "2023-12-04T09:04:12.886Z"
   },
   {
    "duration": 51,
    "start_time": "2023-12-04T09:04:14.158Z"
   },
   {
    "duration": 2106,
    "start_time": "2023-12-04T09:04:14.463Z"
   },
   {
    "duration": 12,
    "start_time": "2023-12-04T09:04:16.571Z"
   },
   {
    "duration": 13,
    "start_time": "2023-12-04T09:04:16.585Z"
   },
   {
    "duration": 284,
    "start_time": "2023-12-04T09:04:16.601Z"
   },
   {
    "duration": 37,
    "start_time": "2023-12-04T09:04:16.886Z"
   },
   {
    "duration": 11,
    "start_time": "2023-12-04T09:04:16.925Z"
   },
   {
    "duration": 10,
    "start_time": "2023-12-04T09:04:16.938Z"
   },
   {
    "duration": 6,
    "start_time": "2023-12-04T09:04:17.334Z"
   },
   {
    "duration": 34,
    "start_time": "2023-12-04T09:04:17.731Z"
   },
   {
    "duration": 7,
    "start_time": "2023-12-04T09:04:18.135Z"
   },
   {
    "duration": 15,
    "start_time": "2023-12-04T09:04:18.326Z"
   },
   {
    "duration": 8,
    "start_time": "2023-12-04T09:04:19.172Z"
   },
   {
    "duration": 29,
    "start_time": "2023-12-04T09:04:20.816Z"
   },
   {
    "duration": 44,
    "start_time": "2023-12-04T09:04:21.201Z"
   },
   {
    "duration": 57,
    "start_time": "2023-12-04T09:04:23.404Z"
   },
   {
    "duration": 40,
    "start_time": "2023-12-04T09:04:23.708Z"
   },
   {
    "duration": 9,
    "start_time": "2023-12-04T09:04:24.108Z"
   },
   {
    "duration": 7,
    "start_time": "2023-12-04T09:04:24.274Z"
   },
   {
    "duration": 8,
    "start_time": "2023-12-04T09:04:25.125Z"
   },
   {
    "duration": 12,
    "start_time": "2023-12-04T09:04:26.301Z"
   },
   {
    "duration": 253,
    "start_time": "2023-12-04T09:04:26.474Z"
   },
   {
    "duration": 24,
    "start_time": "2023-12-04T09:04:26.729Z"
   },
   {
    "duration": 385,
    "start_time": "2023-12-04T09:04:29.238Z"
   },
   {
    "duration": 327,
    "start_time": "2023-12-04T09:04:32.021Z"
   },
   {
    "duration": 275,
    "start_time": "2023-12-04T09:04:34.730Z"
   },
   {
    "duration": 302,
    "start_time": "2023-12-04T09:04:38.174Z"
   },
   {
    "duration": 186,
    "start_time": "2023-12-04T09:04:39.877Z"
   },
   {
    "duration": 162,
    "start_time": "2023-12-04T09:04:44.141Z"
   },
   {
    "duration": 241,
    "start_time": "2023-12-04T09:04:44.609Z"
   },
   {
    "duration": 344,
    "start_time": "2023-12-04T09:04:44.852Z"
   },
   {
    "duration": 170,
    "start_time": "2023-12-04T09:04:47.750Z"
   },
   {
    "duration": 176,
    "start_time": "2023-12-04T09:04:48.692Z"
   },
   {
    "duration": 4,
    "start_time": "2023-12-04T09:05:41.181Z"
   },
   {
    "duration": 337,
    "start_time": "2023-12-04T09:05:41.474Z"
   },
   {
    "duration": 402,
    "start_time": "2023-12-04T09:05:41.813Z"
   },
   {
    "duration": 24,
    "start_time": "2023-12-04T09:06:00.573Z"
   },
   {
    "duration": 53,
    "start_time": "2023-12-04T20:47:07.431Z"
   },
   {
    "duration": 788,
    "start_time": "2023-12-04T20:47:11.711Z"
   },
   {
    "duration": 44,
    "start_time": "2023-12-04T20:47:12.502Z"
   },
   {
    "duration": 2127,
    "start_time": "2023-12-04T20:47:12.548Z"
   },
   {
    "duration": 10,
    "start_time": "2023-12-04T20:47:14.677Z"
   },
   {
    "duration": 39,
    "start_time": "2023-12-04T20:47:14.690Z"
   },
   {
    "duration": 309,
    "start_time": "2023-12-04T20:47:14.731Z"
   },
   {
    "duration": 35,
    "start_time": "2023-12-04T20:47:15.042Z"
   },
   {
    "duration": 15,
    "start_time": "2023-12-04T20:47:15.079Z"
   },
   {
    "duration": 37,
    "start_time": "2023-12-04T20:47:15.095Z"
   },
   {
    "duration": 36,
    "start_time": "2023-12-04T20:47:15.134Z"
   },
   {
    "duration": 88,
    "start_time": "2023-12-04T20:47:15.172Z"
   },
   {
    "duration": 10,
    "start_time": "2023-12-04T20:47:15.262Z"
   },
   {
    "duration": 61,
    "start_time": "2023-12-04T20:47:15.273Z"
   },
   {
    "duration": 70,
    "start_time": "2023-12-04T20:47:15.338Z"
   },
   {
    "duration": 43,
    "start_time": "2023-12-04T20:47:15.409Z"
   },
   {
    "duration": 70,
    "start_time": "2023-12-04T20:47:15.454Z"
   },
   {
    "duration": 69,
    "start_time": "2023-12-04T20:47:15.526Z"
   },
   {
    "duration": 39,
    "start_time": "2023-12-04T20:47:15.597Z"
   },
   {
    "duration": 9,
    "start_time": "2023-12-04T20:47:15.637Z"
   },
   {
    "duration": 24,
    "start_time": "2023-12-04T20:47:15.647Z"
   },
   {
    "duration": 21,
    "start_time": "2023-12-04T20:47:15.672Z"
   },
   {
    "duration": 35,
    "start_time": "2023-12-04T20:47:15.695Z"
   },
   {
    "duration": 293,
    "start_time": "2023-12-04T20:47:15.732Z"
   },
   {
    "duration": 25,
    "start_time": "2023-12-04T20:47:16.027Z"
   },
   {
    "duration": 395,
    "start_time": "2023-12-04T20:47:16.054Z"
   },
   {
    "duration": 347,
    "start_time": "2023-12-04T20:47:16.451Z"
   },
   {
    "duration": 275,
    "start_time": "2023-12-04T20:47:16.800Z"
   },
   {
    "duration": 318,
    "start_time": "2023-12-04T20:47:17.077Z"
   },
   {
    "duration": 199,
    "start_time": "2023-12-04T20:47:17.396Z"
   },
   {
    "duration": 188,
    "start_time": "2023-12-04T20:47:17.598Z"
   },
   {
    "duration": 182,
    "start_time": "2023-12-04T20:47:17.788Z"
   },
   {
    "duration": 1771,
    "start_time": "2023-12-04T20:47:17.972Z"
   },
   {
    "duration": 0,
    "start_time": "2023-12-04T20:47:19.745Z"
   },
   {
    "duration": 0,
    "start_time": "2023-12-04T20:47:19.746Z"
   },
   {
    "duration": 0,
    "start_time": "2023-12-04T20:47:19.747Z"
   },
   {
    "duration": 0,
    "start_time": "2023-12-04T20:47:19.748Z"
   },
   {
    "duration": 0,
    "start_time": "2023-12-04T20:47:19.749Z"
   },
   {
    "duration": 0,
    "start_time": "2023-12-04T20:47:19.750Z"
   },
   {
    "duration": 0,
    "start_time": "2023-12-04T20:47:19.751Z"
   },
   {
    "duration": 0,
    "start_time": "2023-12-04T20:47:19.752Z"
   },
   {
    "duration": 0,
    "start_time": "2023-12-04T20:47:19.754Z"
   },
   {
    "duration": 0,
    "start_time": "2023-12-04T20:47:19.755Z"
   },
   {
    "duration": 0,
    "start_time": "2023-12-04T20:47:19.756Z"
   },
   {
    "duration": 0,
    "start_time": "2023-12-04T20:47:19.757Z"
   },
   {
    "duration": 0,
    "start_time": "2023-12-04T20:47:19.758Z"
   },
   {
    "duration": 0,
    "start_time": "2023-12-04T20:47:19.759Z"
   },
   {
    "duration": 0,
    "start_time": "2023-12-04T20:47:19.760Z"
   },
   {
    "duration": 0,
    "start_time": "2023-12-04T20:47:19.761Z"
   },
   {
    "duration": 0,
    "start_time": "2023-12-04T20:47:19.763Z"
   },
   {
    "duration": 1,
    "start_time": "2023-12-04T20:47:19.763Z"
   },
   {
    "duration": 0,
    "start_time": "2023-12-04T20:47:19.765Z"
   },
   {
    "duration": 0,
    "start_time": "2023-12-04T20:47:19.766Z"
   },
   {
    "duration": 0,
    "start_time": "2023-12-04T20:47:19.767Z"
   },
   {
    "duration": 0,
    "start_time": "2023-12-04T20:47:19.769Z"
   },
   {
    "duration": 0,
    "start_time": "2023-12-04T20:47:19.770Z"
   },
   {
    "duration": 0,
    "start_time": "2023-12-04T20:47:19.771Z"
   },
   {
    "duration": 0,
    "start_time": "2023-12-04T20:47:19.773Z"
   },
   {
    "duration": 0,
    "start_time": "2023-12-04T20:47:19.773Z"
   },
   {
    "duration": 0,
    "start_time": "2023-12-04T20:47:19.774Z"
   },
   {
    "duration": 0,
    "start_time": "2023-12-04T20:47:19.776Z"
   },
   {
    "duration": 0,
    "start_time": "2023-12-04T20:47:19.777Z"
   },
   {
    "duration": 6,
    "start_time": "2023-12-04T20:47:48.223Z"
   },
   {
    "duration": 789,
    "start_time": "2023-12-04T20:47:54.703Z"
   },
   {
    "duration": 44,
    "start_time": "2023-12-04T20:47:55.494Z"
   },
   {
    "duration": 2020,
    "start_time": "2023-12-04T20:47:55.539Z"
   },
   {
    "duration": 20,
    "start_time": "2023-12-04T20:47:57.562Z"
   },
   {
    "duration": 26,
    "start_time": "2023-12-04T20:47:57.584Z"
   },
   {
    "duration": 274,
    "start_time": "2023-12-04T20:47:57.612Z"
   },
   {
    "duration": 34,
    "start_time": "2023-12-04T20:47:57.888Z"
   },
   {
    "duration": 29,
    "start_time": "2023-12-04T20:47:57.925Z"
   },
   {
    "duration": 19,
    "start_time": "2023-12-04T20:47:57.956Z"
   },
   {
    "duration": 25,
    "start_time": "2023-12-04T20:47:57.977Z"
   },
   {
    "duration": 42,
    "start_time": "2023-12-04T20:47:58.004Z"
   },
   {
    "duration": 8,
    "start_time": "2023-12-04T20:47:58.047Z"
   },
   {
    "duration": 43,
    "start_time": "2023-12-04T20:47:58.057Z"
   },
   {
    "duration": 35,
    "start_time": "2023-12-04T20:47:58.102Z"
   },
   {
    "duration": 20,
    "start_time": "2023-12-04T20:47:58.139Z"
   },
   {
    "duration": 25,
    "start_time": "2023-12-04T20:47:58.161Z"
   },
   {
    "duration": 54,
    "start_time": "2023-12-04T20:47:58.187Z"
   },
   {
    "duration": 57,
    "start_time": "2023-12-04T20:47:58.243Z"
   },
   {
    "duration": 43,
    "start_time": "2023-12-04T20:47:58.302Z"
   },
   {
    "duration": 8,
    "start_time": "2023-12-04T20:47:58.348Z"
   },
   {
    "duration": 22,
    "start_time": "2023-12-04T20:47:58.358Z"
   },
   {
    "duration": 18,
    "start_time": "2023-12-04T20:47:58.382Z"
   },
   {
    "duration": 14,
    "start_time": "2023-12-04T20:47:58.402Z"
   },
   {
    "duration": 295,
    "start_time": "2023-12-04T20:47:58.418Z"
   },
   {
    "duration": 28,
    "start_time": "2023-12-04T20:47:58.715Z"
   },
   {
    "duration": 386,
    "start_time": "2023-12-04T20:47:58.745Z"
   },
   {
    "duration": 333,
    "start_time": "2023-12-04T20:47:59.133Z"
   },
   {
    "duration": 274,
    "start_time": "2023-12-04T20:47:59.470Z"
   },
   {
    "duration": 321,
    "start_time": "2023-12-04T20:47:59.747Z"
   },
   {
    "duration": 194,
    "start_time": "2023-12-04T20:48:00.073Z"
   },
   {
    "duration": 196,
    "start_time": "2023-12-04T20:48:00.273Z"
   },
   {
    "duration": 165,
    "start_time": "2023-12-04T20:48:00.474Z"
   },
   {
    "duration": 1858,
    "start_time": "2023-12-04T20:48:00.641Z"
   },
   {
    "duration": 0,
    "start_time": "2023-12-04T20:48:02.501Z"
   },
   {
    "duration": 0,
    "start_time": "2023-12-04T20:48:02.502Z"
   },
   {
    "duration": 0,
    "start_time": "2023-12-04T20:48:02.503Z"
   },
   {
    "duration": 0,
    "start_time": "2023-12-04T20:48:02.505Z"
   },
   {
    "duration": 0,
    "start_time": "2023-12-04T20:48:02.506Z"
   },
   {
    "duration": 0,
    "start_time": "2023-12-04T20:48:02.508Z"
   },
   {
    "duration": 0,
    "start_time": "2023-12-04T20:48:02.508Z"
   },
   {
    "duration": 0,
    "start_time": "2023-12-04T20:48:02.510Z"
   },
   {
    "duration": 0,
    "start_time": "2023-12-04T20:48:02.511Z"
   },
   {
    "duration": 0,
    "start_time": "2023-12-04T20:48:02.512Z"
   },
   {
    "duration": 0,
    "start_time": "2023-12-04T20:48:02.513Z"
   },
   {
    "duration": 0,
    "start_time": "2023-12-04T20:48:02.515Z"
   },
   {
    "duration": 0,
    "start_time": "2023-12-04T20:48:02.516Z"
   },
   {
    "duration": 0,
    "start_time": "2023-12-04T20:48:02.517Z"
   },
   {
    "duration": 0,
    "start_time": "2023-12-04T20:48:02.518Z"
   },
   {
    "duration": 0,
    "start_time": "2023-12-04T20:48:02.520Z"
   },
   {
    "duration": 0,
    "start_time": "2023-12-04T20:48:02.521Z"
   },
   {
    "duration": 0,
    "start_time": "2023-12-04T20:48:02.522Z"
   },
   {
    "duration": 0,
    "start_time": "2023-12-04T20:48:02.524Z"
   },
   {
    "duration": 0,
    "start_time": "2023-12-04T20:48:02.525Z"
   },
   {
    "duration": 0,
    "start_time": "2023-12-04T20:48:02.526Z"
   },
   {
    "duration": 0,
    "start_time": "2023-12-04T20:48:02.528Z"
   },
   {
    "duration": 0,
    "start_time": "2023-12-04T20:48:02.529Z"
   },
   {
    "duration": 0,
    "start_time": "2023-12-04T20:48:02.531Z"
   },
   {
    "duration": 0,
    "start_time": "2023-12-04T20:48:02.532Z"
   },
   {
    "duration": 0,
    "start_time": "2023-12-04T20:48:02.533Z"
   },
   {
    "duration": 0,
    "start_time": "2023-12-04T20:48:02.534Z"
   },
   {
    "duration": 0,
    "start_time": "2023-12-04T20:48:02.536Z"
   },
   {
    "duration": 0,
    "start_time": "2023-12-04T20:48:02.537Z"
   },
   {
    "duration": 804,
    "start_time": "2023-12-04T20:49:30.963Z"
   },
   {
    "duration": 44,
    "start_time": "2023-12-04T20:49:31.769Z"
   },
   {
    "duration": 2175,
    "start_time": "2023-12-04T20:49:31.814Z"
   },
   {
    "duration": 13,
    "start_time": "2023-12-04T20:49:33.992Z"
   },
   {
    "duration": 7,
    "start_time": "2023-12-04T20:49:34.007Z"
   },
   {
    "duration": 294,
    "start_time": "2023-12-04T20:49:34.016Z"
   },
   {
    "duration": 31,
    "start_time": "2023-12-04T20:49:34.312Z"
   },
   {
    "duration": 33,
    "start_time": "2023-12-04T20:49:34.345Z"
   },
   {
    "duration": 9,
    "start_time": "2023-12-04T20:49:34.380Z"
   },
   {
    "duration": 17,
    "start_time": "2023-12-04T20:49:34.391Z"
   },
   {
    "duration": 37,
    "start_time": "2023-12-04T20:49:34.410Z"
   },
   {
    "duration": 7,
    "start_time": "2023-12-04T20:49:34.448Z"
   },
   {
    "duration": 29,
    "start_time": "2023-12-04T20:49:34.473Z"
   },
   {
    "duration": 7,
    "start_time": "2023-12-04T20:49:34.505Z"
   },
   {
    "duration": 8,
    "start_time": "2023-12-04T20:49:34.514Z"
   },
   {
    "duration": 51,
    "start_time": "2023-12-04T20:49:34.524Z"
   },
   {
    "duration": 37,
    "start_time": "2023-12-04T20:49:34.577Z"
   },
   {
    "duration": 79,
    "start_time": "2023-12-04T20:49:34.616Z"
   },
   {
    "duration": 34,
    "start_time": "2023-12-04T20:49:34.697Z"
   },
   {
    "duration": 9,
    "start_time": "2023-12-04T20:49:34.732Z"
   },
   {
    "duration": 7,
    "start_time": "2023-12-04T20:49:34.742Z"
   },
   {
    "duration": 27,
    "start_time": "2023-12-04T20:49:34.751Z"
   },
   {
    "duration": 16,
    "start_time": "2023-12-04T20:49:34.780Z"
   },
   {
    "duration": 263,
    "start_time": "2023-12-04T20:49:34.798Z"
   },
   {
    "duration": 28,
    "start_time": "2023-12-04T20:49:35.063Z"
   },
   {
    "duration": 378,
    "start_time": "2023-12-04T20:49:35.093Z"
   },
   {
    "duration": 337,
    "start_time": "2023-12-04T20:49:35.473Z"
   },
   {
    "duration": 271,
    "start_time": "2023-12-04T20:49:35.811Z"
   },
   {
    "duration": 320,
    "start_time": "2023-12-04T20:49:36.084Z"
   },
   {
    "duration": 195,
    "start_time": "2023-12-04T20:49:36.405Z"
   },
   {
    "duration": 180,
    "start_time": "2023-12-04T20:49:36.601Z"
   },
   {
    "duration": 165,
    "start_time": "2023-12-04T20:49:36.783Z"
   },
   {
    "duration": 1731,
    "start_time": "2023-12-04T20:49:36.949Z"
   },
   {
    "duration": 0,
    "start_time": "2023-12-04T20:49:38.682Z"
   },
   {
    "duration": 0,
    "start_time": "2023-12-04T20:49:38.684Z"
   },
   {
    "duration": 0,
    "start_time": "2023-12-04T20:49:38.685Z"
   },
   {
    "duration": 0,
    "start_time": "2023-12-04T20:49:38.686Z"
   },
   {
    "duration": 0,
    "start_time": "2023-12-04T20:49:38.687Z"
   },
   {
    "duration": 0,
    "start_time": "2023-12-04T20:49:38.688Z"
   },
   {
    "duration": 0,
    "start_time": "2023-12-04T20:49:38.689Z"
   },
   {
    "duration": 0,
    "start_time": "2023-12-04T20:49:38.690Z"
   },
   {
    "duration": 0,
    "start_time": "2023-12-04T20:49:38.691Z"
   },
   {
    "duration": 0,
    "start_time": "2023-12-04T20:49:38.693Z"
   },
   {
    "duration": 0,
    "start_time": "2023-12-04T20:49:38.694Z"
   },
   {
    "duration": 0,
    "start_time": "2023-12-04T20:49:38.694Z"
   },
   {
    "duration": 0,
    "start_time": "2023-12-04T20:49:38.695Z"
   },
   {
    "duration": 0,
    "start_time": "2023-12-04T20:49:38.696Z"
   },
   {
    "duration": 0,
    "start_time": "2023-12-04T20:49:38.697Z"
   },
   {
    "duration": 0,
    "start_time": "2023-12-04T20:49:38.698Z"
   },
   {
    "duration": 0,
    "start_time": "2023-12-04T20:49:38.699Z"
   },
   {
    "duration": 0,
    "start_time": "2023-12-04T20:49:38.700Z"
   },
   {
    "duration": 0,
    "start_time": "2023-12-04T20:49:38.702Z"
   },
   {
    "duration": 0,
    "start_time": "2023-12-04T20:49:38.703Z"
   },
   {
    "duration": 0,
    "start_time": "2023-12-04T20:49:38.704Z"
   },
   {
    "duration": 0,
    "start_time": "2023-12-04T20:49:38.705Z"
   },
   {
    "duration": 0,
    "start_time": "2023-12-04T20:49:38.706Z"
   },
   {
    "duration": 0,
    "start_time": "2023-12-04T20:49:38.707Z"
   },
   {
    "duration": 0,
    "start_time": "2023-12-04T20:49:38.708Z"
   },
   {
    "duration": 0,
    "start_time": "2023-12-04T20:49:38.709Z"
   },
   {
    "duration": 0,
    "start_time": "2023-12-04T20:49:38.710Z"
   },
   {
    "duration": 0,
    "start_time": "2023-12-04T20:49:38.711Z"
   },
   {
    "duration": 0,
    "start_time": "2023-12-04T20:49:38.712Z"
   },
   {
    "duration": 1668,
    "start_time": "2023-12-04T21:15:11.638Z"
   },
   {
    "duration": 159,
    "start_time": "2023-12-04T21:15:19.085Z"
   },
   {
    "duration": 1643,
    "start_time": "2023-12-04T21:16:28.479Z"
   },
   {
    "duration": 362,
    "start_time": "2023-12-04T21:16:33.040Z"
   },
   {
    "duration": 1660,
    "start_time": "2023-12-04T21:16:48.264Z"
   },
   {
    "duration": 768,
    "start_time": "2023-12-04T21:17:34.705Z"
   },
   {
    "duration": 43,
    "start_time": "2023-12-04T21:17:35.474Z"
   },
   {
    "duration": 2039,
    "start_time": "2023-12-04T21:17:35.519Z"
   },
   {
    "duration": 18,
    "start_time": "2023-12-04T21:17:37.560Z"
   },
   {
    "duration": 4,
    "start_time": "2023-12-04T21:17:37.580Z"
   },
   {
    "duration": 251,
    "start_time": "2023-12-04T21:17:37.586Z"
   },
   {
    "duration": 37,
    "start_time": "2023-12-04T21:17:37.839Z"
   },
   {
    "duration": 12,
    "start_time": "2023-12-04T21:17:37.878Z"
   },
   {
    "duration": 10,
    "start_time": "2023-12-04T21:17:37.891Z"
   },
   {
    "duration": 8,
    "start_time": "2023-12-04T21:17:37.904Z"
   },
   {
    "duration": 61,
    "start_time": "2023-12-04T21:17:37.914Z"
   },
   {
    "duration": 8,
    "start_time": "2023-12-04T21:17:37.977Z"
   },
   {
    "duration": 38,
    "start_time": "2023-12-04T21:17:37.986Z"
   },
   {
    "duration": 7,
    "start_time": "2023-12-04T21:17:38.026Z"
   },
   {
    "duration": 8,
    "start_time": "2023-12-04T21:17:38.035Z"
   },
   {
    "duration": 45,
    "start_time": "2023-12-04T21:17:38.045Z"
   },
   {
    "duration": 36,
    "start_time": "2023-12-04T21:17:38.092Z"
   },
   {
    "duration": 71,
    "start_time": "2023-12-04T21:17:38.130Z"
   },
   {
    "duration": 38,
    "start_time": "2023-12-04T21:17:38.203Z"
   },
   {
    "duration": 31,
    "start_time": "2023-12-04T21:17:38.243Z"
   },
   {
    "duration": 7,
    "start_time": "2023-12-04T21:17:38.275Z"
   },
   {
    "duration": 10,
    "start_time": "2023-12-04T21:17:38.284Z"
   },
   {
    "duration": 15,
    "start_time": "2023-12-04T21:17:38.296Z"
   },
   {
    "duration": 272,
    "start_time": "2023-12-04T21:17:38.313Z"
   },
   {
    "duration": 25,
    "start_time": "2023-12-04T21:17:38.587Z"
   },
   {
    "duration": 388,
    "start_time": "2023-12-04T21:17:38.614Z"
   },
   {
    "duration": 343,
    "start_time": "2023-12-04T21:17:39.003Z"
   },
   {
    "duration": 277,
    "start_time": "2023-12-04T21:17:39.350Z"
   },
   {
    "duration": 315,
    "start_time": "2023-12-04T21:17:39.628Z"
   },
   {
    "duration": 195,
    "start_time": "2023-12-04T21:17:39.945Z"
   },
   {
    "duration": 171,
    "start_time": "2023-12-04T21:17:40.141Z"
   },
   {
    "duration": 167,
    "start_time": "2023-12-04T21:17:40.314Z"
   },
   {
    "duration": 3,
    "start_time": "2023-12-04T21:17:40.482Z"
   },
   {
    "duration": 177,
    "start_time": "2023-12-04T21:17:40.486Z"
   },
   {
    "duration": 177,
    "start_time": "2023-12-04T21:17:40.665Z"
   },
   {
    "duration": 13,
    "start_time": "2023-12-04T21:17:40.844Z"
   },
   {
    "duration": 5,
    "start_time": "2023-12-04T21:17:40.873Z"
   },
   {
    "duration": 158,
    "start_time": "2023-12-04T21:17:40.879Z"
   },
   {
    "duration": 180,
    "start_time": "2023-12-04T21:17:41.039Z"
   },
   {
    "duration": 8,
    "start_time": "2023-12-04T21:17:41.221Z"
   },
   {
    "duration": 318,
    "start_time": "2023-12-04T21:17:41.230Z"
   },
   {
    "duration": 321,
    "start_time": "2023-12-04T21:17:41.549Z"
   },
   {
    "duration": 145,
    "start_time": "2023-12-04T21:17:41.873Z"
   },
   {
    "duration": 149,
    "start_time": "2023-12-04T21:17:42.020Z"
   },
   {
    "duration": 14,
    "start_time": "2023-12-04T21:17:42.173Z"
   },
   {
    "duration": 180,
    "start_time": "2023-12-04T21:17:42.189Z"
   },
   {
    "duration": 862,
    "start_time": "2023-12-04T21:17:42.373Z"
   },
   {
    "duration": 9,
    "start_time": "2023-12-04T21:17:43.236Z"
   },
   {
    "duration": 248,
    "start_time": "2023-12-04T21:17:43.247Z"
   },
   {
    "duration": 10,
    "start_time": "2023-12-04T21:17:43.497Z"
   },
   {
    "duration": 106,
    "start_time": "2023-12-04T21:17:43.509Z"
   },
   {
    "duration": 147,
    "start_time": "2023-12-04T21:17:43.616Z"
   },
   {
    "duration": 184,
    "start_time": "2023-12-04T21:17:43.765Z"
   },
   {
    "duration": 167,
    "start_time": "2023-12-04T21:17:43.951Z"
   },
   {
    "duration": 167,
    "start_time": "2023-12-04T21:17:44.120Z"
   },
   {
    "duration": 171,
    "start_time": "2023-12-04T21:17:44.289Z"
   },
   {
    "duration": 479,
    "start_time": "2023-12-04T21:17:44.461Z"
   },
   {
    "duration": 33,
    "start_time": "2023-12-04T21:17:44.941Z"
   },
   {
    "duration": 281,
    "start_time": "2023-12-04T21:17:44.976Z"
   },
   {
    "duration": 4,
    "start_time": "2023-12-04T21:17:45.259Z"
   },
   {
    "duration": 354,
    "start_time": "2023-12-04T21:17:45.265Z"
   },
   {
    "duration": 403,
    "start_time": "2023-12-04T21:17:45.620Z"
   },
   {
    "duration": 23,
    "start_time": "2023-12-05T00:49:42.797Z"
   },
   {
    "duration": 4,
    "start_time": "2023-12-05T00:53:03.859Z"
   },
   {
    "duration": 272,
    "start_time": "2023-12-05T00:53:23.490Z"
   },
   {
    "duration": 147,
    "start_time": "2023-12-05T00:53:36.842Z"
   },
   {
    "duration": 141,
    "start_time": "2023-12-05T00:55:19.269Z"
   },
   {
    "duration": 144,
    "start_time": "2023-12-05T00:58:18.814Z"
   },
   {
    "duration": 202,
    "start_time": "2023-12-05T00:58:36.380Z"
   },
   {
    "duration": 147,
    "start_time": "2023-12-05T00:59:16.759Z"
   },
   {
    "duration": 167,
    "start_time": "2023-12-05T00:59:22.926Z"
   },
   {
    "duration": 382,
    "start_time": "2023-12-05T01:04:40.705Z"
   },
   {
    "duration": 14,
    "start_time": "2023-12-05T01:05:29.675Z"
   },
   {
    "duration": 1863,
    "start_time": "2023-12-05T01:06:01.037Z"
   },
   {
    "duration": 2,
    "start_time": "2023-12-05T01:06:05.253Z"
   },
   {
    "duration": 5,
    "start_time": "2023-12-05T01:09:30.555Z"
   },
   {
    "duration": 15,
    "start_time": "2023-12-05T01:14:01.439Z"
   },
   {
    "duration": 858,
    "start_time": "2023-12-05T01:14:19.153Z"
   },
   {
    "duration": 93,
    "start_time": "2023-12-05T01:14:20.013Z"
   },
   {
    "duration": 2692,
    "start_time": "2023-12-05T01:14:20.107Z"
   },
   {
    "duration": 10,
    "start_time": "2023-12-05T01:14:22.801Z"
   },
   {
    "duration": 5,
    "start_time": "2023-12-05T01:14:22.813Z"
   },
   {
    "duration": 262,
    "start_time": "2023-12-05T01:14:22.819Z"
   },
   {
    "duration": 40,
    "start_time": "2023-12-05T01:14:23.083Z"
   },
   {
    "duration": 14,
    "start_time": "2023-12-05T01:14:23.125Z"
   },
   {
    "duration": 34,
    "start_time": "2023-12-05T01:14:23.141Z"
   },
   {
    "duration": 8,
    "start_time": "2023-12-05T01:14:23.176Z"
   },
   {
    "duration": 43,
    "start_time": "2023-12-05T01:14:23.185Z"
   },
   {
    "duration": 6,
    "start_time": "2023-12-05T01:14:23.230Z"
   },
   {
    "duration": 42,
    "start_time": "2023-12-05T01:14:23.238Z"
   },
   {
    "duration": 8,
    "start_time": "2023-12-05T01:14:23.283Z"
   },
   {
    "duration": 8,
    "start_time": "2023-12-05T01:14:23.292Z"
   },
   {
    "duration": 49,
    "start_time": "2023-12-05T01:14:23.301Z"
   },
   {
    "duration": 34,
    "start_time": "2023-12-05T01:14:23.351Z"
   },
   {
    "duration": 56,
    "start_time": "2023-12-05T01:14:23.387Z"
   },
   {
    "duration": 40,
    "start_time": "2023-12-05T01:14:23.445Z"
   },
   {
    "duration": 7,
    "start_time": "2023-12-05T01:14:23.487Z"
   },
   {
    "duration": 17,
    "start_time": "2023-12-05T01:14:23.496Z"
   },
   {
    "duration": 6,
    "start_time": "2023-12-05T01:14:23.515Z"
   },
   {
    "duration": 8,
    "start_time": "2023-12-05T01:14:23.522Z"
   },
   {
    "duration": 13,
    "start_time": "2023-12-05T01:14:23.531Z"
   },
   {
    "duration": 275,
    "start_time": "2023-12-05T01:14:23.545Z"
   },
   {
    "duration": 23,
    "start_time": "2023-12-05T01:14:23.822Z"
   },
   {
    "duration": 395,
    "start_time": "2023-12-05T01:14:23.847Z"
   },
   {
    "duration": 331,
    "start_time": "2023-12-05T01:14:24.243Z"
   },
   {
    "duration": 263,
    "start_time": "2023-12-05T01:14:24.575Z"
   },
   {
    "duration": 303,
    "start_time": "2023-12-05T01:14:24.840Z"
   },
   {
    "duration": 191,
    "start_time": "2023-12-05T01:14:25.144Z"
   },
   {
    "duration": 182,
    "start_time": "2023-12-05T01:14:25.337Z"
   },
   {
    "duration": 163,
    "start_time": "2023-12-05T01:14:25.521Z"
   },
   {
    "duration": 3,
    "start_time": "2023-12-05T01:14:25.686Z"
   },
   {
    "duration": 178,
    "start_time": "2023-12-05T01:14:25.691Z"
   },
   {
    "duration": 174,
    "start_time": "2023-12-05T01:14:25.871Z"
   },
   {
    "duration": 16,
    "start_time": "2023-12-05T01:14:26.047Z"
   },
   {
    "duration": 6,
    "start_time": "2023-12-05T01:14:26.074Z"
   },
   {
    "duration": 163,
    "start_time": "2023-12-05T01:14:26.081Z"
   },
   {
    "duration": 411,
    "start_time": "2023-12-05T01:14:26.246Z"
   },
   {
    "duration": 243,
    "start_time": "2023-12-05T01:14:26.661Z"
   },
   {
    "duration": 9,
    "start_time": "2023-12-05T01:14:26.905Z"
   },
   {
    "duration": 318,
    "start_time": "2023-12-05T01:14:26.915Z"
   },
   {
    "duration": 318,
    "start_time": "2023-12-05T01:14:27.234Z"
   },
   {
    "duration": 147,
    "start_time": "2023-12-05T01:14:27.554Z"
   },
   {
    "duration": 150,
    "start_time": "2023-12-05T01:14:27.702Z"
   },
   {
    "duration": 23,
    "start_time": "2023-12-05T01:14:27.855Z"
   },
   {
    "duration": 299,
    "start_time": "2023-12-05T01:14:27.879Z"
   },
   {
    "duration": 705,
    "start_time": "2023-12-05T01:14:28.180Z"
   },
   {
    "duration": 8,
    "start_time": "2023-12-05T01:14:28.887Z"
   },
   {
    "duration": 252,
    "start_time": "2023-12-05T01:14:28.897Z"
   },
   {
    "duration": 10,
    "start_time": "2023-12-05T01:14:29.151Z"
   },
   {
    "duration": 107,
    "start_time": "2023-12-05T01:14:29.163Z"
   },
   {
    "duration": 154,
    "start_time": "2023-12-05T01:14:29.272Z"
   },
   {
    "duration": 168,
    "start_time": "2023-12-05T01:14:29.428Z"
   },
   {
    "duration": 149,
    "start_time": "2023-12-05T01:14:29.598Z"
   },
   {
    "duration": 153,
    "start_time": "2023-12-05T01:14:29.748Z"
   },
   {
    "duration": 162,
    "start_time": "2023-12-05T01:14:29.902Z"
   },
   {
    "duration": 585,
    "start_time": "2023-12-05T01:14:30.066Z"
   },
   {
    "duration": 33,
    "start_time": "2023-12-05T01:14:30.653Z"
   },
   {
    "duration": 352,
    "start_time": "2023-12-05T01:14:30.687Z"
   },
   {
    "duration": 4,
    "start_time": "2023-12-05T01:14:31.041Z"
   },
   {
    "duration": 358,
    "start_time": "2023-12-05T01:14:31.046Z"
   },
   {
    "duration": 24,
    "start_time": "2023-12-05T01:14:31.407Z"
   },
   {
    "duration": 397,
    "start_time": "2023-12-05T01:14:31.433Z"
   },
   {
    "duration": 798,
    "start_time": "2023-12-05T01:19:03.084Z"
   },
   {
    "duration": 45,
    "start_time": "2023-12-05T01:19:03.884Z"
   },
   {
    "duration": 2040,
    "start_time": "2023-12-05T01:19:03.930Z"
   },
   {
    "duration": 12,
    "start_time": "2023-12-05T01:19:05.974Z"
   },
   {
    "duration": 29,
    "start_time": "2023-12-05T01:19:05.989Z"
   },
   {
    "duration": 255,
    "start_time": "2023-12-05T01:19:06.020Z"
   },
   {
    "duration": 32,
    "start_time": "2023-12-05T01:19:06.277Z"
   },
   {
    "duration": 12,
    "start_time": "2023-12-05T01:19:06.311Z"
   },
   {
    "duration": 11,
    "start_time": "2023-12-05T01:19:06.325Z"
   },
   {
    "duration": 8,
    "start_time": "2023-12-05T01:19:06.338Z"
   },
   {
    "duration": 36,
    "start_time": "2023-12-05T01:19:06.374Z"
   },
   {
    "duration": 6,
    "start_time": "2023-12-05T01:19:06.412Z"
   },
   {
    "duration": 70,
    "start_time": "2023-12-05T01:19:06.420Z"
   },
   {
    "duration": 18,
    "start_time": "2023-12-05T01:19:06.493Z"
   },
   {
    "duration": 16,
    "start_time": "2023-12-05T01:19:06.512Z"
   },
   {
    "duration": 26,
    "start_time": "2023-12-05T01:19:06.529Z"
   },
   {
    "duration": 35,
    "start_time": "2023-12-05T01:19:06.557Z"
   },
   {
    "duration": 57,
    "start_time": "2023-12-05T01:19:06.594Z"
   },
   {
    "duration": 41,
    "start_time": "2023-12-05T01:19:06.653Z"
   },
   {
    "duration": 8,
    "start_time": "2023-12-05T01:19:06.696Z"
   },
   {
    "duration": 12,
    "start_time": "2023-12-05T01:19:06.706Z"
   },
   {
    "duration": 6,
    "start_time": "2023-12-05T01:19:06.719Z"
   },
   {
    "duration": 9,
    "start_time": "2023-12-05T01:19:06.727Z"
   },
   {
    "duration": 47,
    "start_time": "2023-12-05T01:19:06.738Z"
   },
   {
    "duration": 258,
    "start_time": "2023-12-05T01:19:06.787Z"
   },
   {
    "duration": 32,
    "start_time": "2023-12-05T01:19:07.047Z"
   },
   {
    "duration": 380,
    "start_time": "2023-12-05T01:19:07.080Z"
   },
   {
    "duration": 330,
    "start_time": "2023-12-05T01:19:07.462Z"
   },
   {
    "duration": 279,
    "start_time": "2023-12-05T01:19:07.794Z"
   },
   {
    "duration": 319,
    "start_time": "2023-12-05T01:19:08.075Z"
   },
   {
    "duration": 188,
    "start_time": "2023-12-05T01:19:08.395Z"
   },
   {
    "duration": 172,
    "start_time": "2023-12-05T01:19:08.585Z"
   },
   {
    "duration": 158,
    "start_time": "2023-12-05T01:19:08.758Z"
   },
   {
    "duration": 3,
    "start_time": "2023-12-05T01:19:08.917Z"
   },
   {
    "duration": 170,
    "start_time": "2023-12-05T01:19:08.921Z"
   },
   {
    "duration": 176,
    "start_time": "2023-12-05T01:19:09.092Z"
   },
   {
    "duration": 15,
    "start_time": "2023-12-05T01:19:09.270Z"
   },
   {
    "duration": 4,
    "start_time": "2023-12-05T01:19:09.286Z"
   },
   {
    "duration": 174,
    "start_time": "2023-12-05T01:19:09.292Z"
   },
   {
    "duration": 400,
    "start_time": "2023-12-05T01:19:09.467Z"
   },
   {
    "duration": 174,
    "start_time": "2023-12-05T01:19:09.873Z"
   },
   {
    "duration": 7,
    "start_time": "2023-12-05T01:19:10.049Z"
   },
   {
    "duration": 317,
    "start_time": "2023-12-05T01:19:10.058Z"
   },
   {
    "duration": 311,
    "start_time": "2023-12-05T01:19:10.377Z"
   },
   {
    "duration": 155,
    "start_time": "2023-12-05T01:19:10.690Z"
   },
   {
    "duration": 142,
    "start_time": "2023-12-05T01:19:10.846Z"
   },
   {
    "duration": 14,
    "start_time": "2023-12-05T01:19:10.990Z"
   },
   {
    "duration": 294,
    "start_time": "2023-12-05T01:19:11.006Z"
   },
   {
    "duration": 716,
    "start_time": "2023-12-05T01:19:11.302Z"
   },
   {
    "duration": 9,
    "start_time": "2023-12-05T01:19:12.020Z"
   },
   {
    "duration": 251,
    "start_time": "2023-12-05T01:19:12.030Z"
   },
   {
    "duration": 10,
    "start_time": "2023-12-05T01:19:12.283Z"
   },
   {
    "duration": 123,
    "start_time": "2023-12-05T01:19:12.295Z"
   },
   {
    "duration": 147,
    "start_time": "2023-12-05T01:19:12.420Z"
   },
   {
    "duration": 163,
    "start_time": "2023-12-05T01:19:12.574Z"
   },
   {
    "duration": 159,
    "start_time": "2023-12-05T01:19:12.739Z"
   },
   {
    "duration": 161,
    "start_time": "2023-12-05T01:19:12.900Z"
   },
   {
    "duration": 157,
    "start_time": "2023-12-05T01:19:13.063Z"
   },
   {
    "duration": 580,
    "start_time": "2023-12-05T01:19:13.222Z"
   },
   {
    "duration": 24,
    "start_time": "2023-12-05T01:19:13.804Z"
   },
   {
    "duration": 302,
    "start_time": "2023-12-05T01:19:13.829Z"
   },
   {
    "duration": 4,
    "start_time": "2023-12-05T01:19:14.133Z"
   },
   {
    "duration": 352,
    "start_time": "2023-12-05T01:19:14.138Z"
   },
   {
    "duration": 27,
    "start_time": "2023-12-05T01:19:14.492Z"
   },
   {
    "duration": 392,
    "start_time": "2023-12-05T01:19:14.520Z"
   },
   {
    "duration": 56,
    "start_time": "2023-12-05T05:37:21.362Z"
   },
   {
    "duration": 1189,
    "start_time": "2023-12-05T05:37:32.517Z"
   },
   {
    "duration": 44,
    "start_time": "2023-12-05T05:37:33.708Z"
   },
   {
    "duration": 2068,
    "start_time": "2023-12-05T05:37:33.753Z"
   },
   {
    "duration": 10,
    "start_time": "2023-12-05T05:37:35.823Z"
   },
   {
    "duration": 11,
    "start_time": "2023-12-05T05:37:35.836Z"
   },
   {
    "duration": 254,
    "start_time": "2023-12-05T05:37:35.849Z"
   },
   {
    "duration": 36,
    "start_time": "2023-12-05T05:37:36.104Z"
   },
   {
    "duration": 12,
    "start_time": "2023-12-05T05:37:36.141Z"
   },
   {
    "duration": 8,
    "start_time": "2023-12-05T05:37:36.154Z"
   },
   {
    "duration": 21,
    "start_time": "2023-12-05T05:37:36.164Z"
   },
   {
    "duration": 63,
    "start_time": "2023-12-05T05:37:36.187Z"
   },
   {
    "duration": 7,
    "start_time": "2023-12-05T05:37:36.252Z"
   },
   {
    "duration": 45,
    "start_time": "2023-12-05T05:37:36.260Z"
   },
   {
    "duration": 15,
    "start_time": "2023-12-05T05:37:36.308Z"
   },
   {
    "duration": 30,
    "start_time": "2023-12-05T05:37:36.324Z"
   },
   {
    "duration": 43,
    "start_time": "2023-12-05T05:37:36.355Z"
   },
   {
    "duration": 52,
    "start_time": "2023-12-05T05:37:36.400Z"
   },
   {
    "duration": 59,
    "start_time": "2023-12-05T05:37:36.454Z"
   },
   {
    "duration": 41,
    "start_time": "2023-12-05T05:37:36.514Z"
   },
   {
    "duration": 22,
    "start_time": "2023-12-05T05:37:36.557Z"
   },
   {
    "duration": 44,
    "start_time": "2023-12-05T05:37:36.581Z"
   },
   {
    "duration": 6,
    "start_time": "2023-12-05T05:37:36.627Z"
   },
   {
    "duration": 8,
    "start_time": "2023-12-05T05:37:36.635Z"
   },
   {
    "duration": 13,
    "start_time": "2023-12-05T05:37:36.645Z"
   },
   {
    "duration": 274,
    "start_time": "2023-12-05T05:37:36.660Z"
   },
   {
    "duration": 24,
    "start_time": "2023-12-05T05:37:36.936Z"
   },
   {
    "duration": 374,
    "start_time": "2023-12-05T05:37:36.962Z"
   },
   {
    "duration": 338,
    "start_time": "2023-12-05T05:37:37.337Z"
   },
   {
    "duration": 271,
    "start_time": "2023-12-05T05:37:37.676Z"
   },
   {
    "duration": 311,
    "start_time": "2023-12-05T05:37:37.949Z"
   },
   {
    "duration": 183,
    "start_time": "2023-12-05T05:37:38.262Z"
   },
   {
    "duration": 163,
    "start_time": "2023-12-05T05:37:38.447Z"
   },
   {
    "duration": 158,
    "start_time": "2023-12-05T05:37:38.611Z"
   },
   {
    "duration": 3,
    "start_time": "2023-12-05T05:37:38.770Z"
   },
   {
    "duration": 176,
    "start_time": "2023-12-05T05:37:38.774Z"
   },
   {
    "duration": 186,
    "start_time": "2023-12-05T05:37:38.952Z"
   },
   {
    "duration": 14,
    "start_time": "2023-12-05T05:37:39.140Z"
   },
   {
    "duration": 12,
    "start_time": "2023-12-05T05:37:39.156Z"
   },
   {
    "duration": 158,
    "start_time": "2023-12-05T05:37:39.170Z"
   },
   {
    "duration": 405,
    "start_time": "2023-12-05T05:37:39.330Z"
   },
   {
    "duration": 238,
    "start_time": "2023-12-05T05:37:39.739Z"
   },
   {
    "duration": 9,
    "start_time": "2023-12-05T05:37:39.979Z"
   },
   {
    "duration": 315,
    "start_time": "2023-12-05T05:37:39.989Z"
   },
   {
    "duration": 317,
    "start_time": "2023-12-05T05:37:40.305Z"
   },
   {
    "duration": 157,
    "start_time": "2023-12-05T05:37:40.624Z"
   },
   {
    "duration": 144,
    "start_time": "2023-12-05T05:37:40.783Z"
   },
   {
    "duration": 14,
    "start_time": "2023-12-05T05:37:40.929Z"
   },
   {
    "duration": 293,
    "start_time": "2023-12-05T05:37:40.944Z"
   },
   {
    "duration": 705,
    "start_time": "2023-12-05T05:37:41.239Z"
   },
   {
    "duration": 7,
    "start_time": "2023-12-05T05:37:41.946Z"
   },
   {
    "duration": 241,
    "start_time": "2023-12-05T05:37:41.955Z"
   },
   {
    "duration": 10,
    "start_time": "2023-12-05T05:37:42.198Z"
   },
   {
    "duration": 104,
    "start_time": "2023-12-05T05:37:42.210Z"
   },
   {
    "duration": 142,
    "start_time": "2023-12-05T05:37:42.321Z"
   },
   {
    "duration": 169,
    "start_time": "2023-12-05T05:37:42.464Z"
   },
   {
    "duration": 152,
    "start_time": "2023-12-05T05:37:42.634Z"
   },
   {
    "duration": 153,
    "start_time": "2023-12-05T05:37:42.788Z"
   },
   {
    "duration": 154,
    "start_time": "2023-12-05T05:37:42.943Z"
   },
   {
    "duration": 577,
    "start_time": "2023-12-05T05:37:43.099Z"
   },
   {
    "duration": 24,
    "start_time": "2023-12-05T05:37:43.677Z"
   },
   {
    "duration": 287,
    "start_time": "2023-12-05T05:37:43.702Z"
   },
   {
    "duration": 4,
    "start_time": "2023-12-05T05:37:43.991Z"
   },
   {
    "duration": 360,
    "start_time": "2023-12-05T05:37:43.996Z"
   },
   {
    "duration": 24,
    "start_time": "2023-12-05T05:37:44.357Z"
   },
   {
    "duration": 406,
    "start_time": "2023-12-05T05:37:44.383Z"
   },
   {
    "duration": 24,
    "start_time": "2023-12-05T05:39:01.962Z"
   },
   {
    "duration": 157,
    "start_time": "2023-12-05T05:41:33.535Z"
   },
   {
    "duration": 167,
    "start_time": "2023-12-05T05:42:18.944Z"
   },
   {
    "duration": 165,
    "start_time": "2023-12-05T05:47:25.096Z"
   },
   {
    "duration": 154,
    "start_time": "2023-12-05T05:47:37.102Z"
   },
   {
    "duration": 265,
    "start_time": "2023-12-05T05:49:28.098Z"
   },
   {
    "duration": 269,
    "start_time": "2023-12-05T05:50:02.722Z"
   },
   {
    "duration": 444,
    "start_time": "2023-12-05T05:50:33.059Z"
   },
   {
    "duration": 79,
    "start_time": "2023-12-05T05:51:19.139Z"
   },
   {
    "duration": 124,
    "start_time": "2023-12-05T05:51:40.102Z"
   },
   {
    "duration": 740,
    "start_time": "2023-12-05T05:52:17.217Z"
   },
   {
    "duration": 87,
    "start_time": "2023-12-05T05:52:37.951Z"
   },
   {
    "duration": 10,
    "start_time": "2023-12-05T05:54:20.337Z"
   },
   {
    "duration": 91,
    "start_time": "2023-12-05T05:54:23.891Z"
   },
   {
    "duration": 138,
    "start_time": "2023-12-05T05:56:41.336Z"
   },
   {
    "duration": 172,
    "start_time": "2023-12-05T05:57:21.444Z"
   },
   {
    "duration": 158,
    "start_time": "2023-12-05T05:57:38.110Z"
   },
   {
    "duration": 291,
    "start_time": "2023-12-05T06:06:33.231Z"
   },
   {
    "duration": 453,
    "start_time": "2023-12-05T06:07:44.294Z"
   },
   {
    "duration": 307,
    "start_time": "2023-12-05T06:07:48.408Z"
   },
   {
    "duration": 26,
    "start_time": "2023-12-05T06:13:42.331Z"
   },
   {
    "duration": 430,
    "start_time": "2023-12-05T06:15:00.766Z"
   },
   {
    "duration": 278,
    "start_time": "2023-12-05T06:16:28.790Z"
   },
   {
    "duration": 104,
    "start_time": "2023-12-05T06:19:41.550Z"
   },
   {
    "duration": 1292,
    "start_time": "2023-12-05T06:19:49.607Z"
   },
   {
    "duration": 364,
    "start_time": "2023-12-05T06:27:13.136Z"
   },
   {
    "duration": 409,
    "start_time": "2023-12-05T06:27:35.188Z"
   },
   {
    "duration": 225,
    "start_time": "2023-12-05T06:27:56.365Z"
   },
   {
    "duration": 355,
    "start_time": "2023-12-05T06:28:07.746Z"
   },
   {
    "duration": 379,
    "start_time": "2023-12-05T06:28:13.721Z"
   },
   {
    "duration": 366,
    "start_time": "2023-12-05T06:29:15.927Z"
   },
   {
    "duration": 349,
    "start_time": "2023-12-05T06:29:42.452Z"
   },
   {
    "duration": 42,
    "start_time": "2023-12-05T06:30:50.017Z"
   },
   {
    "duration": 320,
    "start_time": "2023-12-05T06:31:05.363Z"
   },
   {
    "duration": 288,
    "start_time": "2023-12-05T06:32:15.476Z"
   },
   {
    "duration": 22,
    "start_time": "2023-12-05T06:42:36.939Z"
   },
   {
    "duration": 14,
    "start_time": "2023-12-05T06:56:56.335Z"
   },
   {
    "duration": 25,
    "start_time": "2023-12-05T06:58:02.479Z"
   },
   {
    "duration": 23,
    "start_time": "2023-12-05T07:00:52.897Z"
   },
   {
    "duration": 25,
    "start_time": "2023-12-05T07:01:01.366Z"
   },
   {
    "duration": 791,
    "start_time": "2023-12-05T07:01:13.977Z"
   },
   {
    "duration": 53,
    "start_time": "2023-12-05T07:01:14.770Z"
   },
   {
    "duration": 2149,
    "start_time": "2023-12-05T07:01:14.825Z"
   },
   {
    "duration": 10,
    "start_time": "2023-12-05T07:01:16.976Z"
   },
   {
    "duration": 15,
    "start_time": "2023-12-05T07:01:16.988Z"
   },
   {
    "duration": 261,
    "start_time": "2023-12-05T07:01:17.004Z"
   },
   {
    "duration": 31,
    "start_time": "2023-12-05T07:01:17.267Z"
   },
   {
    "duration": 26,
    "start_time": "2023-12-05T07:01:17.300Z"
   },
   {
    "duration": 9,
    "start_time": "2023-12-05T07:01:17.327Z"
   },
   {
    "duration": 22,
    "start_time": "2023-12-05T07:01:17.339Z"
   },
   {
    "duration": 46,
    "start_time": "2023-12-05T07:01:17.363Z"
   },
   {
    "duration": 18,
    "start_time": "2023-12-05T07:01:17.411Z"
   },
   {
    "duration": 60,
    "start_time": "2023-12-05T07:01:17.431Z"
   },
   {
    "duration": 28,
    "start_time": "2023-12-05T07:01:17.493Z"
   },
   {
    "duration": 13,
    "start_time": "2023-12-05T07:01:17.523Z"
   },
   {
    "duration": 20,
    "start_time": "2023-12-05T07:01:17.538Z"
   },
   {
    "duration": 36,
    "start_time": "2023-12-05T07:01:17.560Z"
   },
   {
    "duration": 80,
    "start_time": "2023-12-05T07:01:17.598Z"
   },
   {
    "duration": 44,
    "start_time": "2023-12-05T07:01:17.679Z"
   },
   {
    "duration": 9,
    "start_time": "2023-12-05T07:01:17.725Z"
   },
   {
    "duration": 23,
    "start_time": "2023-12-05T07:01:17.736Z"
   },
   {
    "duration": 8,
    "start_time": "2023-12-05T07:01:17.761Z"
   },
   {
    "duration": 15,
    "start_time": "2023-12-05T07:01:17.771Z"
   },
   {
    "duration": 361,
    "start_time": "2023-12-05T07:01:17.787Z"
   },
   {
    "duration": 88,
    "start_time": "2023-12-05T07:01:18.150Z"
   },
   {
    "duration": 0,
    "start_time": "2023-12-05T07:01:18.242Z"
   },
   {
    "duration": 0,
    "start_time": "2023-12-05T07:01:18.244Z"
   },
   {
    "duration": 0,
    "start_time": "2023-12-05T07:01:18.246Z"
   },
   {
    "duration": 0,
    "start_time": "2023-12-05T07:01:18.247Z"
   },
   {
    "duration": 0,
    "start_time": "2023-12-05T07:01:18.249Z"
   },
   {
    "duration": 0,
    "start_time": "2023-12-05T07:01:18.251Z"
   },
   {
    "duration": 0,
    "start_time": "2023-12-05T07:01:18.252Z"
   },
   {
    "duration": 0,
    "start_time": "2023-12-05T07:01:18.254Z"
   },
   {
    "duration": 0,
    "start_time": "2023-12-05T07:01:18.255Z"
   },
   {
    "duration": 0,
    "start_time": "2023-12-05T07:01:18.257Z"
   },
   {
    "duration": 0,
    "start_time": "2023-12-05T07:01:18.258Z"
   },
   {
    "duration": 0,
    "start_time": "2023-12-05T07:01:18.260Z"
   },
   {
    "duration": 0,
    "start_time": "2023-12-05T07:01:18.261Z"
   },
   {
    "duration": 0,
    "start_time": "2023-12-05T07:01:18.263Z"
   },
   {
    "duration": 0,
    "start_time": "2023-12-05T07:01:18.264Z"
   },
   {
    "duration": 0,
    "start_time": "2023-12-05T07:01:18.266Z"
   },
   {
    "duration": 0,
    "start_time": "2023-12-05T07:01:18.267Z"
   },
   {
    "duration": 0,
    "start_time": "2023-12-05T07:01:18.268Z"
   },
   {
    "duration": 0,
    "start_time": "2023-12-05T07:01:18.269Z"
   },
   {
    "duration": 0,
    "start_time": "2023-12-05T07:01:18.270Z"
   },
   {
    "duration": 0,
    "start_time": "2023-12-05T07:01:18.272Z"
   },
   {
    "duration": 0,
    "start_time": "2023-12-05T07:01:18.322Z"
   },
   {
    "duration": 0,
    "start_time": "2023-12-05T07:01:18.323Z"
   },
   {
    "duration": 0,
    "start_time": "2023-12-05T07:01:18.325Z"
   },
   {
    "duration": 0,
    "start_time": "2023-12-05T07:01:18.326Z"
   },
   {
    "duration": 0,
    "start_time": "2023-12-05T07:01:18.327Z"
   },
   {
    "duration": 0,
    "start_time": "2023-12-05T07:01:18.328Z"
   },
   {
    "duration": 0,
    "start_time": "2023-12-05T07:01:18.330Z"
   },
   {
    "duration": 0,
    "start_time": "2023-12-05T07:01:18.330Z"
   },
   {
    "duration": 0,
    "start_time": "2023-12-05T07:01:18.332Z"
   },
   {
    "duration": 0,
    "start_time": "2023-12-05T07:01:18.332Z"
   },
   {
    "duration": 0,
    "start_time": "2023-12-05T07:01:18.334Z"
   },
   {
    "duration": 0,
    "start_time": "2023-12-05T07:01:18.335Z"
   },
   {
    "duration": 0,
    "start_time": "2023-12-05T07:01:18.336Z"
   },
   {
    "duration": 0,
    "start_time": "2023-12-05T07:01:18.338Z"
   },
   {
    "duration": 0,
    "start_time": "2023-12-05T07:01:18.339Z"
   },
   {
    "duration": 0,
    "start_time": "2023-12-05T07:01:18.340Z"
   },
   {
    "duration": 0,
    "start_time": "2023-12-05T07:01:18.341Z"
   },
   {
    "duration": 0,
    "start_time": "2023-12-05T07:01:18.342Z"
   },
   {
    "duration": 0,
    "start_time": "2023-12-05T07:01:18.343Z"
   },
   {
    "duration": 0,
    "start_time": "2023-12-05T07:01:18.344Z"
   },
   {
    "duration": 0,
    "start_time": "2023-12-05T07:01:18.345Z"
   },
   {
    "duration": 861,
    "start_time": "2023-12-05T07:01:44.899Z"
   },
   {
    "duration": 43,
    "start_time": "2023-12-05T07:01:45.762Z"
   },
   {
    "duration": 2091,
    "start_time": "2023-12-05T07:01:45.806Z"
   },
   {
    "duration": 10,
    "start_time": "2023-12-05T07:01:47.899Z"
   },
   {
    "duration": 18,
    "start_time": "2023-12-05T07:01:47.911Z"
   },
   {
    "duration": 256,
    "start_time": "2023-12-05T07:01:47.930Z"
   },
   {
    "duration": 42,
    "start_time": "2023-12-05T07:01:48.188Z"
   },
   {
    "duration": 28,
    "start_time": "2023-12-05T07:01:48.232Z"
   },
   {
    "duration": 39,
    "start_time": "2023-12-05T07:01:48.262Z"
   },
   {
    "duration": 10,
    "start_time": "2023-12-05T07:01:48.304Z"
   },
   {
    "duration": 35,
    "start_time": "2023-12-05T07:01:48.316Z"
   },
   {
    "duration": 7,
    "start_time": "2023-12-05T07:01:48.352Z"
   },
   {
    "duration": 36,
    "start_time": "2023-12-05T07:01:48.360Z"
   },
   {
    "duration": 8,
    "start_time": "2023-12-05T07:01:48.398Z"
   },
   {
    "duration": 20,
    "start_time": "2023-12-05T07:01:48.407Z"
   },
   {
    "duration": 30,
    "start_time": "2023-12-05T07:01:48.429Z"
   },
   {
    "duration": 38,
    "start_time": "2023-12-05T07:01:48.460Z"
   },
   {
    "duration": 69,
    "start_time": "2023-12-05T07:01:48.500Z"
   },
   {
    "duration": 35,
    "start_time": "2023-12-05T07:01:48.570Z"
   },
   {
    "duration": 21,
    "start_time": "2023-12-05T07:01:48.607Z"
   },
   {
    "duration": 17,
    "start_time": "2023-12-05T07:01:48.630Z"
   },
   {
    "duration": 22,
    "start_time": "2023-12-05T07:01:48.649Z"
   },
   {
    "duration": 20,
    "start_time": "2023-12-05T07:01:48.673Z"
   },
   {
    "duration": 366,
    "start_time": "2023-12-05T07:01:48.695Z"
   },
   {
    "duration": 82,
    "start_time": "2023-12-05T07:01:49.063Z"
   },
   {
    "duration": 0,
    "start_time": "2023-12-05T07:01:49.149Z"
   },
   {
    "duration": 0,
    "start_time": "2023-12-05T07:01:49.150Z"
   },
   {
    "duration": 0,
    "start_time": "2023-12-05T07:01:49.151Z"
   },
   {
    "duration": 0,
    "start_time": "2023-12-05T07:01:49.152Z"
   },
   {
    "duration": 0,
    "start_time": "2023-12-05T07:01:49.153Z"
   },
   {
    "duration": 0,
    "start_time": "2023-12-05T07:01:49.154Z"
   },
   {
    "duration": 0,
    "start_time": "2023-12-05T07:01:49.155Z"
   },
   {
    "duration": 0,
    "start_time": "2023-12-05T07:01:49.156Z"
   },
   {
    "duration": 0,
    "start_time": "2023-12-05T07:01:49.157Z"
   },
   {
    "duration": 0,
    "start_time": "2023-12-05T07:01:49.158Z"
   },
   {
    "duration": 0,
    "start_time": "2023-12-05T07:01:49.159Z"
   },
   {
    "duration": 0,
    "start_time": "2023-12-05T07:01:49.161Z"
   },
   {
    "duration": 0,
    "start_time": "2023-12-05T07:01:49.162Z"
   },
   {
    "duration": 0,
    "start_time": "2023-12-05T07:01:49.163Z"
   },
   {
    "duration": 0,
    "start_time": "2023-12-05T07:01:49.164Z"
   },
   {
    "duration": 0,
    "start_time": "2023-12-05T07:01:49.165Z"
   },
   {
    "duration": 0,
    "start_time": "2023-12-05T07:01:49.166Z"
   },
   {
    "duration": 0,
    "start_time": "2023-12-05T07:01:49.167Z"
   },
   {
    "duration": 0,
    "start_time": "2023-12-05T07:01:49.168Z"
   },
   {
    "duration": 0,
    "start_time": "2023-12-05T07:01:49.170Z"
   },
   {
    "duration": 0,
    "start_time": "2023-12-05T07:01:49.171Z"
   },
   {
    "duration": 0,
    "start_time": "2023-12-05T07:01:49.172Z"
   },
   {
    "duration": 0,
    "start_time": "2023-12-05T07:01:49.173Z"
   },
   {
    "duration": 0,
    "start_time": "2023-12-05T07:01:49.174Z"
   },
   {
    "duration": 0,
    "start_time": "2023-12-05T07:01:49.175Z"
   },
   {
    "duration": 0,
    "start_time": "2023-12-05T07:01:49.176Z"
   },
   {
    "duration": 0,
    "start_time": "2023-12-05T07:01:49.223Z"
   },
   {
    "duration": 0,
    "start_time": "2023-12-05T07:01:49.224Z"
   },
   {
    "duration": 0,
    "start_time": "2023-12-05T07:01:49.225Z"
   },
   {
    "duration": 0,
    "start_time": "2023-12-05T07:01:49.226Z"
   },
   {
    "duration": 0,
    "start_time": "2023-12-05T07:01:49.227Z"
   },
   {
    "duration": 0,
    "start_time": "2023-12-05T07:01:49.229Z"
   },
   {
    "duration": 0,
    "start_time": "2023-12-05T07:01:49.230Z"
   },
   {
    "duration": 0,
    "start_time": "2023-12-05T07:01:49.231Z"
   },
   {
    "duration": 0,
    "start_time": "2023-12-05T07:01:49.232Z"
   },
   {
    "duration": 0,
    "start_time": "2023-12-05T07:01:49.233Z"
   },
   {
    "duration": 0,
    "start_time": "2023-12-05T07:01:49.234Z"
   },
   {
    "duration": 0,
    "start_time": "2023-12-05T07:01:49.235Z"
   },
   {
    "duration": 0,
    "start_time": "2023-12-05T07:01:49.236Z"
   },
   {
    "duration": 0,
    "start_time": "2023-12-05T07:01:49.237Z"
   },
   {
    "duration": 0,
    "start_time": "2023-12-05T07:01:49.238Z"
   },
   {
    "duration": 0,
    "start_time": "2023-12-05T07:01:49.240Z"
   },
   {
    "duration": 25,
    "start_time": "2023-12-05T07:02:46.758Z"
   },
   {
    "duration": 26,
    "start_time": "2023-12-05T07:03:00.667Z"
   },
   {
    "duration": 791,
    "start_time": "2023-12-05T07:03:17.270Z"
   },
   {
    "duration": 43,
    "start_time": "2023-12-05T07:03:18.063Z"
   },
   {
    "duration": 2102,
    "start_time": "2023-12-05T07:03:18.107Z"
   },
   {
    "duration": 11,
    "start_time": "2023-12-05T07:03:20.211Z"
   },
   {
    "duration": 5,
    "start_time": "2023-12-05T07:03:20.223Z"
   },
   {
    "duration": 251,
    "start_time": "2023-12-05T07:03:20.229Z"
   },
   {
    "duration": 31,
    "start_time": "2023-12-05T07:03:20.481Z"
   },
   {
    "duration": 17,
    "start_time": "2023-12-05T07:03:20.513Z"
   },
   {
    "duration": 8,
    "start_time": "2023-12-05T07:03:20.532Z"
   },
   {
    "duration": 18,
    "start_time": "2023-12-05T07:03:20.543Z"
   },
   {
    "duration": 40,
    "start_time": "2023-12-05T07:03:20.563Z"
   },
   {
    "duration": 18,
    "start_time": "2023-12-05T07:03:20.605Z"
   },
   {
    "duration": 30,
    "start_time": "2023-12-05T07:03:20.625Z"
   },
   {
    "duration": 9,
    "start_time": "2023-12-05T07:03:20.657Z"
   },
   {
    "duration": 32,
    "start_time": "2023-12-05T07:03:20.668Z"
   },
   {
    "duration": 53,
    "start_time": "2023-12-05T07:03:20.702Z"
   },
   {
    "duration": 37,
    "start_time": "2023-12-05T07:03:20.757Z"
   },
   {
    "duration": 59,
    "start_time": "2023-12-05T07:03:20.795Z"
   },
   {
    "duration": 33,
    "start_time": "2023-12-05T07:03:20.856Z"
   },
   {
    "duration": 35,
    "start_time": "2023-12-05T07:03:20.891Z"
   },
   {
    "duration": 43,
    "start_time": "2023-12-05T07:03:20.927Z"
   },
   {
    "duration": 8,
    "start_time": "2023-12-05T07:03:20.972Z"
   },
   {
    "duration": 29,
    "start_time": "2023-12-05T07:03:20.981Z"
   },
   {
    "duration": 356,
    "start_time": "2023-12-05T07:03:21.011Z"
   },
   {
    "duration": 25,
    "start_time": "2023-12-05T07:03:21.369Z"
   },
   {
    "duration": 475,
    "start_time": "2023-12-05T07:03:21.395Z"
   },
   {
    "duration": 253,
    "start_time": "2023-12-05T07:03:21.871Z"
   },
   {
    "duration": 270,
    "start_time": "2023-12-05T07:03:22.128Z"
   },
   {
    "duration": 299,
    "start_time": "2023-12-05T07:03:22.400Z"
   },
   {
    "duration": 199,
    "start_time": "2023-12-05T07:03:22.701Z"
   },
   {
    "duration": 160,
    "start_time": "2023-12-05T07:03:22.901Z"
   },
   {
    "duration": 160,
    "start_time": "2023-12-05T07:03:23.062Z"
   },
   {
    "duration": 170,
    "start_time": "2023-12-05T07:03:23.223Z"
   },
   {
    "duration": 263,
    "start_time": "2023-12-05T07:03:23.395Z"
   },
   {
    "duration": 170,
    "start_time": "2023-12-05T07:03:23.659Z"
   },
   {
    "duration": 17,
    "start_time": "2023-12-05T07:03:23.830Z"
   },
   {
    "duration": 4,
    "start_time": "2023-12-05T07:03:23.848Z"
   },
   {
    "duration": 78,
    "start_time": "2023-12-05T07:03:23.853Z"
   },
   {
    "duration": 400,
    "start_time": "2023-12-05T07:03:23.932Z"
   },
   {
    "duration": 30,
    "start_time": "2023-12-05T07:03:24.333Z"
   },
   {
    "duration": 152,
    "start_time": "2023-12-05T07:03:24.365Z"
   },
   {
    "duration": 8,
    "start_time": "2023-12-05T07:03:24.519Z"
   },
   {
    "duration": 328,
    "start_time": "2023-12-05T07:03:24.528Z"
   },
   {
    "duration": 330,
    "start_time": "2023-12-05T07:03:24.858Z"
   },
   {
    "duration": 260,
    "start_time": "2023-12-05T07:03:25.190Z"
   },
   {
    "duration": 162,
    "start_time": "2023-12-05T07:03:25.452Z"
   },
   {
    "duration": 16,
    "start_time": "2023-12-05T07:03:25.616Z"
   },
   {
    "duration": 264,
    "start_time": "2023-12-05T07:03:25.634Z"
   },
   {
    "duration": 722,
    "start_time": "2023-12-05T07:03:25.900Z"
   },
   {
    "duration": 8,
    "start_time": "2023-12-05T07:03:26.624Z"
   },
   {
    "duration": 273,
    "start_time": "2023-12-05T07:03:26.634Z"
   },
   {
    "duration": 16,
    "start_time": "2023-12-05T07:03:26.909Z"
   },
   {
    "duration": 106,
    "start_time": "2023-12-05T07:03:26.927Z"
   },
   {
    "duration": 167,
    "start_time": "2023-12-05T07:03:27.034Z"
   },
   {
    "duration": 195,
    "start_time": "2023-12-05T07:03:27.202Z"
   },
   {
    "duration": 176,
    "start_time": "2023-12-05T07:03:27.399Z"
   },
   {
    "duration": 313,
    "start_time": "2023-12-05T07:03:27.577Z"
   },
   {
    "duration": 147,
    "start_time": "2023-12-05T07:03:27.892Z"
   },
   {
    "duration": 306,
    "start_time": "2023-12-05T07:03:28.041Z"
   },
   {
    "duration": 455,
    "start_time": "2023-12-05T07:03:28.348Z"
   },
   {
    "duration": 32,
    "start_time": "2023-12-05T07:03:28.804Z"
   },
   {
    "duration": 1441,
    "start_time": "2023-12-05T07:03:28.838Z"
   },
   {
    "duration": 0,
    "start_time": "2023-12-05T07:03:30.281Z"
   },
   {
    "duration": 0,
    "start_time": "2023-12-05T07:03:30.283Z"
   },
   {
    "duration": 0,
    "start_time": "2023-12-05T07:03:30.284Z"
   },
   {
    "duration": 0,
    "start_time": "2023-12-05T07:03:30.286Z"
   },
   {
    "duration": 1,
    "start_time": "2023-12-05T07:03:30.287Z"
   },
   {
    "duration": 147,
    "start_time": "2023-12-05T07:04:12.864Z"
   },
   {
    "duration": 194,
    "start_time": "2023-12-05T07:04:41.982Z"
   },
   {
    "duration": 29,
    "start_time": "2023-12-05T07:07:03.946Z"
   },
   {
    "duration": 12,
    "start_time": "2023-12-05T07:07:29.572Z"
   },
   {
    "duration": 16,
    "start_time": "2023-12-05T07:08:32.320Z"
   },
   {
    "duration": 29,
    "start_time": "2023-12-05T07:41:43.439Z"
   },
   {
    "duration": 25,
    "start_time": "2023-12-05T07:41:49.111Z"
   },
   {
    "duration": 175,
    "start_time": "2023-12-05T07:47:17.918Z"
   },
   {
    "duration": 222,
    "start_time": "2023-12-05T07:48:23.359Z"
   },
   {
    "duration": 180,
    "start_time": "2023-12-05T07:50:27.171Z"
   },
   {
    "duration": 850,
    "start_time": "2023-12-05T07:52:20.302Z"
   },
   {
    "duration": 44,
    "start_time": "2023-12-05T07:52:21.154Z"
   },
   {
    "duration": 2122,
    "start_time": "2023-12-05T07:52:21.199Z"
   },
   {
    "duration": 11,
    "start_time": "2023-12-05T07:52:23.323Z"
   },
   {
    "duration": 17,
    "start_time": "2023-12-05T07:52:23.335Z"
   },
   {
    "duration": 274,
    "start_time": "2023-12-05T07:52:23.353Z"
   },
   {
    "duration": 29,
    "start_time": "2023-12-05T07:52:23.628Z"
   },
   {
    "duration": 10,
    "start_time": "2023-12-05T07:52:23.659Z"
   },
   {
    "duration": 23,
    "start_time": "2023-12-05T07:52:23.670Z"
   },
   {
    "duration": 11,
    "start_time": "2023-12-05T07:52:23.696Z"
   },
   {
    "duration": 20,
    "start_time": "2023-12-05T07:52:23.709Z"
   },
   {
    "duration": 19,
    "start_time": "2023-12-05T07:52:23.731Z"
   },
   {
    "duration": 41,
    "start_time": "2023-12-05T07:52:23.752Z"
   },
   {
    "duration": 22,
    "start_time": "2023-12-05T07:52:23.795Z"
   },
   {
    "duration": 7,
    "start_time": "2023-12-05T07:52:23.819Z"
   },
   {
    "duration": 19,
    "start_time": "2023-12-05T07:52:23.827Z"
   },
   {
    "duration": 40,
    "start_time": "2023-12-05T07:52:23.848Z"
   },
   {
    "duration": 86,
    "start_time": "2023-12-05T07:52:23.890Z"
   },
   {
    "duration": 35,
    "start_time": "2023-12-05T07:52:23.977Z"
   },
   {
    "duration": 9,
    "start_time": "2023-12-05T07:52:24.023Z"
   },
   {
    "duration": 13,
    "start_time": "2023-12-05T07:52:24.033Z"
   },
   {
    "duration": 29,
    "start_time": "2023-12-05T07:52:24.048Z"
   },
   {
    "duration": 44,
    "start_time": "2023-12-05T07:52:24.079Z"
   },
   {
    "duration": 361,
    "start_time": "2023-12-05T07:52:24.124Z"
   },
   {
    "duration": 25,
    "start_time": "2023-12-05T07:52:24.487Z"
   },
   {
    "duration": 517,
    "start_time": "2023-12-05T07:52:24.513Z"
   },
   {
    "duration": 254,
    "start_time": "2023-12-05T07:52:25.032Z"
   },
   {
    "duration": 281,
    "start_time": "2023-12-05T07:52:25.290Z"
   },
   {
    "duration": 312,
    "start_time": "2023-12-05T07:52:25.573Z"
   },
   {
    "duration": 223,
    "start_time": "2023-12-05T07:52:25.887Z"
   },
   {
    "duration": 173,
    "start_time": "2023-12-05T07:52:26.112Z"
   },
   {
    "duration": 162,
    "start_time": "2023-12-05T07:52:26.287Z"
   },
   {
    "duration": 171,
    "start_time": "2023-12-05T07:52:26.451Z"
   },
   {
    "duration": 268,
    "start_time": "2023-12-05T07:52:26.624Z"
   },
   {
    "duration": 185,
    "start_time": "2023-12-05T07:52:26.894Z"
   },
   {
    "duration": 16,
    "start_time": "2023-12-05T07:52:27.081Z"
   },
   {
    "duration": 4,
    "start_time": "2023-12-05T07:52:27.100Z"
   },
   {
    "duration": 58,
    "start_time": "2023-12-05T07:52:27.122Z"
   },
   {
    "duration": 426,
    "start_time": "2023-12-05T07:52:27.182Z"
   },
   {
    "duration": 34,
    "start_time": "2023-12-05T07:52:27.609Z"
   },
   {
    "duration": 253,
    "start_time": "2023-12-05T07:52:27.644Z"
   },
   {
    "duration": 8,
    "start_time": "2023-12-05T07:52:27.899Z"
   },
   {
    "duration": 315,
    "start_time": "2023-12-05T07:52:27.909Z"
   },
   {
    "duration": 314,
    "start_time": "2023-12-05T07:52:28.226Z"
   },
   {
    "duration": 257,
    "start_time": "2023-12-05T07:52:28.541Z"
   },
   {
    "duration": 149,
    "start_time": "2023-12-05T07:52:28.800Z"
   },
   {
    "duration": 15,
    "start_time": "2023-12-05T07:52:28.950Z"
   },
   {
    "duration": 282,
    "start_time": "2023-12-05T07:52:28.966Z"
   },
   {
    "duration": 764,
    "start_time": "2023-12-05T07:52:29.250Z"
   },
   {
    "duration": 11,
    "start_time": "2023-12-05T07:52:30.016Z"
   },
   {
    "duration": 340,
    "start_time": "2023-12-05T07:52:30.029Z"
   },
   {
    "duration": 10,
    "start_time": "2023-12-05T07:52:30.371Z"
   },
   {
    "duration": 237,
    "start_time": "2023-12-05T07:52:30.383Z"
   },
   {
    "duration": 169,
    "start_time": "2023-12-05T07:52:30.622Z"
   },
   {
    "duration": 160,
    "start_time": "2023-12-05T07:52:30.792Z"
   },
   {
    "duration": 182,
    "start_time": "2023-12-05T07:52:30.953Z"
   },
   {
    "duration": 293,
    "start_time": "2023-12-05T07:52:31.138Z"
   },
   {
    "duration": 159,
    "start_time": "2023-12-05T07:52:31.432Z"
   },
   {
    "duration": 329,
    "start_time": "2023-12-05T07:52:31.593Z"
   },
   {
    "duration": 446,
    "start_time": "2023-12-05T07:52:31.923Z"
   },
   {
    "duration": 85,
    "start_time": "2023-12-05T07:52:32.371Z"
   },
   {
    "duration": 0,
    "start_time": "2023-12-05T07:52:32.458Z"
   },
   {
    "duration": 0,
    "start_time": "2023-12-05T07:52:32.459Z"
   },
   {
    "duration": 0,
    "start_time": "2023-12-05T07:52:32.460Z"
   },
   {
    "duration": 0,
    "start_time": "2023-12-05T07:52:32.461Z"
   },
   {
    "duration": 0,
    "start_time": "2023-12-05T07:52:32.462Z"
   },
   {
    "duration": 0,
    "start_time": "2023-12-05T07:52:32.464Z"
   },
   {
    "duration": 29,
    "start_time": "2023-12-05T08:17:58.749Z"
   },
   {
    "duration": 188,
    "start_time": "2023-12-05T08:21:01.141Z"
   },
   {
    "duration": 5,
    "start_time": "2023-12-05T08:21:08.878Z"
   },
   {
    "duration": 337,
    "start_time": "2023-12-05T08:21:10.199Z"
   },
   {
    "duration": 26,
    "start_time": "2023-12-05T08:21:10.538Z"
   },
   {
    "duration": 40,
    "start_time": "2023-12-05T08:21:11.762Z"
   },
   {
    "duration": 270,
    "start_time": "2023-12-05T08:21:12.159Z"
   },
   {
    "duration": 26,
    "start_time": "2023-12-05T08:29:44.966Z"
   },
   {
    "duration": 24,
    "start_time": "2023-12-05T08:30:15.952Z"
   },
   {
    "duration": 1079,
    "start_time": "2023-12-05T15:26:30.954Z"
   },
   {
    "duration": 48,
    "start_time": "2023-12-05T15:26:32.036Z"
   },
   {
    "duration": 1988,
    "start_time": "2023-12-05T15:26:32.086Z"
   },
   {
    "duration": 10,
    "start_time": "2023-12-05T15:26:34.076Z"
   },
   {
    "duration": 35,
    "start_time": "2023-12-05T15:26:34.087Z"
   },
   {
    "duration": 294,
    "start_time": "2023-12-05T15:26:34.124Z"
   },
   {
    "duration": 30,
    "start_time": "2023-12-05T15:26:34.420Z"
   },
   {
    "duration": 11,
    "start_time": "2023-12-05T15:26:34.452Z"
   },
   {
    "duration": 20,
    "start_time": "2023-12-05T15:26:34.464Z"
   },
   {
    "duration": 37,
    "start_time": "2023-12-05T15:26:34.486Z"
   },
   {
    "duration": 49,
    "start_time": "2023-12-05T15:26:34.525Z"
   },
   {
    "duration": 7,
    "start_time": "2023-12-05T15:26:34.576Z"
   },
   {
    "duration": 34,
    "start_time": "2023-12-05T15:26:34.584Z"
   },
   {
    "duration": 8,
    "start_time": "2023-12-05T15:26:34.620Z"
   },
   {
    "duration": 16,
    "start_time": "2023-12-05T15:26:34.629Z"
   },
   {
    "duration": 21,
    "start_time": "2023-12-05T15:26:34.646Z"
   },
   {
    "duration": 48,
    "start_time": "2023-12-05T15:26:34.669Z"
   },
   {
    "duration": 57,
    "start_time": "2023-12-05T15:26:34.719Z"
   },
   {
    "duration": 49,
    "start_time": "2023-12-05T15:26:34.777Z"
   },
   {
    "duration": 8,
    "start_time": "2023-12-05T15:26:34.828Z"
   },
   {
    "duration": 16,
    "start_time": "2023-12-05T15:26:34.837Z"
   },
   {
    "duration": 7,
    "start_time": "2023-12-05T15:26:34.855Z"
   },
   {
    "duration": 19,
    "start_time": "2023-12-05T15:26:34.864Z"
   },
   {
    "duration": 332,
    "start_time": "2023-12-05T15:26:34.885Z"
   },
   {
    "duration": 25,
    "start_time": "2023-12-05T15:26:35.219Z"
   },
   {
    "duration": 478,
    "start_time": "2023-12-05T15:26:35.246Z"
   },
   {
    "duration": 249,
    "start_time": "2023-12-05T15:26:35.725Z"
   },
   {
    "duration": 269,
    "start_time": "2023-12-05T15:26:35.978Z"
   },
   {
    "duration": 314,
    "start_time": "2023-12-05T15:26:36.249Z"
   },
   {
    "duration": 206,
    "start_time": "2023-12-05T15:26:36.565Z"
   },
   {
    "duration": 164,
    "start_time": "2023-12-05T15:26:36.773Z"
   },
   {
    "duration": 159,
    "start_time": "2023-12-05T15:26:36.938Z"
   },
   {
    "duration": 164,
    "start_time": "2023-12-05T15:26:37.099Z"
   },
   {
    "duration": 262,
    "start_time": "2023-12-05T15:26:37.265Z"
   },
   {
    "duration": 167,
    "start_time": "2023-12-05T15:26:37.528Z"
   },
   {
    "duration": 19,
    "start_time": "2023-12-05T15:26:37.697Z"
   },
   {
    "duration": 3,
    "start_time": "2023-12-05T15:26:37.717Z"
   },
   {
    "duration": 67,
    "start_time": "2023-12-05T15:26:37.722Z"
   },
   {
    "duration": 387,
    "start_time": "2023-12-05T15:26:37.790Z"
   },
   {
    "duration": 36,
    "start_time": "2023-12-05T15:26:38.179Z"
   },
   {
    "duration": 231,
    "start_time": "2023-12-05T15:26:38.217Z"
   },
   {
    "duration": 7,
    "start_time": "2023-12-05T15:26:38.450Z"
   },
   {
    "duration": 450,
    "start_time": "2023-12-05T15:26:38.458Z"
   },
   {
    "duration": 311,
    "start_time": "2023-12-05T15:26:38.910Z"
   },
   {
    "duration": 253,
    "start_time": "2023-12-05T15:26:39.223Z"
   },
   {
    "duration": 144,
    "start_time": "2023-12-05T15:26:39.477Z"
   },
   {
    "duration": 15,
    "start_time": "2023-12-05T15:26:39.623Z"
   },
   {
    "duration": 286,
    "start_time": "2023-12-05T15:26:39.639Z"
   },
   {
    "duration": 188,
    "start_time": "2023-12-05T15:26:39.927Z"
   },
   {
    "duration": 0,
    "start_time": "2023-12-05T15:26:40.118Z"
   },
   {
    "duration": 0,
    "start_time": "2023-12-05T15:26:40.120Z"
   },
   {
    "duration": 0,
    "start_time": "2023-12-05T15:26:40.121Z"
   },
   {
    "duration": 0,
    "start_time": "2023-12-05T15:26:40.122Z"
   },
   {
    "duration": 0,
    "start_time": "2023-12-05T15:26:40.124Z"
   },
   {
    "duration": 0,
    "start_time": "2023-12-05T15:26:40.125Z"
   },
   {
    "duration": 0,
    "start_time": "2023-12-05T15:26:40.127Z"
   },
   {
    "duration": 0,
    "start_time": "2023-12-05T15:26:40.137Z"
   },
   {
    "duration": 0,
    "start_time": "2023-12-05T15:26:40.138Z"
   },
   {
    "duration": 0,
    "start_time": "2023-12-05T15:26:40.139Z"
   },
   {
    "duration": 0,
    "start_time": "2023-12-05T15:26:40.140Z"
   },
   {
    "duration": 0,
    "start_time": "2023-12-05T15:26:40.141Z"
   },
   {
    "duration": 0,
    "start_time": "2023-12-05T15:26:40.143Z"
   },
   {
    "duration": 0,
    "start_time": "2023-12-05T15:26:40.144Z"
   },
   {
    "duration": 0,
    "start_time": "2023-12-05T15:26:40.145Z"
   },
   {
    "duration": 0,
    "start_time": "2023-12-05T15:26:40.146Z"
   },
   {
    "duration": 0,
    "start_time": "2023-12-05T15:26:40.147Z"
   },
   {
    "duration": 0,
    "start_time": "2023-12-05T15:26:40.148Z"
   },
   {
    "duration": 3,
    "start_time": "2023-12-05T15:27:13.315Z"
   },
   {
    "duration": 781,
    "start_time": "2023-12-05T15:33:26.543Z"
   },
   {
    "duration": 42,
    "start_time": "2023-12-05T15:33:27.325Z"
   },
   {
    "duration": 2158,
    "start_time": "2023-12-05T15:33:27.368Z"
   },
   {
    "duration": 12,
    "start_time": "2023-12-05T15:33:29.528Z"
   },
   {
    "duration": 12,
    "start_time": "2023-12-05T15:33:29.543Z"
   },
   {
    "duration": 287,
    "start_time": "2023-12-05T15:33:29.557Z"
   },
   {
    "duration": 29,
    "start_time": "2023-12-05T15:33:29.845Z"
   },
   {
    "duration": 261,
    "start_time": "2023-12-05T15:33:29.875Z"
   },
   {
    "duration": 295,
    "start_time": "2023-12-05T15:33:30.138Z"
   },
   {
    "duration": 35,
    "start_time": "2023-12-05T15:33:30.435Z"
   },
   {
    "duration": 57,
    "start_time": "2023-12-05T15:33:30.472Z"
   },
   {
    "duration": 65,
    "start_time": "2023-12-05T15:33:30.531Z"
   },
   {
    "duration": 367,
    "start_time": "2023-12-05T15:33:30.598Z"
   },
   {
    "duration": 159,
    "start_time": "2023-12-05T15:33:30.968Z"
   },
   {
    "duration": 47,
    "start_time": "2023-12-05T15:33:31.129Z"
   },
   {
    "duration": 55,
    "start_time": "2023-12-05T15:33:31.178Z"
   },
   {
    "duration": 94,
    "start_time": "2023-12-05T15:33:31.235Z"
   },
   {
    "duration": 64,
    "start_time": "2023-12-05T15:33:31.331Z"
   },
   {
    "duration": 51,
    "start_time": "2023-12-05T15:33:31.397Z"
   },
   {
    "duration": 23,
    "start_time": "2023-12-05T15:33:31.450Z"
   },
   {
    "duration": 51,
    "start_time": "2023-12-05T15:33:31.474Z"
   },
   {
    "duration": 19,
    "start_time": "2023-12-05T15:33:31.527Z"
   },
   {
    "duration": 34,
    "start_time": "2023-12-05T15:33:31.548Z"
   },
   {
    "duration": 391,
    "start_time": "2023-12-05T15:33:31.584Z"
   },
   {
    "duration": 31,
    "start_time": "2023-12-05T15:33:31.977Z"
   },
   {
    "duration": 492,
    "start_time": "2023-12-05T15:33:32.012Z"
   },
   {
    "duration": 283,
    "start_time": "2023-12-05T15:33:32.508Z"
   },
   {
    "duration": 272,
    "start_time": "2023-12-05T15:33:32.793Z"
   },
   {
    "duration": 317,
    "start_time": "2023-12-05T15:33:33.067Z"
   },
   {
    "duration": 345,
    "start_time": "2023-12-05T15:33:33.385Z"
   },
   {
    "duration": 194,
    "start_time": "2023-12-05T15:33:33.732Z"
   },
   {
    "duration": 171,
    "start_time": "2023-12-05T15:33:33.927Z"
   },
   {
    "duration": 181,
    "start_time": "2023-12-05T15:33:34.100Z"
   },
   {
    "duration": 281,
    "start_time": "2023-12-05T15:33:34.282Z"
   },
   {
    "duration": 193,
    "start_time": "2023-12-05T15:33:34.565Z"
   },
   {
    "duration": 15,
    "start_time": "2023-12-05T15:33:34.759Z"
   },
   {
    "duration": 10,
    "start_time": "2023-12-05T15:33:34.775Z"
   },
   {
    "duration": 72,
    "start_time": "2023-12-05T15:33:34.787Z"
   },
   {
    "duration": 432,
    "start_time": "2023-12-05T15:33:34.860Z"
   },
   {
    "duration": 38,
    "start_time": "2023-12-05T15:33:35.294Z"
   },
   {
    "duration": 166,
    "start_time": "2023-12-05T15:33:35.336Z"
   },
   {
    "duration": 11,
    "start_time": "2023-12-05T15:33:35.504Z"
   },
   {
    "duration": 383,
    "start_time": "2023-12-05T15:33:35.520Z"
   },
   {
    "duration": 358,
    "start_time": "2023-12-05T15:33:35.906Z"
   },
   {
    "duration": 272,
    "start_time": "2023-12-05T15:33:36.266Z"
   },
   {
    "duration": 869,
    "start_time": "2023-12-05T15:33:36.540Z"
   },
   {
    "duration": 20,
    "start_time": "2023-12-05T15:33:37.411Z"
   },
   {
    "duration": 279,
    "start_time": "2023-12-05T15:33:37.432Z"
   },
   {
    "duration": 3,
    "start_time": "2023-12-05T15:33:37.714Z"
   },
   {
    "duration": 34,
    "start_time": "2023-12-05T15:33:37.718Z"
   },
   {
    "duration": 262,
    "start_time": "2023-12-05T15:33:37.754Z"
   },
   {
    "duration": 9,
    "start_time": "2023-12-05T15:33:38.021Z"
   },
   {
    "duration": 107,
    "start_time": "2023-12-05T15:33:38.031Z"
   },
   {
    "duration": 169,
    "start_time": "2023-12-05T15:33:38.140Z"
   },
   {
    "duration": 187,
    "start_time": "2023-12-05T15:33:38.312Z"
   },
   {
    "duration": 193,
    "start_time": "2023-12-05T15:33:38.501Z"
   },
   {
    "duration": 188,
    "start_time": "2023-12-05T15:33:38.697Z"
   },
   {
    "duration": 165,
    "start_time": "2023-12-05T15:33:38.887Z"
   },
   {
    "duration": 340,
    "start_time": "2023-12-05T15:33:39.053Z"
   },
   {
    "duration": 623,
    "start_time": "2023-12-05T15:33:39.395Z"
   },
   {
    "duration": 27,
    "start_time": "2023-12-05T15:33:40.020Z"
   },
   {
    "duration": 222,
    "start_time": "2023-12-05T15:33:40.049Z"
   },
   {
    "duration": 4,
    "start_time": "2023-12-05T15:33:40.273Z"
   },
   {
    "duration": 403,
    "start_time": "2023-12-05T15:33:40.279Z"
   },
   {
    "duration": 40,
    "start_time": "2023-12-05T15:33:40.684Z"
   },
   {
    "duration": 39,
    "start_time": "2023-12-05T15:33:40.726Z"
   },
   {
    "duration": 298,
    "start_time": "2023-12-05T15:33:40.767Z"
   },
   {
    "duration": 36,
    "start_time": "2023-12-05T15:33:51.928Z"
   },
   {
    "duration": 401,
    "start_time": "2023-12-05T15:38:30.757Z"
   },
   {
    "duration": 189,
    "start_time": "2023-12-05T15:40:43.195Z"
   },
   {
    "duration": 184,
    "start_time": "2023-12-05T15:40:59.553Z"
   },
   {
    "duration": 629,
    "start_time": "2023-12-05T15:48:14.314Z"
   },
   {
    "duration": 119,
    "start_time": "2023-12-05T15:48:14.945Z"
   },
   {
    "duration": 5593,
    "start_time": "2023-12-05T15:48:25.211Z"
   },
   {
    "duration": 441,
    "start_time": "2023-12-05T15:48:30.806Z"
   },
   {
    "duration": 201,
    "start_time": "2023-12-05T15:48:34.018Z"
   },
   {
    "duration": 199,
    "start_time": "2023-12-05T15:48:40.828Z"
   },
   {
    "duration": 853,
    "start_time": "2023-12-05T15:49:16.593Z"
   },
   {
    "duration": 42,
    "start_time": "2023-12-05T15:49:17.448Z"
   },
   {
    "duration": 2166,
    "start_time": "2023-12-05T15:49:17.492Z"
   },
   {
    "duration": 9,
    "start_time": "2023-12-05T15:49:19.661Z"
   },
   {
    "duration": 38,
    "start_time": "2023-12-05T15:49:19.672Z"
   },
   {
    "duration": 278,
    "start_time": "2023-12-05T15:49:19.717Z"
   },
   {
    "duration": 35,
    "start_time": "2023-12-05T15:49:19.997Z"
   },
   {
    "duration": 43,
    "start_time": "2023-12-05T15:49:20.034Z"
   },
   {
    "duration": 21,
    "start_time": "2023-12-05T15:49:20.078Z"
   },
   {
    "duration": 20,
    "start_time": "2023-12-05T15:49:20.102Z"
   },
   {
    "duration": 36,
    "start_time": "2023-12-05T15:49:20.124Z"
   },
   {
    "duration": 7,
    "start_time": "2023-12-05T15:49:20.161Z"
   },
   {
    "duration": 54,
    "start_time": "2023-12-05T15:49:20.169Z"
   },
   {
    "duration": 30,
    "start_time": "2023-12-05T15:49:20.225Z"
   },
   {
    "duration": 24,
    "start_time": "2023-12-05T15:49:20.257Z"
   },
   {
    "duration": 35,
    "start_time": "2023-12-05T15:49:20.283Z"
   },
   {
    "duration": 47,
    "start_time": "2023-12-05T15:49:20.320Z"
   },
   {
    "duration": 59,
    "start_time": "2023-12-05T15:49:20.369Z"
   },
   {
    "duration": 40,
    "start_time": "2023-12-05T15:49:20.430Z"
   },
   {
    "duration": 49,
    "start_time": "2023-12-05T15:49:20.471Z"
   },
   {
    "duration": 49,
    "start_time": "2023-12-05T15:49:20.522Z"
   },
   {
    "duration": 58,
    "start_time": "2023-12-05T15:49:20.573Z"
   },
   {
    "duration": 51,
    "start_time": "2023-12-05T15:49:20.633Z"
   },
   {
    "duration": 406,
    "start_time": "2023-12-05T15:49:20.685Z"
   },
   {
    "duration": 34,
    "start_time": "2023-12-05T15:49:21.093Z"
   },
   {
    "duration": 483,
    "start_time": "2023-12-05T15:49:21.129Z"
   },
   {
    "duration": 247,
    "start_time": "2023-12-05T15:49:21.618Z"
   },
   {
    "duration": 269,
    "start_time": "2023-12-05T15:49:21.869Z"
   },
   {
    "duration": 321,
    "start_time": "2023-12-05T15:49:22.140Z"
   },
   {
    "duration": 205,
    "start_time": "2023-12-05T15:49:22.463Z"
   },
   {
    "duration": 183,
    "start_time": "2023-12-05T15:49:22.670Z"
   },
   {
    "duration": 172,
    "start_time": "2023-12-05T15:49:22.854Z"
   },
   {
    "duration": 169,
    "start_time": "2023-12-05T15:49:23.027Z"
   },
   {
    "duration": 293,
    "start_time": "2023-12-05T15:49:23.206Z"
   },
   {
    "duration": 177,
    "start_time": "2023-12-05T15:49:23.506Z"
   },
   {
    "duration": 182,
    "start_time": "2023-12-05T15:49:23.685Z"
   },
   {
    "duration": 14,
    "start_time": "2023-12-05T15:49:23.869Z"
   },
   {
    "duration": 4,
    "start_time": "2023-12-05T15:49:23.884Z"
   },
   {
    "duration": 74,
    "start_time": "2023-12-05T15:49:23.890Z"
   },
   {
    "duration": 424,
    "start_time": "2023-12-05T15:49:23.966Z"
   },
   {
    "duration": 45,
    "start_time": "2023-12-05T15:49:24.392Z"
   },
   {
    "duration": 165,
    "start_time": "2023-12-05T15:49:24.440Z"
   },
   {
    "duration": 9,
    "start_time": "2023-12-05T15:49:24.619Z"
   },
   {
    "duration": 356,
    "start_time": "2023-12-05T15:49:24.630Z"
   },
   {
    "duration": 336,
    "start_time": "2023-12-05T15:49:24.988Z"
   },
   {
    "duration": 269,
    "start_time": "2023-12-05T15:49:25.326Z"
   },
   {
    "duration": 159,
    "start_time": "2023-12-05T15:49:25.598Z"
   },
   {
    "duration": 15,
    "start_time": "2023-12-05T15:49:25.759Z"
   },
   {
    "duration": 318,
    "start_time": "2023-12-05T15:49:25.775Z"
   },
   {
    "duration": 3,
    "start_time": "2023-12-05T15:49:26.094Z"
   },
   {
    "duration": 38,
    "start_time": "2023-12-05T15:49:26.098Z"
   },
   {
    "duration": 285,
    "start_time": "2023-12-05T15:49:26.138Z"
   },
   {
    "duration": 10,
    "start_time": "2023-12-05T15:49:26.425Z"
   },
   {
    "duration": 126,
    "start_time": "2023-12-05T15:49:26.437Z"
   },
   {
    "duration": 179,
    "start_time": "2023-12-05T15:49:26.565Z"
   },
   {
    "duration": 173,
    "start_time": "2023-12-05T15:49:26.746Z"
   },
   {
    "duration": 166,
    "start_time": "2023-12-05T15:49:26.920Z"
   },
   {
    "duration": 168,
    "start_time": "2023-12-05T15:49:27.088Z"
   },
   {
    "duration": 162,
    "start_time": "2023-12-05T15:49:27.257Z"
   },
   {
    "duration": 329,
    "start_time": "2023-12-05T15:49:27.421Z"
   },
   {
    "duration": 467,
    "start_time": "2023-12-05T15:49:27.753Z"
   },
   {
    "duration": 26,
    "start_time": "2023-12-05T15:49:28.222Z"
   },
   {
    "duration": 337,
    "start_time": "2023-12-05T15:49:28.249Z"
   },
   {
    "duration": 5,
    "start_time": "2023-12-05T15:49:28.588Z"
   },
   {
    "duration": 463,
    "start_time": "2023-12-05T15:49:28.606Z"
   },
   {
    "duration": 22,
    "start_time": "2023-12-05T15:49:29.070Z"
   },
   {
    "duration": 55,
    "start_time": "2023-12-05T15:49:29.108Z"
   },
   {
    "duration": 293,
    "start_time": "2023-12-05T15:49:29.165Z"
   },
   {
    "duration": 504,
    "start_time": "2023-12-05T15:49:29.460Z"
   },
   {
    "duration": 5776,
    "start_time": "2023-12-05T15:49:29.966Z"
   },
   {
    "duration": 425,
    "start_time": "2023-12-05T15:49:35.744Z"
   },
   {
    "duration": 510,
    "start_time": "2023-12-05T15:49:36.171Z"
   },
   {
    "duration": 822,
    "start_time": "2023-12-05T15:51:29.520Z"
   },
   {
    "duration": 42,
    "start_time": "2023-12-05T15:51:30.344Z"
   },
   {
    "duration": 2194,
    "start_time": "2023-12-05T15:51:30.388Z"
   },
   {
    "duration": 10,
    "start_time": "2023-12-05T15:51:32.583Z"
   },
   {
    "duration": 43,
    "start_time": "2023-12-05T15:51:32.595Z"
   },
   {
    "duration": 311,
    "start_time": "2023-12-05T15:51:32.640Z"
   },
   {
    "duration": 30,
    "start_time": "2023-12-05T15:51:32.953Z"
   },
   {
    "duration": 29,
    "start_time": "2023-12-05T15:51:32.985Z"
   },
   {
    "duration": 10,
    "start_time": "2023-12-05T15:51:33.016Z"
   },
   {
    "duration": 49,
    "start_time": "2023-12-05T15:51:33.028Z"
   },
   {
    "duration": 53,
    "start_time": "2023-12-05T15:51:33.078Z"
   },
   {
    "duration": 34,
    "start_time": "2023-12-05T15:51:33.132Z"
   },
   {
    "duration": 110,
    "start_time": "2023-12-05T15:51:33.168Z"
   },
   {
    "duration": 98,
    "start_time": "2023-12-05T15:51:33.281Z"
   },
   {
    "duration": 45,
    "start_time": "2023-12-05T15:51:33.381Z"
   },
   {
    "duration": 44,
    "start_time": "2023-12-05T15:51:33.428Z"
   },
   {
    "duration": 81,
    "start_time": "2023-12-05T15:51:33.474Z"
   },
   {
    "duration": 64,
    "start_time": "2023-12-05T15:51:33.557Z"
   },
   {
    "duration": 33,
    "start_time": "2023-12-05T15:51:33.623Z"
   },
   {
    "duration": 13,
    "start_time": "2023-12-05T15:51:33.658Z"
   },
   {
    "duration": 56,
    "start_time": "2023-12-05T15:51:33.673Z"
   },
   {
    "duration": 33,
    "start_time": "2023-12-05T15:51:33.731Z"
   },
   {
    "duration": 21,
    "start_time": "2023-12-05T15:51:33.766Z"
   },
   {
    "duration": 381,
    "start_time": "2023-12-05T15:51:33.789Z"
   },
   {
    "duration": 26,
    "start_time": "2023-12-05T15:51:34.172Z"
   },
   {
    "duration": 536,
    "start_time": "2023-12-05T15:51:34.213Z"
   },
   {
    "duration": 270,
    "start_time": "2023-12-05T15:51:34.751Z"
   },
   {
    "duration": 263,
    "start_time": "2023-12-05T15:51:35.023Z"
   },
   {
    "duration": 334,
    "start_time": "2023-12-05T15:51:35.287Z"
   },
   {
    "duration": 209,
    "start_time": "2023-12-05T15:51:35.623Z"
   },
   {
    "duration": 186,
    "start_time": "2023-12-05T15:51:35.834Z"
   },
   {
    "duration": 162,
    "start_time": "2023-12-05T15:51:36.022Z"
   },
   {
    "duration": 166,
    "start_time": "2023-12-05T15:51:36.185Z"
   },
   {
    "duration": 308,
    "start_time": "2023-12-05T15:51:36.354Z"
   },
   {
    "duration": 192,
    "start_time": "2023-12-05T15:51:36.665Z"
   },
   {
    "duration": 177,
    "start_time": "2023-12-05T15:51:36.858Z"
   },
   {
    "duration": 16,
    "start_time": "2023-12-05T15:51:37.037Z"
   },
   {
    "duration": 7,
    "start_time": "2023-12-05T15:51:37.055Z"
   },
   {
    "duration": 81,
    "start_time": "2023-12-05T15:51:37.063Z"
   },
   {
    "duration": 420,
    "start_time": "2023-12-05T15:51:37.146Z"
   },
   {
    "duration": 39,
    "start_time": "2023-12-05T15:51:37.571Z"
   },
   {
    "duration": 165,
    "start_time": "2023-12-05T15:51:37.612Z"
   },
   {
    "duration": 9,
    "start_time": "2023-12-05T15:51:37.779Z"
   },
   {
    "duration": 346,
    "start_time": "2023-12-05T15:51:37.790Z"
   },
   {
    "duration": 339,
    "start_time": "2023-12-05T15:51:38.138Z"
   },
   {
    "duration": 308,
    "start_time": "2023-12-05T15:51:38.479Z"
   },
   {
    "duration": 160,
    "start_time": "2023-12-05T15:51:38.789Z"
   },
   {
    "duration": 15,
    "start_time": "2023-12-05T15:51:38.950Z"
   },
   {
    "duration": 298,
    "start_time": "2023-12-05T15:51:38.967Z"
   },
   {
    "duration": 2,
    "start_time": "2023-12-05T15:51:39.267Z"
   },
   {
    "duration": 18,
    "start_time": "2023-12-05T15:51:39.270Z"
   },
   {
    "duration": 275,
    "start_time": "2023-12-05T15:51:39.289Z"
   },
   {
    "duration": 11,
    "start_time": "2023-12-05T15:51:39.566Z"
   },
   {
    "duration": 129,
    "start_time": "2023-12-05T15:51:39.578Z"
   },
   {
    "duration": 165,
    "start_time": "2023-12-05T15:51:39.713Z"
   },
   {
    "duration": 177,
    "start_time": "2023-12-05T15:51:39.880Z"
   },
   {
    "duration": 178,
    "start_time": "2023-12-05T15:51:40.059Z"
   },
   {
    "duration": 179,
    "start_time": "2023-12-05T15:51:40.239Z"
   },
   {
    "duration": 146,
    "start_time": "2023-12-05T15:51:40.422Z"
   },
   {
    "duration": 354,
    "start_time": "2023-12-05T15:51:40.570Z"
   },
   {
    "duration": 614,
    "start_time": "2023-12-05T15:51:40.926Z"
   },
   {
    "duration": 24,
    "start_time": "2023-12-05T15:51:41.542Z"
   },
   {
    "duration": 201,
    "start_time": "2023-12-05T15:51:41.568Z"
   },
   {
    "duration": 4,
    "start_time": "2023-12-05T15:51:41.771Z"
   },
   {
    "duration": 399,
    "start_time": "2023-12-05T15:51:41.776Z"
   },
   {
    "duration": 26,
    "start_time": "2023-12-05T15:51:42.177Z"
   },
   {
    "duration": 51,
    "start_time": "2023-12-05T15:51:42.208Z"
   },
   {
    "duration": 285,
    "start_time": "2023-12-05T15:51:42.261Z"
   },
   {
    "duration": 443,
    "start_time": "2023-12-05T15:51:42.548Z"
   },
   {
    "duration": 5879,
    "start_time": "2023-12-05T15:51:42.992Z"
   },
   {
    "duration": 439,
    "start_time": "2023-12-05T15:51:48.873Z"
   },
   {
    "duration": 507,
    "start_time": "2023-12-05T15:51:49.314Z"
   }
  ],
  "kernelspec": {
   "display_name": "Python 3 (ipykernel)",
   "language": "python",
   "name": "python3"
  },
  "language_info": {
   "codemirror_mode": {
    "name": "ipython",
    "version": 3
   },
   "file_extension": ".py",
   "mimetype": "text/x-python",
   "name": "python",
   "nbconvert_exporter": "python",
   "pygments_lexer": "ipython3",
   "version": "3.11.7"
  },
  "toc": {
   "base_numbering": 1,
   "nav_menu": {},
   "number_sections": true,
   "sideBar": true,
   "skip_h1_title": true,
   "title_cell": "Table of Contents",
   "title_sidebar": "Contents",
   "toc_cell": false,
   "toc_position": {},
   "toc_section_display": true,
   "toc_window_display": true
  }
 },
 "nbformat": 4,
 "nbformat_minor": 4
}
