 {
   "cell_type": "code",
   "execution_count": 1,
   "metadata": {},
   "outputs": [],
   "source": [
    "import pandas as pd\n",
    "import numpy as np\n",
    "import matplotlib.pyplot as plt\n",
    "from scipy import stats as st\n",
    "import seaborn as sns"
   ]
  },
  {
   "cell_type": "markdown",
   "metadata": {},
   "source": [
    "**Шаг 1. Загрузка данных.**"
   ]
  },
  {
   "cell_type": "code",
   "execution_count": 2,
   "metadata": {},
   "outputs": [
    {
     "data": {
      "text/html": [
       "<div>\n",
       "<style scoped>\n",
       "    .dataframe tbody tr th:only-of-type {\n",
       "        vertical-align: middle;\n",
       "    }\n",
       "\n",
       "    .dataframe tbody tr th {\n",
       "        vertical-align: top;\n",
       "    }\n",
       "\n",
       "    .dataframe thead th {\n",
       "        text-align: right;\n",
       "    }\n",
       "</style>\n",
       "<table border=\"1\" class=\"dataframe\">\n",
       "  <thead>\n",
       "    <tr style=\"text-align: right;\">\n",
       "      <th></th>\n",
       "      <th>Name</th>\n",
       "      <th>Platform</th>\n",
       "      <th>Year_of_Release</th>\n",
       "      <th>Genre</th>\n",
       "      <th>NA_sales</th>\n",
       "      <th>EU_sales</th>\n",
       "      <th>JP_sales</th>\n",
       "      <th>Other_sales</th>\n",
       "      <th>Critic_Score</th>\n",
       "      <th>User_Score</th>\n",
       "      <th>Rating</th>\n",
       "    </tr>\n",
       "  </thead>\n",
       "  <tbody>\n",
       "    <tr>\n",
       "      <th>0</th>\n",
       "      <td>Wii Sports</td>\n",
       "      <td>Wii</td>\n",
       "      <td>2006.0</td>\n",
       "      <td>Sports</td>\n",
       "      <td>41.36</td>\n",
       "      <td>28.96</td>\n",
       "      <td>3.77</td>\n",
       "      <td>8.45</td>\n",
       "      <td>76.0</td>\n",
       "      <td>8</td>\n",
       "      <td>E</td>\n",
       "    </tr>\n",
       "    <tr>\n",
       "      <th>1</th>\n",
       "      <td>Super Mario Bros.</td>\n",
       "      <td>NES</td>\n",
       "      <td>1985.0</td>\n",
       "      <td>Platform</td>\n",
       "      <td>29.08</td>\n",
       "      <td>3.58</td>\n",
       "      <td>6.81</td>\n",
       "      <td>0.77</td>\n",
       "      <td>NaN</td>\n",
       "      <td>NaN</td>\n",
       "      <td>NaN</td>\n",
       "    </tr>\n",
       "    <tr>\n",
       "      <th>2</th>\n",
       "      <td>Mario Kart Wii</td>\n",
       "      <td>Wii</td>\n",
       "      <td>2008.0</td>\n",
       "      <td>Racing</td>\n",
       "      <td>15.68</td>\n",
       "      <td>12.76</td>\n",
       "      <td>3.79</td>\n",
       "      <td>3.29</td>\n",
       "      <td>82.0</td>\n",
       "      <td>8.3</td>\n",
       "      <td>E</td>\n",
       "    </tr>\n",
       "    <tr>\n",
       "      <th>3</th>\n",
       "      <td>Wii Sports Resort</td>\n",
       "      <td>Wii</td>\n",
       "      <td>2009.0</td>\n",
       "      <td>Sports</td>\n",
       "      <td>15.61</td>\n",
       "      <td>10.93</td>\n",
       "      <td>3.28</td>\n",
       "      <td>2.95</td>\n",
       "      <td>80.0</td>\n",
       "      <td>8</td>\n",
       "      <td>E</td>\n",
       "    </tr>\n",
       "    <tr>\n",
       "      <th>4</th>\n",
       "      <td>Pokemon Red/Pokemon Blue</td>\n",
       "      <td>GB</td>\n",
       "      <td>1996.0</td>\n",
       "      <td>Role-Playing</td>\n",
       "      <td>11.27</td>\n",
       "      <td>8.89</td>\n",
       "      <td>10.22</td>\n",
       "      <td>1.00</td>\n",
       "      <td>NaN</td>\n",
       "      <td>NaN</td>\n",
       "      <td>NaN</td>\n",
       "    </tr>\n",
       "  </tbody>\n",
       "</table>\n",
       "</div>"
      ],
      "text/plain": [
       "                       Name Platform  Year_of_Release         Genre  NA_sales  \\\n",
       "0                Wii Sports      Wii           2006.0        Sports     41.36   \n",
       "1         Super Mario Bros.      NES           1985.0      Platform     29.08   \n",
       "2            Mario Kart Wii      Wii           2008.0        Racing     15.68   \n",
       "3         Wii Sports Resort      Wii           2009.0        Sports     15.61   \n",
       "4  Pokemon Red/Pokemon Blue       GB           1996.0  Role-Playing     11.27   \n",
       "\n",
       "   EU_sales  JP_sales  Other_sales  Critic_Score User_Score Rating  \n",
       "0     28.96      3.77         8.45          76.0          8      E  \n",
       "1      3.58      6.81         0.77           NaN        NaN    NaN  \n",
       "2     12.76      3.79         3.29          82.0        8.3      E  \n",
       "3     10.93      3.28         2.95          80.0          8      E  \n",
       "4      8.89     10.22         1.00           NaN        NaN    NaN  "
      ]
     },
     "execution_count": 2,
     "metadata": {},
     "output_type": "execute_result"
    }
   ],
   "source": [
    "data = pd.read_csv('/datasets/games.csv')\n",
    "data.head()"
   ]
  },
  {
   "cell_type": "code",
   "execution_count": 3,
   "metadata": {},
   "outputs": [
    {
     "name": "stdout",
     "output_type": "stream",
     "text": [
      "<class 'pandas.core.frame.DataFrame'>\n",
      "RangeIndex: 16715 entries, 0 to 16714\n",
      "Data columns (total 11 columns):\n",
      " #   Column           Non-Null Count  Dtype  \n",
      "---  ------           --------------  -----  \n",
      " 0   Name             16713 non-null  object \n",
      " 1   Platform         16715 non-null  object \n",
      " 2   Year_of_Release  16446 non-null  float64\n",
      " 3   Genre            16713 non-null  object \n",
      " 4   NA_sales         16715 non-null  float64\n",
      " 5   EU_sales         16715 non-null  float64\n",
      " 6   JP_sales         16715 non-null  float64\n",
      " 7   Other_sales      16715 non-null  float64\n",
      " 8   Critic_Score     8137 non-null   float64\n",
      " 9   User_Score       10014 non-null  object \n",
      " 10  Rating           9949 non-null   object \n",
      "dtypes: float64(6), object(5)\n",
      "memory usage: 1.4+ MB\n"
     ]
    }
   ],
   "source": [
    "data.info()"
   ]
  },
  {
   "cell_type": "markdown",
   "metadata": {},
   "source": [
    "После просмотра информации по загруженным данным видно, что уже в первых пяти строчках встречаются пропущенные значения. Так же по информации о таблице видно, что не мало пропусков в различных столбцах, некоторым столбцам несоответсвет тип данных и можно привести наименования к нижнему регистру."
   ]
  },
  {
   "cell_type": "markdown",
   "metadata": {},
   "source": [
    "**Шаг 2. Предобработка данных**"
   ]
  },
  {
   "cell_type": "markdown",
   "metadata": {},
   "source": [
    "Приведем наименования к нижнему регистру."
   ]
  },
  {
   "cell_type": "code",
   "execution_count": 4,
   "metadata": {},
   "outputs": [],
   "source": [
    "data.columns = data.columns.str.lower()"
   ]
  },
  {
   "cell_type": "markdown",
   "metadata": {},
   "source": [
    "Проведем проверку на дубликаты явные и нет."
   ]
  },
  {
   "cell_type": "code",
   "execution_count": 5,
   "metadata": {},
   "outputs": [
    {
     "data": {
      "text/plain": [
       "0"
      ]
     },
     "execution_count": 5,
     "metadata": {},
     "output_type": "execute_result"
    }
   ],
   "source": [
    "data.duplicated().sum()"
   ]
  },
  {
   "cell_type": "code",
   "execution_count": 6,
   "metadata": {},
   "outputs": [
    {
     "data": {
      "text/plain": [
       "array(['Wii Sports', 'Super Mario Bros.', 'Mario Kart Wii', ...,\n",
       "       'Woody Woodpecker in Crazy Castle 5', 'LMA Manager 2007',\n",
       "       'Haitaka no Psychedelica'], dtype=object)"
      ]
     },
     "execution_count": 6,
     "metadata": {},
     "output_type": "execute_result"
    }
   ],
   "source": [
    "data['name'].unique()"
   ]
  },
  {
   "cell_type": "code",
   "execution_count": 7,
   "metadata": {},
   "outputs": [
    {
     "data": {
      "text/plain": [
       "array(['Wii', 'NES', 'GB', 'DS', 'X360', 'PS3', 'PS2', 'SNES', 'GBA',\n",
       "       'PS4', '3DS', 'N64', 'PS', 'XB', 'PC', '2600', 'PSP', 'XOne',\n",
       "       'WiiU', 'GC', 'GEN', 'DC', 'PSV', 'SAT', 'SCD', 'WS', 'NG', 'TG16',\n",
       "       '3DO', 'GG', 'PCFX'], dtype=object)"
      ]
     },
     "execution_count": 7,
     "metadata": {},
     "output_type": "execute_result"
    }
   ],
   "source": [
    "data['platform'].unique()"
   ]
  },
  {
   "cell_type": "code",
   "execution_count": 8,
   "metadata": {},
   "outputs": [
    {
     "data": {
      "text/plain": [
       "array([2006., 1985., 2008., 2009., 1996., 1989., 1984., 2005., 1999.,\n",
       "       2007., 2010., 2013., 2004., 1990., 1988., 2002., 2001., 2011.,\n",
       "       1998., 2015., 2012., 2014., 1992., 1997., 1993., 1994., 1982.,\n",
       "       2016., 2003., 1986., 2000.,   nan, 1995., 1991., 1981., 1987.,\n",
       "       1980., 1983.])"
      ]
     },
     "execution_count": 8,
     "metadata": {},
     "output_type": "execute_result"
    }
   ],
   "source": [
    "data['year_of_release'].unique()"
   ]
  },
  {
   "cell_type": "markdown",
   "metadata": {},
   "source": [
    "Дубликатов в данных нет."
   ]
  },
  {
   "cell_type": "code",
   "execution_count": 9,
   "metadata": {},
   "outputs": [
    {
     "data": {
      "text/plain": [
       "array(['8', nan, '8.3', '8.5', '6.6', '8.4', '8.6', '7.7', '6.3', '7.4',\n",
       "       '8.2', '9', '7.9', '8.1', '8.7', '7.1', '3.4', '5.3', '4.8', '3.2',\n",
       "       '8.9', '6.4', '7.8', '7.5', '2.6', '7.2', '9.2', '7', '7.3', '4.3',\n",
       "       '7.6', '5.7', '5', '9.1', '6.5', 'tbd', '8.8', '6.9', '9.4', '6.8',\n",
       "       '6.1', '6.7', '5.4', '4', '4.9', '4.5', '9.3', '6.2', '4.2', '6',\n",
       "       '3.7', '4.1', '5.8', '5.6', '5.5', '4.4', '4.6', '5.9', '3.9',\n",
       "       '3.1', '2.9', '5.2', '3.3', '4.7', '5.1', '3.5', '2.5', '1.9', '3',\n",
       "       '2.7', '2.2', '2', '9.5', '2.1', '3.6', '2.8', '1.8', '3.8', '0',\n",
       "       '1.6', '9.6', '2.4', '1.7', '1.1', '0.3', '1.5', '0.7', '1.2',\n",
       "       '2.3', '0.5', '1.3', '0.2', '0.6', '1.4', '0.9', '1', '9.7'],\n",
       "      dtype=object)"
      ]
     },
     "execution_count": 9,
     "metadata": {},
     "output_type": "execute_result"
    }
   ],
   "source": [
    "data['user_score'].unique()"
   ]
  },
  {
   "cell_type": "markdown",
   "metadata": {},
   "source": [
    "Заменим тип данных в следующих столбцах:\n",
    "    Year_of_Release на int\n",
    "    User_Score на числовое. \n",
    "   \n",
    "Перед тем тем как привести к числу необходимо разобраться с абривиатурой \"tbd\". Было выяснено, что это сокращение обозначает To Be Determined, такое обозначение указывают, когда рейтинг еще не опредлен, то есть фактически его нет. Можно заменить на nan."
   ]
  },
  {
   "cell_type": "code",
   "execution_count": 10,
   "metadata": {},
   "outputs": [],
   "source": [
    "data['user_score'] = data['user_score'].replace('tbd', np.nan, regex=True)\n",
    "data['user_score'] = data['user_score'].astype('float')"
   ]
  },
  {
   "cell_type": "code",
   "execution_count": 11,
   "metadata": {},
   "outputs": [],
   "source": [
    "data['year_of_release'] = data['year_of_release'].astype('Int64')"
   ]
  },
  {
   "cell_type": "code",
   "execution_count": 12,
   "metadata": {},
   "outputs": [
    {
     "data": {
      "text/plain": [
       "name                  2\n",
       "platform              0\n",
       "year_of_release     269\n",
       "genre                 2\n",
       "na_sales              0\n",
       "eu_sales              0\n",
       "jp_sales              0\n",
       "other_sales           0\n",
       "critic_score       8578\n",
       "user_score         9125\n",
       "rating             6766\n",
       "dtype: int64"
      ]
     },
     "execution_count": 12,
     "metadata": {},
     "output_type": "execute_result"
    }
   ],
   "source": [
    "data.isnull().sum()"
   ]
  },
  {
   "cell_type": "markdown",
   "metadata": {},
   "source": [
    "Не уверена, что есть смысл запонять такое количество пропущенных значений, которые составляют почти половину данных, это может не правильным образом сказаться на статистических данных в анализе."
   ]
  },
  {
   "cell_type": "markdown",
   "metadata": {},
   "source": [
    "Посчитаем суммарные продажи в отдельном столбце."
   ]
  },
  {
   "cell_type": "code",
   "execution_count": 13,
   "metadata": {},
   "outputs": [
    {
     "data": {
      "text/html": [
       "<div>\n",
       "<style scoped>\n",
       "    .dataframe tbody tr th:only-of-type {\n",
       "        vertical-align: middle;\n",
       "    }\n",
       "\n",
       "    .dataframe tbody tr th {\n",
       "        vertical-align: top;\n",
       "    }\n",
       "\n",
       "    .dataframe thead th {\n",
       "        text-align: right;\n",
       "    }\n",
       "</style>\n",
       "<table border=\"1\" class=\"dataframe\">\n",
       "  <thead>\n",
       "    <tr style=\"text-align: right;\">\n",
       "      <th></th>\n",
       "      <th>name</th>\n",
       "      <th>platform</th>\n",
       "      <th>year_of_release</th>\n",
       "      <th>genre</th>\n",
       "      <th>na_sales</th>\n",
       "      <th>eu_sales</th>\n",
       "      <th>jp_sales</th>\n",
       "      <th>other_sales</th>\n",
       "      <th>critic_score</th>\n",
       "      <th>user_score</th>\n",
       "      <th>rating</th>\n",
       "      <th>total_sales</th>\n",
       "    </tr>\n",
       "  </thead>\n",
       "  <tbody>\n",
       "    <tr>\n",
       "      <th>0</th>\n",
       "      <td>Wii Sports</td>\n",
       "      <td>Wii</td>\n",
       "      <td>2006</td>\n",
       "      <td>Sports</td>\n",
       "      <td>41.36</td>\n",
       "      <td>28.96</td>\n",
       "      <td>3.77</td>\n",
       "      <td>8.45</td>\n",
       "      <td>76.0</td>\n",
       "      <td>8.0</td>\n",
       "      <td>E</td>\n",
       "      <td>82.54</td>\n",
       "    </tr>\n",
       "    <tr>\n",
       "      <th>1</th>\n",
       "      <td>Super Mario Bros.</td>\n",
       "      <td>NES</td>\n",
       "      <td>1985</td>\n",
       "      <td>Platform</td>\n",
       "      <td>29.08</td>\n",
       "      <td>3.58</td>\n",
       "      <td>6.81</td>\n",
       "      <td>0.77</td>\n",
       "      <td>NaN</td>\n",
       "      <td>NaN</td>\n",
       "      <td>NaN</td>\n",
       "      <td>40.24</td>\n",
       "    </tr>\n",
       "    <tr>\n",
       "      <th>2</th>\n",
       "      <td>Mario Kart Wii</td>\n",
       "      <td>Wii</td>\n",
       "      <td>2008</td>\n",
       "      <td>Racing</td>\n",
       "      <td>15.68</td>\n",
       "      <td>12.76</td>\n",
       "      <td>3.79</td>\n",
       "      <td>3.29</td>\n",
       "      <td>82.0</td>\n",
       "      <td>8.3</td>\n",
       "      <td>E</td>\n",
       "      <td>35.52</td>\n",
       "    </tr>\n",
       "    <tr>\n",
       "      <th>3</th>\n",
       "      <td>Wii Sports Resort</td>\n",
       "      <td>Wii</td>\n",
       "      <td>2009</td>\n",
       "      <td>Sports</td>\n",
       "      <td>15.61</td>\n",
       "      <td>10.93</td>\n",
       "      <td>3.28</td>\n",
       "      <td>2.95</td>\n",
       "      <td>80.0</td>\n",
       "      <td>8.0</td>\n",
       "      <td>E</td>\n",
       "      <td>32.77</td>\n",
       "    </tr>\n",
       "    <tr>\n",
       "      <th>4</th>\n",
       "      <td>Pokemon Red/Pokemon Blue</td>\n",
       "      <td>GB</td>\n",
       "      <td>1996</td>\n",
       "      <td>Role-Playing</td>\n",
       "      <td>11.27</td>\n",
       "      <td>8.89</td>\n",
       "      <td>10.22</td>\n",
       "      <td>1.00</td>\n",
       "      <td>NaN</td>\n",
       "      <td>NaN</td>\n",
       "      <td>NaN</td>\n",
       "      <td>31.38</td>\n",
       "    </tr>\n",
       "    <tr>\n",
       "      <th>5</th>\n",
       "      <td>Tetris</td>\n",
       "      <td>GB</td>\n",
       "      <td>1989</td>\n",
       "      <td>Puzzle</td>\n",
       "      <td>23.20</td>\n",
       "      <td>2.26</td>\n",
       "      <td>4.22</td>\n",
       "      <td>0.58</td>\n",
       "      <td>NaN</td>\n",
       "      <td>NaN</td>\n",
       "      <td>NaN</td>\n",
       "      <td>30.26</td>\n",
       "    </tr>\n",
       "    <tr>\n",
       "      <th>6</th>\n",
       "      <td>New Super Mario Bros.</td>\n",
       "      <td>DS</td>\n",
       "      <td>2006</td>\n",
       "      <td>Platform</td>\n",
       "      <td>11.28</td>\n",
       "      <td>9.14</td>\n",
       "      <td>6.50</td>\n",
       "      <td>2.88</td>\n",
       "      <td>89.0</td>\n",
       "      <td>8.5</td>\n",
       "      <td>E</td>\n",
       "      <td>29.80</td>\n",
       "    </tr>\n",
       "    <tr>\n",
       "      <th>7</th>\n",
       "      <td>Wii Play</td>\n",
       "      <td>Wii</td>\n",
       "      <td>2006</td>\n",
       "      <td>Misc</td>\n",
       "      <td>13.96</td>\n",
       "      <td>9.18</td>\n",
       "      <td>2.93</td>\n",
       "      <td>2.84</td>\n",
       "      <td>58.0</td>\n",
       "      <td>6.6</td>\n",
       "      <td>E</td>\n",
       "      <td>28.91</td>\n",
       "    </tr>\n",
       "    <tr>\n",
       "      <th>8</th>\n",
       "      <td>New Super Mario Bros. Wii</td>\n",
       "      <td>Wii</td>\n",
       "      <td>2009</td>\n",
       "      <td>Platform</td>\n",
       "      <td>14.44</td>\n",
       "      <td>6.94</td>\n",
       "      <td>4.70</td>\n",
       "      <td>2.24</td>\n",
       "      <td>87.0</td>\n",
       "      <td>8.4</td>\n",
       "      <td>E</td>\n",
       "      <td>28.32</td>\n",
       "    </tr>\n",
       "    <tr>\n",
       "      <th>9</th>\n",
       "      <td>Duck Hunt</td>\n",
       "      <td>NES</td>\n",
       "      <td>1984</td>\n",
       "      <td>Shooter</td>\n",
       "      <td>26.93</td>\n",
       "      <td>0.63</td>\n",
       "      <td>0.28</td>\n",
       "      <td>0.47</td>\n",
       "      <td>NaN</td>\n",
       "      <td>NaN</td>\n",
       "      <td>NaN</td>\n",
       "      <td>28.31</td>\n",
       "    </tr>\n",
       "  </tbody>\n",
       "</table>\n",
       "</div>"
      ],
      "text/plain": [
       "                        name platform  year_of_release         genre  \\\n",
       "0                 Wii Sports      Wii             2006        Sports   \n",
       "1          Super Mario Bros.      NES             1985      Platform   \n",
       "2             Mario Kart Wii      Wii             2008        Racing   \n",
       "3          Wii Sports Resort      Wii             2009        Sports   \n",
       "4   Pokemon Red/Pokemon Blue       GB             1996  Role-Playing   \n",
       "5                     Tetris       GB             1989        Puzzle   \n",
       "6      New Super Mario Bros.       DS             2006      Platform   \n",
       "7                   Wii Play      Wii             2006          Misc   \n",
       "8  New Super Mario Bros. Wii      Wii             2009      Platform   \n",
       "9                  Duck Hunt      NES             1984       Shooter   \n",
       "\n",
       "   na_sales  eu_sales  jp_sales  other_sales  critic_score  user_score rating  \\\n",
       "0     41.36     28.96      3.77         8.45          76.0         8.0      E   \n",
       "1     29.08      3.58      6.81         0.77           NaN         NaN    NaN   \n",
       "2     15.68     12.76      3.79         3.29          82.0         8.3      E   \n",
       "3     15.61     10.93      3.28         2.95          80.0         8.0      E   \n",
       "4     11.27      8.89     10.22         1.00           NaN         NaN    NaN   \n",
       "5     23.20      2.26      4.22         0.58           NaN         NaN    NaN   \n",
       "6     11.28      9.14      6.50         2.88          89.0         8.5      E   \n",
       "7     13.96      9.18      2.93         2.84          58.0         6.6      E   \n",
       "8     14.44      6.94      4.70         2.24          87.0         8.4      E   \n",
       "9     26.93      0.63      0.28         0.47           NaN         NaN    NaN   \n",
       "\n",
       "   total_sales  \n",
       "0        82.54  \n",
       "1        40.24  \n",
       "2        35.52  \n",
       "3        32.77  \n",
       "4        31.38  \n",
       "5        30.26  \n",
       "6        29.80  \n",
       "7        28.91  \n",
       "8        28.32  \n",
       "9        28.31  "
      ]
     },
     "execution_count": 13,
     "metadata": {},
     "output_type": "execute_result"
    }
   ],
   "source": [
    "data['total_sales'] = data['na_sales'] + data['eu_sales'] + data['jp_sales'] + data['other_sales']\n",
    "data.head(10)"
   ]
  },
  {
   "cell_type": "markdown",
   "metadata": {},
   "source": [
    "Не целесообразно заменять все пропуски. Многие значения пропущены в играх, у которых год выпуска очень далекий, тогда возможно и не было никаких рейтингов. Поэтому среднее или медиальное значение в этих случаях не подойдет. В случае года выпуска (269 строк из 167150) состовляет 1,6% им мы можем пожертвовать."
   ]
  },
  {
   "cell_type": "code",
   "execution_count": 14,
   "metadata": {},
   "outputs": [
    {
     "name": "stdout",
     "output_type": "stream",
     "text": [
      "<class 'pandas.core.frame.DataFrame'>\n",
      "RangeIndex: 16715 entries, 0 to 16714\n",
      "Data columns (total 12 columns):\n",
      " #   Column           Non-Null Count  Dtype  \n",
      "---  ------           --------------  -----  \n",
      " 0   name             16713 non-null  object \n",
      " 1   platform         16715 non-null  object \n",
      " 2   year_of_release  16446 non-null  Int64  \n",
      " 3   genre            16713 non-null  object \n",
      " 4   na_sales         16715 non-null  float64\n",
      " 5   eu_sales         16715 non-null  float64\n",
      " 6   jp_sales         16715 non-null  float64\n",
      " 7   other_sales      16715 non-null  float64\n",
      " 8   critic_score     8137 non-null   float64\n",
      " 9   user_score       7590 non-null   float64\n",
      " 10  rating           9949 non-null   object \n",
      " 11  total_sales      16715 non-null  float64\n",
      "dtypes: Int64(1), float64(7), object(4)\n",
      "memory usage: 1.5+ MB\n",
      "None\n",
      "-------------------------\n",
      "name [' Beyblade Burst' ' Fire Emblem Fates' \" Frozen: Olaf's Quest\" ...\n",
      " 'wwe Smackdown vs. Raw 2006' '¡Shin Chan Flipa en colores!' nan]\n",
      "name : кол-во NaN 2 , процент NaN 0.01 %\n",
      "-------------------------\n",
      "platform ['2600' '3DO' '3DS' 'DC' 'DS' 'GB' 'GBA' 'GC' 'GEN' 'GG' 'N64' 'NES' 'NG'\n",
      " 'PC' 'PCFX' 'PS' 'PS2' 'PS3' 'PS4' 'PSP' 'PSV' 'SAT' 'SCD' 'SNES' 'TG16'\n",
      " 'WS' 'Wii' 'WiiU' 'X360' 'XB' 'XOne']\n",
      "platform : кол-во NaN 0 , процент NaN 0.0 %\n",
      "-------------------------\n",
      "year_of_release <IntegerArray>\n",
      "[1980, 1981, 1982, 1983, 1984, 1985, 1986, 1987, 1988, 1989, 1990, 1991, 1992,\n",
      " 1993, 1994, 1995, 1996, 1997, 1998, 1999, 2000, 2001, 2002, 2003, 2004, 2005,\n",
      " 2006, 2007, 2008, 2009, 2010, 2011, 2012, 2013, 2014, 2015, 2016, <NA>]\n",
      "Length: 38, dtype: Int64\n",
      "year_of_release : кол-во NaN 269 , процент NaN 1.61 %\n",
      "-------------------------\n",
      "genre ['Action' 'Adventure' 'Fighting' 'Misc' 'Platform' 'Puzzle' 'Racing'\n",
      " 'Role-Playing' 'Shooter' 'Simulation' 'Sports' 'Strategy' nan]\n",
      "genre : кол-во NaN 2 , процент NaN 0.01 %\n",
      "-------------------------\n",
      "critic_score [13. 17. 19. 20. 21. 22. 23. 24. 25. 26. 27. 28. 29. 30. 31. 32. 33. 34.\n",
      " 35. 36. 37. 38. 39. 40. 41. 42. 43. 44. 45. 46. 47. 48. 49. 50. 51. 52.\n",
      " 53. 54. 55. 56. 57. 58. 59. 60. 61. 62. 63. 64. 65. 66. 67. 68. 69. 70.\n",
      " 71. 72. 73. 74. 75. 76. 77. 78. 79. 80. 81. 82. 83. 84. 85. 86. 87. 88.\n",
      " 89. 90. 91. 92. 93. 94. 95. 96. 97. 98. nan]\n",
      "critic_score : кол-во NaN 8578 , процент NaN 51.32 %\n",
      "-------------------------\n",
      "user_score [0.  0.2 0.3 0.5 0.6 0.7 0.9 1.  1.1 1.2 1.3 1.4 1.5 1.6 1.7 1.8 1.9 2.\n",
      " 2.1 2.2 2.3 2.4 2.5 2.6 2.7 2.8 2.9 3.  3.1 3.2 3.3 3.4 3.5 3.6 3.7 3.8\n",
      " 3.9 4.  4.1 4.2 4.3 4.4 4.5 4.6 4.7 4.8 4.9 5.  5.1 5.2 5.3 5.4 5.5 5.6\n",
      " 5.7 5.8 5.9 6.  6.1 6.2 6.3 6.4 6.5 6.6 6.7 6.8 6.9 7.  7.1 7.2 7.3 7.4\n",
      " 7.5 7.6 7.7 7.8 7.9 8.  8.1 8.2 8.3 8.4 8.5 8.6 8.7 8.8 8.9 9.  9.1 9.2\n",
      " 9.3 9.4 9.5 9.6 9.7 nan]\n",
      "user_score : кол-во NaN 9125 , процент NaN 54.59 %\n",
      "-------------------------\n",
      "rating ['AO' 'E' 'E10+' 'EC' 'K-A' 'M' 'RP' 'T' nan]\n",
      "rating : кол-во NaN 6766 , процент NaN 40.48 %\n"
     ]
    }
   ],
   "source": [
    "# Комментарий ревьюера\n",
    "# Посмотрим, что осталось\n",
    "temp = data.copy() \n",
    "list_c = ['name', 'platform', 'year_of_release', 'genre', 'critic_score', 'user_score', 'rating']\n",
    "print(temp.info())\n",
    "for col_l in list_c:\n",
    "  print('-'* 25)\n",
    "  print(col_l, temp[col_l].sort_values().unique())\n",
    "  print(col_l,': кол-во NaN',temp[col_l].isna().sum(),\n",
    "        ', процент NaN', round(temp[col_l].isna().mean()*100,2),'%') "
   ]
  },
  {
   "cell_type": "markdown",
   "metadata": {},
   "source": [
    "Пропуски в столбце year of release можем удалить, так как в этих строчках и так отсутсвуют все данные, необходимые нам для анализа, тоже самое произведем со столбцами name и genre."
   ]
  },
  {
   "cell_type": "code",
   "execution_count": 15,
   "metadata": {},
   "outputs": [],
   "source": [
    "data = data.dropna(subset=['year_of_release'])\n",
    "data = data.dropna(subset=['name'])\n",
    "data = data.dropna(subset=['genre'])"
   ]
  },
  {
   "cell_type": "code",
   "execution_count": 16,
   "metadata": {},
   "outputs": [
    {
     "data": {
      "text/html": [
       "<div>\n",
       "<style scoped>\n",
       "    .dataframe tbody tr th:only-of-type {\n",
       "        vertical-align: middle;\n",
       "    }\n",
       "\n",
       "    .dataframe tbody tr th {\n",
       "        vertical-align: top;\n",
       "    }\n",
       "\n",
       "    .dataframe thead th {\n",
       "        text-align: right;\n",
       "    }\n",
       "</style>\n",
       "<table border=\"1\" class=\"dataframe\">\n",
       "  <thead>\n",
       "    <tr style=\"text-align: right;\">\n",
       "      <th></th>\n",
       "      <th>name</th>\n",
       "      <th>platform</th>\n",
       "      <th>year_of_release</th>\n",
       "      <th>genre</th>\n",
       "      <th>na_sales</th>\n",
       "      <th>eu_sales</th>\n",
       "      <th>jp_sales</th>\n",
       "      <th>other_sales</th>\n",
       "      <th>critic_score</th>\n",
       "      <th>user_score</th>\n",
       "      <th>rating</th>\n",
       "      <th>total_sales</th>\n",
       "    </tr>\n",
       "  </thead>\n",
       "  <tbody>\n",
       "    <tr>\n",
       "      <th>1</th>\n",
       "      <td>Super Mario Bros.</td>\n",
       "      <td>NES</td>\n",
       "      <td>1985</td>\n",
       "      <td>Platform</td>\n",
       "      <td>29.08</td>\n",
       "      <td>3.58</td>\n",
       "      <td>6.81</td>\n",
       "      <td>0.77</td>\n",
       "      <td>NaN</td>\n",
       "      <td>NaN</td>\n",
       "      <td>NaN</td>\n",
       "      <td>40.24</td>\n",
       "    </tr>\n",
       "    <tr>\n",
       "      <th>4</th>\n",
       "      <td>Pokemon Red/Pokemon Blue</td>\n",
       "      <td>GB</td>\n",
       "      <td>1996</td>\n",
       "      <td>Role-Playing</td>\n",
       "      <td>11.27</td>\n",
       "      <td>8.89</td>\n",
       "      <td>10.22</td>\n",
       "      <td>1.00</td>\n",
       "      <td>NaN</td>\n",
       "      <td>NaN</td>\n",
       "      <td>NaN</td>\n",
       "      <td>31.38</td>\n",
       "    </tr>\n",
       "    <tr>\n",
       "      <th>5</th>\n",
       "      <td>Tetris</td>\n",
       "      <td>GB</td>\n",
       "      <td>1989</td>\n",
       "      <td>Puzzle</td>\n",
       "      <td>23.20</td>\n",
       "      <td>2.26</td>\n",
       "      <td>4.22</td>\n",
       "      <td>0.58</td>\n",
       "      <td>NaN</td>\n",
       "      <td>NaN</td>\n",
       "      <td>NaN</td>\n",
       "      <td>30.26</td>\n",
       "    </tr>\n",
       "    <tr>\n",
       "      <th>9</th>\n",
       "      <td>Duck Hunt</td>\n",
       "      <td>NES</td>\n",
       "      <td>1984</td>\n",
       "      <td>Shooter</td>\n",
       "      <td>26.93</td>\n",
       "      <td>0.63</td>\n",
       "      <td>0.28</td>\n",
       "      <td>0.47</td>\n",
       "      <td>NaN</td>\n",
       "      <td>NaN</td>\n",
       "      <td>NaN</td>\n",
       "      <td>28.31</td>\n",
       "    </tr>\n",
       "    <tr>\n",
       "      <th>10</th>\n",
       "      <td>Nintendogs</td>\n",
       "      <td>DS</td>\n",
       "      <td>2005</td>\n",
       "      <td>Simulation</td>\n",
       "      <td>9.05</td>\n",
       "      <td>10.95</td>\n",
       "      <td>1.93</td>\n",
       "      <td>2.74</td>\n",
       "      <td>NaN</td>\n",
       "      <td>NaN</td>\n",
       "      <td>NaN</td>\n",
       "      <td>24.67</td>\n",
       "    </tr>\n",
       "    <tr>\n",
       "      <th>...</th>\n",
       "      <td>...</td>\n",
       "      <td>...</td>\n",
       "      <td>...</td>\n",
       "      <td>...</td>\n",
       "      <td>...</td>\n",
       "      <td>...</td>\n",
       "      <td>...</td>\n",
       "      <td>...</td>\n",
       "      <td>...</td>\n",
       "      <td>...</td>\n",
       "      <td>...</td>\n",
       "      <td>...</td>\n",
       "    </tr>\n",
       "    <tr>\n",
       "      <th>16710</th>\n",
       "      <td>Samurai Warriors: Sanada Maru</td>\n",
       "      <td>PS3</td>\n",
       "      <td>2016</td>\n",
       "      <td>Action</td>\n",
       "      <td>0.00</td>\n",
       "      <td>0.00</td>\n",
       "      <td>0.01</td>\n",
       "      <td>0.00</td>\n",
       "      <td>NaN</td>\n",
       "      <td>NaN</td>\n",
       "      <td>NaN</td>\n",
       "      <td>0.01</td>\n",
       "    </tr>\n",
       "    <tr>\n",
       "      <th>16711</th>\n",
       "      <td>LMA Manager 2007</td>\n",
       "      <td>X360</td>\n",
       "      <td>2006</td>\n",
       "      <td>Sports</td>\n",
       "      <td>0.00</td>\n",
       "      <td>0.01</td>\n",
       "      <td>0.00</td>\n",
       "      <td>0.00</td>\n",
       "      <td>NaN</td>\n",
       "      <td>NaN</td>\n",
       "      <td>NaN</td>\n",
       "      <td>0.01</td>\n",
       "    </tr>\n",
       "    <tr>\n",
       "      <th>16712</th>\n",
       "      <td>Haitaka no Psychedelica</td>\n",
       "      <td>PSV</td>\n",
       "      <td>2016</td>\n",
       "      <td>Adventure</td>\n",
       "      <td>0.00</td>\n",
       "      <td>0.00</td>\n",
       "      <td>0.01</td>\n",
       "      <td>0.00</td>\n",
       "      <td>NaN</td>\n",
       "      <td>NaN</td>\n",
       "      <td>NaN</td>\n",
       "      <td>0.01</td>\n",
       "    </tr>\n",
       "    <tr>\n",
       "      <th>16713</th>\n",
       "      <td>Spirits &amp; Spells</td>\n",
       "      <td>GBA</td>\n",
       "      <td>2003</td>\n",
       "      <td>Platform</td>\n",
       "      <td>0.01</td>\n",
       "      <td>0.00</td>\n",
       "      <td>0.00</td>\n",
       "      <td>0.00</td>\n",
       "      <td>NaN</td>\n",
       "      <td>NaN</td>\n",
       "      <td>NaN</td>\n",
       "      <td>0.01</td>\n",
       "    </tr>\n",
       "    <tr>\n",
       "      <th>16714</th>\n",
       "      <td>Winning Post 8 2016</td>\n",
       "      <td>PSV</td>\n",
       "      <td>2016</td>\n",
       "      <td>Simulation</td>\n",
       "      <td>0.00</td>\n",
       "      <td>0.00</td>\n",
       "      <td>0.01</td>\n",
       "      <td>0.00</td>\n",
       "      <td>NaN</td>\n",
       "      <td>NaN</td>\n",
       "      <td>NaN</td>\n",
       "      <td>0.01</td>\n",
       "    </tr>\n",
       "  </tbody>\n",
       "</table>\n",
       "<p>8981 rows × 12 columns</p>\n",
       "</div>"
      ],
      "text/plain": [
       "                                name platform  year_of_release         genre  \\\n",
       "1                  Super Mario Bros.      NES             1985      Platform   \n",
       "4           Pokemon Red/Pokemon Blue       GB             1996  Role-Playing   \n",
       "5                             Tetris       GB             1989        Puzzle   \n",
       "9                          Duck Hunt      NES             1984       Shooter   \n",
       "10                        Nintendogs       DS             2005    Simulation   \n",
       "...                              ...      ...              ...           ...   \n",
       "16710  Samurai Warriors: Sanada Maru      PS3             2016        Action   \n",
       "16711               LMA Manager 2007     X360             2006        Sports   \n",
       "16712        Haitaka no Psychedelica      PSV             2016     Adventure   \n",
       "16713               Spirits & Spells      GBA             2003      Platform   \n",
       "16714            Winning Post 8 2016      PSV             2016    Simulation   \n",
       "\n",
       "       na_sales  eu_sales  jp_sales  other_sales  critic_score  user_score  \\\n",
       "1         29.08      3.58      6.81         0.77           NaN         NaN   \n",
       "4         11.27      8.89     10.22         1.00           NaN         NaN   \n",
       "5         23.20      2.26      4.22         0.58           NaN         NaN   \n",
       "9         26.93      0.63      0.28         0.47           NaN         NaN   \n",
       "10         9.05     10.95      1.93         2.74           NaN         NaN   \n",
       "...         ...       ...       ...          ...           ...         ...   \n",
       "16710      0.00      0.00      0.01         0.00           NaN         NaN   \n",
       "16711      0.00      0.01      0.00         0.00           NaN         NaN   \n",
       "16712      0.00      0.00      0.01         0.00           NaN         NaN   \n",
       "16713      0.01      0.00      0.00         0.00           NaN         NaN   \n",
       "16714      0.00      0.00      0.01         0.00           NaN         NaN   \n",
       "\n",
       "      rating  total_sales  \n",
       "1        NaN        40.24  \n",
       "4        NaN        31.38  \n",
       "5        NaN        30.26  \n",
       "9        NaN        28.31  \n",
       "10       NaN        24.67  \n",
       "...      ...          ...  \n",
       "16710    NaN         0.01  \n",
       "16711    NaN         0.01  \n",
       "16712    NaN         0.01  \n",
       "16713    NaN         0.01  \n",
       "16714    NaN         0.01  \n",
       "\n",
       "[8981 rows x 12 columns]"
      ]
     },
     "execution_count": 16,
     "metadata": {},
     "output_type": "execute_result"
    }
   ],
   "source": [
    "data[data['user_score'].isna()]"
   ]
  },
  {
   "cell_type": "code",
   "execution_count": 17,
   "metadata": {},
   "outputs": [
    {
     "data": {
      "text/html": [
       "<div>\n",
       "<style scoped>\n",
       "    .dataframe tbody tr th:only-of-type {\n",
       "        vertical-align: middle;\n",
       "    }\n",
       "\n",
       "    .dataframe tbody tr th {\n",
       "        vertical-align: top;\n",
       "    }\n",
       "\n",
       "    .dataframe thead th {\n",
       "        text-align: right;\n",
       "    }\n",
       "</style>\n",
       "<table border=\"1\" class=\"dataframe\">\n",
       "  <thead>\n",
       "    <tr style=\"text-align: right;\">\n",
       "      <th></th>\n",
       "      <th>name</th>\n",
       "      <th>platform</th>\n",
       "      <th>year_of_release</th>\n",
       "      <th>genre</th>\n",
       "      <th>na_sales</th>\n",
       "      <th>eu_sales</th>\n",
       "      <th>jp_sales</th>\n",
       "      <th>other_sales</th>\n",
       "      <th>critic_score</th>\n",
       "      <th>user_score</th>\n",
       "      <th>rating</th>\n",
       "      <th>total_sales</th>\n",
       "    </tr>\n",
       "  </thead>\n",
       "  <tbody>\n",
       "    <tr>\n",
       "      <th>1</th>\n",
       "      <td>Super Mario Bros.</td>\n",
       "      <td>NES</td>\n",
       "      <td>1985</td>\n",
       "      <td>Platform</td>\n",
       "      <td>29.08</td>\n",
       "      <td>3.58</td>\n",
       "      <td>6.81</td>\n",
       "      <td>0.77</td>\n",
       "      <td>NaN</td>\n",
       "      <td>NaN</td>\n",
       "      <td>NaN</td>\n",
       "      <td>40.24</td>\n",
       "    </tr>\n",
       "    <tr>\n",
       "      <th>4</th>\n",
       "      <td>Pokemon Red/Pokemon Blue</td>\n",
       "      <td>GB</td>\n",
       "      <td>1996</td>\n",
       "      <td>Role-Playing</td>\n",
       "      <td>11.27</td>\n",
       "      <td>8.89</td>\n",
       "      <td>10.22</td>\n",
       "      <td>1.00</td>\n",
       "      <td>NaN</td>\n",
       "      <td>NaN</td>\n",
       "      <td>NaN</td>\n",
       "      <td>31.38</td>\n",
       "    </tr>\n",
       "    <tr>\n",
       "      <th>5</th>\n",
       "      <td>Tetris</td>\n",
       "      <td>GB</td>\n",
       "      <td>1989</td>\n",
       "      <td>Puzzle</td>\n",
       "      <td>23.20</td>\n",
       "      <td>2.26</td>\n",
       "      <td>4.22</td>\n",
       "      <td>0.58</td>\n",
       "      <td>NaN</td>\n",
       "      <td>NaN</td>\n",
       "      <td>NaN</td>\n",
       "      <td>30.26</td>\n",
       "    </tr>\n",
       "    <tr>\n",
       "      <th>9</th>\n",
       "      <td>Duck Hunt</td>\n",
       "      <td>NES</td>\n",
       "      <td>1984</td>\n",
       "      <td>Shooter</td>\n",
       "      <td>26.93</td>\n",
       "      <td>0.63</td>\n",
       "      <td>0.28</td>\n",
       "      <td>0.47</td>\n",
       "      <td>NaN</td>\n",
       "      <td>NaN</td>\n",
       "      <td>NaN</td>\n",
       "      <td>28.31</td>\n",
       "    </tr>\n",
       "    <tr>\n",
       "      <th>10</th>\n",
       "      <td>Nintendogs</td>\n",
       "      <td>DS</td>\n",
       "      <td>2005</td>\n",
       "      <td>Simulation</td>\n",
       "      <td>9.05</td>\n",
       "      <td>10.95</td>\n",
       "      <td>1.93</td>\n",
       "      <td>2.74</td>\n",
       "      <td>NaN</td>\n",
       "      <td>NaN</td>\n",
       "      <td>NaN</td>\n",
       "      <td>24.67</td>\n",
       "    </tr>\n",
       "    <tr>\n",
       "      <th>...</th>\n",
       "      <td>...</td>\n",
       "      <td>...</td>\n",
       "      <td>...</td>\n",
       "      <td>...</td>\n",
       "      <td>...</td>\n",
       "      <td>...</td>\n",
       "      <td>...</td>\n",
       "      <td>...</td>\n",
       "      <td>...</td>\n",
       "      <td>...</td>\n",
       "      <td>...</td>\n",
       "      <td>...</td>\n",
       "    </tr>\n",
       "    <tr>\n",
       "      <th>16710</th>\n",
       "      <td>Samurai Warriors: Sanada Maru</td>\n",
       "      <td>PS3</td>\n",
       "      <td>2016</td>\n",
       "      <td>Action</td>\n",
       "      <td>0.00</td>\n",
       "      <td>0.00</td>\n",
       "      <td>0.01</td>\n",
       "      <td>0.00</td>\n",
       "      <td>NaN</td>\n",
       "      <td>NaN</td>\n",
       "      <td>NaN</td>\n",
       "      <td>0.01</td>\n",
       "    </tr>\n",
       "    <tr>\n",
       "      <th>16711</th>\n",
       "      <td>LMA Manager 2007</td>\n",
       "      <td>X360</td>\n",
       "      <td>2006</td>\n",
       "      <td>Sports</td>\n",
       "      <td>0.00</td>\n",
       "      <td>0.01</td>\n",
       "      <td>0.00</td>\n",
       "      <td>0.00</td>\n",
       "      <td>NaN</td>\n",
       "      <td>NaN</td>\n",
       "      <td>NaN</td>\n",
       "      <td>0.01</td>\n",
       "    </tr>\n",
       "    <tr>\n",
       "      <th>16712</th>\n",
       "      <td>Haitaka no Psychedelica</td>\n",
       "      <td>PSV</td>\n",
       "      <td>2016</td>\n",
       "      <td>Adventure</td>\n",
       "      <td>0.00</td>\n",
       "      <td>0.00</td>\n",
       "      <td>0.01</td>\n",
       "      <td>0.00</td>\n",
       "      <td>NaN</td>\n",
       "      <td>NaN</td>\n",
       "      <td>NaN</td>\n",
       "      <td>0.01</td>\n",
       "    </tr>\n",
       "    <tr>\n",
       "      <th>16713</th>\n",
       "      <td>Spirits &amp; Spells</td>\n",
       "      <td>GBA</td>\n",
       "      <td>2003</td>\n",
       "      <td>Platform</td>\n",
       "      <td>0.01</td>\n",
       "      <td>0.00</td>\n",
       "      <td>0.00</td>\n",
       "      <td>0.00</td>\n",
       "      <td>NaN</td>\n",
       "      <td>NaN</td>\n",
       "      <td>NaN</td>\n",
       "      <td>0.01</td>\n",
       "    </tr>\n",
       "    <tr>\n",
       "      <th>16714</th>\n",
       "      <td>Winning Post 8 2016</td>\n",
       "      <td>PSV</td>\n",
       "      <td>2016</td>\n",
       "      <td>Simulation</td>\n",
       "      <td>0.00</td>\n",
       "      <td>0.00</td>\n",
       "      <td>0.01</td>\n",
       "      <td>0.00</td>\n",
       "      <td>NaN</td>\n",
       "      <td>NaN</td>\n",
       "      <td>NaN</td>\n",
       "      <td>0.01</td>\n",
       "    </tr>\n",
       "  </tbody>\n",
       "</table>\n",
       "<p>6676 rows × 12 columns</p>\n",
       "</div>"
      ],
      "text/plain": [
       "                                name platform  year_of_release         genre  \\\n",
       "1                  Super Mario Bros.      NES             1985      Platform   \n",
       "4           Pokemon Red/Pokemon Blue       GB             1996  Role-Playing   \n",
       "5                             Tetris       GB             1989        Puzzle   \n",
       "9                          Duck Hunt      NES             1984       Shooter   \n",
       "10                        Nintendogs       DS             2005    Simulation   \n",
       "...                              ...      ...              ...           ...   \n",
       "16710  Samurai Warriors: Sanada Maru      PS3             2016        Action   \n",
       "16711               LMA Manager 2007     X360             2006        Sports   \n",
       "16712        Haitaka no Psychedelica      PSV             2016     Adventure   \n",
       "16713               Spirits & Spells      GBA             2003      Platform   \n",
       "16714            Winning Post 8 2016      PSV             2016    Simulation   \n",
       "\n",
       "       na_sales  eu_sales  jp_sales  other_sales  critic_score  user_score  \\\n",
       "1         29.08      3.58      6.81         0.77           NaN         NaN   \n",
       "4         11.27      8.89     10.22         1.00           NaN         NaN   \n",
       "5         23.20      2.26      4.22         0.58           NaN         NaN   \n",
       "9         26.93      0.63      0.28         0.47           NaN         NaN   \n",
       "10         9.05     10.95      1.93         2.74           NaN         NaN   \n",
       "...         ...       ...       ...          ...           ...         ...   \n",
       "16710      0.00      0.00      0.01         0.00           NaN         NaN   \n",
       "16711      0.00      0.01      0.00         0.00           NaN         NaN   \n",
       "16712      0.00      0.00      0.01         0.00           NaN         NaN   \n",
       "16713      0.01      0.00      0.00         0.00           NaN         NaN   \n",
       "16714      0.00      0.00      0.01         0.00           NaN         NaN   \n",
       "\n",
       "      rating  total_sales  \n",
       "1        NaN        40.24  \n",
       "4        NaN        31.38  \n",
       "5        NaN        30.26  \n",
       "9        NaN        28.31  \n",
       "10       NaN        24.67  \n",
       "...      ...          ...  \n",
       "16710    NaN         0.01  \n",
       "16711    NaN         0.01  \n",
       "16712    NaN         0.01  \n",
       "16713    NaN         0.01  \n",
       "16714    NaN         0.01  \n",
       "\n",
       "[6676 rows x 12 columns]"
      ]
     },
     "execution_count": 17,
     "metadata": {},
     "output_type": "execute_result"
    }
   ],
   "source": [
    "data[data['rating'].isna()]"
   ]
  },
  {
   "cell_type": "markdown",
   "metadata": {},
   "source": [
    "Крупнейшие платформы стали появляться после 1994 года, вполне вероятно, что далеко не всем играм, выпущенным до 1996 года, критики и пользователи ставили оценки. \n",
    "Организация ESRB, присуждающая рейтинги играм, была основана в 1994 году. Соответственно, далеко не всем играм, выпущенным до этого года, присуждался рейтинг. \n",
    "В большинстве в таблице пропущены все рейтинги одновременно, не целесообразно удалять все строки с пропусками. Ноль присвоить нам тоже нельзя, так как при преобразовании к числовому типу произойдет слияние значимых данных таблицы и заглушки, поэтому присвоим знаение -1. В столбце rating тоже проведем замену на under, чтобы не терять большой блок информации."
   ]
  },
  {
   "cell_type": "code",
   "execution_count": 18,
   "metadata": {},
   "outputs": [
    {
     "data": {
      "text/plain": [
       "0            E\n",
       "1        under\n",
       "2            E\n",
       "3            E\n",
       "4        under\n",
       "         ...  \n",
       "16710    under\n",
       "16711    under\n",
       "16712    under\n",
       "16713    under\n",
       "16714    under\n",
       "Name: rating, Length: 16444, dtype: object"
      ]
     },
     "execution_count": 18,
     "metadata": {},
     "output_type": "execute_result"
    }
   ],
   "source": [
    "data['critic_score'].fillna(-1)\n",
    "data['user_score'].fillna(-1)\n",
    "data['rating'].fillna('under')"
   ]
  },
  {
   "cell_type": "code",
   "execution_count": 19,
   "metadata": {},
   "outputs": [
    {
     "data": {
      "text/plain": [
       "name                  0\n",
       "platform              0\n",
       "year_of_release       0\n",
       "genre                 0\n",
       "na_sales              0\n",
       "eu_sales              0\n",
       "jp_sales              0\n",
       "other_sales           0\n",
       "critic_score       8461\n",
       "user_score         8981\n",
       "rating             6676\n",
       "total_sales           0\n",
       "dtype: int64"
      ]
     },
     "execution_count": 19,
     "metadata": {},
     "output_type": "execute_result"
    }
   ],
   "source": [
    "data.isnull().sum()"
   ]
  },
  {
   "cell_type": "markdown",
   "metadata": {},
   "source": [
    "**Шаг 3. Исследовательский анализ данных**"
   ]
  },
  {
   "cell_type": "markdown",
   "metadata": {},
   "source": [
    "Посмотрим, сколько игр выпускалось в разные годы, как менялись продажи по платформам.\n",
    "Отсортируем данные за соответствующий актуальный период.Выберем несколько потенциально прибыльных платформ.\n",
    "Постройте график «ящик с усами» по глобальным продажам игр в разбивке по платформам. \n",
    "Определим, как влияют на продажи внутри одной популярной платформы отзывы пользователей и критиков, а также\n",
    "посмотрим на общее распределение игр по жанрам."
   ]
  },
  {
   "cell_type": "markdown",
   "metadata": {},
   "source": [
    "Построим диаграмму по годам выпуска игр."
   ]
  },
  {
   "cell_type": "code",
   "execution_count": 21,
   "metadata": {},
   "outputs": [
    {
     "data": {
      "image/png": "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\n",
      "text/plain": [
       "<Figure size 1440x720 with 1 Axes>"
      ]
     },
     "metadata": {
      "needs_background": "light"
     },
     "output_type": "display_data"
    }
   ],
   "source": [
    "games_by_each_year = data.pivot_table(index='year_of_release', values='name', aggfunc='count')\n",
    "\n",
    "games_by_each_year.plot(grid=True, kind='barh', figsize=(20, 10))\n",
    "\n",
    "plt.title(\"Количество игр по годам\")\n",
    "plt.xlabel(\"Количество выпущенных игр\")\n",
    "plt.ylabel(\"Год выпуска\")\n",
    "plt.show()"
   ]
  },
  {
   "cell_type": "markdown",
   "metadata": {},
   "source": [
    "После 1994 резко выросло количество игр, думаю до этого года в статистики данные можно не учитывать."
   ]
  },
  {
   "cell_type": "markdown",
   "metadata": {},
   "source": [
    "Посмотрим, как менялись продажи по платформам"
   ]
  },
  {
   "cell_type": "code",
   "execution_count": 22,
   "metadata": {},
   "outputs": [
    {
     "data": {
      "image/png": "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\n",
      "text/plain": [
       "<Figure size 1080x504 with 1 Axes>"
      ]
     },
     "metadata": {
      "needs_background": "light"
     },
     "output_type": "display_data"
    }
   ],
   "source": [
    "sales_on_platform = data.pivot_table(index='platform', values='total_sales', aggfunc='sum').sort_values(\n",
    "    by='total_sales', ascending=False)\n",
    "\n",
    "plt.figure(figsize=(15,7))\n",
    "sns.barplot(x=sales_on_platform.index,y=sales_on_platform['total_sales'])\n",
    "plt.title(\"Продажи по платформам за весь период\")\n",
    "plt.xlabel(\"Название платформы\")\n",
    "plt.ylabel(\"Количество продаж\")\n",
    "\n",
    "plt.show()"
   ]
  },
  {
   "cell_type": "markdown",
   "metadata": {},
   "source": [
    "Cамые популярные игровые платформы за весь период это PS2, X360, PS3, WII, DS, PS. Построим распределение по годам на основе этих шести платформ."
   ]
  },
  {
   "cell_type": "code",
   "execution_count": 23,
   "metadata": {},
   "outputs": [
    {
     "data": {
      "image/png": "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\n",
      "text/plain": [
       "<Figure size 432x288 with 1 Axes>"
      ]
     },
     "metadata": {
      "needs_background": "light"
     },
     "output_type": "display_data"
    }
   ],
   "source": [
    "PS2 = data.query('platform == \"PS2\"')\n",
    "PS2['year_of_release'].hist(bins=10)\n",
    "\n",
    "plt.title('PS2')\n",
    "plt.ylabel('Кол-во игр')\n",
    "plt.xlabel('Год')\n",
    "\n",
    "plt.show()"
   ]
  },
  {
   "cell_type": "code",
   "execution_count": 24,
   "metadata": {},
   "outputs": [
    {
     "data": {
      "image/png": "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\n",
      "text/plain": [
       "<Figure size 432x288 with 1 Axes>"
      ]
     },
     "metadata": {
      "needs_background": "light"
     },
     "output_type": "display_data"
    }
   ],
   "source": [
    "X360 = data.query('platform == \"X360\"')\n",
    "X360['year_of_release'].hist(bins=10)\n",
    "\n",
    "plt.title('X360')\n",
    "plt.ylabel('Кол-во игр')\n",
    "plt.xlabel('Год')\n",
    "\n",
    "plt.show()"
   ]
  },
  {
   "cell_type": "code",
   "execution_count": 25,
   "metadata": {},
   "outputs": [
    {
     "data": {
      "image/png": "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\n",
      "text/plain": [
       "<Figure size 432x288 with 1 Axes>"
      ]
     },
     "metadata": {
      "needs_background": "light"
     },
     "output_type": "display_data"
    }
   ],
   "source": [
    "PS3 = data.query('platform == \"PS3\"')\n",
    "PS3['year_of_release'].hist(bins=10)\n",
    "\n",
    "plt.title('PS3')\n",
    "plt.ylabel('Кол-во игр')\n",
    "plt.xlabel('Год')\n",
    "\n",
    "plt.show()"
   ]
  },
  {
   "cell_type": "code",
   "execution_count": 26,
   "metadata": {},
   "outputs": [
    {
     "data": {
      "image/png": "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\n",
      "text/plain": [
       "<Figure size 432x288 with 1 Axes>"
      ]
     },
     "metadata": {
      "needs_background": "light"
     },
     "output_type": "display_data"
    }
   ],
   "source": [
    "Wii = data.query('platform == \"Wii\"')\n",
    "Wii['year_of_release'].hist(bins=10)\n",
    "\n",
    "plt.title('Wii')\n",
    "plt.ylabel('Кол-во игр')\n",
    "plt.xlabel('Год')\n",
    "\n",
    "plt.show()"
   ]
  },
  {
   "cell_type": "code",
   "execution_count": 27,
   "metadata": {},
   "outputs": [
    {
     "data": {
      "image/png": "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\n",
      "text/plain": [
       "<Figure size 432x288 with 1 Axes>"
      ]
     },
     "metadata": {
      "needs_background": "light"
     },
     "output_type": "display_data"
    }
   ],
   "source": [
    "DS = data.query('platform == \"DS\"')\n",
    "DS['year_of_release'].hist(bins=10,range=(2000,2016))\n",
    "\n",
    "plt.title('DS')\n",
    "plt.ylabel('Кол-во игр')\n",
    "plt.xlabel('Год')\n",
    "\n",
    "plt.show()"
   ]
  },
  {
   "cell_type": "code",
   "execution_count": 28,
   "metadata": {},
   "outputs": [
    {
     "data": {
      "image/png": "iVBORw0KGgoAAAANSUhEUgAAAYUAAAEWCAYAAACJ0YulAAAAOXRFWHRTb2Z0d2FyZQBNYXRwbG90bGliIHZlcnNpb24zLjMuNCwgaHR0cHM6Ly9tYXRwbG90bGliLm9yZy8QVMy6AAAACXBIWXMAAAsTAAALEwEAmpwYAAAWWUlEQVR4nO3dfbRldX3f8fcH0cYwRsAJtwgkQyN2BZ0lwSshS6N3YmIUWsE0MVKjINixLVaM07WC1NXoIiq6hKSmETsWFevDlESpo/gQpF6pVVRAZHgwgjpGJyMkAYFBqw5++8fZd8+Z8c7MmTNnn3PvmfdrrbPOPr/99D2/ufd+Zj+nqpAkCeCgSRcgSVo6DAVJUstQkCS1DAVJUstQkCS1DAVJUstQkCS1DAVpPyTZnOQHSbYluSvJu5OsSPKEJH+d5J4k30tyQ5JTJl2vtDeGgrT//mVVrQBOBGaB1wAfAa4G/ilwBPAK4P6JVSgN6OBJFyBNi6rakuTjwBOBY4F3VNWPmtH/d3KVSYNzS0EakSTHAKcAXwbuBN6b5PQkM5OtTBqcoSDtv/+V5HvAZ4HPAG8A1gCbgYuBrUmuTXLcxCqUBhRviCcNL8lm4KVV9ak9THMMsB44tKp+bVy1ScNwS0HqWFV9G/gLescapCXNUJBGLMlhSV6X5HFJDkqyEjgbuG7StUl7YyhIo/cjYBXwKXqnod4C/BA4a3IlSYPxmIIkqeWWgiSpZShIklqGgiSpZShIklrL+t5HK1eurFWrVg0174MPPsghhxwy2oKWMftjZ/bHDvbFzqahP2644YZ/qKqfX2zcsg6FVatWcf311w817/z8PHNzc6MtaBmzP3Zmf+xgX+xsGvojybd2N87dR5KklqEgSWoZCpKklqEgSWp1FgpJjkny6SS3Jbk1yXlN+2uTbElyU/M6pW+eVye5M8nfJPntrmqTJC2uy7OPtgPrqurGJI8CbkhydTPuT6vqLf0TJzkeeAHwBOCxwKeSPL6qHuqwRklSn862FKpqa1Xd2Aw/ANwOHLWHWU4DNlTVD6vqm/QeZ3hSV/VJkn7aWO6SmmQVcC29h4y8it4thO8Hrqe3NXFvkv8KXFdV723muQz4eFX91S7LWgusBZiZmXnyhg0bhqpp27ZtrFixYqh5p5H9sTP7Ywf7YmfT0B9r1qy5oapmFxvX+cVrSVYAHwReWVX3J7kUuBCo5v1ieg8gGUhVraf3aENmZ2dr2ItIpuEClFGyP3Zmf+xgX+xs2vuj01BI8nB6gfC+qvoQQFXd1Tf+HcBHm49bgGP6Zj+6aZOGtur8q4aab93q7Zw15LwLNl906n7NL01Cl2cfBbgMuL2qLulrP7JvsufReyoVwEbgBUn+SZJjgeOAL3ZVnyTpp3W5pfBU4EXApiQ3NW0XAGckOYHe7qPNwMsAqurWJFcAt9E7c+lczzySpPHqLBSq6rNAFhn1sT3M83rg9V3VJEnaM69oliS1DAVJUstQkCS1DAVJUstQkCS1DAVJUstQkCS1DAVJUstQkCS1DAVJUstQkCS1DAVJUstQkCS1DAVJUstQkCS1DAVJUstQkCS1DAVJUstQkCS1DAVJUstQkCS1DAVJUstQkCS1DAVJUstQkCS1DAVJUstQkCS1DAVJUstQkCS1DAVJUstQkCS1DAVJUstQkCS1OguFJMck+XSS25LcmuS8pv3wJFcnuaN5P6xpT5K3Jrkzyc1JTuyqNknS4rrcUtgOrKuq44GTgXOTHA+cD1xTVccB1zSfAZ4DHNe81gKXdlibJGkRnYVCVW2tqhub4QeA24GjgNOAy5vJLgdOb4ZPA95TPdcBhyY5sqv6JEk/LVXV/UqSVcC1wBOBv62qQ5v2APdW1aFJPgpcVFWfbcZdA/xRVV2/y7LW0tuSYGZm5skbNmwYqqZt27axYsWK4b7QFJrW/ti05b6h5pt5JNz1gxEXMyarj3r0SJc3rT8bw5qG/lizZs0NVTW72LiDu155khXAB4FXVtX9vRzoqapKsk+pVFXrgfUAs7OzNTc3N1Rd8/PzDDvvNJrW/jjr/KuGmm/d6u1cvKnzX49ObH7h3EiXN60/G8Oa9v7o9OyjJA+nFwjvq6oPNc13LewWat7vbtq3AMf0zX500yZJGpMuzz4KcBlwe1Vd0jdqI3BmM3wm8OG+9hc3ZyGdDNxXVVu7qk+S9NO63D5+KvAiYFOSm5q2C4CLgCuSnAN8C3h+M+5jwCnAncD3gZd0WJskaRGdhUJzwDi7Gf3MRaYv4Nyu6pEk7Z1XNEuSWoaCJKllKEiSWoaCJKm1PK/O0bKzasiLyCSNl1sKkqSWoSBJahkKkqSWoSBJahkKkqSWoSBJahkKkqSWoSBJahkKkqSWoSBJahkKkqSWoSBJahkKkqSWoSBJahkKkqSWoSBJahkKkqSWoSBJahkKkqSWz2g+gOzpOcnrVm/nLJ+jLB3w3FKQJLUG2lJI8jvA04ACPltVV3ZalSRpIvYaCkneBjwO+EDT9LIkv1lV53ZamaSh7Gk34TAG3bW4+aJTR7peTcYgWwq/AfxyVRVAksuBWzutSpI0EYMcU7gT+IW+z8c0bZKkKTPIlsKjgNuTfJHeMYWTgOuTbASoqud2WJ8kaYwGCYX/3HkVkqQlYZBQeExVfWhfF5zkncC/AO6uqic2ba8F/g3w981kF1TVx5pxrwbOAR4CXlFVn9zXdUqS9s8gxxReM+Sy3w08e5H2P62qE5rXQiAcD7wAeEIzz9uSPGzI9UqShtTZxWtVdS1wz4CTnwZsqKofVtU36R3IPqmr2iRJixtk99ERSV61a2NVXTLkOl+e5MXA9cC6qroXOAq4rm+a7zRtkqQxGiQU3kHvDKRRuBS4kN5ZTBcCFwNn78sCkqwF1gLMzMwwPz8/VCHbtm0bet7lat3q7bsdN/PIPY8/0NgfOwzaFwfK79O0/+3YayhU1etGtbKqumthOMk7gI82H7fQu/5hwdFN22LLWA+sB5idna25ubmhapmfn2fYeZerPV2Vum71di7e5P0RF9gfOwzaF5tfONd9MUvAtP/tGOQ2FxsXax/m+oQkR1bV1ubj84BbmuGNwPuTXAI8FjgO+OK+Ll+StH8G+a/QYfR2H70BuGsv07aSfACYA1Ym+Q7wx8BckhPo7T7aDLwMoKpuTXIFcBuwHTi3qh4a+FtIkkZikN1Hv57kVOAC4NPAm6vq/gHmO2OR5sv2MP3rgdfvbbmSpO4MdEpqVV1VVU+ldyO8v07yH7stS5I0CYMcU3iA3u4egNALkqcAb+mwLknSBAyy+2hUp6NKkpY4H8cpSWoZCpKklqEgSWoNdMlmkicBv958/D9V9ZXuSpIkTcpetxSSnAe8Dziieb03yX/oujBJ0vgNsqVwDvCrVfUgQJI3AZ8H/rzLwiRJ4zfIMYXQexragoeaNknSlBlkS+FdwBeSXEkvDE5jD7erkCQtX4NcvHZJknngaU3TS6rqy51WJUmaiEFvGP/1qroxycnAUUk2VZVPIJGkKTPIvY/eT++W1x8FHgd8H/gD4AUd1yZJGrNBthRmgX8GfBuYqaqfJLllL/NIkpahQc4+2lZV/w/4dlX9pGn7UYc1SZImZJAthScluR/42eY9wM90W5YkaRIGOfvoYeMoRJI0eft0Q7wkr+2oDknSErCvd0l9bidVSJKWhH0NBW9vIUlTbF9D4cmdVCFJWhIGuXht4y6fAagqdyVJ0pQZ5JTUXwZe2nUhkqTJGyQUHqiqz3ReiSRp4gY5pvCkJN9L8t0kNyb58yQrO69MkjR2ew2F5uK1w4FfAn4f+C5wecd1SZImYKCzj6rqJ1X1YFXdUVWvBz7RcV2SpAkY6HkKSZ4LPL35+Jmq8vnMkjSF9rqlkOSNwHnAbc3rFUne0HVhkqTxG2RL4VTghIXbZie5HPgycEGXhUmSxm/QK5oP7Rt+dAd1SJKWgEG2FN4IfDnJp+nd++jpwKs7rUqSNBGDnJL6AeBk4EPAB4Ffq6oNe5svyTuT3N3/6M4khye5OskdzfthTXuSvDXJnUluTnLi8F9JkjSs3YZCklMXhqtqa1VtrKqNwINJBjn76N3As3dpOx+4pqqOA65pPgM8Bziuea0FLh34G0iSRmZPWwp/luTs/oYk/xq4Gbh7bwuuqmuBe3ZpPo0dF75dDpze1/6e6rkOODTJkXsvX5I0Sns6pvB04KokRwMbgLcBPwZ+s6q+PuT6ZqpqazP8XWCmGT4K+HbfdN9p2rayiyRr6W1NMDMzw/z8/FCFbNu2beh5l6t1q7fvdtzMI/c8/kBjf+wwaF8cKL9P0/63Y7ehUFVbkzyD3rGEC4CzBjmWMKiqqiQ1xHzrgfUAs7OzNTc3N9T65+fnGXbe/bXq/Ksmst49/R9g3ertXLxpoGsZDwj2xw6D9sXmF851X8wSMMm/HeOwxwPNVfUAvf39VwAvTPIz+7m+uxZ2CzXvC7uhtgDH9E13dNMmSRqjPR1ofiDJ/fSOCzyP3kVs9/S1D2MjcGYzfCbw4b72FzdnIZ0M3Ne3m0mSNCZ72n30qP1ZcJIPAHPAyiTfAf4YuAi4Isk5wLeA5zeTfww4BbgT+D7wkv1ZtyRpOJ3tNK2qM3Yz6pmLTFvAuV3VIkkazKC3uZAkHQAMBUlSy3PuJI3E5E61hs0Xnbr3iTQQtxQkSS1DQZLUMhQkSS1DQZLUMhQkSS1DQZLUMhQkSS1DQZLUMhQkSS1DQZLUMhQkSS1DQZLUMhQkSS1DQZLUMhQkSS1DQZLUMhQkSS1DQZLUMhQkSS1DQZLUMhQkSS1DQZLUMhQkSS1DQZLUMhQkSS1DQZLUMhQkSS1DQZLUMhQkSS1DQZLUOngSK02yGXgAeAjYXlWzSQ4H/iewCtgMPL+q7p1EfZJ0oJrklsKaqjqhqmabz+cD11TVccA1zWdJ0hgtpd1HpwGXN8OXA6dPrhRJOjClqsa/0uSbwL1AAf+tqtYn+V5VHdqMD3Dvwudd5l0LrAWYmZl58oYNG4aqYdu2baxYsWK4L7CfNm25byLr3ZOZR8JdP5h0FUuH/bHDcuiL1Uc9emzrmuTfjlFZs2bNDX17aXYykWMKwNOqakuSI4Crk3y1f2RVVZJF06qq1gPrAWZnZ2tubm6oAubn5xl23v111vlXTWS9e7Ju9XYu3jSpH4elx/7YYTn0xeYXzo1tXZP82zEOE9l9VFVbmve7gSuBk4C7khwJ0LzfPYnaJOlANvZQSHJIkkctDAPPAm4BNgJnNpOdCXx43LVJ0oFuEtuEM8CVvcMGHAy8v6o+keRLwBVJzgG+BTx/ArVJ0gFt7KFQVd8AnrRI+z8Czxx3PZKkHZbSKamSpAkzFCRJLUNBktQyFCRJLUNBktQyFCRJLUNBktQyFCRJLUNBktQyFCRJLUNBktQyFCRJLUNBktQyFCRJLUNBktQyFCRJLUNBktQyFCRJLUNBktQa+zOaJWnUVp1/1djWtW71ds5q1rf5olPHtt5xcUtBktQyFCRJrQN299GmLfe1m4CSpB63FCRJLUNBktQyFCRJLUNBktQyFCRJLUNBktQyFCRJLUNBktQyFCRJLUNBktRacre5SPJs4L8ADwP+e1VdNOGSJGlR47w76666ukPrktpSSPIw4C+A5wDHA2ckOX6yVUnSgWNJhQJwEnBnVX2jqn4EbABOm3BNknTASFVNuoZWkt8Fnl1VL20+vwj41ap6ed80a4G1zcd/DvzNkKtbCfzDfpQ7beyPndkfO9gXO5uG/vjFqvr5xUYsuWMKe1NV64H1+7ucJNdX1ewISpoK9sfO7I8d7IudTXt/LLXdR1uAY/o+H920SZLGYKmFwpeA45Icm+QRwAuAjROuSZIOGEtq91FVbU/ycuCT9E5JfWdV3drR6vZ7F9SUsT92Zn/sYF/sbKr7Y0kdaJYkTdZS230kSZogQ0GS1JqqUEjyziR3J7mlr+1JST6fZFOSjyT5uab9EUne1bR/JcncIsvb2L+s5WRUfdGMW5/ka0m+muRfjf/b7L8R9scZTfvNST6RZOX4v83+S3JMkk8nuS3JrUnOa9oPT3J1kjua98Oa9iR5a5I7m+9+Yt+yzmymvyPJmZP6TsMaVV8kOaH5ebq1af/9SX6voVXV1LyApwMnArf0tX0JeEYzfDZwYTN8LvCuZvgI4AbgoL75fgd4f/+yltNrVH0BvA74k2b4IGDlpL/bpPqD3okZdy/0AfBm4LWT/m5D9seRwInN8KOAr9G7tcybgfOb9vOBNzXDpwAfBwKcDHyhaT8c+EbzflgzfNikv9+E+uLxwHHN8GOBrcChk/5++/qaqi2FqroWuGeX5scD1zbDVwML/9M9HvjfzXx3A98DZgGSrABeBfxJtxV3Z1R9Qe+P5RubcT+pqmV5JeeI+iPN65AkAX4O+LtOC+9IVW2tqhub4QeA24Gj6N1W5vJmssuB05vh04D3VM91wKFJjgR+G7i6qu6pqnvp9eOzx/dN9t+o+qKqvlZVdzTL+Tt6/4FY9KrhpWyqQmE3bmXH/ZN+jx0Xx30FeG6Sg5McCzy5b9yFwMXA98dZ6BjsU18kObQZf2GSG5P8ZZKZsVbcrX3qj6r6MfDvgE30wuB44LLxljx6SVYBvwJ8AZipqq3NqO8CC//eRwHf7pvtO03b7tqXpf3si/7lnAQ8Avh6l/V24UAIhbOBf5/kBnqbhj9q2t9J7x/zeuDPgM8BDyU5Afilqrpy/KV2bp/6gt7ukqOBz1XVicDngbeMueYu7evPxsPphcKv0Ns9cDPw6jHXPFLNVvEHgVdW1f3946q3H+SAOWd9VH3RbEH9D+AlVfWTkRfasSV18VoXquqrwLMAkjweOLVp3w784cJ0ST5Hb1/iM4DZJJvp9c8RSearam68lY/eEH3xj/S2lj7UjPpL4JwxltypIfrjhGb815v2K+jta16WmpD7IPC+qlr4N76r2RWytfnjdnfTvrtb0GwB5nZpn++y7i6MqC9oTla4CvhPza6lZWfqtxSSHNG8HwS8Bnh78/lnkxzSDP8WsL2qbquqS6vqsVW1Cnga8LVpCAQYqi8K+Ag7fumfCdw27rq7sq/9Qe8X//gkC/uJf4ve/udlpzkmchlwe1Vd0jdqI7BwBtGZwIf72l/cnHlzMnBfs2vlk8CzkhzWnJ3zrKZt2RhVX6R3a54r6R1v+KsxlT96kz7SPcoX8AF6R/x/TG/z/xzgPHr/y/sacBE7ruJeRe+227cDn6J3K9ldl7eK5Xv20Uj6AvhFegdjbwauAX5h0t9twv3xb5v2m+kF5mMm/d2G7I+n0dsdcjNwU/M6BXhM8+98R/PdD2+mD70HYH2d3jGV2b5lnQ3c2bxeMunvNqm+AP6g+fm6qe91wqS/376+vM2FJKk19buPJEmDMxQkSS1DQZLUMhQkSS1DQZLUmvqL16QuJHmI3umIC95eVW+fVD3SqHhKqjSEJNuqasWk65BGzd1H0gj1PW/hliRv2mXctiQ3NfftX5bP6dD0MxSkEUnyWOBNwG/Qu0/SU5Kc3j9JVZ1A72pZaUkyFKTReQowX1V/X72b6r2P3sN9SHIw03crdk0hQ0Eaj1U0d9KUljJDQRqdLwLPSLIyycOAM4DPNON+D/joxCqTBuTZR9IQdnf2UZIzgAvo3Unzqqr6oyTPpfdMir8F7qf3RK5jgT/0NFYtNYaC1LEkZwFU1bv72p4I/G5VvXYyVUmLMxSkjjXPeaaqvtnX9mh6z3321FQtKYaCJKnlgWZJUstQkCS1DAVJUstQkCS1DAVJUuv/A4UP7deE1eRSAAAAAElFTkSuQmCC\n",
      "text/plain": [
       "<Figure size 432x288 with 1 Axes>"
      ]
     },
     "metadata": {
      "needs_background": "light"
     },
     "output_type": "display_data"
    }
   ],
   "source": [
    "PS = data.query('platform == \"PS\"')\n",
    "PS['year_of_release'].hist(bins=10)\n",
    "\n",
    "plt.title('PS')\n",
    "plt.ylabel('Кол-во игр')\n",
    "plt.xlabel('Год')\n",
    "\n",
    "plt.show()"
   ]
  },
  {
   "cell_type": "code",
   "execution_count": 29,
   "metadata": {},
   "outputs": [
    {
     "data": {
      "text/plain": [
       "7.0"
      ]
     },
     "execution_count": 29,
     "metadata": {},
     "output_type": "execute_result"
    }
   ],
   "source": [
    "temp = data.copy() \n",
    "time_life = temp.pivot_table(index='platform', values='year_of_release', aggfunc=['min', 'max']).reset_index()\n",
    "time_life['life'] = time_life['max'] - time_life['min'] + 1 # в срок жизни платформы, должны входить границы диапазона, \n",
    "                                                            # поэтому +1\n",
    "time_life['life'].median()"
   ]
  },
  {
   "cell_type": "markdown",
   "metadata": {},
   "source": [
    "Cредняя  \"продолжительность жизни\" платформы составляет 7 лет."
   ]
  },
  {
   "cell_type": "markdown",
   "metadata": {},
   "source": [
    "Можно сделать вывод, что средний период 'жизни' платформ длится 7 лет.\n",
    "Лидирующие платформы за все времена к 2016 г уже не являются лидерами. Большую часть платформ из списка мы и не знаем."
   ]
  },
  {
   "cell_type": "markdown",
   "metadata": {},
   "source": [
    "Так как технологии не стоят на месте возьмем для актуальной информации статистику за 5 лет и будем на нее ориентироваться для прогноза на 2016 год."
   ]
  },
  {
   "cell_type": "code",
   "execution_count": 31,
   "metadata": {},
   "outputs": [
    {
     "data": {
      "text/html": [
       "<div>\n",
       "<style scoped>\n",
       "    .dataframe tbody tr th:only-of-type {\n",
       "        vertical-align: middle;\n",
       "    }\n",
       "\n",
       "    .dataframe tbody tr th {\n",
       "        vertical-align: top;\n",
       "    }\n",
       "\n",
       "    .dataframe thead th {\n",
       "        text-align: right;\n",
       "    }\n",
       "</style>\n",
       "<table border=\"1\" class=\"dataframe\">\n",
       "  <thead>\n",
       "    <tr style=\"text-align: right;\">\n",
       "      <th></th>\n",
       "      <th>name</th>\n",
       "      <th>platform</th>\n",
       "      <th>year_of_release</th>\n",
       "      <th>genre</th>\n",
       "      <th>na_sales</th>\n",
       "      <th>eu_sales</th>\n",
       "      <th>jp_sales</th>\n",
       "      <th>other_sales</th>\n",
       "      <th>critic_score</th>\n",
       "      <th>user_score</th>\n",
       "      <th>rating</th>\n",
       "      <th>total_sales</th>\n",
       "    </tr>\n",
       "  </thead>\n",
       "  <tbody>\n",
       "    <tr>\n",
       "      <th>16</th>\n",
       "      <td>Grand Theft Auto V</td>\n",
       "      <td>PS3</td>\n",
       "      <td>2013</td>\n",
       "      <td>Action</td>\n",
       "      <td>7.02</td>\n",
       "      <td>9.09</td>\n",
       "      <td>0.98</td>\n",
       "      <td>3.96</td>\n",
       "      <td>97.0</td>\n",
       "      <td>8.2</td>\n",
       "      <td>M</td>\n",
       "      <td>21.05</td>\n",
       "    </tr>\n",
       "    <tr>\n",
       "      <th>23</th>\n",
       "      <td>Grand Theft Auto V</td>\n",
       "      <td>X360</td>\n",
       "      <td>2013</td>\n",
       "      <td>Action</td>\n",
       "      <td>9.66</td>\n",
       "      <td>5.14</td>\n",
       "      <td>0.06</td>\n",
       "      <td>1.41</td>\n",
       "      <td>97.0</td>\n",
       "      <td>8.1</td>\n",
       "      <td>M</td>\n",
       "      <td>16.27</td>\n",
       "    </tr>\n",
       "    <tr>\n",
       "      <th>31</th>\n",
       "      <td>Call of Duty: Black Ops 3</td>\n",
       "      <td>PS4</td>\n",
       "      <td>2015</td>\n",
       "      <td>Shooter</td>\n",
       "      <td>6.03</td>\n",
       "      <td>5.86</td>\n",
       "      <td>0.36</td>\n",
       "      <td>2.38</td>\n",
       "      <td>NaN</td>\n",
       "      <td>NaN</td>\n",
       "      <td>NaN</td>\n",
       "      <td>14.63</td>\n",
       "    </tr>\n",
       "    <tr>\n",
       "      <th>33</th>\n",
       "      <td>Pokemon X/Pokemon Y</td>\n",
       "      <td>3DS</td>\n",
       "      <td>2013</td>\n",
       "      <td>Role-Playing</td>\n",
       "      <td>5.28</td>\n",
       "      <td>4.19</td>\n",
       "      <td>4.35</td>\n",
       "      <td>0.78</td>\n",
       "      <td>NaN</td>\n",
       "      <td>NaN</td>\n",
       "      <td>NaN</td>\n",
       "      <td>14.60</td>\n",
       "    </tr>\n",
       "    <tr>\n",
       "      <th>34</th>\n",
       "      <td>Call of Duty: Black Ops II</td>\n",
       "      <td>PS3</td>\n",
       "      <td>2012</td>\n",
       "      <td>Shooter</td>\n",
       "      <td>4.99</td>\n",
       "      <td>5.73</td>\n",
       "      <td>0.65</td>\n",
       "      <td>2.42</td>\n",
       "      <td>83.0</td>\n",
       "      <td>5.3</td>\n",
       "      <td>M</td>\n",
       "      <td>13.79</td>\n",
       "    </tr>\n",
       "  </tbody>\n",
       "</table>\n",
       "</div>"
      ],
      "text/plain": [
       "                          name platform  year_of_release         genre  \\\n",
       "16          Grand Theft Auto V      PS3             2013        Action   \n",
       "23          Grand Theft Auto V     X360             2013        Action   \n",
       "31   Call of Duty: Black Ops 3      PS4             2015       Shooter   \n",
       "33         Pokemon X/Pokemon Y      3DS             2013  Role-Playing   \n",
       "34  Call of Duty: Black Ops II      PS3             2012       Shooter   \n",
       "\n",
       "    na_sales  eu_sales  jp_sales  other_sales  critic_score  user_score  \\\n",
       "16      7.02      9.09      0.98         3.96          97.0         8.2   \n",
       "23      9.66      5.14      0.06         1.41          97.0         8.1   \n",
       "31      6.03      5.86      0.36         2.38           NaN         NaN   \n",
       "33      5.28      4.19      4.35         0.78           NaN         NaN   \n",
       "34      4.99      5.73      0.65         2.42          83.0         5.3   \n",
       "\n",
       "   rating  total_sales  \n",
       "16      M        21.05  \n",
       "23      M        16.27  \n",
       "31    NaN        14.63  \n",
       "33    NaN        14.60  \n",
       "34      M        13.79  "
      ]
     },
     "execution_count": 31,
     "metadata": {},
     "output_type": "execute_result"
    }
   ],
   "source": [
    "actual_data = data[data['year_of_release'] > 2011]\n",
    "actual_data.head()"
   ]
  },
  {
   "cell_type": "code",
   "execution_count": 32,
   "metadata": {},
   "outputs": [
    {
     "data": {
      "text/html": [
       "<div>\n",
       "<style scoped>\n",
       "    .dataframe tbody tr th:only-of-type {\n",
       "        vertical-align: middle;\n",
       "    }\n",
       "\n",
       "    .dataframe tbody tr th {\n",
       "        vertical-align: top;\n",
       "    }\n",
       "\n",
       "    .dataframe thead th {\n",
       "        text-align: right;\n",
       "    }\n",
       "</style>\n",
       "<table border=\"1\" class=\"dataframe\">\n",
       "  <thead>\n",
       "    <tr style=\"text-align: right;\">\n",
       "      <th></th>\n",
       "      <th>name</th>\n",
       "      <th>platform</th>\n",
       "      <th>year_of_release</th>\n",
       "      <th>genre</th>\n",
       "      <th>na_sales</th>\n",
       "      <th>eu_sales</th>\n",
       "      <th>jp_sales</th>\n",
       "      <th>other_sales</th>\n",
       "      <th>critic_score</th>\n",
       "      <th>user_score</th>\n",
       "      <th>rating</th>\n",
       "      <th>total_sales</th>\n",
       "    </tr>\n",
       "  </thead>\n",
       "  <tbody>\n",
       "    <tr>\n",
       "      <th>16</th>\n",
       "      <td>Grand Theft Auto V</td>\n",
       "      <td>PS3</td>\n",
       "      <td>2013</td>\n",
       "      <td>Action</td>\n",
       "      <td>7.02</td>\n",
       "      <td>9.09</td>\n",
       "      <td>0.98</td>\n",
       "      <td>3.96</td>\n",
       "      <td>97.0</td>\n",
       "      <td>8.2</td>\n",
       "      <td>M</td>\n",
       "      <td>21.05</td>\n",
       "    </tr>\n",
       "    <tr>\n",
       "      <th>23</th>\n",
       "      <td>Grand Theft Auto V</td>\n",
       "      <td>X360</td>\n",
       "      <td>2013</td>\n",
       "      <td>Action</td>\n",
       "      <td>9.66</td>\n",
       "      <td>5.14</td>\n",
       "      <td>0.06</td>\n",
       "      <td>1.41</td>\n",
       "      <td>97.0</td>\n",
       "      <td>8.1</td>\n",
       "      <td>M</td>\n",
       "      <td>16.27</td>\n",
       "    </tr>\n",
       "    <tr>\n",
       "      <th>31</th>\n",
       "      <td>Call of Duty: Black Ops 3</td>\n",
       "      <td>PS4</td>\n",
       "      <td>2015</td>\n",
       "      <td>Shooter</td>\n",
       "      <td>6.03</td>\n",
       "      <td>5.86</td>\n",
       "      <td>0.36</td>\n",
       "      <td>2.38</td>\n",
       "      <td>NaN</td>\n",
       "      <td>NaN</td>\n",
       "      <td>NaN</td>\n",
       "      <td>14.63</td>\n",
       "    </tr>\n",
       "    <tr>\n",
       "      <th>33</th>\n",
       "      <td>Pokemon X/Pokemon Y</td>\n",
       "      <td>3DS</td>\n",
       "      <td>2013</td>\n",
       "      <td>Role-Playing</td>\n",
       "      <td>5.28</td>\n",
       "      <td>4.19</td>\n",
       "      <td>4.35</td>\n",
       "      <td>0.78</td>\n",
       "      <td>NaN</td>\n",
       "      <td>NaN</td>\n",
       "      <td>NaN</td>\n",
       "      <td>14.60</td>\n",
       "    </tr>\n",
       "    <tr>\n",
       "      <th>34</th>\n",
       "      <td>Call of Duty: Black Ops II</td>\n",
       "      <td>PS3</td>\n",
       "      <td>2012</td>\n",
       "      <td>Shooter</td>\n",
       "      <td>4.99</td>\n",
       "      <td>5.73</td>\n",
       "      <td>0.65</td>\n",
       "      <td>2.42</td>\n",
       "      <td>83.0</td>\n",
       "      <td>5.3</td>\n",
       "      <td>M</td>\n",
       "      <td>13.79</td>\n",
       "    </tr>\n",
       "  </tbody>\n",
       "</table>\n",
       "</div>"
      ],
      "text/plain": [
       "                          name platform  year_of_release         genre  \\\n",
       "16          Grand Theft Auto V      PS3             2013        Action   \n",
       "23          Grand Theft Auto V     X360             2013        Action   \n",
       "31   Call of Duty: Black Ops 3      PS4             2015       Shooter   \n",
       "33         Pokemon X/Pokemon Y      3DS             2013  Role-Playing   \n",
       "34  Call of Duty: Black Ops II      PS3             2012       Shooter   \n",
       "\n",
       "    na_sales  eu_sales  jp_sales  other_sales  critic_score  user_score  \\\n",
       "16      7.02      9.09      0.98         3.96          97.0         8.2   \n",
       "23      9.66      5.14      0.06         1.41          97.0         8.1   \n",
       "31      6.03      5.86      0.36         2.38           NaN         NaN   \n",
       "33      5.28      4.19      4.35         0.78           NaN         NaN   \n",
       "34      4.99      5.73      0.65         2.42          83.0         5.3   \n",
       "\n",
       "   rating  total_sales  \n",
       "16      M        21.05  \n",
       "23      M        16.27  \n",
       "31    NaN        14.63  \n",
       "33    NaN        14.60  \n",
       "34      M        13.79  "
      ]
     },
     "execution_count": 32,
     "metadata": {},
     "output_type": "execute_result"
    }
   ],
   "source": [
    "actual_data.sort_values(by='total_sales',ascending=False).head(5)"
   ]
  },
  {
   "cell_type": "markdown",
   "metadata": {},
   "source": [
    "Лидерами по продажам за 5лет стали  PS3, X360, PS4, 3DS."
   ]
  },
  {
   "cell_type": "markdown",
   "metadata": {},
   "source": [
    "Нами был определен актуальный период определен актьуальный период с 2011 года. Построим график «ящик с усами» по глобальным продажам каждой игры и разбивкой по платформам за актуальный период."
   ]
  },
  {
   "cell_type": "markdown",
   "metadata": {},
   "source": [
    "Что дополнительно изучить медиана и 75% квантиль сделаем дополнительный график с ограниением оси y."
   ]
  },
  {
   "cell_type": "code",
   "execution_count": 34,
   "metadata": {},
   "outputs": [
    {
     "data": {
      "image/png": "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\n",
      "text/plain": [
       "<Figure size 1440x360 with 1 Axes>"
      ]
     },
     "metadata": {
      "needs_background": "light"
     },
     "output_type": "display_data"
    }
   ],
   "source": [
    "actual_data.boxplot(column='total_sales', by='platform', figsize=(20,5))\n",
    "\n",
    "plt.ylim(0,2)\n",
    "plt.title('«Ящик с усами» по глобальным продажам')\n",
    "plt.ylabel('Кол-во игр')\n",
    "plt.xlabel('Платформа')\n",
    "plt.show()"
   ]
  },
  {
   "cell_type": "code",
   "execution_count": 35,
   "metadata": {},
   "outputs": [
    {
     "data": {
      "text/html": [
       "<div>\n",
       "<style scoped>\n",
       "    .dataframe tbody tr th:only-of-type {\n",
       "        vertical-align: middle;\n",
       "    }\n",
       "\n",
       "    .dataframe tbody tr th {\n",
       "        vertical-align: top;\n",
       "    }\n",
       "\n",
       "    .dataframe thead th {\n",
       "        text-align: right;\n",
       "    }\n",
       "</style>\n",
       "<table border=\"1\" class=\"dataframe\">\n",
       "  <thead>\n",
       "    <tr style=\"text-align: right;\">\n",
       "      <th></th>\n",
       "      <th>count</th>\n",
       "      <th>mean</th>\n",
       "      <th>std</th>\n",
       "      <th>min</th>\n",
       "      <th>25%</th>\n",
       "      <th>50%</th>\n",
       "      <th>75%</th>\n",
       "      <th>max</th>\n",
       "    </tr>\n",
       "    <tr>\n",
       "      <th>platform</th>\n",
       "      <th></th>\n",
       "      <th></th>\n",
       "      <th></th>\n",
       "      <th></th>\n",
       "      <th></th>\n",
       "      <th></th>\n",
       "      <th></th>\n",
       "      <th></th>\n",
       "    </tr>\n",
       "  </thead>\n",
       "  <tbody>\n",
       "    <tr>\n",
       "      <th>3DS</th>\n",
       "      <td>396.0</td>\n",
       "      <td>0.491439</td>\n",
       "      <td>1.387161</td>\n",
       "      <td>0.01</td>\n",
       "      <td>0.0400</td>\n",
       "      <td>0.11</td>\n",
       "      <td>0.3125</td>\n",
       "      <td>14.60</td>\n",
       "    </tr>\n",
       "    <tr>\n",
       "      <th>DS</th>\n",
       "      <td>31.0</td>\n",
       "      <td>0.404839</td>\n",
       "      <td>1.439245</td>\n",
       "      <td>0.01</td>\n",
       "      <td>0.0200</td>\n",
       "      <td>0.05</td>\n",
       "      <td>0.1850</td>\n",
       "      <td>8.06</td>\n",
       "    </tr>\n",
       "    <tr>\n",
       "      <th>PC</th>\n",
       "      <td>250.0</td>\n",
       "      <td>0.250600</td>\n",
       "      <td>0.494640</td>\n",
       "      <td>0.01</td>\n",
       "      <td>0.0300</td>\n",
       "      <td>0.08</td>\n",
       "      <td>0.2400</td>\n",
       "      <td>5.14</td>\n",
       "    </tr>\n",
       "    <tr>\n",
       "      <th>PS3</th>\n",
       "      <td>493.0</td>\n",
       "      <td>0.585781</td>\n",
       "      <td>1.462855</td>\n",
       "      <td>0.01</td>\n",
       "      <td>0.0500</td>\n",
       "      <td>0.20</td>\n",
       "      <td>0.6100</td>\n",
       "      <td>21.05</td>\n",
       "    </tr>\n",
       "    <tr>\n",
       "      <th>PS4</th>\n",
       "      <td>392.0</td>\n",
       "      <td>0.801378</td>\n",
       "      <td>1.609456</td>\n",
       "      <td>0.01</td>\n",
       "      <td>0.0600</td>\n",
       "      <td>0.20</td>\n",
       "      <td>0.7300</td>\n",
       "      <td>14.63</td>\n",
       "    </tr>\n",
       "    <tr>\n",
       "      <th>PSP</th>\n",
       "      <td>173.0</td>\n",
       "      <td>0.064682</td>\n",
       "      <td>0.071296</td>\n",
       "      <td>0.01</td>\n",
       "      <td>0.0200</td>\n",
       "      <td>0.03</td>\n",
       "      <td>0.0900</td>\n",
       "      <td>0.36</td>\n",
       "    </tr>\n",
       "    <tr>\n",
       "      <th>PSV</th>\n",
       "      <td>411.0</td>\n",
       "      <td>0.119659</td>\n",
       "      <td>0.203011</td>\n",
       "      <td>0.01</td>\n",
       "      <td>0.0200</td>\n",
       "      <td>0.05</td>\n",
       "      <td>0.1200</td>\n",
       "      <td>1.96</td>\n",
       "    </tr>\n",
       "    <tr>\n",
       "      <th>Wii</th>\n",
       "      <td>54.0</td>\n",
       "      <td>0.655000</td>\n",
       "      <td>1.165447</td>\n",
       "      <td>0.01</td>\n",
       "      <td>0.0625</td>\n",
       "      <td>0.18</td>\n",
       "      <td>0.6875</td>\n",
       "      <td>6.76</td>\n",
       "    </tr>\n",
       "    <tr>\n",
       "      <th>WiiU</th>\n",
       "      <td>147.0</td>\n",
       "      <td>0.559116</td>\n",
       "      <td>1.058836</td>\n",
       "      <td>0.01</td>\n",
       "      <td>0.0800</td>\n",
       "      <td>0.22</td>\n",
       "      <td>0.5250</td>\n",
       "      <td>7.09</td>\n",
       "    </tr>\n",
       "    <tr>\n",
       "      <th>X360</th>\n",
       "      <td>292.0</td>\n",
       "      <td>0.810068</td>\n",
       "      <td>1.712069</td>\n",
       "      <td>0.01</td>\n",
       "      <td>0.1000</td>\n",
       "      <td>0.31</td>\n",
       "      <td>0.8700</td>\n",
       "      <td>16.27</td>\n",
       "    </tr>\n",
       "    <tr>\n",
       "      <th>XOne</th>\n",
       "      <td>247.0</td>\n",
       "      <td>0.645020</td>\n",
       "      <td>1.036139</td>\n",
       "      <td>0.01</td>\n",
       "      <td>0.0600</td>\n",
       "      <td>0.22</td>\n",
       "      <td>0.6850</td>\n",
       "      <td>7.39</td>\n",
       "    </tr>\n",
       "  </tbody>\n",
       "</table>\n",
       "</div>"
      ],
      "text/plain": [
       "          count      mean       std   min     25%   50%     75%    max\n",
       "platform                                                              \n",
       "3DS       396.0  0.491439  1.387161  0.01  0.0400  0.11  0.3125  14.60\n",
       "DS         31.0  0.404839  1.439245  0.01  0.0200  0.05  0.1850   8.06\n",
       "PC        250.0  0.250600  0.494640  0.01  0.0300  0.08  0.2400   5.14\n",
       "PS3       493.0  0.585781  1.462855  0.01  0.0500  0.20  0.6100  21.05\n",
       "PS4       392.0  0.801378  1.609456  0.01  0.0600  0.20  0.7300  14.63\n",
       "PSP       173.0  0.064682  0.071296  0.01  0.0200  0.03  0.0900   0.36\n",
       "PSV       411.0  0.119659  0.203011  0.01  0.0200  0.05  0.1200   1.96\n",
       "Wii        54.0  0.655000  1.165447  0.01  0.0625  0.18  0.6875   6.76\n",
       "WiiU      147.0  0.559116  1.058836  0.01  0.0800  0.22  0.5250   7.09\n",
       "X360      292.0  0.810068  1.712069  0.01  0.1000  0.31  0.8700  16.27\n",
       "XOne      247.0  0.645020  1.036139  0.01  0.0600  0.22  0.6850   7.39"
      ]
     },
     "execution_count": 35,
     "metadata": {},
     "output_type": "execute_result"
    }
   ],
   "source": [
    "actual_data.groupby('platform')['total_sales'].describe()"
   ]
  },
  {
   "cell_type": "markdown",
   "metadata": {},
   "source": [
    "Просмотрев общую диаграмму размаха мы видели частые выбросы и редкие. Видно, что медиана протекает у всех по разному, у топовых по продажам компания(0,7-0,8). "
   ]
  },
  {
   "cell_type": "markdown",
   "metadata": {},
   "source": [
    "Далее посмотрим, как влияют на продажи  внутри одной популярной платформы отзывы пользователей и критиков, помтроим диаграмму рассеяния и поситаем корреляцию. Проанализируем PS3, так как это одна из современных и топовых платформ в 2016году."
   ]
  },
  {
   "cell_type": "code",
   "execution_count": 36,
   "metadata": {},
   "outputs": [
    {
     "data": {
      "image/png": "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\n",
      "text/plain": [
       "<Figure size 720x360 with 1 Axes>"
      ]
     },
     "metadata": {
      "needs_background": "light"
     },
     "output_type": "display_data"
    }
   ],
   "source": [
    "actual_data[actual_data['platform']=='PS3'].plot(x='user_score', y='total_sales', kind='scatter', alpha=0.3, figsize=(10,5), grid=True)\n",
    "\n",
    "plt.title('PS3')\n",
    "plt.ylabel('Кол-во игр')\n",
    "plt.xlabel('Отзывы пользователей')\n",
    "plt.show()"
   ]
  },
  {
   "cell_type": "code",
   "execution_count": 37,
   "metadata": {},
   "outputs": [
    {
     "data": {
      "image/png": "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\n",
      "text/plain": [
       "<Figure size 720x360 with 1 Axes>"
      ]
     },
     "metadata": {
      "needs_background": "light"
     },
     "output_type": "display_data"
    }
   ],
   "source": [
    "actual_data[actual_data['platform']=='PS3'].plot(x='critic_score', y='total_sales', kind='scatter', alpha=0.3, figsize=(10,5), grid=True)\n",
    "\n",
    "plt.title('PS3')\n",
    "plt.ylabel('Кол-во игр')\n",
    "plt.xlabel('Отзывы критиков')\n",
    "\n",
    "plt.show()"
   ]
  },
  {
   "cell_type": "code",
   "execution_count": 38,
   "metadata": {},
   "outputs": [
    {
     "data": {
      "text/plain": [
       "0.3314972592629587"
      ]
     },
     "execution_count": 38,
     "metadata": {},
     "output_type": "execute_result"
    }
   ],
   "source": [
    "PS3 = actual_data[actual_data['platform']=='PS3']\n",
    "PS3['critic_score'].corr(PS3['total_sales'])"
   ]
  },
  {
   "cell_type": "code",
   "execution_count": 39,
   "metadata": {},
   "outputs": [
    {
     "data": {
      "text/plain": [
       "-0.005143522887113828"
      ]
     },
     "execution_count": 39,
     "metadata": {},
     "output_type": "execute_result"
    }
   ],
   "source": [
    "PS3['user_score'].corr(PS3['total_sales'])"
   ]
  },
  {
   "cell_type": "markdown",
   "metadata": {},
   "source": [
    "Коэффициент корреляции между отзывами и продажами равен 0.33  и -0.05. Такие коэффициенты корреляции говорят о наличии связи, однако не слишком сильной в отношении отзывов критиков, и отсутсвии связи с отзывами пользователей."
   ]
  },
  {
   "cell_type": "markdown",
   "metadata": {},
   "source": [
    "Возьмем еще несколько платформ, например, X360."
   ]
  },
  {
   "cell_type": "code",
   "execution_count": 40,
   "metadata": {},
   "outputs": [
    {
     "data": {
      "text/plain": [
       "0.3605734888507336"
      ]
     },
     "execution_count": 40,
     "metadata": {},
     "output_type": "execute_result"
    }
   ],
   "source": [
    "X360 = actual_data[actual_data['platform']=='X360']\n",
    "X360['critic_score'].corr(X360['total_sales'])"
   ]
  },
  {
   "cell_type": "code",
   "execution_count": 41,
   "metadata": {},
   "outputs": [
    {
     "data": {
      "text/plain": [
       "0.006163978646213326"
      ]
     },
     "execution_count": 41,
     "metadata": {},
     "output_type": "execute_result"
    }
   ],
   "source": [
    "X360['user_score'].corr(X360['total_sales'])"
   ]
  },
  {
   "cell_type": "code",
   "execution_count": 42,
   "metadata": {},
   "outputs": [
    {
     "data": {
      "image/png": "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\n",
      "text/plain": [
       "<Figure size 720x360 with 1 Axes>"
      ]
     },
     "metadata": {
      "needs_background": "light"
     },
     "output_type": "display_data"
    }
   ],
   "source": [
    "X360.plot(x='critic_score', y='total_sales', kind='scatter', alpha=0.3, figsize=(10,5), grid=True)\n",
    "\n",
    "plt.title('X360')\n",
    "plt.ylabel('Кол-во игр')\n",
    "plt.xlabel('Отзывы критиков')\n",
    "plt.show()"
   ]
  },
  {
   "cell_type": "code",
   "execution_count": 43,
   "metadata": {},
   "outputs": [
    {
     "data": {
      "image/png": "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\n",
      "text/plain": [
       "<Figure size 720x360 with 1 Axes>"
      ]
     },
     "metadata": {
      "needs_background": "light"
     },
     "output_type": "display_data"
    }
   ],
   "source": [
    "X360.plot(x='user_score', y='total_sales', kind='scatter', alpha=0.3, figsize=(10,5), grid=True)\n",
    "plt.title('X360')\n",
    "plt.ylabel('Кол-во игр')\n",
    "plt.xlabel('Отзывы пользователей')\n",
    "plt.show()"
   ]
  },
  {
   "cell_type": "markdown",
   "metadata": {},
   "source": [
    "Коэффициент корреляции между отзывами и продажами равен 0.36  и 0.06. Такие коэффициенты корреляции говорят о наличии связи, однако не слишком сильной, как и в предыдущем случае, в отношении отзывов критиков, и отсутсвии связи с отзывами пользователей."
   ]
  },
  {
   "cell_type": "markdown",
   "metadata": {},
   "source": [
    "Проанализируем коэффициент корреляции у PS4."
   ]
  },
  {
   "cell_type": "code",
   "execution_count": 44,
   "metadata": {},
   "outputs": [
    {
     "data": {
      "text/plain": [
       "0.40656790206178095"
      ]
     },
     "execution_count": 44,
     "metadata": {},
     "output_type": "execute_result"
    }
   ],
   "source": [
    "PS4 = actual_data[actual_data['platform']=='PS4']\n",
    "PS4['critic_score'].corr(PS4['total_sales'])"
   ]
  },
  {
   "cell_type": "code",
   "execution_count": 45,
   "metadata": {},
   "outputs": [
    {
     "data": {
      "text/plain": [
       "-0.031957110204556376"
      ]
     },
     "execution_count": 45,
     "metadata": {},
     "output_type": "execute_result"
    }
   ],
   "source": [
    "PS4['user_score'].corr(PS4['total_sales'])"
   ]
  },
  {
   "cell_type": "code",
   "execution_count": 46,
   "metadata": {},
   "outputs": [
    {
     "data": {
      "image/png": "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\n",
      "text/plain": [
       "<Figure size 720x360 with 1 Axes>"
      ]
     },
     "metadata": {
      "needs_background": "light"
     },
     "output_type": "display_data"
    }
   ],
   "source": [
    "PS4.plot(x='critic_score', y='total_sales', kind='scatter', alpha=0.3, figsize=(10,5), grid=True)\n",
    "plt.title('PS4')\n",
    "plt.ylabel('Кол-во игр')\n",
    "plt.xlabel('Отзывы критиков')\n",
    "plt.show()"
   ]
  },
  {
   "cell_type": "code",
   "execution_count": 47,
   "metadata": {},
   "outputs": [
    {
     "data": {
      "image/png": "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\n",
      "text/plain": [
       "<Figure size 720x360 with 1 Axes>"
      ]
     },
     "metadata": {
      "needs_background": "light"
     },
     "output_type": "display_data"
    }
   ],
   "source": [
    "PS4.plot(x='user_score', y='total_sales', kind='scatter', alpha=0.3, figsize=(10,5), grid=True)\n",
    "\n",
    "plt.title('PS4')\n",
    "plt.ylabel('Кол-во игр')\n",
    "plt.xlabel('Отзывы пользователей')\n",
    "plt.show()"
   ]
  },
  {
   "cell_type": "markdown",
   "metadata": {},
   "source": [
    "Рассмотрим, также Wii и 3DS"
   ]
  },
  {
   "cell_type": "code",
   "execution_count": 48,
   "metadata": {},
   "outputs": [
    {
     "data": {
      "text/plain": [
       "-0.4243413011077494"
      ]
     },
     "execution_count": 48,
     "metadata": {},
     "output_type": "execute_result"
    }
   ],
   "source": [
    "Wii = actual_data[actual_data['platform']=='Wii']\n",
    "Wii['critic_score'].corr(Wii['total_sales'])"
   ]
  },
  {
   "cell_type": "code",
   "execution_count": 49,
   "metadata": {},
   "outputs": [
    {
     "data": {
      "text/plain": [
       "0.29619680007479526"
      ]
     },
     "execution_count": 49,
     "metadata": {},
     "output_type": "execute_result"
    }
   ],
   "source": [
    "Wii['user_score'].corr(Wii['total_sales'])"
   ]
  },
  {
   "cell_type": "code",
   "execution_count": 50,
   "metadata": {},
   "outputs": [
    {
     "data": {
      "image/png": "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\n",
      "text/plain": [
       "<Figure size 720x360 with 1 Axes>"
      ]
     },
     "metadata": {
      "needs_background": "light"
     },
     "output_type": "display_data"
    }
   ],
   "source": [
    "Wii.plot(x='critic_score', y='total_sales', kind='scatter', alpha=0.3, figsize=(10,5), grid=True)\n",
    "plt.title('Wii')\n",
    "plt.ylabel('Кол-во игр')\n",
    "plt.xlabel('Отзывы критиков')\n",
    "plt.show()"
   ]
  },
  {
   "cell_type": "code",
   "execution_count": 51,
   "metadata": {
    "scrolled": true
   },
   "outputs": [
    {
     "data": {
      "image/png": "iVBORw0KGgoAAAANSUhEUgAAAlcAAAFNCAYAAAAtnkrkAAAAOXRFWHRTb2Z0d2FyZQBNYXRwbG90bGliIHZlcnNpb24zLjMuNCwgaHR0cHM6Ly9tYXRwbG90bGliLm9yZy8QVMy6AAAACXBIWXMAAAsTAAALEwEAmpwYAAAgyklEQVR4nO3dfXBdd33n8fdXutJGjoIpYOQ0pjUtdbZAN3EjKE+JbVIYKEzaMMyktKULfXDptAyFpQ+wLS07SzvdsiyUlmVTHmcLqBTIbDawPMxupIQuDdhJSp7AEEpLIE7cpXWiWEG60nf/uMdFFfdaV8o5Okf3vl8zHktH957zvV/Luh/9zjm/X2QmkiRJKsdI3QVIkiQNEsOVJElSiQxXkiRJJTJcSZIklchwJUmSVCLDlSRJUokMV5KGRkRcHBFfXPX5bRFxsL6KJA0iw5WkbS0iXhMR/2vNti912wacl5nnn96WmU/IzNmtqVTSsDBcSdrurgOeFhGjABFxLjAG7F+z7XHFYyWpUoYrSdvd5+iEqQuLzy8GrgW+uGbbncC+iLjr9BMj4qsR8aNbVqmkoWC4krStZeYicANwSbHpEuB64NNrtjlqJWlLGK4kDYI5vh2kLqYTrq5fs22uhrokDSHDlaRBcB3wjIh4BLArM78E/F8612I9AngijlxJ2iKGK0mD4DPATuAXgb8CyMz7gG8U276RmX9bX3mShonhStK2l5kLwBHgVXROB5726WKbo1aStozhStKgmAMeTSdQnXZ9sc1wJWnLRGbWXYMkSdLAcORKkiSpRIYrSZKkEhmuJEmSSmS4kiRJKpHhSpIkqUStqnYcEecDf7Fq0/cBr8vMN/d6zqMe9ajcu3dvVSXV4oEHHuDss8+uu4xGsjfd2Zfu7Etv9qY7+9Kbveluo305evToP2TmrrXbKwtXmfnPK9JHxCjwdeCqMz1n7969HDlypKqSajE7O8vBgwfrLqOR7E139qU7+9KbvenOvvRmb7rbaF8i4u+6bd+q04KXAndmZtciJEmSBsWWTCIaEe8CbszMP+nytcPAYYCpqamLZmZmKq9nK83PzzM5OVl3GY1kb7qzL93Zl97sTXf2pTd7091G+3Lo0KGjmTm9dnvl4SoixuksnvqEzLznTI+dnp5OTwsOD3vTnX3pzr70Zm+6sy+92ZvuNnFasGu42orTgs+lM2p1xmAlSZI0CLYiXL0I+MAWHEeSJKl2lYariDgbeBbwkSqPI0mS1BSVTcUAkJkPAI+s8hiSJElN4gztkiT1abG9wsmFJRbbK3WXogardORKkqRBcfzkAnPHTtBeSVojwYF9u9i9c6LustRAjlxJkrSOxfYKc8dOsGOsxdQ5Z7FjrMXcsROOYKkrw5UkSetYWFqmvZJMjI8CMDE+SnslWVharrkyNZHhSpKkdUyMjdIaCRYWO2FqYXGZ1kgwMTZac2VqIsOVJEnrGG+NcGDfLk4ttbnn/gc5tdTmwL5djLd8G9V38oJ2SZL6sHvnBJfv38PC0jITY6MGK/VkuJIkqU/jrRFDldbld4gkSVKJDFeSJEklMlxJkiSVyHAlSZJUIsOVJElSiQxXkiRJJTJcSZIklchwJUmSVCLDlSRJUokMV5IkSSUyXEmSJJXIcCVJklQiw5UkSVKJDFeSJEklMlxJkiSVyHAlSZJUIsOVJElSiQxXkiRJJTJcSZIklchwJUmSVKJKw1VEPDwiPhQRX4iIOyLiqVUeT5IkqW6tivf/FuDjmfnCiBgHdlR8PEmSpFpVFq4iYidwCfASgMxcBBarOp4kSVITVHla8LHACeDdEXFTRLwjIs6u8HiSJEm1i8ysZscR08BfA0/PzBsi4i3AfZn5O2sedxg4DDA1NXXRzMxMJfXUZX5+nsnJybrLaCR705196c6+9GZvurMvvdmb7jbal0OHDh3NzOm126sMV7uBv87MvcXnFwO/lZnP6/Wc6enpPHLkSCX11GV2dpaDBw/WXUYj2Zvu7Et39qU3e9OdfenN3nS30b5ERNdwVdlpwcw8DnwtIs4vNl0K3F7V8SRJkpqg6rsFXw68r7hT8CvASys+niRJUq0qDVeZeTPwHcNlkiRJg8oZ2iVJkkpkuJIkSSqR4UqSJKlEhitJkqQSGa4kSZJKZLiSJEkqkeFKkiSpRIYrSZKkEhmuJEmSSmS4kiRJKpHhSpIkqUSGK0mSpBIZriRJkkpkuJIkSSqR4UqSJKlEhitJkqQSGa4kSZJKZLiSJEkqkeFKkiSpRIYrSZKkEhmuJEmSSmS4kiRJKpHhSpIkqUSGK0mSpBIZriRJkkpkuJIkSSqR4UqSJKlEhitJkqQStarceUR8FbgfWAbamTld5fEkSZLqVmm4KhzKzH/YguNIkiTVztOCkiRJJao6XCXwyYg4GhGHKz6WJElS7SIzq9t5xHmZ+fWIeDTwKeDlmXndmsccBg4DTE1NXTQzM1NZPXWYn59ncnKy7jIayd50Z1+6sy+92Zvu7Etv9qa7jfbl0KFDR7tdT15puPoXB4r4PWA+M9/Y6zHT09N55MiRLalnq8zOznLw4MG6y2gke9OdfenOvvRmb7qzL73Zm+422peI6BquKjstGBFnR8Q5pz8Gng3cWtXxJEmSmqDKuwWngKsi4vRx3p+ZH6/weJIkSbWrLFxl5leAC6ravyRJUhM5FYMkSVKJDFeSJEklMlxJkiSVyHAlSZJUIsOVJElSiQxXkiRJJTJcSZIklchwJUmSVCLDlSRJUokMV5IkSSUyXEmSJJXIcCVJklQiw5UkSVKJDFeSJEklMlxJkiSVyHAlSZJUIsOVJElSiQxXkiRJJTJcSZIklchwJUmSVCLDlSRJUokMV5IkSSUyXEmSJJXIcCVJklQiw5UkSVKJDFeSJEklavXzoIh4AfAMIIFPZ+ZVlVYlSZK0Ta07chURbwNeBtwC3Ar8UkT8adWFSZIkbUf9jFw9E/jBzEyAiHgvcFulVUmSJG1T/Vxz9WXge1Z9/phiW18iYjQiboqIazZanCRJ0nbTz8jVOcAdEfFZOtdcPRk4EhFXA2TmZes8/xXAHcDDHkqhkiRJ20E/4ep1m915ROwBnge8AXjVZvcjSZK0XURxKVXvB0S8IDM/sqmdR3wI+AM6o1+vzsznd3nMYeAwwNTU1EUzMzObOVRjzc/PMzk5WXcZjWRvurMv3dmX3uxNd/alN3vT3Ub7cujQoaOZOb12ez8jV78NbDhcRcTzgXsz82hEHOz1uMy8ErgSYHp6Og8e7PnQbWl2dpZBe01lsTfd2Zfu7Etv9qY7+9KbvemurL5UOYno04HLIuKrwAzwzIj48wqPJ0mSVLt+Rq4eHRHfcb1UZr7pTE/KzNcArwEoRq5enZk/s4kaJUmSto1+wtWf0blmSpIkSetYN1xl5usf6kEycxaYfaj7kSRJarp1w9Xp+azW6mN+K0mSpKHTz2nB76JzWvD3gXuqLUeSJGl76+e04MUR8TzgtcC1wH/KzPsqr0ySJGkb6msqhsz8aGY+nc6CzZ+MiFdXW5YkSdL21M81V/fTWVMQIOgEsicBb6ywLkmSpG2pn9OCTsMgSZLUpypnaJckSRo6hitJGkKL7RVOLiyx2F6puxRp4PQzFYMkaYAcP7nA3LETtFeS1khwYN8udu+cqLssaWD0NXIVERdExK8Wfy6ouihJUjUW2yvMHTvBjrEWU+ecxY6xFnPHTjiCJZVo3XAVEa8A3gc8uvjz5xHx8qoLkySVb2FpmfZKMjE+CsDE+CjtlWRhabnmyqTB0c9pwZ8HfiQzHwCIiD8EPgO8tcrCJEnlmxgbpTUSLCwuMzE+ysLiMq2RYGJstO7SpIHRz2nBAFb/SrNcbJMkbTPjrREO7NvFqaU299z/IKeW2hzYt4vxlvc3SWXpZ+Tq3cANEXEVnVD148A7K61KklSZ3TsnuHz/HhaWlpkYGzVYSSXrZxLRN0XELPCMYtNLM/OmSquSJFVqvDViqJIq0u9UDHdm5o0R8RTgvIi4JTPbVRYmSZK0HfWztuD7gYMRcQ3wOOAU8DPAT1ZcmyRJ0rbTz8jVNPB9wNeAqcxciYhbqy1LkiRpe+rnhPt8Zj4IfC0zT88yt1hhTZIkSdtWPyNXF0TEfcCO4u8Azqq2LEmSpO2pn7sFnVlOkiSpTxu6Dzcifq+iOiRJkgbCRic5uaySKiRJkgbERsOVy95IkiSdwUbD1UWVVCFJUheL7RVOLiyx2F5Z/8FSQ/QziejVaz4HIDM9RShJqszxkwvMHTtBeyVpjQQH9u1i986JusuS1tXPVAw/CPxC1YVIknTaYnuFuWMn2DHWYmJ8lIXFZeaOneDy/XtcE1GN10+4uj8z5yqvRJKkwsLSMu2VZGK8MxvQxPgo931riYWlZcOVGq+f79ALIuKfIuJ4RNwYEW+NiEet96SIOCsiPhsRfxMRt0XE60uoV5I0BCbGRmmNBAuLywAsLC7TGgkmxpx6Uc23brgqJhF9BPD9wBXAceC9fez7W8AzM/MC4ELgORHxlM2XKkkaFuOtEQ7s28WppTb33P8gp5baHNi3y1ErbQv9nBakWFPwAeBLwBsi4uV9PCeB+eLTseJPbrJOSdKQ2b1zgsv372FhaZmJsVGDlbaNvsJVRFwGXFJ8OpeZb+3zeaPAUeBxwJ9m5g2bqlKSNJTGWyOGKm070RlgOsMDIv4AeDLwvmLTi4DPZeZr+z5IxMOBq4CXZ+ata752GDgMMDU1ddHMzEzfxW8H8/PzTE5O1l1GI9mb7uxLd/alN3vTnX3pzd50t9G+HDp06GhmTq/d3k+4+jxwYXFq8PRo1E2Z+W82UnBEvA44lZlv7PWY6enpPHLkyEZ223izs7McPHiw7jIayd50Z1+6sy+92Zvu7Etv9qa7jfYlIrqGq37HWh++6uOdfR5wVzFiRURMAM8CvtDn8SRJkralfq65+gPgpoi4ls7agpcAr+njeecC7y1GukaAD2bmNZuuVJIkaRtYN1xl5gciYhZ4UrHpNzPzeB/P+zyw/6GVJ0mStL30PC0YEc87/XFm3p2ZV2fm1cADEdHX3YKSJEnD5kzXXL05In5u9YaI+Cng88C9lVYlSZK0TZ3ptOAlwEcjYg8wA7wNWAJ+NDPv3IriJEmStpueI1eZeTdwALiYzmjVOzLzuQYrSZKk3s44FUNm3g88F/gg8NMRcdaWVCVJkrRN9TwtGBH38+21AAM4G/hmRCzTWTrwYVtQnyRJ0rbSM1xl5jlbWYgkSdIgcDVMSZKkEhmuJEmSSmS4kiRJKpHhSpI0cBbbKyxnstheqbsUDSHDlSRpoBw/ucBVN93FyVNLXHXTXRw/uVB3SRoyhitJ0sBYbK8wd+wEO8ZajI2OsGOsxdyxE45gaUsZriRJA2NhaZn2SjIxPgrAxPgo7ZVkYWm55so0TAxXkqSBMTE2SmskWFjshKmFxWVaI8HE2GjNlWmYGK4kSQNjvDXCgX27OLXUZml5hVNLbQ7s28V4y7c7bR2/2yRJA2X3zgku37+HnTvGuHz/HnbvnKi7JA0Zw5UkaeCMt0YYjXDESrXwu06SJKlEhitJkqQSGa4kSZJKZLiSJEkqkeFKkiSpRIYrSVLlFtsrnFxYchkaDYVW3QVIkgbb8ZMLzB07QXslaY0EB/btcu4pDTRHriRJlVm9kPLUOWe5kLKGguFKklQZF1LWMDJcSZIq40LKGkaVhauIeExEXBsRt0fEbRHxiqqOJUlqptULKd9z/4MupKyhUOUF7W3g32XmjRFxDnA0Ij6VmbdXeExJUsOcXkh5YWmZibFRg9WQWWyvDN2/fWXhKjPvBu4uPr4/Iu4AzgMMV5I0ZMZbI0PzxqpvG9Y7RbfkOz0i9gL7gRu24niSJKlew3ynaGRmtQeImATmgDdk5ke6fP0wcBhgamrqopmZmUrr2Wrz8/NMTk7WXUYj2Zvu7Et39qU3e9OdfeltK3qznMnJU0uMjX57HGdpeYWdO8YYjaj02Ju10b4cOnToaGZOr91eabiKiDHgGuATmfmm9R4/PT2dR44cqayeOszOznLw4MG6y2gke9OdfenOvvRmb7qzL71tRW8W2ytcddNd7BhrMTE+ysLiMqeW2ly+f09jTxFvtC8R0TVcVXm3YADvBO7oJ1hJkqTBMcx3ilZ5t+DTgRcDt0TEzcW212bmxyo8piRJaohhvVO0yrsFPw0086SqJEnaEsN4p+hwvVpJkqSKGa4kSZJKZLiSJEkqkeFKkiSpRIYrSZKkEhmuJEmSSmS4kiRJKpHhShoAi+0VTi4sDcWCqJLUdFXO0C5pCxw/ucDcsRO0V5LWSHBg3y5275youyxJGlqOXEnb2GJ7hbljJ9gx1mLqnLPYMdZi7tgJR7AkqUaGK2kbW1hapr2STIyPAjAxPkp7JVlYWq65MkkaXoYraRubGBulNRIsLHbC1MLiMq2RYGJstObKJGl4Ga6kbWy8NcKBfbs4tdTmnvsf5NRSmwP7dg3dIqmS1CRe0C5tc7t3TnD5/j0sLC0zMTZqsJKkmhmupAEw3hoxVElSQ/jTWJI0VJwXTlVz5EqSNDScF05bwZErSdJQcF44bRXDlSRpKDgvnLaK4UqSNBScF05bxXAlSRoKzgunreIF7ZKkoeG8cNoKhitJ0lBxXjhVze8uSZKkEhmuJEmSSmS4kiRJKpHhSpIkqUSGK0mSpBIZriRJkkpUWbiKiHdFxL0RcWtVx5AkSWqaKkeu3gM8p8L9S5IkNU5l4SozrwO+WdX+JUmSmigys7qdR+wFrsnMJ57hMYeBwwBTU1MXzczMVFZPHebn55mcnKy7jEayN93Zl+7sS2/2pjv70pu96W6jfTl06NDRzJxeu7325W8y80rgSoDp6ek8ePBgvQWVbHZ2lkF7TWWxN93Zl+7sS2/2prvN9GWxvTIU6w76PdNdWX2pPVxJktQEx08uMHfsBO2VpDUSHNi3i907J+ouS9vQ4MZySZL6tNheYe7YCXaMtZg65yx2jLWYO3aCxfZK3aVpG6pyKoYPAJ8Bzo+IuyLi56s6liRJD8XC0jLtlWRifBSAifFR2ivJwtJyzZVpO6rstGBmvqiqfUuSVKaJsVFaI8HC4jIT46MsLC7TGgkmxkbrLk3bkKcFJUlDb7w1woF9uzi11Oae+x/k1FKbA/t2DfRF7aqOF7RLkgTs3jnB5fv3DMXdgqqW4UqSpMJ4a8RQpYdsqL6DFtsrnFxY8u4PSZIGVBPe64dm5Mr5SyRJGmxNea8fipEr5y+RJGmwNem9fijClfOXSJI02Jr0Xj8U4Wr1/CWA85dIkjRgmvRePxThyvlLNMyacHGnJFWtSe/1Q3NBu/OXaBg15eJOSdoKTXmvH6qEMd4aYefEmMFKQ6FJF3dKg8KR4OZrwnv90IxcScOm28Wd931riYWlZX/BkDbBkWD1y5+w0oBq0sWd0nbnSLA2wnAlDagmXdwpbXcP9TZ/TycOF08LSgNs984JnvdD380/LizyXRPjTJ7lf3lpM1aPBE+Mj25oJNjTicPHX2GlAXb85AIfveUbXHfsBB+95RscP7lQd0nStrTZkWBPJw4nf42VBtTqH+qnf9OeO3aCy/fv8dSgtAmbuc3fG0uGk/+y0oBq0lIQ0qDY6G3+3lgynAxX0oDyh7pUP28sGU6eFtSmLbZXap8FV72d/qE+d+wE931r6Z8vpPXfStpaTZk1XFvHcKVN8e6X7cEf6lIzjLdG/P83RPyX1oZ598v20oSlICRpmPjTVhvmhdKSJPVmuNKGeaG01ByL7RWWMx05lhrEcKUN8+4XqRmOn1zgqpvu4uSpJa666S4niZUawgvatSleKC3Va/W1j4yOMFZc++gksVL9/B+oTfNCaak+XvsoNZfvipK0DXnto9RclYariHhORHwxIr4cEb9V5bEkaZisvvZxaXnFax+lBqnsf2FEjAJ/CjwXeDzwooh4fFXHk6Rhc/rax507xrh8/x4n8pUaospfcZ4MfDkzv5KZi8AM8OMVHk+Shs54a4TRCEespAap8n/jecDXVn1+V7FNkiRpYEVmVrPjiBcCz8nMXyg+fzHwI5n5q2sedxg4DDA1NXXRzMxMJfXUZX5+nsnJybrLaCR705196c6+9GZvurMvvdmb7jbal0OHDh3NzOm126uc5+rrwGNWfb6n2PYvZOaVwJUA09PTefDgwQpL2nqzs7MM2msqi73pzr50Z196szfd2Zfe7E13ZfWlytOCnwN+ICIeGxHjwE8CV1d4PEmSpNpVNnKVme2I+FXgE8Ao8K7MvK2q40mSJDVBpcvfZObHgI9VeQxJkqQm8d5dSZKkEhmuJEmSSlTZVAybEREngL+ru46SPQr4h7qLaCh705196c6+9GZvurMvvdmb7jbal+/NzF1rNzYqXA2iiDjSbQ4M2Zte7Et39qU3e9OdfenN3nRXVl88LShJklQiw5UkSVKJDFfVu7LuAhrM3nRnX7qzL73Zm+7sS2/2prtS+uI1V5IkSSVy5EqSJKlEhquKRMRjIuLaiLg9Im6LiFfUXVMTRMRZEfHZiPiboi+vr7umJomI0Yi4KSKuqbuWJomIr0bELRFxc0QcqbueJomIh0fEhyLiCxFxR0Q8te6a6hYR5xffK6f/3BcRv1Z3XU0QEa8sfvbeGhEfiIiz6q6pKSLiFUVfbnuo3y+eFqxIRJwLnJuZN0bEOcBR4Ccy8/aaS6tVRARwdmbOR8QY8GngFZn51zWX1ggR8SpgGnhYZj6/7nqaIiK+CkxnpvPyrBER7wWuz8x3RMQ4sCMz/6nmshojIkaBrwM/kpmDNo/ihkTEeXR+5j4+Mxci4oPAxzLzPfVWVr+IeCIwAzwZWAQ+DrwsM7+8mf05clWRzLw7M28sPr4fuAM4r96q6pcd88WnY8UfEz4QEXuA5wHvqLsWbQ8RsRO4BHgnQGYuGqy+w6XAncMerFZpARMR0QJ2AN+ouZ6m+EHghsw8lZltYA54wWZ3ZrjaAhGxF9gP3FBzKY1QnPq6GbgX+FRm2peONwO/AazUXEcTJfDJiDgaEYfrLqZBHgucAN5dnE5+R0ScXXdRDfOTwAfqLqIJMvPrwBuBvwfuBk5m5ifrraoxbgUujohHRsQO4MeAx2x2Z4arikXEJPBh4Ncy876662mCzFzOzAuBPcCTi+HYoRYRzwfuzcyjddfSUM/IzB8Gngv8SkRcUndBDdECfhj4r5m5H3gA+K16S2qO4jTpZcBf1l1LE0TEdwE/TieUfzdwdkT8TL1VNUNm3gH8IfBJOqcEbwaWN7s/w1WFimuKPgy8LzM/Unc9TVOcvrgWeE7NpTTB04HLimuLZoBnRsSf11tScxS/cZOZ9wJX0bkuQnAXcNeq0d8P0Qlb6ngucGNm3lN3IQ3xo8DfZuaJzFwCPgI8reaaGiMz35mZF2XmJcA/Asc2uy/DVUWKC7ffCdyRmW+qu56miIhdEfHw4uMJ4FnAF2otqgEy8zWZuScz99I5jfF/MtPfKIGIOLu4KYTilNez6QzhD73MPA58LSLOLzZdCgz1TTNrvAhPCa7298BTImJH8R51KZ3rgQVExKOLv7+HzvVW79/svlplFaXv8HTgxcAtxfVFAK/NzI/VV1IjnAu8t7iDZwT4YGY67YDOZAq4qvNeQAt4f2Z+vN6SGuXlwPuKU2BfAV5acz2NUATxZwG/VHctTZGZN0TEh4AbgTZwE87UvtqHI+KRwBLwKw/l5hCnYpAkSSqRpwUlSZJKZLiSJEkqkeFKkiSpRIYrSZKkEhmuJEmSSmS4koZMROyJiP8REV+KiDsj4i3FbfzapiLiDyPicxFxTUT8q7rrkYadUzFIQ6SYOPAGOsulvLuYb+xK4JuZ+ev1VidJg8GRK2m4PBN4MDPfDZ11HoFXAj9XzNp8bUTcHBHzEfHF4uPLIuIlxaLJtxSjXjsiYm9EfMdM6RExX/x9MCJOFvv4SkS8qtj+koj4kzXPmY6I2S77eklEnCj2cXPx8UuKr11aLFZ8S0S8a/WITUR8tdh+++kaI+L3IuLVXY7x2uK13VEsfDwSHX8UEbcW+7linde0NyKuj4gbiz9PK7a/r3jsNyPib4uPXxadxcv/qBht+nxE/NKqelYf4/jpmiPiooiYK2r9REScW2yfjYjp4uP/eLr/kupjuJKGyxOAf7E4dLGg+N8Dj8vMQ8Wi2keAn87MCzPz6sx8T2ZeBFwIPAK4uM/jXV/s7wpgs8v5/EVRx4XAXwBExFnAe4ArMvOH6Mzc/surnjMKHKCzsv0ZZebvr3ptlwI/QGfpiwuBC+isx/ZHp8NMj9d0L/CsYnHpK4A/Lvb908VjrwZ+vXgdbwd+HjiZmU8CngT8YkQ8dlXtc8Xz3l683jHgrcALi1rfBbxh9esolu64dL3XK6l6hitJfYmI1wHH6SybcX2x+ftXjSr9+y5Pu7hY/ulaisBRuKJ4zuci4vmbKOd8OgvQnl5Y9b3AJau+PgE82OV5ryyO+1cR8ZRVr+3tdALSDcCXgGcAH8jM5WLR3zk6IajXaxoD/iwibgH+Enj8OvU/G/jZYj83AI+kE+p61X4+8ETgU8VzfhvYs+YxvwP8/jrHlbQFDFfScLkduGj1hoh4GPA9wJfP9MTM/A901ob8J2B/sfnOYoTlacC/jW8vIHza6VGevcDrixEnKEajgJ8C/tvmXkp3xTFGMvNUly//l+K4vwv884LqmfkyOq/t3KLWM+n2ml4J3ENnpGsaWO8GgQBefnpELjMfm5mfLL723cA3ujz+tlWP/6HMfPaqr+8FnpiZ/3Od40raAoYrabj8b2BHRPwsQHFB+38G3tMjjFA87uHFhyvF3/vWPGQBOEVnBKebU3RGZNbeyfZNNreA/BeBvRHxuOLzF9MZXQJ4IfCZdZ7//ygC0KrX1gZ2AN9LZ2TuiuLaqF10RsU+u2Yfq1/TTuDuzFwpahld5/ifAH65ON1HROyLiLOLf48XAH/V5fXuioinFo8fi4gnrPr67xZ/JDXAZn6oSdqmMjMj4nLgbRHxO3R+wfoY8Np1nvqbEfFjwFnA54EPAruAx0bEp+mEjOsy89aIWP2806fQzgLelJkni6+/ICIuBCaBDd+lmJkPRsRLgb+MiBbwOeDtxWv7ZeAlPZ76KxHxE3RC1GuKbW8papmgEz6voxMinwr8DZDAb2Tm8Yj41z1e09uADxeh9ePAA+u8hHfQGW26MToNOQH8BPDf6ZyW/PCa17sYES8E/jgidtL52f1m4LbiIXdl5nXrHFPSFnEqBkmSpBJ5WlCSJKlEhitJkqQSGa4kSZJKZLiSJEkqkeFKkiSpRIYrSZKkEhmuJEmSSmS4kiRJKtH/B/BrxkcjNEnOAAAAAElFTkSuQmCC\n",
      "text/plain": [
       "<Figure size 720x360 with 1 Axes>"
      ]
     },
     "metadata": {
      "needs_background": "light"
     },
     "output_type": "display_data"
    }
   ],
   "source": [
    "Wii.plot(x='user_score', y='total_sales', kind='scatter', alpha=0.3, figsize=(10,5), grid=True)\n",
    "\n",
    "plt.title('Wii')\n",
    "plt.ylabel('Кол-во игр')\n",
    "plt.xlabel('Отзывы пользователей')\n",
    "plt.show()"
   ]
  },
  {
   "cell_type": "code",
   "execution_count": 52,
   "metadata": {},
   "outputs": [
    {
     "data": {
      "text/plain": [
       "0.3208028695360785"
      ]
     },
     "execution_count": 52,
     "metadata": {},
     "output_type": "execute_result"
    }
   ],
   "source": [
    "TreeDS = actual_data[actual_data['platform']=='3DS']\n",
    "TreeDS['critic_score'].corr(TreeDS['total_sales'])"
   ]
  },
  {
   "cell_type": "code",
   "execution_count": 53,
   "metadata": {},
   "outputs": [
    {
     "data": {
      "text/plain": [
       "0.19758263411038599"
      ]
     },
     "execution_count": 53,
     "metadata": {},
     "output_type": "execute_result"
    }
   ],
   "source": [
    "TreeDS['user_score'].corr(TreeDS['total_sales'])"
   ]
  },
  {
   "cell_type": "code",
   "execution_count": 54,
   "metadata": {},
   "outputs": [
    {
     "data": {
      "image/png": "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\n",
      "text/plain": [
       "<Figure size 720x360 with 1 Axes>"
      ]
     },
     "metadata": {
      "needs_background": "light"
     },
     "output_type": "display_data"
    }
   ],
   "source": [
    "TreeDS.plot(x='critic_score', y='total_sales', kind='scatter', alpha=0.3, figsize=(10,5), grid=True)\n",
    "plt.title('3DS')\n",
    "plt.ylabel('Кол-во игр')\n",
    "plt.xlabel('Отзывы критиков')\n",
    "plt.show()"
   ]
  },
  {
   "cell_type": "code",
   "execution_count": 55,
   "metadata": {},
   "outputs": [
    {
     "data": {
      "image/png": "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\n",
      "text/plain": [
       "<Figure size 720x360 with 1 Axes>"
      ]
     },
     "metadata": {
      "needs_background": "light"
     },
     "output_type": "display_data"
    }
   ],
   "source": [
    "TreeDS.plot(x='user_score', y='total_sales', kind='scatter', alpha=0.3, figsize=(10,5), grid=True)\n",
    "\n",
    "plt.title('3DS')\n",
    "plt.ylabel('Кол-во игр')\n",
    "plt.xlabel('Отзывы пользователей')\n",
    "plt.show()"
   ]
  },
  {
   "cell_type": "markdown",
   "metadata": {},
   "source": [
    "У платформы Wii наоборот видна зависимость больше от отзывов пользователей, чем от отзывов критиков. У платформы 3DS связь есть и в том и в том случае, хоть и не сильная."
   ]
  },
  {
   "cell_type": "markdown",
   "metadata": {},
   "source": [
    "Коэффициент корреляции между отзывами и продажами равен 0.41  и -0.03 Первый коэффициент корреляции говорит о наличии связи, однако не слишком сильной, если рост одной величины связан с уменьшением другой, коэффициент отрицательный. "
   ]
  },
  {
   "cell_type": "markdown",
   "metadata": {},
   "source": [
    "Вывод: У PS4, Xbox One и PS3 наблюдается пусть и не сильная, но всё же, связь между оценками критиков и продажами. А связь между оценками пользователей и продажами слабая у всех платформ, либо её совсем нет. У платформы Wii наоборот видна зависимость больше от отзывов пользователей, чем от отзывов критиков. У платформы 3DS связь есть и в том и в том случае, хоть и не сильная. Это говорит нам о том, то при выборе покупатель больше ориентируется на мнение критиков, чем на мнение пользователей"
   ]
  },
  {
   "cell_type": "markdown",
   "metadata": {},
   "source": [
    "Посмотрим распределение игр по жанрам"
   ]
  },
  {
   "cell_type": "code",
   "execution_count": 56,
   "metadata": {},
   "outputs": [
    {
     "data": {
      "text/html": [
       "<div>\n",
       "<style scoped>\n",
       "    .dataframe tbody tr th:only-of-type {\n",
       "        vertical-align: middle;\n",
       "    }\n",
       "\n",
       "    .dataframe tbody tr th {\n",
       "        vertical-align: top;\n",
       "    }\n",
       "\n",
       "    .dataframe thead th {\n",
       "        text-align: right;\n",
       "    }\n",
       "</style>\n",
       "<table border=\"1\" class=\"dataframe\">\n",
       "  <thead>\n",
       "    <tr style=\"text-align: right;\">\n",
       "      <th></th>\n",
       "      <th>genre</th>\n",
       "      <th>total_sales</th>\n",
       "    </tr>\n",
       "  </thead>\n",
       "  <tbody>\n",
       "    <tr>\n",
       "      <th>0</th>\n",
       "      <td>Action</td>\n",
       "      <td>441.12</td>\n",
       "    </tr>\n",
       "    <tr>\n",
       "      <th>1</th>\n",
       "      <td>Shooter</td>\n",
       "      <td>304.73</td>\n",
       "    </tr>\n",
       "    <tr>\n",
       "      <th>2</th>\n",
       "      <td>Role-Playing</td>\n",
       "      <td>192.80</td>\n",
       "    </tr>\n",
       "    <tr>\n",
       "      <th>3</th>\n",
       "      <td>Sports</td>\n",
       "      <td>181.07</td>\n",
       "    </tr>\n",
       "    <tr>\n",
       "      <th>4</th>\n",
       "      <td>Misc</td>\n",
       "      <td>85.04</td>\n",
       "    </tr>\n",
       "    <tr>\n",
       "      <th>5</th>\n",
       "      <td>Platform</td>\n",
       "      <td>61.00</td>\n",
       "    </tr>\n",
       "    <tr>\n",
       "      <th>6</th>\n",
       "      <td>Racing</td>\n",
       "      <td>53.50</td>\n",
       "    </tr>\n",
       "    <tr>\n",
       "      <th>7</th>\n",
       "      <td>Fighting</td>\n",
       "      <td>44.49</td>\n",
       "    </tr>\n",
       "    <tr>\n",
       "      <th>8</th>\n",
       "      <td>Simulation</td>\n",
       "      <td>35.12</td>\n",
       "    </tr>\n",
       "    <tr>\n",
       "      <th>9</th>\n",
       "      <td>Adventure</td>\n",
       "      <td>29.43</td>\n",
       "    </tr>\n",
       "    <tr>\n",
       "      <th>10</th>\n",
       "      <td>Strategy</td>\n",
       "      <td>13.34</td>\n",
       "    </tr>\n",
       "    <tr>\n",
       "      <th>11</th>\n",
       "      <td>Puzzle</td>\n",
       "      <td>4.89</td>\n",
       "    </tr>\n",
       "  </tbody>\n",
       "</table>\n",
       "</div>"
      ],
      "text/plain": [
       "           genre  total_sales\n",
       "0         Action       441.12\n",
       "1        Shooter       304.73\n",
       "2   Role-Playing       192.80\n",
       "3         Sports       181.07\n",
       "4           Misc        85.04\n",
       "5       Platform        61.00\n",
       "6         Racing        53.50\n",
       "7       Fighting        44.49\n",
       "8     Simulation        35.12\n",
       "9      Adventure        29.43\n",
       "10      Strategy        13.34\n",
       "11        Puzzle         4.89"
      ]
     },
     "execution_count": 56,
     "metadata": {},
     "output_type": "execute_result"
    }
   ],
   "source": [
    "genre_table = actual_data.pivot_table(index='genre', values='total_sales', aggfunc='sum').sort_values(by='total_sales', ascending=False)\n",
    "genre_table = genre_table.reset_index().rename_axis(None, axis=1)\n",
    "genre_table"
   ]
  },
  {
   "cell_type": "markdown",
   "metadata": {},
   "source": [
    "Самый продаваемый жанр action, самый менее продаваемый - puzzle."
   ]
  },
  {
   "cell_type": "code",
   "execution_count": 57,
   "metadata": {},
   "outputs": [
    {
     "data": {
      "text/html": [
       "<div>\n",
       "<style scoped>\n",
       "    .dataframe tbody tr th:only-of-type {\n",
       "        vertical-align: middle;\n",
       "    }\n",
       "\n",
       "    .dataframe tbody tr th {\n",
       "        vertical-align: top;\n",
       "    }\n",
       "\n",
       "    .dataframe thead th {\n",
       "        text-align: right;\n",
       "    }\n",
       "</style>\n",
       "<table border=\"1\" class=\"dataframe\">\n",
       "  <thead>\n",
       "    <tr style=\"text-align: right;\">\n",
       "      <th></th>\n",
       "      <th>genre</th>\n",
       "      <th>median_sales</th>\n",
       "    </tr>\n",
       "  </thead>\n",
       "  <tbody>\n",
       "    <tr>\n",
       "      <th>0</th>\n",
       "      <td>Shooter</td>\n",
       "      <td>0.440</td>\n",
       "    </tr>\n",
       "    <tr>\n",
       "      <th>1</th>\n",
       "      <td>Sports</td>\n",
       "      <td>0.240</td>\n",
       "    </tr>\n",
       "    <tr>\n",
       "      <th>2</th>\n",
       "      <td>Platform</td>\n",
       "      <td>0.210</td>\n",
       "    </tr>\n",
       "    <tr>\n",
       "      <th>3</th>\n",
       "      <td>Role-Playing</td>\n",
       "      <td>0.140</td>\n",
       "    </tr>\n",
       "    <tr>\n",
       "      <th>4</th>\n",
       "      <td>Racing</td>\n",
       "      <td>0.140</td>\n",
       "    </tr>\n",
       "    <tr>\n",
       "      <th>5</th>\n",
       "      <td>Fighting</td>\n",
       "      <td>0.130</td>\n",
       "    </tr>\n",
       "    <tr>\n",
       "      <th>6</th>\n",
       "      <td>Action</td>\n",
       "      <td>0.120</td>\n",
       "    </tr>\n",
       "    <tr>\n",
       "      <th>7</th>\n",
       "      <td>Misc</td>\n",
       "      <td>0.120</td>\n",
       "    </tr>\n",
       "    <tr>\n",
       "      <th>8</th>\n",
       "      <td>Simulation</td>\n",
       "      <td>0.120</td>\n",
       "    </tr>\n",
       "    <tr>\n",
       "      <th>9</th>\n",
       "      <td>Strategy</td>\n",
       "      <td>0.080</td>\n",
       "    </tr>\n",
       "    <tr>\n",
       "      <th>10</th>\n",
       "      <td>Puzzle</td>\n",
       "      <td>0.045</td>\n",
       "    </tr>\n",
       "    <tr>\n",
       "      <th>11</th>\n",
       "      <td>Adventure</td>\n",
       "      <td>0.030</td>\n",
       "    </tr>\n",
       "  </tbody>\n",
       "</table>\n",
       "</div>"
      ],
      "text/plain": [
       "           genre  median_sales\n",
       "0        Shooter         0.440\n",
       "1         Sports         0.240\n",
       "2       Platform         0.210\n",
       "3   Role-Playing         0.140\n",
       "4         Racing         0.140\n",
       "5       Fighting         0.130\n",
       "6         Action         0.120\n",
       "7           Misc         0.120\n",
       "8     Simulation         0.120\n",
       "9       Strategy         0.080\n",
       "10        Puzzle         0.045\n",
       "11     Adventure         0.030"
      ]
     },
     "execution_count": 57,
     "metadata": {},
     "output_type": "execute_result"
    }
   ],
   "source": [
    "genre_table_median = actual_data.pivot_table(index='genre', values='total_sales', aggfunc='median').sort_values(by='total_sales', ascending=False)\n",
    "genre_table_median = genre_table_median.reset_index().rename_axis(None, axis=1)\n",
    "genre_table_median = genre_table_median.rename(columns={'total_sales':'median_sales'})\n",
    "genre_table_median"
   ]
  },
  {
   "cell_type": "code",
   "execution_count": 58,
   "metadata": {},
   "outputs": [
    {
     "data": {
      "image/png": "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\n",
      "text/plain": [
       "<Figure size 936x576 with 1 Axes>"
      ]
     },
     "metadata": {
      "needs_background": "light"
     },
     "output_type": "display_data"
    },
    {
     "data": {
      "image/png": "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\n",
      "text/plain": [
       "<Figure size 936x576 with 1 Axes>"
      ]
     },
     "metadata": {
      "needs_background": "light"
     },
     "output_type": "display_data"
    }
   ],
   "source": [
    "import seaborn as sns\n",
    "data_temp, y = actual_data.copy(), 'total_sales'\n",
    "plt.figure(figsize=(13, 8))\n",
    "(sns.boxplot(data = data_temp, y = y, x='genre')\n",
    "    .set(title = 'Продажи по жанрам', xlabel = 'Жанры', ylabel = 'Общие продажи'))\n",
    "plt.show()\n",
    "plt.figure(figsize=(13, 8))\n",
    "(sns.boxplot(data = data_temp, y = y, x='genre')\n",
    "    .set(title = 'Продажи по жанрам', xlabel = 'Жанры', ylabel = 'Общие продажи', ylim=(0, 3.6)))\n",
    "plt.show()"
   ]
  },
  {
   "cell_type": "markdown",
   "metadata": {},
   "source": [
    "Если взять медиальное знаение то, самой популярной игрой будет Shooter, а менее прибыльной - Adventure."
   ]
  },
  {
   "cell_type": "markdown",
   "metadata": {},
   "source": [
    "Выводы:\n",
    "\n",
    "Спрос на игры стал расти с 1994 года по 2008 год, далее спрос пошел на спад, это обусловлено развитием мобильных технологий. \n",
    "Самые популярные игровые платформы за весь период : SP2, X360, SP3, Nintendo WII, Nintendo DS, Sony Playstation.\n",
    "Средняя жизнь игровой платформы составляет около 10 лет.\n",
    "Самые продаваемые игры на платформах SP и X360.\n",
    "У анализируемых нами платформ наблюдается взаимосвязь между продажами и оценками критиков, хоть и не оень сильная.  Связь пользовательских оценок гораздо менее значимая. Это знаит,  то пользователям при покупке гораздо важнее мнение критиков, чем таких же как они пользователей.\n",
    "Самый популярный жанр игр'Action' по общим проодажам, но если брать медиальное значение, то самый популярный жанр - Shooter."
   ]
  },
  {
   "cell_type": "markdown",
   "metadata": {},
   "source": [
    "**Шаг 4. Сопоставить портрет пользователя каждого региона**"
   ]
  },
  {
   "cell_type": "code",
   "execution_count": 60,
   "metadata": {},
   "outputs": [
    {
     "data": {
      "text/html": [
       "<div>\n",
       "<style scoped>\n",
       "    .dataframe tbody tr th:only-of-type {\n",
       "        vertical-align: middle;\n",
       "    }\n",
       "\n",
       "    .dataframe tbody tr th {\n",
       "        vertical-align: top;\n",
       "    }\n",
       "\n",
       "    .dataframe thead th {\n",
       "        text-align: right;\n",
       "    }\n",
       "</style>\n",
       "<table border=\"1\" class=\"dataframe\">\n",
       "  <thead>\n",
       "    <tr style=\"text-align: right;\">\n",
       "      <th></th>\n",
       "      <th>na_sales</th>\n",
       "    </tr>\n",
       "    <tr>\n",
       "      <th>platform</th>\n",
       "      <th></th>\n",
       "    </tr>\n",
       "  </thead>\n",
       "  <tbody>\n",
       "    <tr>\n",
       "      <th>X360</th>\n",
       "      <td>140.05</td>\n",
       "    </tr>\n",
       "    <tr>\n",
       "      <th>PS4</th>\n",
       "      <td>108.74</td>\n",
       "    </tr>\n",
       "    <tr>\n",
       "      <th>PS3</th>\n",
       "      <td>103.38</td>\n",
       "    </tr>\n",
       "    <tr>\n",
       "      <th>XOne</th>\n",
       "      <td>93.12</td>\n",
       "    </tr>\n",
       "    <tr>\n",
       "      <th>3DS</th>\n",
       "      <td>55.31</td>\n",
       "    </tr>\n",
       "  </tbody>\n",
       "</table>\n",
       "</div>"
      ],
      "text/plain": [
       "          na_sales\n",
       "platform          \n",
       "X360        140.05\n",
       "PS4         108.74\n",
       "PS3         103.38\n",
       "XOne         93.12\n",
       "3DS          55.31"
      ]
     },
     "execution_count": 60,
     "metadata": {},
     "output_type": "execute_result"
    }
   ],
   "source": [
    "na_region_table = actual_data.pivot_table(index='platform', values='na_sales', aggfunc='sum').sort_values(by='na_sales', ascending=False)\n",
    "na_region_table.head()"
   ]
  },
  {
   "cell_type": "code",
   "execution_count": 61,
   "metadata": {},
   "outputs": [
    {
     "data": {
      "text/html": [
       "<div>\n",
       "<style scoped>\n",
       "    .dataframe tbody tr th:only-of-type {\n",
       "        vertical-align: middle;\n",
       "    }\n",
       "\n",
       "    .dataframe tbody tr th {\n",
       "        vertical-align: top;\n",
       "    }\n",
       "\n",
       "    .dataframe thead th {\n",
       "        text-align: right;\n",
       "    }\n",
       "</style>\n",
       "<table border=\"1\" class=\"dataframe\">\n",
       "  <thead>\n",
       "    <tr style=\"text-align: right;\">\n",
       "      <th></th>\n",
       "      <th>eu_sales</th>\n",
       "    </tr>\n",
       "    <tr>\n",
       "      <th>platform</th>\n",
       "      <th></th>\n",
       "    </tr>\n",
       "  </thead>\n",
       "  <tbody>\n",
       "    <tr>\n",
       "      <th>PS4</th>\n",
       "      <td>141.09</td>\n",
       "    </tr>\n",
       "    <tr>\n",
       "      <th>PS3</th>\n",
       "      <td>106.86</td>\n",
       "    </tr>\n",
       "    <tr>\n",
       "      <th>X360</th>\n",
       "      <td>74.52</td>\n",
       "    </tr>\n",
       "    <tr>\n",
       "      <th>XOne</th>\n",
       "      <td>51.59</td>\n",
       "    </tr>\n",
       "    <tr>\n",
       "      <th>3DS</th>\n",
       "      <td>42.64</td>\n",
       "    </tr>\n",
       "  </tbody>\n",
       "</table>\n",
       "</div>"
      ],
      "text/plain": [
       "          eu_sales\n",
       "platform          \n",
       "PS4         141.09\n",
       "PS3         106.86\n",
       "X360         74.52\n",
       "XOne         51.59\n",
       "3DS          42.64"
      ]
     },
     "execution_count": 61,
     "metadata": {},
     "output_type": "execute_result"
    }
   ],
   "source": [
    "eu_region_table = actual_data.pivot_table(index='platform', values='eu_sales', aggfunc='sum').sort_values(by='eu_sales', ascending=False)\n",
    "eu_region_table.head()"
   ]
  },
  {
   "cell_type": "code",
   "execution_count": 62,
   "metadata": {},
   "outputs": [
    {
     "data": {
      "text/html": [
       "<div>\n",
       "<style scoped>\n",
       "    .dataframe tbody tr th:only-of-type {\n",
       "        vertical-align: middle;\n",
       "    }\n",
       "\n",
       "    .dataframe tbody tr th {\n",
       "        vertical-align: top;\n",
       "    }\n",
       "\n",
       "    .dataframe thead th {\n",
       "        text-align: right;\n",
       "    }\n",
       "</style>\n",
       "<table border=\"1\" class=\"dataframe\">\n",
       "  <thead>\n",
       "    <tr style=\"text-align: right;\">\n",
       "      <th></th>\n",
       "      <th>jp_sales</th>\n",
       "    </tr>\n",
       "    <tr>\n",
       "      <th>platform</th>\n",
       "      <th></th>\n",
       "    </tr>\n",
       "  </thead>\n",
       "  <tbody>\n",
       "    <tr>\n",
       "      <th>3DS</th>\n",
       "      <td>87.79</td>\n",
       "    </tr>\n",
       "    <tr>\n",
       "      <th>PS3</th>\n",
       "      <td>35.29</td>\n",
       "    </tr>\n",
       "    <tr>\n",
       "      <th>PSV</th>\n",
       "      <td>21.04</td>\n",
       "    </tr>\n",
       "    <tr>\n",
       "      <th>PS4</th>\n",
       "      <td>15.96</td>\n",
       "    </tr>\n",
       "    <tr>\n",
       "      <th>WiiU</th>\n",
       "      <td>13.01</td>\n",
       "    </tr>\n",
       "  </tbody>\n",
       "</table>\n",
       "</div>"
      ],
      "text/plain": [
       "          jp_sales\n",
       "platform          \n",
       "3DS          87.79\n",
       "PS3          35.29\n",
       "PSV          21.04\n",
       "PS4          15.96\n",
       "WiiU         13.01"
      ]
     },
     "execution_count": 62,
     "metadata": {},
     "output_type": "execute_result"
    }
   ],
   "source": [
    "jp_region_table = actual_data.pivot_table(index='platform', values='jp_sales', aggfunc='sum').sort_values(by='jp_sales', ascending=False)\n",
    "jp_region_table.head()"
   ]
  },
  {
   "cell_type": "markdown",
   "metadata": {},
   "source": [
    "Распределение игр по платформам произошло абсолютно по разному в разных регионах"
   ]
  },
  {
   "cell_type": "code",
   "execution_count": 63,
   "metadata": {},
   "outputs": [
    {
     "data": {
      "text/html": [
       "<div>\n",
       "<style scoped>\n",
       "    .dataframe tbody tr th:only-of-type {\n",
       "        vertical-align: middle;\n",
       "    }\n",
       "\n",
       "    .dataframe tbody tr th {\n",
       "        vertical-align: top;\n",
       "    }\n",
       "\n",
       "    .dataframe thead th {\n",
       "        text-align: right;\n",
       "    }\n",
       "</style>\n",
       "<table border=\"1\" class=\"dataframe\">\n",
       "  <thead>\n",
       "    <tr style=\"text-align: right;\">\n",
       "      <th></th>\n",
       "      <th>na_sales</th>\n",
       "    </tr>\n",
       "    <tr>\n",
       "      <th>genre</th>\n",
       "      <th></th>\n",
       "    </tr>\n",
       "  </thead>\n",
       "  <tbody>\n",
       "    <tr>\n",
       "      <th>Action</th>\n",
       "      <td>177.84</td>\n",
       "    </tr>\n",
       "    <tr>\n",
       "      <th>Shooter</th>\n",
       "      <td>144.77</td>\n",
       "    </tr>\n",
       "    <tr>\n",
       "      <th>Sports</th>\n",
       "      <td>81.53</td>\n",
       "    </tr>\n",
       "    <tr>\n",
       "      <th>Role-Playing</th>\n",
       "      <td>64.00</td>\n",
       "    </tr>\n",
       "    <tr>\n",
       "      <th>Misc</th>\n",
       "      <td>38.19</td>\n",
       "    </tr>\n",
       "  </tbody>\n",
       "</table>\n",
       "</div>"
      ],
      "text/plain": [
       "              na_sales\n",
       "genre                 \n",
       "Action          177.84\n",
       "Shooter         144.77\n",
       "Sports           81.53\n",
       "Role-Playing     64.00\n",
       "Misc             38.19"
      ]
     },
     "execution_count": 63,
     "metadata": {},
     "output_type": "execute_result"
    }
   ],
   "source": [
    "na_region_table_genre = actual_data.pivot_table(index='genre', values='na_sales', aggfunc='sum').sort_values(by='na_sales', ascending=False)\n",
    "na_region_table_genre.head()"
   ]
  },
  {
   "cell_type": "code",
   "execution_count": 64,
   "metadata": {},
   "outputs": [
    {
     "data": {
      "text/html": [
       "<div>\n",
       "<style scoped>\n",
       "    .dataframe tbody tr th:only-of-type {\n",
       "        vertical-align: middle;\n",
       "    }\n",
       "\n",
       "    .dataframe tbody tr th {\n",
       "        vertical-align: top;\n",
       "    }\n",
       "\n",
       "    .dataframe thead th {\n",
       "        text-align: right;\n",
       "    }\n",
       "</style>\n",
       "<table border=\"1\" class=\"dataframe\">\n",
       "  <thead>\n",
       "    <tr style=\"text-align: right;\">\n",
       "      <th></th>\n",
       "      <th>eu_sales</th>\n",
       "    </tr>\n",
       "    <tr>\n",
       "      <th>genre</th>\n",
       "      <th></th>\n",
       "    </tr>\n",
       "  </thead>\n",
       "  <tbody>\n",
       "    <tr>\n",
       "      <th>Action</th>\n",
       "      <td>159.34</td>\n",
       "    </tr>\n",
       "    <tr>\n",
       "      <th>Shooter</th>\n",
       "      <td>113.47</td>\n",
       "    </tr>\n",
       "    <tr>\n",
       "      <th>Sports</th>\n",
       "      <td>69.09</td>\n",
       "    </tr>\n",
       "    <tr>\n",
       "      <th>Role-Playing</th>\n",
       "      <td>48.53</td>\n",
       "    </tr>\n",
       "    <tr>\n",
       "      <th>Racing</th>\n",
       "      <td>27.29</td>\n",
       "    </tr>\n",
       "  </tbody>\n",
       "</table>\n",
       "</div>"
      ],
      "text/plain": [
       "              eu_sales\n",
       "genre                 \n",
       "Action          159.34\n",
       "Shooter         113.47\n",
       "Sports           69.09\n",
       "Role-Playing     48.53\n",
       "Racing           27.29"
      ]
     },
     "execution_count": 64,
     "metadata": {},
     "output_type": "execute_result"
    }
   ],
   "source": [
    "eu_region_table_genre = actual_data.pivot_table(index='genre', values='eu_sales', aggfunc='sum').sort_values(by='eu_sales', ascending=False)\n",
    "eu_region_table_genre.head()"
   ]
  },
  {
   "cell_type": "code",
   "execution_count": 65,
   "metadata": {},
   "outputs": [
    {
     "data": {
      "text/html": [
       "<div>\n",
       "<style scoped>\n",
       "    .dataframe tbody tr th:only-of-type {\n",
       "        vertical-align: middle;\n",
       "    }\n",
       "\n",
       "    .dataframe tbody tr th {\n",
       "        vertical-align: top;\n",
       "    }\n",
       "\n",
       "    .dataframe thead th {\n",
       "        text-align: right;\n",
       "    }\n",
       "</style>\n",
       "<table border=\"1\" class=\"dataframe\">\n",
       "  <thead>\n",
       "    <tr style=\"text-align: right;\">\n",
       "      <th></th>\n",
       "      <th>jp_sales</th>\n",
       "    </tr>\n",
       "    <tr>\n",
       "      <th>genre</th>\n",
       "      <th></th>\n",
       "    </tr>\n",
       "  </thead>\n",
       "  <tbody>\n",
       "    <tr>\n",
       "      <th>Role-Playing</th>\n",
       "      <td>65.44</td>\n",
       "    </tr>\n",
       "    <tr>\n",
       "      <th>Action</th>\n",
       "      <td>52.80</td>\n",
       "    </tr>\n",
       "    <tr>\n",
       "      <th>Misc</th>\n",
       "      <td>12.86</td>\n",
       "    </tr>\n",
       "    <tr>\n",
       "      <th>Simulation</th>\n",
       "      <td>10.41</td>\n",
       "    </tr>\n",
       "    <tr>\n",
       "      <th>Fighting</th>\n",
       "      <td>9.44</td>\n",
       "    </tr>\n",
       "  </tbody>\n",
       "</table>\n",
       "</div>"
      ],
      "text/plain": [
       "              jp_sales\n",
       "genre                 \n",
       "Role-Playing     65.44\n",
       "Action           52.80\n",
       "Misc             12.86\n",
       "Simulation       10.41\n",
       "Fighting          9.44"
      ]
     },
     "execution_count": 65,
     "metadata": {},
     "output_type": "execute_result"
    }
   ],
   "source": [
    "jp_region_table_genre = actual_data.pivot_table(index='genre', values='jp_sales', aggfunc='sum').sort_values(by='jp_sales', ascending=False)\n",
    "jp_region_table_genre.head()"
   ]
  },
  {
   "cell_type": "markdown",
   "metadata": {},
   "source": [
    "В целом можно сказать, что жанр action преобладает во всех трех регионах, в Японии на первом месте Role-Playing, то обусловлено особенностями культуры."
   ]
  },
  {
   "cell_type": "markdown",
   "metadata": {},
   "source": [
    "Проанализируем возрастной рейтинг ESRB"
   ]
  },
  {
   "cell_type": "code",
   "execution_count": 66,
   "metadata": {},
   "outputs": [
    {
     "data": {
      "text/html": [
       "<div>\n",
       "<style scoped>\n",
       "    .dataframe tbody tr th:only-of-type {\n",
       "        vertical-align: middle;\n",
       "    }\n",
       "\n",
       "    .dataframe tbody tr th {\n",
       "        vertical-align: top;\n",
       "    }\n",
       "\n",
       "    .dataframe thead th {\n",
       "        text-align: right;\n",
       "    }\n",
       "</style>\n",
       "<table border=\"1\" class=\"dataframe\">\n",
       "  <thead>\n",
       "    <tr style=\"text-align: right;\">\n",
       "      <th></th>\n",
       "      <th>na_sales</th>\n",
       "    </tr>\n",
       "    <tr>\n",
       "      <th>rating</th>\n",
       "      <th></th>\n",
       "    </tr>\n",
       "  </thead>\n",
       "  <tbody>\n",
       "    <tr>\n",
       "      <th>M</th>\n",
       "      <td>231.57</td>\n",
       "    </tr>\n",
       "    <tr>\n",
       "      <th>E</th>\n",
       "      <td>114.37</td>\n",
       "    </tr>\n",
       "    <tr>\n",
       "      <th>E10+</th>\n",
       "      <td>75.70</td>\n",
       "    </tr>\n",
       "    <tr>\n",
       "      <th>T</th>\n",
       "      <td>66.02</td>\n",
       "    </tr>\n",
       "  </tbody>\n",
       "</table>\n",
       "</div>"
      ],
      "text/plain": [
       "        na_sales\n",
       "rating          \n",
       "M         231.57\n",
       "E         114.37\n",
       "E10+       75.70\n",
       "T          66.02"
      ]
     },
     "execution_count": 66,
     "metadata": {},
     "output_type": "execute_result"
    }
   ],
   "source": [
    "na_region_table_rating = actual_data.pivot_table(index='rating', values='na_sales', aggfunc='sum').sort_values(by='na_sales', ascending=False)\n",
    "na_region_table_rating.head()"
   ]
  },
  {
   "cell_type": "code",
   "execution_count": 67,
   "metadata": {},
   "outputs": [
    {
     "data": {
      "text/html": [
       "<div>\n",
       "<style scoped>\n",
       "    .dataframe tbody tr th:only-of-type {\n",
       "        vertical-align: middle;\n",
       "    }\n",
       "\n",
       "    .dataframe tbody tr th {\n",
       "        vertical-align: top;\n",
       "    }\n",
       "\n",
       "    .dataframe thead th {\n",
       "        text-align: right;\n",
       "    }\n",
       "</style>\n",
       "<table border=\"1\" class=\"dataframe\">\n",
       "  <thead>\n",
       "    <tr style=\"text-align: right;\">\n",
       "      <th></th>\n",
       "      <th>eu_sales</th>\n",
       "    </tr>\n",
       "    <tr>\n",
       "      <th>rating</th>\n",
       "      <th></th>\n",
       "    </tr>\n",
       "  </thead>\n",
       "  <tbody>\n",
       "    <tr>\n",
       "      <th>M</th>\n",
       "      <td>193.96</td>\n",
       "    </tr>\n",
       "    <tr>\n",
       "      <th>E</th>\n",
       "      <td>113.03</td>\n",
       "    </tr>\n",
       "    <tr>\n",
       "      <th>E10+</th>\n",
       "      <td>55.37</td>\n",
       "    </tr>\n",
       "    <tr>\n",
       "      <th>T</th>\n",
       "      <td>52.96</td>\n",
       "    </tr>\n",
       "  </tbody>\n",
       "</table>\n",
       "</div>"
      ],
      "text/plain": [
       "        eu_sales\n",
       "rating          \n",
       "M         193.96\n",
       "E         113.03\n",
       "E10+       55.37\n",
       "T          52.96"
      ]
     },
     "execution_count": 67,
     "metadata": {},
     "output_type": "execute_result"
    }
   ],
   "source": [
    "eu_region_table_rating = actual_data.pivot_table(index='rating', values='eu_sales', aggfunc='sum').sort_values(by='eu_sales', ascending=False)\n",
    "eu_region_table_rating.head()"
   ]
  },
  {
   "cell_type": "code",
   "execution_count": 68,
   "metadata": {},
   "outputs": [
    {
     "data": {
      "text/html": [
       "<div>\n",
       "<style scoped>\n",
       "    .dataframe tbody tr th:only-of-type {\n",
       "        vertical-align: middle;\n",
       "    }\n",
       "\n",
       "    .dataframe tbody tr th {\n",
       "        vertical-align: top;\n",
       "    }\n",
       "\n",
       "    .dataframe thead th {\n",
       "        text-align: right;\n",
       "    }\n",
       "</style>\n",
       "<table border=\"1\" class=\"dataframe\">\n",
       "  <thead>\n",
       "    <tr style=\"text-align: right;\">\n",
       "      <th></th>\n",
       "      <th>jp_sales</th>\n",
       "    </tr>\n",
       "    <tr>\n",
       "      <th>rating</th>\n",
       "      <th></th>\n",
       "    </tr>\n",
       "  </thead>\n",
       "  <tbody>\n",
       "    <tr>\n",
       "      <th>E</th>\n",
       "      <td>28.33</td>\n",
       "    </tr>\n",
       "    <tr>\n",
       "      <th>T</th>\n",
       "      <td>26.02</td>\n",
       "    </tr>\n",
       "    <tr>\n",
       "      <th>M</th>\n",
       "      <td>21.20</td>\n",
       "    </tr>\n",
       "    <tr>\n",
       "      <th>E10+</th>\n",
       "      <td>8.19</td>\n",
       "    </tr>\n",
       "  </tbody>\n",
       "</table>\n",
       "</div>"
      ],
      "text/plain": [
       "        jp_sales\n",
       "rating          \n",
       "E          28.33\n",
       "T          26.02\n",
       "M          21.20\n",
       "E10+        8.19"
      ]
     },
     "execution_count": 68,
     "metadata": {},
     "output_type": "execute_result"
    }
   ],
   "source": [
    "jp_region_table_rating = actual_data.pivot_table(index='rating', values='jp_sales', aggfunc='sum').sort_values(by='jp_sales', ascending=False)\n",
    "jp_region_table_rating.head()"
   ]
  },
  {
   "cell_type": "markdown",
   "metadata": {},
   "source": [
    "Для всех регионов преобладающая категория пользователей в рейтинге ESRB E - ДЛя всех, затем T(подростки) и M(для взрослых)"
   ]
  },
  {
   "cell_type": "markdown",
   "metadata": {},
   "source": [
    "**Шаг 5. Проверка гипотез**"
   ]
  },
  {
   "cell_type": "markdown",
   "metadata": {},
   "source": [
    "Средние пользовательские рейтинги платформ Xbox One и PC одинаковые;\n",
    "Средние пользовательские рейтинги жанров Action (англ. «действие», экшен-игры) и Sports (англ. «спортивные соревнования») разные."
   ]
  },
  {
   "cell_type": "markdown",
   "metadata": {},
   "source": [
    "Для первой гипотезы Но - средние пользовательские рейтинги платформ Xbox One и PC равны, Н1 - Средние пользовательские рейтинги платформ Xbox One и PC не равны"
   ]
  },
  {
   "cell_type": "code",
   "execution_count": 70,
   "metadata": {},
   "outputs": [],
   "source": [
    "xone = actual_data[(actual_data['platform'] == 'XOne') & (actual_data['user_score'] > 0)]['user_score']\n",
    "pc = actual_data[(actual_data['platform'] == 'PC') & (actual_data['user_score'] > 0)]['user_score']"
   ]
  },
  {
   "cell_type": "code",
   "execution_count": 71,
   "metadata": {},
   "outputs": [
    {
     "name": "stdout",
     "output_type": "stream",
     "text": [
      "p-значение: 0.5535080500643661\n",
      "Не получилось отвергнуть нулевую гипотезу\n"
     ]
    }
   ],
   "source": [
    "alpha = 0.05\n",
    "results = st.ttest_ind(xone, pc)\n",
    "\n",
    "print('p-значение:', results.pvalue)\n",
    "\n",
    "if results.pvalue < alpha:\n",
    "    print('Отвергаем нулевую гипотезу')\n",
    "else:\n",
    "    print('Не получилось отвергнуть нулевую гипотезу') "
   ]
  },
  {
   "cell_type": "markdown",
   "metadata": {},
   "source": [
    "В этом примере data1 и data2 - это две выборки, которые вы хотите сравнить. Функция st.ttest_ind возвращает значение t-статистики и p-значение для проверки гипотезы о равенстве средних значений в двух выборках.\n",
    "Когда сравнивают средние двух генеральных совокупностей, нулевую гипотезу можно сформулировать так: «средние значения совокупностей равны». \n",
    "В действительности проверяют нулевую гипотезу о равенстве разности между двумя средними нулю, — это должно быть так, если они равны.  Средние генеральных совокупностей, как и средние взятых из них выборок, могут различаться, но недостаточно сильно, чтобы сделать вывод о том, что эта разница неслучайна. На этот вопрос и отвечает статистический тест: достаточно ли большое различие мы наблюдаем с учётом разброса, чтобы отвергнуть нулевую гипотезу об их равенстве. В Python есть специальный метод для проверки гипотезы о равенстве среднего двух генеральных совокупностей по взятым из них выборкам: scipy.stats.ttest_ind(array1, array2, equal_var, alternative)."
   ]
  },
  {
   "cell_type": "markdown",
   "metadata": {},
   "source": [
    "Для второй гипотезы Но - средние пользовательские рейтинги жанров Action и Sports равны, Н1 - средние пользовательские рейтинги жанров Action и Sports не равны"
   ]
  },
  {
   "cell_type": "code",
   "execution_count": 72,
   "metadata": {},
   "outputs": [],
   "source": [
    "action = actual_data[(actual_data['genre'] == 'Action') & (actual_data['user_score'] > 0)]['user_score']\n",
    "sports = actual_data[(actual_data['genre'] == 'Sports') & (actual_data['user_score'] > 0)]['user_score']"
   ]
  },
  {
   "cell_type": "code",
   "execution_count": 73,
   "metadata": {},
   "outputs": [
    {
     "name": "stdout",
     "output_type": "stream",
     "text": [
      "p-значение: 3.7163089460934874e-26\n",
      "Отвергаем нулевую гипотезу\n"
     ]
    }
   ],
   "source": [
    "alpha = 0.05\n",
    "results = st.ttest_ind(action, sports)\n",
    "\n",
    "print('p-значение:', results.pvalue)\n",
    "\n",
    "if results.pvalue < alpha:\n",
    "    print('Отвергаем нулевую гипотезу')\n",
    "else:\n",
    "    print('Не получилось отвергнуть нулевую гипотезу') "
   ]
  },
  {
   "cell_type": "markdown",
   "metadata": {},
   "source": [
    "Не получилось доказать гипотезу, то рейтинги не равны. Таким образом, остается верным утверждение, что средние пользовательские рейтинги жанров Action и Sports различны."
   ]
  },
  {
   "cell_type": "markdown",
   "metadata": {},
   "source": [
    "**Шаг 6. Общий вывод.**"
   ]
  },
  {
   "cell_type": "markdown",
   "metadata": {},
   "source": [
    "Нами были подготовлены все данные для проведения анализа и построения гипотез. Мы  привели к правильным данным столбцы, привели к нижнему регистру названия колонок. Заменили tbd на nan для проведения дальнейшего анализа, а также заменили знаения в столбцах оценок и рейтинга.\n",
    "Проведя анализ, мы выявили, что скачок игр произошел после 1994 года и пошел на спад после 2008 года в связи с ростом мобильных технологий.За весь период самые популярные платформы стали PS2, X360, PS3, WII, DS, PS. Нами была выислена средняя продолжительность жизни  платформы, она составляет 7 лет.  Из анализа платформ, которые мы рассмотрели, видна взаимосвязь между продажами и оценками критиков. Пользовательские же оценки не играют значимой роли. Это значит, что для людей мнение критиков важнее мнения других пользователей. Самый популярный жанр экшен и шуттер.\n",
    "Также мы составили портреты пользователей разных регионов:\n",
    "Самая популярная платформа в Северной Америке это XBOX, жанр экшен и категория для Взрослых, для Европы: PS4, action, категория для взрослых. Для Японии это 3DS, Role-Playing, Для всех.\n",
    "Прогнозы мы делали на основе последних 5 лет, так как технологии очень быстро меняются, рынок данной категории стремительно падает вниз.\n",
    "Из того, то мы уведили, что лучше всего продавать игры для таких приставок как Sony Playstation 4\n",
    "Жанр необходимо выбирать Shooter и выбирать игры с рейтингом \"Для взрослых\", тогда продажи будут значительно больше, чем если продавать другие игры."
   ]
  }
 ],
 "metadata": {
  "ExecuteTimeLog": [
   {
    "duration": 368,
    "start_time": "2023-12-25T07:20:31.215Z"
   },
   {
    "duration": 2,
    "start_time": "2023-12-25T07:20:51.137Z"
   },
   {
    "duration": 113,
    "start_time": "2023-12-25T07:22:09.449Z"
   },
   {
    "duration": 15,
    "start_time": "2023-12-25T07:22:32.850Z"
   },
   {
    "duration": 898,
    "start_time": "2023-12-25T07:25:53.673Z"
   },
   {
    "duration": 4,
    "start_time": "2023-12-25T07:32:28.980Z"
   },
   {
    "duration": 97,
    "start_time": "2023-12-25T07:36:05.595Z"
   },
   {
    "duration": 6,
    "start_time": "2023-12-25T07:45:31.505Z"
   },
   {
    "duration": 13,
    "start_time": "2023-12-25T07:51:27.228Z"
   },
   {
    "duration": 12,
    "start_time": "2023-12-25T07:53:53.077Z"
   },
   {
    "duration": 14,
    "start_time": "2023-12-25T07:54:18.919Z"
   },
   {
    "duration": 18,
    "start_time": "2023-12-25T07:54:46.759Z"
   },
   {
    "duration": 5,
    "start_time": "2023-12-25T07:54:51.244Z"
   },
   {
    "duration": 68,
    "start_time": "2023-12-25T08:00:50.954Z"
   },
   {
    "duration": 21,
    "start_time": "2023-12-25T08:01:40.905Z"
   },
   {
    "duration": 17,
    "start_time": "2023-12-25T08:04:50.687Z"
   },
   {
    "duration": 17,
    "start_time": "2023-12-25T08:05:34.219Z"
   },
   {
    "duration": 10,
    "start_time": "2023-12-25T08:05:43.932Z"
   },
   {
    "duration": 11,
    "start_time": "2023-12-25T08:08:39.766Z"
   },
   {
    "duration": 4,
    "start_time": "2023-12-25T08:09:36.946Z"
   },
   {
    "duration": 16,
    "start_time": "2023-12-25T08:09:52.646Z"
   },
   {
    "duration": 368,
    "start_time": "2023-12-25T08:24:17.736Z"
   },
   {
    "duration": 363,
    "start_time": "2023-12-25T08:24:45.326Z"
   },
   {
    "duration": 386,
    "start_time": "2023-12-25T08:25:19.629Z"
   },
   {
    "duration": 14,
    "start_time": "2023-12-25T08:32:26.709Z"
   },
   {
    "duration": 11,
    "start_time": "2023-12-25T08:33:07.730Z"
   },
   {
    "duration": 11,
    "start_time": "2023-12-25T08:33:16.230Z"
   },
   {
    "duration": 370,
    "start_time": "2023-12-25T08:34:24.874Z"
   },
   {
    "duration": 298,
    "start_time": "2023-12-25T08:34:40.541Z"
   },
   {
    "duration": 17,
    "start_time": "2023-12-25T08:35:08.060Z"
   },
   {
    "duration": 313,
    "start_time": "2023-12-25T08:35:16.579Z"
   },
   {
    "duration": 174,
    "start_time": "2023-12-25T08:36:56.766Z"
   },
   {
    "duration": 29,
    "start_time": "2023-12-25T08:43:59.512Z"
   },
   {
    "duration": 22,
    "start_time": "2023-12-25T08:44:35.479Z"
   },
   {
    "duration": 877,
    "start_time": "2023-12-25T08:46:13.196Z"
   },
   {
    "duration": 1253,
    "start_time": "2023-12-25T08:47:01.758Z"
   },
   {
    "duration": 140,
    "start_time": "2023-12-25T08:47:16.636Z"
   },
   {
    "duration": 147,
    "start_time": "2023-12-25T08:48:35.188Z"
   },
   {
    "duration": 162,
    "start_time": "2023-12-25T08:49:33.932Z"
   },
   {
    "duration": 159,
    "start_time": "2023-12-25T08:50:02.887Z"
   },
   {
    "duration": 164,
    "start_time": "2023-12-25T08:50:29.684Z"
   },
   {
    "duration": 150,
    "start_time": "2023-12-25T08:51:06.304Z"
   },
   {
    "duration": 151,
    "start_time": "2023-12-25T08:51:49.465Z"
   },
   {
    "duration": 124,
    "start_time": "2023-12-25T08:53:47.823Z"
   },
   {
    "duration": 142,
    "start_time": "2023-12-25T08:54:05.784Z"
   },
   {
    "duration": 228,
    "start_time": "2023-12-25T08:54:13.931Z"
   },
   {
    "duration": 162,
    "start_time": "2023-12-25T08:55:07.964Z"
   },
   {
    "duration": 19,
    "start_time": "2023-12-25T08:59:54.053Z"
   },
   {
    "duration": 22,
    "start_time": "2023-12-25T09:00:12.575Z"
   },
   {
    "duration": 1093,
    "start_time": "2023-12-25T09:03:06.894Z"
   },
   {
    "duration": 70,
    "start_time": "2023-12-25T09:03:07.988Z"
   },
   {
    "duration": 14,
    "start_time": "2023-12-25T09:03:08.060Z"
   },
   {
    "duration": 8,
    "start_time": "2023-12-25T09:03:08.076Z"
   },
   {
    "duration": 12,
    "start_time": "2023-12-25T09:03:08.086Z"
   },
   {
    "duration": 21,
    "start_time": "2023-12-25T09:03:08.099Z"
   },
   {
    "duration": 7,
    "start_time": "2023-12-25T09:03:08.121Z"
   },
   {
    "duration": 9,
    "start_time": "2023-12-25T09:03:08.129Z"
   },
   {
    "duration": 26,
    "start_time": "2023-12-25T09:03:08.140Z"
   },
   {
    "duration": 404,
    "start_time": "2023-12-25T09:03:08.168Z"
   },
   {
    "duration": 329,
    "start_time": "2023-12-25T09:03:08.574Z"
   },
   {
    "duration": 174,
    "start_time": "2023-12-25T09:03:08.905Z"
   },
   {
    "duration": 163,
    "start_time": "2023-12-25T09:03:09.080Z"
   },
   {
    "duration": 161,
    "start_time": "2023-12-25T09:03:09.245Z"
   },
   {
    "duration": 169,
    "start_time": "2023-12-25T09:03:09.408Z"
   },
   {
    "duration": 249,
    "start_time": "2023-12-25T09:03:09.579Z"
   },
   {
    "duration": 142,
    "start_time": "2023-12-25T09:03:09.829Z"
   },
   {
    "duration": 15,
    "start_time": "2023-12-25T09:03:09.973Z"
   },
   {
    "duration": 1113,
    "start_time": "2023-12-25T09:03:37.054Z"
   },
   {
    "duration": 66,
    "start_time": "2023-12-25T09:03:38.169Z"
   },
   {
    "duration": 13,
    "start_time": "2023-12-25T09:03:38.237Z"
   },
   {
    "duration": 54,
    "start_time": "2023-12-25T09:03:38.252Z"
   },
   {
    "duration": 7,
    "start_time": "2023-12-25T09:03:38.308Z"
   },
   {
    "duration": 52,
    "start_time": "2023-12-25T09:03:38.316Z"
   },
   {
    "duration": 25,
    "start_time": "2023-12-25T09:03:38.370Z"
   },
   {
    "duration": 25,
    "start_time": "2023-12-25T09:03:38.397Z"
   },
   {
    "duration": 24,
    "start_time": "2023-12-25T09:03:38.424Z"
   },
   {
    "duration": 392,
    "start_time": "2023-12-25T09:03:38.451Z"
   },
   {
    "duration": 349,
    "start_time": "2023-12-25T09:03:38.844Z"
   },
   {
    "duration": 154,
    "start_time": "2023-12-25T09:03:39.195Z"
   },
   {
    "duration": 168,
    "start_time": "2023-12-25T09:03:39.350Z"
   },
   {
    "duration": 153,
    "start_time": "2023-12-25T09:03:39.520Z"
   },
   {
    "duration": 172,
    "start_time": "2023-12-25T09:03:39.675Z"
   },
   {
    "duration": 240,
    "start_time": "2023-12-25T09:03:39.848Z"
   },
   {
    "duration": 146,
    "start_time": "2023-12-25T09:03:40.089Z"
   },
   {
    "duration": 15,
    "start_time": "2023-12-25T09:03:40.237Z"
   },
   {
    "duration": 22,
    "start_time": "2023-12-25T09:07:35.058Z"
   },
   {
    "duration": 16,
    "start_time": "2023-12-25T09:08:01.130Z"
   },
   {
    "duration": 207,
    "start_time": "2023-12-25T09:13:13.297Z"
   },
   {
    "duration": 95,
    "start_time": "2023-12-25T09:14:02.969Z"
   },
   {
    "duration": 102,
    "start_time": "2023-12-25T09:14:47.985Z"
   },
   {
    "duration": 83,
    "start_time": "2023-12-25T09:15:32.597Z"
   },
   {
    "duration": 4,
    "start_time": "2023-12-25T09:15:46.915Z"
   },
   {
    "duration": 15,
    "start_time": "2023-12-25T09:16:44.097Z"
   },
   {
    "duration": 12,
    "start_time": "2023-12-25T09:18:20.329Z"
   },
   {
    "duration": 1219,
    "start_time": "2023-12-25T09:18:48.504Z"
   },
   {
    "duration": 1275,
    "start_time": "2023-12-25T09:24:02.237Z"
   },
   {
    "duration": 80,
    "start_time": "2023-12-25T09:25:10.200Z"
   },
   {
    "duration": 618,
    "start_time": "2023-12-25T09:25:30.779Z"
   },
   {
    "duration": 10,
    "start_time": "2023-12-25T09:31:34.673Z"
   },
   {
    "duration": 9,
    "start_time": "2023-12-25T09:32:12.391Z"
   },
   {
    "duration": 23,
    "start_time": "2023-12-25T09:33:09.441Z"
   },
   {
    "duration": 28,
    "start_time": "2023-12-25T09:33:17.185Z"
   },
   {
    "duration": 13,
    "start_time": "2023-12-25T09:34:05.893Z"
   },
   {
    "duration": 17,
    "start_time": "2023-12-25T09:34:39.256Z"
   },
   {
    "duration": 123,
    "start_time": "2023-12-25T09:35:38.636Z"
   },
   {
    "duration": 109,
    "start_time": "2023-12-25T09:41:26.099Z"
   },
   {
    "duration": 1379,
    "start_time": "2023-12-25T13:37:25.611Z"
   },
   {
    "duration": 197,
    "start_time": "2023-12-25T13:37:26.993Z"
   },
   {
    "duration": 16,
    "start_time": "2023-12-25T13:37:27.192Z"
   },
   {
    "duration": 14,
    "start_time": "2023-12-25T13:37:27.211Z"
   },
   {
    "duration": 10,
    "start_time": "2023-12-25T13:37:27.227Z"
   },
   {
    "duration": 26,
    "start_time": "2023-12-25T13:37:27.239Z"
   },
   {
    "duration": 17,
    "start_time": "2023-12-25T13:37:27.267Z"
   },
   {
    "duration": 15,
    "start_time": "2023-12-25T13:37:27.286Z"
   },
   {
    "duration": 38,
    "start_time": "2023-12-25T13:37:27.303Z"
   },
   {
    "duration": 482,
    "start_time": "2023-12-25T13:37:27.344Z"
   },
   {
    "duration": 350,
    "start_time": "2023-12-25T13:37:27.831Z"
   },
   {
    "duration": 178,
    "start_time": "2023-12-25T13:37:28.183Z"
   },
   {
    "duration": 190,
    "start_time": "2023-12-25T13:37:28.363Z"
   },
   {
    "duration": 168,
    "start_time": "2023-12-25T13:37:28.555Z"
   },
   {
    "duration": 183,
    "start_time": "2023-12-25T13:37:28.730Z"
   },
   {
    "duration": 262,
    "start_time": "2023-12-25T13:37:28.914Z"
   },
   {
    "duration": 188,
    "start_time": "2023-12-25T13:37:29.177Z"
   },
   {
    "duration": 17,
    "start_time": "2023-12-25T13:37:29.368Z"
   },
   {
    "duration": 19,
    "start_time": "2023-12-25T13:37:29.387Z"
   },
   {
    "duration": 254,
    "start_time": "2023-12-25T13:37:29.407Z"
   },
   {
    "duration": 179,
    "start_time": "2023-12-25T13:40:52.438Z"
   },
   {
    "duration": 81,
    "start_time": "2023-12-25T13:41:00.234Z"
   },
   {
    "duration": 484,
    "start_time": "2023-12-25T13:43:14.259Z"
   },
   {
    "duration": 592,
    "start_time": "2023-12-25T13:43:42.771Z"
   },
   {
    "duration": 601,
    "start_time": "2023-12-25T13:44:37.621Z"
   },
   {
    "duration": 501,
    "start_time": "2023-12-25T13:44:59.400Z"
   },
   {
    "duration": 107,
    "start_time": "2023-12-25T13:46:00.648Z"
   },
   {
    "duration": 154,
    "start_time": "2023-12-25T13:59:29.495Z"
   },
   {
    "duration": 152,
    "start_time": "2023-12-25T14:01:02.491Z"
   },
   {
    "duration": 1476,
    "start_time": "2023-12-25T17:47:33.124Z"
   },
   {
    "duration": 211,
    "start_time": "2023-12-25T17:47:34.602Z"
   },
   {
    "duration": 18,
    "start_time": "2023-12-25T17:47:34.815Z"
   },
   {
    "duration": 4,
    "start_time": "2023-12-25T17:47:34.835Z"
   },
   {
    "duration": 8,
    "start_time": "2023-12-25T17:47:34.840Z"
   },
   {
    "duration": 25,
    "start_time": "2023-12-25T17:47:34.850Z"
   },
   {
    "duration": 23,
    "start_time": "2023-12-25T17:47:34.877Z"
   },
   {
    "duration": 10,
    "start_time": "2023-12-25T17:47:34.902Z"
   },
   {
    "duration": 22,
    "start_time": "2023-12-25T17:47:34.914Z"
   },
   {
    "duration": 485,
    "start_time": "2023-12-25T17:47:34.938Z"
   },
   {
    "duration": 381,
    "start_time": "2023-12-25T17:47:35.424Z"
   },
   {
    "duration": 195,
    "start_time": "2023-12-25T17:47:35.807Z"
   },
   {
    "duration": 213,
    "start_time": "2023-12-25T17:47:36.004Z"
   },
   {
    "duration": 188,
    "start_time": "2023-12-25T17:47:36.218Z"
   },
   {
    "duration": 283,
    "start_time": "2023-12-25T17:47:36.407Z"
   },
   {
    "duration": 245,
    "start_time": "2023-12-25T17:47:36.692Z"
   },
   {
    "duration": 184,
    "start_time": "2023-12-25T17:47:36.938Z"
   },
   {
    "duration": 18,
    "start_time": "2023-12-25T17:47:37.124Z"
   },
   {
    "duration": 18,
    "start_time": "2023-12-25T17:47:37.145Z"
   },
   {
    "duration": 567,
    "start_time": "2023-12-25T17:47:37.165Z"
   },
   {
    "duration": 92,
    "start_time": "2023-12-25T17:47:37.734Z"
   },
   {
    "duration": 165,
    "start_time": "2023-12-25T17:47:37.828Z"
   },
   {
    "duration": 180,
    "start_time": "2023-12-25T17:47:38.002Z"
   },
   {
    "duration": 7,
    "start_time": "2023-12-25T17:47:48.950Z"
   },
   {
    "duration": 9,
    "start_time": "2023-12-25T17:55:32.440Z"
   },
   {
    "duration": 41,
    "start_time": "2023-12-25T17:59:26.376Z"
   },
   {
    "duration": 9,
    "start_time": "2023-12-25T17:59:32.522Z"
   },
   {
    "duration": 12,
    "start_time": "2023-12-25T17:59:49.813Z"
   },
   {
    "duration": 9,
    "start_time": "2023-12-25T18:00:00.803Z"
   },
   {
    "duration": 6,
    "start_time": "2023-12-25T18:00:09.976Z"
   },
   {
    "duration": 1355,
    "start_time": "2023-12-25T20:06:34.511Z"
   },
   {
    "duration": 115,
    "start_time": "2023-12-25T20:06:35.868Z"
   },
   {
    "duration": 15,
    "start_time": "2023-12-25T20:06:35.985Z"
   },
   {
    "duration": 15,
    "start_time": "2023-12-25T20:06:36.001Z"
   },
   {
    "duration": 11,
    "start_time": "2023-12-25T20:06:36.017Z"
   },
   {
    "duration": 27,
    "start_time": "2023-12-25T20:06:36.030Z"
   },
   {
    "duration": 9,
    "start_time": "2023-12-25T20:06:36.059Z"
   },
   {
    "duration": 27,
    "start_time": "2023-12-25T20:06:36.070Z"
   },
   {
    "duration": 32,
    "start_time": "2023-12-25T20:06:36.099Z"
   },
   {
    "duration": 394,
    "start_time": "2023-12-25T20:06:36.134Z"
   },
   {
    "duration": 321,
    "start_time": "2023-12-25T20:06:36.529Z"
   },
   {
    "duration": 156,
    "start_time": "2023-12-25T20:06:36.851Z"
   },
   {
    "duration": 169,
    "start_time": "2023-12-25T20:06:37.008Z"
   },
   {
    "duration": 168,
    "start_time": "2023-12-25T20:06:37.179Z"
   },
   {
    "duration": 158,
    "start_time": "2023-12-25T20:06:37.349Z"
   },
   {
    "duration": 241,
    "start_time": "2023-12-25T20:06:37.508Z"
   },
   {
    "duration": 142,
    "start_time": "2023-12-25T20:06:37.751Z"
   },
   {
    "duration": 16,
    "start_time": "2023-12-25T20:06:37.895Z"
   },
   {
    "duration": 16,
    "start_time": "2023-12-25T20:06:37.913Z"
   },
   {
    "duration": 478,
    "start_time": "2023-12-25T20:06:37.930Z"
   },
   {
    "duration": 94,
    "start_time": "2023-12-25T20:06:38.410Z"
   },
   {
    "duration": 135,
    "start_time": "2023-12-25T20:06:38.506Z"
   },
   {
    "duration": 141,
    "start_time": "2023-12-25T20:06:38.643Z"
   },
   {
    "duration": 9,
    "start_time": "2023-12-25T20:06:38.785Z"
   },
   {
    "duration": 22,
    "start_time": "2023-12-25T20:06:38.796Z"
   },
   {
    "duration": 8,
    "start_time": "2023-12-25T20:12:27.542Z"
   },
   {
    "duration": 5,
    "start_time": "2023-12-25T20:12:45.178Z"
   },
   {
    "duration": 8,
    "start_time": "2023-12-25T20:15:03.208Z"
   },
   {
    "duration": 5,
    "start_time": "2023-12-25T20:15:21.119Z"
   },
   {
    "duration": 16,
    "start_time": "2023-12-25T20:22:36.828Z"
   },
   {
    "duration": 11,
    "start_time": "2023-12-25T20:43:56.401Z"
   },
   {
    "duration": 11,
    "start_time": "2023-12-25T20:44:14.768Z"
   },
   {
    "duration": 16,
    "start_time": "2023-12-25T20:44:28.962Z"
   },
   {
    "duration": 12,
    "start_time": "2023-12-25T20:44:40.432Z"
   },
   {
    "duration": 13,
    "start_time": "2023-12-25T20:45:09.544Z"
   },
   {
    "duration": 14,
    "start_time": "2023-12-25T20:45:43.545Z"
   },
   {
    "duration": 15,
    "start_time": "2023-12-25T20:48:28.115Z"
   },
   {
    "duration": 14,
    "start_time": "2023-12-25T20:48:53.341Z"
   },
   {
    "duration": 13,
    "start_time": "2023-12-25T20:49:38.955Z"
   },
   {
    "duration": 15,
    "start_time": "2023-12-25T20:58:31.228Z"
   },
   {
    "duration": 14,
    "start_time": "2023-12-25T20:59:28.111Z"
   },
   {
    "duration": 13,
    "start_time": "2023-12-25T21:00:00.578Z"
   },
   {
    "duration": 14,
    "start_time": "2023-12-25T21:03:57.560Z"
   },
   {
    "duration": 98,
    "start_time": "2023-12-25T21:07:10.805Z"
   },
   {
    "duration": 11,
    "start_time": "2023-12-25T21:07:35.915Z"
   },
   {
    "duration": 8,
    "start_time": "2023-12-25T21:07:44.305Z"
   },
   {
    "duration": 10,
    "start_time": "2023-12-25T21:10:58.695Z"
   },
   {
    "duration": 2,
    "start_time": "2023-12-25T21:11:29.504Z"
   },
   {
    "duration": 9,
    "start_time": "2023-12-25T21:11:35.963Z"
   },
   {
    "duration": 4,
    "start_time": "2023-12-25T21:11:59.687Z"
   },
   {
    "duration": 8,
    "start_time": "2023-12-25T21:13:52.266Z"
   },
   {
    "duration": 4,
    "start_time": "2023-12-25T21:13:54.966Z"
   },
   {
    "duration": 9,
    "start_time": "2023-12-25T21:18:08.602Z"
   },
   {
    "duration": 5,
    "start_time": "2023-12-25T21:18:31.039Z"
   },
   {
    "duration": 1017,
    "start_time": "2023-12-25T21:49:09.316Z"
   },
   {
    "duration": 77,
    "start_time": "2023-12-25T21:49:10.335Z"
   },
   {
    "duration": 12,
    "start_time": "2023-12-25T21:49:10.414Z"
   },
   {
    "duration": 4,
    "start_time": "2023-12-25T21:49:10.427Z"
   },
   {
    "duration": 9,
    "start_time": "2023-12-25T21:49:10.432Z"
   },
   {
    "duration": 17,
    "start_time": "2023-12-25T21:49:10.442Z"
   },
   {
    "duration": 3,
    "start_time": "2023-12-25T21:49:10.460Z"
   },
   {
    "duration": 10,
    "start_time": "2023-12-25T21:49:10.464Z"
   },
   {
    "duration": 34,
    "start_time": "2023-12-25T21:49:10.475Z"
   },
   {
    "duration": 334,
    "start_time": "2023-12-25T21:49:10.511Z"
   },
   {
    "duration": 266,
    "start_time": "2023-12-25T21:49:10.846Z"
   },
   {
    "duration": 136,
    "start_time": "2023-12-25T21:49:11.113Z"
   },
   {
    "duration": 140,
    "start_time": "2023-12-25T21:49:11.250Z"
   },
   {
    "duration": 127,
    "start_time": "2023-12-25T21:49:11.391Z"
   },
   {
    "duration": 129,
    "start_time": "2023-12-25T21:49:11.520Z"
   },
   {
    "duration": 185,
    "start_time": "2023-12-25T21:49:11.651Z"
   },
   {
    "duration": 118,
    "start_time": "2023-12-25T21:49:11.838Z"
   },
   {
    "duration": 13,
    "start_time": "2023-12-25T21:49:11.957Z"
   },
   {
    "duration": 12,
    "start_time": "2023-12-25T21:49:11.972Z"
   },
   {
    "duration": 390,
    "start_time": "2023-12-25T21:49:11.985Z"
   },
   {
    "duration": 64,
    "start_time": "2023-12-25T21:49:12.377Z"
   },
   {
    "duration": 131,
    "start_time": "2023-12-25T21:49:12.442Z"
   },
   {
    "duration": 124,
    "start_time": "2023-12-25T21:49:12.574Z"
   },
   {
    "duration": 6,
    "start_time": "2023-12-25T21:49:12.701Z"
   },
   {
    "duration": 9,
    "start_time": "2023-12-25T21:49:12.708Z"
   },
   {
    "duration": 20,
    "start_time": "2023-12-25T21:49:12.718Z"
   },
   {
    "duration": 8,
    "start_time": "2023-12-25T21:49:12.739Z"
   },
   {
    "duration": 5,
    "start_time": "2023-12-25T21:49:12.749Z"
   },
   {
    "duration": 18,
    "start_time": "2023-12-25T21:49:12.755Z"
   },
   {
    "duration": 16,
    "start_time": "2023-12-25T21:49:12.774Z"
   },
   {
    "duration": 16,
    "start_time": "2023-12-25T21:49:12.790Z"
   },
   {
    "duration": 10,
    "start_time": "2023-12-25T21:49:12.807Z"
   },
   {
    "duration": 17,
    "start_time": "2023-12-25T21:49:12.818Z"
   },
   {
    "duration": 27,
    "start_time": "2023-12-25T21:49:12.836Z"
   },
   {
    "duration": 13,
    "start_time": "2023-12-25T21:49:12.864Z"
   },
   {
    "duration": 9,
    "start_time": "2023-12-25T21:49:12.879Z"
   },
   {
    "duration": 22,
    "start_time": "2023-12-25T21:49:12.889Z"
   },
   {
    "duration": 27,
    "start_time": "2023-12-25T21:49:12.912Z"
   },
   {
    "duration": 10,
    "start_time": "2023-12-25T21:49:12.940Z"
   },
   {
    "duration": 11,
    "start_time": "2023-12-25T21:49:12.951Z"
   },
   {
    "duration": 4,
    "start_time": "2023-12-25T21:49:12.963Z"
   },
   {
    "duration": 15,
    "start_time": "2023-12-25T21:49:12.969Z"
   },
   {
    "duration": 22,
    "start_time": "2023-12-25T21:49:12.985Z"
   },
   {
    "duration": 985,
    "start_time": "2023-12-25T22:37:41.834Z"
   },
   {
    "duration": 58,
    "start_time": "2023-12-25T22:37:42.820Z"
   },
   {
    "duration": 10,
    "start_time": "2023-12-25T22:37:42.880Z"
   },
   {
    "duration": 5,
    "start_time": "2023-12-25T22:37:42.891Z"
   },
   {
    "duration": 5,
    "start_time": "2023-12-25T22:37:42.898Z"
   },
   {
    "duration": 17,
    "start_time": "2023-12-25T22:37:42.904Z"
   },
   {
    "duration": 4,
    "start_time": "2023-12-25T22:37:42.922Z"
   },
   {
    "duration": 8,
    "start_time": "2023-12-25T22:37:42.927Z"
   },
   {
    "duration": 15,
    "start_time": "2023-12-25T22:37:42.936Z"
   },
   {
    "duration": 345,
    "start_time": "2023-12-25T22:37:42.952Z"
   },
   {
    "duration": 266,
    "start_time": "2023-12-25T22:37:43.299Z"
   },
   {
    "duration": 128,
    "start_time": "2023-12-25T22:37:43.567Z"
   },
   {
    "duration": 154,
    "start_time": "2023-12-25T22:37:43.701Z"
   },
   {
    "duration": 124,
    "start_time": "2023-12-25T22:37:43.857Z"
   },
   {
    "duration": 131,
    "start_time": "2023-12-25T22:37:43.982Z"
   },
   {
    "duration": 180,
    "start_time": "2023-12-25T22:37:44.114Z"
   },
   {
    "duration": 113,
    "start_time": "2023-12-25T22:37:44.295Z"
   },
   {
    "duration": 12,
    "start_time": "2023-12-25T22:37:44.409Z"
   },
   {
    "duration": 11,
    "start_time": "2023-12-25T22:37:44.423Z"
   },
   {
    "duration": 390,
    "start_time": "2023-12-25T22:37:44.435Z"
   },
   {
    "duration": 58,
    "start_time": "2023-12-25T22:37:44.827Z"
   },
   {
    "duration": 130,
    "start_time": "2023-12-25T22:37:44.886Z"
   },
   {
    "duration": 117,
    "start_time": "2023-12-25T22:37:45.017Z"
   },
   {
    "duration": 6,
    "start_time": "2023-12-25T22:37:45.135Z"
   },
   {
    "duration": 25,
    "start_time": "2023-12-25T22:37:45.142Z"
   },
   {
    "duration": 17,
    "start_time": "2023-12-25T22:37:45.168Z"
   },
   {
    "duration": 6,
    "start_time": "2023-12-25T22:37:45.186Z"
   },
   {
    "duration": 11,
    "start_time": "2023-12-25T22:37:45.193Z"
   },
   {
    "duration": 21,
    "start_time": "2023-12-25T22:37:45.205Z"
   },
   {
    "duration": 34,
    "start_time": "2023-12-25T22:37:45.227Z"
   },
   {
    "duration": 10,
    "start_time": "2023-12-25T22:37:45.263Z"
   },
   {
    "duration": 10,
    "start_time": "2023-12-25T22:37:45.274Z"
   },
   {
    "duration": 29,
    "start_time": "2023-12-25T22:37:45.285Z"
   },
   {
    "duration": 16,
    "start_time": "2023-12-25T22:37:45.315Z"
   },
   {
    "duration": 14,
    "start_time": "2023-12-25T22:37:45.332Z"
   },
   {
    "duration": 10,
    "start_time": "2023-12-25T22:37:45.347Z"
   },
   {
    "duration": 10,
    "start_time": "2023-12-25T22:37:45.359Z"
   },
   {
    "duration": 10,
    "start_time": "2023-12-25T22:37:45.370Z"
   },
   {
    "duration": 24,
    "start_time": "2023-12-25T22:37:45.381Z"
   },
   {
    "duration": 5,
    "start_time": "2023-12-25T22:37:45.406Z"
   },
   {
    "duration": 4,
    "start_time": "2023-12-25T22:37:45.414Z"
   },
   {
    "duration": 17,
    "start_time": "2023-12-25T22:37:45.419Z"
   },
   {
    "duration": 4,
    "start_time": "2023-12-25T22:37:45.437Z"
   },
   {
    "duration": 1018,
    "start_time": "2023-12-25T22:38:20.402Z"
   },
   {
    "duration": 61,
    "start_time": "2023-12-25T22:38:21.422Z"
   },
   {
    "duration": 11,
    "start_time": "2023-12-25T22:38:21.484Z"
   },
   {
    "duration": 2,
    "start_time": "2023-12-25T22:38:21.497Z"
   },
   {
    "duration": 7,
    "start_time": "2023-12-25T22:38:21.501Z"
   },
   {
    "duration": 16,
    "start_time": "2023-12-25T22:38:21.509Z"
   },
   {
    "duration": 3,
    "start_time": "2023-12-25T22:38:21.527Z"
   },
   {
    "duration": 8,
    "start_time": "2023-12-25T22:38:21.531Z"
   },
   {
    "duration": 16,
    "start_time": "2023-12-25T22:38:21.540Z"
   },
   {
    "duration": 351,
    "start_time": "2023-12-25T22:38:21.557Z"
   },
   {
    "duration": 266,
    "start_time": "2023-12-25T22:38:21.909Z"
   },
   {
    "duration": 132,
    "start_time": "2023-12-25T22:38:22.177Z"
   },
   {
    "duration": 137,
    "start_time": "2023-12-25T22:38:22.310Z"
   },
   {
    "duration": 126,
    "start_time": "2023-12-25T22:38:22.449Z"
   },
   {
    "duration": 132,
    "start_time": "2023-12-25T22:38:22.576Z"
   },
   {
    "duration": 178,
    "start_time": "2023-12-25T22:38:22.709Z"
   },
   {
    "duration": 119,
    "start_time": "2023-12-25T22:38:22.888Z"
   },
   {
    "duration": 12,
    "start_time": "2023-12-25T22:38:23.008Z"
   },
   {
    "duration": 11,
    "start_time": "2023-12-25T22:38:23.021Z"
   },
   {
    "duration": 384,
    "start_time": "2023-12-25T22:38:23.033Z"
   },
   {
    "duration": 57,
    "start_time": "2023-12-25T22:38:23.418Z"
   },
   {
    "duration": 118,
    "start_time": "2023-12-25T22:38:23.476Z"
   },
   {
    "duration": 116,
    "start_time": "2023-12-25T22:38:23.596Z"
   },
   {
    "duration": 5,
    "start_time": "2023-12-25T22:38:23.714Z"
   },
   {
    "duration": 4,
    "start_time": "2023-12-25T22:38:23.720Z"
   },
   {
    "duration": 5,
    "start_time": "2023-12-25T22:38:23.725Z"
   },
   {
    "duration": 3,
    "start_time": "2023-12-25T22:38:23.731Z"
   },
   {
    "duration": 5,
    "start_time": "2023-12-25T22:38:23.735Z"
   },
   {
    "duration": 4,
    "start_time": "2023-12-25T22:38:23.741Z"
   },
   {
    "duration": 30,
    "start_time": "2023-12-25T22:38:23.746Z"
   },
   {
    "duration": 25,
    "start_time": "2023-12-25T22:38:23.777Z"
   },
   {
    "duration": 10,
    "start_time": "2023-12-25T22:38:23.803Z"
   },
   {
    "duration": 10,
    "start_time": "2023-12-25T22:38:23.814Z"
   },
   {
    "duration": 10,
    "start_time": "2023-12-25T22:38:23.825Z"
   },
   {
    "duration": 10,
    "start_time": "2023-12-25T22:38:23.836Z"
   },
   {
    "duration": 9,
    "start_time": "2023-12-25T22:38:23.847Z"
   },
   {
    "duration": 11,
    "start_time": "2023-12-25T22:38:23.857Z"
   },
   {
    "duration": 41,
    "start_time": "2023-12-25T22:38:23.869Z"
   },
   {
    "duration": 10,
    "start_time": "2023-12-25T22:38:23.911Z"
   },
   {
    "duration": 7,
    "start_time": "2023-12-25T22:38:23.922Z"
   },
   {
    "duration": 11,
    "start_time": "2023-12-25T22:38:23.932Z"
   },
   {
    "duration": 8,
    "start_time": "2023-12-25T22:38:23.944Z"
   },
   {
    "duration": 4,
    "start_time": "2023-12-25T22:38:23.953Z"
   },
   {
    "duration": 63,
    "start_time": "2023-12-25T22:40:49.887Z"
   },
   {
    "duration": 19,
    "start_time": "2023-12-25T22:48:39.874Z"
   },
   {
    "duration": 9,
    "start_time": "2023-12-25T23:04:10.260Z"
   },
   {
    "duration": 46,
    "start_time": "2023-12-26T05:55:06.923Z"
   },
   {
    "duration": 1331,
    "start_time": "2023-12-26T05:55:16.201Z"
   },
   {
    "duration": 110,
    "start_time": "2023-12-26T05:55:17.534Z"
   },
   {
    "duration": 14,
    "start_time": "2023-12-26T05:55:17.646Z"
   },
   {
    "duration": 16,
    "start_time": "2023-12-26T05:55:17.661Z"
   },
   {
    "duration": 3,
    "start_time": "2023-12-26T05:55:17.678Z"
   },
   {
    "duration": 11,
    "start_time": "2023-12-26T05:55:17.682Z"
   },
   {
    "duration": 27,
    "start_time": "2023-12-26T05:55:17.694Z"
   },
   {
    "duration": 3,
    "start_time": "2023-12-26T05:55:17.723Z"
   },
   {
    "duration": 9,
    "start_time": "2023-12-26T05:55:17.728Z"
   },
   {
    "duration": 19,
    "start_time": "2023-12-26T05:55:17.740Z"
   },
   {
    "duration": 102,
    "start_time": "2023-12-26T05:55:17.761Z"
   },
   {
    "duration": 427,
    "start_time": "2023-12-26T05:55:17.864Z"
   },
   {
    "duration": 328,
    "start_time": "2023-12-26T05:55:18.293Z"
   },
   {
    "duration": 162,
    "start_time": "2023-12-26T05:55:18.623Z"
   },
   {
    "duration": 184,
    "start_time": "2023-12-26T05:55:18.786Z"
   },
   {
    "duration": 151,
    "start_time": "2023-12-26T05:55:18.972Z"
   },
   {
    "duration": 172,
    "start_time": "2023-12-26T05:55:19.124Z"
   },
   {
    "duration": 233,
    "start_time": "2023-12-26T05:55:19.298Z"
   },
   {
    "duration": 143,
    "start_time": "2023-12-26T05:55:19.533Z"
   },
   {
    "duration": 24,
    "start_time": "2023-12-26T05:55:19.677Z"
   },
   {
    "duration": 16,
    "start_time": "2023-12-26T05:55:19.714Z"
   },
   {
    "duration": 14,
    "start_time": "2023-12-26T05:55:19.731Z"
   },
   {
    "duration": 486,
    "start_time": "2023-12-26T05:55:19.747Z"
   },
   {
    "duration": 80,
    "start_time": "2023-12-26T05:55:20.235Z"
   },
   {
    "duration": 136,
    "start_time": "2023-12-26T05:55:20.317Z"
   },
   {
    "duration": 139,
    "start_time": "2023-12-26T05:55:20.455Z"
   },
   {
    "duration": 7,
    "start_time": "2023-12-26T05:55:20.596Z"
   },
   {
    "duration": 16,
    "start_time": "2023-12-26T05:55:20.606Z"
   },
   {
    "duration": 8,
    "start_time": "2023-12-26T05:55:20.624Z"
   },
   {
    "duration": 8,
    "start_time": "2023-12-26T05:55:20.634Z"
   },
   {
    "duration": 15,
    "start_time": "2023-12-26T05:55:20.644Z"
   },
   {
    "duration": 9,
    "start_time": "2023-12-26T05:55:20.660Z"
   },
   {
    "duration": 15,
    "start_time": "2023-12-26T05:55:20.670Z"
   },
   {
    "duration": 29,
    "start_time": "2023-12-26T05:55:20.687Z"
   },
   {
    "duration": 13,
    "start_time": "2023-12-26T05:55:20.718Z"
   },
   {
    "duration": 12,
    "start_time": "2023-12-26T05:55:20.732Z"
   },
   {
    "duration": 12,
    "start_time": "2023-12-26T05:55:20.746Z"
   },
   {
    "duration": 14,
    "start_time": "2023-12-26T05:55:20.759Z"
   },
   {
    "duration": 40,
    "start_time": "2023-12-26T05:55:20.774Z"
   },
   {
    "duration": 13,
    "start_time": "2023-12-26T05:55:20.816Z"
   },
   {
    "duration": 14,
    "start_time": "2023-12-26T05:55:20.831Z"
   },
   {
    "duration": 11,
    "start_time": "2023-12-26T05:55:20.847Z"
   },
   {
    "duration": 11,
    "start_time": "2023-12-26T05:55:20.860Z"
   },
   {
    "duration": 8,
    "start_time": "2023-12-26T05:55:20.873Z"
   },
   {
    "duration": 5,
    "start_time": "2023-12-26T05:55:20.882Z"
   },
   {
    "duration": 33,
    "start_time": "2023-12-26T05:55:20.888Z"
   },
   {
    "duration": 14,
    "start_time": "2023-12-26T05:55:20.922Z"
   },
   {
    "duration": 1540,
    "start_time": "2023-12-26T06:00:06.075Z"
   },
   {
    "duration": 12,
    "start_time": "2023-12-26T06:01:19.153Z"
   },
   {
    "duration": 10,
    "start_time": "2023-12-26T06:01:45.927Z"
   },
   {
    "duration": 6,
    "start_time": "2023-12-26T06:04:43.420Z"
   },
   {
    "duration": 5,
    "start_time": "2023-12-26T06:05:22.339Z"
   },
   {
    "duration": 7,
    "start_time": "2023-12-26T06:06:36.369Z"
   },
   {
    "duration": 1152,
    "start_time": "2023-12-26T06:15:38.267Z"
   },
   {
    "duration": 5,
    "start_time": "2023-12-26T06:16:00.972Z"
   },
   {
    "duration": 6,
    "start_time": "2023-12-26T06:18:13.134Z"
   },
   {
    "duration": 91,
    "start_time": "2023-12-26T06:20:04.086Z"
   },
   {
    "duration": 64,
    "start_time": "2023-12-26T06:20:21.913Z"
   },
   {
    "duration": 121,
    "start_time": "2023-12-26T06:20:30.302Z"
   },
   {
    "duration": 11,
    "start_time": "2023-12-26T06:20:38.288Z"
   },
   {
    "duration": 22,
    "start_time": "2023-12-26T06:22:10.965Z"
   },
   {
    "duration": 26,
    "start_time": "2023-12-26T06:23:29.611Z"
   },
   {
    "duration": 5,
    "start_time": "2023-12-26T06:30:47.497Z"
   },
   {
    "duration": 6,
    "start_time": "2023-12-26T06:31:25.016Z"
   },
   {
    "duration": 9,
    "start_time": "2023-12-26T06:31:56.222Z"
   },
   {
    "duration": 311,
    "start_time": "2023-12-26T06:36:44.095Z"
   },
   {
    "duration": 150,
    "start_time": "2023-12-26T06:36:57.427Z"
   },
   {
    "duration": 257,
    "start_time": "2023-12-26T06:37:08.162Z"
   },
   {
    "duration": 124,
    "start_time": "2023-12-26T06:37:45.785Z"
   },
   {
    "duration": 143,
    "start_time": "2023-12-26T06:37:50.177Z"
   },
   {
    "duration": 126,
    "start_time": "2023-12-26T06:37:56.513Z"
   },
   {
    "duration": 163,
    "start_time": "2023-12-26T06:38:35.682Z"
   },
   {
    "duration": 143,
    "start_time": "2023-12-26T06:38:49.751Z"
   },
   {
    "duration": 124,
    "start_time": "2023-12-26T06:38:54.142Z"
   },
   {
    "duration": 126,
    "start_time": "2023-12-26T06:39:07.700Z"
   },
   {
    "duration": 137,
    "start_time": "2023-12-26T06:39:21.907Z"
   },
   {
    "duration": 124,
    "start_time": "2023-12-26T06:39:37.106Z"
   },
   {
    "duration": 24,
    "start_time": "2023-12-26T06:40:43.152Z"
   },
   {
    "duration": 325,
    "start_time": "2023-12-26T06:46:33.475Z"
   },
   {
    "duration": 273,
    "start_time": "2023-12-26T06:50:39.235Z"
   },
   {
    "duration": 135,
    "start_time": "2023-12-26T06:53:56.312Z"
   },
   {
    "duration": 247,
    "start_time": "2023-12-26T06:54:59.174Z"
   },
   {
    "duration": 262,
    "start_time": "2023-12-26T06:55:13.856Z"
   },
   {
    "duration": 35,
    "start_time": "2023-12-26T06:55:54.269Z"
   },
   {
    "duration": 35,
    "start_time": "2023-12-26T06:56:43.128Z"
   },
   {
    "duration": 130,
    "start_time": "2023-12-26T06:59:08.751Z"
   },
   {
    "duration": 126,
    "start_time": "2023-12-26T06:59:53.316Z"
   },
   {
    "duration": 123,
    "start_time": "2023-12-26T07:01:44.995Z"
   },
   {
    "duration": 133,
    "start_time": "2023-12-26T07:01:56.923Z"
   },
   {
    "duration": 128,
    "start_time": "2023-12-26T07:02:05.506Z"
   },
   {
    "duration": 225,
    "start_time": "2023-12-26T07:02:52.809Z"
   },
   {
    "duration": 7,
    "start_time": "2023-12-26T07:03:13.468Z"
   },
   {
    "duration": 6,
    "start_time": "2023-12-26T07:03:43.582Z"
   },
   {
    "duration": 4,
    "start_time": "2023-12-26T07:03:44.664Z"
   },
   {
    "duration": 6,
    "start_time": "2023-12-26T07:03:48.071Z"
   },
   {
    "duration": 6,
    "start_time": "2023-12-26T07:06:19.069Z"
   },
   {
    "duration": 4,
    "start_time": "2023-12-26T07:06:20.250Z"
   },
   {
    "duration": 146,
    "start_time": "2023-12-26T07:10:48.382Z"
   },
   {
    "duration": 132,
    "start_time": "2023-12-26T07:11:26.964Z"
   },
   {
    "duration": 145,
    "start_time": "2023-12-26T07:12:20.709Z"
   },
   {
    "duration": 156,
    "start_time": "2023-12-26T07:12:22.948Z"
   },
   {
    "duration": 15,
    "start_time": "2023-12-26T07:12:41.807Z"
   },
   {
    "duration": 20,
    "start_time": "2023-12-26T07:13:25.977Z"
   },
   {
    "duration": 14,
    "start_time": "2023-12-26T07:13:48.524Z"
   },
   {
    "duration": 1236,
    "start_time": "2023-12-26T19:23:33.128Z"
   },
   {
    "duration": 105,
    "start_time": "2023-12-26T19:23:34.366Z"
   },
   {
    "duration": 13,
    "start_time": "2023-12-26T19:23:34.473Z"
   },
   {
    "duration": 4,
    "start_time": "2023-12-26T19:23:34.488Z"
   },
   {
    "duration": 17,
    "start_time": "2023-12-26T19:23:34.493Z"
   },
   {
    "duration": 5,
    "start_time": "2023-12-26T19:23:34.512Z"
   },
   {
    "duration": 19,
    "start_time": "2023-12-26T19:23:34.518Z"
   },
   {
    "duration": 14,
    "start_time": "2023-12-26T19:23:34.539Z"
   },
   {
    "duration": 13,
    "start_time": "2023-12-26T19:23:34.555Z"
   },
   {
    "duration": 18,
    "start_time": "2023-12-26T19:23:34.570Z"
   },
   {
    "duration": 11,
    "start_time": "2023-12-26T19:23:34.589Z"
   },
   {
    "duration": 11,
    "start_time": "2023-12-26T19:23:34.601Z"
   },
   {
    "duration": 25,
    "start_time": "2023-12-26T19:23:34.613Z"
   },
   {
    "duration": 86,
    "start_time": "2023-12-26T19:23:34.640Z"
   },
   {
    "duration": 7,
    "start_time": "2023-12-26T19:23:34.727Z"
   },
   {
    "duration": 38,
    "start_time": "2023-12-26T19:23:34.735Z"
   },
   {
    "duration": 20,
    "start_time": "2023-12-26T19:23:34.774Z"
   },
   {
    "duration": 6,
    "start_time": "2023-12-26T19:23:34.795Z"
   },
   {
    "duration": 16,
    "start_time": "2023-12-26T19:23:34.802Z"
   },
   {
    "duration": 385,
    "start_time": "2023-12-26T19:23:34.820Z"
   },
   {
    "duration": 296,
    "start_time": "2023-12-26T19:23:35.206Z"
   },
   {
    "duration": 124,
    "start_time": "2023-12-26T19:23:35.504Z"
   },
   {
    "duration": 157,
    "start_time": "2023-12-26T19:23:35.629Z"
   },
   {
    "duration": 136,
    "start_time": "2023-12-26T19:23:35.787Z"
   },
   {
    "duration": 136,
    "start_time": "2023-12-26T19:23:35.924Z"
   },
   {
    "duration": 212,
    "start_time": "2023-12-26T19:23:36.062Z"
   },
   {
    "duration": 118,
    "start_time": "2023-12-26T19:23:36.276Z"
   },
   {
    "duration": 22,
    "start_time": "2023-12-26T19:23:36.397Z"
   },
   {
    "duration": 20,
    "start_time": "2023-12-26T19:23:36.420Z"
   },
   {
    "duration": 33,
    "start_time": "2023-12-26T19:23:36.441Z"
   },
   {
    "duration": 14,
    "start_time": "2023-12-26T19:23:36.475Z"
   },
   {
    "duration": 252,
    "start_time": "2023-12-26T19:23:36.490Z"
   },
   {
    "duration": 275,
    "start_time": "2023-12-26T19:23:36.743Z"
   },
   {
    "duration": 42,
    "start_time": "2023-12-26T19:23:37.019Z"
   },
   {
    "duration": 121,
    "start_time": "2023-12-26T19:23:37.065Z"
   },
   {
    "duration": 125,
    "start_time": "2023-12-26T19:23:37.187Z"
   },
   {
    "duration": 6,
    "start_time": "2023-12-26T19:23:37.313Z"
   },
   {
    "duration": 11,
    "start_time": "2023-12-26T19:23:37.320Z"
   },
   {
    "duration": 6,
    "start_time": "2023-12-26T19:23:37.332Z"
   },
   {
    "duration": 4,
    "start_time": "2023-12-26T19:23:37.339Z"
   },
   {
    "duration": 142,
    "start_time": "2023-12-26T19:23:37.364Z"
   },
   {
    "duration": 140,
    "start_time": "2023-12-26T19:23:37.508Z"
   },
   {
    "duration": 15,
    "start_time": "2023-12-26T19:23:37.650Z"
   },
   {
    "duration": 8,
    "start_time": "2023-12-26T19:23:37.666Z"
   },
   {
    "duration": 185,
    "start_time": "2023-12-26T19:23:37.675Z"
   },
   {
    "duration": 219,
    "start_time": "2023-12-26T19:23:37.861Z"
   },
   {
    "duration": 15,
    "start_time": "2023-12-26T19:23:38.081Z"
   },
   {
    "duration": 24,
    "start_time": "2023-12-26T19:23:38.098Z"
   },
   {
    "duration": 17,
    "start_time": "2023-12-26T19:23:38.123Z"
   },
   {
    "duration": 30,
    "start_time": "2023-12-26T19:23:38.141Z"
   },
   {
    "duration": 17,
    "start_time": "2023-12-26T19:23:38.173Z"
   },
   {
    "duration": 12,
    "start_time": "2023-12-26T19:23:38.191Z"
   },
   {
    "duration": 12,
    "start_time": "2023-12-26T19:23:38.204Z"
   },
   {
    "duration": 12,
    "start_time": "2023-12-26T19:23:38.217Z"
   },
   {
    "duration": 36,
    "start_time": "2023-12-26T19:23:38.230Z"
   },
   {
    "duration": 13,
    "start_time": "2023-12-26T19:23:38.267Z"
   },
   {
    "duration": 7,
    "start_time": "2023-12-26T19:23:38.281Z"
   },
   {
    "duration": 13,
    "start_time": "2023-12-26T19:23:38.289Z"
   },
   {
    "duration": 13,
    "start_time": "2023-12-26T19:23:38.304Z"
   },
   {
    "duration": 17,
    "start_time": "2023-12-26T19:23:38.319Z"
   },
   {
    "duration": 8,
    "start_time": "2023-12-26T19:23:38.337Z"
   },
   {
    "duration": 7,
    "start_time": "2023-12-26T19:26:12.491Z"
   },
   {
    "duration": 15,
    "start_time": "2023-12-26T19:27:27.305Z"
   },
   {
    "duration": 14,
    "start_time": "2023-12-26T19:28:36.709Z"
   },
   {
    "duration": 15,
    "start_time": "2023-12-26T19:29:10.480Z"
   },
   {
    "duration": 117,
    "start_time": "2023-12-26T19:30:37.137Z"
   },
   {
    "duration": 18,
    "start_time": "2023-12-26T19:30:50.426Z"
   },
   {
    "duration": 1216,
    "start_time": "2023-12-26T19:32:37.786Z"
   },
   {
    "duration": 155,
    "start_time": "2023-12-26T19:32:46.201Z"
   },
   {
    "duration": 265,
    "start_time": "2023-12-26T19:35:35.312Z"
   },
   {
    "duration": 293,
    "start_time": "2023-12-26T19:35:58.684Z"
   },
   {
    "duration": 14,
    "start_time": "2023-12-26T19:37:03.194Z"
   },
   {
    "duration": 13,
    "start_time": "2023-12-26T19:37:13.550Z"
   },
   {
    "duration": 12,
    "start_time": "2023-12-26T19:37:23.118Z"
   },
   {
    "duration": 17,
    "start_time": "2023-12-26T19:37:40.843Z"
   },
   {
    "duration": 13,
    "start_time": "2023-12-26T19:37:53.001Z"
   },
   {
    "duration": 15,
    "start_time": "2023-12-26T19:38:04.569Z"
   },
   {
    "duration": 14,
    "start_time": "2023-12-26T19:38:25.184Z"
   },
   {
    "duration": 1128,
    "start_time": "2023-12-26T19:41:41.629Z"
   },
   {
    "duration": 65,
    "start_time": "2023-12-26T19:41:42.759Z"
   },
   {
    "duration": 15,
    "start_time": "2023-12-26T19:41:42.826Z"
   },
   {
    "duration": 60,
    "start_time": "2023-12-26T19:41:42.843Z"
   },
   {
    "duration": 36,
    "start_time": "2023-12-26T19:41:42.906Z"
   },
   {
    "duration": 14,
    "start_time": "2023-12-26T19:41:42.943Z"
   },
   {
    "duration": 10,
    "start_time": "2023-12-26T19:41:42.959Z"
   },
   {
    "duration": 8,
    "start_time": "2023-12-26T19:41:42.970Z"
   },
   {
    "duration": 13,
    "start_time": "2023-12-26T19:41:42.979Z"
   },
   {
    "duration": 39,
    "start_time": "2023-12-26T19:41:42.993Z"
   },
   {
    "duration": 11,
    "start_time": "2023-12-26T19:41:43.034Z"
   },
   {
    "duration": 11,
    "start_time": "2023-12-26T19:41:43.047Z"
   },
   {
    "duration": 23,
    "start_time": "2023-12-26T19:41:43.060Z"
   },
   {
    "duration": 92,
    "start_time": "2023-12-26T19:41:43.086Z"
   },
   {
    "duration": 7,
    "start_time": "2023-12-26T19:41:43.180Z"
   },
   {
    "duration": 24,
    "start_time": "2023-12-26T19:41:43.189Z"
   },
   {
    "duration": 23,
    "start_time": "2023-12-26T19:41:43.215Z"
   },
   {
    "duration": 7,
    "start_time": "2023-12-26T19:41:43.266Z"
   },
   {
    "duration": 12,
    "start_time": "2023-12-26T19:41:43.275Z"
   },
   {
    "duration": 401,
    "start_time": "2023-12-26T19:41:43.288Z"
   },
   {
    "duration": 326,
    "start_time": "2023-12-26T19:41:43.691Z"
   },
   {
    "duration": 129,
    "start_time": "2023-12-26T19:41:44.019Z"
   },
   {
    "duration": 143,
    "start_time": "2023-12-26T19:41:44.149Z"
   },
   {
    "duration": 144,
    "start_time": "2023-12-26T19:41:44.294Z"
   },
   {
    "duration": 147,
    "start_time": "2023-12-26T19:41:44.440Z"
   },
   {
    "duration": 209,
    "start_time": "2023-12-26T19:41:44.589Z"
   },
   {
    "duration": 124,
    "start_time": "2023-12-26T19:41:44.800Z"
   },
   {
    "duration": 23,
    "start_time": "2023-12-26T19:41:44.925Z"
   },
   {
    "duration": 34,
    "start_time": "2023-12-26T19:41:44.950Z"
   },
   {
    "duration": 13,
    "start_time": "2023-12-26T19:41:44.986Z"
   },
   {
    "duration": 14,
    "start_time": "2023-12-26T19:41:45.001Z"
   },
   {
    "duration": 268,
    "start_time": "2023-12-26T19:41:45.017Z"
   },
   {
    "duration": 267,
    "start_time": "2023-12-26T19:41:45.287Z"
   },
   {
    "duration": 40,
    "start_time": "2023-12-26T19:41:45.556Z"
   },
   {
    "duration": 134,
    "start_time": "2023-12-26T19:41:45.598Z"
   },
   {
    "duration": 137,
    "start_time": "2023-12-26T19:41:45.734Z"
   },
   {
    "duration": 7,
    "start_time": "2023-12-26T19:41:45.872Z"
   },
   {
    "duration": 7,
    "start_time": "2023-12-26T19:41:45.880Z"
   },
   {
    "duration": 5,
    "start_time": "2023-12-26T19:41:45.889Z"
   },
   {
    "duration": 4,
    "start_time": "2023-12-26T19:41:45.896Z"
   },
   {
    "duration": 176,
    "start_time": "2023-12-26T19:41:45.904Z"
   },
   {
    "duration": 142,
    "start_time": "2023-12-26T19:41:46.081Z"
   },
   {
    "duration": 7,
    "start_time": "2023-12-26T19:41:46.225Z"
   },
   {
    "duration": 6,
    "start_time": "2023-12-26T19:41:46.233Z"
   },
   {
    "duration": 166,
    "start_time": "2023-12-26T19:41:46.240Z"
   },
   {
    "duration": 249,
    "start_time": "2023-12-26T19:41:46.407Z"
   },
   {
    "duration": 19,
    "start_time": "2023-12-26T19:41:46.657Z"
   },
   {
    "duration": 15,
    "start_time": "2023-12-26T19:41:46.677Z"
   },
   {
    "duration": 275,
    "start_time": "2023-12-26T19:41:46.694Z"
   },
   {
    "duration": 14,
    "start_time": "2023-12-26T19:41:46.971Z"
   },
   {
    "duration": 27,
    "start_time": "2023-12-26T19:41:46.987Z"
   },
   {
    "duration": 26,
    "start_time": "2023-12-26T19:41:47.016Z"
   },
   {
    "duration": 28,
    "start_time": "2023-12-26T19:41:47.043Z"
   },
   {
    "duration": 14,
    "start_time": "2023-12-26T19:41:47.072Z"
   },
   {
    "duration": 13,
    "start_time": "2023-12-26T19:41:47.088Z"
   },
   {
    "duration": 13,
    "start_time": "2023-12-26T19:41:47.102Z"
   },
   {
    "duration": 18,
    "start_time": "2023-12-26T19:41:47.116Z"
   },
   {
    "duration": 45,
    "start_time": "2023-12-26T19:41:47.135Z"
   },
   {
    "duration": 8,
    "start_time": "2023-12-26T19:41:47.182Z"
   },
   {
    "duration": 7,
    "start_time": "2023-12-26T19:41:47.192Z"
   },
   {
    "duration": 23,
    "start_time": "2023-12-26T19:41:47.201Z"
   },
   {
    "duration": 20,
    "start_time": "2023-12-26T19:41:47.225Z"
   },
   {
    "duration": 6,
    "start_time": "2023-12-26T19:41:47.246Z"
   },
   {
    "duration": 1207,
    "start_time": "2023-12-26T19:43:28.224Z"
   },
   {
    "duration": 307,
    "start_time": "2023-12-26T19:44:00.011Z"
   },
   {
    "duration": 12,
    "start_time": "2023-12-26T19:44:36.282Z"
   },
   {
    "duration": 12,
    "start_time": "2023-12-26T19:44:46.146Z"
   },
   {
    "duration": 13,
    "start_time": "2023-12-26T19:44:56.872Z"
   },
   {
    "duration": 6,
    "start_time": "2023-12-26T19:46:20.640Z"
   },
   {
    "duration": 6,
    "start_time": "2023-12-26T19:47:39.803Z"
   },
   {
    "duration": 5,
    "start_time": "2023-12-26T19:47:43.022Z"
   },
   {
    "duration": 152,
    "start_time": "2023-12-26T20:06:03.341Z"
   },
   {
    "duration": 137,
    "start_time": "2023-12-26T20:06:31.129Z"
   },
   {
    "duration": 155,
    "start_time": "2023-12-26T20:06:54.196Z"
   },
   {
    "duration": 136,
    "start_time": "2023-12-26T20:07:28.278Z"
   },
   {
    "duration": 1080,
    "start_time": "2023-12-27T15:00:19.208Z"
   },
   {
    "duration": 65,
    "start_time": "2023-12-27T15:00:20.290Z"
   },
   {
    "duration": 13,
    "start_time": "2023-12-27T15:00:20.356Z"
   },
   {
    "duration": 15,
    "start_time": "2023-12-27T15:00:20.370Z"
   },
   {
    "duration": 19,
    "start_time": "2023-12-27T15:00:20.386Z"
   },
   {
    "duration": 5,
    "start_time": "2023-12-27T15:00:20.406Z"
   },
   {
    "duration": 7,
    "start_time": "2023-12-27T15:00:20.413Z"
   },
   {
    "duration": 4,
    "start_time": "2023-12-27T15:00:20.421Z"
   },
   {
    "duration": 4,
    "start_time": "2023-12-27T15:00:20.427Z"
   },
   {
    "duration": 21,
    "start_time": "2023-12-27T15:00:20.433Z"
   },
   {
    "duration": 4,
    "start_time": "2023-12-27T15:00:20.455Z"
   },
   {
    "duration": 12,
    "start_time": "2023-12-27T15:00:20.460Z"
   },
   {
    "duration": 40,
    "start_time": "2023-12-27T15:00:20.473Z"
   },
   {
    "duration": 85,
    "start_time": "2023-12-27T15:00:20.514Z"
   },
   {
    "duration": 6,
    "start_time": "2023-12-27T15:00:20.600Z"
   },
   {
    "duration": 26,
    "start_time": "2023-12-27T15:00:20.608Z"
   },
   {
    "duration": 19,
    "start_time": "2023-12-27T15:00:20.635Z"
   },
   {
    "duration": 6,
    "start_time": "2023-12-27T15:00:20.655Z"
   },
   {
    "duration": 8,
    "start_time": "2023-12-27T15:00:20.662Z"
   },
   {
    "duration": 394,
    "start_time": "2023-12-27T15:00:20.671Z"
   },
   {
    "duration": 298,
    "start_time": "2023-12-27T15:00:21.066Z"
   },
   {
    "duration": 119,
    "start_time": "2023-12-27T15:00:21.365Z"
   },
   {
    "duration": 128,
    "start_time": "2023-12-27T15:00:21.486Z"
   },
   {
    "duration": 119,
    "start_time": "2023-12-27T15:00:21.615Z"
   },
   {
    "duration": 120,
    "start_time": "2023-12-27T15:00:21.735Z"
   },
   {
    "duration": 190,
    "start_time": "2023-12-27T15:00:21.856Z"
   },
   {
    "duration": 119,
    "start_time": "2023-12-27T15:00:22.048Z"
   },
   {
    "duration": 28,
    "start_time": "2023-12-27T15:00:22.171Z"
   },
   {
    "duration": 20,
    "start_time": "2023-12-27T15:00:22.201Z"
   },
   {
    "duration": 14,
    "start_time": "2023-12-27T15:00:22.222Z"
   },
   {
    "duration": 22,
    "start_time": "2023-12-27T15:00:22.237Z"
   },
   {
    "duration": 232,
    "start_time": "2023-12-27T15:00:22.260Z"
   },
   {
    "duration": 242,
    "start_time": "2023-12-27T15:00:22.498Z"
   },
   {
    "duration": 34,
    "start_time": "2023-12-27T15:00:22.742Z"
   },
   {
    "duration": 161,
    "start_time": "2023-12-27T15:00:22.778Z"
   },
   {
    "duration": 169,
    "start_time": "2023-12-27T15:00:22.941Z"
   },
   {
    "duration": 6,
    "start_time": "2023-12-27T15:00:23.111Z"
   },
   {
    "duration": 31,
    "start_time": "2023-12-27T15:00:23.118Z"
   },
   {
    "duration": 29,
    "start_time": "2023-12-27T15:00:23.151Z"
   },
   {
    "duration": 21,
    "start_time": "2023-12-27T15:00:23.181Z"
   },
   {
    "duration": 175,
    "start_time": "2023-12-27T15:00:23.203Z"
   },
   {
    "duration": 138,
    "start_time": "2023-12-27T15:00:23.379Z"
   },
   {
    "duration": 7,
    "start_time": "2023-12-27T15:00:23.518Z"
   },
   {
    "duration": 29,
    "start_time": "2023-12-27T15:00:23.526Z"
   },
   {
    "duration": 160,
    "start_time": "2023-12-27T15:00:23.556Z"
   },
   {
    "duration": 206,
    "start_time": "2023-12-27T15:00:23.717Z"
   },
   {
    "duration": 14,
    "start_time": "2023-12-27T15:00:23.924Z"
   },
   {
    "duration": 38,
    "start_time": "2023-12-27T15:00:23.940Z"
   },
   {
    "duration": 261,
    "start_time": "2023-12-27T15:00:23.980Z"
   },
   {
    "duration": 11,
    "start_time": "2023-12-27T15:00:24.243Z"
   },
   {
    "duration": 39,
    "start_time": "2023-12-27T15:00:24.256Z"
   },
   {
    "duration": 47,
    "start_time": "2023-12-27T15:00:24.296Z"
   },
   {
    "duration": 45,
    "start_time": "2023-12-27T15:00:24.344Z"
   },
   {
    "duration": 39,
    "start_time": "2023-12-27T15:00:24.390Z"
   },
   {
    "duration": 54,
    "start_time": "2023-12-27T15:00:24.431Z"
   },
   {
    "duration": 53,
    "start_time": "2023-12-27T15:00:24.486Z"
   },
   {
    "duration": 53,
    "start_time": "2023-12-27T15:00:24.540Z"
   },
   {
    "duration": 49,
    "start_time": "2023-12-27T15:00:24.594Z"
   },
   {
    "duration": 60,
    "start_time": "2023-12-27T15:00:24.644Z"
   },
   {
    "duration": 38,
    "start_time": "2023-12-27T15:00:24.705Z"
   },
   {
    "duration": 51,
    "start_time": "2023-12-27T15:00:24.745Z"
   },
   {
    "duration": 39,
    "start_time": "2023-12-27T15:00:24.797Z"
   },
   {
    "duration": 44,
    "start_time": "2023-12-27T15:00:24.837Z"
   },
   {
    "duration": 499,
    "start_time": "2023-12-27T15:17:39.281Z"
   },
   {
    "duration": 490,
    "start_time": "2023-12-27T15:18:10.026Z"
   },
   {
    "duration": 73,
    "start_time": "2023-12-27T15:22:49.855Z"
   },
   {
    "duration": 1447,
    "start_time": "2023-12-27T20:28:09.723Z"
   },
   {
    "duration": 217,
    "start_time": "2023-12-27T20:28:11.172Z"
   },
   {
    "duration": 26,
    "start_time": "2023-12-27T20:28:11.390Z"
   },
   {
    "duration": 17,
    "start_time": "2023-12-27T20:28:11.419Z"
   },
   {
    "duration": 44,
    "start_time": "2023-12-27T20:28:11.438Z"
   },
   {
    "duration": 7,
    "start_time": "2023-12-27T20:28:11.484Z"
   },
   {
    "duration": 25,
    "start_time": "2023-12-27T20:28:11.492Z"
   },
   {
    "duration": 10,
    "start_time": "2023-12-27T20:28:11.519Z"
   },
   {
    "duration": 9,
    "start_time": "2023-12-27T20:28:11.531Z"
   },
   {
    "duration": 24,
    "start_time": "2023-12-27T20:28:11.542Z"
   },
   {
    "duration": 4,
    "start_time": "2023-12-27T20:28:11.567Z"
   },
   {
    "duration": 15,
    "start_time": "2023-12-27T20:28:11.573Z"
   },
   {
    "duration": 43,
    "start_time": "2023-12-27T20:28:11.591Z"
   },
   {
    "duration": 99,
    "start_time": "2023-12-27T20:28:11.635Z"
   },
   {
    "duration": 7,
    "start_time": "2023-12-27T20:28:11.735Z"
   },
   {
    "duration": 23,
    "start_time": "2023-12-27T20:28:11.744Z"
   },
   {
    "duration": 47,
    "start_time": "2023-12-27T20:28:11.768Z"
   },
   {
    "duration": 8,
    "start_time": "2023-12-27T20:28:11.816Z"
   },
   {
    "duration": 18,
    "start_time": "2023-12-27T20:28:11.826Z"
   },
   {
    "duration": 102,
    "start_time": "2023-12-27T20:28:11.845Z"
   },
   {
    "duration": 498,
    "start_time": "2023-12-27T20:28:11.949Z"
   },
   {
    "duration": 375,
    "start_time": "2023-12-27T20:28:12.448Z"
   },
   {
    "duration": 154,
    "start_time": "2023-12-27T20:28:12.825Z"
   },
   {
    "duration": 170,
    "start_time": "2023-12-27T20:28:12.981Z"
   },
   {
    "duration": 167,
    "start_time": "2023-12-27T20:28:13.153Z"
   },
   {
    "duration": 168,
    "start_time": "2023-12-27T20:28:13.322Z"
   },
   {
    "duration": 257,
    "start_time": "2023-12-27T20:28:13.492Z"
   },
   {
    "duration": 170,
    "start_time": "2023-12-27T20:28:13.755Z"
   },
   {
    "duration": 28,
    "start_time": "2023-12-27T20:28:13.926Z"
   },
   {
    "duration": 26,
    "start_time": "2023-12-27T20:28:13.956Z"
   },
   {
    "duration": 37,
    "start_time": "2023-12-27T20:28:13.984Z"
   },
   {
    "duration": 18,
    "start_time": "2023-12-27T20:28:14.023Z"
   },
   {
    "duration": 324,
    "start_time": "2023-12-27T20:28:14.042Z"
   },
   {
    "duration": 317,
    "start_time": "2023-12-27T20:28:14.368Z"
   },
   {
    "duration": 53,
    "start_time": "2023-12-27T20:28:14.687Z"
   },
   {
    "duration": 146,
    "start_time": "2023-12-27T20:28:14.741Z"
   },
   {
    "duration": 154,
    "start_time": "2023-12-27T20:28:14.888Z"
   },
   {
    "duration": 7,
    "start_time": "2023-12-27T20:28:15.044Z"
   },
   {
    "duration": 43,
    "start_time": "2023-12-27T20:28:15.053Z"
   },
   {
    "duration": 115,
    "start_time": "2023-12-27T20:28:15.098Z"
   },
   {
    "duration": 42,
    "start_time": "2023-12-27T20:28:15.216Z"
   },
   {
    "duration": 262,
    "start_time": "2023-12-27T20:28:15.260Z"
   },
   {
    "duration": 174,
    "start_time": "2023-12-27T20:28:15.524Z"
   },
   {
    "duration": 19,
    "start_time": "2023-12-27T20:28:15.700Z"
   },
   {
    "duration": 5,
    "start_time": "2023-12-27T20:28:15.721Z"
   },
   {
    "duration": 214,
    "start_time": "2023-12-27T20:28:15.728Z"
   },
   {
    "duration": 279,
    "start_time": "2023-12-27T20:28:15.944Z"
   },
   {
    "duration": 18,
    "start_time": "2023-12-27T20:28:16.225Z"
   },
   {
    "duration": 33,
    "start_time": "2023-12-27T20:28:16.244Z"
   },
   {
    "duration": 349,
    "start_time": "2023-12-27T20:28:16.278Z"
   },
   {
    "duration": 668,
    "start_time": "2023-12-27T20:28:16.628Z"
   },
   {
    "duration": 20,
    "start_time": "2023-12-27T20:28:17.300Z"
   },
   {
    "duration": 26,
    "start_time": "2023-12-27T20:28:17.322Z"
   },
   {
    "duration": 63,
    "start_time": "2023-12-27T20:28:17.350Z"
   },
   {
    "duration": 26,
    "start_time": "2023-12-27T20:28:17.415Z"
   },
   {
    "duration": 29,
    "start_time": "2023-12-27T20:28:17.443Z"
   },
   {
    "duration": 42,
    "start_time": "2023-12-27T20:28:17.474Z"
   },
   {
    "duration": 28,
    "start_time": "2023-12-27T20:28:17.518Z"
   },
   {
    "duration": 28,
    "start_time": "2023-12-27T20:28:17.547Z"
   },
   {
    "duration": 57,
    "start_time": "2023-12-27T20:28:17.577Z"
   },
   {
    "duration": 42,
    "start_time": "2023-12-27T20:28:17.636Z"
   },
   {
    "duration": 32,
    "start_time": "2023-12-27T20:28:17.680Z"
   },
   {
    "duration": 25,
    "start_time": "2023-12-27T20:28:17.715Z"
   },
   {
    "duration": 21,
    "start_time": "2023-12-27T20:28:17.741Z"
   },
   {
    "duration": 29,
    "start_time": "2023-12-27T20:28:17.764Z"
   },
   {
    "duration": 162,
    "start_time": "2023-12-27T20:30:23.753Z"
   },
   {
    "duration": 149,
    "start_time": "2023-12-27T20:31:02.944Z"
   },
   {
    "duration": 14,
    "start_time": "2023-12-27T20:33:46.524Z"
   },
   {
    "duration": 7,
    "start_time": "2023-12-27T20:50:53.877Z"
   },
   {
    "duration": 6,
    "start_time": "2023-12-27T20:51:16.579Z"
   },
   {
    "duration": 174,
    "start_time": "2023-12-27T20:52:05.057Z"
   },
   {
    "duration": 189,
    "start_time": "2023-12-27T20:52:06.499Z"
   },
   {
    "duration": 257,
    "start_time": "2023-12-27T20:53:14.273Z"
   },
   {
    "duration": 9,
    "start_time": "2023-12-27T20:55:01.256Z"
   },
   {
    "duration": 6,
    "start_time": "2023-12-27T20:55:22.632Z"
   },
   {
    "duration": 6,
    "start_time": "2023-12-27T20:55:29.737Z"
   },
   {
    "duration": 52,
    "start_time": "2023-12-27T20:56:45.262Z"
   },
   {
    "duration": 7,
    "start_time": "2023-12-27T20:57:21.885Z"
   },
   {
    "duration": 5,
    "start_time": "2023-12-27T20:57:50.050Z"
   },
   {
    "duration": 186,
    "start_time": "2023-12-27T20:57:54.257Z"
   },
   {
    "duration": 163,
    "start_time": "2023-12-27T20:58:08.499Z"
   },
   {
    "duration": 624,
    "start_time": "2023-12-27T21:05:08.964Z"
   },
   {
    "duration": 1403,
    "start_time": "2023-12-27T21:45:28.557Z"
   },
   {
    "duration": 116,
    "start_time": "2023-12-27T21:45:29.962Z"
   },
   {
    "duration": 13,
    "start_time": "2023-12-27T21:45:30.080Z"
   },
   {
    "duration": 22,
    "start_time": "2023-12-27T21:45:30.095Z"
   },
   {
    "duration": 43,
    "start_time": "2023-12-27T21:45:30.120Z"
   },
   {
    "duration": 31,
    "start_time": "2023-12-27T21:45:30.164Z"
   },
   {
    "duration": 41,
    "start_time": "2023-12-27T21:45:30.197Z"
   },
   {
    "duration": 63,
    "start_time": "2023-12-27T21:45:30.240Z"
   },
   {
    "duration": 45,
    "start_time": "2023-12-27T21:45:30.305Z"
   },
   {
    "duration": 72,
    "start_time": "2023-12-27T21:45:30.352Z"
   },
   {
    "duration": 27,
    "start_time": "2023-12-27T21:45:30.426Z"
   },
   {
    "duration": 36,
    "start_time": "2023-12-27T21:45:30.455Z"
   },
   {
    "duration": 45,
    "start_time": "2023-12-27T21:45:30.493Z"
   },
   {
    "duration": 93,
    "start_time": "2023-12-27T21:45:30.542Z"
   },
   {
    "duration": 15,
    "start_time": "2023-12-27T21:45:30.637Z"
   },
   {
    "duration": 42,
    "start_time": "2023-12-27T21:45:30.653Z"
   },
   {
    "duration": 52,
    "start_time": "2023-12-27T21:45:30.697Z"
   },
   {
    "duration": 9,
    "start_time": "2023-12-27T21:45:30.751Z"
   },
   {
    "duration": 38,
    "start_time": "2023-12-27T21:45:30.761Z"
   },
   {
    "duration": 127,
    "start_time": "2023-12-27T21:45:30.800Z"
   },
   {
    "duration": 441,
    "start_time": "2023-12-27T21:45:30.929Z"
   },
   {
    "duration": 375,
    "start_time": "2023-12-27T21:45:31.371Z"
   },
   {
    "duration": 144,
    "start_time": "2023-12-27T21:45:31.747Z"
   },
   {
    "duration": 172,
    "start_time": "2023-12-27T21:45:31.893Z"
   },
   {
    "duration": 128,
    "start_time": "2023-12-27T21:45:32.067Z"
   },
   {
    "duration": 144,
    "start_time": "2023-12-27T21:45:32.196Z"
   },
   {
    "duration": 202,
    "start_time": "2023-12-27T21:45:32.342Z"
   },
   {
    "duration": 130,
    "start_time": "2023-12-27T21:45:32.546Z"
   },
   {
    "duration": 23,
    "start_time": "2023-12-27T21:45:32.678Z"
   },
   {
    "duration": 65,
    "start_time": "2023-12-27T21:45:32.711Z"
   },
   {
    "duration": 27,
    "start_time": "2023-12-27T21:45:32.777Z"
   },
   {
    "duration": 22,
    "start_time": "2023-12-27T21:45:32.805Z"
   },
   {
    "duration": 271,
    "start_time": "2023-12-27T21:45:32.829Z"
   },
   {
    "duration": 264,
    "start_time": "2023-12-27T21:45:33.101Z"
   },
   {
    "duration": 47,
    "start_time": "2023-12-27T21:45:33.367Z"
   },
   {
    "duration": 149,
    "start_time": "2023-12-27T21:45:33.416Z"
   },
   {
    "duration": 151,
    "start_time": "2023-12-27T21:45:33.567Z"
   },
   {
    "duration": 12,
    "start_time": "2023-12-27T21:45:33.720Z"
   },
   {
    "duration": 6,
    "start_time": "2023-12-27T21:45:33.734Z"
   },
   {
    "duration": 10,
    "start_time": "2023-12-27T21:45:33.742Z"
   },
   {
    "duration": 4,
    "start_time": "2023-12-27T21:45:33.756Z"
   },
   {
    "duration": 179,
    "start_time": "2023-12-27T21:45:33.761Z"
   },
   {
    "duration": 151,
    "start_time": "2023-12-27T21:45:33.942Z"
   },
   {
    "duration": 6,
    "start_time": "2023-12-27T21:45:34.095Z"
   },
   {
    "duration": 5,
    "start_time": "2023-12-27T21:45:34.110Z"
   },
   {
    "duration": 174,
    "start_time": "2023-12-27T21:45:34.118Z"
   },
   {
    "duration": 243,
    "start_time": "2023-12-27T21:45:34.293Z"
   },
   {
    "duration": 5,
    "start_time": "2023-12-27T21:45:34.538Z"
   },
   {
    "duration": 8,
    "start_time": "2023-12-27T21:45:34.545Z"
   },
   {
    "duration": 151,
    "start_time": "2023-12-27T21:45:34.555Z"
   },
   {
    "duration": 142,
    "start_time": "2023-12-27T21:45:34.711Z"
   },
   {
    "duration": 6,
    "start_time": "2023-12-27T21:45:34.855Z"
   },
   {
    "duration": 19,
    "start_time": "2023-12-27T21:45:34.862Z"
   },
   {
    "duration": 142,
    "start_time": "2023-12-27T21:45:34.882Z"
   },
   {
    "duration": 144,
    "start_time": "2023-12-27T21:45:35.026Z"
   },
   {
    "duration": 16,
    "start_time": "2023-12-27T21:45:35.172Z"
   },
   {
    "duration": 33,
    "start_time": "2023-12-27T21:45:35.190Z"
   },
   {
    "duration": 549,
    "start_time": "2023-12-27T21:45:35.225Z"
   },
   {
    "duration": 616,
    "start_time": "2023-12-27T21:45:35.776Z"
   },
   {
    "duration": 22,
    "start_time": "2023-12-27T21:45:36.393Z"
   },
   {
    "duration": 14,
    "start_time": "2023-12-27T21:45:36.417Z"
   },
   {
    "duration": 15,
    "start_time": "2023-12-27T21:45:36.433Z"
   },
   {
    "duration": 14,
    "start_time": "2023-12-27T21:45:36.450Z"
   },
   {
    "duration": 12,
    "start_time": "2023-12-27T21:45:36.466Z"
   },
   {
    "duration": 19,
    "start_time": "2023-12-27T21:45:36.512Z"
   },
   {
    "duration": 15,
    "start_time": "2023-12-27T21:45:36.533Z"
   },
   {
    "duration": 12,
    "start_time": "2023-12-27T21:45:36.549Z"
   },
   {
    "duration": 21,
    "start_time": "2023-12-27T21:45:36.563Z"
   },
   {
    "duration": 47,
    "start_time": "2023-12-27T21:45:36.586Z"
   },
   {
    "duration": 7,
    "start_time": "2023-12-27T21:45:36.635Z"
   },
   {
    "duration": 12,
    "start_time": "2023-12-27T21:45:36.644Z"
   },
   {
    "duration": 7,
    "start_time": "2023-12-27T21:45:36.657Z"
   },
   {
    "duration": 5,
    "start_time": "2023-12-27T21:45:36.665Z"
   },
   {
    "duration": 2732,
    "start_time": "2023-12-27T21:49:01.422Z"
   }
  ],
  "kernelspec": {
   "display_name": "Python 3 (ipykernel)",
   "language": "python",
   "name": "python3"
  },
  "language_info": {
   "codemirror_mode": {
    "name": "ipython",
    "version": 3
   },
   "file_extension": ".py",
   "mimetype": "text/x-python",
   "name": "python",
   "nbconvert_exporter": "python",
   "pygments_lexer": "ipython3",
   "version": "3.11.7"
  },
  "toc": {
   "base_numbering": 1,
   "nav_menu": {},
   "number_sections": true,
   "sideBar": true,
   "skip_h1_title": true,
   "title_cell": "Table of Contents",
   "title_sidebar": "Contents",
   "toc_cell": false,
   "toc_position": {},
   "toc_section_display": true,
   "toc_window_display": false
  }
 },
 "nbformat": 4,
 "nbformat_minor": 4
}
