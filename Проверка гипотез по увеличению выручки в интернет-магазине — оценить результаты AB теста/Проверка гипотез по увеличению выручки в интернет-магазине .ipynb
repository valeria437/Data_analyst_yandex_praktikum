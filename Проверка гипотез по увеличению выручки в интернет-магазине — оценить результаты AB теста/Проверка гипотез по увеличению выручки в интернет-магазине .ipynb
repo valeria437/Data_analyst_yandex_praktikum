{
 "cells": [
  {
   "cell_type": "markdown",
   "metadata": {},
   "source": [
    "# ПРИНЯТИЕ РЕШЕНИЙ В БИЗНЕСЕ"
   ]
  },
  {
   "cell_type": "markdown",
   "metadata": {},
   "source": [
    "# Описание проекта"
   ]
  },
  {
   "cell_type": "markdown",
   "metadata": {},
   "source": [
    "Необходимо проанализировать работу крупного интернет-магазина. Вместе с отделом маркетинга был подготовлен список гипотез для увеличения выручки.\n",
    "Необходимо:\n",
    "\n",
    "1. Приоритизировать гипотезы\n",
    "2. Запустить A/B-тест \n",
    "3. Проанализировать результаты"
   ]
  },
  {
   "cell_type": "markdown",
   "metadata": {},
   "source": [
    "# Обзор и предобработка данных"
   ]
  },
  {
   "cell_type": "markdown",
   "metadata": {},
   "source": [
    "Загрузим все библиотеки и посмотрим исходные таблицы"
   ]
  },
  {
   "cell_type": "code",
   "execution_count": 1,
   "metadata": {},
   "outputs": [],
   "source": [
    "import pandas as pd\n",
    "import numpy as np\n",
    "import matplotlib.pyplot as plt\n",
    "import seaborn as sns\n",
    "import math as mth\n",
    "import datetime as dt\n",
    "\n",
    "import scipy.stats as stats\n",
    "from scipy import stats as st\n",
    "\n",
    "import warnings"
   ]
  },
  {
   "cell_type": "code",
   "execution_count": 2,
   "metadata": {},
   "outputs": [],
   "source": [
    "hypothesis = pd.read_csv('/datasets/hypothesis.csv')\n",
    "orders = pd.read_csv('/datasets/orders.csv')\n",
    "visitors = pd.read_csv('/datasets/visitors.csv')"
   ]
  },
  {
   "cell_type": "code",
   "execution_count": 3,
   "metadata": {},
   "outputs": [
    {
     "name": "stdout",
     "output_type": "stream",
     "text": [
      "<class 'pandas.core.frame.DataFrame'>\n",
      "RangeIndex: 9 entries, 0 to 8\n",
      "Data columns (total 5 columns):\n",
      " #   Column      Non-Null Count  Dtype \n",
      "---  ------      --------------  ----- \n",
      " 0   Hypothesis  9 non-null      object\n",
      " 1   Reach       9 non-null      int64 \n",
      " 2   Impact      9 non-null      int64 \n",
      " 3   Confidence  9 non-null      int64 \n",
      " 4   Efforts     9 non-null      int64 \n",
      "dtypes: int64(4), object(1)\n",
      "memory usage: 488.0+ bytes\n"
     ]
    },
    {
     "data": {
      "text/plain": [
       "0"
      ]
     },
     "execution_count": 3,
     "metadata": {},
     "output_type": "execute_result"
    }
   ],
   "source": [
    "hypothesis.info()\n",
    "hypothesis.head()\n",
    "hypothesis.isna().sum()\n",
    "hypothesis.duplicated().sum()"
   ]
  },
  {
   "cell_type": "code",
   "execution_count": 4,
   "metadata": {},
   "outputs": [
    {
     "name": "stdout",
     "output_type": "stream",
     "text": [
      "<class 'pandas.core.frame.DataFrame'>\n",
      "RangeIndex: 1197 entries, 0 to 1196\n",
      "Data columns (total 5 columns):\n",
      " #   Column         Non-Null Count  Dtype \n",
      "---  ------         --------------  ----- \n",
      " 0   transactionId  1197 non-null   int64 \n",
      " 1   visitorId      1197 non-null   int64 \n",
      " 2   date           1197 non-null   object\n",
      " 3   revenue        1197 non-null   int64 \n",
      " 4   group          1197 non-null   object\n",
      "dtypes: int64(3), object(2)\n",
      "memory usage: 46.9+ KB\n"
     ]
    },
    {
     "data": {
      "text/plain": [
       "0"
      ]
     },
     "execution_count": 4,
     "metadata": {},
     "output_type": "execute_result"
    }
   ],
   "source": [
    "orders.info()\n",
    "orders.head()\n",
    "orders.isna().sum()\n",
    "orders.duplicated().sum()"
   ]
  },
  {
   "cell_type": "code",
   "execution_count": 5,
   "metadata": {},
   "outputs": [
    {
     "name": "stdout",
     "output_type": "stream",
     "text": [
      "<class 'pandas.core.frame.DataFrame'>\n",
      "RangeIndex: 62 entries, 0 to 61\n",
      "Data columns (total 3 columns):\n",
      " #   Column    Non-Null Count  Dtype \n",
      "---  ------    --------------  ----- \n",
      " 0   date      62 non-null     object\n",
      " 1   group     62 non-null     object\n",
      " 2   visitors  62 non-null     int64 \n",
      "dtypes: int64(1), object(2)\n",
      "memory usage: 1.6+ KB\n"
     ]
    },
    {
     "data": {
      "text/plain": [
       "0"
      ]
     },
     "execution_count": 5,
     "metadata": {},
     "output_type": "execute_result"
    }
   ],
   "source": [
    "visitors.info()\n",
    "visitors.head()\n",
    "visitors.isna().sum()\n",
    "visitors.duplicated().sum()"
   ]
  },
  {
   "cell_type": "markdown",
   "metadata": {},
   "source": [
    "Меняем формат столбца date"
   ]
  },
  {
   "cell_type": "code",
   "execution_count": 6,
   "metadata": {},
   "outputs": [],
   "source": [
    "orders['date'] = pd.to_datetime(orders['date'])\n",
    "visitors['date'] = pd.to_datetime(visitors['date'])"
   ]
  },
  {
   "cell_type": "markdown",
   "metadata": {},
   "source": [
    "Меняем регистр"
   ]
  },
  {
   "cell_type": "code",
   "execution_count": 7,
   "metadata": {},
   "outputs": [],
   "source": [
    "orders.rename(columns={'transactionId':'transaction_id', 'visitorId':'visitor_id'}, inplace=True)\n"
   ]
  },
  {
   "cell_type": "code",
   "execution_count": 8,
   "metadata": {},
   "outputs": [],
   "source": [
    "hypothesis.rename(columns={'Reach':'reach', 'Hypothesis':'hypothesis', 'Impact':'impact','Confidence':'confidence','Efforts':'efforts'}, inplace=True)"
   ]
  },
  {
   "cell_type": "markdown",
   "metadata": {},
   "source": [
    "# ЧАСТЬ 1. ПРИОРИТИЗАЦИЯ ГИПОТЕЗ"
   ]
  },
  {
   "cell_type": "markdown",
   "metadata": {},
   "source": [
    "Применим фреймворк ICE для приоритизации гипотез и отсортируем их по убыванию приоритета."
   ]
  },
  {
   "cell_type": "code",
   "execution_count": 9,
   "metadata": {},
   "outputs": [
    {
     "data": {
      "text/html": [
       "<div>\n",
       "<style scoped>\n",
       "    .dataframe tbody tr th:only-of-type {\n",
       "        vertical-align: middle;\n",
       "    }\n",
       "\n",
       "    .dataframe tbody tr th {\n",
       "        vertical-align: top;\n",
       "    }\n",
       "\n",
       "    .dataframe thead th {\n",
       "        text-align: right;\n",
       "    }\n",
       "</style>\n",
       "<table border=\"1\" class=\"dataframe\">\n",
       "  <thead>\n",
       "    <tr style=\"text-align: right;\">\n",
       "      <th></th>\n",
       "      <th>hypothesis</th>\n",
       "      <th>reach</th>\n",
       "      <th>impact</th>\n",
       "      <th>confidence</th>\n",
       "      <th>efforts</th>\n",
       "      <th>ICE</th>\n",
       "    </tr>\n",
       "  </thead>\n",
       "  <tbody>\n",
       "    <tr>\n",
       "      <th>8</th>\n",
       "      <td>Запустить акцию, дающую скидку на товар в день...</td>\n",
       "      <td>1</td>\n",
       "      <td>9</td>\n",
       "      <td>9</td>\n",
       "      <td>5</td>\n",
       "      <td>16.200000</td>\n",
       "    </tr>\n",
       "    <tr>\n",
       "      <th>0</th>\n",
       "      <td>Добавить два новых канала привлечения трафика,...</td>\n",
       "      <td>3</td>\n",
       "      <td>10</td>\n",
       "      <td>8</td>\n",
       "      <td>6</td>\n",
       "      <td>13.333333</td>\n",
       "    </tr>\n",
       "    <tr>\n",
       "      <th>7</th>\n",
       "      <td>Добавить форму подписки на все основные страни...</td>\n",
       "      <td>10</td>\n",
       "      <td>7</td>\n",
       "      <td>8</td>\n",
       "      <td>5</td>\n",
       "      <td>11.200000</td>\n",
       "    </tr>\n",
       "    <tr>\n",
       "      <th>6</th>\n",
       "      <td>Показать на главной странице баннеры с актуаль...</td>\n",
       "      <td>5</td>\n",
       "      <td>3</td>\n",
       "      <td>8</td>\n",
       "      <td>3</td>\n",
       "      <td>8.000000</td>\n",
       "    </tr>\n",
       "    <tr>\n",
       "      <th>2</th>\n",
       "      <td>Добавить блоки рекомендаций товаров на сайт ин...</td>\n",
       "      <td>8</td>\n",
       "      <td>3</td>\n",
       "      <td>7</td>\n",
       "      <td>3</td>\n",
       "      <td>7.000000</td>\n",
       "    </tr>\n",
       "  </tbody>\n",
       "</table>\n",
       "</div>"
      ],
      "text/plain": [
       "                                          hypothesis  reach  impact  \\\n",
       "8  Запустить акцию, дающую скидку на товар в день...      1       9   \n",
       "0  Добавить два новых канала привлечения трафика,...      3      10   \n",
       "7  Добавить форму подписки на все основные страни...     10       7   \n",
       "6  Показать на главной странице баннеры с актуаль...      5       3   \n",
       "2  Добавить блоки рекомендаций товаров на сайт ин...      8       3   \n",
       "\n",
       "   confidence  efforts        ICE  \n",
       "8           9        5  16.200000  \n",
       "0           8        6  13.333333  \n",
       "7           8        5  11.200000  \n",
       "6           8        3   8.000000  \n",
       "2           7        3   7.000000  "
      ]
     },
     "execution_count": 9,
     "metadata": {},
     "output_type": "execute_result"
    }
   ],
   "source": [
    "hypothesis['ICE'] = hypothesis['impact']*hypothesis['confidence']/hypothesis['efforts']\n",
    "hypothesis.sort_values(by='ICE',ascending=False).head()"
   ]
  },
  {
   "cell_type": "markdown",
   "metadata": {},
   "source": [
    "Теперь применим фреймворк RICE для приоритизации гипотез и также отсортируем их по убыванию приоритета."
   ]
  },
  {
   "cell_type": "code",
   "execution_count": 10,
   "metadata": {},
   "outputs": [
    {
     "data": {
      "text/html": [
       "<div>\n",
       "<style scoped>\n",
       "    .dataframe tbody tr th:only-of-type {\n",
       "        vertical-align: middle;\n",
       "    }\n",
       "\n",
       "    .dataframe tbody tr th {\n",
       "        vertical-align: top;\n",
       "    }\n",
       "\n",
       "    .dataframe thead th {\n",
       "        text-align: right;\n",
       "    }\n",
       "</style>\n",
       "<table border=\"1\" class=\"dataframe\">\n",
       "  <thead>\n",
       "    <tr style=\"text-align: right;\">\n",
       "      <th></th>\n",
       "      <th>hypothesis</th>\n",
       "      <th>reach</th>\n",
       "      <th>impact</th>\n",
       "      <th>confidence</th>\n",
       "      <th>efforts</th>\n",
       "      <th>ICE</th>\n",
       "      <th>RICE</th>\n",
       "    </tr>\n",
       "  </thead>\n",
       "  <tbody>\n",
       "    <tr>\n",
       "      <th>7</th>\n",
       "      <td>Добавить форму подписки на все основные страни...</td>\n",
       "      <td>10</td>\n",
       "      <td>7</td>\n",
       "      <td>8</td>\n",
       "      <td>5</td>\n",
       "      <td>11.200000</td>\n",
       "      <td>112.0</td>\n",
       "    </tr>\n",
       "    <tr>\n",
       "      <th>2</th>\n",
       "      <td>Добавить блоки рекомендаций товаров на сайт ин...</td>\n",
       "      <td>8</td>\n",
       "      <td>3</td>\n",
       "      <td>7</td>\n",
       "      <td>3</td>\n",
       "      <td>7.000000</td>\n",
       "      <td>56.0</td>\n",
       "    </tr>\n",
       "    <tr>\n",
       "      <th>0</th>\n",
       "      <td>Добавить два новых канала привлечения трафика,...</td>\n",
       "      <td>3</td>\n",
       "      <td>10</td>\n",
       "      <td>8</td>\n",
       "      <td>6</td>\n",
       "      <td>13.333333</td>\n",
       "      <td>40.0</td>\n",
       "    </tr>\n",
       "    <tr>\n",
       "      <th>6</th>\n",
       "      <td>Показать на главной странице баннеры с актуаль...</td>\n",
       "      <td>5</td>\n",
       "      <td>3</td>\n",
       "      <td>8</td>\n",
       "      <td>3</td>\n",
       "      <td>8.000000</td>\n",
       "      <td>40.0</td>\n",
       "    </tr>\n",
       "    <tr>\n",
       "      <th>8</th>\n",
       "      <td>Запустить акцию, дающую скидку на товар в день...</td>\n",
       "      <td>1</td>\n",
       "      <td>9</td>\n",
       "      <td>9</td>\n",
       "      <td>5</td>\n",
       "      <td>16.200000</td>\n",
       "      <td>16.2</td>\n",
       "    </tr>\n",
       "  </tbody>\n",
       "</table>\n",
       "</div>"
      ],
      "text/plain": [
       "                                          hypothesis  reach  impact  \\\n",
       "7  Добавить форму подписки на все основные страни...     10       7   \n",
       "2  Добавить блоки рекомендаций товаров на сайт ин...      8       3   \n",
       "0  Добавить два новых канала привлечения трафика,...      3      10   \n",
       "6  Показать на главной странице баннеры с актуаль...      5       3   \n",
       "8  Запустить акцию, дающую скидку на товар в день...      1       9   \n",
       "\n",
       "   confidence  efforts        ICE   RICE  \n",
       "7           8        5  11.200000  112.0  \n",
       "2           7        3   7.000000   56.0  \n",
       "0           8        6  13.333333   40.0  \n",
       "6           8        3   8.000000   40.0  \n",
       "8           9        5  16.200000   16.2  "
      ]
     },
     "execution_count": 10,
     "metadata": {},
     "output_type": "execute_result"
    }
   ],
   "source": [
    "hypothesis['RICE'] = hypothesis['reach']*hypothesis['impact']*hypothesis['confidence']/hypothesis['efforts']\n",
    "\n",
    "hypothesis.sort_values(by='RICE',ascending=False).head()"
   ]
  },
  {
   "cell_type": "markdown",
   "metadata": {},
   "source": [
    "В обоих фреймворках учавствуют одни и те же гипотезы, отличается лишь их последовательность. Порядок отличается так как одна из них учитывает охват, а другая нет."
   ]
  },
  {
   "cell_type": "markdown",
   "metadata": {},
   "source": [
    "# ЧАСТЬ 2. АНАЛИЗ A/B-ТЕСТА"
   ]
  },
  {
   "cell_type": "markdown",
   "metadata": {},
   "source": [
    "Проведен A/B-тест и получены результаты, которые описаны в файлах /datasets/orders.csv и /datasets/visitors.csv."
   ]
  },
  {
   "cell_type": "code",
   "execution_count": 11,
   "metadata": {},
   "outputs": [
    {
     "data": {
      "text/html": [
       "<div>\n",
       "<style scoped>\n",
       "    .dataframe tbody tr th:only-of-type {\n",
       "        vertical-align: middle;\n",
       "    }\n",
       "\n",
       "    .dataframe tbody tr th {\n",
       "        vertical-align: top;\n",
       "    }\n",
       "\n",
       "    .dataframe thead th {\n",
       "        text-align: right;\n",
       "    }\n",
       "</style>\n",
       "<table border=\"1\" class=\"dataframe\">\n",
       "  <thead>\n",
       "    <tr style=\"text-align: right;\">\n",
       "      <th></th>\n",
       "      <th>transaction_id</th>\n",
       "      <th>visitor_id</th>\n",
       "      <th>date</th>\n",
       "      <th>revenue</th>\n",
       "      <th>group</th>\n",
       "    </tr>\n",
       "  </thead>\n",
       "  <tbody>\n",
       "    <tr>\n",
       "      <th>0</th>\n",
       "      <td>3667963787</td>\n",
       "      <td>3312258926</td>\n",
       "      <td>2019-08-15</td>\n",
       "      <td>1650</td>\n",
       "      <td>B</td>\n",
       "    </tr>\n",
       "    <tr>\n",
       "      <th>1</th>\n",
       "      <td>2804400009</td>\n",
       "      <td>3642806036</td>\n",
       "      <td>2019-08-15</td>\n",
       "      <td>730</td>\n",
       "      <td>B</td>\n",
       "    </tr>\n",
       "    <tr>\n",
       "      <th>2</th>\n",
       "      <td>2961555356</td>\n",
       "      <td>4069496402</td>\n",
       "      <td>2019-08-15</td>\n",
       "      <td>400</td>\n",
       "      <td>A</td>\n",
       "    </tr>\n",
       "    <tr>\n",
       "      <th>3</th>\n",
       "      <td>3797467345</td>\n",
       "      <td>1196621759</td>\n",
       "      <td>2019-08-15</td>\n",
       "      <td>9759</td>\n",
       "      <td>B</td>\n",
       "    </tr>\n",
       "    <tr>\n",
       "      <th>4</th>\n",
       "      <td>2282983706</td>\n",
       "      <td>2322279887</td>\n",
       "      <td>2019-08-15</td>\n",
       "      <td>2308</td>\n",
       "      <td>B</td>\n",
       "    </tr>\n",
       "  </tbody>\n",
       "</table>\n",
       "</div>"
      ],
      "text/plain": [
       "   transaction_id  visitor_id       date  revenue group\n",
       "0      3667963787  3312258926 2019-08-15     1650     B\n",
       "1      2804400009  3642806036 2019-08-15      730     B\n",
       "2      2961555356  4069496402 2019-08-15      400     A\n",
       "3      3797467345  1196621759 2019-08-15     9759     B\n",
       "4      2282983706  2322279887 2019-08-15     2308     B"
      ]
     },
     "execution_count": 11,
     "metadata": {},
     "output_type": "execute_result"
    }
   ],
   "source": [
    "orders.head()"
   ]
  },
  {
   "cell_type": "code",
   "execution_count": 12,
   "metadata": {},
   "outputs": [
    {
     "data": {
      "text/html": [
       "<div>\n",
       "<style scoped>\n",
       "    .dataframe tbody tr th:only-of-type {\n",
       "        vertical-align: middle;\n",
       "    }\n",
       "\n",
       "    .dataframe tbody tr th {\n",
       "        vertical-align: top;\n",
       "    }\n",
       "\n",
       "    .dataframe thead th {\n",
       "        text-align: right;\n",
       "    }\n",
       "</style>\n",
       "<table border=\"1\" class=\"dataframe\">\n",
       "  <thead>\n",
       "    <tr style=\"text-align: right;\">\n",
       "      <th></th>\n",
       "      <th>date</th>\n",
       "      <th>group</th>\n",
       "      <th>visitors</th>\n",
       "    </tr>\n",
       "  </thead>\n",
       "  <tbody>\n",
       "    <tr>\n",
       "      <th>0</th>\n",
       "      <td>2019-08-01</td>\n",
       "      <td>A</td>\n",
       "      <td>719</td>\n",
       "    </tr>\n",
       "    <tr>\n",
       "      <th>1</th>\n",
       "      <td>2019-08-02</td>\n",
       "      <td>A</td>\n",
       "      <td>619</td>\n",
       "    </tr>\n",
       "    <tr>\n",
       "      <th>2</th>\n",
       "      <td>2019-08-03</td>\n",
       "      <td>A</td>\n",
       "      <td>507</td>\n",
       "    </tr>\n",
       "    <tr>\n",
       "      <th>3</th>\n",
       "      <td>2019-08-04</td>\n",
       "      <td>A</td>\n",
       "      <td>717</td>\n",
       "    </tr>\n",
       "    <tr>\n",
       "      <th>4</th>\n",
       "      <td>2019-08-05</td>\n",
       "      <td>A</td>\n",
       "      <td>756</td>\n",
       "    </tr>\n",
       "  </tbody>\n",
       "</table>\n",
       "</div>"
      ],
      "text/plain": [
       "        date group  visitors\n",
       "0 2019-08-01     A       719\n",
       "1 2019-08-02     A       619\n",
       "2 2019-08-03     A       507\n",
       "3 2019-08-04     A       717\n",
       "4 2019-08-05     A       756"
      ]
     },
     "execution_count": 12,
     "metadata": {},
     "output_type": "execute_result"
    }
   ],
   "source": [
    "visitors.head()"
   ]
  },
  {
   "cell_type": "markdown",
   "metadata": {},
   "source": [
    "Перед построением графиков необходимо для этого собрать необходимые данные"
   ]
  },
  {
   "cell_type": "markdown",
   "metadata": {},
   "source": [
    "Создадим массив уникальных пар значений дат и групп теста методом, соберём агрегированные кумулятивные по дням данные о заказах. "
   ]
  },
  {
   "cell_type": "code",
   "execution_count": 13,
   "metadata": {},
   "outputs": [
    {
     "data": {
      "text/html": [
       "<div>\n",
       "<style scoped>\n",
       "    .dataframe tbody tr th:only-of-type {\n",
       "        vertical-align: middle;\n",
       "    }\n",
       "\n",
       "    .dataframe tbody tr th {\n",
       "        vertical-align: top;\n",
       "    }\n",
       "\n",
       "    .dataframe thead th {\n",
       "        text-align: right;\n",
       "    }\n",
       "</style>\n",
       "<table border=\"1\" class=\"dataframe\">\n",
       "  <thead>\n",
       "    <tr style=\"text-align: right;\">\n",
       "      <th></th>\n",
       "      <th>date</th>\n",
       "      <th>group</th>\n",
       "      <th>transaction_id</th>\n",
       "      <th>visitor_id</th>\n",
       "      <th>revenue</th>\n",
       "    </tr>\n",
       "  </thead>\n",
       "  <tbody>\n",
       "    <tr>\n",
       "      <th>55</th>\n",
       "      <td>2019-08-01</td>\n",
       "      <td>A</td>\n",
       "      <td>24</td>\n",
       "      <td>20</td>\n",
       "      <td>148579</td>\n",
       "    </tr>\n",
       "    <tr>\n",
       "      <th>66</th>\n",
       "      <td>2019-08-01</td>\n",
       "      <td>B</td>\n",
       "      <td>21</td>\n",
       "      <td>20</td>\n",
       "      <td>101217</td>\n",
       "    </tr>\n",
       "    <tr>\n",
       "      <th>175</th>\n",
       "      <td>2019-08-02</td>\n",
       "      <td>A</td>\n",
       "      <td>44</td>\n",
       "      <td>38</td>\n",
       "      <td>242401</td>\n",
       "    </tr>\n",
       "    <tr>\n",
       "      <th>173</th>\n",
       "      <td>2019-08-02</td>\n",
       "      <td>B</td>\n",
       "      <td>45</td>\n",
       "      <td>43</td>\n",
       "      <td>266748</td>\n",
       "    </tr>\n",
       "    <tr>\n",
       "      <th>291</th>\n",
       "      <td>2019-08-03</td>\n",
       "      <td>A</td>\n",
       "      <td>68</td>\n",
       "      <td>62</td>\n",
       "      <td>354874</td>\n",
       "    </tr>\n",
       "  </tbody>\n",
       "</table>\n",
       "</div>"
      ],
      "text/plain": [
       "          date group  transaction_id  visitor_id  revenue\n",
       "55  2019-08-01     A              24          20   148579\n",
       "66  2019-08-01     B              21          20   101217\n",
       "175 2019-08-02     A              44          38   242401\n",
       "173 2019-08-02     B              45          43   266748\n",
       "291 2019-08-03     A              68          62   354874"
      ]
     },
     "execution_count": 13,
     "metadata": {},
     "output_type": "execute_result"
    }
   ],
   "source": [
    "dates_grouped = orders[['date', 'group']].drop_duplicates()\n",
    "\n",
    "orders_grouped = dates_grouped.apply(\n",
    "    lambda x: orders[\n",
    "        np.logical_and(\n",
    "            orders['date'] <= x['date'], orders['group'] == x['group']\n",
    "        )\n",
    "    ].agg(\n",
    "        {\n",
    "            'date': 'max',\n",
    "            'group': 'max',\n",
    "            'transaction_id': 'nunique',\n",
    "            'visitor_id': 'nunique',\n",
    "            'revenue': 'sum',\n",
    "        }\n",
    "    ),\n",
    "    axis=1,\n",
    ").sort_values(by=['date', 'group'])\n",
    "\n",
    "orders_grouped.head()"
   ]
  },
  {
   "cell_type": "markdown",
   "metadata": {},
   "source": [
    "Аналогично получим агрегированные кумулятивные по дням данные о посетителях интернет-магазина"
   ]
  },
  {
   "cell_type": "code",
   "execution_count": 14,
   "metadata": {},
   "outputs": [
    {
     "data": {
      "text/html": [
       "<div>\n",
       "<style scoped>\n",
       "    .dataframe tbody tr th:only-of-type {\n",
       "        vertical-align: middle;\n",
       "    }\n",
       "\n",
       "    .dataframe tbody tr th {\n",
       "        vertical-align: top;\n",
       "    }\n",
       "\n",
       "    .dataframe thead th {\n",
       "        text-align: right;\n",
       "    }\n",
       "</style>\n",
       "<table border=\"1\" class=\"dataframe\">\n",
       "  <thead>\n",
       "    <tr style=\"text-align: right;\">\n",
       "      <th></th>\n",
       "      <th>date</th>\n",
       "      <th>group</th>\n",
       "      <th>visitors</th>\n",
       "    </tr>\n",
       "  </thead>\n",
       "  <tbody>\n",
       "    <tr>\n",
       "      <th>55</th>\n",
       "      <td>2019-08-01</td>\n",
       "      <td>A</td>\n",
       "      <td>719</td>\n",
       "    </tr>\n",
       "    <tr>\n",
       "      <th>66</th>\n",
       "      <td>2019-08-01</td>\n",
       "      <td>B</td>\n",
       "      <td>713</td>\n",
       "    </tr>\n",
       "    <tr>\n",
       "      <th>175</th>\n",
       "      <td>2019-08-02</td>\n",
       "      <td>A</td>\n",
       "      <td>1338</td>\n",
       "    </tr>\n",
       "    <tr>\n",
       "      <th>173</th>\n",
       "      <td>2019-08-02</td>\n",
       "      <td>B</td>\n",
       "      <td>1294</td>\n",
       "    </tr>\n",
       "    <tr>\n",
       "      <th>291</th>\n",
       "      <td>2019-08-03</td>\n",
       "      <td>A</td>\n",
       "      <td>1845</td>\n",
       "    </tr>\n",
       "  </tbody>\n",
       "</table>\n",
       "</div>"
      ],
      "text/plain": [
       "          date group  visitors\n",
       "55  2019-08-01     A       719\n",
       "66  2019-08-01     B       713\n",
       "175 2019-08-02     A      1338\n",
       "173 2019-08-02     B      1294\n",
       "291 2019-08-03     A      1845"
      ]
     },
     "execution_count": 14,
     "metadata": {},
     "output_type": "execute_result"
    }
   ],
   "source": [
    "visitors_grouped = dates_grouped.apply(\n",
    "    lambda x: visitors[\n",
    "        np.logical_and(\n",
    "            visitors['date'] <= x['date'], visitors['group'] == x['group']\n",
    "        )\n",
    "    ].agg(\n",
    "        {\n",
    "            'date': 'max', \n",
    "            'group': 'max', \n",
    "            'visitors': 'sum'\n",
    "        }\n",
    "    ),\n",
    "    axis=1,\n",
    ").sort_values(by=['date', 'group'])\n",
    "\n",
    "visitors_grouped.head()"
   ]
  },
  {
   "cell_type": "markdown",
   "metadata": {},
   "source": [
    "Объединим обе таблицы в одну с понятными названиями столбцов."
   ]
  },
  {
   "cell_type": "code",
   "execution_count": 15,
   "metadata": {},
   "outputs": [],
   "source": [
    "cumulative_data = orders_grouped.merge(\n",
    "    visitors_grouped, \n",
    "    left_on=['date', 'group'], \n",
    "    right_on=['date', 'group']\n",
    ")\n",
    "\n",
    "cumulative_data.columns = ['date', 'group', 'orders', 'buyers', 'revenue', 'visitors']"
   ]
  },
  {
   "cell_type": "markdown",
   "metadata": {},
   "source": [
    "Расчитаем конверсию"
   ]
  },
  {
   "cell_type": "code",
   "execution_count": 16,
   "metadata": {},
   "outputs": [
    {
     "data": {
      "text/html": [
       "<div>\n",
       "<style scoped>\n",
       "    .dataframe tbody tr th:only-of-type {\n",
       "        vertical-align: middle;\n",
       "    }\n",
       "\n",
       "    .dataframe tbody tr th {\n",
       "        vertical-align: top;\n",
       "    }\n",
       "\n",
       "    .dataframe thead th {\n",
       "        text-align: right;\n",
       "    }\n",
       "</style>\n",
       "<table border=\"1\" class=\"dataframe\">\n",
       "  <thead>\n",
       "    <tr style=\"text-align: right;\">\n",
       "      <th></th>\n",
       "      <th>date</th>\n",
       "      <th>group</th>\n",
       "      <th>orders</th>\n",
       "      <th>buyers</th>\n",
       "      <th>revenue</th>\n",
       "      <th>visitors</th>\n",
       "      <th>conversion</th>\n",
       "    </tr>\n",
       "  </thead>\n",
       "  <tbody>\n",
       "    <tr>\n",
       "      <th>0</th>\n",
       "      <td>2019-08-01</td>\n",
       "      <td>A</td>\n",
       "      <td>24</td>\n",
       "      <td>20</td>\n",
       "      <td>148579</td>\n",
       "      <td>719</td>\n",
       "      <td>0.033380</td>\n",
       "    </tr>\n",
       "    <tr>\n",
       "      <th>1</th>\n",
       "      <td>2019-08-01</td>\n",
       "      <td>B</td>\n",
       "      <td>21</td>\n",
       "      <td>20</td>\n",
       "      <td>101217</td>\n",
       "      <td>713</td>\n",
       "      <td>0.029453</td>\n",
       "    </tr>\n",
       "    <tr>\n",
       "      <th>2</th>\n",
       "      <td>2019-08-02</td>\n",
       "      <td>A</td>\n",
       "      <td>44</td>\n",
       "      <td>38</td>\n",
       "      <td>242401</td>\n",
       "      <td>1338</td>\n",
       "      <td>0.032885</td>\n",
       "    </tr>\n",
       "    <tr>\n",
       "      <th>3</th>\n",
       "      <td>2019-08-02</td>\n",
       "      <td>B</td>\n",
       "      <td>45</td>\n",
       "      <td>43</td>\n",
       "      <td>266748</td>\n",
       "      <td>1294</td>\n",
       "      <td>0.034776</td>\n",
       "    </tr>\n",
       "    <tr>\n",
       "      <th>4</th>\n",
       "      <td>2019-08-03</td>\n",
       "      <td>A</td>\n",
       "      <td>68</td>\n",
       "      <td>62</td>\n",
       "      <td>354874</td>\n",
       "      <td>1845</td>\n",
       "      <td>0.036856</td>\n",
       "    </tr>\n",
       "  </tbody>\n",
       "</table>\n",
       "</div>"
      ],
      "text/plain": [
       "        date group  orders  buyers  revenue  visitors  conversion\n",
       "0 2019-08-01     A      24      20   148579       719    0.033380\n",
       "1 2019-08-01     B      21      20   101217       713    0.029453\n",
       "2 2019-08-02     A      44      38   242401      1338    0.032885\n",
       "3 2019-08-02     B      45      43   266748      1294    0.034776\n",
       "4 2019-08-03     A      68      62   354874      1845    0.036856"
      ]
     },
     "execution_count": 16,
     "metadata": {},
     "output_type": "execute_result"
    }
   ],
   "source": [
    "cumulative_data['conversion'] = cumulative_data['orders'] / cumulative_data['visitors']\n",
    "cumulative_data.head()"
   ]
  },
  {
   "cell_type": "markdown",
   "metadata": {},
   "source": [
    "Теперь можно приступать к построениям графиков"
   ]
  },
  {
   "cell_type": "markdown",
   "metadata": {},
   "source": [
    "# 1. Постройте график кумулятивной выручки по группам. Сделайте выводы и предположения"
   ]
  },
  {
   "cell_type": "code",
   "execution_count": 17,
   "metadata": {},
   "outputs": [
    {
     "data": {
      "image/png": "[encoded data removed]",
      "text/plain": [
       "<Figure size 432x288 with 1 Axes>"
      ]
     },
     "metadata": {
      "needs_background": "light"
     },
     "output_type": "display_data"
    }
   ],
   "source": [
    "# датафрейм с кумулятивным количеством заказов и кумулятивной выручкой по дням в группе А\n",
    "cumulative_revenue_a = cumulative_data[cumulative_data['group']=='A'][['date','revenue', 'orders']]\n",
    "\n",
    "# датафрейм с кумулятивным количеством заказов и кумулятивной выручкой по дням в группе B\n",
    "cumulative_revenue_b = cumulative_data[cumulative_data['group']=='B'][['date','revenue', 'orders']]\n",
    "\n",
    "# Строим график выручки группы А\n",
    "plt.plot(cumulative_revenue_a['date'], cumulative_revenue_a['revenue'], label='A')\n",
    "\n",
    "# Строим график выручки группы B\n",
    "plt.plot(cumulative_revenue_b['date'], cumulative_revenue_b['revenue'], label='B')\n",
    "\n",
    "plt.title('График динамики кумулятивной выручки по группам А и В')\n",
    "plt.ylabel(\"Выручка, млн.\")\n",
    "plt.xticks(rotation=30)\n",
    "plt.legend()\n",
    "plt.show() "
   ]
  },
  {
   "cell_type": "markdown",
   "metadata": {},
   "source": [
    "Выручка почти равномерно увеличивается в течение всего теста.\n",
    "Однако график выручки группы В в одной точке резко возрос. Это может сигнализировать о всплеске числа заказов, либо о появлении очень дорогих заказов в выборке."
   ]
  },
  {
   "cell_type": "markdown",
   "metadata": {},
   "source": [
    "# 2. Постройте график кумулятивного среднего чека по группам. Сделайте выводы и предположения.\n"
   ]
  },
  {
   "cell_type": "code",
   "execution_count": 18,
   "metadata": {},
   "outputs": [
    {
     "data": {
      "image/png": "[encoded data removed]",
      "text/plain": [
       "<Figure size 432x288 with 1 Axes>"
      ]
     },
     "metadata": {
      "needs_background": "light"
     },
     "output_type": "display_data"
    }
   ],
   "source": [
    "plt.plot(cumulative_revenue_a['date'], \n",
    "         cumulative_revenue_a['revenue'] / cumulative_revenue_a['orders'],\n",
    "         label='A')\n",
    "\n",
    "plt.plot(cumulative_revenue_b['date'], \n",
    "         cumulative_revenue_b['revenue'] / cumulative_revenue_b['orders'], \n",
    "         label='B')\n",
    "\n",
    "plt.title('График динамики кумулятивного среднего чека по группам А и В')\n",
    "plt.ylabel(\"Выручка, млн.\")\n",
    "plt.xticks(rotation=30)\n",
    "plt.legend()\n",
    "plt.show()"
   ]
  },
  {
   "cell_type": "markdown",
   "metadata": {},
   "source": [
    "Средний чек тоже становится равномерным ближе к концу теста в группе А. А у группы B опять происходит резкий скачок. Возможно, в группу B во второй половине теста попали крупные заказы (резкий всплеск на графике). Тогда ей нужно больше данных, чтобы прийти к реальному среднему чеку и установиться на его уровне."
   ]
  },
  {
   "cell_type": "markdown",
   "metadata": {},
   "source": [
    "# 3. Постройте график относительного изменения кумулятивного среднего чека группы B к группе A. Сделайте выводы и предположения."
   ]
  },
  {
   "cell_type": "code",
   "execution_count": 19,
   "metadata": {},
   "outputs": [
    {
     "data": {
      "image/png": "[encoded data removed]",
      "text/plain": [
       "<Figure size 432x288 with 1 Axes>"
      ]
     },
     "metadata": {
      "needs_background": "light"
     },
     "output_type": "display_data"
    }
   ],
   "source": [
    "cumulative_revenue_ab = cumulative_revenue_a.merge(\n",
    "    cumulative_revenue_b, \n",
    "    left_on='date', \n",
    "    right_on='date', \n",
    "    how='left', \n",
    "    suffixes=['_a', '_b']\n",
    ")\n",
    "\n",
    "plt.plot(cumulative_revenue_ab['date'], \n",
    "         (\n",
    "             cumulative_revenue_ab['revenue_b']/cumulative_revenue_ab['orders_b']\n",
    "         )/\n",
    "         (\n",
    "             cumulative_revenue_ab['revenue_a']/cumulative_revenue_ab['orders_a']\n",
    "         )-1\n",
    "        )\n",
    "plt.axhline(y=0, color='black', linestyle='--')\n",
    "plt.title('График относительного изменения кумулятивного среднего чека группы B к группе A')\n",
    "plt.xticks(rotation=30)\n",
    "plt.show()"
   ]
  },
  {
   "cell_type": "markdown",
   "metadata": {},
   "source": [
    "В нескольких точках график различия между сегментами резко «скачет». Где-то присутствуют крупные заказы и выбросы!"
   ]
  },
  {
   "cell_type": "markdown",
   "metadata": {},
   "source": [
    "# 4. Постройте график кумулятивного среднего количества заказов на посетителя по группам. Сделайте выводы и предположения."
   ]
  },
  {
   "cell_type": "code",
   "execution_count": 20,
   "metadata": {},
   "outputs": [
    {
     "data": {
      "image/png": "[encoded data removed]",
      "text/plain": [
       "<Figure size 432x288 with 1 Axes>"
      ]
     },
     "metadata": {
      "needs_background": "light"
     },
     "output_type": "display_data"
    }
   ],
   "source": [
    "cumulative_data_a = cumulative_data[cumulative_data['group']=='A']\n",
    "cumulative_data_b = cumulative_data[cumulative_data['group']=='B']\n",
    "\n",
    "plt.plot(cumulative_data_a['date'], cumulative_data_a['conversion'], label='A')\n",
    "plt.plot(cumulative_data_b['date'], cumulative_data_b['conversion'], label='B')\n",
    "plt.legend()\n",
    "plt.title('график кумулятивного среднего количества заказов на посетителя по группам')\n",
    "plt.xlabel(' ')\n",
    "plt.ylabel('Конверсия')\n",
    "plt.xticks(rotation=30)\n",
    "plt.show()"
   ]
  },
  {
   "cell_type": "markdown",
   "metadata": {},
   "source": [
    "Сначала конверсии колебались, но довольно быстро выровнялись; результат группы В кажется более привлекательным."
   ]
  },
  {
   "cell_type": "markdown",
   "metadata": {},
   "source": [
    "# 5. Постройте график относительного изменения кумулятивной конверсии группы B к группе A. Сделайте выводы и предположения"
   ]
  },
  {
   "cell_type": "code",
   "execution_count": 21,
   "metadata": {},
   "outputs": [
    {
     "data": {
      "image/png": "[encoded data removed]",
      "text/plain": [
       "<Figure size 432x288 with 1 Axes>"
      ]
     },
     "metadata": {
      "needs_background": "light"
     },
     "output_type": "display_data"
    }
   ],
   "source": [
    "merged_cumulative_conversions = cumulative_data_a[['date','conversion']].merge(cumulative_data_b[['date','conversion']], left_on='date', right_on='date', how='left', suffixes=['A', 'B'])\n",
    "\n",
    "plt.plot(merged_cumulative_conversions['date'], merged_cumulative_conversions['conversionB']/merged_cumulative_conversions['conversionA']-1, label=\"Относительный прирост кумулятивного среднего количества заказов на посетителя группы B относительно группы A\")\n",
    "plt.legend()\n",
    "plt.title('График кумулятивного среднего количества заказов на посетителя группы В к группе А')\n",
    "plt.axhline(y=0, color='black', linestyle='--')\n",
    "plt.axhline(y=-0.1, color='grey', linestyle='--')\n",
    "plt.xticks(rotation=30)\n",
    "plt.show()"
   ]
  },
  {
   "cell_type": "markdown",
   "metadata": {},
   "source": [
    "В начале теста группа B значительно проигрывала группе A, затем вырвалась вперёд. Потом среднее количество заказов на посетителя для группы B снова уменьшалось, но теперь постепенно растёт.\n",
    "В целом отношение среднего количества заказов на посетителя ещё не установилось, и сейчас делать какие-либо выводы по тесту нельзя. Впрочем, сперва стоит проанализировать аномалии, возможно, они изменят картину. "
   ]
  },
  {
   "cell_type": "markdown",
   "metadata": {},
   "source": [
    "# 6.Постройте точечный график количества заказов по пользователям. Сделайте выводы и предположения."
   ]
  },
  {
   "cell_type": "code",
   "execution_count": 22,
   "metadata": {},
   "outputs": [],
   "source": [
    "orders_per_user = orders.groupby('visitor_id', as_index=False).agg({'transaction_id':'nunique'})\\\n",
    "                         .rename(columns={'transaction_id':'orders'})\n"
   ]
  },
  {
   "cell_type": "code",
   "execution_count": 23,
   "metadata": {},
   "outputs": [
    {
     "data": {
      "image/png": "[encoded data removed]",
      "text/plain": [
       "<Figure size 432x288 with 1 Axes>"
      ]
     },
     "metadata": {
      "needs_background": "light"
     },
     "output_type": "display_data"
    }
   ],
   "source": [
    "x_values = pd.Series(range(0,len(orders_per_user['orders'])))\n",
    "plt.scatter(x_values, orders_per_user['orders'], color='red')\n",
    "plt.show()"
   ]
  },
  {
   "cell_type": "markdown",
   "metadata": {},
   "source": [
    "Большая часть пользователь с 2 и более заказами"
   ]
  },
  {
   "cell_type": "markdown",
   "metadata": {},
   "source": [
    "# 7. Посчитайте 95-й и 99-й перцентили количества заказов на пользователя. Выберите границу для определения аномальных пользователей"
   ]
  },
  {
   "cell_type": "code",
   "execution_count": 24,
   "metadata": {},
   "outputs": [
    {
     "data": {
      "text/plain": [
       "array([2., 4.])"
      ]
     },
     "execution_count": 24,
     "metadata": {},
     "output_type": "execute_result"
    }
   ],
   "source": [
    "np.percentile(orders_per_user['orders'], [ 95, 99])"
   ]
  },
  {
   "cell_type": "markdown",
   "metadata": {},
   "source": [
    "Границей для определения аномальных пользователей будет 4."
   ]
  },
  {
   "cell_type": "markdown",
   "metadata": {},
   "source": [
    "# 8. Постройте точечный график стоимостей заказов. Сделайте выводы и предположения."
   ]
  },
  {
   "cell_type": "code",
   "execution_count": 25,
   "metadata": {},
   "outputs": [
    {
     "data": {
      "image/png": "[encoded data removed]",
      "text/plain": [
       "<Figure size 432x288 with 1 Axes>"
      ]
     },
     "metadata": {
      "needs_background": "light"
     },
     "output_type": "display_data"
    }
   ],
   "source": [
    "x_values = pd.Series(range(0,len(orders['revenue'])))\n",
    "plt.scatter(x_values, orders['revenue'], color='red', alpha=0.5)\n",
    "plt.title('Распределение стоимости заказов по пользователям')\n",
    "plt.show()"
   ]
  },
  {
   "cell_type": "markdown",
   "metadata": {},
   "source": [
    "Есть аномальный выброс заказа более 1,2 млн."
   ]
  },
  {
   "cell_type": "markdown",
   "metadata": {},
   "source": [
    "# 9. Посчитайте 95-й и 99-й перцентили стоимости заказов. Выберите границу для определения аномальных заказов."
   ]
  },
  {
   "cell_type": "code",
   "execution_count": 26,
   "metadata": {},
   "outputs": [
    {
     "data": {
      "text/plain": [
       "array([28000. , 58233.2])"
      ]
     },
     "execution_count": 26,
     "metadata": {},
     "output_type": "execute_result"
    }
   ],
   "source": [
    "np.percentile(orders['revenue'], [95, 99])"
   ]
  },
  {
   "cell_type": "markdown",
   "metadata": {},
   "source": [
    "Границу для определения аномальных заказов будем считать 58233"
   ]
  },
  {
   "cell_type": "markdown",
   "metadata": {},
   "source": [
    "# 10. Посчитайте статистическую значимость различий в среднем количестве заказов на посетителя между группами по «сырым» данным. Сделайте выводы и предположения."
   ]
  },
  {
   "cell_type": "code",
   "execution_count": 27,
   "metadata": {},
   "outputs": [],
   "source": [
    "conversion = (orders.groupby('group').agg({'transaction_id':'count'}).rename(columns={'transaction_id':'orders'}))\\\n",
    "                                     .join((visitors.groupby('group').agg({'visitors':'sum'}))).reset_index()\n",
    "conversion['conversion'] = conversion['orders'] / conversion['visitors']"
   ]
  },
  {
   "cell_type": "code",
   "execution_count": 28,
   "metadata": {},
   "outputs": [
    {
     "data": {
      "text/html": [
       "<div>\n",
       "<style scoped>\n",
       "    .dataframe tbody tr th:only-of-type {\n",
       "        vertical-align: middle;\n",
       "    }\n",
       "\n",
       "    .dataframe tbody tr th {\n",
       "        vertical-align: top;\n",
       "    }\n",
       "\n",
       "    .dataframe thead th {\n",
       "        text-align: right;\n",
       "    }\n",
       "</style>\n",
       "<table border=\"1\" class=\"dataframe\">\n",
       "  <thead>\n",
       "    <tr style=\"text-align: right;\">\n",
       "      <th></th>\n",
       "      <th>group</th>\n",
       "      <th>orders</th>\n",
       "      <th>visitors</th>\n",
       "      <th>conversion</th>\n",
       "    </tr>\n",
       "  </thead>\n",
       "  <tbody>\n",
       "    <tr>\n",
       "      <th>0</th>\n",
       "      <td>A</td>\n",
       "      <td>557</td>\n",
       "      <td>18736</td>\n",
       "      <td>0.029729</td>\n",
       "    </tr>\n",
       "    <tr>\n",
       "      <th>1</th>\n",
       "      <td>B</td>\n",
       "      <td>640</td>\n",
       "      <td>18916</td>\n",
       "      <td>0.033834</td>\n",
       "    </tr>\n",
       "  </tbody>\n",
       "</table>\n",
       "</div>"
      ],
      "text/plain": [
       "  group  orders  visitors  conversion\n",
       "0     A     557     18736    0.029729\n",
       "1     B     640     18916    0.033834"
      ]
     },
     "execution_count": 28,
     "metadata": {},
     "output_type": "execute_result"
    }
   ],
   "source": [
    "conversion"
   ]
  },
  {
   "cell_type": "markdown",
   "metadata": {},
   "source": [
    "Посчитаем статистическую значимость различий в конверсии между группами по «сырым» данным — без удаления аномальных пользователей.\n",
    "\n",
    "Введем основную и альтернативные гипотезы:\n",
    "H0: Конверсия в группе A РАВНА конверсии в группе B\n",
    "H1: Конверсия в группе A НЕ РАВНА конверсии в группе B\n",
    "\n",
    "Уровень значимости: 0.05\n",
    "Для проверки гипотез будем использовать непараметрический тест Уилкоксона-Манна-Уитни."
   ]
  },
  {
   "cell_type": "code",
   "execution_count": 29,
   "metadata": {},
   "outputs": [
    {
     "data": {
      "text/html": [
       "<div>\n",
       "<style scoped>\n",
       "    .dataframe tbody tr th:only-of-type {\n",
       "        vertical-align: middle;\n",
       "    }\n",
       "\n",
       "    .dataframe tbody tr th {\n",
       "        vertical-align: top;\n",
       "    }\n",
       "\n",
       "    .dataframe thead th {\n",
       "        text-align: right;\n",
       "    }\n",
       "</style>\n",
       "<table border=\"1\" class=\"dataframe\">\n",
       "  <thead>\n",
       "    <tr style=\"text-align: right;\">\n",
       "      <th></th>\n",
       "      <th>date</th>\n",
       "      <th>orders_daily_a</th>\n",
       "      <th>revenue_per_date_a</th>\n",
       "      <th>orders_daily_b</th>\n",
       "      <th>revenue_per_date_b</th>\n",
       "      <th>orders_cummulative_a</th>\n",
       "      <th>revenue_cummulative_a</th>\n",
       "      <th>orders_cummulative_b</th>\n",
       "      <th>revenue_cummulative_b</th>\n",
       "      <th>visitors_per_date_a</th>\n",
       "      <th>visitors_per_date_b</th>\n",
       "      <th>visitors_cummulative_a</th>\n",
       "      <th>visitors_cummulative_b</th>\n",
       "    </tr>\n",
       "  </thead>\n",
       "  <tbody>\n",
       "    <tr>\n",
       "      <th>0</th>\n",
       "      <td>2019-08-01</td>\n",
       "      <td>24</td>\n",
       "      <td>148579</td>\n",
       "      <td>21</td>\n",
       "      <td>101217</td>\n",
       "      <td>24</td>\n",
       "      <td>148579</td>\n",
       "      <td>21</td>\n",
       "      <td>101217</td>\n",
       "      <td>719</td>\n",
       "      <td>713</td>\n",
       "      <td>719</td>\n",
       "      <td>713</td>\n",
       "    </tr>\n",
       "    <tr>\n",
       "      <th>1</th>\n",
       "      <td>2019-08-02</td>\n",
       "      <td>20</td>\n",
       "      <td>93822</td>\n",
       "      <td>24</td>\n",
       "      <td>165531</td>\n",
       "      <td>44</td>\n",
       "      <td>242401</td>\n",
       "      <td>45</td>\n",
       "      <td>266748</td>\n",
       "      <td>619</td>\n",
       "      <td>581</td>\n",
       "      <td>1338</td>\n",
       "      <td>1294</td>\n",
       "    </tr>\n",
       "    <tr>\n",
       "      <th>2</th>\n",
       "      <td>2019-08-03</td>\n",
       "      <td>24</td>\n",
       "      <td>112473</td>\n",
       "      <td>16</td>\n",
       "      <td>114248</td>\n",
       "      <td>68</td>\n",
       "      <td>354874</td>\n",
       "      <td>61</td>\n",
       "      <td>380996</td>\n",
       "      <td>507</td>\n",
       "      <td>509</td>\n",
       "      <td>1845</td>\n",
       "      <td>1803</td>\n",
       "    </tr>\n",
       "    <tr>\n",
       "      <th>3</th>\n",
       "      <td>2019-08-04</td>\n",
       "      <td>16</td>\n",
       "      <td>70825</td>\n",
       "      <td>17</td>\n",
       "      <td>108571</td>\n",
       "      <td>84</td>\n",
       "      <td>425699</td>\n",
       "      <td>78</td>\n",
       "      <td>489567</td>\n",
       "      <td>717</td>\n",
       "      <td>770</td>\n",
       "      <td>2562</td>\n",
       "      <td>2573</td>\n",
       "    </tr>\n",
       "    <tr>\n",
       "      <th>4</th>\n",
       "      <td>2019-08-05</td>\n",
       "      <td>25</td>\n",
       "      <td>124218</td>\n",
       "      <td>23</td>\n",
       "      <td>92428</td>\n",
       "      <td>109</td>\n",
       "      <td>549917</td>\n",
       "      <td>101</td>\n",
       "      <td>581995</td>\n",
       "      <td>756</td>\n",
       "      <td>707</td>\n",
       "      <td>3318</td>\n",
       "      <td>3280</td>\n",
       "    </tr>\n",
       "  </tbody>\n",
       "</table>\n",
       "</div>"
      ],
      "text/plain": [
       "        date  orders_daily_a  revenue_per_date_a  orders_daily_b  \\\n",
       "0 2019-08-01              24              148579              21   \n",
       "1 2019-08-02              20               93822              24   \n",
       "2 2019-08-03              24              112473              16   \n",
       "3 2019-08-04              16               70825              17   \n",
       "4 2019-08-05              25              124218              23   \n",
       "\n",
       "   revenue_per_date_b  orders_cummulative_a  revenue_cummulative_a  \\\n",
       "0              101217                    24                 148579   \n",
       "1              165531                    44                 242401   \n",
       "2              114248                    68                 354874   \n",
       "3              108571                    84                 425699   \n",
       "4               92428                   109                 549917   \n",
       "\n",
       "   orders_cummulative_b  revenue_cummulative_b  visitors_per_date_a  \\\n",
       "0                    21                 101217                  719   \n",
       "1                    45                 266748                  619   \n",
       "2                    61                 380996                  507   \n",
       "3                    78                 489567                  717   \n",
       "4                   101                 581995                  756   \n",
       "\n",
       "   visitors_per_date_b  visitors_cummulative_a  visitors_cummulative_b  \n",
       "0                  713                     719                     713  \n",
       "1                  581                    1338                    1294  \n",
       "2                  509                    1845                    1803  \n",
       "3                  770                    2562                    2573  \n",
       "4                  707                    3318                    3280  "
      ]
     },
     "execution_count": 29,
     "metadata": {},
     "output_type": "execute_result"
    }
   ],
   "source": [
    "visitors_daily_a = visitors[visitors['group'] == 'A'][['date', 'visitors']]\n",
    "visitors_daily_a.columns = ['date', 'visitors_per_date_a']\n",
    "\n",
    "visitors_cummulative_a = visitors_daily_a.apply(\n",
    "    lambda x: visitors_daily_a[visitors_daily_a['date'] <= x['date']].agg(\n",
    "        {'date': 'max', 'visitors_per_date_a': 'sum'}\n",
    "    ),\n",
    "    axis=1,\n",
    ")\n",
    "visitors_cummulative_a.columns = ['date', 'visitors_cummulative_a']\n",
    "\n",
    "visitors_daily_b = visitors[visitors['group'] == 'B'][['date', 'visitors']]\n",
    "visitors_daily_b.columns = ['date', 'visitors_per_date_b']\n",
    "\n",
    "visitors_cummulative_b = visitors_daily_b.apply(\n",
    "    lambda x: visitors_daily_b[visitors_daily_b['date'] <= x['date']].agg(\n",
    "        {'date': 'max', 'visitors_per_date_b': 'sum'}\n",
    "    ),\n",
    "    axis=1,\n",
    ")\n",
    "visitors_cummulative_b.columns = ['date', 'visitors_cummulative_b']\n",
    "\n",
    "orders_daily_a = (\n",
    "    orders[orders['group'] == 'A'][['date', 'transaction_id', 'visitor_id', 'revenue']]\n",
    "    .groupby('date', as_index=False)\n",
    "    .agg({'transaction_id': pd.Series.nunique, 'revenue': 'sum'})\n",
    ")\n",
    "orders_daily_a.columns = ['date', 'orders_daily_a', 'revenue_per_date_a']\n",
    "\n",
    "orders_cummulative_a = orders_daily_a.apply(\n",
    "    lambda x: orders_daily_a[orders_daily_a['date'] <= x['date']].agg(\n",
    "        {'date': 'max', 'orders_daily_a': 'sum', 'revenue_per_date_a': 'sum'}\n",
    "    ),\n",
    "    axis=1,\n",
    ").sort_values(by=['date'])\n",
    "\n",
    "orders_cummulative_a.columns = ['date','orders_cummulative_a','revenue_cummulative_a']\n",
    "\n",
    "orders_daily_b = (\n",
    "    orders[orders['group'] == 'B'][['date', 'transaction_id', 'visitor_id', 'revenue']]\n",
    "    .groupby('date', as_index=False)\n",
    "    .agg({'transaction_id': pd.Series.nunique, 'revenue': 'sum'})\n",
    ")\n",
    "orders_daily_b.columns = ['date', 'orders_daily_b', 'revenue_per_date_b']\n",
    "\n",
    "orders_cummulative_b = orders_daily_b.apply(\n",
    "    lambda x: orders_daily_b[orders_daily_b['date'] <= x['date']].agg(\n",
    "        {'date': 'max', 'orders_daily_b': 'sum', 'revenue_per_date_b': 'sum'}\n",
    "    ),\n",
    "    axis=1,\n",
    ").sort_values(by=['date'])\n",
    "\n",
    "orders_cummulative_b.columns = ['date','orders_cummulative_b','revenue_cummulative_b']\n",
    "\n",
    "\n",
    "data = (\n",
    "    orders_daily_a.merge(\n",
    "        orders_daily_b, left_on='date', right_on='date', how='left'\n",
    "    )\n",
    "    .merge(orders_cummulative_a, left_on='date', right_on='date', how='left')\n",
    "    .merge(orders_cummulative_b, left_on='date', right_on='date', how='left')\n",
    "    .merge(visitors_daily_a, left_on='date', right_on='date', how='left')\n",
    "    .merge(visitors_daily_b, left_on='date', right_on='date', how='left')\n",
    "    .merge(visitors_cummulative_a, left_on='date', right_on='date', how='left')\n",
    "    .merge(visitors_cummulative_b, left_on='date', right_on='date', how='left')\n",
    ")\n",
    "\n",
    "data.head()"
   ]
  },
  {
   "cell_type": "markdown",
   "metadata": {},
   "source": [
    "Создадим переменные orders_per_user_a и orders_per_user_a в них для пользователей, которые заказывали хотя бы 1 раз, укажем число совершённых заказов."
   ]
  },
  {
   "cell_type": "code",
   "execution_count": 30,
   "metadata": {},
   "outputs": [],
   "source": [
    "orders_per_user_a = (\n",
    "    orders[orders['group'] == 'A']\n",
    "    .groupby('visitor_id', as_index=False)\n",
    "    .agg({'transaction_id': pd.Series.nunique})\n",
    ")\n",
    "orders_per_user_a.columns = ['visitor_id', 'orders']\n",
    "\n",
    "orders_per_user_b = (\n",
    "    orders[orders['group'] == 'B']\n",
    "    .groupby('visitor_id', as_index=False)\n",
    "    .agg({'transaction_id': pd.Series.nunique})\n",
    ")\n",
    "orders_per_user_b.columns = ['visitor_id', 'orders']"
   ]
  },
  {
   "cell_type": "markdown",
   "metadata": {},
   "source": [
    "Объявим переменные sample_a и sample_b, в которых пользователям из разных групп будет соответствовать количество заказов. Тем, кто ничего не заказал, будут соответствовать нули. Это нужно, чтобы подготовить выборки к проверке критерием Манна-Уитни."
   ]
  },
  {
   "cell_type": "code",
   "execution_count": 31,
   "metadata": {},
   "outputs": [],
   "source": [
    "sample_a = pd.concat([orders_per_user_a['orders'],\n",
    "                      pd.Series(\n",
    "                          0, \n",
    "                          index=np.arange(data['visitors_per_date_a'].sum() - \n",
    "                                          len(orders_per_user_a['orders'])), \n",
    "                          name='orders')],axis=0\n",
    "                    )\n",
    "\n",
    "sample_b = pd.concat([orders_per_user_b['orders'],\n",
    "                      pd.Series(\n",
    "                          0, \n",
    "                          index=np.arange(data['visitors_per_date_b'].sum() - \n",
    "                                          len(orders_per_user_b['orders'])), \n",
    "                          name='orders')],axis=0\n",
    "                    )"
   ]
  },
  {
   "cell_type": "code",
   "execution_count": 32,
   "metadata": {},
   "outputs": [],
   "source": [
    "def stat_significance(data_a, data_b):\n",
    "    alpha = 0.05\n",
    "    p_value = stats.mannwhitneyu(data_a, data_b)[1]\n",
    "    print(\"P-value: {0:.3f}\".format(p_value))\n",
    "\n",
    "    if (p_value < alpha):\n",
    "        print(\"Отвергаем нулевую гипотезу: между группами есть разница\")\n",
    "    else:\n",
    "        print(\"Не получилось отвергнуть нулевую гипотезу, нет оснований считать группы разными\")\n",
    "    \n",
    "    print(\"Относительный прирост В к А: {0:.3%}\".format(data_b.mean() / data_a.mean()-1))"
   ]
  },
  {
   "cell_type": "code",
   "execution_count": 33,
   "metadata": {},
   "outputs": [
    {
     "name": "stdout",
     "output_type": "stream",
     "text": [
      "P-value: 0.017\n",
      "Отвергаем нулевую гипотезу: между группами есть разница\n",
      "Относительный прирост В к А: 13.808%\n"
     ]
    }
   ],
   "source": [
    "stat_significance(sample_a, sample_b)"
   ]
  },
  {
   "cell_type": "markdown",
   "metadata": {},
   "source": [
    " По неочищенным данным различия в конверсии между группами есть."
   ]
  },
  {
   "cell_type": "markdown",
   "metadata": {},
   "source": [
    "# 11. Посчитайте статистическую значимость различий в среднем чеке заказа между группами по «сырым» данным. Сделайте выводы и предположения\n",
    "\n"
   ]
  },
  {
   "cell_type": "markdown",
   "metadata": {},
   "source": [
    "Воспользуемся критерием Манна-Уитни и введем основную и альтернативные гипотезы:\n",
    "H0: Различий в среднем чеке между группами нет\n",
    "H1: Различия в среднем чеке между группами есть"
   ]
  },
  {
   "cell_type": "code",
   "execution_count": 39,
   "metadata": {},
   "outputs": [
    {
     "name": "stdout",
     "output_type": "stream",
     "text": [
      "P-value: 0.729\n",
      "Не получилось отвергнуть нулевую гипотезу, нет оснований считать группы разными\n",
      "Относительный прирост В к А: 25.871%\n"
     ]
    }
   ],
   "source": [
    "stat_significance(orders[orders['group']=='A']['revenue'], orders[orders['group']=='B']['revenue'])\n"
   ]
  },
  {
   "cell_type": "markdown",
   "metadata": {},
   "source": [
    "P-value значительно больше 0.05. Значит отвергать нулевую гипотезу и считать, что в среднем чеке есть различия, причин нет. Средний чек группы B значительно выше среднего чека группы A."
   ]
  },
  {
   "cell_type": "markdown",
   "metadata": {},
   "source": [
    "# 12. Посчитайте статистическую значимость различий в конверсии между группами по «очищенным» данным. Сделайте выводы и предположения"
   ]
  },
  {
   "cell_type": "markdown",
   "metadata": {},
   "source": [
    "Введем основную и альтернативную гипотезы:\n",
    "H0: Конверсия в группе A РАВНА конверсии в группе B\n",
    "H1: Конверсия в группе A НЕ РАВНА конверсии в группе B\n",
    "Для начала очистим данные."
   ]
  },
  {
   "cell_type": "markdown",
   "metadata": {},
   "source": [
    "Примем за аномальных пользователей тех, кто совершил от 5 заказов или совершил заказ дороже 58233. Так мы уберём 1% пользователей с наибольшим числом заказов и от 1% пользователей с дорогими заказами. Сделаем срезы пользователей с числом заказов больше 4 — users_with_many_orders и пользователей, совершивших заказы дороже 58233 — users_with_expensive_orders. Объединим их в таблице abnormal_users.\n",
    "Узнаем, сколько всего аномальных пользователей методом shape()."
   ]
  },
  {
   "cell_type": "code",
   "execution_count": 43,
   "metadata": {},
   "outputs": [
    {
     "data": {
      "text/plain": [
       "1099     148427295\n",
       "949      887908475\n",
       "744      888512513\n",
       "1103    1164614297\n",
       "1136    1307669133\n",
       "Name: visitor_id, dtype: int64"
      ]
     },
     "metadata": {},
     "output_type": "display_data"
    },
    {
     "data": {
      "text/plain": [
       "15"
      ]
     },
     "execution_count": 43,
     "metadata": {},
     "output_type": "execute_result"
    }
   ],
   "source": [
    "orders_per_user_a = (\n",
    "    orders[orders['group'] == 'A']\n",
    "    .groupby('visitor_id', as_index=False)\n",
    "    .agg({'transaction_id': pd.Series.nunique})\n",
    ")\n",
    "orders_per_user_a.columns = ['visitor_id', 'orders']\n",
    "\n",
    "orders_per_user_b = (\n",
    "    orders[orders['group'] == 'B']\n",
    "    .groupby('visitor_id', as_index=False)\n",
    "    .agg({'transaction_id': pd.Series.nunique})\n",
    ")\n",
    "orders_per_user_b.columns = ['visitor_id', 'orders']\n",
    "\n",
    "many_orders = np.percentile(orders_per_user['orders'], 99)\n",
    "expensive_orders = np.percentile(orders['revenue'], 99)\n",
    "\n",
    "\n",
    "users_with_many_orders = pd.concat(\n",
    "    [\n",
    "        orders_per_user_a[orders_per_user_a['orders'] > many_orders]['visitor_id'],\n",
    "        orders_per_user_b[orders_per_user_b['orders'] > many_orders]['visitor_id'],\n",
    "    ],\n",
    "    axis=0,\n",
    ")\n",
    "\n",
    "\n",
    "users_with_expensive_orders = orders[orders['revenue'] > expensive_orders]['visitor_id']\n",
    "\n",
    "\n",
    "abnormal_users = (\n",
    "    pd.concat([users_with_many_orders, users_with_expensive_orders], axis=0)\n",
    "    .drop_duplicates()\n",
    "    .sort_values()\n",
    ")\n",
    "display(abnormal_users.head(5))\n",
    "abnormal_users.shape[0]"
   ]
  },
  {
   "cell_type": "markdown",
   "metadata": {},
   "source": [
    "Получилось 15 аномальных значений"
   ]
  },
  {
   "cell_type": "code",
   "execution_count": 44,
   "metadata": {},
   "outputs": [],
   "source": [
    "sample_a_filtered = pd.concat(\n",
    "    [\n",
    "        orders_per_user_a[\n",
    "            np.logical_not(orders_per_user_a['visitor_id'].isin(abnormal_users))\n",
    "        ]['orders'],\n",
    "        pd.Series(\n",
    "            0,\n",
    "            index=np.arange(\n",
    "                data['visitors_per_date_a'].sum() - len(orders_per_user_a['orders'])\n",
    "            ),\n",
    "            name='orders',\n",
    "        ),\n",
    "    ],\n",
    "    axis=0,\n",
    ")\n",
    "\n",
    "sample_b_filtered = pd.concat(\n",
    "    [\n",
    "        orders_per_user_b[\n",
    "            np.logical_not(orders_per_user_b['visitor_id'].isin(abnormal_users))\n",
    "        ]['orders'],\n",
    "        pd.Series(\n",
    "            0,\n",
    "            index=np.arange(\n",
    "                data['visitors_per_date_b'].sum() - len(orders_per_user_b['orders'])\n",
    "            ),\n",
    "            name='orders',\n",
    "        ),\n",
    "    ],\n",
    "    axis=0,\n",
    ")"
   ]
  },
  {
   "cell_type": "code",
   "execution_count": 45,
   "metadata": {},
   "outputs": [
    {
     "name": "stdout",
     "output_type": "stream",
     "text": [
      "P-value: 0.014\n",
      "Отвергаем нулевую гипотезу: между группами есть разница\n",
      "Относительный прирост В к А: 15.331%\n"
     ]
    }
   ],
   "source": [
    "\n",
    "stat_significance(sample_a_filtered, sample_b_filtered)"
   ]
  },
  {
   "cell_type": "markdown",
   "metadata": {},
   "source": [
    "\n",
    "B-конверсия снова превышает конверсию А со стат.значимостью."
   ]
  },
  {
   "cell_type": "markdown",
   "metadata": {},
   "source": [
    "# 13. Посчитайте статистическую значимость различий в среднем чеке заказа между группами по «очищенным» данным. Сделайте выводы и предположения"
   ]
  },
  {
   "cell_type": "markdown",
   "metadata": {},
   "source": [
    "Воспользуемся критерием Манна-Уитни и введем гипотезы:\n",
    "H0: Средний чек A НЕ ПРЕВОСХОДИТ среднему чеку группы B\n",
    "H1: Средний чек A ПРЕВОСХОДИТ среднему чеку группы B"
   ]
  },
  {
   "cell_type": "code",
   "execution_count": 46,
   "metadata": {},
   "outputs": [
    {
     "name": "stdout",
     "output_type": "stream",
     "text": [
      "P-value: 0.851\n",
      "Не получилось отвергнуть нулевую гипотезу, нет оснований считать группы разными\n",
      "Относительный прирост В к А: -0.575%\n"
     ]
    }
   ],
   "source": [
    "stat_significance(\n",
    "    orders[(orders['group']=='A') & np.logical_not(orders['visitor_id'].isin(abnormal_users))]['revenue'], \n",
    "    orders[(orders['group']=='B') & np.logical_not(orders['visitor_id'].isin(abnormal_users))]['revenue']\n",
    "                  )"
   ]
  },
  {
   "cell_type": "markdown",
   "metadata": {},
   "source": [
    "Не получилось отвергнуть нулевую гипотезу, по разнице средних чеков групп различий практически нет."
   ]
  },
  {
   "cell_type": "markdown",
   "metadata": {},
   "source": [
    "# Выводы"
   ]
  },
  {
   "cell_type": "markdown",
   "metadata": {},
   "source": [
    "Есть статистически значимое различие по конверсии между группами как по сырым данным, так и после фильтрации аномалий.\n",
    "По сырым данным нет статистически значимого различия по среднему чеку между группами. Однако после удаления аномалий статистически значимое различие есть.\n",
    "График различия конверсии между группами сообщает, что результаты группы B лучше группы A: имеют тенденцию к росту, либо зафиксировались около среднего значения.\n",
    "\n",
    "Можно остановить тест, зафиксировав победу группы B (ее конверсия значительно выше конверсии группы А)."
   ]
  }
 ],
 "metadata": {
  "ExecuteTimeLog": [
   {
    "duration": 1365,
    "start_time": "2024-03-16T07:59:13.280Z"
   },
   {
    "duration": 187,
    "start_time": "2024-03-16T08:00:14.511Z"
   },
   {
    "duration": 90,
    "start_time": "2024-03-16T08:00:58.402Z"
   },
   {
    "duration": 18,
    "start_time": "2024-03-16T08:04:32.391Z"
   },
   {
    "duration": 14,
    "start_time": "2024-03-16T08:05:03.921Z"
   },
   {
    "duration": 14,
    "start_time": "2024-03-16T08:05:41.665Z"
   },
   {
    "duration": 5,
    "start_time": "2024-03-16T08:11:08.164Z"
   },
   {
    "duration": 1345,
    "start_time": "2024-03-16T19:23:31.429Z"
   },
   {
    "duration": 195,
    "start_time": "2024-03-16T19:23:33.728Z"
   },
   {
    "duration": 16,
    "start_time": "2024-03-16T19:23:34.324Z"
   },
   {
    "duration": 13,
    "start_time": "2024-03-16T19:23:34.852Z"
   },
   {
    "duration": 12,
    "start_time": "2024-03-16T19:23:35.082Z"
   },
   {
    "duration": 6,
    "start_time": "2024-03-16T19:23:35.500Z"
   },
   {
    "duration": 1622,
    "start_time": "2024-03-16T19:23:37.118Z"
   },
   {
    "duration": 12,
    "start_time": "2024-03-16T19:24:40.899Z"
   },
   {
    "duration": 99,
    "start_time": "2024-03-16T19:28:51.789Z"
   },
   {
    "duration": 8,
    "start_time": "2024-03-16T19:30:29.660Z"
   },
   {
    "duration": 11,
    "start_time": "2024-03-16T19:31:01.655Z"
   },
   {
    "duration": 9,
    "start_time": "2024-03-16T19:41:05.952Z"
   },
   {
    "duration": 13,
    "start_time": "2024-03-16T19:41:30.275Z"
   },
   {
    "duration": 6,
    "start_time": "2024-03-16T19:41:52.346Z"
   },
   {
    "duration": 3,
    "start_time": "2024-03-16T19:44:16.087Z"
   },
   {
    "duration": 3,
    "start_time": "2024-03-16T19:46:52.897Z"
   },
   {
    "duration": 10,
    "start_time": "2024-03-16T19:47:06.314Z"
   },
   {
    "duration": 10,
    "start_time": "2024-03-16T19:47:25.416Z"
   },
   {
    "duration": 8,
    "start_time": "2024-03-16T19:47:37.576Z"
   },
   {
    "duration": 4,
    "start_time": "2024-03-16T19:48:01.751Z"
   },
   {
    "duration": 10,
    "start_time": "2024-03-16T19:48:07.273Z"
   },
   {
    "duration": 3,
    "start_time": "2024-03-16T19:48:19.998Z"
   },
   {
    "duration": 3,
    "start_time": "2024-03-16T19:48:22.149Z"
   },
   {
    "duration": 8,
    "start_time": "2024-03-16T19:48:27.130Z"
   },
   {
    "duration": 26,
    "start_time": "2024-03-16T19:56:59.431Z"
   },
   {
    "duration": 156,
    "start_time": "2024-03-16T19:57:26.530Z"
   },
   {
    "duration": 116,
    "start_time": "2024-03-16T20:00:49.669Z"
   },
   {
    "duration": 6,
    "start_time": "2024-03-16T20:02:27.411Z"
   },
   {
    "duration": 11,
    "start_time": "2024-03-16T20:05:31.230Z"
   },
   {
    "duration": 11,
    "start_time": "2024-03-16T20:09:15.767Z"
   },
   {
    "duration": 14,
    "start_time": "2024-03-16T20:11:14.668Z"
   },
   {
    "duration": 239,
    "start_time": "2024-03-16T20:11:25.927Z"
   },
   {
    "duration": 190,
    "start_time": "2024-03-16T20:11:59.231Z"
   },
   {
    "duration": 16,
    "start_time": "2024-03-16T20:16:27.733Z"
   },
   {
    "duration": 182,
    "start_time": "2024-03-16T20:17:09.962Z"
   },
   {
    "duration": 12,
    "start_time": "2024-03-16T20:23:23.013Z"
   },
   {
    "duration": 5,
    "start_time": "2024-03-16T20:24:53.195Z"
   },
   {
    "duration": 1578,
    "start_time": "2024-03-16T20:26:07.089Z"
   },
   {
    "duration": 454,
    "start_time": "2024-03-16T20:28:40.553Z"
   },
   {
    "duration": 191,
    "start_time": "2024-03-16T21:02:44.204Z"
   },
   {
    "duration": 98,
    "start_time": "2024-03-17T20:17:28.259Z"
   },
   {
    "duration": 0,
    "start_time": "2024-03-17T20:17:28.360Z"
   },
   {
    "duration": 0,
    "start_time": "2024-03-17T20:17:28.361Z"
   },
   {
    "duration": 0,
    "start_time": "2024-03-17T20:17:28.362Z"
   },
   {
    "duration": 1,
    "start_time": "2024-03-17T20:17:28.363Z"
   },
   {
    "duration": 0,
    "start_time": "2024-03-17T20:17:28.365Z"
   },
   {
    "duration": 0,
    "start_time": "2024-03-17T20:17:28.366Z"
   },
   {
    "duration": 0,
    "start_time": "2024-03-17T20:17:28.367Z"
   },
   {
    "duration": 0,
    "start_time": "2024-03-17T20:17:28.369Z"
   },
   {
    "duration": 0,
    "start_time": "2024-03-17T20:17:28.370Z"
   },
   {
    "duration": 0,
    "start_time": "2024-03-17T20:17:28.371Z"
   },
   {
    "duration": 0,
    "start_time": "2024-03-17T20:17:28.373Z"
   },
   {
    "duration": 0,
    "start_time": "2024-03-17T20:17:28.374Z"
   },
   {
    "duration": 0,
    "start_time": "2024-03-17T20:17:28.375Z"
   },
   {
    "duration": 0,
    "start_time": "2024-03-17T20:17:28.377Z"
   },
   {
    "duration": 0,
    "start_time": "2024-03-17T20:17:28.378Z"
   },
   {
    "duration": 0,
    "start_time": "2024-03-17T20:17:28.379Z"
   },
   {
    "duration": 0,
    "start_time": "2024-03-17T20:17:28.381Z"
   },
   {
    "duration": 0,
    "start_time": "2024-03-17T20:17:28.382Z"
   },
   {
    "duration": 1,
    "start_time": "2024-03-17T20:17:28.384Z"
   },
   {
    "duration": 0,
    "start_time": "2024-03-17T20:17:28.386Z"
   },
   {
    "duration": 98,
    "start_time": "2024-03-17T20:21:23.469Z"
   },
   {
    "duration": 0,
    "start_time": "2024-03-17T20:21:23.569Z"
   },
   {
    "duration": 0,
    "start_time": "2024-03-17T20:21:23.570Z"
   },
   {
    "duration": 0,
    "start_time": "2024-03-17T20:21:23.571Z"
   },
   {
    "duration": 0,
    "start_time": "2024-03-17T20:21:23.572Z"
   },
   {
    "duration": 0,
    "start_time": "2024-03-17T20:21:23.573Z"
   },
   {
    "duration": 0,
    "start_time": "2024-03-17T20:21:23.574Z"
   },
   {
    "duration": 0,
    "start_time": "2024-03-17T20:21:23.575Z"
   },
   {
    "duration": 0,
    "start_time": "2024-03-17T20:21:23.576Z"
   },
   {
    "duration": 0,
    "start_time": "2024-03-17T20:21:23.577Z"
   },
   {
    "duration": 0,
    "start_time": "2024-03-17T20:21:23.578Z"
   },
   {
    "duration": 0,
    "start_time": "2024-03-17T20:21:23.579Z"
   },
   {
    "duration": 0,
    "start_time": "2024-03-17T20:21:23.580Z"
   },
   {
    "duration": 0,
    "start_time": "2024-03-17T20:21:23.581Z"
   },
   {
    "duration": 0,
    "start_time": "2024-03-17T20:21:23.582Z"
   },
   {
    "duration": 0,
    "start_time": "2024-03-17T20:21:23.583Z"
   },
   {
    "duration": 0,
    "start_time": "2024-03-17T20:21:23.584Z"
   },
   {
    "duration": 0,
    "start_time": "2024-03-17T20:21:23.585Z"
   },
   {
    "duration": 0,
    "start_time": "2024-03-17T20:21:23.586Z"
   },
   {
    "duration": 0,
    "start_time": "2024-03-17T20:21:23.587Z"
   },
   {
    "duration": 0,
    "start_time": "2024-03-17T20:21:23.588Z"
   },
   {
    "duration": 0,
    "start_time": "2024-03-17T20:21:23.589Z"
   },
   {
    "duration": 1414,
    "start_time": "2024-03-17T20:21:34.856Z"
   },
   {
    "duration": 186,
    "start_time": "2024-03-17T20:21:37.029Z"
   },
   {
    "duration": 16,
    "start_time": "2024-03-17T20:21:37.238Z"
   },
   {
    "duration": 15,
    "start_time": "2024-03-17T20:21:37.463Z"
   },
   {
    "duration": 12,
    "start_time": "2024-03-17T20:21:37.641Z"
   },
   {
    "duration": 5,
    "start_time": "2024-03-17T20:21:38.042Z"
   },
   {
    "duration": 4,
    "start_time": "2024-03-17T20:21:38.818Z"
   },
   {
    "duration": 3,
    "start_time": "2024-03-17T20:21:38.900Z"
   },
   {
    "duration": 13,
    "start_time": "2024-03-17T20:21:39.474Z"
   },
   {
    "duration": 12,
    "start_time": "2024-03-17T20:21:39.867Z"
   },
   {
    "duration": 8,
    "start_time": "2024-03-17T20:21:40.634Z"
   },
   {
    "duration": 7,
    "start_time": "2024-03-17T20:21:40.832Z"
   },
   {
    "duration": 114,
    "start_time": "2024-03-17T20:21:41.454Z"
   },
   {
    "duration": 124,
    "start_time": "2024-03-17T20:21:41.814Z"
   },
   {
    "duration": 9,
    "start_time": "2024-03-17T20:21:42.229Z"
   },
   {
    "duration": 3,
    "start_time": "2024-03-17T20:22:10.363Z"
   },
   {
    "duration": 73,
    "start_time": "2024-03-17T20:22:11.307Z"
   },
   {
    "duration": 19,
    "start_time": "2024-03-17T20:22:11.953Z"
   },
   {
    "duration": 13,
    "start_time": "2024-03-17T20:22:13.186Z"
   },
   {
    "duration": 15,
    "start_time": "2024-03-17T20:22:13.931Z"
   },
   {
    "duration": 6,
    "start_time": "2024-03-17T20:22:19.917Z"
   },
   {
    "duration": 3,
    "start_time": "2024-03-17T20:22:23.678Z"
   },
   {
    "duration": 3,
    "start_time": "2024-03-17T20:22:23.922Z"
   },
   {
    "duration": 11,
    "start_time": "2024-03-17T20:22:27.888Z"
   },
   {
    "duration": 11,
    "start_time": "2024-03-17T20:22:29.086Z"
   },
   {
    "duration": 8,
    "start_time": "2024-03-17T20:22:30.551Z"
   },
   {
    "duration": 9,
    "start_time": "2024-03-17T20:22:30.850Z"
   },
   {
    "duration": 22,
    "start_time": "2024-03-17T20:22:32.417Z"
   },
   {
    "duration": 177,
    "start_time": "2024-03-17T20:23:03.824Z"
   },
   {
    "duration": 114,
    "start_time": "2024-03-17T20:23:14.500Z"
   },
   {
    "duration": 9,
    "start_time": "2024-03-17T20:23:16.549Z"
   },
   {
    "duration": 11,
    "start_time": "2024-03-17T20:23:19.414Z"
   },
   {
    "duration": 271,
    "start_time": "2024-03-17T20:23:25.365Z"
   },
   {
    "duration": 176,
    "start_time": "2024-03-17T20:23:27.991Z"
   },
   {
    "duration": 373,
    "start_time": "2024-03-17T20:23:29.670Z"
   },
   {
    "duration": 217,
    "start_time": "2024-03-17T20:23:31.508Z"
   },
   {
    "duration": 360,
    "start_time": "2024-03-17T20:23:39.860Z"
   },
   {
    "duration": 304,
    "start_time": "2024-03-17T20:24:15.744Z"
   },
   {
    "duration": 373,
    "start_time": "2024-03-17T20:25:27.524Z"
   },
   {
    "duration": 288,
    "start_time": "2024-03-17T20:26:29.511Z"
   },
   {
    "duration": 282,
    "start_time": "2024-03-17T20:26:50.033Z"
   },
   {
    "duration": 291,
    "start_time": "2024-03-17T20:27:43.030Z"
   },
   {
    "duration": 6,
    "start_time": "2024-03-17T20:36:39.653Z"
   },
   {
    "duration": 107,
    "start_time": "2024-03-17T20:37:11.879Z"
   },
   {
    "duration": 9,
    "start_time": "2024-03-17T20:41:00.833Z"
   },
   {
    "duration": 1563,
    "start_time": "2024-03-17T20:41:36.375Z"
   },
   {
    "duration": 5,
    "start_time": "2024-03-17T20:42:21.638Z"
   },
   {
    "duration": 123,
    "start_time": "2024-03-17T20:48:44.510Z"
   },
   {
    "duration": 146,
    "start_time": "2024-03-17T20:49:41.372Z"
   },
   {
    "duration": 137,
    "start_time": "2024-03-17T20:49:54.758Z"
   },
   {
    "duration": 5,
    "start_time": "2024-03-17T20:52:40.564Z"
   },
   {
    "duration": 5,
    "start_time": "2024-03-17T20:53:04.449Z"
   },
   {
    "duration": 10,
    "start_time": "2024-03-17T20:55:46.912Z"
   },
   {
    "duration": 8,
    "start_time": "2024-03-17T21:00:26.809Z"
   },
   {
    "duration": 13,
    "start_time": "2024-03-17T21:07:08.665Z"
   },
   {
    "duration": 7,
    "start_time": "2024-03-17T21:07:41.155Z"
   },
   {
    "duration": 7,
    "start_time": "2024-03-17T21:09:19.677Z"
   },
   {
    "duration": 11,
    "start_time": "2024-03-17T21:14:29.272Z"
   },
   {
    "duration": 10,
    "start_time": "2024-03-17T21:15:42.324Z"
   },
   {
    "duration": 12,
    "start_time": "2024-03-17T21:19:02.303Z"
   },
   {
    "duration": 7,
    "start_time": "2024-03-17T21:19:28.669Z"
   },
   {
    "duration": 9,
    "start_time": "2024-03-17T21:22:27.889Z"
   },
   {
    "duration": 9,
    "start_time": "2024-03-17T21:23:26.119Z"
   },
   {
    "duration": 9,
    "start_time": "2024-03-17T21:24:50.830Z"
   },
   {
    "duration": 11,
    "start_time": "2024-03-17T21:26:49.578Z"
   },
   {
    "duration": 10,
    "start_time": "2024-03-17T21:27:24.346Z"
   },
   {
    "duration": 11,
    "start_time": "2024-03-17T21:27:36.365Z"
   },
   {
    "duration": 11,
    "start_time": "2024-03-17T21:29:14.223Z"
   },
   {
    "duration": 146,
    "start_time": "2024-03-17T21:30:23.914Z"
   },
   {
    "duration": 129,
    "start_time": "2024-03-17T21:30:49.242Z"
   },
   {
    "duration": 137,
    "start_time": "2024-03-17T21:31:11.003Z"
   },
   {
    "duration": 12,
    "start_time": "2024-03-17T21:33:42.763Z"
   },
   {
    "duration": 13,
    "start_time": "2024-03-17T21:35:11.810Z"
   },
   {
    "duration": 7,
    "start_time": "2024-03-17T21:35:52.776Z"
   },
   {
    "duration": 7,
    "start_time": "2024-03-17T21:38:08.556Z"
   },
   {
    "duration": 9,
    "start_time": "2024-03-17T21:38:35.099Z"
   },
   {
    "duration": 11,
    "start_time": "2024-03-17T21:41:55.642Z"
   },
   {
    "duration": 180,
    "start_time": "2024-03-17T21:42:45.615Z"
   },
   {
    "duration": 221,
    "start_time": "2024-03-17T21:44:02.349Z"
   },
   {
    "duration": 1105,
    "start_time": "2024-03-18T10:39:43.145Z"
   },
   {
    "duration": 188,
    "start_time": "2024-03-18T10:39:44.251Z"
   },
   {
    "duration": 15,
    "start_time": "2024-03-18T10:39:44.440Z"
   },
   {
    "duration": 10,
    "start_time": "2024-03-18T10:39:44.457Z"
   },
   {
    "duration": 16,
    "start_time": "2024-03-18T10:39:44.469Z"
   },
   {
    "duration": 16,
    "start_time": "2024-03-18T10:39:44.486Z"
   },
   {
    "duration": 5,
    "start_time": "2024-03-18T10:39:44.504Z"
   },
   {
    "duration": 8,
    "start_time": "2024-03-18T10:39:44.510Z"
   },
   {
    "duration": 14,
    "start_time": "2024-03-18T10:39:44.519Z"
   },
   {
    "duration": 10,
    "start_time": "2024-03-18T10:39:44.535Z"
   },
   {
    "duration": 10,
    "start_time": "2024-03-18T10:39:44.546Z"
   },
   {
    "duration": 9,
    "start_time": "2024-03-18T10:39:44.557Z"
   },
   {
    "duration": 168,
    "start_time": "2024-03-18T10:39:44.568Z"
   },
   {
    "duration": 108,
    "start_time": "2024-03-18T10:39:44.737Z"
   },
   {
    "duration": 5,
    "start_time": "2024-03-18T10:39:44.847Z"
   },
   {
    "duration": 25,
    "start_time": "2024-03-18T10:39:44.854Z"
   },
   {
    "duration": 241,
    "start_time": "2024-03-18T10:39:44.881Z"
   },
   {
    "duration": 164,
    "start_time": "2024-03-18T10:39:45.124Z"
   },
   {
    "duration": 302,
    "start_time": "2024-03-18T10:39:45.289Z"
   },
   {
    "duration": 189,
    "start_time": "2024-03-18T10:39:45.592Z"
   },
   {
    "duration": 320,
    "start_time": "2024-03-18T10:39:45.783Z"
   },
   {
    "duration": 6,
    "start_time": "2024-03-18T10:39:46.105Z"
   },
   {
    "duration": 113,
    "start_time": "2024-03-18T10:39:46.113Z"
   },
   {
    "duration": 4,
    "start_time": "2024-03-18T10:39:46.227Z"
   },
   {
    "duration": 126,
    "start_time": "2024-03-18T10:39:46.232Z"
   },
   {
    "duration": 4,
    "start_time": "2024-03-18T10:39:46.359Z"
   },
   {
    "duration": 12,
    "start_time": "2024-03-18T10:39:46.365Z"
   },
   {
    "duration": 29,
    "start_time": "2024-03-18T10:39:46.380Z"
   },
   {
    "duration": 25,
    "start_time": "2024-03-18T10:39:46.411Z"
   },
   {
    "duration": 73,
    "start_time": "2024-03-18T10:39:46.437Z"
   },
   {
    "duration": 193,
    "start_time": "2024-03-18T10:39:46.512Z"
   },
   {
    "duration": 6,
    "start_time": "2024-03-18T10:39:46.706Z"
   },
   {
    "duration": 29,
    "start_time": "2024-03-18T10:39:46.713Z"
   },
   {
    "duration": 8,
    "start_time": "2024-03-18T10:39:46.743Z"
   },
   {
    "duration": 1331,
    "start_time": "2024-03-18T11:50:45.682Z"
   },
   {
    "duration": 184,
    "start_time": "2024-03-18T11:50:47.017Z"
   },
   {
    "duration": 16,
    "start_time": "2024-03-18T11:50:47.203Z"
   },
   {
    "duration": 12,
    "start_time": "2024-03-18T11:50:47.221Z"
   },
   {
    "duration": 12,
    "start_time": "2024-03-18T11:50:47.235Z"
   },
   {
    "duration": 6,
    "start_time": "2024-03-18T11:50:47.575Z"
   },
   {
    "duration": 4,
    "start_time": "2024-03-18T11:50:48.204Z"
   },
   {
    "duration": 3,
    "start_time": "2024-03-18T11:50:48.462Z"
   },
   {
    "duration": 13,
    "start_time": "2024-03-18T11:50:49.369Z"
   },
   {
    "duration": 11,
    "start_time": "2024-03-18T11:50:50.284Z"
   },
   {
    "duration": 10,
    "start_time": "2024-03-18T11:50:51.707Z"
   },
   {
    "duration": 7,
    "start_time": "2024-03-18T11:50:51.981Z"
   },
   {
    "duration": 160,
    "start_time": "2024-03-18T11:50:52.536Z"
   },
   {
    "duration": 128,
    "start_time": "2024-03-18T11:50:53.005Z"
   },
   {
    "duration": 8,
    "start_time": "2024-03-18T11:50:53.801Z"
   },
   {
    "duration": 10,
    "start_time": "2024-03-18T11:50:54.160Z"
   },
   {
    "duration": 268,
    "start_time": "2024-03-18T11:50:55.284Z"
   },
   {
    "duration": 166,
    "start_time": "2024-03-18T11:50:56.395Z"
   },
   {
    "duration": 306,
    "start_time": "2024-03-18T11:50:56.955Z"
   },
   {
    "duration": 189,
    "start_time": "2024-03-18T11:50:57.808Z"
   },
   {
    "duration": 297,
    "start_time": "2024-03-18T11:50:58.362Z"
   },
   {
    "duration": 6,
    "start_time": "2024-03-18T11:50:59.157Z"
   },
   {
    "duration": 98,
    "start_time": "2024-03-18T11:50:59.348Z"
   },
   {
    "duration": 6,
    "start_time": "2024-03-18T11:50:59.970Z"
   },
   {
    "duration": 124,
    "start_time": "2024-03-18T11:51:00.612Z"
   },
   {
    "duration": 4,
    "start_time": "2024-03-18T11:51:02.004Z"
   },
   {
    "duration": 9,
    "start_time": "2024-03-18T11:51:09.375Z"
   },
   {
    "duration": 9,
    "start_time": "2024-03-18T11:51:09.441Z"
   },
   {
    "duration": 272,
    "start_time": "2024-03-18T11:51:12.974Z"
   },
   {
    "duration": 201,
    "start_time": "2024-03-18T11:51:27.960Z"
   },
   {
    "duration": 1164,
    "start_time": "2024-03-18T12:40:55.608Z"
   },
   {
    "duration": 73,
    "start_time": "2024-03-18T12:40:56.774Z"
   },
   {
    "duration": 15,
    "start_time": "2024-03-18T12:40:56.848Z"
   },
   {
    "duration": 14,
    "start_time": "2024-03-18T12:40:56.865Z"
   },
   {
    "duration": 12,
    "start_time": "2024-03-18T12:40:56.881Z"
   },
   {
    "duration": 5,
    "start_time": "2024-03-18T12:40:57.144Z"
   },
   {
    "duration": 4,
    "start_time": "2024-03-18T12:40:57.575Z"
   },
   {
    "duration": 4,
    "start_time": "2024-03-18T12:40:57.798Z"
   },
   {
    "duration": 13,
    "start_time": "2024-03-18T12:40:58.651Z"
   },
   {
    "duration": 11,
    "start_time": "2024-03-18T12:40:59.290Z"
   },
   {
    "duration": 8,
    "start_time": "2024-03-18T12:41:00.584Z"
   },
   {
    "duration": 8,
    "start_time": "2024-03-18T12:41:00.777Z"
   },
   {
    "duration": 162,
    "start_time": "2024-03-18T12:41:01.397Z"
   },
   {
    "duration": 119,
    "start_time": "2024-03-18T12:41:01.843Z"
   },
   {
    "duration": 7,
    "start_time": "2024-03-18T12:41:02.263Z"
   },
   {
    "duration": 10,
    "start_time": "2024-03-18T12:41:02.728Z"
   },
   {
    "duration": 257,
    "start_time": "2024-03-18T12:41:03.641Z"
   },
   {
    "duration": 183,
    "start_time": "2024-03-18T12:41:05.417Z"
   },
   {
    "duration": 286,
    "start_time": "2024-03-18T12:41:06.116Z"
   },
   {
    "duration": 196,
    "start_time": "2024-03-18T12:41:06.770Z"
   },
   {
    "duration": 329,
    "start_time": "2024-03-18T12:41:07.429Z"
   },
   {
    "duration": 7,
    "start_time": "2024-03-18T12:41:08.319Z"
   },
   {
    "duration": 101,
    "start_time": "2024-03-18T12:41:08.608Z"
   },
   {
    "duration": 4,
    "start_time": "2024-03-18T12:41:09.804Z"
   },
   {
    "duration": 133,
    "start_time": "2024-03-18T12:41:11.397Z"
   },
   {
    "duration": 5,
    "start_time": "2024-03-18T12:41:13.832Z"
   },
   {
    "duration": 9,
    "start_time": "2024-03-18T12:41:16.569Z"
   },
   {
    "duration": 7,
    "start_time": "2024-03-18T12:41:21.730Z"
   },
   {
    "duration": 272,
    "start_time": "2024-03-18T12:41:23.299Z"
   },
   {
    "duration": 139,
    "start_time": "2024-03-18T12:41:23.685Z"
   },
   {
    "duration": 6,
    "start_time": "2024-03-18T12:42:20.370Z"
   },
   {
    "duration": 4,
    "start_time": "2024-03-18T12:44:10.853Z"
   },
   {
    "duration": 24,
    "start_time": "2024-03-18T12:44:27.236Z"
   },
   {
    "duration": 68,
    "start_time": "2024-03-18T12:47:33.469Z"
   },
   {
    "duration": 9,
    "start_time": "2024-03-18T12:52:21.517Z"
   },
   {
    "duration": 4,
    "start_time": "2024-03-18T12:54:47.684Z"
   },
   {
    "duration": 102,
    "start_time": "2024-03-18T12:54:55.798Z"
   },
   {
    "duration": 8,
    "start_time": "2024-03-18T12:55:19.166Z"
   },
   {
    "duration": 10,
    "start_time": "2024-03-18T12:56:38.137Z"
   },
   {
    "duration": 9,
    "start_time": "2024-03-18T12:58:36.094Z"
   },
   {
    "duration": 9,
    "start_time": "2024-03-18T12:58:48.173Z"
   },
   {
    "duration": 146,
    "start_time": "2024-03-18T12:59:29.883Z"
   },
   {
    "duration": 7,
    "start_time": "2024-03-18T12:59:37.720Z"
   },
   {
    "duration": 24,
    "start_time": "2024-03-18T13:00:00.956Z"
   },
   {
    "duration": 9,
    "start_time": "2024-03-18T13:00:54.450Z"
   }
  ],
  "kernelspec": {
   "display_name": "Python 3 (ipykernel)",
   "language": "python",
   "name": "python3"
  },
  "language_info": {
   "codemirror_mode": {
    "name": "ipython",
    "version": 3
   },
   "file_extension": ".py",
   "mimetype": "text/x-python",
   "name": "python",
   "nbconvert_exporter": "python",
   "pygments_lexer": "ipython3",
   "version": "3.11.7"
  },
  "toc": {
   "base_numbering": 1,
   "nav_menu": {},
   "number_sections": true,
   "sideBar": true,
   "skip_h1_title": true,
   "title_cell": "Table of Contents",
   "title_sidebar": "Contents",
   "toc_cell": false,
   "toc_position": {},
   "toc_section_display": true,
   "toc_window_display": false
  }
 },
 "nbformat": 4,
 "nbformat_minor": 4
}
