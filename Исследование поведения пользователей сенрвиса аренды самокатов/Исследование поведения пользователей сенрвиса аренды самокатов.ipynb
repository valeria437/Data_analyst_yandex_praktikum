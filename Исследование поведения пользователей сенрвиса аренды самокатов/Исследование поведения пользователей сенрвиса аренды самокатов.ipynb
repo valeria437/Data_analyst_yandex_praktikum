{
 "cells": [
  {
   "cell_type": "markdown",
   "id": "61086f3e",
   "metadata": {},
   "source": [
    "В нашем распоряжении данные о некоторых пользователях из нескольких городов, а также об их поездках. Чтобы совершать поездки по городу, пользователи сервиса GoFast пользуются мобильным приложением. Сервисом можно пользоваться без подписки и с подпиской Ultra. Продакт-менеджеры сервиса хотят увеличить количество пользователей с подпиской. Для этого они будут проводить различные акции, но сначала нужно выяснить несколько важных моментов.\n",
    "\n",
    "Нам необходимо проанализировать данные и провереть некоторые гипотезы, которые могут помочь бизнесу вырасти:\n",
    "\n",
    "1 Важно понять, тратят ли пользователи с подпиской больше времени на поездки? Если да, то пользователи с подпиской могут быть «выгоднее» для компании.\n",
    "2 Расстояние одной поездки в 3130 метров — оптимальное с точки зрения износа самоката. Поверить гипотезу, что среднее расстояние, которое проезжают пользователи с подпиской за одну поездку, не превышает \n",
    "3130\n",
    "3 Проверим гипотезу о том, будет ли помесячная выручка от пользователей с подпиской по месяцам выше, чем выручка от пользователей без подписки.\n",
    "\n",
    "Для совершения необходимого анализа мое исследование будет проходить в 6 этапов:\n",
    "в начале буду загружать данные из предоставленных таблиц, анализировать и обработать информацию по полученным таблицам, подготовлю и проанализирую полученные данные, объеденю информацию из трех таблив в одну, а затем рассортирую ее на две на основании двух статистически важных групп пользователей. В дальнейшем подсчитаю выручку для двух групп пользователеф и проверю поставленные передо мной гипотезы."
   ]
  },
  {
   "cell_type": "code",
   "execution_count": 1,
   "id": "72576667",
   "metadata": {},
   "outputs": [],
   "source": [
    "import pandas as pd"
   ]
  },
  {
   "cell_type": "markdown",
   "id": "c42cbe00",
   "metadata": {},
   "source": [
    "#### Шаг 1. Загрузка данных"
   ]
  },
  {
   "cell_type": "code",
   "execution_count": 2,
   "id": "eff9f206",
   "metadata": {},
   "outputs": [],
   "source": [
    "users = pd.read_csv('/datasets/users_go.csv', sep = ',')"
   ]
  },
  {
   "cell_type": "code",
   "execution_count": 3,
   "id": "16e25558",
   "metadata": {},
   "outputs": [
    {
     "name": "stdout",
     "output_type": "stream",
     "text": [
      "<class 'pandas.core.frame.DataFrame'>\n",
      "RangeIndex: 1565 entries, 0 to 1564\n",
      "Data columns (total 5 columns):\n",
      " #   Column             Non-Null Count  Dtype \n",
      "---  ------             --------------  ----- \n",
      " 0   user_id            1565 non-null   int64 \n",
      " 1   name               1565 non-null   object\n",
      " 2   age                1565 non-null   int64 \n",
      " 3   city               1565 non-null   object\n",
      " 4   subscription_type  1565 non-null   object\n",
      "dtypes: int64(2), object(3)\n",
      "memory usage: 61.3+ KB\n"
     ]
    }
   ],
   "source": [
    "users.info()"
   ]
  },
  {
   "cell_type": "code",
   "execution_count": 4,
   "id": "f43c00cd",
   "metadata": {},
   "outputs": [
    {
     "data": {
      "text/html": [
       "<div>\n",
       "<style scoped>\n",
       "    .dataframe tbody tr th:only-of-type {\n",
       "        vertical-align: middle;\n",
       "    }\n",
       "\n",
       "    .dataframe tbody tr th {\n",
       "        vertical-align: top;\n",
       "    }\n",
       "\n",
       "    .dataframe thead th {\n",
       "        text-align: right;\n",
       "    }\n",
       "</style>\n",
       "<table border=\"1\" class=\"dataframe\">\n",
       "  <thead>\n",
       "    <tr style=\"text-align: right;\">\n",
       "      <th></th>\n",
       "      <th>user_id</th>\n",
       "      <th>name</th>\n",
       "      <th>age</th>\n",
       "      <th>city</th>\n",
       "      <th>subscription_type</th>\n",
       "    </tr>\n",
       "  </thead>\n",
       "  <tbody>\n",
       "    <tr>\n",
       "      <th>0</th>\n",
       "      <td>1</td>\n",
       "      <td>Кира</td>\n",
       "      <td>22</td>\n",
       "      <td>Тюмень</td>\n",
       "      <td>ultra</td>\n",
       "    </tr>\n",
       "    <tr>\n",
       "      <th>1</th>\n",
       "      <td>2</td>\n",
       "      <td>Станислав</td>\n",
       "      <td>31</td>\n",
       "      <td>Омск</td>\n",
       "      <td>ultra</td>\n",
       "    </tr>\n",
       "    <tr>\n",
       "      <th>2</th>\n",
       "      <td>3</td>\n",
       "      <td>Алексей</td>\n",
       "      <td>20</td>\n",
       "      <td>Москва</td>\n",
       "      <td>ultra</td>\n",
       "    </tr>\n",
       "    <tr>\n",
       "      <th>3</th>\n",
       "      <td>4</td>\n",
       "      <td>Константин</td>\n",
       "      <td>26</td>\n",
       "      <td>Ростов-на-Дону</td>\n",
       "      <td>ultra</td>\n",
       "    </tr>\n",
       "    <tr>\n",
       "      <th>4</th>\n",
       "      <td>5</td>\n",
       "      <td>Адель</td>\n",
       "      <td>28</td>\n",
       "      <td>Омск</td>\n",
       "      <td>ultra</td>\n",
       "    </tr>\n",
       "  </tbody>\n",
       "</table>\n",
       "</div>"
      ],
      "text/plain": [
       "   user_id        name  age            city subscription_type\n",
       "0        1        Кира   22          Тюмень             ultra\n",
       "1        2   Станислав   31            Омск             ultra\n",
       "2        3     Алексей   20          Москва             ultra\n",
       "3        4  Константин   26  Ростов-на-Дону             ultra\n",
       "4        5       Адель   28            Омск             ultra"
      ]
     },
     "execution_count": 4,
     "metadata": {},
     "output_type": "execute_result"
    }
   ],
   "source": [
    "users.head()"
   ]
  },
  {
   "cell_type": "code",
   "execution_count": 5,
   "id": "9ee43599",
   "metadata": {},
   "outputs": [],
   "source": [
    "rides = pd.read_csv('/datasets/rides_go.csv', sep = ',')"
   ]
  },
  {
   "cell_type": "code",
   "execution_count": 6,
   "id": "7d085509",
   "metadata": {},
   "outputs": [
    {
     "name": "stdout",
     "output_type": "stream",
     "text": [
      "<class 'pandas.core.frame.DataFrame'>\n",
      "RangeIndex: 18068 entries, 0 to 18067\n",
      "Data columns (total 4 columns):\n",
      " #   Column    Non-Null Count  Dtype  \n",
      "---  ------    --------------  -----  \n",
      " 0   user_id   18068 non-null  int64  \n",
      " 1   distance  18068 non-null  float64\n",
      " 2   duration  18068 non-null  float64\n",
      " 3   date      18068 non-null  object \n",
      "dtypes: float64(2), int64(1), object(1)\n",
      "memory usage: 564.8+ KB\n"
     ]
    }
   ],
   "source": [
    "rides.info()"
   ]
  },
  {
   "cell_type": "code",
   "execution_count": 7,
   "id": "67b20b09",
   "metadata": {},
   "outputs": [
    {
     "data": {
      "text/html": [
       "<div>\n",
       "<style scoped>\n",
       "    .dataframe tbody tr th:only-of-type {\n",
       "        vertical-align: middle;\n",
       "    }\n",
       "\n",
       "    .dataframe tbody tr th {\n",
       "        vertical-align: top;\n",
       "    }\n",
       "\n",
       "    .dataframe thead th {\n",
       "        text-align: right;\n",
       "    }\n",
       "</style>\n",
       "<table border=\"1\" class=\"dataframe\">\n",
       "  <thead>\n",
       "    <tr style=\"text-align: right;\">\n",
       "      <th></th>\n",
       "      <th>user_id</th>\n",
       "      <th>distance</th>\n",
       "      <th>duration</th>\n",
       "      <th>date</th>\n",
       "    </tr>\n",
       "  </thead>\n",
       "  <tbody>\n",
       "    <tr>\n",
       "      <th>0</th>\n",
       "      <td>1</td>\n",
       "      <td>4409.919140</td>\n",
       "      <td>25.599769</td>\n",
       "      <td>2021-01-01</td>\n",
       "    </tr>\n",
       "    <tr>\n",
       "      <th>1</th>\n",
       "      <td>1</td>\n",
       "      <td>2617.592153</td>\n",
       "      <td>15.816871</td>\n",
       "      <td>2021-01-18</td>\n",
       "    </tr>\n",
       "    <tr>\n",
       "      <th>2</th>\n",
       "      <td>1</td>\n",
       "      <td>754.159807</td>\n",
       "      <td>6.232113</td>\n",
       "      <td>2021-04-20</td>\n",
       "    </tr>\n",
       "    <tr>\n",
       "      <th>3</th>\n",
       "      <td>1</td>\n",
       "      <td>2694.783254</td>\n",
       "      <td>18.511000</td>\n",
       "      <td>2021-08-11</td>\n",
       "    </tr>\n",
       "    <tr>\n",
       "      <th>4</th>\n",
       "      <td>1</td>\n",
       "      <td>4028.687306</td>\n",
       "      <td>26.265803</td>\n",
       "      <td>2021-08-28</td>\n",
       "    </tr>\n",
       "  </tbody>\n",
       "</table>\n",
       "</div>"
      ],
      "text/plain": [
       "   user_id     distance   duration        date\n",
       "0        1  4409.919140  25.599769  2021-01-01\n",
       "1        1  2617.592153  15.816871  2021-01-18\n",
       "2        1   754.159807   6.232113  2021-04-20\n",
       "3        1  2694.783254  18.511000  2021-08-11\n",
       "4        1  4028.687306  26.265803  2021-08-28"
      ]
     },
     "execution_count": 7,
     "metadata": {},
     "output_type": "execute_result"
    }
   ],
   "source": [
    "rides.head()"
   ]
  },
  {
   "cell_type": "code",
   "execution_count": 8,
   "id": "6f8a8eca",
   "metadata": {},
   "outputs": [],
   "source": [
    "subscriptions = pd.read_csv('/datasets/subscriptions_go.csv', sep = ',')"
   ]
  },
  {
   "cell_type": "code",
   "execution_count": 9,
   "id": "364e26bd",
   "metadata": {},
   "outputs": [
    {
     "name": "stdout",
     "output_type": "stream",
     "text": [
      "<class 'pandas.core.frame.DataFrame'>\n",
      "RangeIndex: 2 entries, 0 to 1\n",
      "Data columns (total 4 columns):\n",
      " #   Column             Non-Null Count  Dtype \n",
      "---  ------             --------------  ----- \n",
      " 0   subscription_type  2 non-null      object\n",
      " 1   minute_price       2 non-null      int64 \n",
      " 2   start_ride_price   2 non-null      int64 \n",
      " 3   subscription_fee   2 non-null      int64 \n",
      "dtypes: int64(3), object(1)\n",
      "memory usage: 192.0+ bytes\n"
     ]
    }
   ],
   "source": [
    "subscriptions.info()"
   ]
  },
  {
   "cell_type": "code",
   "execution_count": 10,
   "id": "9c3e9538",
   "metadata": {},
   "outputs": [
    {
     "data": {
      "text/html": [
       "<div>\n",
       "<style scoped>\n",
       "    .dataframe tbody tr th:only-of-type {\n",
       "        vertical-align: middle;\n",
       "    }\n",
       "\n",
       "    .dataframe tbody tr th {\n",
       "        vertical-align: top;\n",
       "    }\n",
       "\n",
       "    .dataframe thead th {\n",
       "        text-align: right;\n",
       "    }\n",
       "</style>\n",
       "<table border=\"1\" class=\"dataframe\">\n",
       "  <thead>\n",
       "    <tr style=\"text-align: right;\">\n",
       "      <th></th>\n",
       "      <th>subscription_type</th>\n",
       "      <th>minute_price</th>\n",
       "      <th>start_ride_price</th>\n",
       "      <th>subscription_fee</th>\n",
       "    </tr>\n",
       "  </thead>\n",
       "  <tbody>\n",
       "    <tr>\n",
       "      <th>0</th>\n",
       "      <td>free</td>\n",
       "      <td>8</td>\n",
       "      <td>50</td>\n",
       "      <td>0</td>\n",
       "    </tr>\n",
       "    <tr>\n",
       "      <th>1</th>\n",
       "      <td>ultra</td>\n",
       "      <td>6</td>\n",
       "      <td>0</td>\n",
       "      <td>199</td>\n",
       "    </tr>\n",
       "  </tbody>\n",
       "</table>\n",
       "</div>"
      ],
      "text/plain": [
       "  subscription_type  minute_price  start_ride_price  subscription_fee\n",
       "0              free             8                50                 0\n",
       "1             ultra             6                 0               199"
      ]
     },
     "execution_count": 10,
     "metadata": {},
     "output_type": "execute_result"
    }
   ],
   "source": [
    "subscriptions.head()"
   ]
  },
  {
   "cell_type": "markdown",
   "id": "b5e01aec",
   "metadata": {},
   "source": [
    "На данном этапе были открыты и изучены три разные таблицы, необходимые для дальнейшей работы."
   ]
  },
  {
   "cell_type": "markdown",
   "id": "e95ebca7",
   "metadata": {},
   "source": [
    "#### Шаг 2. Предобработка данных"
   ]
  },
  {
   "cell_type": "code",
   "execution_count": 11,
   "id": "8bacd9a8",
   "metadata": {},
   "outputs": [
    {
     "name": "stdout",
     "output_type": "stream",
     "text": [
      "<class 'pandas.core.frame.DataFrame'>\n",
      "RangeIndex: 18068 entries, 0 to 18067\n",
      "Data columns (total 4 columns):\n",
      " #   Column    Non-Null Count  Dtype         \n",
      "---  ------    --------------  -----         \n",
      " 0   user_id   18068 non-null  int64         \n",
      " 1   distance  18068 non-null  float64       \n",
      " 2   duration  18068 non-null  float64       \n",
      " 3   date      18068 non-null  datetime64[ns]\n",
      "dtypes: datetime64[ns](1), float64(2), int64(1)\n",
      "memory usage: 564.8 KB\n"
     ]
    }
   ],
   "source": [
    "rides['date'] = pd.to_datetime(rides['date'],format='%Y-%m-%d %H:%M')\n",
    "rides.info()"
   ]
  },
  {
   "cell_type": "code",
   "execution_count": 12,
   "id": "af6d202c",
   "metadata": {},
   "outputs": [
    {
     "data": {
      "text/html": [
       "<div>\n",
       "<style scoped>\n",
       "    .dataframe tbody tr th:only-of-type {\n",
       "        vertical-align: middle;\n",
       "    }\n",
       "\n",
       "    .dataframe tbody tr th {\n",
       "        vertical-align: top;\n",
       "    }\n",
       "\n",
       "    .dataframe thead th {\n",
       "        text-align: right;\n",
       "    }\n",
       "</style>\n",
       "<table border=\"1\" class=\"dataframe\">\n",
       "  <thead>\n",
       "    <tr style=\"text-align: right;\">\n",
       "      <th></th>\n",
       "      <th>user_id</th>\n",
       "      <th>distance</th>\n",
       "      <th>duration</th>\n",
       "      <th>date</th>\n",
       "      <th>month</th>\n",
       "    </tr>\n",
       "  </thead>\n",
       "  <tbody>\n",
       "    <tr>\n",
       "      <th>0</th>\n",
       "      <td>1</td>\n",
       "      <td>4409.919140</td>\n",
       "      <td>25.599769</td>\n",
       "      <td>2021-01-01</td>\n",
       "      <td>1</td>\n",
       "    </tr>\n",
       "    <tr>\n",
       "      <th>1</th>\n",
       "      <td>1</td>\n",
       "      <td>2617.592153</td>\n",
       "      <td>15.816871</td>\n",
       "      <td>2021-01-18</td>\n",
       "      <td>1</td>\n",
       "    </tr>\n",
       "    <tr>\n",
       "      <th>2</th>\n",
       "      <td>1</td>\n",
       "      <td>754.159807</td>\n",
       "      <td>6.232113</td>\n",
       "      <td>2021-04-20</td>\n",
       "      <td>4</td>\n",
       "    </tr>\n",
       "    <tr>\n",
       "      <th>3</th>\n",
       "      <td>1</td>\n",
       "      <td>2694.783254</td>\n",
       "      <td>18.511000</td>\n",
       "      <td>2021-08-11</td>\n",
       "      <td>8</td>\n",
       "    </tr>\n",
       "    <tr>\n",
       "      <th>4</th>\n",
       "      <td>1</td>\n",
       "      <td>4028.687306</td>\n",
       "      <td>26.265803</td>\n",
       "      <td>2021-08-28</td>\n",
       "      <td>8</td>\n",
       "    </tr>\n",
       "  </tbody>\n",
       "</table>\n",
       "</div>"
      ],
      "text/plain": [
       "   user_id     distance   duration       date  month\n",
       "0        1  4409.919140  25.599769 2021-01-01      1\n",
       "1        1  2617.592153  15.816871 2021-01-18      1\n",
       "2        1   754.159807   6.232113 2021-04-20      4\n",
       "3        1  2694.783254  18.511000 2021-08-11      8\n",
       "4        1  4028.687306  26.265803 2021-08-28      8"
      ]
     },
     "execution_count": 12,
     "metadata": {},
     "output_type": "execute_result"
    }
   ],
   "source": [
    "rides['month'] = rides['date'].dt.month\n",
    "rides.head()"
   ]
  },
  {
   "cell_type": "code",
   "execution_count": 13,
   "id": "d041b8b3",
   "metadata": {},
   "outputs": [
    {
     "data": {
      "text/plain": [
       "user_id              0\n",
       "name                 0\n",
       "age                  0\n",
       "city                 0\n",
       "subscription_type    0\n",
       "dtype: int64"
      ]
     },
     "execution_count": 13,
     "metadata": {},
     "output_type": "execute_result"
    }
   ],
   "source": [
    "users.isna().sum()"
   ]
  },
  {
   "cell_type": "code",
   "execution_count": 14,
   "id": "d54dbafd",
   "metadata": {},
   "outputs": [
    {
     "data": {
      "text/plain": [
       "user_id     0\n",
       "distance    0\n",
       "duration    0\n",
       "date        0\n",
       "month       0\n",
       "dtype: int64"
      ]
     },
     "execution_count": 14,
     "metadata": {},
     "output_type": "execute_result"
    }
   ],
   "source": [
    "rides.isna().sum()"
   ]
  },
  {
   "cell_type": "code",
   "execution_count": 15,
   "id": "088ed741",
   "metadata": {},
   "outputs": [
    {
     "data": {
      "text/plain": [
       "subscription_type    0\n",
       "minute_price         0\n",
       "start_ride_price     0\n",
       "subscription_fee     0\n",
       "dtype: int64"
      ]
     },
     "execution_count": 15,
     "metadata": {},
     "output_type": "execute_result"
    }
   ],
   "source": [
    "subscriptions.isna().sum()"
   ]
  },
  {
   "cell_type": "code",
   "execution_count": 16,
   "id": "43b602ac",
   "metadata": {},
   "outputs": [
    {
     "data": {
      "text/plain": [
       "array(['Тюмень', 'Омск', 'Москва', 'Ростов-на-Дону', 'Краснодар',\n",
       "       'Пятигорск', 'Екатеринбург', 'Сочи'], dtype=object)"
      ]
     },
     "execution_count": 16,
     "metadata": {},
     "output_type": "execute_result"
    }
   ],
   "source": [
    "users['city'].unique()"
   ]
  },
  {
   "cell_type": "code",
   "execution_count": 17,
   "id": "a1f58ae6",
   "metadata": {},
   "outputs": [
    {
     "data": {
      "text/plain": [
       "array(['Кира', 'Станислав', 'Алексей', 'Константин', 'Адель', 'Регина',\n",
       "       'Игорь', 'Юрий', 'Ян', 'Валерий', 'Агата', 'Марк', 'Ева',\n",
       "       'Антонина', 'Валерия', 'Амалия', 'Даниил', 'Аделина', 'Святогор',\n",
       "       'Борис', 'Вероника', 'Ростислав', 'Назар', 'Эдуард', 'Василий',\n",
       "       'Денис', 'Тамара', 'Николай', 'Эвелина', 'Федор', 'Руслан', 'Иван',\n",
       "       'Любовь', 'Ярослава', 'Майя', 'Ильдар', 'Данила', 'Нина',\n",
       "       'Стефания', 'Ясмина', 'Дмитрий', 'Александр', 'Одиссей', 'Арсений',\n",
       "       'Алла', 'Таисия', 'Максим', 'Юлиана', 'Павел', 'Карина', 'Алиса',\n",
       "       'Лидия', 'Рамиль', 'Родион', 'Ника', 'Оксана', 'Анастасия',\n",
       "       'Маргарита', 'Вера', 'Тимур', 'Никита', 'Лев', 'Влад', 'Артур',\n",
       "       'Анна', 'Ольга', 'Вячеслав', 'Ксения', 'Виталина', 'Владислав',\n",
       "       'Тамерлан', 'Амина', 'Вадим', 'Олеся', 'Зарина', 'Егор', 'Гордей',\n",
       "       'Лилия', 'Святослав', 'Роберт', 'Амир', 'Влада', 'Богдан',\n",
       "       'Полина', 'Марат', 'Елисей', 'Макар', 'Алина', 'Глеб', 'Андрей',\n",
       "       'Альбина', 'Людмила', 'Марсель', 'Милена', 'Диана', 'Дарина',\n",
       "       'Данил', 'Артемий', 'Лиана', 'Альберт', 'Герман', 'Жанна', 'Нелли',\n",
       "       'Евгения', 'Ариана', 'Самира', 'Захар', 'Эльвира', 'Екатерина',\n",
       "       'Инна', 'Демид', 'Яна', 'Михаил', 'Татьяна', 'Степан', 'Мелания',\n",
       "       'Тимофей', 'Ирина', 'Анжелика', 'Владислава', 'Елизавета',\n",
       "       'Мадина', 'Снежана', 'Даниэль', 'Рустам', 'Каролина', 'Ангелина',\n",
       "       'Владимир', 'Виктория', 'Валентина', 'Семен', 'Арина', 'Лариса',\n",
       "       'Есения', 'Галина', 'Кирилл', 'Игнат', 'Виталий', 'Эмилия',\n",
       "       'Виолетта', 'Яромир', 'Софья', 'Мирослава', 'Евгений', 'Варвара',\n",
       "       'Платон', 'Наталия', 'Анатолий', 'Кристина', 'Всеволод', 'Дарья',\n",
       "       'Наташа', 'Мария', 'Марина', 'Василиса', 'Юлия', 'Илья', 'Злата',\n",
       "       'Роман', 'Наталья', 'Элина', 'Арсен', 'Айдар', 'Алия', 'Виктор',\n",
       "       'Мирон', 'Ульяна', 'Георгий', 'Петр', 'Эльмира', 'Олег', 'Дамир',\n",
       "       'Самир', 'Ярослав', 'Камилла', 'Сергей', 'Эмиль', 'Радмир',\n",
       "       'Савелий', 'Елена', 'Антон', 'Мирослав', 'София', 'Тихон', 'Артём',\n",
       "       'Давид', 'Григорий', 'Алёна', 'Светлана', 'Леонид', 'Александра',\n",
       "       'Василина', 'Милана', 'Матвей'], dtype=object)"
      ]
     },
     "execution_count": 17,
     "metadata": {},
     "output_type": "execute_result"
    }
   ],
   "source": [
    "users['name'].unique()"
   ]
  },
  {
   "cell_type": "code",
   "execution_count": 18,
   "id": "5249daf1",
   "metadata": {},
   "outputs": [],
   "source": [
    "users['name'] = (\n",
    "    users['name']\n",
    "        .str.replace('ё','е')\n",
    "        .replace('Влад','Владислав')\n",
    ")"
   ]
  },
  {
   "cell_type": "code",
   "execution_count": 19,
   "id": "063fb70e",
   "metadata": {},
   "outputs": [
    {
     "data": {
      "text/plain": [
       "31"
      ]
     },
     "execution_count": 19,
     "metadata": {},
     "output_type": "execute_result"
    }
   ],
   "source": [
    "users.duplicated().sum()"
   ]
  },
  {
   "cell_type": "code",
   "execution_count": 20,
   "id": "8fe1a90f",
   "metadata": {},
   "outputs": [],
   "source": [
    "users = users.drop_duplicates().reset_index(drop=True)"
   ]
  },
  {
   "cell_type": "code",
   "execution_count": 21,
   "id": "78d366f7",
   "metadata": {},
   "outputs": [
    {
     "data": {
      "text/plain": [
       "0"
      ]
     },
     "execution_count": 21,
     "metadata": {},
     "output_type": "execute_result"
    }
   ],
   "source": [
    "rides.duplicated().sum()"
   ]
  },
  {
   "cell_type": "code",
   "execution_count": 22,
   "id": "4f71f973",
   "metadata": {},
   "outputs": [
    {
     "data": {
      "text/plain": [
       "0"
      ]
     },
     "execution_count": 22,
     "metadata": {},
     "output_type": "execute_result"
    }
   ],
   "source": [
    "subscriptions.duplicated().sum()"
   ]
  },
  {
   "cell_type": "markdown",
   "id": "080358fe",
   "metadata": {},
   "source": [
    "Таблицы были изучены на аномалии и пропущенные значения. В ходе данной работы не было найдено пропущенных значений, дубликаты в именах были заменены, дата была приведена в соответсвующему формату и был добавлен столбец с месяцем в виде порядкого числа."
   ]
  },
  {
   "cell_type": "markdown",
   "id": "212593c7",
   "metadata": {},
   "source": [
    "#### Шаг 3. Исследовательский анализ данных"
   ]
  },
  {
   "cell_type": "code",
   "execution_count": 23,
   "id": "0e8e074e",
   "metadata": {},
   "outputs": [],
   "source": [
    "import matplotlib.pyplot as plt"
   ]
  },
  {
   "cell_type": "code",
   "execution_count": 24,
   "id": "e3a4274c",
   "metadata": {},
   "outputs": [
    {
     "data": {
      "image/png": "[encoded data removed]",
      "text/plain": [
       "<Figure size 720x360 with 1 Axes>"
      ]
     },
     "metadata": {
      "needs_background": "light"
     },
     "output_type": "display_data"
    }
   ],
   "source": [
    "(\n",
    "    users.pivot_table(index='city', values='user_id', aggfunc = 'count')\n",
    "    .sort_values('user_id')\n",
    "    .plot(grid=True, kind='barh', figsize=(10, 5))\n",
    ")\n",
    "  \n",
    "plt.title('Частота встречаемости городов')\n",
    "plt.ylabel('Название города')\n",
    "plt.xlabel('Кол-во')\n",
    "plt.show()\n"
   ]
  },
  {
   "cell_type": "code",
   "execution_count": 25,
   "id": "fc04a457",
   "metadata": {},
   "outputs": [
    {
     "data": {
      "text/plain": [
       "count          1534\n",
       "unique            8\n",
       "top       Пятигорск\n",
       "freq            219\n",
       "Name: city, dtype: object"
      ]
     },
     "execution_count": 25,
     "metadata": {},
     "output_type": "execute_result"
    }
   ],
   "source": [
    "users['city'].describe()"
   ]
  },
  {
   "cell_type": "markdown",
   "id": "2200b3e6",
   "metadata": {},
   "source": [
    "Из нашего графика видно, что больше всего пользователей находится в городе Пятигорске, а меньшее количество - в Москве."
   ]
  },
  {
   "cell_type": "code",
   "execution_count": 26,
   "id": "577d24f1",
   "metadata": {},
   "outputs": [
    {
     "data": {
      "text/html": [
       "<div>\n",
       "<style scoped>\n",
       "    .dataframe tbody tr th:only-of-type {\n",
       "        vertical-align: middle;\n",
       "    }\n",
       "\n",
       "    .dataframe tbody tr th {\n",
       "        vertical-align: top;\n",
       "    }\n",
       "\n",
       "    .dataframe thead th {\n",
       "        text-align: right;\n",
       "    }\n",
       "</style>\n",
       "<table border=\"1\" class=\"dataframe\">\n",
       "  <thead>\n",
       "    <tr style=\"text-align: right;\">\n",
       "      <th></th>\n",
       "      <th>user_id</th>\n",
       "      <th>name</th>\n",
       "      <th>age</th>\n",
       "      <th>city</th>\n",
       "    </tr>\n",
       "    <tr>\n",
       "      <th>subscription_type</th>\n",
       "      <th></th>\n",
       "      <th></th>\n",
       "      <th></th>\n",
       "      <th></th>\n",
       "    </tr>\n",
       "  </thead>\n",
       "  <tbody>\n",
       "    <tr>\n",
       "      <th>free</th>\n",
       "      <td>835</td>\n",
       "      <td>835</td>\n",
       "      <td>835</td>\n",
       "      <td>835</td>\n",
       "    </tr>\n",
       "    <tr>\n",
       "      <th>ultra</th>\n",
       "      <td>699</td>\n",
       "      <td>699</td>\n",
       "      <td>699</td>\n",
       "      <td>699</td>\n",
       "    </tr>\n",
       "  </tbody>\n",
       "</table>\n",
       "</div>"
      ],
      "text/plain": [
       "                   user_id  name  age  city\n",
       "subscription_type                          \n",
       "free                   835   835  835   835\n",
       "ultra                  699   699  699   699"
      ]
     },
     "execution_count": 26,
     "metadata": {},
     "output_type": "execute_result"
    }
   ],
   "source": [
    "subscriptions_count = users.groupby(by='subscription_type').count()\n",
    "subscriptions_count"
   ]
  },
  {
   "cell_type": "code",
   "execution_count": 27,
   "id": "2d8742f1",
   "metadata": {},
   "outputs": [
    {
     "data": {
      "text/plain": [
       "<AxesSubplot:ylabel='Соотношение пользователей с подпиской и без'>"
      ]
     },
     "execution_count": 27,
     "metadata": {},
     "output_type": "execute_result"
    },
    {
     "data": {
      "image/png": "[encoded data removed]",
      "text/plain": [
       "<Figure size 288x288 with 1 Axes>"
      ]
     },
     "metadata": {},
     "output_type": "display_data"
    }
   ],
   "source": [
    "subscriptions_count.plot(y='name', autopct='%1.1f%%',label='Соотношение пользователей с подпиской и без', kind='pie', figsize=(4,4))"
   ]
  },
  {
   "cell_type": "code",
   "execution_count": 28,
   "id": "c55dc595",
   "metadata": {},
   "outputs": [
    {
     "data": {
      "text/html": [
       "<div>\n",
       "<style scoped>\n",
       "    .dataframe tbody tr th:only-of-type {\n",
       "        vertical-align: middle;\n",
       "    }\n",
       "\n",
       "    .dataframe tbody tr th {\n",
       "        vertical-align: top;\n",
       "    }\n",
       "\n",
       "    .dataframe thead th {\n",
       "        text-align: right;\n",
       "    }\n",
       "</style>\n",
       "<table border=\"1\" class=\"dataframe\">\n",
       "  <thead>\n",
       "    <tr style=\"text-align: right;\">\n",
       "      <th></th>\n",
       "      <th>user_id</th>\n",
       "      <th>name</th>\n",
       "      <th>age</th>\n",
       "      <th>city</th>\n",
       "    </tr>\n",
       "  </thead>\n",
       "  <tbody>\n",
       "    <tr>\n",
       "      <th>count</th>\n",
       "      <td>2.000000</td>\n",
       "      <td>2.000000</td>\n",
       "      <td>2.000000</td>\n",
       "      <td>2.000000</td>\n",
       "    </tr>\n",
       "    <tr>\n",
       "      <th>mean</th>\n",
       "      <td>767.000000</td>\n",
       "      <td>767.000000</td>\n",
       "      <td>767.000000</td>\n",
       "      <td>767.000000</td>\n",
       "    </tr>\n",
       "    <tr>\n",
       "      <th>std</th>\n",
       "      <td>96.166522</td>\n",
       "      <td>96.166522</td>\n",
       "      <td>96.166522</td>\n",
       "      <td>96.166522</td>\n",
       "    </tr>\n",
       "    <tr>\n",
       "      <th>min</th>\n",
       "      <td>699.000000</td>\n",
       "      <td>699.000000</td>\n",
       "      <td>699.000000</td>\n",
       "      <td>699.000000</td>\n",
       "    </tr>\n",
       "    <tr>\n",
       "      <th>25%</th>\n",
       "      <td>733.000000</td>\n",
       "      <td>733.000000</td>\n",
       "      <td>733.000000</td>\n",
       "      <td>733.000000</td>\n",
       "    </tr>\n",
       "    <tr>\n",
       "      <th>50%</th>\n",
       "      <td>767.000000</td>\n",
       "      <td>767.000000</td>\n",
       "      <td>767.000000</td>\n",
       "      <td>767.000000</td>\n",
       "    </tr>\n",
       "    <tr>\n",
       "      <th>75%</th>\n",
       "      <td>801.000000</td>\n",
       "      <td>801.000000</td>\n",
       "      <td>801.000000</td>\n",
       "      <td>801.000000</td>\n",
       "    </tr>\n",
       "    <tr>\n",
       "      <th>max</th>\n",
       "      <td>835.000000</td>\n",
       "      <td>835.000000</td>\n",
       "      <td>835.000000</td>\n",
       "      <td>835.000000</td>\n",
       "    </tr>\n",
       "  </tbody>\n",
       "</table>\n",
       "</div>"
      ],
      "text/plain": [
       "          user_id        name         age        city\n",
       "count    2.000000    2.000000    2.000000    2.000000\n",
       "mean   767.000000  767.000000  767.000000  767.000000\n",
       "std     96.166522   96.166522   96.166522   96.166522\n",
       "min    699.000000  699.000000  699.000000  699.000000\n",
       "25%    733.000000  733.000000  733.000000  733.000000\n",
       "50%    767.000000  767.000000  767.000000  767.000000\n",
       "75%    801.000000  801.000000  801.000000  801.000000\n",
       "max    835.000000  835.000000  835.000000  835.000000"
      ]
     },
     "execution_count": 28,
     "metadata": {},
     "output_type": "execute_result"
    }
   ],
   "source": [
    "subscriptions_count.describe()"
   ]
  },
  {
   "cell_type": "markdown",
   "id": "6202a9a7",
   "metadata": {},
   "source": [
    "Из диаграммы видно, что практически одинаковую долю занимают пользователи с подпиской и без. На 8.8% пользователей без подписки больше, чем с подпиской."
   ]
  },
  {
   "cell_type": "code",
   "execution_count": 29,
   "id": "ae0d0306",
   "metadata": {},
   "outputs": [
    {
     "data": {
      "text/plain": [
       "Text(0.5, 0, 'Возраст')"
      ]
     },
     "execution_count": 29,
     "metadata": {},
     "output_type": "execute_result"
    },
    {
     "data": {
      "image/png": "[encoded data removed]",
      "text/plain": [
       "<Figure size 720x216 with 1 Axes>"
      ]
     },
     "metadata": {
      "needs_background": "light"
     },
     "output_type": "display_data"
    }
   ],
   "source": [
    "users['age'].hist(bins=30, figsize=(10,3))\n",
    "  \n",
    "plt.title('Соотношение возраста пользователей')\n",
    "plt.ylabel('Кол-во пользователей')\n",
    "plt.xlabel('Возраст')"
   ]
  },
  {
   "cell_type": "code",
   "execution_count": 30,
   "id": "177ff75e",
   "metadata": {},
   "outputs": [
    {
     "data": {
      "text/plain": [
       "count    1534.000000\n",
       "mean       24.903520\n",
       "std         4.572367\n",
       "min        12.000000\n",
       "25%        22.000000\n",
       "50%        25.000000\n",
       "75%        28.000000\n",
       "max        43.000000\n",
       "Name: age, dtype: float64"
      ]
     },
     "execution_count": 30,
     "metadata": {},
     "output_type": "execute_result"
    }
   ],
   "source": [
    "users['age'].describe()"
   ]
  },
  {
   "cell_type": "markdown",
   "id": "db77a43d",
   "metadata": {},
   "source": [
    "Из нашей гистограммы видно, что большая часть пользователей находится в возрасте от 20 до 30. Среднее значение:25.Минимальный зарегистрированний возраст:12, максимальный - 43."
   ]
  },
  {
   "cell_type": "code",
   "execution_count": 31,
   "id": "06257a68",
   "metadata": {},
   "outputs": [
    {
     "data": {
      "text/plain": [
       "Text(0.5, 0, 'Расстояние')"
      ]
     },
     "execution_count": 31,
     "metadata": {},
     "output_type": "execute_result"
    },
    {
     "data": {
      "image/png": "[encoded data removed]",
      "text/plain": [
       "<Figure size 432x288 with 1 Axes>"
      ]
     },
     "metadata": {
      "needs_background": "light"
     },
     "output_type": "display_data"
    }
   ],
   "source": [
    "rides['distance'].hist(bins=30)\n",
    "\n",
    "  \n",
    "plt.title('Расстояние, которое пользователь преодолел за одну поездку')\n",
    "plt.ylabel('Кол-во пользователей')\n",
    "plt.xlabel('Расстояние')"
   ]
  },
  {
   "cell_type": "code",
   "execution_count": 32,
   "id": "21a145ec",
   "metadata": {},
   "outputs": [
    {
     "data": {
      "text/plain": [
       "count    18068.000000\n",
       "mean      3070.659976\n",
       "std       1116.831209\n",
       "min          0.855683\n",
       "25%       2543.226360\n",
       "50%       3133.609994\n",
       "75%       3776.222735\n",
       "max       7211.007745\n",
       "Name: distance, dtype: float64"
      ]
     },
     "execution_count": 32,
     "metadata": {},
     "output_type": "execute_result"
    }
   ],
   "source": [
    "rides['distance'].describe()"
   ]
  },
  {
   "cell_type": "markdown",
   "id": "8b42e38b",
   "metadata": {},
   "source": [
    "Среднее расстояние: 3070м, минимальное - 0.85, максимальное - 7211. Из диаграммы видно аномальный скачок вначале."
   ]
  },
  {
   "cell_type": "code",
   "execution_count": 33,
   "id": "cd749185",
   "metadata": {},
   "outputs": [
    {
     "data": {
      "text/plain": [
       "Text(0.5, 0, 'Время')"
      ]
     },
     "execution_count": 33,
     "metadata": {},
     "output_type": "execute_result"
    },
    {
     "data": {
      "image/png": "[encoded data removed]",
      "text/plain": [
       "<Figure size 432x288 with 1 Axes>"
      ]
     },
     "metadata": {
      "needs_background": "light"
     },
     "output_type": "display_data"
    }
   ],
   "source": [
    "rides['duration'].hist(bins=30)\n",
    "  \n",
    "plt.title('Продолжительность поездки')\n",
    "plt.ylabel('Кол-во пользователей')\n",
    "plt.xlabel('Время')"
   ]
  },
  {
   "cell_type": "code",
   "execution_count": 34,
   "id": "eb5e9153",
   "metadata": {},
   "outputs": [
    {
     "data": {
      "text/plain": [
       "count    18068.000000\n",
       "mean        17.805011\n",
       "std          6.091051\n",
       "min          0.500000\n",
       "25%         13.597563\n",
       "50%         17.678395\n",
       "75%         21.724800\n",
       "max         40.823963\n",
       "Name: duration, dtype: float64"
      ]
     },
     "execution_count": 34,
     "metadata": {},
     "output_type": "execute_result"
    }
   ],
   "source": [
    "rides['duration'].describe()"
   ]
  },
  {
   "cell_type": "markdown",
   "id": "80584679",
   "metadata": {},
   "source": [
    "Среднее время поездки оказалось равно 17 мин. Минимальное - 0.5, максимальное - 40."
   ]
  },
  {
   "cell_type": "markdown",
   "id": "34290cad",
   "metadata": {},
   "source": [
    "В ходе исследовательского анализа данных стало ясно, что самый частовстречающийся город: Пятигорск, противоположный - Москва. На 127 человек больше без подписок, чем с подписками, разница оказалась небольшой. Возраст большинства пользователей от 20 до 30 лет.Большая часть людей предодалевает в среднем расстояние в 3000 за олну поездку, а по времени поездка занимает в среднем 15-20 мин."
   ]
  },
  {
   "cell_type": "markdown",
   "id": "4ef51331",
   "metadata": {},
   "source": [
    "#### Шаг 4. Объединение данных"
   ]
  },
  {
   "cell_type": "code",
   "execution_count": 35,
   "id": "f6859407",
   "metadata": {},
   "outputs": [],
   "source": [
    "import numpy as np\n",
    "\n",
    "rides['duration'] = np.ceil(rides['duration']) "
   ]
  },
  {
   "cell_type": "code",
   "execution_count": 36,
   "id": "92ef35a1",
   "metadata": {},
   "outputs": [
    {
     "data": {
      "text/html": [
       "<div>\n",
       "<style scoped>\n",
       "    .dataframe tbody tr th:only-of-type {\n",
       "        vertical-align: middle;\n",
       "    }\n",
       "\n",
       "    .dataframe tbody tr th {\n",
       "        vertical-align: top;\n",
       "    }\n",
       "\n",
       "    .dataframe thead th {\n",
       "        text-align: right;\n",
       "    }\n",
       "</style>\n",
       "<table border=\"1\" class=\"dataframe\">\n",
       "  <thead>\n",
       "    <tr style=\"text-align: right;\">\n",
       "      <th></th>\n",
       "      <th>user_id</th>\n",
       "      <th>name</th>\n",
       "      <th>age</th>\n",
       "      <th>city</th>\n",
       "      <th>subscription_type</th>\n",
       "      <th>distance</th>\n",
       "      <th>duration</th>\n",
       "      <th>date</th>\n",
       "      <th>month</th>\n",
       "    </tr>\n",
       "  </thead>\n",
       "  <tbody>\n",
       "    <tr>\n",
       "      <th>0</th>\n",
       "      <td>1</td>\n",
       "      <td>Кира</td>\n",
       "      <td>22</td>\n",
       "      <td>Тюмень</td>\n",
       "      <td>ultra</td>\n",
       "      <td>4409.919140</td>\n",
       "      <td>26.0</td>\n",
       "      <td>2021-01-01</td>\n",
       "      <td>1</td>\n",
       "    </tr>\n",
       "    <tr>\n",
       "      <th>1</th>\n",
       "      <td>1</td>\n",
       "      <td>Кира</td>\n",
       "      <td>22</td>\n",
       "      <td>Тюмень</td>\n",
       "      <td>ultra</td>\n",
       "      <td>2617.592153</td>\n",
       "      <td>16.0</td>\n",
       "      <td>2021-01-18</td>\n",
       "      <td>1</td>\n",
       "    </tr>\n",
       "    <tr>\n",
       "      <th>2</th>\n",
       "      <td>1</td>\n",
       "      <td>Кира</td>\n",
       "      <td>22</td>\n",
       "      <td>Тюмень</td>\n",
       "      <td>ultra</td>\n",
       "      <td>754.159807</td>\n",
       "      <td>7.0</td>\n",
       "      <td>2021-04-20</td>\n",
       "      <td>4</td>\n",
       "    </tr>\n",
       "    <tr>\n",
       "      <th>3</th>\n",
       "      <td>1</td>\n",
       "      <td>Кира</td>\n",
       "      <td>22</td>\n",
       "      <td>Тюмень</td>\n",
       "      <td>ultra</td>\n",
       "      <td>2694.783254</td>\n",
       "      <td>19.0</td>\n",
       "      <td>2021-08-11</td>\n",
       "      <td>8</td>\n",
       "    </tr>\n",
       "    <tr>\n",
       "      <th>4</th>\n",
       "      <td>1</td>\n",
       "      <td>Кира</td>\n",
       "      <td>22</td>\n",
       "      <td>Тюмень</td>\n",
       "      <td>ultra</td>\n",
       "      <td>4028.687306</td>\n",
       "      <td>27.0</td>\n",
       "      <td>2021-08-28</td>\n",
       "      <td>8</td>\n",
       "    </tr>\n",
       "    <tr>\n",
       "      <th>5</th>\n",
       "      <td>1</td>\n",
       "      <td>Кира</td>\n",
       "      <td>22</td>\n",
       "      <td>Тюмень</td>\n",
       "      <td>ultra</td>\n",
       "      <td>2770.890808</td>\n",
       "      <td>17.0</td>\n",
       "      <td>2021-10-09</td>\n",
       "      <td>10</td>\n",
       "    </tr>\n",
       "    <tr>\n",
       "      <th>6</th>\n",
       "      <td>1</td>\n",
       "      <td>Кира</td>\n",
       "      <td>22</td>\n",
       "      <td>Тюмень</td>\n",
       "      <td>ultra</td>\n",
       "      <td>3039.020292</td>\n",
       "      <td>15.0</td>\n",
       "      <td>2021-10-19</td>\n",
       "      <td>10</td>\n",
       "    </tr>\n",
       "    <tr>\n",
       "      <th>7</th>\n",
       "      <td>1</td>\n",
       "      <td>Кира</td>\n",
       "      <td>22</td>\n",
       "      <td>Тюмень</td>\n",
       "      <td>ultra</td>\n",
       "      <td>2842.118050</td>\n",
       "      <td>24.0</td>\n",
       "      <td>2021-11-06</td>\n",
       "      <td>11</td>\n",
       "    </tr>\n",
       "    <tr>\n",
       "      <th>8</th>\n",
       "      <td>1</td>\n",
       "      <td>Кира</td>\n",
       "      <td>22</td>\n",
       "      <td>Тюмень</td>\n",
       "      <td>ultra</td>\n",
       "      <td>3412.690668</td>\n",
       "      <td>16.0</td>\n",
       "      <td>2021-11-14</td>\n",
       "      <td>11</td>\n",
       "    </tr>\n",
       "    <tr>\n",
       "      <th>9</th>\n",
       "      <td>1</td>\n",
       "      <td>Кира</td>\n",
       "      <td>22</td>\n",
       "      <td>Тюмень</td>\n",
       "      <td>ultra</td>\n",
       "      <td>748.690645</td>\n",
       "      <td>16.0</td>\n",
       "      <td>2021-11-22</td>\n",
       "      <td>11</td>\n",
       "    </tr>\n",
       "  </tbody>\n",
       "</table>\n",
       "</div>"
      ],
      "text/plain": [
       "   user_id  name  age    city subscription_type     distance  duration  \\\n",
       "0        1  Кира   22  Тюмень             ultra  4409.919140      26.0   \n",
       "1        1  Кира   22  Тюмень             ultra  2617.592153      16.0   \n",
       "2        1  Кира   22  Тюмень             ultra   754.159807       7.0   \n",
       "3        1  Кира   22  Тюмень             ultra  2694.783254      19.0   \n",
       "4        1  Кира   22  Тюмень             ultra  4028.687306      27.0   \n",
       "5        1  Кира   22  Тюмень             ultra  2770.890808      17.0   \n",
       "6        1  Кира   22  Тюмень             ultra  3039.020292      15.0   \n",
       "7        1  Кира   22  Тюмень             ultra  2842.118050      24.0   \n",
       "8        1  Кира   22  Тюмень             ultra  3412.690668      16.0   \n",
       "9        1  Кира   22  Тюмень             ultra   748.690645      16.0   \n",
       "\n",
       "        date  month  \n",
       "0 2021-01-01      1  \n",
       "1 2021-01-18      1  \n",
       "2 2021-04-20      4  \n",
       "3 2021-08-11      8  \n",
       "4 2021-08-28      8  \n",
       "5 2021-10-09     10  \n",
       "6 2021-10-19     10  \n",
       "7 2021-11-06     11  \n",
       "8 2021-11-14     11  \n",
       "9 2021-11-22     11  "
      ]
     },
     "execution_count": 36,
     "metadata": {},
     "output_type": "execute_result"
    }
   ],
   "source": [
    "merge_users = users.merge(rides, on='user_id',how='left')\n",
    "merge_users.head(10)"
   ]
  },
  {
   "cell_type": "code",
   "execution_count": 37,
   "id": "2de5c5f2",
   "metadata": {},
   "outputs": [
    {
     "data": {
      "text/plain": [
       "(1534, 5)"
      ]
     },
     "execution_count": 37,
     "metadata": {},
     "output_type": "execute_result"
    }
   ],
   "source": [
    "users.shape"
   ]
  },
  {
   "cell_type": "code",
   "execution_count": 38,
   "id": "a3e16ad2",
   "metadata": {},
   "outputs": [
    {
     "data": {
      "text/plain": [
       "(18068, 5)"
      ]
     },
     "execution_count": 38,
     "metadata": {},
     "output_type": "execute_result"
    }
   ],
   "source": [
    "rides.shape"
   ]
  },
  {
   "cell_type": "code",
   "execution_count": 39,
   "id": "439c5d50",
   "metadata": {
    "scrolled": true
   },
   "outputs": [
    {
     "data": {
      "text/plain": [
       "(18068, 9)"
      ]
     },
     "execution_count": 39,
     "metadata": {},
     "output_type": "execute_result"
    }
   ],
   "source": [
    "merge_users.shape"
   ]
  },
  {
   "cell_type": "markdown",
   "id": "23383531",
   "metadata": {},
   "source": [
    "В ходе проведенной проверки размерности таблиц до и после объединения, мы выяснили, что размерность совпала по количеству строк."
   ]
  },
  {
   "cell_type": "code",
   "execution_count": 40,
   "id": "100816cf",
   "metadata": {},
   "outputs": [
    {
     "data": {
      "text/html": [
       "<div>\n",
       "<style scoped>\n",
       "    .dataframe tbody tr th:only-of-type {\n",
       "        vertical-align: middle;\n",
       "    }\n",
       "\n",
       "    .dataframe tbody tr th {\n",
       "        vertical-align: top;\n",
       "    }\n",
       "\n",
       "    .dataframe thead th {\n",
       "        text-align: right;\n",
       "    }\n",
       "</style>\n",
       "<table border=\"1\" class=\"dataframe\">\n",
       "  <thead>\n",
       "    <tr style=\"text-align: right;\">\n",
       "      <th></th>\n",
       "      <th>user_id</th>\n",
       "      <th>name</th>\n",
       "      <th>age</th>\n",
       "      <th>city</th>\n",
       "      <th>subscription_type</th>\n",
       "      <th>distance</th>\n",
       "      <th>duration</th>\n",
       "      <th>date</th>\n",
       "      <th>month</th>\n",
       "    </tr>\n",
       "  </thead>\n",
       "  <tbody>\n",
       "    <tr>\n",
       "      <th>0</th>\n",
       "      <td>1</td>\n",
       "      <td>Кира</td>\n",
       "      <td>22</td>\n",
       "      <td>Тюмень</td>\n",
       "      <td>ultra</td>\n",
       "      <td>4409.919140</td>\n",
       "      <td>26.0</td>\n",
       "      <td>2021-01-01</td>\n",
       "      <td>1</td>\n",
       "    </tr>\n",
       "    <tr>\n",
       "      <th>1</th>\n",
       "      <td>1</td>\n",
       "      <td>Кира</td>\n",
       "      <td>22</td>\n",
       "      <td>Тюмень</td>\n",
       "      <td>ultra</td>\n",
       "      <td>2617.592153</td>\n",
       "      <td>16.0</td>\n",
       "      <td>2021-01-18</td>\n",
       "      <td>1</td>\n",
       "    </tr>\n",
       "    <tr>\n",
       "      <th>2</th>\n",
       "      <td>1</td>\n",
       "      <td>Кира</td>\n",
       "      <td>22</td>\n",
       "      <td>Тюмень</td>\n",
       "      <td>ultra</td>\n",
       "      <td>754.159807</td>\n",
       "      <td>7.0</td>\n",
       "      <td>2021-04-20</td>\n",
       "      <td>4</td>\n",
       "    </tr>\n",
       "    <tr>\n",
       "      <th>3</th>\n",
       "      <td>1</td>\n",
       "      <td>Кира</td>\n",
       "      <td>22</td>\n",
       "      <td>Тюмень</td>\n",
       "      <td>ultra</td>\n",
       "      <td>2694.783254</td>\n",
       "      <td>19.0</td>\n",
       "      <td>2021-08-11</td>\n",
       "      <td>8</td>\n",
       "    </tr>\n",
       "    <tr>\n",
       "      <th>4</th>\n",
       "      <td>1</td>\n",
       "      <td>Кира</td>\n",
       "      <td>22</td>\n",
       "      <td>Тюмень</td>\n",
       "      <td>ultra</td>\n",
       "      <td>4028.687306</td>\n",
       "      <td>27.0</td>\n",
       "      <td>2021-08-28</td>\n",
       "      <td>8</td>\n",
       "    </tr>\n",
       "  </tbody>\n",
       "</table>\n",
       "</div>"
      ],
      "text/plain": [
       "   user_id  name  age    city subscription_type     distance  duration  \\\n",
       "0        1  Кира   22  Тюмень             ultra  4409.919140      26.0   \n",
       "1        1  Кира   22  Тюмень             ultra  2617.592153      16.0   \n",
       "2        1  Кира   22  Тюмень             ultra   754.159807       7.0   \n",
       "3        1  Кира   22  Тюмень             ultra  2694.783254      19.0   \n",
       "4        1  Кира   22  Тюмень             ultra  4028.687306      27.0   \n",
       "\n",
       "        date  month  \n",
       "0 2021-01-01      1  \n",
       "1 2021-01-18      1  \n",
       "2 2021-04-20      4  \n",
       "3 2021-08-11      8  \n",
       "4 2021-08-28      8  "
      ]
     },
     "execution_count": 40,
     "metadata": {},
     "output_type": "execute_result"
    }
   ],
   "source": [
    "merge_users.head()"
   ]
  },
  {
   "cell_type": "code",
   "execution_count": 41,
   "id": "549d6dee",
   "metadata": {},
   "outputs": [],
   "source": [
    "subscription_free = merge_users.query('subscription_type == \"free\"')\n",
    "subscription_ultra = merge_users.query('subscription_type == \"ultra\"')"
   ]
  },
  {
   "cell_type": "code",
   "execution_count": 42,
   "id": "01d09200",
   "metadata": {},
   "outputs": [
    {
     "data": {
      "text/html": [
       "<div>\n",
       "<style scoped>\n",
       "    .dataframe tbody tr th:only-of-type {\n",
       "        vertical-align: middle;\n",
       "    }\n",
       "\n",
       "    .dataframe tbody tr th {\n",
       "        vertical-align: top;\n",
       "    }\n",
       "\n",
       "    .dataframe thead th {\n",
       "        text-align: right;\n",
       "    }\n",
       "</style>\n",
       "<table border=\"1\" class=\"dataframe\">\n",
       "  <thead>\n",
       "    <tr style=\"text-align: right;\">\n",
       "      <th></th>\n",
       "      <th>user_id</th>\n",
       "      <th>name</th>\n",
       "      <th>age</th>\n",
       "      <th>city</th>\n",
       "      <th>subscription_type</th>\n",
       "      <th>distance</th>\n",
       "      <th>duration</th>\n",
       "      <th>date</th>\n",
       "      <th>month</th>\n",
       "    </tr>\n",
       "  </thead>\n",
       "  <tbody>\n",
       "    <tr>\n",
       "      <th>6500</th>\n",
       "      <td>700</td>\n",
       "      <td>Айдар</td>\n",
       "      <td>22</td>\n",
       "      <td>Омск</td>\n",
       "      <td>free</td>\n",
       "      <td>2515.690719</td>\n",
       "      <td>15.0</td>\n",
       "      <td>2021-01-02</td>\n",
       "      <td>1</td>\n",
       "    </tr>\n",
       "    <tr>\n",
       "      <th>6501</th>\n",
       "      <td>700</td>\n",
       "      <td>Айдар</td>\n",
       "      <td>22</td>\n",
       "      <td>Омск</td>\n",
       "      <td>free</td>\n",
       "      <td>846.932642</td>\n",
       "      <td>17.0</td>\n",
       "      <td>2021-02-01</td>\n",
       "      <td>2</td>\n",
       "    </tr>\n",
       "    <tr>\n",
       "      <th>6502</th>\n",
       "      <td>700</td>\n",
       "      <td>Айдар</td>\n",
       "      <td>22</td>\n",
       "      <td>Омск</td>\n",
       "      <td>free</td>\n",
       "      <td>4004.434142</td>\n",
       "      <td>21.0</td>\n",
       "      <td>2021-02-04</td>\n",
       "      <td>2</td>\n",
       "    </tr>\n",
       "    <tr>\n",
       "      <th>6503</th>\n",
       "      <td>700</td>\n",
       "      <td>Айдар</td>\n",
       "      <td>22</td>\n",
       "      <td>Омск</td>\n",
       "      <td>free</td>\n",
       "      <td>1205.911290</td>\n",
       "      <td>10.0</td>\n",
       "      <td>2021-02-10</td>\n",
       "      <td>2</td>\n",
       "    </tr>\n",
       "    <tr>\n",
       "      <th>6504</th>\n",
       "      <td>700</td>\n",
       "      <td>Айдар</td>\n",
       "      <td>22</td>\n",
       "      <td>Омск</td>\n",
       "      <td>free</td>\n",
       "      <td>3047.379435</td>\n",
       "      <td>18.0</td>\n",
       "      <td>2021-02-14</td>\n",
       "      <td>2</td>\n",
       "    </tr>\n",
       "  </tbody>\n",
       "</table>\n",
       "</div>"
      ],
      "text/plain": [
       "      user_id   name  age  city subscription_type     distance  duration  \\\n",
       "6500      700  Айдар   22  Омск              free  2515.690719      15.0   \n",
       "6501      700  Айдар   22  Омск              free   846.932642      17.0   \n",
       "6502      700  Айдар   22  Омск              free  4004.434142      21.0   \n",
       "6503      700  Айдар   22  Омск              free  1205.911290      10.0   \n",
       "6504      700  Айдар   22  Омск              free  3047.379435      18.0   \n",
       "\n",
       "           date  month  \n",
       "6500 2021-01-02      1  \n",
       "6501 2021-02-01      2  \n",
       "6502 2021-02-04      2  \n",
       "6503 2021-02-10      2  \n",
       "6504 2021-02-14      2  "
      ]
     },
     "execution_count": 42,
     "metadata": {},
     "output_type": "execute_result"
    }
   ],
   "source": [
    "subscription_free.head()"
   ]
  },
  {
   "cell_type": "code",
   "execution_count": 43,
   "id": "a7b26f8b",
   "metadata": {},
   "outputs": [
    {
     "data": {
      "text/html": [
       "<div>\n",
       "<style scoped>\n",
       "    .dataframe tbody tr th:only-of-type {\n",
       "        vertical-align: middle;\n",
       "    }\n",
       "\n",
       "    .dataframe tbody tr th {\n",
       "        vertical-align: top;\n",
       "    }\n",
       "\n",
       "    .dataframe thead th {\n",
       "        text-align: right;\n",
       "    }\n",
       "</style>\n",
       "<table border=\"1\" class=\"dataframe\">\n",
       "  <thead>\n",
       "    <tr style=\"text-align: right;\">\n",
       "      <th></th>\n",
       "      <th>user_id</th>\n",
       "      <th>name</th>\n",
       "      <th>age</th>\n",
       "      <th>city</th>\n",
       "      <th>subscription_type</th>\n",
       "      <th>distance</th>\n",
       "      <th>duration</th>\n",
       "      <th>date</th>\n",
       "      <th>month</th>\n",
       "    </tr>\n",
       "  </thead>\n",
       "  <tbody>\n",
       "    <tr>\n",
       "      <th>0</th>\n",
       "      <td>1</td>\n",
       "      <td>Кира</td>\n",
       "      <td>22</td>\n",
       "      <td>Тюмень</td>\n",
       "      <td>ultra</td>\n",
       "      <td>4409.919140</td>\n",
       "      <td>26.0</td>\n",
       "      <td>2021-01-01</td>\n",
       "      <td>1</td>\n",
       "    </tr>\n",
       "    <tr>\n",
       "      <th>1</th>\n",
       "      <td>1</td>\n",
       "      <td>Кира</td>\n",
       "      <td>22</td>\n",
       "      <td>Тюмень</td>\n",
       "      <td>ultra</td>\n",
       "      <td>2617.592153</td>\n",
       "      <td>16.0</td>\n",
       "      <td>2021-01-18</td>\n",
       "      <td>1</td>\n",
       "    </tr>\n",
       "    <tr>\n",
       "      <th>2</th>\n",
       "      <td>1</td>\n",
       "      <td>Кира</td>\n",
       "      <td>22</td>\n",
       "      <td>Тюмень</td>\n",
       "      <td>ultra</td>\n",
       "      <td>754.159807</td>\n",
       "      <td>7.0</td>\n",
       "      <td>2021-04-20</td>\n",
       "      <td>4</td>\n",
       "    </tr>\n",
       "    <tr>\n",
       "      <th>3</th>\n",
       "      <td>1</td>\n",
       "      <td>Кира</td>\n",
       "      <td>22</td>\n",
       "      <td>Тюмень</td>\n",
       "      <td>ultra</td>\n",
       "      <td>2694.783254</td>\n",
       "      <td>19.0</td>\n",
       "      <td>2021-08-11</td>\n",
       "      <td>8</td>\n",
       "    </tr>\n",
       "    <tr>\n",
       "      <th>4</th>\n",
       "      <td>1</td>\n",
       "      <td>Кира</td>\n",
       "      <td>22</td>\n",
       "      <td>Тюмень</td>\n",
       "      <td>ultra</td>\n",
       "      <td>4028.687306</td>\n",
       "      <td>27.0</td>\n",
       "      <td>2021-08-28</td>\n",
       "      <td>8</td>\n",
       "    </tr>\n",
       "  </tbody>\n",
       "</table>\n",
       "</div>"
      ],
      "text/plain": [
       "   user_id  name  age    city subscription_type     distance  duration  \\\n",
       "0        1  Кира   22  Тюмень             ultra  4409.919140      26.0   \n",
       "1        1  Кира   22  Тюмень             ultra  2617.592153      16.0   \n",
       "2        1  Кира   22  Тюмень             ultra   754.159807       7.0   \n",
       "3        1  Кира   22  Тюмень             ultra  2694.783254      19.0   \n",
       "4        1  Кира   22  Тюмень             ultra  4028.687306      27.0   \n",
       "\n",
       "        date  month  \n",
       "0 2021-01-01      1  \n",
       "1 2021-01-18      1  \n",
       "2 2021-04-20      4  \n",
       "3 2021-08-11      8  \n",
       "4 2021-08-28      8  "
      ]
     },
     "execution_count": 43,
     "metadata": {},
     "output_type": "execute_result"
    }
   ],
   "source": [
    "subscription_ultra.head()"
   ]
  },
  {
   "cell_type": "code",
   "execution_count": 44,
   "id": "8d7758dd",
   "metadata": {},
   "outputs": [
    {
     "data": {
      "text/plain": [
       "Text(0.5, 0, 'Расстояние')"
      ]
     },
     "execution_count": 44,
     "metadata": {},
     "output_type": "execute_result"
    },
    {
     "data": {
      "image/png": "[encoded data removed]",
      "text/plain": [
       "<Figure size 432x288 with 1 Axes>"
      ]
     },
     "metadata": {
      "needs_background": "light"
     },
     "output_type": "display_data"
    }
   ],
   "source": [
    "subscription_free['distance'].hist(bins=30)\n",
    "\n",
    "plt.title('Расстояние поездок пользователей без подписок')\n",
    "plt.ylabel('Кол-во пользователей')\n",
    "plt.xlabel('Расстояние')"
   ]
  },
  {
   "cell_type": "markdown",
   "id": "20c64aca",
   "metadata": {},
   "source": [
    "В ходе анализа пользователей с подпиской и без видно, что пользователи без подписки преодалевают хорошее расстояние, в среднем 2000-4500м, что ничем не уступает категории пользователей с подпиской. Есть на графике анамальный скачок вначале, по всей вероятности пользователи пробуют и сразу же заканчивают."
   ]
  },
  {
   "cell_type": "code",
   "execution_count": 45,
   "id": "6ee45f4b",
   "metadata": {},
   "outputs": [
    {
     "data": {
      "text/plain": [
       "Text(0.5, 0, 'Время')"
      ]
     },
     "execution_count": 45,
     "metadata": {},
     "output_type": "execute_result"
    },
    {
     "data": {
      "image/png": "[encoded data removed]",
      "text/plain": [
       "<Figure size 432x288 with 1 Axes>"
      ]
     },
     "metadata": {
      "needs_background": "light"
     },
     "output_type": "display_data"
    }
   ],
   "source": [
    "subscription_free['duration'].hist(bins=30)\n",
    "\n",
    "plt.title('Время поездок пользователей без подписок')\n",
    "plt.ylabel('Кол-во пользователей')\n",
    "plt.xlabel('Время')"
   ]
  },
  {
   "cell_type": "markdown",
   "id": "54b9ed95",
   "metadata": {},
   "source": [
    "Среднее время, которое пользователи без подписки затрачивают на одну поездку, 10-25 мин."
   ]
  },
  {
   "cell_type": "code",
   "execution_count": 46,
   "id": "6e0b3b33",
   "metadata": {},
   "outputs": [
    {
     "data": {
      "text/plain": [
       "Text(0.5, 0, 'Расстояние')"
      ]
     },
     "execution_count": 46,
     "metadata": {},
     "output_type": "execute_result"
    },
    {
     "data": {
      "image/png": "[encoded data removed]",
      "text/plain": [
       "<Figure size 432x288 with 1 Axes>"
      ]
     },
     "metadata": {
      "needs_background": "light"
     },
     "output_type": "display_data"
    }
   ],
   "source": [
    "subscription_ultra['distance'].hist(bins=30)\n",
    "\n",
    "plt.title('Расстояние поездок пользователей с подпиской')\n",
    "plt.ylabel('Кол-во пользователей')\n",
    "plt.xlabel('Расстояние')"
   ]
  },
  {
   "cell_type": "markdown",
   "id": "9adc5d67",
   "metadata": {},
   "source": [
    "Среднее расстояние пользователей с подпиской 2500-3500, максимальное расстоние меньше, чем пользователей без подписки."
   ]
  },
  {
   "cell_type": "code",
   "execution_count": 47,
   "id": "b7bbab47",
   "metadata": {},
   "outputs": [
    {
     "data": {
      "text/plain": [
       "Text(0.5, 0, 'Время')"
      ]
     },
     "execution_count": 47,
     "metadata": {},
     "output_type": "execute_result"
    },
    {
     "data": {
      "image/png": "[encoded data removed]",
      "text/plain": [
       "<Figure size 432x288 with 1 Axes>"
      ]
     },
     "metadata": {
      "needs_background": "light"
     },
     "output_type": "display_data"
    }
   ],
   "source": [
    "subscription_ultra['duration'].hist(bins=30)\n",
    "\n",
    "plt.title('Время поездок пользователей с подпиской')\n",
    "plt.ylabel('Кол-во пользователей')\n",
    "plt.xlabel('Время')"
   ]
  },
  {
   "cell_type": "markdown",
   "id": "56efe7cd",
   "metadata": {},
   "source": [
    "Среднее время категории с подпиской находится в том же числовом диапазоне, что и у категории пользователей без подписки."
   ]
  },
  {
   "cell_type": "markdown",
   "id": "402d620f",
   "metadata": {},
   "source": [
    "#### Шаг 5. Подсчёт выручки"
   ]
  },
  {
   "cell_type": "code",
   "execution_count": 48,
   "id": "660cb8f0",
   "metadata": {},
   "outputs": [
    {
     "name": "stdout",
     "output_type": "stream",
     "text": [
      "<class 'pandas.core.frame.DataFrame'>\n",
      "Int64Index: 18068 entries, 0 to 18067\n",
      "Data columns (total 9 columns):\n",
      " #   Column             Non-Null Count  Dtype         \n",
      "---  ------             --------------  -----         \n",
      " 0   user_id            18068 non-null  int64         \n",
      " 1   name               18068 non-null  object        \n",
      " 2   age                18068 non-null  int64         \n",
      " 3   city               18068 non-null  object        \n",
      " 4   subscription_type  18068 non-null  object        \n",
      " 5   distance           18068 non-null  float64       \n",
      " 6   duration           18068 non-null  float64       \n",
      " 7   date               18068 non-null  datetime64[ns]\n",
      " 8   month              18068 non-null  int64         \n",
      "dtypes: datetime64[ns](1), float64(2), int64(3), object(3)\n",
      "memory usage: 1.4+ MB\n"
     ]
    }
   ],
   "source": [
    "merge_users.info()"
   ]
  },
  {
   "cell_type": "code",
   "execution_count": 49,
   "id": "11fb97c9",
   "metadata": {},
   "outputs": [
    {
     "name": "stdout",
     "output_type": "stream",
     "text": [
      "<class 'pandas.core.frame.DataFrame'>\n",
      "Int64Index: 11568 entries, 6500 to 18067\n",
      "Data columns (total 9 columns):\n",
      " #   Column             Non-Null Count  Dtype         \n",
      "---  ------             --------------  -----         \n",
      " 0   user_id            11568 non-null  int64         \n",
      " 1   name               11568 non-null  object        \n",
      " 2   age                11568 non-null  int64         \n",
      " 3   city               11568 non-null  object        \n",
      " 4   subscription_type  11568 non-null  object        \n",
      " 5   distance           11568 non-null  float64       \n",
      " 6   duration           11568 non-null  float64       \n",
      " 7   date               11568 non-null  datetime64[ns]\n",
      " 8   month              11568 non-null  int64         \n",
      "dtypes: datetime64[ns](1), float64(2), int64(3), object(3)\n",
      "memory usage: 903.8+ KB\n"
     ]
    }
   ],
   "source": [
    "subscription_free.info()"
   ]
  },
  {
   "cell_type": "code",
   "execution_count": 50,
   "id": "9ac56f00",
   "metadata": {},
   "outputs": [
    {
     "name": "stdout",
     "output_type": "stream",
     "text": [
      "<class 'pandas.core.frame.DataFrame'>\n",
      "Int64Index: 6500 entries, 0 to 6499\n",
      "Data columns (total 9 columns):\n",
      " #   Column             Non-Null Count  Dtype         \n",
      "---  ------             --------------  -----         \n",
      " 0   user_id            6500 non-null   int64         \n",
      " 1   name               6500 non-null   object        \n",
      " 2   age                6500 non-null   int64         \n",
      " 3   city               6500 non-null   object        \n",
      " 4   subscription_type  6500 non-null   object        \n",
      " 5   distance           6500 non-null   float64       \n",
      " 6   duration           6500 non-null   float64       \n",
      " 7   date               6500 non-null   datetime64[ns]\n",
      " 8   month              6500 non-null   int64         \n",
      "dtypes: datetime64[ns](1), float64(2), int64(3), object(3)\n",
      "memory usage: 507.8+ KB\n"
     ]
    }
   ],
   "source": [
    "subscription_ultra.info()"
   ]
  },
  {
   "cell_type": "code",
   "execution_count": null,
   "id": "5f3676de",
   "metadata": {},
   "outputs": [],
   "source": []
  },
  {
   "cell_type": "code",
   "execution_count": 51,
   "id": "cf4d36a4",
   "metadata": {},
   "outputs": [
    {
     "data": {
      "text/html": [
       "<div>\n",
       "<style scoped>\n",
       "    .dataframe tbody tr th:only-of-type {\n",
       "        vertical-align: middle;\n",
       "    }\n",
       "\n",
       "    .dataframe tbody tr th {\n",
       "        vertical-align: top;\n",
       "    }\n",
       "\n",
       "    .dataframe thead th {\n",
       "        text-align: right;\n",
       "    }\n",
       "</style>\n",
       "<table border=\"1\" class=\"dataframe\">\n",
       "  <thead>\n",
       "    <tr style=\"text-align: right;\">\n",
       "      <th></th>\n",
       "      <th></th>\n",
       "      <th></th>\n",
       "      <th>distance_count</th>\n",
       "      <th>distance_sum</th>\n",
       "      <th>duration_count</th>\n",
       "      <th>duration_sum</th>\n",
       "    </tr>\n",
       "    <tr>\n",
       "      <th>user_id</th>\n",
       "      <th>month</th>\n",
       "      <th>subscription_type</th>\n",
       "      <th></th>\n",
       "      <th></th>\n",
       "      <th></th>\n",
       "      <th></th>\n",
       "    </tr>\n",
       "  </thead>\n",
       "  <tbody>\n",
       "    <tr>\n",
       "      <th rowspan=\"5\" valign=\"top\">700</th>\n",
       "      <th>1</th>\n",
       "      <th>free</th>\n",
       "      <td>1</td>\n",
       "      <td>2515.690719</td>\n",
       "      <td>1</td>\n",
       "      <td>15.0</td>\n",
       "    </tr>\n",
       "    <tr>\n",
       "      <th>2</th>\n",
       "      <th>free</th>\n",
       "      <td>5</td>\n",
       "      <td>13446.659764</td>\n",
       "      <td>5</td>\n",
       "      <td>89.0</td>\n",
       "    </tr>\n",
       "    <tr>\n",
       "      <th>3</th>\n",
       "      <th>free</th>\n",
       "      <td>1</td>\n",
       "      <td>3798.334905</td>\n",
       "      <td>1</td>\n",
       "      <td>19.0</td>\n",
       "    </tr>\n",
       "    <tr>\n",
       "      <th>4</th>\n",
       "      <th>free</th>\n",
       "      <td>1</td>\n",
       "      <td>2984.551206</td>\n",
       "      <td>1</td>\n",
       "      <td>16.0</td>\n",
       "    </tr>\n",
       "    <tr>\n",
       "      <th>6</th>\n",
       "      <th>free</th>\n",
       "      <td>2</td>\n",
       "      <td>5927.650988</td>\n",
       "      <td>2</td>\n",
       "      <td>29.0</td>\n",
       "    </tr>\n",
       "    <tr>\n",
       "      <th>...</th>\n",
       "      <th>...</th>\n",
       "      <th>...</th>\n",
       "      <td>...</td>\n",
       "      <td>...</td>\n",
       "      <td>...</td>\n",
       "      <td>...</td>\n",
       "    </tr>\n",
       "    <tr>\n",
       "      <th rowspan=\"5\" valign=\"top\">1534</th>\n",
       "      <th>6</th>\n",
       "      <th>free</th>\n",
       "      <td>2</td>\n",
       "      <td>3409.468534</td>\n",
       "      <td>2</td>\n",
       "      <td>26.0</td>\n",
       "    </tr>\n",
       "    <tr>\n",
       "      <th>8</th>\n",
       "      <th>free</th>\n",
       "      <td>2</td>\n",
       "      <td>7622.453034</td>\n",
       "      <td>2</td>\n",
       "      <td>48.0</td>\n",
       "    </tr>\n",
       "    <tr>\n",
       "      <th>9</th>\n",
       "      <th>free</th>\n",
       "      <td>1</td>\n",
       "      <td>4928.173852</td>\n",
       "      <td>1</td>\n",
       "      <td>23.0</td>\n",
       "    </tr>\n",
       "    <tr>\n",
       "      <th>11</th>\n",
       "      <th>free</th>\n",
       "      <td>4</td>\n",
       "      <td>13350.015305</td>\n",
       "      <td>4</td>\n",
       "      <td>78.0</td>\n",
       "    </tr>\n",
       "    <tr>\n",
       "      <th>12</th>\n",
       "      <th>free</th>\n",
       "      <td>1</td>\n",
       "      <td>2371.711192</td>\n",
       "      <td>1</td>\n",
       "      <td>16.0</td>\n",
       "    </tr>\n",
       "  </tbody>\n",
       "</table>\n",
       "<p>6798 rows × 4 columns</p>\n",
       "</div>"
      ],
      "text/plain": [
       "                                 distance_count  distance_sum  duration_count  \\\n",
       "user_id month subscription_type                                                 \n",
       "700     1     free                            1   2515.690719               1   \n",
       "        2     free                            5  13446.659764               5   \n",
       "        3     free                            1   3798.334905               1   \n",
       "        4     free                            1   2984.551206               1   \n",
       "        6     free                            2   5927.650988               2   \n",
       "...                                         ...           ...             ...   \n",
       "1534    6     free                            2   3409.468534               2   \n",
       "        8     free                            2   7622.453034               2   \n",
       "        9     free                            1   4928.173852               1   \n",
       "        11    free                            4  13350.015305               4   \n",
       "        12    free                            1   2371.711192               1   \n",
       "\n",
       "                                 duration_sum  \n",
       "user_id month subscription_type                \n",
       "700     1     free                       15.0  \n",
       "        2     free                       89.0  \n",
       "        3     free                       19.0  \n",
       "        4     free                       16.0  \n",
       "        6     free                       29.0  \n",
       "...                                       ...  \n",
       "1534    6     free                       26.0  \n",
       "        8     free                       48.0  \n",
       "        9     free                       23.0  \n",
       "        11    free                       78.0  \n",
       "        12    free                       16.0  \n",
       "\n",
       "[6798 rows x 4 columns]"
      ]
     },
     "execution_count": 51,
     "metadata": {},
     "output_type": "execute_result"
    }
   ],
   "source": [
    "subscription_free_gain = subscription_free.pivot_table(index =['user_id','month','subscription_type'], values =['duration','distance'], aggfunc=('sum','count'))\n",
    "subscription_free_gain.columns = ['distance_count','distance_sum','duration_count','duration_sum']\n",
    "subscription_free_gain"
   ]
  },
  {
   "cell_type": "code",
   "execution_count": 52,
   "id": "f4d1057d",
   "metadata": {},
   "outputs": [
    {
     "data": {
      "text/html": [
       "<div>\n",
       "<style scoped>\n",
       "    .dataframe tbody tr th:only-of-type {\n",
       "        vertical-align: middle;\n",
       "    }\n",
       "\n",
       "    .dataframe tbody tr th {\n",
       "        vertical-align: top;\n",
       "    }\n",
       "\n",
       "    .dataframe thead th {\n",
       "        text-align: right;\n",
       "    }\n",
       "</style>\n",
       "<table border=\"1\" class=\"dataframe\">\n",
       "  <thead>\n",
       "    <tr style=\"text-align: right;\">\n",
       "      <th></th>\n",
       "      <th></th>\n",
       "      <th></th>\n",
       "      <th>distance_count</th>\n",
       "      <th>distance_sum</th>\n",
       "      <th>duration_count</th>\n",
       "      <th>duration_sum</th>\n",
       "    </tr>\n",
       "    <tr>\n",
       "      <th>user_id</th>\n",
       "      <th>month</th>\n",
       "      <th>subscription_type</th>\n",
       "      <th></th>\n",
       "      <th></th>\n",
       "      <th></th>\n",
       "      <th></th>\n",
       "    </tr>\n",
       "  </thead>\n",
       "  <tbody>\n",
       "    <tr>\n",
       "      <th rowspan=\"5\" valign=\"top\">1</th>\n",
       "      <th>1</th>\n",
       "      <th>ultra</th>\n",
       "      <td>2</td>\n",
       "      <td>7027.511294</td>\n",
       "      <td>2</td>\n",
       "      <td>42.0</td>\n",
       "    </tr>\n",
       "    <tr>\n",
       "      <th>4</th>\n",
       "      <th>ultra</th>\n",
       "      <td>1</td>\n",
       "      <td>754.159807</td>\n",
       "      <td>1</td>\n",
       "      <td>7.0</td>\n",
       "    </tr>\n",
       "    <tr>\n",
       "      <th>8</th>\n",
       "      <th>ultra</th>\n",
       "      <td>2</td>\n",
       "      <td>6723.470560</td>\n",
       "      <td>2</td>\n",
       "      <td>46.0</td>\n",
       "    </tr>\n",
       "    <tr>\n",
       "      <th>10</th>\n",
       "      <th>ultra</th>\n",
       "      <td>2</td>\n",
       "      <td>5809.911100</td>\n",
       "      <td>2</td>\n",
       "      <td>32.0</td>\n",
       "    </tr>\n",
       "    <tr>\n",
       "      <th>11</th>\n",
       "      <th>ultra</th>\n",
       "      <td>3</td>\n",
       "      <td>7003.499363</td>\n",
       "      <td>3</td>\n",
       "      <td>56.0</td>\n",
       "    </tr>\n",
       "    <tr>\n",
       "      <th>...</th>\n",
       "      <th>...</th>\n",
       "      <th>...</th>\n",
       "      <td>...</td>\n",
       "      <td>...</td>\n",
       "      <td>...</td>\n",
       "      <td>...</td>\n",
       "    </tr>\n",
       "    <tr>\n",
       "      <th rowspan=\"5\" valign=\"top\">699</th>\n",
       "      <th>6</th>\n",
       "      <th>ultra</th>\n",
       "      <td>1</td>\n",
       "      <td>4072.797406</td>\n",
       "      <td>1</td>\n",
       "      <td>17.0</td>\n",
       "    </tr>\n",
       "    <tr>\n",
       "      <th>8</th>\n",
       "      <th>ultra</th>\n",
       "      <td>2</td>\n",
       "      <td>7018.324143</td>\n",
       "      <td>2</td>\n",
       "      <td>45.0</td>\n",
       "    </tr>\n",
       "    <tr>\n",
       "      <th>9</th>\n",
       "      <th>ultra</th>\n",
       "      <td>2</td>\n",
       "      <td>6364.861911</td>\n",
       "      <td>2</td>\n",
       "      <td>31.0</td>\n",
       "    </tr>\n",
       "    <tr>\n",
       "      <th>10</th>\n",
       "      <th>ultra</th>\n",
       "      <td>1</td>\n",
       "      <td>4707.845501</td>\n",
       "      <td>1</td>\n",
       "      <td>16.0</td>\n",
       "    </tr>\n",
       "    <tr>\n",
       "      <th>12</th>\n",
       "      <th>ultra</th>\n",
       "      <td>1</td>\n",
       "      <td>3202.890770</td>\n",
       "      <td>1</td>\n",
       "      <td>26.0</td>\n",
       "    </tr>\n",
       "  </tbody>\n",
       "</table>\n",
       "<p>4533 rows × 4 columns</p>\n",
       "</div>"
      ],
      "text/plain": [
       "                                 distance_count  distance_sum  duration_count  \\\n",
       "user_id month subscription_type                                                 \n",
       "1       1     ultra                           2   7027.511294               2   \n",
       "        4     ultra                           1    754.159807               1   \n",
       "        8     ultra                           2   6723.470560               2   \n",
       "        10    ultra                           2   5809.911100               2   \n",
       "        11    ultra                           3   7003.499363               3   \n",
       "...                                         ...           ...             ...   \n",
       "699     6     ultra                           1   4072.797406               1   \n",
       "        8     ultra                           2   7018.324143               2   \n",
       "        9     ultra                           2   6364.861911               2   \n",
       "        10    ultra                           1   4707.845501               1   \n",
       "        12    ultra                           1   3202.890770               1   \n",
       "\n",
       "                                 duration_sum  \n",
       "user_id month subscription_type                \n",
       "1       1     ultra                      42.0  \n",
       "        4     ultra                       7.0  \n",
       "        8     ultra                      46.0  \n",
       "        10    ultra                      32.0  \n",
       "        11    ultra                      56.0  \n",
       "...                                       ...  \n",
       "699     6     ultra                      17.0  \n",
       "        8     ultra                      45.0  \n",
       "        9     ultra                      31.0  \n",
       "        10    ultra                      16.0  \n",
       "        12    ultra                      26.0  \n",
       "\n",
       "[4533 rows x 4 columns]"
      ]
     },
     "execution_count": 52,
     "metadata": {},
     "output_type": "execute_result"
    }
   ],
   "source": [
    "subscription_ultra_gain = subscription_ultra.pivot_table(index =['user_id','month','subscription_type'], values =['duration','distance'], aggfunc=('sum','count'))\n",
    "subscription_ultra_gain.columns = ['distance_count','distance_sum','duration_count','duration_sum']\n",
    "subscription_ultra_gain"
   ]
  },
  {
   "cell_type": "code",
   "execution_count": 53,
   "id": "75b112e9",
   "metadata": {},
   "outputs": [],
   "source": [
    "subscription_free_gain['gain']= 50*subscription_free_gain['duration_count']+8*subscription_free_gain['duration_sum']+0\n",
    "\n",
    "subscription_ultra_gain['gain']= 0*subscription_ultra_gain['duration_count']+6*subscription_ultra_gain['duration_sum']+199"
   ]
  },
  {
   "cell_type": "code",
   "execution_count": 54,
   "id": "dc7f9370",
   "metadata": {},
   "outputs": [
    {
     "data": {
      "text/html": [
       "<div>\n",
       "<style scoped>\n",
       "    .dataframe tbody tr th:only-of-type {\n",
       "        vertical-align: middle;\n",
       "    }\n",
       "\n",
       "    .dataframe tbody tr th {\n",
       "        vertical-align: top;\n",
       "    }\n",
       "\n",
       "    .dataframe thead th {\n",
       "        text-align: right;\n",
       "    }\n",
       "</style>\n",
       "<table border=\"1\" class=\"dataframe\">\n",
       "  <thead>\n",
       "    <tr style=\"text-align: right;\">\n",
       "      <th></th>\n",
       "      <th></th>\n",
       "      <th></th>\n",
       "      <th>distance_count</th>\n",
       "      <th>distance_sum</th>\n",
       "      <th>duration_count</th>\n",
       "      <th>duration_sum</th>\n",
       "      <th>gain</th>\n",
       "    </tr>\n",
       "    <tr>\n",
       "      <th>user_id</th>\n",
       "      <th>month</th>\n",
       "      <th>subscription_type</th>\n",
       "      <th></th>\n",
       "      <th></th>\n",
       "      <th></th>\n",
       "      <th></th>\n",
       "      <th></th>\n",
       "    </tr>\n",
       "  </thead>\n",
       "  <tbody>\n",
       "    <tr>\n",
       "      <th rowspan=\"5\" valign=\"top\">700</th>\n",
       "      <th>1</th>\n",
       "      <th>free</th>\n",
       "      <td>1</td>\n",
       "      <td>2515.690719</td>\n",
       "      <td>1</td>\n",
       "      <td>15.0</td>\n",
       "      <td>170.0</td>\n",
       "    </tr>\n",
       "    <tr>\n",
       "      <th>2</th>\n",
       "      <th>free</th>\n",
       "      <td>5</td>\n",
       "      <td>13446.659764</td>\n",
       "      <td>5</td>\n",
       "      <td>89.0</td>\n",
       "      <td>962.0</td>\n",
       "    </tr>\n",
       "    <tr>\n",
       "      <th>3</th>\n",
       "      <th>free</th>\n",
       "      <td>1</td>\n",
       "      <td>3798.334905</td>\n",
       "      <td>1</td>\n",
       "      <td>19.0</td>\n",
       "      <td>202.0</td>\n",
       "    </tr>\n",
       "    <tr>\n",
       "      <th>4</th>\n",
       "      <th>free</th>\n",
       "      <td>1</td>\n",
       "      <td>2984.551206</td>\n",
       "      <td>1</td>\n",
       "      <td>16.0</td>\n",
       "      <td>178.0</td>\n",
       "    </tr>\n",
       "    <tr>\n",
       "      <th>6</th>\n",
       "      <th>free</th>\n",
       "      <td>2</td>\n",
       "      <td>5927.650988</td>\n",
       "      <td>2</td>\n",
       "      <td>29.0</td>\n",
       "      <td>332.0</td>\n",
       "    </tr>\n",
       "    <tr>\n",
       "      <th>...</th>\n",
       "      <th>...</th>\n",
       "      <th>...</th>\n",
       "      <td>...</td>\n",
       "      <td>...</td>\n",
       "      <td>...</td>\n",
       "      <td>...</td>\n",
       "      <td>...</td>\n",
       "    </tr>\n",
       "    <tr>\n",
       "      <th rowspan=\"5\" valign=\"top\">1534</th>\n",
       "      <th>6</th>\n",
       "      <th>free</th>\n",
       "      <td>2</td>\n",
       "      <td>3409.468534</td>\n",
       "      <td>2</td>\n",
       "      <td>26.0</td>\n",
       "      <td>308.0</td>\n",
       "    </tr>\n",
       "    <tr>\n",
       "      <th>8</th>\n",
       "      <th>free</th>\n",
       "      <td>2</td>\n",
       "      <td>7622.453034</td>\n",
       "      <td>2</td>\n",
       "      <td>48.0</td>\n",
       "      <td>484.0</td>\n",
       "    </tr>\n",
       "    <tr>\n",
       "      <th>9</th>\n",
       "      <th>free</th>\n",
       "      <td>1</td>\n",
       "      <td>4928.173852</td>\n",
       "      <td>1</td>\n",
       "      <td>23.0</td>\n",
       "      <td>234.0</td>\n",
       "    </tr>\n",
       "    <tr>\n",
       "      <th>11</th>\n",
       "      <th>free</th>\n",
       "      <td>4</td>\n",
       "      <td>13350.015305</td>\n",
       "      <td>4</td>\n",
       "      <td>78.0</td>\n",
       "      <td>824.0</td>\n",
       "    </tr>\n",
       "    <tr>\n",
       "      <th>12</th>\n",
       "      <th>free</th>\n",
       "      <td>1</td>\n",
       "      <td>2371.711192</td>\n",
       "      <td>1</td>\n",
       "      <td>16.0</td>\n",
       "      <td>178.0</td>\n",
       "    </tr>\n",
       "  </tbody>\n",
       "</table>\n",
       "<p>6798 rows × 5 columns</p>\n",
       "</div>"
      ],
      "text/plain": [
       "                                 distance_count  distance_sum  duration_count  \\\n",
       "user_id month subscription_type                                                 \n",
       "700     1     free                            1   2515.690719               1   \n",
       "        2     free                            5  13446.659764               5   \n",
       "        3     free                            1   3798.334905               1   \n",
       "        4     free                            1   2984.551206               1   \n",
       "        6     free                            2   5927.650988               2   \n",
       "...                                         ...           ...             ...   \n",
       "1534    6     free                            2   3409.468534               2   \n",
       "        8     free                            2   7622.453034               2   \n",
       "        9     free                            1   4928.173852               1   \n",
       "        11    free                            4  13350.015305               4   \n",
       "        12    free                            1   2371.711192               1   \n",
       "\n",
       "                                 duration_sum   gain  \n",
       "user_id month subscription_type                       \n",
       "700     1     free                       15.0  170.0  \n",
       "        2     free                       89.0  962.0  \n",
       "        3     free                       19.0  202.0  \n",
       "        4     free                       16.0  178.0  \n",
       "        6     free                       29.0  332.0  \n",
       "...                                       ...    ...  \n",
       "1534    6     free                       26.0  308.0  \n",
       "        8     free                       48.0  484.0  \n",
       "        9     free                       23.0  234.0  \n",
       "        11    free                       78.0  824.0  \n",
       "        12    free                       16.0  178.0  \n",
       "\n",
       "[6798 rows x 5 columns]"
      ]
     },
     "execution_count": 54,
     "metadata": {},
     "output_type": "execute_result"
    }
   ],
   "source": [
    "subscription_free_gain"
   ]
  },
  {
   "cell_type": "code",
   "execution_count": 55,
   "id": "d57cec06",
   "metadata": {},
   "outputs": [
    {
     "data": {
      "text/html": [
       "<div>\n",
       "<style scoped>\n",
       "    .dataframe tbody tr th:only-of-type {\n",
       "        vertical-align: middle;\n",
       "    }\n",
       "\n",
       "    .dataframe tbody tr th {\n",
       "        vertical-align: top;\n",
       "    }\n",
       "\n",
       "    .dataframe thead th {\n",
       "        text-align: right;\n",
       "    }\n",
       "</style>\n",
       "<table border=\"1\" class=\"dataframe\">\n",
       "  <thead>\n",
       "    <tr style=\"text-align: right;\">\n",
       "      <th></th>\n",
       "      <th></th>\n",
       "      <th></th>\n",
       "      <th>distance_count</th>\n",
       "      <th>distance_sum</th>\n",
       "      <th>duration_count</th>\n",
       "      <th>duration_sum</th>\n",
       "      <th>gain</th>\n",
       "    </tr>\n",
       "    <tr>\n",
       "      <th>user_id</th>\n",
       "      <th>month</th>\n",
       "      <th>subscription_type</th>\n",
       "      <th></th>\n",
       "      <th></th>\n",
       "      <th></th>\n",
       "      <th></th>\n",
       "      <th></th>\n",
       "    </tr>\n",
       "  </thead>\n",
       "  <tbody>\n",
       "    <tr>\n",
       "      <th rowspan=\"5\" valign=\"top\">1</th>\n",
       "      <th>1</th>\n",
       "      <th>ultra</th>\n",
       "      <td>2</td>\n",
       "      <td>7027.511294</td>\n",
       "      <td>2</td>\n",
       "      <td>42.0</td>\n",
       "      <td>451.0</td>\n",
       "    </tr>\n",
       "    <tr>\n",
       "      <th>4</th>\n",
       "      <th>ultra</th>\n",
       "      <td>1</td>\n",
       "      <td>754.159807</td>\n",
       "      <td>1</td>\n",
       "      <td>7.0</td>\n",
       "      <td>241.0</td>\n",
       "    </tr>\n",
       "    <tr>\n",
       "      <th>8</th>\n",
       "      <th>ultra</th>\n",
       "      <td>2</td>\n",
       "      <td>6723.470560</td>\n",
       "      <td>2</td>\n",
       "      <td>46.0</td>\n",
       "      <td>475.0</td>\n",
       "    </tr>\n",
       "    <tr>\n",
       "      <th>10</th>\n",
       "      <th>ultra</th>\n",
       "      <td>2</td>\n",
       "      <td>5809.911100</td>\n",
       "      <td>2</td>\n",
       "      <td>32.0</td>\n",
       "      <td>391.0</td>\n",
       "    </tr>\n",
       "    <tr>\n",
       "      <th>11</th>\n",
       "      <th>ultra</th>\n",
       "      <td>3</td>\n",
       "      <td>7003.499363</td>\n",
       "      <td>3</td>\n",
       "      <td>56.0</td>\n",
       "      <td>535.0</td>\n",
       "    </tr>\n",
       "    <tr>\n",
       "      <th>...</th>\n",
       "      <th>...</th>\n",
       "      <th>...</th>\n",
       "      <td>...</td>\n",
       "      <td>...</td>\n",
       "      <td>...</td>\n",
       "      <td>...</td>\n",
       "      <td>...</td>\n",
       "    </tr>\n",
       "    <tr>\n",
       "      <th rowspan=\"5\" valign=\"top\">699</th>\n",
       "      <th>6</th>\n",
       "      <th>ultra</th>\n",
       "      <td>1</td>\n",
       "      <td>4072.797406</td>\n",
       "      <td>1</td>\n",
       "      <td>17.0</td>\n",
       "      <td>301.0</td>\n",
       "    </tr>\n",
       "    <tr>\n",
       "      <th>8</th>\n",
       "      <th>ultra</th>\n",
       "      <td>2</td>\n",
       "      <td>7018.324143</td>\n",
       "      <td>2</td>\n",
       "      <td>45.0</td>\n",
       "      <td>469.0</td>\n",
       "    </tr>\n",
       "    <tr>\n",
       "      <th>9</th>\n",
       "      <th>ultra</th>\n",
       "      <td>2</td>\n",
       "      <td>6364.861911</td>\n",
       "      <td>2</td>\n",
       "      <td>31.0</td>\n",
       "      <td>385.0</td>\n",
       "    </tr>\n",
       "    <tr>\n",
       "      <th>10</th>\n",
       "      <th>ultra</th>\n",
       "      <td>1</td>\n",
       "      <td>4707.845501</td>\n",
       "      <td>1</td>\n",
       "      <td>16.0</td>\n",
       "      <td>295.0</td>\n",
       "    </tr>\n",
       "    <tr>\n",
       "      <th>12</th>\n",
       "      <th>ultra</th>\n",
       "      <td>1</td>\n",
       "      <td>3202.890770</td>\n",
       "      <td>1</td>\n",
       "      <td>26.0</td>\n",
       "      <td>355.0</td>\n",
       "    </tr>\n",
       "  </tbody>\n",
       "</table>\n",
       "<p>4533 rows × 5 columns</p>\n",
       "</div>"
      ],
      "text/plain": [
       "                                 distance_count  distance_sum  duration_count  \\\n",
       "user_id month subscription_type                                                 \n",
       "1       1     ultra                           2   7027.511294               2   \n",
       "        4     ultra                           1    754.159807               1   \n",
       "        8     ultra                           2   6723.470560               2   \n",
       "        10    ultra                           2   5809.911100               2   \n",
       "        11    ultra                           3   7003.499363               3   \n",
       "...                                         ...           ...             ...   \n",
       "699     6     ultra                           1   4072.797406               1   \n",
       "        8     ultra                           2   7018.324143               2   \n",
       "        9     ultra                           2   6364.861911               2   \n",
       "        10    ultra                           1   4707.845501               1   \n",
       "        12    ultra                           1   3202.890770               1   \n",
       "\n",
       "                                 duration_sum   gain  \n",
       "user_id month subscription_type                       \n",
       "1       1     ultra                      42.0  451.0  \n",
       "        4     ultra                       7.0  241.0  \n",
       "        8     ultra                      46.0  475.0  \n",
       "        10    ultra                      32.0  391.0  \n",
       "        11    ultra                      56.0  535.0  \n",
       "...                                       ...    ...  \n",
       "699     6     ultra                      17.0  301.0  \n",
       "        8     ultra                      45.0  469.0  \n",
       "        9     ultra                      31.0  385.0  \n",
       "        10    ultra                      16.0  295.0  \n",
       "        12    ultra                      26.0  355.0  \n",
       "\n",
       "[4533 rows x 5 columns]"
      ]
     },
     "execution_count": 55,
     "metadata": {},
     "output_type": "execute_result"
    }
   ],
   "source": [
    "subscription_ultra_gain"
   ]
  },
  {
   "cell_type": "markdown",
   "id": "2dbafa56",
   "metadata": {},
   "source": [
    "На данноим этапе работы была подсчитана выручка для двух категорий пользователей(с подской и без), также данные были объединены в сводные таблицы по месяцам и по пользователю."
   ]
  },
  {
   "cell_type": "markdown",
   "id": "41545ac0",
   "metadata": {},
   "source": [
    "#### Шаг 6. Проверка гипотез"
   ]
  },
  {
   "cell_type": "markdown",
   "id": "e9c93d9b",
   "metadata": {},
   "source": [
    "Ho: группы пользователей с подпиской и без демонстрируют длительность\n",
    "Н1: обе эти группы демонстрируют разную длительность."
   ]
  },
  {
   "cell_type": "code",
   "execution_count": 59,
   "id": "34ef221e",
   "metadata": {},
   "outputs": [
    {
     "name": "stdout",
     "output_type": "stream",
     "text": [
      "p-значение: 2.4959453720736625e-34\n",
      "Отвергаем нулевую гипотезу\n"
     ]
    }
   ],
   "source": [
    "from scipy import stats as st\n",
    "import numpy as np\n",
    "\n",
    "alpha = 0.05\n",
    "\n",
    "results1 = st.ttest_ind(subscription_ultra['duration'], subscription_free['duration'],alternative='greater')\n",
    "\n",
    "print('p-значение:', results1.pvalue)\n",
    "\n",
    "if (results1.pvalue < alpha):\n",
    "    print('Отвергаем нулевую гипотезу')\n",
    "else:\n",
    "    print('Не получилось отвергнуть нулевую гипотезу')"
   ]
  },
  {
   "cell_type": "markdown",
   "id": "23565575",
   "metadata": {},
   "source": [
    "Нулевую гипртезу  получилось отвергнуть, есть основание пологать, что люди с подпиской  ездят больше, чем люди без подписки"
   ]
  },
  {
   "cell_type": "markdown",
   "id": "6ba2e143",
   "metadata": {},
   "source": [
    "Ho: расстояние одной поездки 3130м\n",
    "Н1: расстояние одной поездки меньше 3130м"
   ]
  },
  {
   "cell_type": "code",
   "execution_count": 57,
   "id": "23ea867b",
   "metadata": {},
   "outputs": [
    {
     "name": "stdout",
     "output_type": "stream",
     "text": [
      "p-значение: 0.08046311521502146\n",
      "Не получилось отвергнуть нулевую гипотезу\n"
     ]
    }
   ],
   "source": [
    "interested_value = 3130\n",
    "\n",
    "alpha = 0.05\n",
    "\n",
    "results2 = st.ttest_1samp(subscription_ultra['distance'],interested_value, alternative='less')\n",
    "print('p-значение:', results2.pvalue)\n",
    "\n",
    "if results2.pvalue < alpha:\n",
    "    print('Отвергаем нулевую гипотезу')\n",
    "else:\n",
    "    print('Не получилось отвергнуть нулевую гипотезу')\n"
   ]
  },
  {
   "cell_type": "markdown",
   "id": "f23f9655",
   "metadata": {},
   "source": [
    "Мы хотели узнать не превыщает ли дистанция 3130 м,  pvalue оказалось ,близка от значения alpha, значит проезжают за одну поездку чуть больше, чем 3130м. "
   ]
  },
  {
   "cell_type": "markdown",
   "id": "bf56ed30",
   "metadata": {},
   "source": [
    "Ho: помесячная выручка с подпиской\n",
    "Н1: помесячная выручка без подписки меньше"
   ]
  },
  {
   "cell_type": "code",
   "execution_count": 58,
   "id": "e60d2f82",
   "metadata": {},
   "outputs": [
    {
     "name": "stdout",
     "output_type": "stream",
     "text": [
      "p-значение: 1.8850394384715216e-31\n",
      "Отвергаем нулевую гипотезу\n"
     ]
    }
   ],
   "source": [
    "alpha = 0.05\n",
    "\n",
    "results3 = st.ttest_ind(subscription_ultra_gain['gain'], subscription_free_gain['gain'], alternative='greater')\n",
    "\n",
    "print('p-значение:', results3.pvalue)\n",
    "\n",
    "if results3.pvalue < alpha:\n",
    "    print('Отвергаем нулевую гипотезу')\n",
    "else:\n",
    "    print('Не получилось отвергнуть нулевую гипотезу')"
   ]
  },
  {
   "cell_type": "markdown",
   "id": "c3f17f24",
   "metadata": {},
   "source": [
    "Нулевую гипртезу  получилось отвергнуть, есть основание пологать, что люди с подпиской тратят больше, чем люди без подписки"
   ]
  },
  {
   "cell_type": "markdown",
   "id": "84301593",
   "metadata": {},
   "source": [
    "На основании проведенных исследований стоит полагать, что в данном случае подписка не несет существенного прироста выручки, люди без подписки тратят больше."
   ]
  },
  {
   "cell_type": "markdown",
   "id": "61213c5e",
   "metadata": {},
   "source": [
    "#### Шаг 7. Распределения"
   ]
  },
  {
   "cell_type": "markdown",
   "id": "b1c302d8",
   "metadata": {},
   "source": [
    "В ходе данного ислледования, которое проводилось на основании 1534 пользователей, которые преобладают из города Пятигорска, был сделан вывод, что подписка не сильно влияет на доходность данного предприятия. Пользователи без подписки проезжат больше и дольше, чем категория пользователей с подпиской. Людей с подпиской действительно меньше, количество которых продакт-менеджеры хотят увеличить. Необходимые гипотезы не подтвердились."
   ]
  }
 ],
 "metadata": {
  "ExecuteTimeLog": [
   {
    "duration": 357,
    "start_time": "2023-12-18T07:08:30.418Z"
   },
   {
    "duration": 75,
    "start_time": "2023-12-18T07:08:33.073Z"
   },
   {
    "duration": 35,
    "start_time": "2023-12-18T07:08:58.409Z"
   },
   {
    "duration": 33,
    "start_time": "2023-12-18T07:09:09.329Z"
   },
   {
    "duration": 31,
    "start_time": "2023-12-18T07:09:43.963Z"
   },
   {
    "duration": 34,
    "start_time": "2023-12-18T07:09:54.845Z"
   },
   {
    "duration": 33,
    "start_time": "2023-12-18T07:10:07.233Z"
   },
   {
    "duration": 8,
    "start_time": "2023-12-18T07:10:16.492Z"
   },
   {
    "duration": 77,
    "start_time": "2023-12-18T07:11:02.360Z"
   },
   {
    "duration": 44,
    "start_time": "2023-12-18T07:11:13.545Z"
   },
   {
    "duration": 8,
    "start_time": "2023-12-18T07:11:36.936Z"
   },
   {
    "duration": 78,
    "start_time": "2023-12-18T07:18:08.783Z"
   },
   {
    "duration": 68,
    "start_time": "2023-12-18T07:18:26.218Z"
   },
   {
    "duration": 7,
    "start_time": "2023-12-18T07:18:47.321Z"
   },
   {
    "duration": 16,
    "start_time": "2023-12-18T07:23:50.580Z"
   },
   {
    "duration": 56,
    "start_time": "2023-12-18T07:25:16.835Z"
   },
   {
    "duration": 5,
    "start_time": "2023-12-18T07:30:29.851Z"
   },
   {
    "duration": 10,
    "start_time": "2023-12-18T07:30:38.796Z"
   },
   {
    "duration": 5,
    "start_time": "2023-12-18T07:32:34.662Z"
   },
   {
    "duration": 6,
    "start_time": "2023-12-18T07:32:48.442Z"
   },
   {
    "duration": 5,
    "start_time": "2023-12-18T07:33:14.397Z"
   },
   {
    "duration": 4,
    "start_time": "2023-12-18T07:36:46.623Z"
   },
   {
    "duration": 5,
    "start_time": "2023-12-18T07:37:48.412Z"
   },
   {
    "duration": 85,
    "start_time": "2023-12-18T07:48:21.006Z"
   },
   {
    "duration": 4,
    "start_time": "2023-12-18T07:48:41.273Z"
   },
   {
    "duration": 684,
    "start_time": "2023-12-18T07:50:53.495Z"
   },
   {
    "duration": 196,
    "start_time": "2023-12-18T07:51:11.554Z"
   },
   {
    "duration": 142,
    "start_time": "2023-12-18T07:52:29.300Z"
   },
   {
    "duration": 132,
    "start_time": "2023-12-18T07:52:46.473Z"
   },
   {
    "duration": 168,
    "start_time": "2023-12-18T07:52:54.915Z"
   },
   {
    "duration": 146,
    "start_time": "2023-12-18T07:53:13.153Z"
   },
   {
    "duration": 85,
    "start_time": "2023-12-18T07:55:28.991Z"
   },
   {
    "duration": 113,
    "start_time": "2023-12-18T07:55:36.513Z"
   },
   {
    "duration": 83,
    "start_time": "2023-12-18T07:55:46.089Z"
   },
   {
    "duration": 103,
    "start_time": "2023-12-18T07:56:16.569Z"
   },
   {
    "duration": 107,
    "start_time": "2023-12-18T07:59:00.391Z"
   },
   {
    "duration": 127,
    "start_time": "2023-12-18T07:59:07.696Z"
   },
   {
    "duration": 219,
    "start_time": "2023-12-18T07:59:20.993Z"
   },
   {
    "duration": 184,
    "start_time": "2023-12-18T07:59:27.761Z"
   },
   {
    "duration": 447,
    "start_time": "2023-12-18T07:59:46.907Z"
   },
   {
    "duration": 95,
    "start_time": "2023-12-18T07:59:53.224Z"
   },
   {
    "duration": 149,
    "start_time": "2023-12-18T08:00:09.658Z"
   },
   {
    "duration": 6,
    "start_time": "2023-12-18T08:10:32.441Z"
   },
   {
    "duration": 12,
    "start_time": "2023-12-18T08:11:26.342Z"
   },
   {
    "duration": 9,
    "start_time": "2023-12-18T08:12:14.062Z"
   },
   {
    "duration": 9,
    "start_time": "2023-12-18T08:12:31.264Z"
   },
   {
    "duration": 1436,
    "start_time": "2023-12-18T08:13:45.474Z"
   },
   {
    "duration": 143,
    "start_time": "2023-12-18T08:14:25.749Z"
   },
   {
    "duration": 9,
    "start_time": "2023-12-18T08:14:52.493Z"
   },
   {
    "duration": 171,
    "start_time": "2023-12-18T08:15:23.696Z"
   },
   {
    "duration": 158,
    "start_time": "2023-12-18T08:17:17.159Z"
   },
   {
    "duration": 159,
    "start_time": "2023-12-18T08:17:56.110Z"
   },
   {
    "duration": 24,
    "start_time": "2023-12-18T08:22:08.155Z"
   },
   {
    "duration": 22,
    "start_time": "2023-12-18T08:23:21.921Z"
   },
   {
    "duration": 27,
    "start_time": "2023-12-18T08:23:57.974Z"
   },
   {
    "duration": 9,
    "start_time": "2023-12-18T08:24:22.188Z"
   },
   {
    "duration": 18,
    "start_time": "2023-12-18T08:24:44.513Z"
   },
   {
    "duration": 18,
    "start_time": "2023-12-18T08:25:26.485Z"
   },
   {
    "duration": 123,
    "start_time": "2023-12-18T08:25:38.897Z"
   },
   {
    "duration": 27,
    "start_time": "2023-12-18T08:26:44.519Z"
   },
   {
    "duration": 7,
    "start_time": "2023-12-18T08:30:23.237Z"
   },
   {
    "duration": 19,
    "start_time": "2023-12-18T08:30:31.366Z"
   },
   {
    "duration": 12,
    "start_time": "2023-12-18T08:30:42.693Z"
   },
   {
    "duration": 16,
    "start_time": "2023-12-18T08:33:29.856Z"
   },
   {
    "duration": 18,
    "start_time": "2023-12-18T08:33:43.169Z"
   },
   {
    "duration": 7,
    "start_time": "2023-12-18T08:34:22.288Z"
   },
   {
    "duration": 4,
    "start_time": "2023-12-18T08:37:42.021Z"
   },
   {
    "duration": 8,
    "start_time": "2023-12-18T08:43:17.438Z"
   },
   {
    "duration": 28,
    "start_time": "2023-12-18T08:44:26.279Z"
   },
   {
    "duration": 22,
    "start_time": "2023-12-18T08:44:48.932Z"
   },
   {
    "duration": 15,
    "start_time": "2023-12-18T08:45:59.211Z"
   },
   {
    "duration": 20,
    "start_time": "2023-12-18T08:46:22.069Z"
   },
   {
    "duration": 18,
    "start_time": "2023-12-18T08:46:37.627Z"
   },
   {
    "duration": 8,
    "start_time": "2023-12-18T08:46:44.307Z"
   },
   {
    "duration": 160,
    "start_time": "2023-12-18T08:48:35.781Z"
   },
   {
    "duration": 143,
    "start_time": "2023-12-18T08:48:43.387Z"
   },
   {
    "duration": 138,
    "start_time": "2023-12-18T08:49:13.265Z"
   },
   {
    "duration": 172,
    "start_time": "2023-12-18T08:49:28.869Z"
   },
   {
    "duration": 10,
    "start_time": "2023-12-18T09:02:13.348Z"
   },
   {
    "duration": 11,
    "start_time": "2023-12-18T09:02:26.452Z"
   },
   {
    "duration": 10,
    "start_time": "2023-12-18T09:04:43.276Z"
   },
   {
    "duration": 9,
    "start_time": "2023-12-18T09:04:57.401Z"
   },
   {
    "duration": 7,
    "start_time": "2023-12-18T09:05:19.142Z"
   },
   {
    "duration": 14,
    "start_time": "2023-12-18T09:05:41.813Z"
   },
   {
    "duration": 24,
    "start_time": "2023-12-18T09:12:15.498Z"
   },
   {
    "duration": 161,
    "start_time": "2023-12-18T09:12:52.176Z"
   },
   {
    "duration": 20,
    "start_time": "2023-12-18T09:13:05.616Z"
   },
   {
    "duration": 119,
    "start_time": "2023-12-18T09:14:34.416Z"
   },
   {
    "duration": 19,
    "start_time": "2023-12-18T09:14:44.887Z"
   },
   {
    "duration": 71,
    "start_time": "2023-12-18T09:16:58.487Z"
   },
   {
    "duration": 37,
    "start_time": "2023-12-18T09:17:18.540Z"
   },
   {
    "duration": 3,
    "start_time": "2023-12-18T09:21:15.602Z"
   },
   {
    "duration": 398,
    "start_time": "2023-12-18T10:00:06.788Z"
   },
   {
    "duration": 36,
    "start_time": "2023-12-18T10:00:07.906Z"
   },
   {
    "duration": 14,
    "start_time": "2023-12-18T10:00:08.113Z"
   },
   {
    "duration": 35,
    "start_time": "2023-12-18T10:00:08.289Z"
   },
   {
    "duration": 9,
    "start_time": "2023-12-18T10:00:08.488Z"
   },
   {
    "duration": 21,
    "start_time": "2023-12-18T10:00:08.681Z"
   },
   {
    "duration": 9,
    "start_time": "2023-12-18T10:00:08.844Z"
   },
   {
    "duration": 14,
    "start_time": "2023-12-18T10:00:09.200Z"
   },
   {
    "duration": 10,
    "start_time": "2023-12-18T10:00:09.406Z"
   },
   {
    "duration": 6,
    "start_time": "2023-12-18T10:00:09.584Z"
   },
   {
    "duration": 6,
    "start_time": "2023-12-18T10:00:09.754Z"
   },
   {
    "duration": 9,
    "start_time": "2023-12-18T10:00:09.960Z"
   },
   {
    "duration": 4,
    "start_time": "2023-12-18T10:00:10.115Z"
   },
   {
    "duration": 4,
    "start_time": "2023-12-18T10:00:10.292Z"
   },
   {
    "duration": 13,
    "start_time": "2023-12-18T10:00:10.465Z"
   },
   {
    "duration": 436,
    "start_time": "2023-12-18T10:00:10.845Z"
   },
   {
    "duration": 9,
    "start_time": "2023-12-18T10:00:11.283Z"
   },
   {
    "duration": 180,
    "start_time": "2023-12-18T10:00:11.294Z"
   },
   {
    "duration": 180,
    "start_time": "2023-12-18T10:00:11.477Z"
   },
   {
    "duration": 191,
    "start_time": "2023-12-18T10:00:11.659Z"
   },
   {
    "duration": 24,
    "start_time": "2023-12-18T10:00:11.959Z"
   },
   {
    "duration": 70,
    "start_time": "2023-12-18T10:00:12.140Z"
   },
   {
    "duration": 169,
    "start_time": "2023-12-18T10:00:13.512Z"
   },
   {
    "duration": 165,
    "start_time": "2023-12-18T10:00:14.088Z"
   },
   {
    "duration": 135,
    "start_time": "2023-12-18T10:00:14.654Z"
   },
   {
    "duration": 166,
    "start_time": "2023-12-18T10:00:15.139Z"
   },
   {
    "duration": 57,
    "start_time": "2023-12-18T10:00:24.125Z"
   },
   {
    "duration": 38,
    "start_time": "2023-12-18T10:10:36.217Z"
   },
   {
    "duration": 41,
    "start_time": "2023-12-18T10:11:04.243Z"
   },
   {
    "duration": 1457,
    "start_time": "2023-12-18T10:12:51.755Z"
   },
   {
    "duration": 1244,
    "start_time": "2023-12-18T10:12:58.429Z"
   },
   {
    "duration": 42,
    "start_time": "2023-12-18T10:15:35.273Z"
   },
   {
    "duration": 320,
    "start_time": "2023-12-18T10:16:57.673Z"
   },
   {
    "duration": 41,
    "start_time": "2023-12-18T10:18:15.423Z"
   },
   {
    "duration": 4,
    "start_time": "2023-12-18T10:18:28.179Z"
   },
   {
    "duration": 1463,
    "start_time": "2023-12-18T10:22:31.615Z"
   },
   {
    "duration": 1146,
    "start_time": "2023-12-18T10:24:52.504Z"
   },
   {
    "duration": 1279,
    "start_time": "2023-12-18T10:24:59.812Z"
   },
   {
    "duration": 1196,
    "start_time": "2023-12-18T10:25:34.352Z"
   },
   {
    "duration": 1070,
    "start_time": "2023-12-18T10:26:38.454Z"
   },
   {
    "duration": 90,
    "start_time": "2023-12-18T10:39:55.758Z"
   },
   {
    "duration": 12,
    "start_time": "2023-12-18T10:40:29.573Z"
   },
   {
    "duration": 4,
    "start_time": "2023-12-18T10:43:59.749Z"
   },
   {
    "duration": 1350,
    "start_time": "2023-12-18T10:44:27.521Z"
   },
   {
    "duration": 36,
    "start_time": "2023-12-18T10:48:20.137Z"
   },
   {
    "duration": 59,
    "start_time": "2023-12-18T10:50:15.353Z"
   },
   {
    "duration": 18,
    "start_time": "2023-12-18T10:52:29.297Z"
   },
   {
    "duration": 1380,
    "start_time": "2023-12-18T10:52:44.160Z"
   },
   {
    "duration": 57,
    "start_time": "2023-12-18T10:53:08.933Z"
   },
   {
    "duration": 12,
    "start_time": "2023-12-18T10:56:08.953Z"
   },
   {
    "duration": 10,
    "start_time": "2023-12-18T11:01:26.509Z"
   },
   {
    "duration": 20,
    "start_time": "2023-12-18T11:01:50.629Z"
   },
   {
    "duration": 21,
    "start_time": "2023-12-18T11:02:13.373Z"
   },
   {
    "duration": 108,
    "start_time": "2023-12-18T11:02:50.579Z"
   },
   {
    "duration": 35,
    "start_time": "2023-12-18T11:08:48.651Z"
   },
   {
    "duration": 35,
    "start_time": "2023-12-18T11:10:06.767Z"
   },
   {
    "duration": 33,
    "start_time": "2023-12-18T11:10:51.795Z"
   },
   {
    "duration": 4,
    "start_time": "2023-12-18T11:11:21.426Z"
   },
   {
    "duration": 7,
    "start_time": "2023-12-18T11:12:49.646Z"
   },
   {
    "duration": 7,
    "start_time": "2023-12-18T11:14:42.583Z"
   },
   {
    "duration": 17,
    "start_time": "2023-12-18T11:14:56.347Z"
   },
   {
    "duration": 18,
    "start_time": "2023-12-18T11:14:59.707Z"
   },
   {
    "duration": 422,
    "start_time": "2023-12-18T15:29:35.148Z"
   },
   {
    "duration": 95,
    "start_time": "2023-12-18T15:29:35.571Z"
   },
   {
    "duration": 15,
    "start_time": "2023-12-18T15:29:35.678Z"
   },
   {
    "duration": 77,
    "start_time": "2023-12-18T15:29:36.041Z"
   },
   {
    "duration": 17,
    "start_time": "2023-12-18T15:29:36.120Z"
   },
   {
    "duration": 59,
    "start_time": "2023-12-18T15:29:36.243Z"
   },
   {
    "duration": 11,
    "start_time": "2023-12-18T15:29:36.436Z"
   },
   {
    "duration": 21,
    "start_time": "2023-12-18T15:29:36.719Z"
   },
   {
    "duration": 11,
    "start_time": "2023-12-18T15:29:37.090Z"
   },
   {
    "duration": 6,
    "start_time": "2023-12-18T15:29:37.103Z"
   },
   {
    "duration": 7,
    "start_time": "2023-12-18T15:29:37.258Z"
   },
   {
    "duration": 6,
    "start_time": "2023-12-18T15:29:37.483Z"
   },
   {
    "duration": 6,
    "start_time": "2023-12-18T15:29:37.623Z"
   },
   {
    "duration": 6,
    "start_time": "2023-12-18T15:29:37.798Z"
   },
   {
    "duration": 7,
    "start_time": "2023-12-18T15:29:38.138Z"
   },
   {
    "duration": 654,
    "start_time": "2023-12-18T15:29:38.354Z"
   },
   {
    "duration": 26,
    "start_time": "2023-12-18T15:29:39.010Z"
   },
   {
    "duration": 199,
    "start_time": "2023-12-18T15:29:39.038Z"
   },
   {
    "duration": 197,
    "start_time": "2023-12-18T15:29:39.240Z"
   },
   {
    "duration": 254,
    "start_time": "2023-12-18T15:29:39.439Z"
   },
   {
    "duration": 37,
    "start_time": "2023-12-18T15:29:39.695Z"
   },
   {
    "duration": 14,
    "start_time": "2023-12-18T15:29:39.733Z"
   },
   {
    "duration": 172,
    "start_time": "2023-12-18T15:29:39.930Z"
   },
   {
    "duration": 200,
    "start_time": "2023-12-18T15:29:40.236Z"
   },
   {
    "duration": 163,
    "start_time": "2023-12-18T15:29:40.438Z"
   },
   {
    "duration": 209,
    "start_time": "2023-12-18T15:29:40.603Z"
   },
   {
    "duration": 108,
    "start_time": "2023-12-18T15:29:40.962Z"
   },
   {
    "duration": 43,
    "start_time": "2023-12-18T15:29:41.285Z"
   },
   {
    "duration": 4,
    "start_time": "2023-12-18T15:29:41.349Z"
   },
   {
    "duration": 8,
    "start_time": "2023-12-18T15:29:41.678Z"
   },
   {
    "duration": 6,
    "start_time": "2023-12-18T15:29:41.808Z"
   },
   {
    "duration": 19,
    "start_time": "2023-12-18T15:29:41.999Z"
   },
   {
    "duration": 7,
    "start_time": "2023-12-18T15:29:56.246Z"
   },
   {
    "duration": 49,
    "start_time": "2023-12-18T15:30:32.186Z"
   },
   {
    "duration": 43,
    "start_time": "2023-12-18T15:30:34.905Z"
   },
   {
    "duration": 4,
    "start_time": "2023-12-18T15:30:35.812Z"
   },
   {
    "duration": 7,
    "start_time": "2023-12-18T15:30:36.536Z"
   },
   {
    "duration": 21,
    "start_time": "2023-12-18T15:30:37.581Z"
   },
   {
    "duration": 19,
    "start_time": "2023-12-18T15:30:40.400Z"
   },
   {
    "duration": 198,
    "start_time": "2023-12-18T15:30:44.438Z"
   },
   {
    "duration": 196,
    "start_time": "2023-12-18T15:31:34.772Z"
   },
   {
    "duration": 209,
    "start_time": "2023-12-18T15:31:54.030Z"
   },
   {
    "duration": 267,
    "start_time": "2023-12-18T15:32:04.941Z"
   },
   {
    "duration": 153,
    "start_time": "2023-12-18T15:32:15.820Z"
   },
   {
    "duration": 233,
    "start_time": "2023-12-18T15:32:29.060Z"
   },
   {
    "duration": 145,
    "start_time": "2023-12-18T15:32:40.834Z"
   },
   {
    "duration": 148,
    "start_time": "2023-12-18T15:32:51.473Z"
   },
   {
    "duration": 153,
    "start_time": "2023-12-18T15:33:28.034Z"
   },
   {
    "duration": 153,
    "start_time": "2023-12-18T15:33:54.389Z"
   },
   {
    "duration": 485,
    "start_time": "2023-12-18T15:47:36.869Z"
   },
   {
    "duration": 35,
    "start_time": "2023-12-18T15:48:22.624Z"
   },
   {
    "duration": 6,
    "start_time": "2023-12-18T15:48:31.143Z"
   },
   {
    "duration": 419,
    "start_time": "2023-12-19T19:19:08.225Z"
   },
   {
    "duration": 95,
    "start_time": "2023-12-19T19:19:08.645Z"
   },
   {
    "duration": 14,
    "start_time": "2023-12-19T19:19:08.742Z"
   },
   {
    "duration": 189,
    "start_time": "2023-12-19T19:19:08.757Z"
   },
   {
    "duration": 8,
    "start_time": "2023-12-19T19:19:08.949Z"
   },
   {
    "duration": 88,
    "start_time": "2023-12-19T19:19:08.958Z"
   },
   {
    "duration": 7,
    "start_time": "2023-12-19T19:19:09.047Z"
   },
   {
    "duration": 44,
    "start_time": "2023-12-19T19:19:09.055Z"
   },
   {
    "duration": 29,
    "start_time": "2023-12-19T19:19:09.101Z"
   },
   {
    "duration": 14,
    "start_time": "2023-12-19T19:19:09.131Z"
   },
   {
    "duration": 45,
    "start_time": "2023-12-19T19:19:09.146Z"
   },
   {
    "duration": 33,
    "start_time": "2023-12-19T19:19:09.193Z"
   },
   {
    "duration": 26,
    "start_time": "2023-12-19T19:19:09.227Z"
   },
   {
    "duration": 29,
    "start_time": "2023-12-19T19:19:09.256Z"
   },
   {
    "duration": 34,
    "start_time": "2023-12-19T19:19:09.287Z"
   },
   {
    "duration": 593,
    "start_time": "2023-12-19T19:19:09.322Z"
   },
   {
    "duration": 11,
    "start_time": "2023-12-19T19:19:09.917Z"
   },
   {
    "duration": 168,
    "start_time": "2023-12-19T19:19:09.929Z"
   },
   {
    "duration": 170,
    "start_time": "2023-12-19T19:19:10.099Z"
   },
   {
    "duration": 238,
    "start_time": "2023-12-19T19:19:10.271Z"
   },
   {
    "duration": 22,
    "start_time": "2023-12-19T19:19:10.511Z"
   },
   {
    "duration": 13,
    "start_time": "2023-12-19T19:19:10.534Z"
   },
   {
    "duration": 177,
    "start_time": "2023-12-19T19:19:10.548Z"
   },
   {
    "duration": 172,
    "start_time": "2023-12-19T19:19:10.726Z"
   },
   {
    "duration": 159,
    "start_time": "2023-12-19T19:19:10.900Z"
   },
   {
    "duration": 162,
    "start_time": "2023-12-19T19:19:11.061Z"
   },
   {
    "duration": 38,
    "start_time": "2023-12-19T19:19:11.225Z"
   },
   {
    "duration": 53,
    "start_time": "2023-12-19T19:19:11.264Z"
   },
   {
    "duration": 7,
    "start_time": "2023-12-19T19:19:11.319Z"
   },
   {
    "duration": 15,
    "start_time": "2023-12-19T19:19:11.327Z"
   },
   {
    "duration": 37,
    "start_time": "2023-12-19T19:19:11.343Z"
   },
   {
    "duration": 42,
    "start_time": "2023-12-19T19:19:11.382Z"
   },
   {
    "duration": 403,
    "start_time": "2023-12-19T19:19:11.425Z"
   },
   {
    "duration": 4,
    "start_time": "2023-12-19T19:30:50.140Z"
   },
   {
    "duration": 4,
    "start_time": "2023-12-19T19:30:55.214Z"
   },
   {
    "duration": 5,
    "start_time": "2023-12-19T19:32:08.806Z"
   },
   {
    "duration": 94,
    "start_time": "2023-12-19T19:34:37.782Z"
   },
   {
    "duration": 6,
    "start_time": "2023-12-19T19:34:49.229Z"
   },
   {
    "duration": 6,
    "start_time": "2023-12-19T19:39:42.834Z"
   },
   {
    "duration": 5,
    "start_time": "2023-12-19T19:40:26.697Z"
   },
   {
    "duration": 5,
    "start_time": "2023-12-19T19:42:44.718Z"
   },
   {
    "duration": 6,
    "start_time": "2023-12-19T20:06:24.983Z"
   },
   {
    "duration": 5,
    "start_time": "2023-12-19T20:07:05.475Z"
   },
   {
    "duration": 7,
    "start_time": "2023-12-19T20:18:37.947Z"
   },
   {
    "duration": 5,
    "start_time": "2023-12-19T20:20:25.892Z"
   },
   {
    "duration": 339,
    "start_time": "2023-12-20T13:46:28.499Z"
   },
   {
    "duration": 80,
    "start_time": "2023-12-20T13:46:28.839Z"
   },
   {
    "duration": 12,
    "start_time": "2023-12-20T13:46:28.920Z"
   },
   {
    "duration": 74,
    "start_time": "2023-12-20T13:46:28.933Z"
   },
   {
    "duration": 8,
    "start_time": "2023-12-20T13:46:29.009Z"
   },
   {
    "duration": 71,
    "start_time": "2023-12-20T13:46:29.018Z"
   },
   {
    "duration": 6,
    "start_time": "2023-12-20T13:46:29.090Z"
   },
   {
    "duration": 37,
    "start_time": "2023-12-20T13:46:29.097Z"
   },
   {
    "duration": 28,
    "start_time": "2023-12-20T13:46:29.135Z"
   },
   {
    "duration": 5,
    "start_time": "2023-12-20T13:46:29.164Z"
   },
   {
    "duration": 20,
    "start_time": "2023-12-20T13:46:29.170Z"
   },
   {
    "duration": 28,
    "start_time": "2023-12-20T13:46:29.191Z"
   },
   {
    "duration": 30,
    "start_time": "2023-12-20T13:46:29.220Z"
   },
   {
    "duration": 20,
    "start_time": "2023-12-20T13:46:29.252Z"
   },
   {
    "duration": 27,
    "start_time": "2023-12-20T13:46:29.273Z"
   },
   {
    "duration": 399,
    "start_time": "2023-12-20T13:46:29.301Z"
   },
   {
    "duration": 8,
    "start_time": "2023-12-20T13:46:29.701Z"
   },
   {
    "duration": 169,
    "start_time": "2023-12-20T13:46:29.711Z"
   },
   {
    "duration": 170,
    "start_time": "2023-12-20T13:46:29.882Z"
   },
   {
    "duration": 170,
    "start_time": "2023-12-20T13:46:30.053Z"
   },
   {
    "duration": 17,
    "start_time": "2023-12-20T13:46:30.224Z"
   },
   {
    "duration": 52,
    "start_time": "2023-12-20T13:46:30.252Z"
   },
   {
    "duration": 141,
    "start_time": "2023-12-20T13:46:30.305Z"
   },
   {
    "duration": 158,
    "start_time": "2023-12-20T13:46:30.451Z"
   },
   {
    "duration": 129,
    "start_time": "2023-12-20T13:46:30.611Z"
   },
   {
    "duration": 148,
    "start_time": "2023-12-20T13:46:30.742Z"
   },
   {
    "duration": 35,
    "start_time": "2023-12-20T13:46:30.891Z"
   },
   {
    "duration": 50,
    "start_time": "2023-12-20T13:46:30.928Z"
   },
   {
    "duration": 21,
    "start_time": "2023-12-20T13:46:30.980Z"
   },
   {
    "duration": 38,
    "start_time": "2023-12-20T13:46:31.002Z"
   },
   {
    "duration": 43,
    "start_time": "2023-12-20T13:46:31.042Z"
   },
   {
    "duration": 75,
    "start_time": "2023-12-20T13:46:31.087Z"
   },
   {
    "duration": 477,
    "start_time": "2023-12-20T13:46:31.164Z"
   },
   {
    "duration": 5,
    "start_time": "2023-12-20T13:46:31.642Z"
   },
   {
    "duration": 43,
    "start_time": "2023-12-20T13:46:31.652Z"
   },
   {
    "duration": 7,
    "start_time": "2023-12-20T13:57:24.389Z"
   },
   {
    "duration": 48,
    "start_time": "2023-12-20T20:28:21.419Z"
   },
   {
    "duration": 382,
    "start_time": "2023-12-20T20:28:37.614Z"
   },
   {
    "duration": 73,
    "start_time": "2023-12-20T20:28:41.381Z"
   },
   {
    "duration": 11,
    "start_time": "2023-12-20T20:28:43.856Z"
   },
   {
    "duration": 20,
    "start_time": "2023-12-20T20:28:48.844Z"
   },
   {
    "duration": 86,
    "start_time": "2023-12-20T20:29:00.380Z"
   },
   {
    "duration": 11,
    "start_time": "2023-12-20T20:29:09.185Z"
   },
   {
    "duration": 9,
    "start_time": "2023-12-20T20:29:12.045Z"
   },
   {
    "duration": 63,
    "start_time": "2023-12-20T20:29:26.334Z"
   },
   {
    "duration": 10,
    "start_time": "2023-12-20T20:29:26.726Z"
   },
   {
    "duration": 7,
    "start_time": "2023-12-20T20:29:27.387Z"
   },
   {
    "duration": 10,
    "start_time": "2023-12-20T20:31:41.540Z"
   },
   {
    "duration": 8,
    "start_time": "2023-12-20T20:31:41.865Z"
   },
   {
    "duration": 38,
    "start_time": "2023-12-20T20:31:42.126Z"
   },
   {
    "duration": 12,
    "start_time": "2023-12-20T20:31:42.224Z"
   },
   {
    "duration": 9,
    "start_time": "2023-12-20T20:31:42.520Z"
   },
   {
    "duration": 16,
    "start_time": "2023-12-20T20:31:42.692Z"
   },
   {
    "duration": 10,
    "start_time": "2023-12-20T20:31:42.816Z"
   },
   {
    "duration": 7,
    "start_time": "2023-12-20T20:31:43.044Z"
   },
   {
    "duration": 14,
    "start_time": "2023-12-20T20:31:43.844Z"
   },
   {
    "duration": 13,
    "start_time": "2023-12-20T20:31:44.094Z"
   },
   {
    "duration": 7,
    "start_time": "2023-12-20T20:31:44.619Z"
   },
   {
    "duration": 6,
    "start_time": "2023-12-20T20:31:45.668Z"
   },
   {
    "duration": 5,
    "start_time": "2023-12-20T20:31:46.718Z"
   },
   {
    "duration": 5,
    "start_time": "2023-12-20T20:31:46.834Z"
   },
   {
    "duration": 5,
    "start_time": "2023-12-20T20:31:47.110Z"
   },
   {
    "duration": 5,
    "start_time": "2023-12-20T20:31:47.316Z"
   },
   {
    "duration": 6,
    "start_time": "2023-12-20T20:31:49.535Z"
   },
   {
    "duration": 12,
    "start_time": "2023-12-20T20:33:28.432Z"
   },
   {
    "duration": 8,
    "start_time": "2023-12-20T20:33:55.723Z"
   },
   {
    "duration": 10,
    "start_time": "2023-12-20T20:34:29.251Z"
   },
   {
    "duration": 6,
    "start_time": "2023-12-20T20:34:50.417Z"
   },
   {
    "duration": 400,
    "start_time": "2023-12-21T20:03:23.737Z"
   },
   {
    "duration": 87,
    "start_time": "2023-12-21T20:03:24.139Z"
   },
   {
    "duration": 11,
    "start_time": "2023-12-21T20:03:24.227Z"
   },
   {
    "duration": 16,
    "start_time": "2023-12-21T20:03:24.240Z"
   },
   {
    "duration": 162,
    "start_time": "2023-12-21T20:03:24.258Z"
   },
   {
    "duration": 14,
    "start_time": "2023-12-21T20:03:24.422Z"
   },
   {
    "duration": 21,
    "start_time": "2023-12-21T20:03:24.437Z"
   },
   {
    "duration": 60,
    "start_time": "2023-12-21T20:03:24.460Z"
   },
   {
    "duration": 11,
    "start_time": "2023-12-21T20:03:24.522Z"
   },
   {
    "duration": 98,
    "start_time": "2023-12-21T20:03:24.535Z"
   },
   {
    "duration": 84,
    "start_time": "2023-12-21T20:03:24.634Z"
   },
   {
    "duration": 94,
    "start_time": "2023-12-21T20:03:24.720Z"
   },
   {
    "duration": 9,
    "start_time": "2023-12-21T20:03:24.816Z"
   },
   {
    "duration": 12,
    "start_time": "2023-12-21T20:03:24.827Z"
   },
   {
    "duration": 123,
    "start_time": "2023-12-21T20:03:24.840Z"
   },
   {
    "duration": 15,
    "start_time": "2023-12-21T20:03:24.965Z"
   },
   {
    "duration": 13,
    "start_time": "2023-12-21T20:03:24.981Z"
   },
   {
    "duration": 10,
    "start_time": "2023-12-21T20:03:24.996Z"
   },
   {
    "duration": 12,
    "start_time": "2023-12-21T20:03:25.008Z"
   },
   {
    "duration": 7,
    "start_time": "2023-12-21T20:03:25.021Z"
   },
   {
    "duration": 11,
    "start_time": "2023-12-21T20:03:25.030Z"
   },
   {
    "duration": 5,
    "start_time": "2023-12-21T20:03:25.043Z"
   },
   {
    "duration": 634,
    "start_time": "2023-12-21T20:03:25.050Z"
   },
   {
    "duration": 12,
    "start_time": "2023-12-21T20:03:25.687Z"
   },
   {
    "duration": 198,
    "start_time": "2023-12-21T20:03:25.702Z"
   },
   {
    "duration": 187,
    "start_time": "2023-12-21T20:03:25.901Z"
   },
   {
    "duration": 241,
    "start_time": "2023-12-21T20:03:26.089Z"
   },
   {
    "duration": 19,
    "start_time": "2023-12-21T20:03:26.334Z"
   },
   {
    "duration": 13,
    "start_time": "2023-12-21T20:03:26.354Z"
   },
   {
    "duration": 189,
    "start_time": "2023-12-21T20:03:26.368Z"
   },
   {
    "duration": 178,
    "start_time": "2023-12-21T20:03:26.559Z"
   },
   {
    "duration": 169,
    "start_time": "2023-12-21T20:03:26.739Z"
   },
   {
    "duration": 174,
    "start_time": "2023-12-21T20:03:26.910Z"
   },
   {
    "duration": 66,
    "start_time": "2023-12-21T20:03:27.086Z"
   },
   {
    "duration": 34,
    "start_time": "2023-12-21T20:03:27.154Z"
   },
   {
    "duration": 3,
    "start_time": "2023-12-21T20:03:27.189Z"
   },
   {
    "duration": 26,
    "start_time": "2023-12-21T20:03:27.194Z"
   },
   {
    "duration": 20,
    "start_time": "2023-12-21T20:03:27.221Z"
   },
   {
    "duration": 19,
    "start_time": "2023-12-21T20:03:27.242Z"
   },
   {
    "duration": 478,
    "start_time": "2023-12-21T20:03:27.263Z"
   },
   {
    "duration": 5,
    "start_time": "2023-12-21T20:03:27.742Z"
   },
   {
    "duration": 7,
    "start_time": "2023-12-21T20:03:27.749Z"
   },
   {
    "duration": 230,
    "start_time": "2023-12-21T20:09:33.912Z"
   },
   {
    "duration": 126,
    "start_time": "2023-12-21T20:10:42.707Z"
   },
   {
    "duration": 128,
    "start_time": "2023-12-21T20:12:28.422Z"
   },
   {
    "duration": 93,
    "start_time": "2023-12-21T20:12:59.592Z"
   },
   {
    "duration": 125,
    "start_time": "2023-12-21T20:13:10.887Z"
   },
   {
    "duration": 146,
    "start_time": "2023-12-21T20:13:38.150Z"
   },
   {
    "duration": 14,
    "start_time": "2023-12-21T20:15:55.774Z"
   },
   {
    "duration": 16,
    "start_time": "2023-12-21T20:18:59.026Z"
   },
   {
    "duration": 13,
    "start_time": "2023-12-21T20:20:06.653Z"
   },
   {
    "duration": 13,
    "start_time": "2023-12-21T20:20:16.171Z"
   },
   {
    "duration": 171,
    "start_time": "2023-12-21T20:21:43.644Z"
   },
   {
    "duration": 2,
    "start_time": "2023-12-21T20:35:54.792Z"
   },
   {
    "duration": 204,
    "start_time": "2023-12-21T20:36:26.167Z"
   },
   {
    "duration": 161,
    "start_time": "2023-12-21T20:38:23.580Z"
   },
   {
    "duration": 157,
    "start_time": "2023-12-21T21:15:54.617Z"
   },
   {
    "duration": 165,
    "start_time": "2023-12-21T21:16:11.819Z"
   },
   {
    "duration": 54,
    "start_time": "2023-12-21T21:18:18.276Z"
   },
   {
    "duration": 46,
    "start_time": "2023-12-21T21:18:27.960Z"
   },
   {
    "duration": 12,
    "start_time": "2023-12-21T21:18:39.244Z"
   },
   {
    "duration": 50,
    "start_time": "2023-12-21T21:19:50.325Z"
   },
   {
    "duration": 176,
    "start_time": "2023-12-21T21:20:10.473Z"
   },
   {
    "duration": 255,
    "start_time": "2023-12-21T21:21:00.809Z"
   },
   {
    "duration": 118,
    "start_time": "2023-12-21T21:23:27.281Z"
   },
   {
    "duration": 169,
    "start_time": "2023-12-21T21:26:01.432Z"
   },
   {
    "duration": 169,
    "start_time": "2023-12-21T21:27:31.068Z"
   },
   {
    "duration": 172,
    "start_time": "2023-12-21T21:29:16.833Z"
   },
   {
    "duration": 165,
    "start_time": "2023-12-21T21:29:52.473Z"
   },
   {
    "duration": 10,
    "start_time": "2023-12-21T21:31:46.880Z"
   },
   {
    "duration": 6,
    "start_time": "2023-12-21T21:32:39.424Z"
   },
   {
    "duration": 19,
    "start_time": "2023-12-21T21:33:13.359Z"
   },
   {
    "duration": 7,
    "start_time": "2023-12-21T21:33:47.374Z"
   },
   {
    "duration": 10,
    "start_time": "2023-12-21T21:34:15.187Z"
   },
   {
    "duration": 8,
    "start_time": "2023-12-21T21:34:36.672Z"
   },
   {
    "duration": 4,
    "start_time": "2023-12-21T21:37:09.386Z"
   },
   {
    "duration": 4,
    "start_time": "2023-12-21T21:37:26.013Z"
   },
   {
    "duration": 3,
    "start_time": "2023-12-21T21:39:17.648Z"
   },
   {
    "duration": 18,
    "start_time": "2023-12-21T21:39:53.592Z"
   },
   {
    "duration": 12,
    "start_time": "2023-12-21T21:40:58.706Z"
   },
   {
    "duration": 11,
    "start_time": "2023-12-21T21:41:32.261Z"
   },
   {
    "duration": 13,
    "start_time": "2023-12-21T21:41:48.837Z"
   },
   {
    "duration": 11,
    "start_time": "2023-12-21T21:42:01.317Z"
   },
   {
    "duration": 363,
    "start_time": "2023-12-22T20:47:27.142Z"
   },
   {
    "duration": 72,
    "start_time": "2023-12-22T20:47:27.506Z"
   },
   {
    "duration": 16,
    "start_time": "2023-12-22T20:47:27.580Z"
   },
   {
    "duration": 12,
    "start_time": "2023-12-22T20:47:27.598Z"
   },
   {
    "duration": 65,
    "start_time": "2023-12-22T20:47:27.611Z"
   },
   {
    "duration": 12,
    "start_time": "2023-12-22T20:47:27.677Z"
   },
   {
    "duration": 16,
    "start_time": "2023-12-22T20:47:27.695Z"
   },
   {
    "duration": 57,
    "start_time": "2023-12-22T20:47:27.712Z"
   },
   {
    "duration": 8,
    "start_time": "2023-12-22T20:47:27.771Z"
   },
   {
    "duration": 13,
    "start_time": "2023-12-22T20:47:27.782Z"
   },
   {
    "duration": 13,
    "start_time": "2023-12-22T20:47:27.799Z"
   },
   {
    "duration": 10,
    "start_time": "2023-12-22T20:47:27.813Z"
   },
   {
    "duration": 7,
    "start_time": "2023-12-22T20:47:27.824Z"
   },
   {
    "duration": 6,
    "start_time": "2023-12-22T20:47:27.832Z"
   },
   {
    "duration": 5,
    "start_time": "2023-12-22T20:47:27.839Z"
   },
   {
    "duration": 38,
    "start_time": "2023-12-22T20:47:27.846Z"
   },
   {
    "duration": 10,
    "start_time": "2023-12-22T20:47:27.886Z"
   },
   {
    "duration": 6,
    "start_time": "2023-12-22T20:47:27.897Z"
   },
   {
    "duration": 10,
    "start_time": "2023-12-22T20:47:27.904Z"
   },
   {
    "duration": 11,
    "start_time": "2023-12-22T20:47:27.915Z"
   },
   {
    "duration": 7,
    "start_time": "2023-12-22T20:47:27.927Z"
   },
   {
    "duration": 4,
    "start_time": "2023-12-22T20:47:27.935Z"
   },
   {
    "duration": 399,
    "start_time": "2023-12-22T20:47:27.940Z"
   },
   {
    "duration": 176,
    "start_time": "2023-12-22T20:47:28.341Z"
   },
   {
    "duration": 9,
    "start_time": "2023-12-22T20:47:28.518Z"
   },
   {
    "duration": 17,
    "start_time": "2023-12-22T20:47:28.528Z"
   },
   {
    "duration": 154,
    "start_time": "2023-12-22T20:47:28.546Z"
   },
   {
    "duration": 17,
    "start_time": "2023-12-22T20:47:28.704Z"
   },
   {
    "duration": 176,
    "start_time": "2023-12-22T20:47:28.722Z"
   },
   {
    "duration": 7,
    "start_time": "2023-12-22T20:47:28.900Z"
   },
   {
    "duration": 232,
    "start_time": "2023-12-22T20:47:28.908Z"
   },
   {
    "duration": 8,
    "start_time": "2023-12-22T20:47:29.141Z"
   },
   {
    "duration": 191,
    "start_time": "2023-12-22T20:47:29.150Z"
   },
   {
    "duration": 8,
    "start_time": "2023-12-22T20:47:29.342Z"
   },
   {
    "duration": 34,
    "start_time": "2023-12-22T20:47:29.351Z"
   },
   {
    "duration": 5,
    "start_time": "2023-12-22T20:47:29.392Z"
   },
   {
    "duration": 18,
    "start_time": "2023-12-22T20:47:29.398Z"
   },
   {
    "duration": 5,
    "start_time": "2023-12-22T20:47:29.418Z"
   },
   {
    "duration": 22,
    "start_time": "2023-12-22T20:47:29.425Z"
   },
   {
    "duration": 13,
    "start_time": "2023-12-22T20:47:29.448Z"
   },
   {
    "duration": 10,
    "start_time": "2023-12-22T20:47:29.462Z"
   },
   {
    "duration": 24,
    "start_time": "2023-12-22T20:47:29.473Z"
   },
   {
    "duration": 148,
    "start_time": "2023-12-22T20:47:29.499Z"
   },
   {
    "duration": 188,
    "start_time": "2023-12-22T20:47:29.649Z"
   },
   {
    "duration": 153,
    "start_time": "2023-12-22T20:47:29.839Z"
   },
   {
    "duration": 144,
    "start_time": "2023-12-22T20:47:29.996Z"
   },
   {
    "duration": 3,
    "start_time": "2023-12-22T20:47:30.141Z"
   },
   {
    "duration": 65,
    "start_time": "2023-12-22T20:47:30.145Z"
   },
   {
    "duration": 29,
    "start_time": "2023-12-22T20:47:30.212Z"
   },
   {
    "duration": 6,
    "start_time": "2023-12-22T20:47:30.243Z"
   },
   {
    "duration": 42,
    "start_time": "2023-12-22T20:47:30.250Z"
   },
   {
    "duration": 30,
    "start_time": "2023-12-22T20:47:30.293Z"
   },
   {
    "duration": 527,
    "start_time": "2023-12-22T20:47:30.324Z"
   },
   {
    "duration": 4,
    "start_time": "2023-12-22T20:47:30.853Z"
   },
   {
    "duration": 21,
    "start_time": "2023-12-22T20:47:30.858Z"
   },
   {
    "duration": 151,
    "start_time": "2023-12-22T20:49:49.339Z"
   },
   {
    "duration": 153,
    "start_time": "2023-12-22T20:50:04.415Z"
   },
   {
    "duration": 174,
    "start_time": "2023-12-22T20:50:42.447Z"
   },
   {
    "duration": 152,
    "start_time": "2023-12-22T20:50:55.006Z"
   },
   {
    "duration": 154,
    "start_time": "2023-12-22T20:51:07.656Z"
   },
   {
    "duration": 12,
    "start_time": "2023-12-22T20:55:17.155Z"
   },
   {
    "duration": 11,
    "start_time": "2023-12-22T20:56:16.173Z"
   },
   {
    "duration": 11,
    "start_time": "2023-12-22T20:56:40.013Z"
   },
   {
    "duration": 5,
    "start_time": "2023-12-22T21:27:42.348Z"
   },
   {
    "duration": 5,
    "start_time": "2023-12-22T21:30:43.482Z"
   },
   {
    "duration": 421,
    "start_time": "2023-12-22T21:54:41.737Z"
   },
   {
    "duration": 85,
    "start_time": "2023-12-22T21:54:42.160Z"
   },
   {
    "duration": 13,
    "start_time": "2023-12-22T21:54:42.247Z"
   },
   {
    "duration": 24,
    "start_time": "2023-12-22T21:54:42.262Z"
   },
   {
    "duration": 172,
    "start_time": "2023-12-22T21:54:42.287Z"
   },
   {
    "duration": 18,
    "start_time": "2023-12-22T21:54:42.461Z"
   },
   {
    "duration": 19,
    "start_time": "2023-12-22T21:54:42.481Z"
   },
   {
    "duration": 58,
    "start_time": "2023-12-22T21:54:42.502Z"
   },
   {
    "duration": 11,
    "start_time": "2023-12-22T21:54:42.561Z"
   },
   {
    "duration": 21,
    "start_time": "2023-12-22T21:54:42.575Z"
   },
   {
    "duration": 29,
    "start_time": "2023-12-22T21:54:42.598Z"
   },
   {
    "duration": 17,
    "start_time": "2023-12-22T21:54:42.628Z"
   },
   {
    "duration": 13,
    "start_time": "2023-12-22T21:54:42.647Z"
   },
   {
    "duration": 7,
    "start_time": "2023-12-22T21:54:42.662Z"
   },
   {
    "duration": 9,
    "start_time": "2023-12-22T21:54:42.671Z"
   },
   {
    "duration": 14,
    "start_time": "2023-12-22T21:54:42.681Z"
   },
   {
    "duration": 8,
    "start_time": "2023-12-22T21:54:42.697Z"
   },
   {
    "duration": 5,
    "start_time": "2023-12-22T21:54:42.707Z"
   },
   {
    "duration": 20,
    "start_time": "2023-12-22T21:54:42.714Z"
   },
   {
    "duration": 12,
    "start_time": "2023-12-22T21:54:42.735Z"
   },
   {
    "duration": 8,
    "start_time": "2023-12-22T21:54:42.749Z"
   },
   {
    "duration": 9,
    "start_time": "2023-12-22T21:54:42.758Z"
   },
   {
    "duration": 419,
    "start_time": "2023-12-22T21:54:42.769Z"
   },
   {
    "duration": 217,
    "start_time": "2023-12-22T21:54:43.190Z"
   },
   {
    "duration": 9,
    "start_time": "2023-12-22T21:54:43.409Z"
   },
   {
    "duration": 10,
    "start_time": "2023-12-22T21:54:43.430Z"
   },
   {
    "duration": 155,
    "start_time": "2023-12-22T21:54:43.441Z"
   },
   {
    "duration": 20,
    "start_time": "2023-12-22T21:54:43.600Z"
   },
   {
    "duration": 200,
    "start_time": "2023-12-22T21:54:43.630Z"
   },
   {
    "duration": 9,
    "start_time": "2023-12-22T21:54:43.832Z"
   },
   {
    "duration": 282,
    "start_time": "2023-12-22T21:54:43.842Z"
   },
   {
    "duration": 11,
    "start_time": "2023-12-22T21:54:44.126Z"
   },
   {
    "duration": 213,
    "start_time": "2023-12-22T21:54:44.139Z"
   },
   {
    "duration": 9,
    "start_time": "2023-12-22T21:54:44.354Z"
   },
   {
    "duration": 20,
    "start_time": "2023-12-22T21:54:44.365Z"
   },
   {
    "duration": 4,
    "start_time": "2023-12-22T21:54:44.387Z"
   },
   {
    "duration": 40,
    "start_time": "2023-12-22T21:54:44.393Z"
   },
   {
    "duration": 5,
    "start_time": "2023-12-22T21:54:44.435Z"
   },
   {
    "duration": 17,
    "start_time": "2023-12-22T21:54:44.442Z"
   },
   {
    "duration": 16,
    "start_time": "2023-12-22T21:54:44.461Z"
   },
   {
    "duration": 12,
    "start_time": "2023-12-22T21:54:44.479Z"
   },
   {
    "duration": 39,
    "start_time": "2023-12-22T21:54:44.493Z"
   },
   {
    "duration": 202,
    "start_time": "2023-12-22T21:54:44.534Z"
   },
   {
    "duration": 224,
    "start_time": "2023-12-22T21:54:44.737Z"
   },
   {
    "duration": 186,
    "start_time": "2023-12-22T21:54:44.963Z"
   },
   {
    "duration": 204,
    "start_time": "2023-12-22T21:54:45.150Z"
   },
   {
    "duration": 15,
    "start_time": "2023-12-22T21:54:45.355Z"
   },
   {
    "duration": 46,
    "start_time": "2023-12-22T21:54:45.372Z"
   },
   {
    "duration": 38,
    "start_time": "2023-12-22T21:54:45.420Z"
   },
   {
    "duration": 18,
    "start_time": "2023-12-22T21:54:45.460Z"
   },
   {
    "duration": 63,
    "start_time": "2023-12-22T21:54:45.480Z"
   },
   {
    "duration": 41,
    "start_time": "2023-12-22T21:54:45.546Z"
   },
   {
    "duration": 9,
    "start_time": "2023-12-22T21:54:45.589Z"
   },
   {
    "duration": 76,
    "start_time": "2023-12-22T21:54:45.600Z"
   },
   {
    "duration": 46,
    "start_time": "2023-12-22T21:54:45.678Z"
   },
   {
    "duration": 575,
    "start_time": "2023-12-22T21:54:45.726Z"
   },
   {
    "duration": 6,
    "start_time": "2023-12-22T21:54:46.303Z"
   },
   {
    "duration": 26,
    "start_time": "2023-12-22T21:54:46.311Z"
   },
   {
    "duration": 394,
    "start_time": "2023-12-23T06:32:04.978Z"
   },
   {
    "duration": 74,
    "start_time": "2023-12-23T06:32:05.373Z"
   },
   {
    "duration": 10,
    "start_time": "2023-12-23T06:32:05.449Z"
   },
   {
    "duration": 22,
    "start_time": "2023-12-23T06:32:05.461Z"
   },
   {
    "duration": 72,
    "start_time": "2023-12-23T06:32:05.485Z"
   },
   {
    "duration": 10,
    "start_time": "2023-12-23T06:32:05.559Z"
   },
   {
    "duration": 26,
    "start_time": "2023-12-23T06:32:05.570Z"
   },
   {
    "duration": 53,
    "start_time": "2023-12-23T06:32:05.598Z"
   },
   {
    "duration": 9,
    "start_time": "2023-12-23T06:32:05.653Z"
   },
   {
    "duration": 36,
    "start_time": "2023-12-23T06:32:05.665Z"
   },
   {
    "duration": 21,
    "start_time": "2023-12-23T06:32:05.704Z"
   },
   {
    "duration": 29,
    "start_time": "2023-12-23T06:32:05.727Z"
   },
   {
    "duration": 17,
    "start_time": "2023-12-23T06:32:05.757Z"
   },
   {
    "duration": 25,
    "start_time": "2023-12-23T06:32:05.775Z"
   },
   {
    "duration": 13,
    "start_time": "2023-12-23T06:32:05.802Z"
   },
   {
    "duration": 16,
    "start_time": "2023-12-23T06:32:05.816Z"
   },
   {
    "duration": 7,
    "start_time": "2023-12-23T06:32:05.833Z"
   },
   {
    "duration": 8,
    "start_time": "2023-12-23T06:32:05.841Z"
   },
   {
    "duration": 16,
    "start_time": "2023-12-23T06:32:05.850Z"
   },
   {
    "duration": 9,
    "start_time": "2023-12-23T06:32:05.867Z"
   },
   {
    "duration": 11,
    "start_time": "2023-12-23T06:32:05.877Z"
   },
   {
    "duration": 19,
    "start_time": "2023-12-23T06:32:05.889Z"
   },
   {
    "duration": 409,
    "start_time": "2023-12-23T06:32:05.910Z"
   },
   {
    "duration": 171,
    "start_time": "2023-12-23T06:32:06.321Z"
   },
   {
    "duration": 8,
    "start_time": "2023-12-23T06:32:06.493Z"
   },
   {
    "duration": 96,
    "start_time": "2023-12-23T06:32:06.503Z"
   },
   {
    "duration": 122,
    "start_time": "2023-12-23T06:32:06.600Z"
   },
   {
    "duration": 19,
    "start_time": "2023-12-23T06:32:06.725Z"
   },
   {
    "duration": 172,
    "start_time": "2023-12-23T06:32:06.745Z"
   },
   {
    "duration": 7,
    "start_time": "2023-12-23T06:32:06.918Z"
   },
   {
    "duration": 244,
    "start_time": "2023-12-23T06:32:06.926Z"
   },
   {
    "duration": 8,
    "start_time": "2023-12-23T06:32:07.171Z"
   },
   {
    "duration": 189,
    "start_time": "2023-12-23T06:32:07.181Z"
   },
   {
    "duration": 8,
    "start_time": "2023-12-23T06:32:07.371Z"
   },
   {
    "duration": 18,
    "start_time": "2023-12-23T06:32:07.380Z"
   },
   {
    "duration": 4,
    "start_time": "2023-12-23T06:32:07.399Z"
   },
   {
    "duration": 5,
    "start_time": "2023-12-23T06:32:07.404Z"
   },
   {
    "duration": 10,
    "start_time": "2023-12-23T06:32:07.410Z"
   },
   {
    "duration": 11,
    "start_time": "2023-12-23T06:32:07.422Z"
   },
   {
    "duration": 38,
    "start_time": "2023-12-23T06:32:07.434Z"
   },
   {
    "duration": 10,
    "start_time": "2023-12-23T06:32:07.473Z"
   },
   {
    "duration": 11,
    "start_time": "2023-12-23T06:32:07.485Z"
   },
   {
    "duration": 179,
    "start_time": "2023-12-23T06:32:07.497Z"
   },
   {
    "duration": 193,
    "start_time": "2023-12-23T06:32:07.678Z"
   },
   {
    "duration": 166,
    "start_time": "2023-12-23T06:32:07.873Z"
   },
   {
    "duration": 183,
    "start_time": "2023-12-23T06:32:08.041Z"
   },
   {
    "duration": 13,
    "start_time": "2023-12-23T06:32:08.226Z"
   },
   {
    "duration": 27,
    "start_time": "2023-12-23T06:32:08.241Z"
   },
   {
    "duration": 11,
    "start_time": "2023-12-23T06:32:08.269Z"
   },
   {
    "duration": 8,
    "start_time": "2023-12-23T06:32:08.282Z"
   },
   {
    "duration": 38,
    "start_time": "2023-12-23T06:32:08.292Z"
   },
   {
    "duration": 50,
    "start_time": "2023-12-23T06:32:08.331Z"
   },
   {
    "duration": 6,
    "start_time": "2023-12-23T06:32:08.383Z"
   },
   {
    "duration": 16,
    "start_time": "2023-12-23T06:32:08.390Z"
   },
   {
    "duration": 26,
    "start_time": "2023-12-23T06:32:08.407Z"
   },
   {
    "duration": 525,
    "start_time": "2023-12-23T06:32:08.434Z"
   },
   {
    "duration": 7,
    "start_time": "2023-12-23T06:32:08.961Z"
   },
   {
    "duration": 6,
    "start_time": "2023-12-23T06:32:08.969Z"
   },
   {
    "duration": 224,
    "start_time": "2023-12-23T06:32:36.800Z"
   },
   {
    "duration": 135,
    "start_time": "2023-12-23T06:33:49.917Z"
   },
   {
    "duration": 144,
    "start_time": "2023-12-23T06:34:07.545Z"
   },
   {
    "duration": 1994,
    "start_time": "2023-12-23T06:36:17.301Z"
   },
   {
    "duration": 389,
    "start_time": "2023-12-23T11:45:42.192Z"
   },
   {
    "duration": 85,
    "start_time": "2023-12-23T11:45:42.583Z"
   },
   {
    "duration": 11,
    "start_time": "2023-12-23T11:45:42.670Z"
   },
   {
    "duration": 17,
    "start_time": "2023-12-23T11:45:42.683Z"
   },
   {
    "duration": 149,
    "start_time": "2023-12-23T11:45:42.701Z"
   },
   {
    "duration": 11,
    "start_time": "2023-12-23T11:45:42.851Z"
   },
   {
    "duration": 8,
    "start_time": "2023-12-23T11:45:42.863Z"
   },
   {
    "duration": 59,
    "start_time": "2023-12-23T11:45:42.872Z"
   },
   {
    "duration": 9,
    "start_time": "2023-12-23T11:45:42.932Z"
   },
   {
    "duration": 13,
    "start_time": "2023-12-23T11:45:42.944Z"
   },
   {
    "duration": 13,
    "start_time": "2023-12-23T11:45:42.959Z"
   },
   {
    "duration": 9,
    "start_time": "2023-12-23T11:45:42.974Z"
   },
   {
    "duration": 5,
    "start_time": "2023-12-23T11:45:42.985Z"
   },
   {
    "duration": 5,
    "start_time": "2023-12-23T11:45:42.992Z"
   },
   {
    "duration": 7,
    "start_time": "2023-12-23T11:45:42.999Z"
   },
   {
    "duration": 11,
    "start_time": "2023-12-23T11:45:43.007Z"
   },
   {
    "duration": 5,
    "start_time": "2023-12-23T11:45:43.019Z"
   },
   {
    "duration": 5,
    "start_time": "2023-12-23T11:45:43.025Z"
   },
   {
    "duration": 7,
    "start_time": "2023-12-23T11:45:43.031Z"
   },
   {
    "duration": 6,
    "start_time": "2023-12-23T11:45:43.039Z"
   },
   {
    "duration": 14,
    "start_time": "2023-12-23T11:45:43.046Z"
   },
   {
    "duration": 4,
    "start_time": "2023-12-23T11:45:43.062Z"
   },
   {
    "duration": 362,
    "start_time": "2023-12-23T11:45:43.067Z"
   },
   {
    "duration": 1874,
    "start_time": "2023-12-23T11:45:43.431Z"
   },
   {
    "duration": 8,
    "start_time": "2023-12-23T11:45:45.306Z"
   },
   {
    "duration": 32,
    "start_time": "2023-12-23T11:45:45.315Z"
   },
   {
    "duration": 122,
    "start_time": "2023-12-23T11:45:45.349Z"
   },
   {
    "duration": 26,
    "start_time": "2023-12-23T11:45:45.474Z"
   },
   {
    "duration": 162,
    "start_time": "2023-12-23T11:45:45.501Z"
   },
   {
    "duration": 7,
    "start_time": "2023-12-23T11:45:45.665Z"
   },
   {
    "duration": 179,
    "start_time": "2023-12-23T11:45:45.674Z"
   },
   {
    "duration": 8,
    "start_time": "2023-12-23T11:45:45.855Z"
   },
   {
    "duration": 194,
    "start_time": "2023-12-23T11:45:45.864Z"
   },
   {
    "duration": 9,
    "start_time": "2023-12-23T11:45:46.060Z"
   },
   {
    "duration": 29,
    "start_time": "2023-12-23T11:45:46.070Z"
   },
   {
    "duration": 3,
    "start_time": "2023-12-23T11:45:46.101Z"
   },
   {
    "duration": 14,
    "start_time": "2023-12-23T11:45:46.105Z"
   },
   {
    "duration": 4,
    "start_time": "2023-12-23T11:45:46.120Z"
   },
   {
    "duration": 12,
    "start_time": "2023-12-23T11:45:46.126Z"
   },
   {
    "duration": 11,
    "start_time": "2023-12-23T11:45:46.139Z"
   },
   {
    "duration": 9,
    "start_time": "2023-12-23T11:45:46.151Z"
   },
   {
    "duration": 13,
    "start_time": "2023-12-23T11:45:46.161Z"
   },
   {
    "duration": 164,
    "start_time": "2023-12-23T11:45:46.175Z"
   },
   {
    "duration": 164,
    "start_time": "2023-12-23T11:45:46.340Z"
   },
   {
    "duration": 144,
    "start_time": "2023-12-23T11:45:46.506Z"
   },
   {
    "duration": 155,
    "start_time": "2023-12-23T11:45:46.652Z"
   },
   {
    "duration": 11,
    "start_time": "2023-12-23T11:45:46.808Z"
   },
   {
    "duration": 21,
    "start_time": "2023-12-23T11:45:46.820Z"
   },
   {
    "duration": 10,
    "start_time": "2023-12-23T11:45:46.843Z"
   },
   {
    "duration": 8,
    "start_time": "2023-12-23T11:45:46.854Z"
   },
   {
    "duration": 147,
    "start_time": "2023-12-23T11:45:46.863Z"
   },
   {
    "duration": 30,
    "start_time": "2023-12-23T11:45:47.012Z"
   },
   {
    "duration": 6,
    "start_time": "2023-12-23T11:45:47.043Z"
   },
   {
    "duration": 15,
    "start_time": "2023-12-23T11:45:47.050Z"
   },
   {
    "duration": 43,
    "start_time": "2023-12-23T11:45:47.067Z"
   },
   {
    "duration": 377,
    "start_time": "2023-12-23T11:45:47.112Z"
   },
   {
    "duration": 9,
    "start_time": "2023-12-23T11:45:47.490Z"
   },
   {
    "duration": 13,
    "start_time": "2023-12-23T11:45:47.501Z"
   },
   {
    "duration": 300,
    "start_time": "2023-12-23T11:46:50.901Z"
   },
   {
    "duration": 832,
    "start_time": "2023-12-23T11:47:49.488Z"
   },
   {
    "duration": 769,
    "start_time": "2023-12-23T11:48:06.370Z"
   },
   {
    "duration": 851,
    "start_time": "2023-12-23T11:48:14.706Z"
   },
   {
    "duration": 2058,
    "start_time": "2023-12-23T11:48:26.188Z"
   },
   {
    "duration": 1990,
    "start_time": "2023-12-23T11:49:04.988Z"
   },
   {
    "duration": 2411,
    "start_time": "2023-12-23T11:50:01.802Z"
   },
   {
    "duration": 1719,
    "start_time": "2023-12-23T11:50:25.221Z"
   },
   {
    "duration": 557,
    "start_time": "2023-12-23T11:50:54.067Z"
   },
   {
    "duration": 366,
    "start_time": "2023-12-23T20:39:26.499Z"
   },
   {
    "duration": 68,
    "start_time": "2023-12-23T20:39:26.866Z"
   },
   {
    "duration": 9,
    "start_time": "2023-12-23T20:39:26.936Z"
   },
   {
    "duration": 14,
    "start_time": "2023-12-23T20:39:26.946Z"
   },
   {
    "duration": 60,
    "start_time": "2023-12-23T20:39:26.962Z"
   },
   {
    "duration": 9,
    "start_time": "2023-12-23T20:39:27.024Z"
   },
   {
    "duration": 8,
    "start_time": "2023-12-23T20:39:27.035Z"
   },
   {
    "duration": 51,
    "start_time": "2023-12-23T20:39:27.044Z"
   },
   {
    "duration": 8,
    "start_time": "2023-12-23T20:39:27.097Z"
   },
   {
    "duration": 6,
    "start_time": "2023-12-23T20:39:27.106Z"
   },
   {
    "duration": 13,
    "start_time": "2023-12-23T20:39:27.113Z"
   },
   {
    "duration": 9,
    "start_time": "2023-12-23T20:39:27.127Z"
   },
   {
    "duration": 4,
    "start_time": "2023-12-23T20:39:27.137Z"
   },
   {
    "duration": 12,
    "start_time": "2023-12-23T20:39:27.144Z"
   },
   {
    "duration": 4,
    "start_time": "2023-12-23T20:39:27.157Z"
   },
   {
    "duration": 21,
    "start_time": "2023-12-23T20:39:27.162Z"
   },
   {
    "duration": 4,
    "start_time": "2023-12-23T20:39:27.184Z"
   },
   {
    "duration": 9,
    "start_time": "2023-12-23T20:39:27.189Z"
   },
   {
    "duration": 9,
    "start_time": "2023-12-23T20:39:27.199Z"
   },
   {
    "duration": 4,
    "start_time": "2023-12-23T20:39:27.209Z"
   },
   {
    "duration": 7,
    "start_time": "2023-12-23T20:39:27.214Z"
   },
   {
    "duration": 4,
    "start_time": "2023-12-23T20:39:27.222Z"
   },
   {
    "duration": 374,
    "start_time": "2023-12-23T20:39:27.227Z"
   },
   {
    "duration": 164,
    "start_time": "2023-12-23T20:39:27.603Z"
   },
   {
    "duration": 14,
    "start_time": "2023-12-23T20:39:27.768Z"
   },
   {
    "duration": 8,
    "start_time": "2023-12-23T20:39:27.783Z"
   },
   {
    "duration": 138,
    "start_time": "2023-12-23T20:39:27.792Z"
   },
   {
    "duration": 24,
    "start_time": "2023-12-23T20:39:27.932Z"
   },
   {
    "duration": 175,
    "start_time": "2023-12-23T20:39:27.958Z"
   },
   {
    "duration": 8,
    "start_time": "2023-12-23T20:39:28.135Z"
   },
   {
    "duration": 221,
    "start_time": "2023-12-23T20:39:28.144Z"
   },
   {
    "duration": 15,
    "start_time": "2023-12-23T20:39:28.367Z"
   },
   {
    "duration": 169,
    "start_time": "2023-12-23T20:39:28.384Z"
   },
   {
    "duration": 9,
    "start_time": "2023-12-23T20:39:28.554Z"
   },
   {
    "duration": 28,
    "start_time": "2023-12-23T20:39:28.564Z"
   },
   {
    "duration": 6,
    "start_time": "2023-12-23T20:39:28.594Z"
   },
   {
    "duration": 8,
    "start_time": "2023-12-23T20:39:28.602Z"
   },
   {
    "duration": 7,
    "start_time": "2023-12-23T20:39:28.611Z"
   },
   {
    "duration": 11,
    "start_time": "2023-12-23T20:39:28.619Z"
   },
   {
    "duration": 11,
    "start_time": "2023-12-23T20:39:28.631Z"
   },
   {
    "duration": 9,
    "start_time": "2023-12-23T20:39:28.646Z"
   },
   {
    "duration": 11,
    "start_time": "2023-12-23T20:39:28.682Z"
   },
   {
    "duration": 163,
    "start_time": "2023-12-23T20:39:28.694Z"
   },
   {
    "duration": 170,
    "start_time": "2023-12-23T20:39:28.859Z"
   },
   {
    "duration": 156,
    "start_time": "2023-12-23T20:39:29.031Z"
   },
   {
    "duration": 163,
    "start_time": "2023-12-23T20:39:29.189Z"
   },
   {
    "duration": 11,
    "start_time": "2023-12-23T20:39:29.353Z"
   },
   {
    "duration": 23,
    "start_time": "2023-12-23T20:39:29.366Z"
   },
   {
    "duration": 11,
    "start_time": "2023-12-23T20:39:29.391Z"
   },
   {
    "duration": 21,
    "start_time": "2023-12-23T20:39:29.403Z"
   },
   {
    "duration": 46,
    "start_time": "2023-12-23T20:39:29.426Z"
   },
   {
    "duration": 29,
    "start_time": "2023-12-23T20:39:29.474Z"
   },
   {
    "duration": 6,
    "start_time": "2023-12-23T20:39:29.504Z"
   },
   {
    "duration": 23,
    "start_time": "2023-12-23T20:39:29.511Z"
   },
   {
    "duration": 16,
    "start_time": "2023-12-23T20:39:29.536Z"
   },
   {
    "duration": 493,
    "start_time": "2023-12-23T20:39:29.553Z"
   },
   {
    "duration": 5,
    "start_time": "2023-12-23T20:39:30.048Z"
   },
   {
    "duration": 52,
    "start_time": "2023-12-23T20:39:30.054Z"
   },
   {
    "duration": 274,
    "start_time": "2023-12-23T20:44:51.022Z"
   },
   {
    "duration": 147,
    "start_time": "2023-12-23T20:45:34.511Z"
   },
   {
    "duration": 206,
    "start_time": "2023-12-23T20:46:02.376Z"
   },
   {
    "duration": 97,
    "start_time": "2023-12-23T20:47:42.378Z"
   },
   {
    "duration": 13,
    "start_time": "2023-12-23T20:47:58.020Z"
   },
   {
    "duration": 14,
    "start_time": "2023-12-23T20:48:54.918Z"
   },
   {
    "duration": 160,
    "start_time": "2023-12-23T20:49:25.133Z"
   },
   {
    "duration": 148,
    "start_time": "2023-12-23T20:49:36.049Z"
   },
   {
    "duration": 3,
    "start_time": "2023-12-23T21:17:29.602Z"
   },
   {
    "duration": 18,
    "start_time": "2023-12-23T21:17:33.273Z"
   },
   {
    "duration": 4,
    "start_time": "2023-12-23T21:17:41.531Z"
   },
   {
    "duration": 4,
    "start_time": "2023-12-23T21:17:41.716Z"
   },
   {
    "duration": 3,
    "start_time": "2023-12-23T21:17:41.917Z"
   },
   {
    "duration": 10,
    "start_time": "2023-12-23T21:17:42.724Z"
   },
   {
    "duration": 9,
    "start_time": "2023-12-23T21:17:43.233Z"
   },
   {
    "duration": 9,
    "start_time": "2023-12-23T21:17:43.272Z"
   },
   {
    "duration": 11,
    "start_time": "2023-12-23T21:17:43.638Z"
   },
   {
    "duration": 154,
    "start_time": "2023-12-23T21:17:44.057Z"
   },
   {
    "duration": 159,
    "start_time": "2023-12-23T21:17:44.313Z"
   },
   {
    "duration": 144,
    "start_time": "2023-12-23T21:17:45.087Z"
   },
   {
    "duration": 136,
    "start_time": "2023-12-23T21:17:45.522Z"
   },
   {
    "duration": 13,
    "start_time": "2023-12-23T21:17:46.969Z"
   },
   {
    "duration": 11,
    "start_time": "2023-12-23T21:17:47.428Z"
   },
   {
    "duration": 13,
    "start_time": "2023-12-23T21:17:47.449Z"
   },
   {
    "duration": 121,
    "start_time": "2023-12-23T21:17:48.476Z"
   },
   {
    "duration": 30,
    "start_time": "2023-12-23T21:17:49.919Z"
   },
   {
    "duration": 6,
    "start_time": "2023-12-23T21:17:50.574Z"
   },
   {
    "duration": 16,
    "start_time": "2023-12-23T21:17:50.727Z"
   },
   {
    "duration": 17,
    "start_time": "2023-12-23T21:17:51.097Z"
   },
   {
    "duration": 5,
    "start_time": "2023-12-23T21:17:52.148Z"
   },
   {
    "duration": 5,
    "start_time": "2023-12-23T21:17:53.382Z"
   },
   {
    "duration": 5,
    "start_time": "2023-12-23T21:17:54.374Z"
   },
   {
    "duration": 1343,
    "start_time": "2023-12-23T21:29:06.411Z"
   },
   {
    "duration": 5,
    "start_time": "2023-12-23T21:29:56.413Z"
   },
   {
    "duration": 5,
    "start_time": "2023-12-23T21:30:55.730Z"
   },
   {
    "duration": 4,
    "start_time": "2023-12-23T21:31:51.340Z"
   },
   {
    "duration": 5,
    "start_time": "2023-12-23T21:32:05.961Z"
   },
   {
    "duration": 5,
    "start_time": "2023-12-23T21:34:54.736Z"
   },
   {
    "duration": 6,
    "start_time": "2023-12-23T21:42:00.276Z"
   },
   {
    "duration": 396,
    "start_time": "2023-12-23T23:56:12.333Z"
   },
   {
    "duration": 71,
    "start_time": "2023-12-23T23:56:12.731Z"
   },
   {
    "duration": 12,
    "start_time": "2023-12-23T23:56:12.804Z"
   },
   {
    "duration": 63,
    "start_time": "2023-12-23T23:56:12.818Z"
   },
   {
    "duration": 82,
    "start_time": "2023-12-23T23:56:12.882Z"
   },
   {
    "duration": 11,
    "start_time": "2023-12-23T23:56:12.965Z"
   },
   {
    "duration": 24,
    "start_time": "2023-12-23T23:56:12.978Z"
   },
   {
    "duration": 66,
    "start_time": "2023-12-23T23:56:13.004Z"
   },
   {
    "duration": 10,
    "start_time": "2023-12-23T23:56:13.071Z"
   },
   {
    "duration": 9,
    "start_time": "2023-12-23T23:56:13.083Z"
   },
   {
    "duration": 25,
    "start_time": "2023-12-23T23:56:13.093Z"
   },
   {
    "duration": 9,
    "start_time": "2023-12-23T23:56:13.120Z"
   },
   {
    "duration": 5,
    "start_time": "2023-12-23T23:56:13.131Z"
   },
   {
    "duration": 12,
    "start_time": "2023-12-23T23:56:13.138Z"
   },
   {
    "duration": 7,
    "start_time": "2023-12-23T23:56:13.151Z"
   },
   {
    "duration": 9,
    "start_time": "2023-12-23T23:56:13.159Z"
   },
   {
    "duration": 28,
    "start_time": "2023-12-23T23:56:13.169Z"
   },
   {
    "duration": 5,
    "start_time": "2023-12-23T23:56:13.199Z"
   },
   {
    "duration": 6,
    "start_time": "2023-12-23T23:56:13.206Z"
   },
   {
    "duration": 5,
    "start_time": "2023-12-23T23:56:13.213Z"
   },
   {
    "duration": 10,
    "start_time": "2023-12-23T23:56:13.219Z"
   },
   {
    "duration": 4,
    "start_time": "2023-12-23T23:56:13.231Z"
   },
   {
    "duration": 385,
    "start_time": "2023-12-23T23:56:13.236Z"
   },
   {
    "duration": 189,
    "start_time": "2023-12-23T23:56:13.623Z"
   },
   {
    "duration": 6,
    "start_time": "2023-12-23T23:56:13.814Z"
   },
   {
    "duration": 32,
    "start_time": "2023-12-23T23:56:13.821Z"
   },
   {
    "duration": 132,
    "start_time": "2023-12-23T23:56:13.854Z"
   },
   {
    "duration": 20,
    "start_time": "2023-12-23T23:56:13.989Z"
   },
   {
    "duration": 173,
    "start_time": "2023-12-23T23:56:14.010Z"
   },
   {
    "duration": 7,
    "start_time": "2023-12-23T23:56:14.185Z"
   },
   {
    "duration": 237,
    "start_time": "2023-12-23T23:56:14.194Z"
   },
   {
    "duration": 7,
    "start_time": "2023-12-23T23:56:14.433Z"
   },
   {
    "duration": 187,
    "start_time": "2023-12-23T23:56:14.441Z"
   },
   {
    "duration": 8,
    "start_time": "2023-12-23T23:56:14.630Z"
   },
   {
    "duration": 25,
    "start_time": "2023-12-23T23:56:14.639Z"
   },
   {
    "duration": 32,
    "start_time": "2023-12-23T23:56:14.665Z"
   },
   {
    "duration": 5,
    "start_time": "2023-12-23T23:56:14.699Z"
   },
   {
    "duration": 21,
    "start_time": "2023-12-23T23:56:14.705Z"
   },
   {
    "duration": 20,
    "start_time": "2023-12-23T23:56:14.728Z"
   },
   {
    "duration": 16,
    "start_time": "2023-12-23T23:56:14.750Z"
   },
   {
    "duration": 20,
    "start_time": "2023-12-23T23:56:14.768Z"
   },
   {
    "duration": 11,
    "start_time": "2023-12-23T23:56:14.790Z"
   },
   {
    "duration": 14,
    "start_time": "2023-12-23T23:56:14.802Z"
   },
   {
    "duration": 190,
    "start_time": "2023-12-23T23:56:14.817Z"
   },
   {
    "duration": 196,
    "start_time": "2023-12-23T23:56:15.009Z"
   },
   {
    "duration": 176,
    "start_time": "2023-12-23T23:56:15.206Z"
   },
   {
    "duration": 171,
    "start_time": "2023-12-23T23:56:15.384Z"
   },
   {
    "duration": 14,
    "start_time": "2023-12-23T23:56:15.557Z"
   },
   {
    "duration": 17,
    "start_time": "2023-12-23T23:56:15.572Z"
   },
   {
    "duration": 26,
    "start_time": "2023-12-23T23:56:15.590Z"
   },
   {
    "duration": 42,
    "start_time": "2023-12-23T23:56:15.618Z"
   },
   {
    "duration": 34,
    "start_time": "2023-12-23T23:56:15.661Z"
   },
   {
    "duration": 22,
    "start_time": "2023-12-23T23:56:15.697Z"
   },
   {
    "duration": 22,
    "start_time": "2023-12-23T23:56:15.720Z"
   },
   {
    "duration": 25,
    "start_time": "2023-12-23T23:56:15.744Z"
   },
   {
    "duration": 530,
    "start_time": "2023-12-23T23:56:15.771Z"
   },
   {
    "duration": 5,
    "start_time": "2023-12-23T23:56:16.302Z"
   },
   {
    "duration": 9,
    "start_time": "2023-12-23T23:56:16.308Z"
   },
   {
    "duration": 6,
    "start_time": "2023-12-23T23:59:00.641Z"
   }
  ],
  "kernelspec": {
   "display_name": "Python 3 (ipykernel)",
   "language": "python",
   "name": "python3"
  },
  "language_info": {
   "codemirror_mode": {
    "name": "ipython",
    "version": 3
   },
   "file_extension": ".py",
   "mimetype": "text/x-python",
   "name": "python",
   "nbconvert_exporter": "python",
   "pygments_lexer": "ipython3",
   "version": "3.11.7"
  },
  "toc": {
   "base_numbering": 1,
   "nav_menu": {},
   "number_sections": true,
   "sideBar": true,
   "skip_h1_title": true,
   "title_cell": "Table of Contents",
   "title_sidebar": "Contents",
   "toc_cell": false,
   "toc_position": {},
   "toc_section_display": true,
   "toc_window_display": true
  }
 },
 "nbformat": 4,
 "nbformat_minor": 5
}
